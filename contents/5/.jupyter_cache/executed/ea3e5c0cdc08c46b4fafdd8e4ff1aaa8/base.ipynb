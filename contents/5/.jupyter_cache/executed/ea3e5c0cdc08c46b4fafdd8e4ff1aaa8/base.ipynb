{
 "cells": [
  {
   "cell_type": "code",
   "execution_count": 1,
   "id": "89406c25",
   "metadata": {},
   "outputs": [
    {
     "name": "stderr",
     "output_type": "stream",
     "text": [
      "C:\\Users\\Xinli\\AppData\\Local\\Temp\\ipykernel_19072\\1453120704.py:20: DeprecationWarning: `set_matplotlib_formats` is deprecated since IPython 7.23, directly use `matplotlib_inline.backend_inline.set_matplotlib_formats()`\n",
      "  set_matplotlib_formats(fig_format)\n"
     ]
    },
    {
     "name": "stdout",
     "output_type": "stream",
     "text": [
      "{\"C:\\\\Users\\\\Xinli\\\\mambaforge\\\\envs\\\\base23\\\\lib\\\\importlib\\\\_bootstrap.py\": 1680645435.0, \"C:\\\\Users\\\\Xinli\\\\mambaforge\\\\envs\\\\base23\\\\lib\\\\importlib\\\\_bootstrap_external.py\": 1680645435.0, \"C:\\\\Users\\\\Xinli\\\\mambaforge\\\\envs\\\\base23\\\\lib\\\\codecs.py\": 1680645435.0, \"C:\\\\Users\\\\Xinli\\\\mambaforge\\\\envs\\\\base23\\\\lib\\\\encodings\\\\aliases.py\": 1680645435.0, \"C:\\\\Users\\\\Xinli\\\\mambaforge\\\\envs\\\\base23\\\\lib\\\\encodings\\\\__init__.py\": 1680645435.0, \"C:\\\\Users\\\\Xinli\\\\mambaforge\\\\envs\\\\base23\\\\lib\\\\encodings\\\\utf_8.py\": 1680645435.0, \"C:\\\\Users\\\\Xinli\\\\mambaforge\\\\envs\\\\base23\\\\lib\\\\encodings\\\\cp1252.py\": 1680645435.0, \"C:\\\\Users\\\\Xinli\\\\mambaforge\\\\envs\\\\base23\\\\lib\\\\abc.py\": 1680645435.0, \"C:\\\\Users\\\\Xinli\\\\mambaforge\\\\envs\\\\base23\\\\lib\\\\io.py\": 1680645435.0, \"C:\\\\Users\\\\Xinli\\\\mambaforge\\\\envs\\\\base23\\\\lib\\\\stat.py\": 1680645435.0, \"C:\\\\Users\\\\Xinli\\\\mambaforge\\\\envs\\\\base23\\\\lib\\\\_collections_abc.py\": 1680645435.0, \"C:\\\\Users\\\\Xinli\\\\mambaforge\\\\envs\\\\base23\\\\lib\\\\genericpath.py\": 1680645435.0, \"C:\\\\Users\\\\Xinli\\\\mambaforge\\\\envs\\\\base23\\\\lib\\\\ntpath.py\": 1680645435.0, \"C:\\\\Users\\\\Xinli\\\\mambaforge\\\\envs\\\\base23\\\\lib\\\\os.py\": 1680645435.0, \"C:\\\\Users\\\\Xinli\\\\mambaforge\\\\envs\\\\base23\\\\lib\\\\_sitebuiltins.py\": 1680645435.0, \"C:\\\\Users\\\\Xinli\\\\AppData\\\\Roaming\\\\Python\\\\Python310\\\\site-packages\\\\win32\\\\lib\\\\pywin32_bootstrap.py\": 1660419102.727536, \"C:\\\\Users\\\\Xinli\\\\mambaforge\\\\envs\\\\base23\\\\lib\\\\site-packages\\\\_distutils_hack\\\\__init__.py\": 1673837147.0, \"C:\\\\Users\\\\Xinli\\\\mambaforge\\\\envs\\\\base23\\\\lib\\\\types.py\": 1680645435.0, \"C:\\\\Users\\\\Xinli\\\\mambaforge\\\\envs\\\\base23\\\\lib\\\\warnings.py\": 1680645435.0, \"C:\\\\Users\\\\Xinli\\\\mambaforge\\\\envs\\\\base23\\\\lib\\\\importlib\\\\__init__.py\": 1680645435.0, \"C:\\\\Users\\\\Xinli\\\\mambaforge\\\\envs\\\\base23\\\\lib\\\\importlib\\\\_abc.py\": 1680645435.0, \"C:\\\\Users\\\\Xinli\\\\mambaforge\\\\envs\\\\base23\\\\lib\\\\keyword.py\": 1680645435.0, \"C:\\\\Users\\\\Xinli\\\\mambaforge\\\\envs\\\\base23\\\\lib\\\\operator.py\": 1680645435.0, \"C:\\\\Users\\\\Xinli\\\\mambaforge\\\\envs\\\\base23\\\\lib\\\\reprlib.py\": 1680645435.0, \"C:\\\\Users\\\\Xinli\\\\mambaforge\\\\envs\\\\base23\\\\lib\\\\collections\\\\__init__.py\": 1680645435.0, \"C:\\\\Users\\\\Xinli\\\\mambaforge\\\\envs\\\\base23\\\\lib\\\\functools.py\": 1680645435.0, \"C:\\\\Users\\\\Xinli\\\\mambaforge\\\\envs\\\\base23\\\\lib\\\\contextlib.py\": 1680645435.0, \"C:\\\\Users\\\\Xinli\\\\mambaforge\\\\envs\\\\base23\\\\lib\\\\importlib\\\\util.py\": 1680645435.0, \"C:\\\\Users\\\\Xinli\\\\mambaforge\\\\envs\\\\base23\\\\lib\\\\importlib\\\\machinery.py\": 1680645435.0, \"C:\\\\Users\\\\Xinli\\\\mambaforge\\\\envs\\\\base23\\\\lib\\\\site.py\": 1680645435.0, \"C:\\\\Users\\\\Xinli\\\\mambaforge\\\\envs\\\\base23\\\\lib\\\\runpy.py\": 1680645435.0, \"C:\\\\Users\\\\Xinli\\\\mambaforge\\\\envs\\\\base23\\\\lib\\\\enum.py\": 1680645435.0, \"C:\\\\Users\\\\Xinli\\\\mambaforge\\\\envs\\\\base23\\\\lib\\\\sre_constants.py\": 1680645435.0, \"C:\\\\Users\\\\Xinli\\\\mambaforge\\\\envs\\\\base23\\\\lib\\\\sre_parse.py\": 1680645435.0, \"C:\\\\Users\\\\Xinli\\\\mambaforge\\\\envs\\\\base23\\\\lib\\\\sre_compile.py\": 1680645435.0, \"C:\\\\Users\\\\Xinli\\\\mambaforge\\\\envs\\\\base23\\\\lib\\\\copyreg.py\": 1680645435.0, \"C:\\\\Users\\\\Xinli\\\\mambaforge\\\\envs\\\\base23\\\\lib\\\\re.py\": 1680645435.0, \"C:\\\\Users\\\\Xinli\\\\mambaforge\\\\envs\\\\base23\\\\lib\\\\collections\\\\abc.py\": 1680645435.0, \"C:\\\\Users\\\\Xinli\\\\mambaforge\\\\envs\\\\base23\\\\lib\\\\typing.py\": 1680645435.0, \"C:\\\\Users\\\\Xinli\\\\AppData\\\\Roaming\\\\Python\\\\Python310\\\\site-packages\\\\ipykernel\\\\_version.py\": 1660419125.0751853, \"C:\\\\Users\\\\Xinli\\\\mambaforge\\\\envs\\\\base23\\\\lib\\\\json\\\\scanner.py\": 1680645435.0, \"C:\\\\Users\\\\Xinli\\\\mambaforge\\\\envs\\\\base23\\\\lib\\\\json\\\\decoder.py\": 1680645435.0, \"C:\\\\Users\\\\Xinli\\\\mambaforge\\\\envs\\\\base23\\\\lib\\\\json\\\\encoder.py\": 1680645435.0, \"C:\\\\Users\\\\Xinli\\\\mambaforge\\\\envs\\\\base23\\\\lib\\\\json\\\\__init__.py\": 1680645435.0, \"C:\\\\Users\\\\Xinli\\\\mambaforge\\\\envs\\\\base23\\\\lib\\\\signal.py\": 1680645435.0, \"C:\\\\Users\\\\Xinli\\\\mambaforge\\\\envs\\\\base23\\\\lib\\\\_weakrefset.py\": 1680645435.0, \"C:\\\\Users\\\\Xinli\\\\mambaforge\\\\envs\\\\base23\\\\lib\\\\threading.py\": 1680645435.0, \"C:\\\\Users\\\\Xinli\\\\mambaforge\\\\envs\\\\base23\\\\lib\\\\subprocess.py\": 1680645435.0, \"C:\\\\Users\\\\Xinli\\\\AppData\\\\Roaming\\\\Python\\\\Python310\\\\site-packages\\\\jupyter_client\\\\_version.py\": 1660419121.7115028, \"C:\\\\Users\\\\Xinli\\\\mambaforge\\\\envs\\\\base23\\\\lib\\\\ast.py\": 1680645435.0, \"C:\\\\Users\\\\Xinli\\\\mambaforge\\\\envs\\\\base23\\\\lib\\\\opcode.py\": 1680645435.0, \"C:\\\\Users\\\\Xinli\\\\mambaforge\\\\envs\\\\base23\\\\lib\\\\dis.py\": 1680645435.0, \"C:\\\\Users\\\\Xinli\\\\mambaforge\\\\envs\\\\base23\\\\lib\\\\token.py\": 1680645435.0, \"C:\\\\Users\\\\Xinli\\\\mambaforge\\\\envs\\\\base23\\\\lib\\\\tokenize.py\": 1680645435.0, \"C:\\\\Users\\\\Xinli\\\\mambaforge\\\\envs\\\\base23\\\\lib\\\\linecache.py\": 1680645435.0, \"C:\\\\Users\\\\Xinli\\\\mambaforge\\\\envs\\\\base23\\\\lib\\\\inspect.py\": 1680645435.0, \"C:\\\\Users\\\\Xinli\\\\AppData\\\\Roaming\\\\Python\\\\Python310\\\\site-packages\\\\traitlets\\\\utils\\\\__init__.py\": 1660419107.5592618, \"C:\\\\Users\\\\Xinli\\\\AppData\\\\Roaming\\\\Python\\\\Python310\\\\site-packages\\\\traitlets\\\\utils\\\\bunch.py\": 1660419107.5602617, \"C:\\\\Users\\\\Xinli\\\\AppData\\\\Roaming\\\\Python\\\\Python310\\\\site-packages\\\\traitlets\\\\utils\\\\descriptions.py\": 1660419107.5602617, \"C:\\\\Users\\\\Xinli\\\\AppData\\\\Roaming\\\\Python\\\\Python310\\\\site-packages\\\\traitlets\\\\utils\\\\getargspec.py\": 1660419107.5612617, \"C:\\\\Users\\\\Xinli\\\\AppData\\\\Roaming\\\\Python\\\\Python310\\\\site-packages\\\\traitlets\\\\utils\\\\importstring.py\": 1660419107.5612617, \"C:\\\\Users\\\\Xinli\\\\AppData\\\\Roaming\\\\Python\\\\Python310\\\\site-packages\\\\traitlets\\\\utils\\\\sentinel.py\": 1660419107.562262, \"C:\\\\Users\\\\Xinli\\\\AppData\\\\Roaming\\\\Python\\\\Python310\\\\site-packages\\\\traitlets\\\\traitlets.py\": 1660419107.5501068, \"C:\\\\Users\\\\Xinli\\\\AppData\\\\Roaming\\\\Python\\\\Python310\\\\site-packages\\\\traitlets\\\\_version.py\": 1660419107.5481074, \"C:\\\\Users\\\\Xinli\\\\mambaforge\\\\envs\\\\base23\\\\lib\\\\weakref.py\": 1680645435.0, \"C:\\\\Users\\\\Xinli\\\\mambaforge\\\\envs\\\\base23\\\\lib\\\\copy.py\": 1680645435.0, \"C:\\\\Users\\\\Xinli\\\\AppData\\\\Roaming\\\\Python\\\\Python310\\\\site-packages\\\\traitlets\\\\utils\\\\decorators.py\": 1660419107.5602617, \"C:\\\\Users\\\\Xinli\\\\AppData\\\\Roaming\\\\Python\\\\Python310\\\\site-packages\\\\traitlets\\\\__init__.py\": 1660419107.5471072, \"C:\\\\Users\\\\Xinli\\\\mambaforge\\\\envs\\\\base23\\\\lib\\\\concurrent\\\\__init__.py\": 1680645435.0, \"C:\\\\Users\\\\Xinli\\\\mambaforge\\\\envs\\\\base23\\\\lib\\\\traceback.py\": 1680645435.0, \"C:\\\\Users\\\\Xinli\\\\mambaforge\\\\envs\\\\base23\\\\lib\\\\string.py\": 1680645435.0, \"C:\\\\Users\\\\Xinli\\\\mambaforge\\\\envs\\\\base23\\\\lib\\\\logging\\\\__init__.py\": 1680645435.0, \"C:\\\\Users\\\\Xinli\\\\mambaforge\\\\envs\\\\base23\\\\lib\\\\concurrent\\\\futures\\\\_base.py\": 1680645435.0, \"C:\\\\Users\\\\Xinli\\\\mambaforge\\\\envs\\\\base23\\\\lib\\\\concurrent\\\\futures\\\\__init__.py\": 1680645435.0, \"C:\\\\Users\\\\Xinli\\\\mambaforge\\\\envs\\\\base23\\\\lib\\\\heapq.py\": 1680645435.0, \"C:\\\\Users\\\\Xinli\\\\mambaforge\\\\envs\\\\base23\\\\DLLs\\\\_socket.pyd\": 1683744841.62246, \"C:\\\\Users\\\\Xinli\\\\mambaforge\\\\envs\\\\base23\\\\DLLs\\\\select.pyd\": 1683744830.280513, \"C:\\\\Users\\\\Xinli\\\\mambaforge\\\\envs\\\\base23\\\\lib\\\\selectors.py\": 1680645435.0, \"C:\\\\Users\\\\Xinli\\\\mambaforge\\\\envs\\\\base23\\\\lib\\\\socket.py\": 1680645435.0, \"C:\\\\Users\\\\Xinli\\\\mambaforge\\\\envs\\\\base23\\\\DLLs\\\\_ssl.pyd\": 1683744844.544613, \"C:\\\\Users\\\\Xinli\\\\mambaforge\\\\envs\\\\base23\\\\lib\\\\struct.py\": 1680645435.0, \"C:\\\\Users\\\\Xinli\\\\mambaforge\\\\envs\\\\base23\\\\lib\\\\base64.py\": 1680645435.0, \"C:\\\\Users\\\\Xinli\\\\mambaforge\\\\envs\\\\base23\\\\lib\\\\ssl.py\": 1680645435.0, \"C:\\\\Users\\\\Xinli\\\\mambaforge\\\\envs\\\\base23\\\\lib\\\\asyncio\\\\constants.py\": 1680645435.0, \"C:\\\\Users\\\\Xinli\\\\mambaforge\\\\envs\\\\base23\\\\lib\\\\asyncio\\\\format_helpers.py\": 1680645435.0, \"C:\\\\Users\\\\Xinli\\\\mambaforge\\\\envs\\\\base23\\\\lib\\\\asyncio\\\\base_futures.py\": 1680645435.0, \"C:\\\\Users\\\\Xinli\\\\mambaforge\\\\envs\\\\base23\\\\lib\\\\asyncio\\\\log.py\": 1680645435.0, \"C:\\\\Users\\\\Xinli\\\\mambaforge\\\\envs\\\\base23\\\\lib\\\\asyncio\\\\coroutines.py\": 1680645435.0, \"C:\\\\Users\\\\Xinli\\\\mambaforge\\\\envs\\\\base23\\\\lib\\\\contextvars.py\": 1680645435.0, \"C:\\\\Users\\\\Xinli\\\\mambaforge\\\\envs\\\\base23\\\\lib\\\\asyncio\\\\exceptions.py\": 1680645435.0, \"C:\\\\Users\\\\Xinli\\\\mambaforge\\\\envs\\\\base23\\\\lib\\\\asyncio\\\\base_tasks.py\": 1680645435.0, \"C:\\\\Users\\\\Xinli\\\\mambaforge\\\\envs\\\\base23\\\\DLLs\\\\_asyncio.pyd\": 1683744821.498495, \"C:\\\\Users\\\\Xinli\\\\mambaforge\\\\envs\\\\base23\\\\lib\\\\asyncio\\\\events.py\": 1680645435.0, \"C:\\\\Users\\\\Xinli\\\\mambaforge\\\\envs\\\\base23\\\\lib\\\\asyncio\\\\futures.py\": 1680645435.0, \"C:\\\\Users\\\\Xinli\\\\mambaforge\\\\envs\\\\base23\\\\lib\\\\asyncio\\\\protocols.py\": 1680645435.0, \"C:\\\\Users\\\\Xinli\\\\mambaforge\\\\envs\\\\base23\\\\lib\\\\asyncio\\\\transports.py\": 1680645435.0, \"C:\\\\Users\\\\Xinli\\\\mambaforge\\\\envs\\\\base23\\\\lib\\\\asyncio\\\\sslproto.py\": 1680645435.0, \"C:\\\\Users\\\\Xinli\\\\mambaforge\\\\envs\\\\base23\\\\lib\\\\asyncio\\\\mixins.py\": 1680645435.0, \"C:\\\\Users\\\\Xinli\\\\mambaforge\\\\envs\\\\base23\\\\lib\\\\asyncio\\\\tasks.py\": 1680645435.0, \"C:\\\\Users\\\\Xinli\\\\mambaforge\\\\envs\\\\base23\\\\lib\\\\asyncio\\\\locks.py\": 1680645435.0, \"C:\\\\Users\\\\Xinli\\\\mambaforge\\\\envs\\\\base23\\\\lib\\\\asyncio\\\\staggered.py\": 1680645435.0, \"C:\\\\Users\\\\Xinli\\\\mambaforge\\\\envs\\\\base23\\\\lib\\\\asyncio\\\\trsock.py\": 1680645435.0, \"C:\\\\Users\\\\Xinli\\\\mambaforge\\\\envs\\\\base23\\\\lib\\\\asyncio\\\\base_events.py\": 1680645435.0, \"C:\\\\Users\\\\Xinli\\\\mambaforge\\\\envs\\\\base23\\\\lib\\\\asyncio\\\\runners.py\": 1680645435.0, \"C:\\\\Users\\\\Xinli\\\\mambaforge\\\\envs\\\\base23\\\\lib\\\\asyncio\\\\queues.py\": 1680645435.0, \"C:\\\\Users\\\\Xinli\\\\mambaforge\\\\envs\\\\base23\\\\lib\\\\asyncio\\\\streams.py\": 1680645435.0, \"C:\\\\Users\\\\Xinli\\\\mambaforge\\\\envs\\\\base23\\\\lib\\\\asyncio\\\\subprocess.py\": 1680645435.0, \"C:\\\\Users\\\\Xinli\\\\mambaforge\\\\envs\\\\base23\\\\lib\\\\asyncio\\\\threads.py\": 1680645435.0, \"C:\\\\Users\\\\Xinli\\\\mambaforge\\\\envs\\\\base23\\\\DLLs\\\\_overlapped.pyd\": 1683744827.764723, \"C:\\\\Users\\\\Xinli\\\\mambaforge\\\\envs\\\\base23\\\\lib\\\\asyncio\\\\base_subprocess.py\": 1680645435.0, \"C:\\\\Users\\\\Xinli\\\\mambaforge\\\\envs\\\\base23\\\\lib\\\\asyncio\\\\proactor_events.py\": 1680645435.0, \"C:\\\\Users\\\\Xinli\\\\mambaforge\\\\envs\\\\base23\\\\lib\\\\asyncio\\\\selector_events.py\": 1680645435.0, \"C:\\\\Users\\\\Xinli\\\\mambaforge\\\\envs\\\\base23\\\\lib\\\\posixpath.py\": 1680645435.0, \"C:\\\\Users\\\\Xinli\\\\mambaforge\\\\envs\\\\base23\\\\lib\\\\fnmatch.py\": 1680645435.0, \"C:\\\\Users\\\\Xinli\\\\mambaforge\\\\envs\\\\base23\\\\lib\\\\_compression.py\": 1680645435.0, \"C:\\\\Users\\\\Xinli\\\\mambaforge\\\\envs\\\\base23\\\\DLLs\\\\_bz2.pyd\": 1683744835.276397, \"C:\\\\Users\\\\Xinli\\\\mambaforge\\\\envs\\\\base23\\\\lib\\\\bz2.py\": 1680645435.0, \"C:\\\\Users\\\\Xinli\\\\mambaforge\\\\envs\\\\base23\\\\DLLs\\\\_lzma.pyd\": 1683744837.964027, \"C:\\\\Users\\\\Xinli\\\\mambaforge\\\\envs\\\\base23\\\\lib\\\\lzma.py\": 1680645435.0, \"C:\\\\Users\\\\Xinli\\\\mambaforge\\\\envs\\\\base23\\\\lib\\\\shutil.py\": 1680645435.0, \"C:\\\\Users\\\\Xinli\\\\mambaforge\\\\envs\\\\base23\\\\lib\\\\bisect.py\": 1680645435.0, \"C:\\\\Users\\\\Xinli\\\\mambaforge\\\\envs\\\\base23\\\\lib\\\\random.py\": 1680645435.0, \"C:\\\\Users\\\\Xinli\\\\mambaforge\\\\envs\\\\base23\\\\lib\\\\tempfile.py\": 1680645435.0, \"C:\\\\Users\\\\Xinli\\\\mambaforge\\\\envs\\\\base23\\\\lib\\\\asyncio\\\\windows_utils.py\": 1680645435.0, \"C:\\\\Users\\\\Xinli\\\\mambaforge\\\\envs\\\\base23\\\\lib\\\\asyncio\\\\windows_events.py\": 1680645435.0, \"C:\\\\Users\\\\Xinli\\\\mambaforge\\\\envs\\\\base23\\\\lib\\\\asyncio\\\\__init__.py\": 1680645435.0, \"C:\\\\Users\\\\Xinli\\\\mambaforge\\\\envs\\\\base23\\\\DLLs\\\\_queue.pyd\": 1683744830.186695, \"C:\\\\Users\\\\Xinli\\\\mambaforge\\\\envs\\\\base23\\\\lib\\\\queue.py\": 1680645435.0, \"C:\\\\Users\\\\Xinli\\\\mambaforge\\\\envs\\\\base23\\\\lib\\\\platform.py\": 1683744635.467213, \"C:\\\\Users\\\\Xinli\\\\AppData\\\\Roaming\\\\Python\\\\Python310\\\\site-packages\\\\zmq\\\\backend\\\\select.py\": 1660419109.0825603, \"C:\\\\Users\\\\Xinli\\\\AppData\\\\Roaming\\\\Python\\\\Python310\\\\site-packages\\\\zmq\\\\error.py\": 1660419109.0742207, \"C:\\\\Users\\\\Xinli\\\\AppData\\\\Roaming\\\\Python\\\\Python310\\\\site-packages\\\\zmq\\\\backend\\\\cython\\\\context.cp310-win_amd64.pyd\": 1660419109.0927043, \"C:\\\\Users\\\\Xinli\\\\AppData\\\\Roaming\\\\Python\\\\Python310\\\\site-packages\\\\zmq\\\\backend\\\\cython\\\\message.cp310-win_amd64.pyd\": 1660419109.0952861, \"C:\\\\Users\\\\Xinli\\\\mambaforge\\\\envs\\\\base23\\\\lib\\\\_compat_pickle.py\": 1680645435.0, \"C:\\\\Users\\\\Xinli\\\\mambaforge\\\\envs\\\\base23\\\\lib\\\\pickle.py\": 1680645435.0, \"C:\\\\Users\\\\Xinli\\\\AppData\\\\Roaming\\\\Python\\\\Python310\\\\site-packages\\\\zmq\\\\constants.py\": 1660419109.072721, \"C:\\\\Users\\\\Xinli\\\\AppData\\\\Roaming\\\\Python\\\\Python310\\\\site-packages\\\\zmq\\\\backend\\\\cython\\\\socket.cp310-win_amd64.pyd\": 1660419109.0973125, \"C:\\\\Users\\\\Xinli\\\\AppData\\\\Roaming\\\\Python\\\\Python310\\\\site-packages\\\\zmq\\\\backend\\\\cython\\\\_device.cp310-win_amd64.pyd\": 1660419109.0993104, \"C:\\\\Users\\\\Xinli\\\\AppData\\\\Roaming\\\\Python\\\\Python310\\\\site-packages\\\\zmq\\\\backend\\\\cython\\\\_poll.cp310-win_amd64.pyd\": 1660419109.0997813, \"C:\\\\Users\\\\Xinli\\\\AppData\\\\Roaming\\\\Python\\\\Python310\\\\site-packages\\\\zmq\\\\backend\\\\cython\\\\_proxy_steerable.cp310-win_amd64.pyd\": 1660419109.100986, \"C:\\\\Users\\\\Xinli\\\\AppData\\\\Roaming\\\\Python\\\\Python310\\\\site-packages\\\\zmq\\\\backend\\\\cython\\\\_version.cp310-win_amd64.pyd\": 1660419109.1013963, \"C:\\\\Users\\\\Xinli\\\\AppData\\\\Roaming\\\\Python\\\\Python310\\\\site-packages\\\\zmq\\\\backend\\\\cython\\\\error.cp310-win_amd64.pyd\": 1660419109.0937033, \"C:\\\\Users\\\\Xinli\\\\AppData\\\\Roaming\\\\Python\\\\Python310\\\\site-packages\\\\zmq\\\\backend\\\\cython\\\\utils.cp310-win_amd64.pyd\": 1660419109.0983107, \"C:\\\\Users\\\\Xinli\\\\AppData\\\\Roaming\\\\Python\\\\Python310\\\\site-packages\\\\zmq\\\\backend\\\\cython\\\\__init__.py\": 1660419109.1037395, \"C:\\\\Users\\\\Xinli\\\\AppData\\\\Roaming\\\\Python\\\\Python310\\\\site-packages\\\\zmq\\\\backend\\\\__init__.py\": 1660419109.0836835, \"C:\\\\Users\\\\Xinli\\\\AppData\\\\Roaming\\\\Python\\\\Python310\\\\site-packages\\\\zmq\\\\sugar\\\\attrsettr.py\": 1660419109.132522, \"C:\\\\Users\\\\Xinli\\\\AppData\\\\Roaming\\\\Python\\\\Python310\\\\site-packages\\\\zmq\\\\_typing.py\": 1660419109.0766876, \"C:\\\\Users\\\\Xinli\\\\AppData\\\\Roaming\\\\Python\\\\Python310\\\\site-packages\\\\zmq\\\\utils\\\\__init__.py\": 1660419109.1725852, \"C:\\\\Users\\\\Xinli\\\\AppData\\\\Roaming\\\\Python\\\\Python310\\\\site-packages\\\\zmq\\\\utils\\\\jsonapi.py\": 1660419109.166969, \"C:\\\\Users\\\\Xinli\\\\AppData\\\\Roaming\\\\Python\\\\Python310\\\\site-packages\\\\zmq\\\\sugar\\\\poll.py\": 1660419109.1345224, \"C:\\\\Users\\\\Xinli\\\\AppData\\\\Roaming\\\\Python\\\\Python310\\\\site-packages\\\\zmq\\\\sugar\\\\socket.py\": 1660419109.1358788, \"C:\\\\Users\\\\Xinli\\\\AppData\\\\Roaming\\\\Python\\\\Python310\\\\site-packages\\\\zmq\\\\sugar\\\\context.py\": 1660419109.133523, \"C:\\\\Users\\\\Xinli\\\\AppData\\\\Roaming\\\\Python\\\\Python310\\\\site-packages\\\\zmq\\\\sugar\\\\frame.py\": 1660419109.133523, \"C:\\\\Users\\\\Xinli\\\\AppData\\\\Roaming\\\\Python\\\\Python310\\\\site-packages\\\\zmq\\\\sugar\\\\tracker.py\": 1660419109.137381, \"C:\\\\Users\\\\Xinli\\\\AppData\\\\Roaming\\\\Python\\\\Python310\\\\site-packages\\\\zmq\\\\sugar\\\\version.py\": 1660419109.1382468, \"C:\\\\Users\\\\Xinli\\\\AppData\\\\Roaming\\\\Python\\\\Python310\\\\site-packages\\\\zmq\\\\sugar\\\\stopwatch.py\": 1660419109.136881, \"C:\\\\Users\\\\Xinli\\\\AppData\\\\Roaming\\\\Python\\\\Python310\\\\site-packages\\\\zmq\\\\sugar\\\\__init__.py\": 1660419109.138749, \"C:\\\\Users\\\\Xinli\\\\AppData\\\\Roaming\\\\Python\\\\Python310\\\\site-packages\\\\zmq\\\\__init__.py\": 1660419109.077974, \"C:\\\\Users\\\\Xinli\\\\AppData\\\\Roaming\\\\Python\\\\Python310\\\\site-packages\\\\zmq\\\\_future.py\": 1660419109.0755928, \"C:\\\\Users\\\\Xinli\\\\AppData\\\\Roaming\\\\Python\\\\Python310\\\\site-packages\\\\zmq\\\\asyncio.py\": 1660419109.072006, \"C:\\\\Users\\\\Xinli\\\\AppData\\\\Roaming\\\\Python\\\\Python310\\\\site-packages\\\\jupyter_client\\\\channelsabc.py\": 1660419121.7131977, \"C:\\\\Users\\\\Xinli\\\\mambaforge\\\\envs\\\\base23\\\\DLLs\\\\_hashlib.pyd\": 1683744839.980386, \"C:\\\\Users\\\\Xinli\\\\mambaforge\\\\envs\\\\base23\\\\lib\\\\hashlib.py\": 1680645435.0, \"C:\\\\Users\\\\Xinli\\\\mambaforge\\\\envs\\\\base23\\\\lib\\\\hmac.py\": 1680645435.0, \"C:\\\\Users\\\\Xinli\\\\mambaforge\\\\envs\\\\base23\\\\lib\\\\dataclasses.py\": 1680645435.0, \"C:\\\\Users\\\\Xinli\\\\mambaforge\\\\envs\\\\base23\\\\lib\\\\pprint.py\": 1680645435.0, \"C:\\\\Users\\\\Xinli\\\\mambaforge\\\\envs\\\\base23\\\\lib\\\\datetime.py\": 1680645435.0, \"C:\\\\Users\\\\Xinli\\\\mambaforge\\\\envs\\\\base23\\\\lib\\\\logging\\\\handlers.py\": 1680645435.0, \"C:\\\\Users\\\\Xinli\\\\mambaforge\\\\envs\\\\base23\\\\lib\\\\socketserver.py\": 1680645435.0, \"C:\\\\Users\\\\Xinli\\\\mambaforge\\\\envs\\\\base23\\\\lib\\\\logging\\\\config.py\": 1680645435.0, \"C:\\\\Users\\\\Xinli\\\\mambaforge\\\\envs\\\\base23\\\\lib\\\\textwrap.py\": 1680645435.0, \"C:\\\\Users\\\\Xinli\\\\AppData\\\\Roaming\\\\Python\\\\Python310\\\\site-packages\\\\traitlets\\\\utils\\\\text.py\": 1660419107.5632615, \"C:\\\\Users\\\\Xinli\\\\mambaforge\\\\envs\\\\base23\\\\lib\\\\gettext.py\": 1680645435.0, \"C:\\\\Users\\\\Xinli\\\\mambaforge\\\\envs\\\\base23\\\\lib\\\\argparse.py\": 1680645435.0, \"C:\\\\Users\\\\Xinli\\\\AppData\\\\Roaming\\\\Python\\\\Python310\\\\site-packages\\\\traitlets\\\\config\\\\loader.py\": 1660419107.5521092, \"C:\\\\Users\\\\Xinli\\\\AppData\\\\Roaming\\\\Python\\\\Python310\\\\site-packages\\\\traitlets\\\\config\\\\configurable.py\": 1660419107.5511072, \"C:\\\\Users\\\\Xinli\\\\AppData\\\\Roaming\\\\Python\\\\Python310\\\\site-packages\\\\traitlets\\\\utils\\\\nested_update.py\": 1660419107.562262, \"C:\\\\Users\\\\Xinli\\\\AppData\\\\Roaming\\\\Python\\\\Python310\\\\site-packages\\\\traitlets\\\\config\\\\application.py\": 1660419107.5511072, \"C:\\\\Users\\\\Xinli\\\\AppData\\\\Roaming\\\\Python\\\\Python310\\\\site-packages\\\\traitlets\\\\config\\\\__init__.py\": 1660419107.5501068, \"C:\\\\Users\\\\Xinli\\\\AppData\\\\Roaming\\\\Python\\\\Python310\\\\site-packages\\\\traitlets\\\\log.py\": 1660419107.5481074, \"C:\\\\Users\\\\Xinli\\\\AppData\\\\Roaming\\\\Python\\\\Python310\\\\site-packages\\\\tornado\\\\__init__.py\": 1660419107.869627, \"C:\\\\Users\\\\Xinli\\\\mambaforge\\\\envs\\\\base23\\\\lib\\\\numbers.py\": 1680645435.0, \"C:\\\\Users\\\\Xinli\\\\mambaforge\\\\envs\\\\base23\\\\lib\\\\html\\\\entities.py\": 1680645435.0, \"C:\\\\Users\\\\Xinli\\\\mambaforge\\\\envs\\\\base23\\\\lib\\\\html\\\\__init__.py\": 1680645435.0, \"C:\\\\Users\\\\Xinli\\\\mambaforge\\\\envs\\\\base23\\\\lib\\\\urllib\\\\__init__.py\": 1680645435.0, \"C:\\\\Users\\\\Xinli\\\\mambaforge\\\\envs\\\\base23\\\\lib\\\\urllib\\\\parse.py\": 1680645435.0, \"C:\\\\Users\\\\Xinli\\\\AppData\\\\Roaming\\\\Python\\\\Python310\\\\site-packages\\\\tornado\\\\speedups.pyd\": 1660419107.8821132, \"C:\\\\Users\\\\Xinli\\\\AppData\\\\Roaming\\\\Python\\\\Python310\\\\site-packages\\\\tornado\\\\util.py\": 1660419107.8858745, \"C:\\\\Users\\\\Xinli\\\\AppData\\\\Roaming\\\\Python\\\\Python310\\\\site-packages\\\\tornado\\\\escape.py\": 1660419107.8736098, \"C:\\\\Users\\\\Xinli\\\\AppData\\\\Roaming\\\\Python\\\\Python310\\\\site-packages\\\\colorama\\\\ansi.py\": 1660419118.7142537, \"C:\\\\Users\\\\Xinli\\\\mambaforge\\\\envs\\\\base23\\\\DLLs\\\\_ctypes.pyd\": 1683744842.091189, \"C:\\\\Users\\\\Xinli\\\\mambaforge\\\\envs\\\\base23\\\\lib\\\\ctypes\\\\_endian.py\": 1680645435.0, \"C:\\\\Users\\\\Xinli\\\\mambaforge\\\\envs\\\\base23\\\\lib\\\\ctypes\\\\__init__.py\": 1680645435.0, \"C:\\\\Users\\\\Xinli\\\\mambaforge\\\\envs\\\\base23\\\\lib\\\\ctypes\\\\wintypes.py\": 1680645435.0, \"C:\\\\Users\\\\Xinli\\\\AppData\\\\Roaming\\\\Python\\\\Python310\\\\site-packages\\\\colorama\\\\win32.py\": 1660419118.7162542, \"C:\\\\Users\\\\Xinli\\\\AppData\\\\Roaming\\\\Python\\\\Python310\\\\site-packages\\\\colorama\\\\winterm.py\": 1660419118.7162542, \"C:\\\\Users\\\\Xinli\\\\AppData\\\\Roaming\\\\Python\\\\Python310\\\\site-packages\\\\colorama\\\\ansitowin32.py\": 1660419118.7152538, \"C:\\\\Users\\\\Xinli\\\\AppData\\\\Roaming\\\\Python\\\\Python310\\\\site-packages\\\\colorama\\\\initialise.py\": 1660419118.7152538, \"C:\\\\Users\\\\Xinli\\\\AppData\\\\Roaming\\\\Python\\\\Python310\\\\site-packages\\\\colorama\\\\__init__.py\": 1660419118.7142537, \"C:\\\\Users\\\\Xinli\\\\AppData\\\\Roaming\\\\Python\\\\Python310\\\\site-packages\\\\tornado\\\\log.py\": 1660419107.8786101, \"C:\\\\Users\\\\Xinli\\\\AppData\\\\Roaming\\\\Python\\\\Python310\\\\site-packages\\\\tornado\\\\concurrent.py\": 1660419107.8726144, \"C:\\\\Users\\\\Xinli\\\\AppData\\\\Roaming\\\\Python\\\\Python310\\\\site-packages\\\\tornado\\\\ioloop.py\": 1660419107.87661, \"C:\\\\Users\\\\Xinli\\\\AppData\\\\Roaming\\\\Python\\\\Python310\\\\site-packages\\\\tornado\\\\platform\\\\__init__.py\": 1660419107.8883116, \"C:\\\\Users\\\\Xinli\\\\AppData\\\\Roaming\\\\Python\\\\Python310\\\\site-packages\\\\tornado\\\\gen.py\": 1660419107.8736098, \"C:\\\\Users\\\\Xinli\\\\AppData\\\\Roaming\\\\Python\\\\Python310\\\\site-packages\\\\tornado\\\\platform\\\\asyncio.py\": 1660419107.8895936, \"C:\\\\Users\\\\Xinli\\\\AppData\\\\Roaming\\\\Python\\\\Python310\\\\site-packages\\\\zmq\\\\eventloop\\\\ioloop.py\": 1660419109.1109803, \"C:\\\\Users\\\\Xinli\\\\AppData\\\\Roaming\\\\Python\\\\Python310\\\\site-packages\\\\zmq\\\\eventloop\\\\__init__.py\": 1660419109.1135252, \"C:\\\\Users\\\\Xinli\\\\AppData\\\\Roaming\\\\Python\\\\Python310\\\\site-packages\\\\zmq\\\\eventloop\\\\zmqstream.py\": 1660419109.11198, \"C:\\\\Users\\\\Xinli\\\\AppData\\\\Roaming\\\\Python\\\\Python310\\\\site-packages\\\\jupyter_client\\\\adapter.py\": 1660419121.712172, \"C:\\\\Users\\\\Xinli\\\\AppData\\\\Roaming\\\\Python\\\\Python310\\\\site-packages\\\\dateutil\\\\_version.py\": 1660419118.7686427, \"C:\\\\Users\\\\Xinli\\\\AppData\\\\Roaming\\\\Python\\\\Python310\\\\site-packages\\\\dateutil\\\\__init__.py\": 1660419118.767161, \"C:\\\\Users\\\\Xinli\\\\mambaforge\\\\envs\\\\base23\\\\lib\\\\__future__.py\": 1680645435.0, \"C:\\\\Users\\\\Xinli\\\\mambaforge\\\\envs\\\\base23\\\\lib\\\\locale.py\": 1680645435.0, \"C:\\\\Users\\\\Xinli\\\\mambaforge\\\\envs\\\\base23\\\\lib\\\\calendar.py\": 1680645435.0, \"C:\\\\Users\\\\Xinli\\\\AppData\\\\Roaming\\\\Python\\\\Python310\\\\site-packages\\\\six.py\": 1660419109.021443, \"C:\\\\Users\\\\Xinli\\\\mambaforge\\\\envs\\\\base23\\\\DLLs\\\\_decimal.pyd\": 1683744836.979625, \"C:\\\\Users\\\\Xinli\\\\mambaforge\\\\envs\\\\base23\\\\lib\\\\decimal.py\": 1680645435.0, \"C:\\\\Users\\\\Xinli\\\\AppData\\\\Roaming\\\\Python\\\\Python310\\\\site-packages\\\\dateutil\\\\_common.py\": 1660419118.7680755, \"C:\\\\Users\\\\Xinli\\\\AppData\\\\Roaming\\\\Python\\\\Python310\\\\site-packages\\\\dateutil\\\\relativedelta.py\": 1660419118.7696688, \"C:\\\\Users\\\\Xinli\\\\AppData\\\\Roaming\\\\Python\\\\Python310\\\\site-packages\\\\dateutil\\\\tz\\\\_common.py\": 1660419118.7746682, \"C:\\\\Users\\\\Xinli\\\\AppData\\\\Roaming\\\\Python\\\\Python310\\\\site-packages\\\\dateutil\\\\tz\\\\_factories.py\": 1660419118.7756674, \"C:\\\\Users\\\\Xinli\\\\AppData\\\\Roaming\\\\Python\\\\Python310\\\\site-packages\\\\dateutil\\\\tz\\\\win.py\": 1660419118.7766664, \"C:\\\\Users\\\\Xinli\\\\AppData\\\\Roaming\\\\Python\\\\Python310\\\\site-packages\\\\dateutil\\\\tz\\\\tz.py\": 1660419118.7766664, \"C:\\\\Users\\\\Xinli\\\\AppData\\\\Roaming\\\\Python\\\\Python310\\\\site-packages\\\\dateutil\\\\tz\\\\__init__.py\": 1660419118.7746682, \"C:\\\\Users\\\\Xinli\\\\AppData\\\\Roaming\\\\Python\\\\Python310\\\\site-packages\\\\dateutil\\\\parser\\\\_parser.py\": 1660419118.7737083, \"C:\\\\Users\\\\Xinli\\\\AppData\\\\Roaming\\\\Python\\\\Python310\\\\site-packages\\\\dateutil\\\\parser\\\\isoparser.py\": 1660419118.7737083, \"C:\\\\Users\\\\Xinli\\\\AppData\\\\Roaming\\\\Python\\\\Python310\\\\site-packages\\\\dateutil\\\\parser\\\\__init__.py\": 1660419118.7726903, \"C:\\\\Users\\\\Xinli\\\\mambaforge\\\\envs\\\\base23\\\\lib\\\\_strptime.py\": 1680645435.0, \"C:\\\\Users\\\\Xinli\\\\AppData\\\\Roaming\\\\Python\\\\Python310\\\\site-packages\\\\jupyter_client\\\\jsonutil.py\": 1660419121.7161965, \"C:\\\\Users\\\\Xinli\\\\AppData\\\\Roaming\\\\Python\\\\Python310\\\\site-packages\\\\jupyter_client\\\\session.py\": 1660419121.722319, \"C:\\\\Users\\\\Xinli\\\\AppData\\\\Roaming\\\\Python\\\\Python310\\\\site-packages\\\\jupyter_client\\\\channels.py\": 1660419121.7131977, \"C:\\\\Users\\\\Xinli\\\\mambaforge\\\\envs\\\\base23\\\\lib\\\\getpass.py\": 1680645435.0, \"C:\\\\Users\\\\Xinli\\\\AppData\\\\Roaming\\\\Python\\\\Python310\\\\site-packages\\\\jupyter_client\\\\clientabc.py\": 1660419121.7142003, \"C:\\\\Users\\\\Xinli\\\\mambaforge\\\\envs\\\\base23\\\\lib\\\\glob.py\": 1680645435.0, \"C:\\\\Users\\\\Xinli\\\\AppData\\\\Roaming\\\\Python\\\\Python310\\\\site-packages\\\\jupyter_core\\\\version.py\": 1660419119.126458, \"C:\\\\Users\\\\Xinli\\\\AppData\\\\Roaming\\\\Python\\\\Python310\\\\site-packages\\\\jupyter_core\\\\__init__.py\": 1660419119.1204593, \"C:\\\\Users\\\\Xinli\\\\mambaforge\\\\envs\\\\base23\\\\lib\\\\pathlib.py\": 1680645435.0, \"C:\\\\Users\\\\Xinli\\\\AppData\\\\Roaming\\\\Python\\\\Python310\\\\site-packages\\\\jupyter_core\\\\paths.py\": 1660419119.1244588, \"C:\\\\Users\\\\Xinli\\\\AppData\\\\Roaming\\\\Python\\\\Python310\\\\site-packages\\\\jupyter_client\\\\localinterfaces.py\": 1660419121.7190282, \"C:\\\\Users\\\\Xinli\\\\AppData\\\\Roaming\\\\Python\\\\Python310\\\\site-packages\\\\jupyter_client\\\\utils.py\": 1660419121.7243192, \"C:\\\\Users\\\\Xinli\\\\AppData\\\\Roaming\\\\Python\\\\Python310\\\\site-packages\\\\jupyter_client\\\\connect.py\": 1660419121.7151964, \"C:\\\\Users\\\\Xinli\\\\AppData\\\\Roaming\\\\Python\\\\Python310\\\\site-packages\\\\jupyter_client\\\\client.py\": 1660419121.7142003, \"C:\\\\Users\\\\Xinli\\\\AppData\\\\Roaming\\\\Python\\\\Python310\\\\site-packages\\\\jupyter_client\\\\asynchronous\\\\client.py\": 1660419121.726318, \"C:\\\\Users\\\\Xinli\\\\AppData\\\\Roaming\\\\Python\\\\Python310\\\\site-packages\\\\jupyter_client\\\\asynchronous\\\\__init__.py\": 1660419121.7253191, \"C:\\\\Users\\\\Xinli\\\\AppData\\\\Roaming\\\\Python\\\\Python310\\\\site-packages\\\\jupyter_client\\\\blocking\\\\client.py\": 1660419121.7267513, \"C:\\\\Users\\\\Xinli\\\\AppData\\\\Roaming\\\\Python\\\\Python310\\\\site-packages\\\\jupyter_client\\\\blocking\\\\__init__.py\": 1660419121.7267513, \"C:\\\\Users\\\\Xinli\\\\AppData\\\\Roaming\\\\Python\\\\Python310\\\\site-packages\\\\jupyter_client\\\\launcher.py\": 1660419121.7185268, \"C:\\\\Users\\\\Xinli\\\\mambaforge\\\\envs\\\\base23\\\\DLLs\\\\_uuid.pyd\": 1683744833.869821, \"C:\\\\Users\\\\Xinli\\\\mambaforge\\\\envs\\\\base23\\\\lib\\\\uuid.py\": 1680645435.0, \"C:\\\\Users\\\\Xinli\\\\AppData\\\\Roaming\\\\Python\\\\Python310\\\\site-packages\\\\jupyter_client\\\\managerabc.py\": 1660419121.7202876, \"C:\\\\Users\\\\Xinli\\\\mambaforge\\\\envs\\\\base23\\\\lib\\\\zipfile.py\": 1680645435.0, \"C:\\\\Users\\\\Xinli\\\\mambaforge\\\\envs\\\\base23\\\\lib\\\\configparser.py\": 1680645435.0, \"C:\\\\Users\\\\Xinli\\\\AppData\\\\Roaming\\\\Python\\\\Python310\\\\site-packages\\\\entrypoints.py\": 1660419115.8761656, \"C:\\\\Users\\\\Xinli\\\\AppData\\\\Roaming\\\\Python\\\\Python310\\\\site-packages\\\\jupyter_client\\\\provisioning\\\\provisioner_base.py\": 1660419121.731777, \"C:\\\\Users\\\\Xinli\\\\AppData\\\\Roaming\\\\Python\\\\Python310\\\\site-packages\\\\jupyter_client\\\\provisioning\\\\factory.py\": 1660419121.7297773, \"C:\\\\Users\\\\Xinli\\\\AppData\\\\Roaming\\\\Python\\\\Python310\\\\site-packages\\\\jupyter_client\\\\provisioning\\\\local_provisioner.py\": 1660419121.7307773, \"C:\\\\Users\\\\Xinli\\\\AppData\\\\Roaming\\\\Python\\\\Python310\\\\site-packages\\\\jupyter_client\\\\provisioning\\\\__init__.py\": 1660419121.7297773, \"C:\\\\Users\\\\Xinli\\\\AppData\\\\Roaming\\\\Python\\\\Python310\\\\site-packages\\\\jupyter_client\\\\kernelspec.py\": 1660419121.7171965, \"C:\\\\Users\\\\Xinli\\\\AppData\\\\Roaming\\\\Python\\\\Python310\\\\site-packages\\\\jupyter_client\\\\manager.py\": 1660419121.7190282, \"C:\\\\Users\\\\Xinli\\\\AppData\\\\Roaming\\\\Python\\\\Python310\\\\site-packages\\\\jupyter_client\\\\multikernelmanager.py\": 1660419121.7202876, \"C:\\\\Users\\\\Xinli\\\\AppData\\\\Roaming\\\\Python\\\\Python310\\\\site-packages\\\\jupyter_client\\\\__init__.py\": 1660419121.7112665, \"C:\\\\Users\\\\Xinli\\\\AppData\\\\Roaming\\\\Python\\\\Python310\\\\site-packages\\\\ipykernel\\\\connect.py\": 1660419125.0764024, \"C:\\\\Users\\\\Xinli\\\\AppData\\\\Roaming\\\\Python\\\\Python310\\\\site-packages\\\\ipykernel\\\\__init__.py\": 1660419125.0726135, \"C:\\\\Users\\\\Xinli\\\\AppData\\\\Roaming\\\\Python\\\\Python310\\\\site-packages\\\\IPython\\\\core\\\\__init__.py\": 1660419122.434111, \"C:\\\\Users\\\\Xinli\\\\AppData\\\\Roaming\\\\Python\\\\Python310\\\\site-packages\\\\IPython\\\\core\\\\getipython.py\": 1660419122.455962, \"C:\\\\Users\\\\Xinli\\\\AppData\\\\Roaming\\\\Python\\\\Python310\\\\site-packages\\\\IPython\\\\core\\\\release.py\": 1660419122.4746294, \"C:\\\\Users\\\\Xinli\\\\mambaforge\\\\envs\\\\base23\\\\lib\\\\pkgutil.py\": 1680645435.0, \"C:\\\\Users\\\\Xinli\\\\mambaforge\\\\envs\\\\base23\\\\lib\\\\sysconfig.py\": 1683744620.701645, \"C:\\\\Users\\\\Xinli\\\\mambaforge\\\\envs\\\\base23\\\\lib\\\\pydoc.py\": 1680645435.0, \"C:\\\\Users\\\\Xinli\\\\mambaforge\\\\envs\\\\base23\\\\lib\\\\importlib\\\\abc.py\": 1680645435.0, \"C:\\\\Users\\\\Xinli\\\\AppData\\\\Roaming\\\\Python\\\\Python310\\\\site-packages\\\\executing\\\\executing.py\": 1660419107.4688013, \"C:\\\\Users\\\\Xinli\\\\AppData\\\\Roaming\\\\Python\\\\Python310\\\\site-packages\\\\executing\\\\version.py\": 1660419107.469735, \"C:\\\\Users\\\\Xinli\\\\AppData\\\\Roaming\\\\Python\\\\Python310\\\\site-packages\\\\executing\\\\__init__.py\": 1660419107.4684193, \"C:\\\\Users\\\\Xinli\\\\AppData\\\\Roaming\\\\Python\\\\Python310\\\\site-packages\\\\asttokens\\\\line_numbers.py\": 1660419121.5757818, \"C:\\\\Users\\\\Xinli\\\\AppData\\\\Roaming\\\\Python\\\\Python310\\\\site-packages\\\\asttokens\\\\util.py\": 1660419121.5767457, \"C:\\\\Users\\\\Xinli\\\\AppData\\\\Roaming\\\\Python\\\\Python310\\\\site-packages\\\\asttokens\\\\asttokens.py\": 1660419121.574787, \"C:\\\\Users\\\\Xinli\\\\AppData\\\\Roaming\\\\Python\\\\Python310\\\\site-packages\\\\asttokens\\\\__init__.py\": 1660419121.5738232, \"C:\\\\Users\\\\Xinli\\\\mambaforge\\\\envs\\\\base23\\\\lib\\\\fractions.py\": 1680645435.0, \"C:\\\\Users\\\\Xinli\\\\AppData\\\\Roaming\\\\Python\\\\Python310\\\\site-packages\\\\pure_eval\\\\utils.py\": 1660419107.4069734, \"C:\\\\Users\\\\Xinli\\\\AppData\\\\Roaming\\\\Python\\\\Python310\\\\site-packages\\\\pure_eval\\\\my_getattr_static.py\": 1660419107.4049754, \"C:\\\\Users\\\\Xinli\\\\AppData\\\\Roaming\\\\Python\\\\Python310\\\\site-packages\\\\pure_eval\\\\core.py\": 1660419107.4049754, \"C:\\\\Users\\\\Xinli\\\\AppData\\\\Roaming\\\\Python\\\\Python310\\\\site-packages\\\\pure_eval\\\\version.py\": 1660419107.4069734, \"C:\\\\Users\\\\Xinli\\\\AppData\\\\Roaming\\\\Python\\\\Python310\\\\site-packages\\\\pure_eval\\\\__init__.py\": 1660419107.4040136, \"C:\\\\Users\\\\Xinli\\\\AppData\\\\Roaming\\\\Python\\\\Python310\\\\site-packages\\\\stack_data\\\\utils.py\": 1660419121.6438873, \"C:\\\\Users\\\\Xinli\\\\AppData\\\\Roaming\\\\Python\\\\Python310\\\\site-packages\\\\stack_data\\\\core.py\": 1660419121.6408863, \"C:\\\\Users\\\\Xinli\\\\AppData\\\\Roaming\\\\Python\\\\Python310\\\\site-packages\\\\stack_data\\\\formatting.py\": 1660419121.6418867, \"C:\\\\Users\\\\Xinli\\\\AppData\\\\Roaming\\\\Python\\\\Python310\\\\site-packages\\\\stack_data\\\\serializing.py\": 1660419121.64289, \"C:\\\\Users\\\\Xinli\\\\AppData\\\\Roaming\\\\Python\\\\Python310\\\\site-packages\\\\stack_data\\\\version.py\": 1660419121.644887, \"C:\\\\Users\\\\Xinli\\\\AppData\\\\Roaming\\\\Python\\\\Python310\\\\site-packages\\\\stack_data\\\\__init__.py\": 1660419121.6408863, \"C:\\\\Users\\\\Xinli\\\\mambaforge\\\\envs\\\\base23\\\\lib\\\\site-packages\\\\pygments\\\\__init__.py\": 1693935766.8994136, \"C:\\\\Users\\\\Xinli\\\\mambaforge\\\\envs\\\\base23\\\\lib\\\\site-packages\\\\pygments\\\\formatters\\\\_mapping.py\": 1693935766.9290338, \"C:\\\\Users\\\\Xinli\\\\mambaforge\\\\envs\\\\base23\\\\lib\\\\site-packages\\\\pygments\\\\plugin.py\": 1693935766.9122758, \"C:\\\\Users\\\\Xinli\\\\mambaforge\\\\envs\\\\base23\\\\lib\\\\site-packages\\\\pygments\\\\util.py\": 1693935766.9241748, \"C:\\\\Users\\\\Xinli\\\\mambaforge\\\\envs\\\\base23\\\\lib\\\\site-packages\\\\pygments\\\\formatters\\\\__init__.py\": 1693935766.926883, \"C:\\\\Users\\\\Xinli\\\\mambaforge\\\\envs\\\\base23\\\\lib\\\\site-packages\\\\pygments\\\\styles\\\\__init__.py\": 1693935767.300281, \"C:\\\\Users\\\\Xinli\\\\mambaforge\\\\envs\\\\base23\\\\lib\\\\site-packages\\\\pygments\\\\formatter.py\": 1693935766.9068327, \"C:\\\\Users\\\\Xinli\\\\mambaforge\\\\envs\\\\base23\\\\lib\\\\site-packages\\\\pygments\\\\console.py\": 1693935766.9026554, \"C:\\\\Users\\\\Xinli\\\\mambaforge\\\\envs\\\\base23\\\\lib\\\\site-packages\\\\pygments\\\\token.py\": 1693935766.9200773, \"C:\\\\Users\\\\Xinli\\\\mambaforge\\\\envs\\\\base23\\\\lib\\\\site-packages\\\\pygments\\\\style.py\": 1693935766.9179478, \"C:\\\\Users\\\\Xinli\\\\mambaforge\\\\envs\\\\base23\\\\lib\\\\site-packages\\\\pygments\\\\formatters\\\\terminal256.py\": 1693935766.9467144, \"C:\\\\Users\\\\Xinli\\\\AppData\\\\Roaming\\\\Python\\\\Python310\\\\site-packages\\\\IPython\\\\utils\\\\__init__.py\": 1660419122.613007, \"C:\\\\Users\\\\Xinli\\\\AppData\\\\Roaming\\\\Python\\\\Python310\\\\site-packages\\\\IPython\\\\utils\\\\ipstruct.py\": 1660419122.6284857, \"C:\\\\Users\\\\Xinli\\\\AppData\\\\Roaming\\\\Python\\\\Python310\\\\site-packages\\\\IPython\\\\utils\\\\coloransi.py\": 1660419122.6203668, \"C:\\\\Users\\\\Xinli\\\\AppData\\\\Roaming\\\\Python\\\\Python310\\\\site-packages\\\\IPython\\\\utils\\\\colorable.py\": 1660419122.6193032, \"C:\\\\Users\\\\Xinli\\\\AppData\\\\Roaming\\\\Python\\\\Python310\\\\site-packages\\\\IPython\\\\utils\\\\PyColorize.py\": 1660419122.613007, \"C:\\\\Users\\\\Xinli\\\\AppData\\\\Roaming\\\\Python\\\\Python310\\\\site-packages\\\\IPython\\\\utils\\\\encoding.py\": 1660419122.624124, \"C:\\\\Users\\\\Xinli\\\\AppData\\\\Roaming\\\\Python\\\\Python310\\\\site-packages\\\\IPython\\\\utils\\\\py3compat.py\": 1660419122.6330378, \"C:\\\\Users\\\\Xinli\\\\AppData\\\\Roaming\\\\Python\\\\Python310\\\\site-packages\\\\IPython\\\\core\\\\excolors.py\": 1660419122.4533873, \"C:\\\\Users\\\\Xinli\\\\mambaforge\\\\envs\\\\base23\\\\lib\\\\cmd.py\": 1680645435.0, \"C:\\\\Users\\\\Xinli\\\\mambaforge\\\\envs\\\\base23\\\\lib\\\\bdb.py\": 1680645435.0, \"C:\\\\Users\\\\Xinli\\\\mambaforge\\\\envs\\\\base23\\\\lib\\\\codeop.py\": 1680645435.0, \"C:\\\\Users\\\\Xinli\\\\mambaforge\\\\envs\\\\base23\\\\lib\\\\code.py\": 1680645435.0, \"C:\\\\Users\\\\Xinli\\\\mambaforge\\\\envs\\\\base23\\\\lib\\\\pdb.py\": 1680645435.0, \"C:\\\\Users\\\\Xinli\\\\AppData\\\\Roaming\\\\Python\\\\Python310\\\\site-packages\\\\IPython\\\\core\\\\debugger.py\": 1660419122.4468331, \"C:\\\\Users\\\\Xinli\\\\AppData\\\\Roaming\\\\Python\\\\Python310\\\\site-packages\\\\IPython\\\\core\\\\display_trap.py\": 1660419122.448864, \"C:\\\\Users\\\\Xinli\\\\mambaforge\\\\envs\\\\base23\\\\lib\\\\shlex.py\": 1680645435.0, \"C:\\\\Users\\\\Xinli\\\\AppData\\\\Roaming\\\\Python\\\\Python310\\\\site-packages\\\\IPython\\\\utils\\\\_process_common.py\": 1660419122.6153166, \"C:\\\\Users\\\\Xinli\\\\AppData\\\\Roaming\\\\Python\\\\Python310\\\\site-packages\\\\IPython\\\\utils\\\\_process_win32.py\": 1660419122.6163323, \"C:\\\\Users\\\\Xinli\\\\AppData\\\\Roaming\\\\Python\\\\Python310\\\\site-packages\\\\IPython\\\\utils\\\\process.py\": 1660419122.6320393, \"C:\\\\Users\\\\Xinli\\\\AppData\\\\Roaming\\\\Python\\\\Python310\\\\site-packages\\\\IPython\\\\utils\\\\decorators.py\": 1660419122.6229131, \"C:\\\\Users\\\\Xinli\\\\AppData\\\\Roaming\\\\Python\\\\Python310\\\\site-packages\\\\IPython\\\\utils\\\\path.py\": 1660419122.6320393, \"C:\\\\Users\\\\Xinli\\\\AppData\\\\Roaming\\\\Python\\\\Python310\\\\site-packages\\\\IPython\\\\utils\\\\terminal.py\": 1660419122.6380947, \"C:\\\\Users\\\\Xinli\\\\AppData\\\\Roaming\\\\Python\\\\Python310\\\\site-packages\\\\IPython\\\\core\\\\ultratb.py\": 1660419122.4778068, \"C:\\\\Users\\\\Xinli\\\\AppData\\\\Roaming\\\\Python\\\\Python310\\\\site-packages\\\\IPython\\\\utils\\\\_sysinfo.py\": 1660419122.617332, \"C:\\\\Users\\\\Xinli\\\\AppData\\\\Roaming\\\\Python\\\\Python310\\\\site-packages\\\\IPython\\\\utils\\\\sysinfo.py\": 1660419122.63606, \"C:\\\\Users\\\\Xinli\\\\AppData\\\\Roaming\\\\Python\\\\Python310\\\\site-packages\\\\IPython\\\\core\\\\crashhandler.py\": 1660419122.4457297, \"C:\\\\Users\\\\Xinli\\\\AppData\\\\Roaming\\\\Python\\\\Python310\\\\site-packages\\\\IPython\\\\utils\\\\importstring.py\": 1660419122.6273582, \"C:\\\\Users\\\\Xinli\\\\AppData\\\\Roaming\\\\Python\\\\Python310\\\\site-packages\\\\IPython\\\\paths.py\": 1660419122.433613, \"C:\\\\Users\\\\Xinli\\\\AppData\\\\Roaming\\\\Python\\\\Python310\\\\site-packages\\\\IPython\\\\core\\\\profiledir.py\": 1660419122.471692, \"C:\\\\Users\\\\Xinli\\\\AppData\\\\Roaming\\\\Python\\\\Python310\\\\site-packages\\\\IPython\\\\core\\\\application.py\": 1660419122.4368482, \"C:\\\\Users\\\\Xinli\\\\AppData\\\\Roaming\\\\Python\\\\Python310\\\\site-packages\\\\IPython\\\\terminal\\\\__init__.py\": 1660419122.5741537, \"C:\\\\Users\\\\Xinli\\\\AppData\\\\Roaming\\\\Python\\\\Python310\\\\site-packages\\\\IPython\\\\core\\\\compilerop.py\": 1660419122.4431803, \"C:\\\\Users\\\\Xinli\\\\AppData\\\\Roaming\\\\Python\\\\Python310\\\\site-packages\\\\IPython\\\\core\\\\error.py\": 1660419122.452118, \"C:\\\\Users\\\\Xinli\\\\AppData\\\\Roaming\\\\Python\\\\Python310\\\\site-packages\\\\IPython\\\\utils\\\\text.py\": 1660419122.6390944, \"C:\\\\Users\\\\Xinli\\\\AppData\\\\Roaming\\\\Python\\\\Python310\\\\site-packages\\\\IPython\\\\core\\\\magic_arguments.py\": 1660419122.4633625, \"C:\\\\Users\\\\Xinli\\\\mambaforge\\\\envs\\\\base23\\\\lib\\\\getopt.py\": 1680645435.0, \"C:\\\\Users\\\\Xinli\\\\AppData\\\\Roaming\\\\Python\\\\Python310\\\\site-packages\\\\IPython\\\\core\\\\display_functions.py\": 1660419122.4481156, \"C:\\\\Users\\\\Xinli\\\\mambaforge\\\\envs\\\\base23\\\\lib\\\\mimetypes.py\": 1680645435.0, \"C:\\\\Users\\\\Xinli\\\\AppData\\\\Roaming\\\\Python\\\\Python310\\\\site-packages\\\\IPython\\\\testing\\\\__init__.py\": 1660419122.594164, \"C:\\\\Users\\\\Xinli\\\\AppData\\\\Roaming\\\\Python\\\\Python310\\\\site-packages\\\\IPython\\\\testing\\\\skipdoctest.py\": 1660419122.5971968, \"C:\\\\Users\\\\Xinli\\\\AppData\\\\Roaming\\\\Python\\\\Python310\\\\site-packages\\\\IPython\\\\core\\\\display.py\": 1660419122.4468331, \"C:\\\\Users\\\\Xinli\\\\AppData\\\\Roaming\\\\Python\\\\Python310\\\\site-packages\\\\IPython\\\\lib\\\\__init__.py\": 1660419122.5515032, \"C:\\\\Users\\\\Xinli\\\\AppData\\\\Roaming\\\\Python\\\\Python310\\\\site-packages\\\\IPython\\\\lib\\\\display.py\": 1660419122.556624, \"C:\\\\Users\\\\Xinli\\\\AppData\\\\Roaming\\\\Python\\\\Python310\\\\site-packages\\\\IPython\\\\display.py\": 1660419122.4328637, \"C:\\\\Users\\\\Xinli\\\\AppData\\\\Roaming\\\\Python\\\\Python310\\\\site-packages\\\\IPython\\\\utils\\\\data.py\": 1660419122.6225758, \"C:\\\\Users\\\\Xinli\\\\AppData\\\\Roaming\\\\Python\\\\Python310\\\\site-packages\\\\IPython\\\\core\\\\page.py\": 1660419122.4654186, \"C:\\\\Users\\\\Xinli\\\\AppData\\\\Roaming\\\\Python\\\\Python310\\\\site-packages\\\\IPython\\\\lib\\\\pretty.py\": 1660419122.5604217, \"C:\\\\Users\\\\Xinli\\\\AppData\\\\Roaming\\\\Python\\\\Python310\\\\site-packages\\\\IPython\\\\utils\\\\openpy.py\": 1660419122.631039, \"C:\\\\Users\\\\Xinli\\\\AppData\\\\Roaming\\\\Python\\\\Python310\\\\site-packages\\\\IPython\\\\utils\\\\dir2.py\": 1660419122.624124, \"C:\\\\Users\\\\Xinli\\\\AppData\\\\Roaming\\\\Python\\\\Python310\\\\site-packages\\\\IPython\\\\utils\\\\wildcard.py\": 1660419122.64272, \"C:\\\\Users\\\\Xinli\\\\mambaforge\\\\envs\\\\base23\\\\lib\\\\site-packages\\\\pygments\\\\lexers\\\\_mapping.py\": 1693935766.964726, \"C:\\\\Users\\\\Xinli\\\\mambaforge\\\\envs\\\\base23\\\\lib\\\\site-packages\\\\pygments\\\\modeline.py\": 1693935766.9102013, \"C:\\\\Users\\\\Xinli\\\\mambaforge\\\\envs\\\\base23\\\\lib\\\\site-packages\\\\pygments\\\\lexers\\\\__init__.py\": 1693935766.9477665, \"C:\\\\Users\\\\Xinli\\\\mambaforge\\\\envs\\\\base23\\\\lib\\\\site-packages\\\\pygments\\\\filter.py\": 1693935766.9051926, \"C:\\\\Users\\\\Xinli\\\\mambaforge\\\\envs\\\\base23\\\\lib\\\\site-packages\\\\pygments\\\\filters\\\\__init__.py\": 1693935766.9256907, \"C:\\\\Users\\\\Xinli\\\\mambaforge\\\\envs\\\\base23\\\\lib\\\\site-packages\\\\pygments\\\\regexopt.py\": 1693935766.9137886, \"C:\\\\Users\\\\Xinli\\\\mambaforge\\\\envs\\\\base23\\\\lib\\\\site-packages\\\\pygments\\\\lexer.py\": 1693935766.9090338, \"C:\\\\Users\\\\Xinli\\\\mambaforge\\\\envs\\\\base23\\\\lib\\\\site-packages\\\\pygments\\\\unistring.py\": 1693935766.921129, \"C:\\\\Users\\\\Xinli\\\\mambaforge\\\\envs\\\\base23\\\\lib\\\\site-packages\\\\pygments\\\\lexers\\\\python.py\": 1693935767.175217, \"C:\\\\Users\\\\Xinli\\\\mambaforge\\\\envs\\\\base23\\\\lib\\\\site-packages\\\\pygments\\\\formatters\\\\html.py\": 1693935766.9322095, \"C:\\\\Users\\\\Xinli\\\\AppData\\\\Roaming\\\\Python\\\\Python310\\\\site-packages\\\\IPython\\\\core\\\\oinspect.py\": 1660419122.4649172, \"C:\\\\Users\\\\Xinli\\\\AppData\\\\Roaming\\\\Python\\\\Python310\\\\site-packages\\\\IPython\\\\core\\\\inputtransformer2.py\": 1660419122.4597728, \"C:\\\\Users\\\\Xinli\\\\AppData\\\\Roaming\\\\Python\\\\Python310\\\\site-packages\\\\IPython\\\\core\\\\magic.py\": 1660419122.4633625, \"C:\\\\Users\\\\Xinli\\\\AppData\\\\Roaming\\\\Python\\\\Python310\\\\site-packages\\\\pickleshare.py\": 1660419107.4497013, \"C:\\\\Users\\\\Xinli\\\\AppData\\\\Roaming\\\\Python\\\\Python310\\\\site-packages\\\\IPython\\\\core\\\\hooks.py\": 1660419122.4586172, \"C:\\\\Users\\\\Xinli\\\\AppData\\\\Roaming\\\\Python\\\\Python310\\\\site-packages\\\\IPython\\\\core\\\\autocall.py\": 1660419122.4409275, \"C:\\\\Users\\\\Xinli\\\\AppData\\\\Roaming\\\\Python\\\\Python310\\\\site-packages\\\\IPython\\\\core\\\\macro.py\": 1660419122.4623015, \"C:\\\\Users\\\\Xinli\\\\AppData\\\\Roaming\\\\Python\\\\Python310\\\\site-packages\\\\IPython\\\\core\\\\splitinput.py\": 1660419122.477306, \"C:\\\\Users\\\\Xinli\\\\AppData\\\\Roaming\\\\Python\\\\Python310\\\\site-packages\\\\IPython\\\\core\\\\prefilter.py\": 1660419122.4679658, \"C:\\\\Users\\\\Xinli\\\\AppData\\\\Roaming\\\\Python\\\\Python310\\\\site-packages\\\\IPython\\\\core\\\\alias.py\": 1660419122.434747, \"C:\\\\Users\\\\Xinli\\\\AppData\\\\Roaming\\\\Python\\\\Python310\\\\site-packages\\\\IPython\\\\core\\\\builtin_trap.py\": 1660419122.4420455, \"C:\\\\Users\\\\Xinli\\\\AppData\\\\Roaming\\\\Python\\\\Python310\\\\site-packages\\\\IPython\\\\core\\\\displayhook.py\": 1660419122.4500768, \"C:\\\\Users\\\\Xinli\\\\AppData\\\\Roaming\\\\Python\\\\Python310\\\\site-packages\\\\IPython\\\\core\\\\displaypub.py\": 1660419122.4509938, \"C:\\\\Users\\\\Xinli\\\\AppData\\\\Roaming\\\\Python\\\\Python310\\\\site-packages\\\\backcall\\\\backcall.py\": 1660419107.505265, \"C:\\\\Users\\\\Xinli\\\\AppData\\\\Roaming\\\\Python\\\\Python310\\\\site-packages\\\\backcall\\\\__init__.py\": 1660419107.5043128, \"C:\\\\Users\\\\Xinli\\\\AppData\\\\Roaming\\\\Python\\\\Python310\\\\site-packages\\\\IPython\\\\core\\\\events.py\": 1660419122.4526198, \"C:\\\\Users\\\\Xinli\\\\AppData\\\\Roaming\\\\Python\\\\Python310\\\\site-packages\\\\IPython\\\\core\\\\extensions.py\": 1660419122.4537413, \"C:\\\\Users\\\\Xinli\\\\AppData\\\\Roaming\\\\Python\\\\Python310\\\\site-packages\\\\decorator.py\": 1660419115.8925364, \"C:\\\\Users\\\\Xinli\\\\AppData\\\\Roaming\\\\Python\\\\Python310\\\\site-packages\\\\IPython\\\\utils\\\\sentinel.py\": 1660419122.634038, \"C:\\\\Users\\\\Xinli\\\\AppData\\\\Roaming\\\\Python\\\\Python310\\\\site-packages\\\\IPython\\\\core\\\\formatters.py\": 1660419122.454508, \"C:\\\\Users\\\\Xinli\\\\mambaforge\\\\envs\\\\base23\\\\DLLs\\\\_sqlite3.pyd\": 1683744840.542925, \"C:\\\\Users\\\\Xinli\\\\mambaforge\\\\envs\\\\base23\\\\lib\\\\sqlite3\\\\dbapi2.py\": 1680645435.0, \"C:\\\\Users\\\\Xinli\\\\mambaforge\\\\envs\\\\base23\\\\lib\\\\sqlite3\\\\__init__.py\": 1680645435.0, \"C:\\\\Users\\\\Xinli\\\\AppData\\\\Roaming\\\\Python\\\\Python310\\\\site-packages\\\\IPython\\\\core\\\\history.py\": 1660419122.4564688, \"C:\\\\Users\\\\Xinli\\\\AppData\\\\Roaming\\\\Python\\\\Python310\\\\site-packages\\\\IPython\\\\core\\\\logger.py\": 1660419122.4623015, \"C:\\\\Users\\\\Xinli\\\\AppData\\\\Roaming\\\\Python\\\\Python310\\\\site-packages\\\\IPython\\\\core\\\\payload.py\": 1660419122.466493, \"C:\\\\Users\\\\Xinli\\\\AppData\\\\Roaming\\\\Python\\\\Python310\\\\site-packages\\\\IPython\\\\core\\\\usage.py\": 1660419122.4784458, \"C:\\\\Users\\\\Xinli\\\\AppData\\\\Roaming\\\\Python\\\\Python310\\\\site-packages\\\\IPython\\\\utils\\\\capture.py\": 1660419122.6187592, \"C:\\\\Users\\\\Xinli\\\\AppData\\\\Roaming\\\\Python\\\\Python310\\\\site-packages\\\\IPython\\\\utils\\\\io.py\": 1660419122.6277862, \"C:\\\\Users\\\\Xinli\\\\AppData\\\\Roaming\\\\Python\\\\Python310\\\\site-packages\\\\IPython\\\\utils\\\\strdispatch.py\": 1660419122.635368, \"C:\\\\Users\\\\Xinli\\\\AppData\\\\Roaming\\\\Python\\\\Python310\\\\site-packages\\\\IPython\\\\utils\\\\syspathcontext.py\": 1660419122.6370947, \"C:\\\\Users\\\\Xinli\\\\AppData\\\\Roaming\\\\Python\\\\Python310\\\\site-packages\\\\IPython\\\\core\\\\async_helpers.py\": 1660419122.4373536, \"C:\\\\Users\\\\Xinli\\\\AppData\\\\Roaming\\\\Python\\\\Python310\\\\site-packages\\\\IPython\\\\core\\\\interactiveshell.py\": 1660419122.4607973, \"C:\\\\Users\\\\Xinli\\\\AppData\\\\Roaming\\\\Python\\\\Python310\\\\site-packages\\\\prompt_toolkit\\\\application\\\\current.py\": 1660419114.1644802, \"C:\\\\Users\\\\Xinli\\\\AppData\\\\Roaming\\\\Python\\\\Python310\\\\site-packages\\\\prompt_toolkit\\\\eventloop\\\\utils.py\": 1660419114.18696, \"C:\\\\Users\\\\Xinli\\\\AppData\\\\Roaming\\\\Python\\\\Python310\\\\site-packages\\\\prompt_toolkit\\\\eventloop\\\\async_generator.py\": 1660419114.18486, \"C:\\\\Users\\\\Xinli\\\\AppData\\\\Roaming\\\\Python\\\\Python310\\\\site-packages\\\\prompt_toolkit\\\\eventloop\\\\inputhook.py\": 1660419114.186173, \"C:\\\\Users\\\\Xinli\\\\AppData\\\\Roaming\\\\Python\\\\Python310\\\\site-packages\\\\prompt_toolkit\\\\eventloop\\\\__init__.py\": 1660419114.1832924, \"C:\\\\Users\\\\Xinli\\\\AppData\\\\Roaming\\\\Python\\\\Python310\\\\site-packages\\\\prompt_toolkit\\\\application\\\\run_in_terminal.py\": 1660419114.1654797, \"C:\\\\Users\\\\Xinli\\\\AppData\\\\Roaming\\\\Python\\\\Python310\\\\site-packages\\\\prompt_toolkit\\\\selection.py\": 1660419114.15948, \"C:\\\\Users\\\\Xinli\\\\AppData\\\\Roaming\\\\Python\\\\Python310\\\\site-packages\\\\prompt_toolkit\\\\clipboard\\\\base.py\": 1660419114.16648, \"C:\\\\Users\\\\Xinli\\\\AppData\\\\Roaming\\\\Python\\\\Python310\\\\site-packages\\\\prompt_toolkit\\\\clipboard\\\\in_memory.py\": 1660419114.16748, \"C:\\\\Users\\\\Xinli\\\\AppData\\\\Roaming\\\\Python\\\\Python310\\\\site-packages\\\\prompt_toolkit\\\\clipboard\\\\__init__.py\": 1660419114.16648, \"C:\\\\Users\\\\Xinli\\\\AppData\\\\Roaming\\\\Python\\\\Python310\\\\site-packages\\\\prompt_toolkit\\\\cache.py\": 1660419114.1512568, \"C:\\\\Users\\\\Xinli\\\\AppData\\\\Roaming\\\\Python\\\\Python310\\\\site-packages\\\\prompt_toolkit\\\\enums.py\": 1660419114.1544826, \"C:\\\\Users\\\\Xinli\\\\AppData\\\\Roaming\\\\Python\\\\Python310\\\\site-packages\\\\prompt_toolkit\\\\filters\\\\base.py\": 1660419114.18898, \"C:\\\\Users\\\\Xinli\\\\AppData\\\\Roaming\\\\Python\\\\Python310\\\\site-packages\\\\prompt_toolkit\\\\filters\\\\app.py\": 1660419114.18898, \"C:\\\\Users\\\\Xinli\\\\AppData\\\\Roaming\\\\Python\\\\Python310\\\\site-packages\\\\prompt_toolkit\\\\filters\\\\cli.py\": 1660419114.1900003, \"C:\\\\Users\\\\Xinli\\\\AppData\\\\Roaming\\\\Python\\\\Python310\\\\site-packages\\\\prompt_toolkit\\\\filters\\\\utils.py\": 1660419114.1900003, \"C:\\\\Users\\\\Xinli\\\\AppData\\\\Roaming\\\\Python\\\\Python310\\\\site-packages\\\\prompt_toolkit\\\\filters\\\\__init__.py\": 1660419114.1879816, \"C:\\\\Users\\\\Xinli\\\\AppData\\\\Roaming\\\\Python\\\\Python310\\\\site-packages\\\\prompt_toolkit\\\\document.py\": 1660419114.1533732, \"C:\\\\Users\\\\Xinli\\\\AppData\\\\Roaming\\\\Python\\\\Python310\\\\site-packages\\\\prompt_toolkit\\\\auto_suggest.py\": 1660419114.1493523, \"C:\\\\Users\\\\Xinli\\\\AppData\\\\Roaming\\\\Python\\\\Python310\\\\site-packages\\\\prompt_toolkit\\\\keys.py\": 1660419114.155503, \"C:\\\\Users\\\\Xinli\\\\AppData\\\\Roaming\\\\Python\\\\Python310\\\\site-packages\\\\prompt_toolkit\\\\key_binding\\\\key_bindings.py\": 1660419114.203973, \"C:\\\\Users\\\\Xinli\\\\AppData\\\\Roaming\\\\Python\\\\Python310\\\\site-packages\\\\wcwidth\\\\table_wide.py\": 1660419102.3475268, \"C:\\\\Users\\\\Xinli\\\\AppData\\\\Roaming\\\\Python\\\\Python310\\\\site-packages\\\\wcwidth\\\\table_zero.py\": 1660419102.348531, \"C:\\\\Users\\\\Xinli\\\\AppData\\\\Roaming\\\\Python\\\\Python310\\\\site-packages\\\\wcwidth\\\\unicode_versions.py\": 1660419102.3495274, \"C:\\\\Users\\\\Xinli\\\\AppData\\\\Roaming\\\\Python\\\\Python310\\\\site-packages\\\\wcwidth\\\\wcwidth.py\": 1660419102.3505268, \"C:\\\\Users\\\\Xinli\\\\AppData\\\\Roaming\\\\Python\\\\Python310\\\\site-packages\\\\wcwidth\\\\__init__.py\": 1660419102.3465426, \"C:\\\\Users\\\\Xinli\\\\AppData\\\\Roaming\\\\Python\\\\Python310\\\\site-packages\\\\prompt_toolkit\\\\utils.py\": 1660419114.1604795, \"C:\\\\Users\\\\Xinli\\\\AppData\\\\Roaming\\\\Python\\\\Python310\\\\site-packages\\\\prompt_toolkit\\\\key_binding\\\\key_processor.py\": 1660419114.204972, \"C:\\\\Users\\\\Xinli\\\\AppData\\\\Roaming\\\\Python\\\\Python310\\\\site-packages\\\\prompt_toolkit\\\\key_binding\\\\__init__.py\": 1660419114.2015443, \"C:\\\\Users\\\\Xinli\\\\AppData\\\\Roaming\\\\Python\\\\Python310\\\\site-packages\\\\prompt_toolkit\\\\key_binding\\\\vi_state.py\": 1660419114.204972, \"C:\\\\Users\\\\Xinli\\\\AppData\\\\Roaming\\\\Python\\\\Python310\\\\site-packages\\\\prompt_toolkit\\\\cursor_shapes.py\": 1660419114.1522686, \"C:\\\\Users\\\\Xinli\\\\AppData\\\\Roaming\\\\Python\\\\Python310\\\\site-packages\\\\prompt_toolkit\\\\data_structures.py\": 1660419114.1522686, \"C:\\\\Users\\\\Xinli\\\\AppData\\\\Roaming\\\\Python\\\\Python310\\\\site-packages\\\\prompt_toolkit\\\\styles\\\\base.py\": 1660419114.2383065, \"C:\\\\Users\\\\Xinli\\\\AppData\\\\Roaming\\\\Python\\\\Python310\\\\site-packages\\\\prompt_toolkit\\\\styles\\\\named_colors.py\": 1660419114.2403052, \"C:\\\\Users\\\\Xinli\\\\AppData\\\\Roaming\\\\Python\\\\Python310\\\\site-packages\\\\prompt_toolkit\\\\styles\\\\style.py\": 1660419114.2413054, \"C:\\\\Users\\\\Xinli\\\\AppData\\\\Roaming\\\\Python\\\\Python310\\\\site-packages\\\\prompt_toolkit\\\\styles\\\\defaults.py\": 1660419114.2393055, \"C:\\\\Users\\\\Xinli\\\\AppData\\\\Roaming\\\\Python\\\\Python310\\\\site-packages\\\\prompt_toolkit\\\\styles\\\\pygments.py\": 1660419114.2403052, \"C:\\\\Users\\\\Xinli\\\\mambaforge\\\\envs\\\\base23\\\\lib\\\\colorsys.py\": 1680645435.0, \"C:\\\\Users\\\\Xinli\\\\AppData\\\\Roaming\\\\Python\\\\Python310\\\\site-packages\\\\prompt_toolkit\\\\styles\\\\style_transformation.py\": 1660419114.2423053, \"C:\\\\Users\\\\Xinli\\\\AppData\\\\Roaming\\\\Python\\\\Python310\\\\site-packages\\\\prompt_toolkit\\\\styles\\\\__init__.py\": 1660419114.2383065, \"C:\\\\Users\\\\Xinli\\\\AppData\\\\Roaming\\\\Python\\\\Python310\\\\site-packages\\\\prompt_toolkit\\\\output\\\\color_depth.py\": 1660419114.2279024, \"C:\\\\Users\\\\Xinli\\\\AppData\\\\Roaming\\\\Python\\\\Python310\\\\site-packages\\\\prompt_toolkit\\\\output\\\\base.py\": 1660419114.2269027, \"C:\\\\Users\\\\Xinli\\\\AppData\\\\Roaming\\\\Python\\\\Python310\\\\site-packages\\\\prompt_toolkit\\\\output\\\\flush_stdout.py\": 1660419114.2289033, \"C:\\\\Users\\\\Xinli\\\\AppData\\\\Roaming\\\\Python\\\\Python310\\\\site-packages\\\\prompt_toolkit\\\\output\\\\plain_text.py\": 1660419114.2299027, \"C:\\\\Users\\\\Xinli\\\\AppData\\\\Roaming\\\\Python\\\\Python310\\\\site-packages\\\\prompt_toolkit\\\\output\\\\defaults.py\": 1660419114.2289033, \"C:\\\\Users\\\\Xinli\\\\AppData\\\\Roaming\\\\Python\\\\Python310\\\\site-packages\\\\prompt_toolkit\\\\output\\\\__init__.py\": 1660419114.225903, \"C:\\\\Users\\\\Xinli\\\\AppData\\\\Roaming\\\\Python\\\\Python310\\\\site-packages\\\\prompt_toolkit\\\\output\\\\vt100.py\": 1660419114.2309031, \"C:\\\\Users\\\\Xinli\\\\AppData\\\\Roaming\\\\Python\\\\Python310\\\\site-packages\\\\prompt_toolkit\\\\mouse_events.py\": 1660419114.156482, \"C:\\\\Users\\\\Xinli\\\\AppData\\\\Roaming\\\\Python\\\\Python310\\\\site-packages\\\\prompt_toolkit\\\\formatted_text\\\\base.py\": 1660419114.19198, \"C:\\\\Users\\\\Xinli\\\\AppData\\\\Roaming\\\\Python\\\\Python310\\\\site-packages\\\\prompt_toolkit\\\\formatted_text\\\\ansi.py\": 1660419114.19198, \"C:\\\\Users\\\\Xinli\\\\mambaforge\\\\envs\\\\base23\\\\lib\\\\xml\\\\__init__.py\": 1680645435.0, \"C:\\\\Users\\\\Xinli\\\\mambaforge\\\\envs\\\\base23\\\\lib\\\\xml\\\\dom\\\\domreg.py\": 1680645435.0, \"C:\\\\Users\\\\Xinli\\\\mambaforge\\\\envs\\\\base23\\\\lib\\\\xml\\\\dom\\\\__init__.py\": 1680645435.0, \"C:\\\\Users\\\\Xinli\\\\mambaforge\\\\envs\\\\base23\\\\lib\\\\xml\\\\dom\\\\minicompat.py\": 1680645435.0, \"C:\\\\Users\\\\Xinli\\\\mambaforge\\\\envs\\\\base23\\\\lib\\\\xml\\\\dom\\\\NodeFilter.py\": 1680645435.0, \"C:\\\\Users\\\\Xinli\\\\mambaforge\\\\envs\\\\base23\\\\lib\\\\xml\\\\dom\\\\xmlbuilder.py\": 1680645435.0, \"C:\\\\Users\\\\Xinli\\\\mambaforge\\\\envs\\\\base23\\\\lib\\\\xml\\\\dom\\\\minidom.py\": 1680645435.0, \"C:\\\\Users\\\\Xinli\\\\AppData\\\\Roaming\\\\Python\\\\Python310\\\\site-packages\\\\prompt_toolkit\\\\formatted_text\\\\html.py\": 1660419114.1930006, \"C:\\\\Users\\\\Xinli\\\\AppData\\\\Roaming\\\\Python\\\\Python310\\\\site-packages\\\\prompt_toolkit\\\\formatted_text\\\\pygments.py\": 1660419114.1930006, \"C:\\\\Users\\\\Xinli\\\\AppData\\\\Roaming\\\\Python\\\\Python310\\\\site-packages\\\\prompt_toolkit\\\\formatted_text\\\\utils.py\": 1660419114.1939802, \"C:\\\\Users\\\\Xinli\\\\AppData\\\\Roaming\\\\Python\\\\Python310\\\\site-packages\\\\prompt_toolkit\\\\formatted_text\\\\__init__.py\": 1660419114.1909802, \"C:\\\\Users\\\\Xinli\\\\AppData\\\\Roaming\\\\Python\\\\Python310\\\\site-packages\\\\prompt_toolkit\\\\completion\\\\base.py\": 1660419114.1689098, \"C:\\\\Users\\\\Xinli\\\\AppData\\\\Roaming\\\\Python\\\\Python310\\\\site-packages\\\\prompt_toolkit\\\\completion\\\\deduplicate.py\": 1660419114.169946, \"C:\\\\Users\\\\Xinli\\\\AppData\\\\Roaming\\\\Python\\\\Python310\\\\site-packages\\\\prompt_toolkit\\\\completion\\\\filesystem.py\": 1660419114.169946, \"C:\\\\Users\\\\Xinli\\\\AppData\\\\Roaming\\\\Python\\\\Python310\\\\site-packages\\\\prompt_toolkit\\\\completion\\\\word_completer.py\": 1660419114.1719644, \"C:\\\\Users\\\\Xinli\\\\AppData\\\\Roaming\\\\Python\\\\Python310\\\\site-packages\\\\prompt_toolkit\\\\completion\\\\fuzzy_completer.py\": 1660419114.1709454, \"C:\\\\Users\\\\Xinli\\\\AppData\\\\Roaming\\\\Python\\\\Python310\\\\site-packages\\\\prompt_toolkit\\\\completion\\\\nested.py\": 1660419114.1719644, \"C:\\\\Users\\\\Xinli\\\\AppData\\\\Roaming\\\\Python\\\\Python310\\\\site-packages\\\\prompt_toolkit\\\\completion\\\\__init__.py\": 1660419114.1689098, \"C:\\\\Users\\\\Xinli\\\\AppData\\\\Roaming\\\\Python\\\\Python310\\\\site-packages\\\\prompt_toolkit\\\\history.py\": 1660419114.155503, \"C:\\\\Users\\\\Xinli\\\\AppData\\\\Roaming\\\\Python\\\\Python310\\\\site-packages\\\\prompt_toolkit\\\\search.py\": 1660419114.15948, \"C:\\\\Users\\\\Xinli\\\\AppData\\\\Roaming\\\\Python\\\\Python310\\\\site-packages\\\\prompt_toolkit\\\\validation.py\": 1660419114.1614802, \"C:\\\\Users\\\\Xinli\\\\AppData\\\\Roaming\\\\Python\\\\Python310\\\\site-packages\\\\prompt_toolkit\\\\buffer.py\": 1660419114.1502547, \"C:\\\\Users\\\\Xinli\\\\AppData\\\\Roaming\\\\Python\\\\Python310\\\\site-packages\\\\prompt_toolkit\\\\input\\\\base.py\": 1660419114.1959798, \"C:\\\\Users\\\\Xinli\\\\AppData\\\\Roaming\\\\Python\\\\Python310\\\\site-packages\\\\prompt_toolkit\\\\input\\\\defaults.py\": 1660419114.1969798, \"C:\\\\Users\\\\Xinli\\\\AppData\\\\Roaming\\\\Python\\\\Python310\\\\site-packages\\\\prompt_toolkit\\\\input\\\\__init__.py\": 1660419114.19498, \"C:\\\\Users\\\\Xinli\\\\AppData\\\\Roaming\\\\Python\\\\Python310\\\\site-packages\\\\prompt_toolkit\\\\input\\\\typeahead.py\": 1660419114.1979797, \"C:\\\\Users\\\\Xinli\\\\AppData\\\\Roaming\\\\Python\\\\Python310\\\\site-packages\\\\prompt_toolkit\\\\key_binding\\\\bindings\\\\__init__.py\": 1660419114.2059722, \"C:\\\\Users\\\\Xinli\\\\AppData\\\\Roaming\\\\Python\\\\Python310\\\\site-packages\\\\prompt_toolkit\\\\key_binding\\\\bindings\\\\scroll.py\": 1660419114.2129714, \"C:\\\\Users\\\\Xinli\\\\AppData\\\\Roaming\\\\Python\\\\Python310\\\\site-packages\\\\prompt_toolkit\\\\key_binding\\\\bindings\\\\page_navigation.py\": 1660419114.2129714, \"C:\\\\Users\\\\Xinli\\\\AppData\\\\Roaming\\\\Python\\\\Python310\\\\site-packages\\\\prompt_toolkit\\\\lexers\\\\base.py\": 1660419114.224903, \"C:\\\\Users\\\\Xinli\\\\AppData\\\\Roaming\\\\Python\\\\Python310\\\\site-packages\\\\prompt_toolkit\\\\lexers\\\\pygments.py\": 1660419114.225903, \"C:\\\\Users\\\\Xinli\\\\AppData\\\\Roaming\\\\Python\\\\Python310\\\\site-packages\\\\prompt_toolkit\\\\lexers\\\\__init__.py\": 1660419114.2239032, \"C:\\\\Users\\\\Xinli\\\\AppData\\\\Roaming\\\\Python\\\\Python310\\\\site-packages\\\\prompt_toolkit\\\\layout\\\\utils.py\": 1660419114.2239032, \"C:\\\\Users\\\\Xinli\\\\AppData\\\\Roaming\\\\Python\\\\Python310\\\\site-packages\\\\prompt_toolkit\\\\layout\\\\processors.py\": 1660419114.2217104, \"C:\\\\Users\\\\Xinli\\\\AppData\\\\Roaming\\\\Python\\\\Python310\\\\site-packages\\\\prompt_toolkit\\\\layout\\\\controls.py\": 1660419114.216972, \"C:\\\\Users\\\\Xinli\\\\AppData\\\\Roaming\\\\Python\\\\Python310\\\\site-packages\\\\prompt_toolkit\\\\layout\\\\dimension.py\": 1660419114.216972, \"C:\\\\Users\\\\Xinli\\\\AppData\\\\Roaming\\\\Python\\\\Python310\\\\site-packages\\\\prompt_toolkit\\\\layout\\\\margins.py\": 1660419114.2196908, \"C:\\\\Users\\\\Xinli\\\\AppData\\\\Roaming\\\\Python\\\\Python310\\\\site-packages\\\\prompt_toolkit\\\\layout\\\\mouse_handlers.py\": 1660419114.2207103, \"C:\\\\Users\\\\Xinli\\\\AppData\\\\Roaming\\\\Python\\\\Python310\\\\site-packages\\\\prompt_toolkit\\\\layout\\\\screen.py\": 1660419114.2227104, \"C:\\\\Users\\\\Xinli\\\\AppData\\\\Roaming\\\\Python\\\\Python310\\\\site-packages\\\\prompt_toolkit\\\\layout\\\\containers.py\": 1660419114.2159708, \"C:\\\\Users\\\\Xinli\\\\AppData\\\\Roaming\\\\Python\\\\Python310\\\\site-packages\\\\prompt_toolkit\\\\layout\\\\layout.py\": 1660419114.2189407, \"C:\\\\Users\\\\Xinli\\\\AppData\\\\Roaming\\\\Python\\\\Python310\\\\site-packages\\\\prompt_toolkit\\\\layout\\\\menus.py\": 1660419114.2207103, \"C:\\\\Users\\\\Xinli\\\\AppData\\\\Roaming\\\\Python\\\\Python310\\\\site-packages\\\\prompt_toolkit\\\\layout\\\\scrollable_pane.py\": 1660419114.2228897, \"C:\\\\Users\\\\Xinli\\\\AppData\\\\Roaming\\\\Python\\\\Python310\\\\site-packages\\\\prompt_toolkit\\\\layout\\\\__init__.py\": 1660419114.2149713, \"C:\\\\Users\\\\Xinli\\\\AppData\\\\Roaming\\\\Python\\\\Python310\\\\site-packages\\\\prompt_toolkit\\\\key_binding\\\\bindings\\\\completion.py\": 1660419114.2079809, \"C:\\\\Users\\\\Xinli\\\\AppData\\\\Roaming\\\\Python\\\\Python310\\\\site-packages\\\\prompt_toolkit\\\\key_binding\\\\bindings\\\\named_commands.py\": 1660419114.2109718, \"C:\\\\Users\\\\Xinli\\\\AppData\\\\Roaming\\\\Python\\\\Python310\\\\site-packages\\\\prompt_toolkit\\\\key_binding\\\\bindings\\\\basic.py\": 1660419114.2069843, \"C:\\\\Users\\\\Xinli\\\\AppData\\\\Roaming\\\\Python\\\\Python310\\\\site-packages\\\\prompt_toolkit\\\\key_binding\\\\bindings\\\\cpr.py\": 1660419114.2089708, \"C:\\\\Users\\\\Xinli\\\\AppData\\\\Roaming\\\\Python\\\\Python310\\\\site-packages\\\\prompt_toolkit\\\\key_binding\\\\bindings\\\\emacs.py\": 1660419114.2089708, \"C:\\\\Users\\\\Xinli\\\\AppData\\\\Roaming\\\\Python\\\\Python310\\\\site-packages\\\\prompt_toolkit\\\\key_binding\\\\bindings\\\\mouse.py\": 1660419114.2109718, \"C:\\\\Users\\\\Xinli\\\\AppData\\\\Roaming\\\\Python\\\\Python310\\\\site-packages\\\\prompt_toolkit\\\\input\\\\ansi_escape_sequences.py\": 1660419114.19498, \"C:\\\\Users\\\\Xinli\\\\AppData\\\\Roaming\\\\Python\\\\Python310\\\\site-packages\\\\prompt_toolkit\\\\input\\\\vt100_parser.py\": 1660419114.1999803, \"C:\\\\Users\\\\Xinli\\\\AppData\\\\Roaming\\\\Python\\\\Python310\\\\site-packages\\\\prompt_toolkit\\\\key_binding\\\\digraphs.py\": 1660419114.2025461, \"C:\\\\Users\\\\Xinli\\\\AppData\\\\Roaming\\\\Python\\\\Python310\\\\site-packages\\\\prompt_toolkit\\\\key_binding\\\\bindings\\\\vi.py\": 1660419114.2149713, \"C:\\\\Users\\\\Xinli\\\\AppData\\\\Roaming\\\\Python\\\\Python310\\\\site-packages\\\\prompt_toolkit\\\\key_binding\\\\defaults.py\": 1660419114.2015443, \"C:\\\\Users\\\\Xinli\\\\AppData\\\\Roaming\\\\Python\\\\Python310\\\\site-packages\\\\prompt_toolkit\\\\key_binding\\\\emacs_state.py\": 1660419114.2029428, \"C:\\\\Users\\\\Xinli\\\\AppData\\\\Roaming\\\\Python\\\\Python310\\\\site-packages\\\\prompt_toolkit\\\\layout\\\\dummy.py\": 1660419114.2179806, \"C:\\\\Users\\\\Xinli\\\\AppData\\\\Roaming\\\\Python\\\\Python310\\\\site-packages\\\\prompt_toolkit\\\\renderer.py\": 1660419114.1585028, \"C:\\\\Users\\\\Xinli\\\\AppData\\\\Roaming\\\\Python\\\\Python310\\\\site-packages\\\\prompt_toolkit\\\\application\\\\application.py\": 1660419114.1634798, \"C:\\\\Users\\\\Xinli\\\\AppData\\\\Roaming\\\\Python\\\\Python310\\\\site-packages\\\\prompt_toolkit\\\\application\\\\dummy.py\": 1660419114.1644802, \"C:\\\\Users\\\\Xinli\\\\AppData\\\\Roaming\\\\Python\\\\Python310\\\\site-packages\\\\prompt_toolkit\\\\application\\\\__init__.py\": 1660419114.16248, \"C:\\\\Users\\\\Xinli\\\\AppData\\\\Roaming\\\\Python\\\\Python310\\\\site-packages\\\\prompt_toolkit\\\\key_binding\\\\bindings\\\\focus.py\": 1660419114.2099714, \"C:\\\\Users\\\\Xinli\\\\AppData\\\\Roaming\\\\Python\\\\Python310\\\\site-packages\\\\prompt_toolkit\\\\widgets\\\\toolbars.py\": 1660419114.2458327, \"C:\\\\Users\\\\Xinli\\\\AppData\\\\Roaming\\\\Python\\\\Python310\\\\site-packages\\\\prompt_toolkit\\\\widgets\\\\base.py\": 1660419114.2438052, \"C:\\\\Users\\\\Xinli\\\\AppData\\\\Roaming\\\\Python\\\\Python310\\\\site-packages\\\\prompt_toolkit\\\\widgets\\\\dialogs.py\": 1660419114.2438052, \"C:\\\\Users\\\\Xinli\\\\AppData\\\\Roaming\\\\Python\\\\Python310\\\\site-packages\\\\prompt_toolkit\\\\widgets\\\\menus.py\": 1660419114.2448328, \"C:\\\\Users\\\\Xinli\\\\AppData\\\\Roaming\\\\Python\\\\Python310\\\\site-packages\\\\prompt_toolkit\\\\widgets\\\\__init__.py\": 1660419114.2423053, \"C:\\\\Users\\\\Xinli\\\\AppData\\\\Roaming\\\\Python\\\\Python310\\\\site-packages\\\\prompt_toolkit\\\\shortcuts\\\\dialogs.py\": 1660419114.2339036, \"C:\\\\Users\\\\Xinli\\\\AppData\\\\Roaming\\\\Python\\\\Python310\\\\site-packages\\\\prompt_toolkit\\\\shortcuts\\\\progress_bar\\\\formatters.py\": 1660419114.2372794, \"C:\\\\Users\\\\Xinli\\\\AppData\\\\Roaming\\\\Python\\\\Python310\\\\site-packages\\\\prompt_toolkit\\\\shortcuts\\\\progress_bar\\\\base.py\": 1660419114.2370834, \"C:\\\\Users\\\\Xinli\\\\AppData\\\\Roaming\\\\Python\\\\Python310\\\\site-packages\\\\prompt_toolkit\\\\shortcuts\\\\progress_bar\\\\__init__.py\": 1660419114.2360702, \"C:\\\\Users\\\\Xinli\\\\AppData\\\\Roaming\\\\Python\\\\Python310\\\\site-packages\\\\prompt_toolkit\\\\key_binding\\\\bindings\\\\auto_suggest.py\": 1660419114.2069843, \"C:\\\\Users\\\\Xinli\\\\AppData\\\\Roaming\\\\Python\\\\Python310\\\\site-packages\\\\prompt_toolkit\\\\key_binding\\\\bindings\\\\open_in_editor.py\": 1660419114.2119708, \"C:\\\\Users\\\\Xinli\\\\AppData\\\\Roaming\\\\Python\\\\Python310\\\\site-packages\\\\prompt_toolkit\\\\shortcuts\\\\prompt.py\": 1660419114.2339036, \"C:\\\\Users\\\\Xinli\\\\AppData\\\\Roaming\\\\Python\\\\Python310\\\\site-packages\\\\prompt_toolkit\\\\shortcuts\\\\utils.py\": 1660419114.2349615, \"C:\\\\Users\\\\Xinli\\\\AppData\\\\Roaming\\\\Python\\\\Python310\\\\site-packages\\\\prompt_toolkit\\\\shortcuts\\\\__init__.py\": 1660419114.2329056, \"C:\\\\Users\\\\Xinli\\\\AppData\\\\Roaming\\\\Python\\\\Python310\\\\site-packages\\\\prompt_toolkit\\\\__init__.py\": 1660419114.1493523, \"C:\\\\Users\\\\Xinli\\\\AppData\\\\Roaming\\\\Python\\\\Python310\\\\site-packages\\\\prompt_toolkit\\\\patch_stdout.py\": 1660419114.1574812, \"C:\\\\Users\\\\Xinli\\\\mambaforge\\\\envs\\\\base23\\\\DLLs\\\\unicodedata.pyd\": 1683744835.135504, \"C:\\\\Users\\\\Xinli\\\\AppData\\\\Roaming\\\\Python\\\\Python310\\\\site-packages\\\\IPython\\\\core\\\\latex_symbols.py\": 1660419122.4618225, \"C:\\\\Users\\\\Xinli\\\\AppData\\\\Roaming\\\\Python\\\\Python310\\\\site-packages\\\\IPython\\\\utils\\\\generics.py\": 1660419122.6264167, \"C:\\\\Users\\\\Xinli\\\\AppData\\\\Roaming\\\\Python\\\\Python310\\\\site-packages\\\\parso\\\\utils.py\": 1660419115.628152, \"C:\\\\Users\\\\Xinli\\\\AppData\\\\Roaming\\\\Python\\\\Python310\\\\site-packages\\\\parso\\\\tree.py\": 1660419115.6272328, \"C:\\\\Users\\\\Xinli\\\\AppData\\\\Roaming\\\\Python\\\\Python310\\\\site-packages\\\\parso\\\\python\\\\__init__.py\": 1660419115.6301897, \"C:\\\\Users\\\\Xinli\\\\AppData\\\\Roaming\\\\Python\\\\Python310\\\\site-packages\\\\parso\\\\python\\\\token.py\": 1660419115.6386845, \"C:\\\\Users\\\\Xinli\\\\AppData\\\\Roaming\\\\Python\\\\Python310\\\\site-packages\\\\parso\\\\python\\\\tokenize.py\": 1660419115.6386845, \"C:\\\\Users\\\\Xinli\\\\AppData\\\\Roaming\\\\Python\\\\Python310\\\\site-packages\\\\parso\\\\pgen2\\\\grammar_parser.py\": 1660419115.6301897, \"C:\\\\Users\\\\Xinli\\\\AppData\\\\Roaming\\\\Python\\\\Python310\\\\site-packages\\\\parso\\\\pgen2\\\\generator.py\": 1660419115.6291435, \"C:\\\\Users\\\\Xinli\\\\AppData\\\\Roaming\\\\Python\\\\Python310\\\\site-packages\\\\parso\\\\pgen2\\\\__init__.py\": 1660419115.628152, \"C:\\\\Users\\\\Xinli\\\\AppData\\\\Roaming\\\\Python\\\\Python310\\\\site-packages\\\\parso\\\\parser.py\": 1660419115.6251876, \"C:\\\\Users\\\\Xinli\\\\AppData\\\\Roaming\\\\Python\\\\Python310\\\\site-packages\\\\parso\\\\_compatibility.py\": 1660419115.6207175, \"C:\\\\Users\\\\Xinli\\\\mambaforge\\\\envs\\\\base23\\\\lib\\\\difflib.py\": 1680645435.0, \"C:\\\\Users\\\\Xinli\\\\AppData\\\\Roaming\\\\Python\\\\Python310\\\\site-packages\\\\parso\\\\python\\\\prefix.py\": 1660419115.6375792, \"C:\\\\Users\\\\Xinli\\\\AppData\\\\Roaming\\\\Python\\\\Python310\\\\site-packages\\\\parso\\\\python\\\\tree.py\": 1660419115.6396418, \"C:\\\\Users\\\\Xinli\\\\AppData\\\\Roaming\\\\Python\\\\Python310\\\\site-packages\\\\parso\\\\python\\\\parser.py\": 1660419115.6367896, \"C:\\\\Users\\\\Xinli\\\\AppData\\\\Roaming\\\\Python\\\\Python310\\\\site-packages\\\\parso\\\\python\\\\diff.py\": 1660419115.631234, \"C:\\\\Users\\\\Xinli\\\\AppData\\\\Roaming\\\\Python\\\\Python310\\\\site-packages\\\\parso\\\\cache.py\": 1660419115.6210768, \"C:\\\\Users\\\\Xinli\\\\AppData\\\\Roaming\\\\Python\\\\Python310\\\\site-packages\\\\parso\\\\normalizer.py\": 1660419115.6241574, \"C:\\\\Users\\\\Xinli\\\\AppData\\\\Roaming\\\\Python\\\\Python310\\\\site-packages\\\\parso\\\\python\\\\errors.py\": 1660419115.6322398, \"C:\\\\Users\\\\Xinli\\\\AppData\\\\Roaming\\\\Python\\\\Python310\\\\site-packages\\\\parso\\\\python\\\\pep8.py\": 1660419115.6375792, \"C:\\\\Users\\\\Xinli\\\\AppData\\\\Roaming\\\\Python\\\\Python310\\\\site-packages\\\\parso\\\\file_io.py\": 1660419115.6221776, \"C:\\\\Users\\\\Xinli\\\\AppData\\\\Roaming\\\\Python\\\\Python310\\\\site-packages\\\\parso\\\\grammar.py\": 1660419115.623148, \"C:\\\\Users\\\\Xinli\\\\AppData\\\\Roaming\\\\Python\\\\Python310\\\\site-packages\\\\parso\\\\__init__.py\": 1660419115.619083, \"C:\\\\Users\\\\Xinli\\\\AppData\\\\Roaming\\\\Python\\\\Python310\\\\site-packages\\\\jedi\\\\parser_utils.py\": 1660419119.5043285, \"C:\\\\Users\\\\Xinli\\\\AppData\\\\Roaming\\\\Python\\\\Python310\\\\site-packages\\\\jedi\\\\debug.py\": 1660419119.5033276, \"C:\\\\Users\\\\Xinli\\\\AppData\\\\Roaming\\\\Python\\\\Python310\\\\site-packages\\\\jedi\\\\settings.py\": 1660419119.5053287, \"C:\\\\Users\\\\Xinli\\\\AppData\\\\Roaming\\\\Python\\\\Python310\\\\site-packages\\\\jedi\\\\cache.py\": 1660419119.5016017, \"C:\\\\Users\\\\Xinli\\\\AppData\\\\Roaming\\\\Python\\\\Python310\\\\site-packages\\\\jedi\\\\file_io.py\": 1660419119.5033276, \"C:\\\\Users\\\\Xinli\\\\AppData\\\\Roaming\\\\Python\\\\Python310\\\\site-packages\\\\jedi\\\\inference\\\\cache.py\": 1660419119.5197997, \"C:\\\\Users\\\\Xinli\\\\AppData\\\\Roaming\\\\Python\\\\Python310\\\\site-packages\\\\jedi\\\\inference\\\\helpers.py\": 1660419119.5255702, \"C:\\\\Users\\\\Xinli\\\\AppData\\\\Roaming\\\\Python\\\\Python310\\\\site-packages\\\\jedi\\\\inference\\\\utils.py\": 1660419119.5335872, \"C:\\\\Users\\\\Xinli\\\\AppData\\\\Roaming\\\\Python\\\\Python310\\\\site-packages\\\\jedi\\\\inference\\\\base_value.py\": 1660419119.5190084, \"C:\\\\Users\\\\Xinli\\\\AppData\\\\Roaming\\\\Python\\\\Python310\\\\site-packages\\\\jedi\\\\inference\\\\sys_path.py\": 1660419119.532588, \"C:\\\\Users\\\\Xinli\\\\AppData\\\\Roaming\\\\Python\\\\Python310\\\\site-packages\\\\jedi\\\\inference\\\\recursion.py\": 1660419119.528587, \"C:\\\\Users\\\\Xinli\\\\AppData\\\\Roaming\\\\Python\\\\Python310\\\\site-packages\\\\jedi\\\\inference\\\\flow_analysis.py\": 1660419119.5248303, \"C:\\\\Users\\\\Xinli\\\\AppData\\\\Roaming\\\\Python\\\\Python310\\\\site-packages\\\\jedi\\\\common.py\": 1660419119.5023043, \"C:\\\\Users\\\\Xinli\\\\AppData\\\\Roaming\\\\Python\\\\Python310\\\\site-packages\\\\jedi\\\\inference\\\\lazy_value.py\": 1660419119.526588, \"C:\\\\Users\\\\Xinli\\\\AppData\\\\Roaming\\\\Python\\\\Python310\\\\site-packages\\\\jedi\\\\inference\\\\docstrings.py\": 1660419119.5218315, \"C:\\\\Users\\\\Xinli\\\\AppData\\\\Roaming\\\\Python\\\\Python310\\\\site-packages\\\\jedi\\\\plugins\\\\__init__.py\": 1660419119.5520031, \"C:\\\\Users\\\\Xinli\\\\AppData\\\\Roaming\\\\Python\\\\Python310\\\\site-packages\\\\jedi\\\\inference\\\\names.py\": 1660419119.527588, \"C:\\\\Users\\\\Xinli\\\\AppData\\\\Roaming\\\\Python\\\\Python310\\\\site-packages\\\\jedi\\\\inference\\\\filters.py\": 1660419119.5228302, \"C:\\\\Users\\\\Xinli\\\\AppData\\\\Roaming\\\\Python\\\\Python310\\\\site-packages\\\\jedi\\\\inference\\\\compiled\\\\getattr_static.py\": 1660419119.5363379, \"C:\\\\Users\\\\Xinli\\\\AppData\\\\Roaming\\\\Python\\\\Python310\\\\site-packages\\\\jedi\\\\inference\\\\compiled\\\\access.py\": 1660419119.5355284, \"C:\\\\Users\\\\Xinli\\\\AppData\\\\Roaming\\\\Python\\\\Python310\\\\site-packages\\\\jedi\\\\inference\\\\signature.py\": 1660419119.530588, \"C:\\\\Users\\\\Xinli\\\\AppData\\\\Roaming\\\\Python\\\\Python310\\\\site-packages\\\\jedi\\\\inference\\\\context.py\": 1660419119.5208485, \"C:\\\\Users\\\\Xinli\\\\AppData\\\\Roaming\\\\Python\\\\Python310\\\\site-packages\\\\jedi\\\\inference\\\\compiled\\\\value.py\": 1660419119.5373585, \"C:\\\\Users\\\\Xinli\\\\AppData\\\\Roaming\\\\Python\\\\Python310\\\\site-packages\\\\jedi\\\\inference\\\\compiled\\\\__init__.py\": 1660419119.5345876, \"C:\\\\Users\\\\Xinli\\\\AppData\\\\Roaming\\\\Python\\\\Python310\\\\site-packages\\\\jedi\\\\inference\\\\analysis.py\": 1660419119.5179403, \"C:\\\\Users\\\\Xinli\\\\AppData\\\\Roaming\\\\Python\\\\Python310\\\\site-packages\\\\jedi\\\\inference\\\\gradual\\\\__init__.py\": 1660419119.540003, \"C:\\\\Users\\\\Xinli\\\\AppData\\\\Roaming\\\\Python\\\\Python310\\\\site-packages\\\\jedi\\\\inference\\\\value\\\\module.py\": 1660419119.5510023, \"C:\\\\Users\\\\Xinli\\\\AppData\\\\Roaming\\\\Python\\\\Python310\\\\site-packages\\\\jedi\\\\inference\\\\value\\\\dynamic_arrays.py\": 1660419119.5480025, \"C:\\\\Users\\\\Xinli\\\\AppData\\\\Roaming\\\\Python\\\\Python310\\\\site-packages\\\\jedi\\\\inference\\\\value\\\\iterable.py\": 1660419119.5500026, \"C:\\\\Users\\\\Xinli\\\\AppData\\\\Roaming\\\\Python\\\\Python310\\\\site-packages\\\\jedi\\\\inference\\\\arguments.py\": 1660419119.5179403, \"C:\\\\Users\\\\Xinli\\\\AppData\\\\Roaming\\\\Python\\\\Python310\\\\site-packages\\\\jedi\\\\inference\\\\parser_cache.py\": 1660419119.528587, \"C:\\\\Users\\\\Xinli\\\\AppData\\\\Roaming\\\\Python\\\\Python310\\\\site-packages\\\\jedi\\\\inference\\\\gradual\\\\generics.py\": 1660419119.5430026, \"C:\\\\Users\\\\Xinli\\\\AppData\\\\Roaming\\\\Python\\\\Python310\\\\site-packages\\\\jedi\\\\inference\\\\value\\\\function.py\": 1660419119.5480025, \"C:\\\\Users\\\\Xinli\\\\AppData\\\\Roaming\\\\Python\\\\Python310\\\\site-packages\\\\jedi\\\\inference\\\\value\\\\klass.py\": 1660419119.5510023, \"C:\\\\Users\\\\Xinli\\\\AppData\\\\Roaming\\\\Python\\\\Python310\\\\site-packages\\\\jedi\\\\inference\\\\value\\\\instance.py\": 1660419119.5490026, \"C:\\\\Users\\\\Xinli\\\\AppData\\\\Roaming\\\\Python\\\\Python310\\\\site-packages\\\\jedi\\\\inference\\\\value\\\\__init__.py\": 1660419119.547003, \"C:\\\\Users\\\\Xinli\\\\AppData\\\\Roaming\\\\Python\\\\Python310\\\\site-packages\\\\jedi\\\\inference\\\\gradual\\\\base.py\": 1660419119.5420027, \"C:\\\\Users\\\\Xinli\\\\AppData\\\\Roaming\\\\Python\\\\Python310\\\\site-packages\\\\jedi\\\\inference\\\\gradual\\\\type_var.py\": 1660419119.5440023, \"C:\\\\Users\\\\Xinli\\\\AppData\\\\Roaming\\\\Python\\\\Python310\\\\site-packages\\\\jedi\\\\inference\\\\gradual\\\\typing.py\": 1660419119.5450032, \"C:\\\\Users\\\\Xinli\\\\AppData\\\\Roaming\\\\Python\\\\Python310\\\\site-packages\\\\jedi\\\\inference\\\\gradual\\\\stub_value.py\": 1660419119.5440023, \"C:\\\\Users\\\\Xinli\\\\AppData\\\\Roaming\\\\Python\\\\Python310\\\\site-packages\\\\jedi\\\\inference\\\\gradual\\\\typeshed.py\": 1660419119.5450032, \"C:\\\\Users\\\\Xinli\\\\AppData\\\\Roaming\\\\Python\\\\Python310\\\\site-packages\\\\jedi\\\\_compatibility.py\": 1660419119.5005083, \"C:\\\\Users\\\\Xinli\\\\AppData\\\\Roaming\\\\Python\\\\Python310\\\\site-packages\\\\jedi\\\\inference\\\\compiled\\\\subprocess\\\\functions.py\": 1660419119.540003, \"C:\\\\Users\\\\Xinli\\\\AppData\\\\Roaming\\\\Python\\\\Python310\\\\site-packages\\\\jedi\\\\api\\\\exceptions.py\": 1660419119.5099406, \"C:\\\\Users\\\\Xinli\\\\AppData\\\\Roaming\\\\Python\\\\Python310\\\\site-packages\\\\jedi\\\\inference\\\\compiled\\\\subprocess\\\\__init__.py\": 1660419119.5379868, \"C:\\\\Users\\\\Xinli\\\\AppData\\\\Roaming\\\\Python\\\\Python310\\\\site-packages\\\\jedi\\\\inference\\\\imports.py\": 1660419119.5255702, \"C:\\\\Users\\\\Xinli\\\\AppData\\\\Roaming\\\\Python\\\\Python310\\\\site-packages\\\\jedi\\\\inference\\\\param.py\": 1660419119.527588, \"C:\\\\Users\\\\Xinli\\\\AppData\\\\Roaming\\\\Python\\\\Python310\\\\site-packages\\\\jedi\\\\inference\\\\gradual\\\\annotation.py\": 1660419119.5410028, \"C:\\\\Users\\\\Xinli\\\\AppData\\\\Roaming\\\\Python\\\\Python310\\\\site-packages\\\\jedi\\\\inference\\\\value\\\\decorator.py\": 1660419119.547003, \"C:\\\\Users\\\\Xinli\\\\AppData\\\\Roaming\\\\Python\\\\Python310\\\\site-packages\\\\jedi\\\\inference\\\\syntax_tree.py\": 1660419119.5315876, \"C:\\\\Users\\\\Xinli\\\\AppData\\\\Roaming\\\\Python\\\\Python310\\\\site-packages\\\\jedi\\\\inference\\\\__init__.py\": 1660419119.5169404, \"C:\\\\Users\\\\Xinli\\\\AppData\\\\Roaming\\\\Python\\\\Python310\\\\site-packages\\\\jedi\\\\inference\\\\gradual\\\\conversion.py\": 1660419119.5420027, \"C:\\\\Users\\\\Xinli\\\\AppData\\\\Roaming\\\\Python\\\\Python310\\\\site-packages\\\\jedi\\\\inference\\\\compiled\\\\mixed.py\": 1660419119.5363379, \"C:\\\\Users\\\\Xinli\\\\mambaforge\\\\envs\\\\base23\\\\lib\\\\pydoc_data\\\\__init__.py\": 1680645435.0, \"C:\\\\Users\\\\Xinli\\\\mambaforge\\\\envs\\\\base23\\\\lib\\\\pydoc_data\\\\topics.py\": 1680645435.0, \"C:\\\\Users\\\\Xinli\\\\AppData\\\\Roaming\\\\Python\\\\Python310\\\\site-packages\\\\jedi\\\\api\\\\keywords.py\": 1660419119.5129406, \"C:\\\\Users\\\\Xinli\\\\AppData\\\\Roaming\\\\Python\\\\Python310\\\\site-packages\\\\jedi\\\\api\\\\completion_cache.py\": 1660419119.5078752, \"C:\\\\Users\\\\Xinli\\\\AppData\\\\Roaming\\\\Python\\\\Python310\\\\site-packages\\\\jedi\\\\api\\\\helpers.py\": 1660419119.5119605, \"C:\\\\Users\\\\Xinli\\\\AppData\\\\Roaming\\\\Python\\\\Python310\\\\site-packages\\\\jedi\\\\api\\\\classes.py\": 1660419119.507328, \"C:\\\\Users\\\\Xinli\\\\AppData\\\\Roaming\\\\Python\\\\Python310\\\\site-packages\\\\jedi\\\\api\\\\interpreter.py\": 1660419119.5119605, \"C:\\\\Users\\\\Xinli\\\\AppData\\\\Roaming\\\\Python\\\\Python310\\\\site-packages\\\\jedi\\\\api\\\\strings.py\": 1660419119.5149593, \"C:\\\\Users\\\\Xinli\\\\AppData\\\\Roaming\\\\Python\\\\Python310\\\\site-packages\\\\jedi\\\\api\\\\file_name.py\": 1660419119.51094, \"C:\\\\Users\\\\Xinli\\\\AppData\\\\Roaming\\\\Python\\\\Python310\\\\site-packages\\\\jedi\\\\inference\\\\docstring_utils.py\": 1660419119.5208485, \"C:\\\\Users\\\\Xinli\\\\AppData\\\\Roaming\\\\Python\\\\Python310\\\\site-packages\\\\jedi\\\\api\\\\completion.py\": 1660419119.5078752, \"C:\\\\Users\\\\Xinli\\\\mambaforge\\\\envs\\\\base23\\\\lib\\\\filecmp.py\": 1680645435.0, \"C:\\\\Users\\\\Xinli\\\\AppData\\\\Roaming\\\\Python\\\\Python310\\\\site-packages\\\\jedi\\\\api\\\\environment.py\": 1660419119.508942, \"C:\\\\Users\\\\Xinli\\\\AppData\\\\Roaming\\\\Python\\\\Python310\\\\site-packages\\\\jedi\\\\inference\\\\references.py\": 1660419119.5295875, \"C:\\\\Users\\\\Xinli\\\\AppData\\\\Roaming\\\\Python\\\\Python310\\\\site-packages\\\\jedi\\\\api\\\\project.py\": 1660419119.5129406, \"C:\\\\Users\\\\Xinli\\\\AppData\\\\Roaming\\\\Python\\\\Python310\\\\site-packages\\\\jedi\\\\api\\\\errors.py\": 1660419119.5099406, \"C:\\\\Users\\\\Xinli\\\\AppData\\\\Roaming\\\\Python\\\\Python310\\\\site-packages\\\\jedi\\\\api\\\\refactoring\\\\__init__.py\": 1660419119.5159519, \"C:\\\\Users\\\\Xinli\\\\AppData\\\\Roaming\\\\Python\\\\Python310\\\\site-packages\\\\jedi\\\\api\\\\refactoring\\\\extract.py\": 1660419119.5169404, \"C:\\\\Users\\\\Xinli\\\\AppData\\\\Roaming\\\\Python\\\\Python310\\\\site-packages\\\\jedi\\\\inference\\\\gradual\\\\utils.py\": 1660419119.5460026, \"C:\\\\Users\\\\Xinli\\\\AppData\\\\Roaming\\\\Python\\\\Python310\\\\site-packages\\\\jedi\\\\api\\\\__init__.py\": 1660419119.506327, \"C:\\\\Users\\\\Xinli\\\\AppData\\\\Roaming\\\\Python\\\\Python310\\\\site-packages\\\\jedi\\\\plugins\\\\stdlib.py\": 1660419119.555977, \"C:\\\\Users\\\\Xinli\\\\AppData\\\\Roaming\\\\Python\\\\Python310\\\\site-packages\\\\jedi\\\\plugins\\\\flask.py\": 1660419119.5539775, \"C:\\\\Users\\\\Xinli\\\\AppData\\\\Roaming\\\\Python\\\\Python310\\\\site-packages\\\\jedi\\\\plugins\\\\pytest.py\": 1660419119.5539775, \"C:\\\\Users\\\\Xinli\\\\AppData\\\\Roaming\\\\Python\\\\Python310\\\\site-packages\\\\jedi\\\\plugins\\\\django.py\": 1660419119.552955, \"C:\\\\Users\\\\Xinli\\\\AppData\\\\Roaming\\\\Python\\\\Python310\\\\site-packages\\\\jedi\\\\plugins\\\\registry.py\": 1660419119.5549762, \"C:\\\\Users\\\\Xinli\\\\AppData\\\\Roaming\\\\Python\\\\Python310\\\\site-packages\\\\jedi\\\\__init__.py\": 1660419119.4995928, \"C:\\\\Users\\\\Xinli\\\\AppData\\\\Roaming\\\\Python\\\\Python310\\\\site-packages\\\\IPython\\\\core\\\\completer.py\": 1660419122.4436092, \"C:\\\\Users\\\\Xinli\\\\AppData\\\\Roaming\\\\Python\\\\Python310\\\\site-packages\\\\IPython\\\\terminal\\\\ptutils.py\": 1660419122.580745, \"C:\\\\Users\\\\Xinli\\\\AppData\\\\Roaming\\\\Python\\\\Python310\\\\site-packages\\\\IPython\\\\lib\\\\clipboard.py\": 1660419122.5538037, \"C:\\\\Users\\\\Xinli\\\\AppData\\\\Roaming\\\\Python\\\\Python310\\\\site-packages\\\\IPython\\\\terminal\\\\shortcuts.py\": 1660419122.58148, \"C:\\\\Users\\\\Xinli\\\\mambaforge\\\\envs\\\\base23\\\\lib\\\\concurrent\\\\futures\\\\thread.py\": 1680645435.0, \"C:\\\\Users\\\\Xinli\\\\AppData\\\\Roaming\\\\Python\\\\Python310\\\\site-packages\\\\IPython\\\\terminal\\\\debugger.py\": 1660419122.5753732, \"C:\\\\Users\\\\Xinli\\\\AppData\\\\Roaming\\\\Python\\\\Python310\\\\site-packages\\\\IPython\\\\terminal\\\\magics.py\": 1660419122.579057, \"C:\\\\Users\\\\Xinli\\\\AppData\\\\Roaming\\\\Python\\\\Python310\\\\site-packages\\\\IPython\\\\terminal\\\\pt_inputhooks\\\\__init__.py\": 1660419122.581766, \"C:\\\\Users\\\\Xinli\\\\AppData\\\\Roaming\\\\Python\\\\Python310\\\\site-packages\\\\IPython\\\\terminal\\\\prompts.py\": 1660419122.5800917, \"C:\\\\Users\\\\Xinli\\\\AppData\\\\Roaming\\\\Python\\\\Python310\\\\site-packages\\\\IPython\\\\terminal\\\\interactiveshell.py\": 1660419122.5776567, \"C:\\\\Users\\\\Xinli\\\\AppData\\\\Roaming\\\\Python\\\\Python310\\\\site-packages\\\\IPython\\\\core\\\\magics\\\\auto.py\": 1660419122.480186, \"C:\\\\Users\\\\Xinli\\\\AppData\\\\Roaming\\\\Python\\\\Python310\\\\site-packages\\\\IPython\\\\core\\\\magics\\\\basic.py\": 1660419122.4808886, \"C:\\\\Users\\\\Xinli\\\\mambaforge\\\\envs\\\\base23\\\\lib\\\\email\\\\__init__.py\": 1680645435.0, \"C:\\\\Users\\\\Xinli\\\\mambaforge\\\\envs\\\\base23\\\\lib\\\\http\\\\__init__.py\": 1680645435.0, \"C:\\\\Users\\\\Xinli\\\\mambaforge\\\\envs\\\\base23\\\\lib\\\\email\\\\errors.py\": 1680645435.0, \"C:\\\\Users\\\\Xinli\\\\mambaforge\\\\envs\\\\base23\\\\lib\\\\email\\\\quoprimime.py\": 1680645435.0, \"C:\\\\Users\\\\Xinli\\\\mambaforge\\\\envs\\\\base23\\\\lib\\\\email\\\\base64mime.py\": 1680645435.0, \"C:\\\\Users\\\\Xinli\\\\mambaforge\\\\envs\\\\base23\\\\lib\\\\quopri.py\": 1680645435.0, \"C:\\\\Users\\\\Xinli\\\\mambaforge\\\\envs\\\\base23\\\\lib\\\\email\\\\encoders.py\": 1680645435.0, \"C:\\\\Users\\\\Xinli\\\\mambaforge\\\\envs\\\\base23\\\\lib\\\\email\\\\charset.py\": 1680645435.0, \"C:\\\\Users\\\\Xinli\\\\mambaforge\\\\envs\\\\base23\\\\lib\\\\email\\\\header.py\": 1680645435.0, \"C:\\\\Users\\\\Xinli\\\\mambaforge\\\\envs\\\\base23\\\\lib\\\\email\\\\_parseaddr.py\": 1680645435.0, \"C:\\\\Users\\\\Xinli\\\\mambaforge\\\\envs\\\\base23\\\\lib\\\\email\\\\utils.py\": 1680645435.0, \"C:\\\\Users\\\\Xinli\\\\mambaforge\\\\envs\\\\base23\\\\lib\\\\email\\\\_policybase.py\": 1680645435.0, \"C:\\\\Users\\\\Xinli\\\\mambaforge\\\\envs\\\\base23\\\\lib\\\\email\\\\feedparser.py\": 1680645435.0, \"C:\\\\Users\\\\Xinli\\\\mambaforge\\\\envs\\\\base23\\\\lib\\\\email\\\\parser.py\": 1680645435.0, \"C:\\\\Users\\\\Xinli\\\\mambaforge\\\\envs\\\\base23\\\\lib\\\\uu.py\": 1680645435.0, \"C:\\\\Users\\\\Xinli\\\\mambaforge\\\\envs\\\\base23\\\\lib\\\\email\\\\_encoded_words.py\": 1680645435.0, \"C:\\\\Users\\\\Xinli\\\\mambaforge\\\\envs\\\\base23\\\\lib\\\\email\\\\iterators.py\": 1680645435.0, \"C:\\\\Users\\\\Xinli\\\\mambaforge\\\\envs\\\\base23\\\\lib\\\\email\\\\message.py\": 1680645435.0, \"C:\\\\Users\\\\Xinli\\\\mambaforge\\\\envs\\\\base23\\\\lib\\\\http\\\\client.py\": 1680645435.0, \"C:\\\\Users\\\\Xinli\\\\mambaforge\\\\envs\\\\base23\\\\lib\\\\urllib\\\\response.py\": 1680645435.0, \"C:\\\\Users\\\\Xinli\\\\mambaforge\\\\envs\\\\base23\\\\lib\\\\urllib\\\\error.py\": 1680645435.0, \"C:\\\\Users\\\\Xinli\\\\mambaforge\\\\envs\\\\base23\\\\lib\\\\nturl2path.py\": 1680645435.0, \"C:\\\\Users\\\\Xinli\\\\mambaforge\\\\envs\\\\base23\\\\lib\\\\urllib\\\\request.py\": 1680645435.0, \"C:\\\\Users\\\\Xinli\\\\AppData\\\\Roaming\\\\Python\\\\Python310\\\\site-packages\\\\IPython\\\\utils\\\\contexts.py\": 1660419122.6213634, \"C:\\\\Users\\\\Xinli\\\\AppData\\\\Roaming\\\\Python\\\\Python310\\\\site-packages\\\\IPython\\\\core\\\\magics\\\\code.py\": 1660419122.4819381, \"C:\\\\Users\\\\Xinli\\\\AppData\\\\Roaming\\\\Python\\\\Python310\\\\site-packages\\\\IPython\\\\core\\\\magics\\\\config.py\": 1660419122.4825552, \"C:\\\\Users\\\\Xinli\\\\AppData\\\\Roaming\\\\Python\\\\Python310\\\\site-packages\\\\IPython\\\\core\\\\magics\\\\display.py\": 1660419122.4837835, \"C:\\\\Users\\\\Xinli\\\\mambaforge\\\\envs\\\\base23\\\\lib\\\\profile.py\": 1680645435.0, \"C:\\\\Users\\\\Xinli\\\\mambaforge\\\\envs\\\\base23\\\\lib\\\\cProfile.py\": 1680645435.0, \"C:\\\\Users\\\\Xinli\\\\mambaforge\\\\envs\\\\base23\\\\lib\\\\pstats.py\": 1680645435.0, \"C:\\\\Users\\\\Xinli\\\\mambaforge\\\\envs\\\\base23\\\\lib\\\\timeit.py\": 1680645435.0, \"C:\\\\Users\\\\Xinli\\\\AppData\\\\Roaming\\\\Python\\\\Python310\\\\site-packages\\\\IPython\\\\utils\\\\module_paths.py\": 1660419122.631039, \"C:\\\\Users\\\\Xinli\\\\AppData\\\\Roaming\\\\Python\\\\Python310\\\\site-packages\\\\IPython\\\\utils\\\\timing.py\": 1660419122.6390944, \"C:\\\\Users\\\\Xinli\\\\AppData\\\\Roaming\\\\Python\\\\Python310\\\\site-packages\\\\IPython\\\\core\\\\magics\\\\execution.py\": 1660419122.4839923, \"C:\\\\Users\\\\Xinli\\\\AppData\\\\Roaming\\\\Python\\\\Python310\\\\site-packages\\\\IPython\\\\core\\\\magics\\\\extension.py\": 1660419122.4858782, \"C:\\\\Users\\\\Xinli\\\\AppData\\\\Roaming\\\\Python\\\\Python310\\\\site-packages\\\\IPython\\\\core\\\\magics\\\\history.py\": 1660419122.4868028, \"C:\\\\Users\\\\Xinli\\\\AppData\\\\Roaming\\\\Python\\\\Python310\\\\site-packages\\\\IPython\\\\core\\\\magics\\\\logging.py\": 1660419122.488234, \"C:\\\\Users\\\\Xinli\\\\AppData\\\\Roaming\\\\Python\\\\Python310\\\\site-packages\\\\IPython\\\\core\\\\magics\\\\namespace.py\": 1660419122.4886172, \"C:\\\\Users\\\\Xinli\\\\AppData\\\\Roaming\\\\Python\\\\Python310\\\\site-packages\\\\IPython\\\\core\\\\magics\\\\osm.py\": 1660419122.490026, \"C:\\\\Users\\\\Xinli\\\\AppData\\\\Roaming\\\\Python\\\\Python310\\\\site-packages\\\\IPython\\\\core\\\\magics\\\\packaging.py\": 1660419122.4910636, \"C:\\\\Users\\\\Xinli\\\\AppData\\\\Roaming\\\\Python\\\\Python310\\\\site-packages\\\\IPython\\\\core\\\\pylabtools.py\": 1660419122.4733472, \"C:\\\\Users\\\\Xinli\\\\AppData\\\\Roaming\\\\Python\\\\Python310\\\\site-packages\\\\IPython\\\\core\\\\magics\\\\pylab.py\": 1660419122.4910636, \"C:\\\\Users\\\\Xinli\\\\AppData\\\\Roaming\\\\Python\\\\Python310\\\\site-packages\\\\IPython\\\\core\\\\magics\\\\script.py\": 1660419122.4922907, \"C:\\\\Users\\\\Xinli\\\\AppData\\\\Roaming\\\\Python\\\\Python310\\\\site-packages\\\\IPython\\\\core\\\\magics\\\\__init__.py\": 1660419122.4792058, \"C:\\\\Users\\\\Xinli\\\\AppData\\\\Roaming\\\\Python\\\\Python310\\\\site-packages\\\\IPython\\\\core\\\\shellapp.py\": 1660419122.47571, \"C:\\\\Users\\\\Xinli\\\\AppData\\\\Roaming\\\\Python\\\\Python310\\\\site-packages\\\\IPython\\\\extensions\\\\__init__.py\": 1660419122.5425847, \"C:\\\\Users\\\\Xinli\\\\AppData\\\\Roaming\\\\Python\\\\Python310\\\\site-packages\\\\IPython\\\\extensions\\\\storemagic.py\": 1660419122.5446198, \"C:\\\\Users\\\\Xinli\\\\AppData\\\\Roaming\\\\Python\\\\Python310\\\\site-packages\\\\IPython\\\\terminal\\\\ipapp.py\": 1660419122.5786304, \"C:\\\\Users\\\\Xinli\\\\AppData\\\\Roaming\\\\Python\\\\Python310\\\\site-packages\\\\IPython\\\\terminal\\\\embed.py\": 1660419122.576259, \"C:\\\\Users\\\\Xinli\\\\AppData\\\\Roaming\\\\Python\\\\Python310\\\\site-packages\\\\IPython\\\\utils\\\\frame.py\": 1660419122.625916, \"C:\\\\Users\\\\Xinli\\\\AppData\\\\Roaming\\\\Python\\\\Python310\\\\site-packages\\\\IPython\\\\__init__.py\": 1660419122.430632, \"C:\\\\Users\\\\Xinli\\\\AppData\\\\Roaming\\\\Python\\\\Python310\\\\site-packages\\\\ipykernel\\\\control.py\": 1660419125.0764024, \"C:\\\\Users\\\\Xinli\\\\AppData\\\\Roaming\\\\Python\\\\Python310\\\\site-packages\\\\ipykernel\\\\heartbeat.py\": 1660419125.0804002, \"C:\\\\Users\\\\Xinli\\\\AppData\\\\Roaming\\\\Python\\\\Python310\\\\site-packages\\\\ipykernel\\\\iostream.py\": 1660419125.0814002, \"C:\\\\Users\\\\Xinli\\\\AppData\\\\Roaming\\\\Python\\\\Python310\\\\site-packages\\\\IPython\\\\utils\\\\tokenutil.py\": 1660419122.640093, \"C:\\\\Users\\\\Xinli\\\\AppData\\\\Roaming\\\\Python\\\\Python310\\\\site-packages\\\\ipykernel\\\\jsonutil.py\": 1660419125.0824003, \"C:\\\\Users\\\\Xinli\\\\AppData\\\\Roaming\\\\Python\\\\Python310\\\\site-packages\\\\psutil\\\\_common.py\": 1660419113.7416615, \"C:\\\\Users\\\\Xinli\\\\AppData\\\\Roaming\\\\Python\\\\Python310\\\\site-packages\\\\psutil\\\\_compat.py\": 1660419113.742671, \"C:\\\\Users\\\\Xinli\\\\AppData\\\\Roaming\\\\Python\\\\Python310\\\\site-packages\\\\psutil\\\\_psutil_windows.cp310-win_amd64.pyd\": 1660419113.7487454, \"C:\\\\Users\\\\Xinli\\\\AppData\\\\Roaming\\\\Python\\\\Python310\\\\site-packages\\\\psutil\\\\_pswindows.py\": 1660419113.7496643, \"C:\\\\Users\\\\Xinli\\\\AppData\\\\Roaming\\\\Python\\\\Python310\\\\site-packages\\\\psutil\\\\__init__.py\": 1660419113.7416615, \"C:\\\\Users\\\\Xinli\\\\AppData\\\\Roaming\\\\Python\\\\Python310\\\\site-packages\\\\tornado\\\\locks.py\": 1660419107.8786101, \"C:\\\\Users\\\\Xinli\\\\AppData\\\\Roaming\\\\Python\\\\Python310\\\\site-packages\\\\tornado\\\\queues.py\": 1660419107.88061, \"C:\\\\Users\\\\Xinli\\\\AppData\\\\Roaming\\\\Python\\\\Python310\\\\site-packages\\\\ipykernel\\\\kernelbase.py\": 1660419125.0844004, \"C:\\\\Users\\\\Xinli\\\\AppData\\\\Roaming\\\\Python\\\\Python310\\\\site-packages\\\\ipykernel\\\\comm\\\\comm.py\": 1660419125.0899963, \"C:\\\\Users\\\\Xinli\\\\AppData\\\\Roaming\\\\Python\\\\Python310\\\\site-packages\\\\ipykernel\\\\comm\\\\manager.py\": 1660419125.0901651, \"C:\\\\Users\\\\Xinli\\\\AppData\\\\Roaming\\\\Python\\\\Python310\\\\site-packages\\\\ipykernel\\\\comm\\\\__init__.py\": 1660419125.0895975, \"C:\\\\Users\\\\Xinli\\\\AppData\\\\Roaming\\\\Python\\\\Python310\\\\site-packages\\\\ipykernel\\\\compiler.py\": 1660419125.0753615, \"C:\\\\Users\\\\Xinli\\\\AppData\\\\Roaming\\\\Python\\\\Python310\\\\site-packages\\\\debugpy\\\\_version.py\": 1660419115.9159172, \"C:\\\\Users\\\\Xinli\\\\AppData\\\\Roaming\\\\Python\\\\Python310\\\\site-packages\\\\debugpy\\\\public_api.py\": 1660419115.916917, \"C:\\\\Users\\\\Xinli\\\\AppData\\\\Roaming\\\\Python\\\\Python310\\\\site-packages\\\\debugpy\\\\__init__.py\": 1660419115.9149275, \"C:\\\\Users\\\\Xinli\\\\AppData\\\\Roaming\\\\Python\\\\Python310\\\\site-packages\\\\debugpy\\\\_vendored\\\\_util.py\": 1660419115.9179163, \"C:\\\\Users\\\\Xinli\\\\AppData\\\\Roaming\\\\Python\\\\Python310\\\\site-packages\\\\debugpy\\\\_vendored\\\\__init__.py\": 1660419115.916917, \"C:\\\\Users\\\\Xinli\\\\AppData\\\\Roaming\\\\Python\\\\Python310\\\\site-packages\\\\debugpy\\\\_vendored\\\\pydevd\\\\_pydevd_bundle\\\\__init__.py\": 1660419115.9524624, \"C:\\\\Users\\\\Xinli\\\\mambaforge\\\\envs\\\\base23\\\\lib\\\\encodings\\\\ascii.py\": 1680645435.0, \"C:\\\\Users\\\\Xinli\\\\mambaforge\\\\envs\\\\base23\\\\lib\\\\encodings\\\\latin_1.py\": 1680645435.0, \"C:\\\\Users\\\\Xinli\\\\mambaforge\\\\envs\\\\base23\\\\lib\\\\stringprep.py\": 1680645435.0, \"C:\\\\Users\\\\Xinli\\\\mambaforge\\\\envs\\\\base23\\\\lib\\\\encodings\\\\idna.py\": 1680645435.0, \"C:\\\\Users\\\\Xinli\\\\AppData\\\\Roaming\\\\Python\\\\Python310\\\\site-packages\\\\debugpy\\\\_vendored\\\\pydevd\\\\_pydevd_bundle\\\\pydevd_vm_type.py\": 1660419115.998475, \"C:\\\\Users\\\\Xinli\\\\AppData\\\\Roaming\\\\Python\\\\Python310\\\\site-packages\\\\debugpy\\\\_vendored\\\\pydevd\\\\_pydev_bundle\\\\__init__.py\": 1660419115.9264584, \"C:\\\\Users\\\\Xinli\\\\mambaforge\\\\envs\\\\base23\\\\lib\\\\xmlrpc\\\\__init__.py\": 1680645435.0, \"C:\\\\Users\\\\Xinli\\\\mambaforge\\\\envs\\\\base23\\\\lib\\\\xml\\\\parsers\\\\__init__.py\": 1680645435.0, \"C:\\\\Users\\\\Xinli\\\\mambaforge\\\\envs\\\\base23\\\\DLLs\\\\pyexpat.pyd\": 1683744837.464001, \"C:\\\\Users\\\\Xinli\\\\mambaforge\\\\envs\\\\base23\\\\lib\\\\xml\\\\parsers\\\\expat.py\": 1680645435.0, \"C:\\\\Users\\\\Xinli\\\\mambaforge\\\\envs\\\\base23\\\\lib\\\\gzip.py\": 1680645435.0, \"C:\\\\Users\\\\Xinli\\\\mambaforge\\\\envs\\\\base23\\\\lib\\\\xmlrpc\\\\client.py\": 1680645435.0, \"C:\\\\Users\\\\Xinli\\\\mambaforge\\\\envs\\\\base23\\\\lib\\\\http\\\\server.py\": 1680645435.0, \"C:\\\\Users\\\\Xinli\\\\mambaforge\\\\envs\\\\base23\\\\lib\\\\xmlrpc\\\\server.py\": 1680645435.0, \"C:\\\\Users\\\\Xinli\\\\AppData\\\\Roaming\\\\Python\\\\Python310\\\\site-packages\\\\debugpy\\\\_vendored\\\\pydevd\\\\_pydev_bundle\\\\_pydev_saved_modules.py\": 1660419115.9325573, \"C:\\\\Users\\\\Xinli\\\\AppData\\\\Roaming\\\\Python\\\\Python310\\\\site-packages\\\\debugpy\\\\_vendored\\\\pydevd\\\\_pydevd_bundle\\\\pydevd_constants.py\": 1660419115.961333, \"C:\\\\Users\\\\Xinli\\\\AppData\\\\Roaming\\\\Python\\\\Python310\\\\site-packages\\\\debugpy\\\\_vendored\\\\pydevd\\\\_pydev_runfiles\\\\__init__.py\": 1660419115.9460938, \"C:\\\\Users\\\\Xinli\\\\AppData\\\\Roaming\\\\Python\\\\Python310\\\\site-packages\\\\debugpy\\\\_vendored\\\\pydevd\\\\_pydevd_frame_eval\\\\__init__.py\": 1660419116.0104446, \"C:\\\\Users\\\\Xinli\\\\AppData\\\\Roaming\\\\Python\\\\Python310\\\\site-packages\\\\debugpy\\\\_vendored\\\\pydevd\\\\pydev_ipython\\\\__init__.py\": 1660419116.0356095, \"C:\\\\Users\\\\Xinli\\\\mambaforge\\\\envs\\\\base23\\\\lib\\\\plistlib.py\": 1680645435.0, \"C:\\\\Users\\\\Xinli\\\\mambaforge\\\\envs\\\\base23\\\\lib\\\\site-packages\\\\pkg_resources\\\\extern\\\\__init__.py\": 1673837147.0, \"C:\\\\Users\\\\Xinli\\\\mambaforge\\\\envs\\\\base23\\\\lib\\\\site-packages\\\\pkg_resources\\\\_vendor\\\\__init__.py\": 1673837147.0, \"C:\\\\Users\\\\Xinli\\\\mambaforge\\\\envs\\\\base23\\\\lib\\\\site-packages\\\\pkg_resources\\\\_vendor\\\\jaraco\\\\__init__.py\": 1673837147.0, \"C:\\\\Users\\\\Xinli\\\\mambaforge\\\\envs\\\\base23\\\\lib\\\\importlib\\\\_adapters.py\": 1680645435.0, \"C:\\\\Users\\\\Xinli\\\\mambaforge\\\\envs\\\\base23\\\\lib\\\\importlib\\\\_common.py\": 1680645435.0, \"C:\\\\Users\\\\Xinli\\\\mambaforge\\\\envs\\\\base23\\\\lib\\\\importlib\\\\resources.py\": 1680645435.0, \"C:\\\\Users\\\\Xinli\\\\mambaforge\\\\envs\\\\base23\\\\lib\\\\site-packages\\\\pkg_resources\\\\_vendor\\\\more_itertools\\\\recipes.py\": 1673837147.0, \"C:\\\\Users\\\\Xinli\\\\mambaforge\\\\envs\\\\base23\\\\lib\\\\site-packages\\\\pkg_resources\\\\_vendor\\\\more_itertools\\\\more.py\": 1673837147.0, \"C:\\\\Users\\\\Xinli\\\\mambaforge\\\\envs\\\\base23\\\\lib\\\\site-packages\\\\pkg_resources\\\\_vendor\\\\more_itertools\\\\__init__.py\": 1673837147.0, \"C:\\\\Users\\\\Xinli\\\\mambaforge\\\\envs\\\\base23\\\\lib\\\\site-packages\\\\pkg_resources\\\\_vendor\\\\jaraco\\\\functools.py\": 1673837147.0, \"C:\\\\Users\\\\Xinli\\\\mambaforge\\\\envs\\\\base23\\\\lib\\\\site-packages\\\\pkg_resources\\\\_vendor\\\\jaraco\\\\context.py\": 1673837147.0, \"C:\\\\Users\\\\Xinli\\\\mambaforge\\\\envs\\\\base23\\\\lib\\\\site-packages\\\\pkg_resources\\\\_vendor\\\\jaraco\\\\text\\\\__init__.py\": 1673837147.0, \"C:\\\\Users\\\\Xinli\\\\mambaforge\\\\envs\\\\base23\\\\lib\\\\site-packages\\\\pkg_resources\\\\_vendor\\\\platformdirs\\\\api.py\": 1673837147.0, \"C:\\\\Users\\\\Xinli\\\\mambaforge\\\\envs\\\\base23\\\\lib\\\\site-packages\\\\pkg_resources\\\\_vendor\\\\platformdirs\\\\version.py\": 1673837147.0, \"C:\\\\Users\\\\Xinli\\\\mambaforge\\\\envs\\\\base23\\\\lib\\\\site-packages\\\\pkg_resources\\\\_vendor\\\\platformdirs\\\\windows.py\": 1673837147.0, \"C:\\\\Users\\\\Xinli\\\\mambaforge\\\\envs\\\\base23\\\\lib\\\\site-packages\\\\pkg_resources\\\\_vendor\\\\platformdirs\\\\__init__.py\": 1673837147.0, \"C:\\\\Users\\\\Xinli\\\\mambaforge\\\\envs\\\\base23\\\\lib\\\\site-packages\\\\pkg_resources\\\\_vendor\\\\packaging\\\\__about__.py\": 1673837147.0, \"C:\\\\Users\\\\Xinli\\\\mambaforge\\\\envs\\\\base23\\\\lib\\\\site-packages\\\\pkg_resources\\\\_vendor\\\\packaging\\\\__init__.py\": 1673837147.0, \"C:\\\\Users\\\\Xinli\\\\mambaforge\\\\envs\\\\base23\\\\lib\\\\site-packages\\\\pkg_resources\\\\_vendor\\\\packaging\\\\_structures.py\": 1673837147.0, \"C:\\\\Users\\\\Xinli\\\\mambaforge\\\\envs\\\\base23\\\\lib\\\\site-packages\\\\pkg_resources\\\\_vendor\\\\packaging\\\\version.py\": 1673837147.0, \"C:\\\\Users\\\\Xinli\\\\mambaforge\\\\envs\\\\base23\\\\lib\\\\site-packages\\\\pkg_resources\\\\_vendor\\\\packaging\\\\_manylinux.py\": 1673837147.0, \"C:\\\\Users\\\\Xinli\\\\mambaforge\\\\envs\\\\base23\\\\lib\\\\site-packages\\\\pkg_resources\\\\_vendor\\\\packaging\\\\_musllinux.py\": 1673837147.0, \"C:\\\\Users\\\\Xinli\\\\mambaforge\\\\envs\\\\base23\\\\lib\\\\site-packages\\\\pkg_resources\\\\_vendor\\\\packaging\\\\tags.py\": 1673837147.0, \"C:\\\\Users\\\\Xinli\\\\mambaforge\\\\envs\\\\base23\\\\lib\\\\site-packages\\\\pkg_resources\\\\_vendor\\\\packaging\\\\utils.py\": 1673837147.0, \"C:\\\\Users\\\\Xinli\\\\mambaforge\\\\envs\\\\base23\\\\lib\\\\site-packages\\\\pkg_resources\\\\_vendor\\\\packaging\\\\specifiers.py\": 1673837147.0, \"C:\\\\Users\\\\Xinli\\\\mambaforge\\\\envs\\\\base23\\\\lib\\\\site-packages\\\\pkg_resources\\\\_vendor\\\\pyparsing\\\\util.py\": 1673837147.0, \"C:\\\\Users\\\\Xinli\\\\mambaforge\\\\envs\\\\base23\\\\lib\\\\site-packages\\\\pkg_resources\\\\_vendor\\\\pyparsing\\\\unicode.py\": 1673837147.0, \"C:\\\\Users\\\\Xinli\\\\mambaforge\\\\envs\\\\base23\\\\lib\\\\site-packages\\\\pkg_resources\\\\_vendor\\\\pyparsing\\\\exceptions.py\": 1673837147.0, \"C:\\\\Users\\\\Xinli\\\\mambaforge\\\\envs\\\\base23\\\\lib\\\\site-packages\\\\pkg_resources\\\\_vendor\\\\pyparsing\\\\actions.py\": 1673837147.0, \"C:\\\\Users\\\\Xinli\\\\mambaforge\\\\envs\\\\base23\\\\lib\\\\site-packages\\\\pkg_resources\\\\_vendor\\\\pyparsing\\\\results.py\": 1673837147.0, \"C:\\\\Users\\\\Xinli\\\\mambaforge\\\\envs\\\\base23\\\\lib\\\\site-packages\\\\pkg_resources\\\\_vendor\\\\pyparsing\\\\core.py\": 1673837147.0, \"C:\\\\Users\\\\Xinli\\\\mambaforge\\\\envs\\\\base23\\\\lib\\\\site-packages\\\\pkg_resources\\\\_vendor\\\\pyparsing\\\\helpers.py\": 1673837147.0, \"C:\\\\Users\\\\Xinli\\\\mambaforge\\\\envs\\\\base23\\\\lib\\\\site-packages\\\\pkg_resources\\\\_vendor\\\\pyparsing\\\\testing.py\": 1673837147.0, \"C:\\\\Users\\\\Xinli\\\\mambaforge\\\\envs\\\\base23\\\\lib\\\\site-packages\\\\pkg_resources\\\\_vendor\\\\pyparsing\\\\common.py\": 1673837147.0, \"C:\\\\Users\\\\Xinli\\\\mambaforge\\\\envs\\\\base23\\\\lib\\\\site-packages\\\\pkg_resources\\\\_vendor\\\\pyparsing\\\\__init__.py\": 1673837147.0, \"C:\\\\Users\\\\Xinli\\\\mambaforge\\\\envs\\\\base23\\\\lib\\\\site-packages\\\\pkg_resources\\\\_vendor\\\\packaging\\\\markers.py\": 1673837147.0, \"C:\\\\Users\\\\Xinli\\\\mambaforge\\\\envs\\\\base23\\\\lib\\\\site-packages\\\\pkg_resources\\\\_vendor\\\\packaging\\\\requirements.py\": 1673837147.0, \"C:\\\\Users\\\\Xinli\\\\mambaforge\\\\envs\\\\base23\\\\lib\\\\site-packages\\\\pkg_resources\\\\__init__.py\": 1673837147.0, \"C:\\\\Users\\\\Xinli\\\\AppData\\\\Roaming\\\\Python\\\\Python310\\\\site-packages\\\\debugpy\\\\_vendored\\\\pydevd\\\\pydevd_plugins\\\\__init__.py\": 1660419116.1609366, \"C:\\\\Users\\\\Xinli\\\\AppData\\\\Roaming\\\\Python\\\\Python310\\\\site-packages\\\\debugpy\\\\_vendored\\\\pydevd\\\\_pydev_bundle\\\\pydev_log.py\": 1660419115.940886, \"C:\\\\Users\\\\Xinli\\\\AppData\\\\Roaming\\\\Python\\\\Python310\\\\site-packages\\\\debugpy\\\\_vendored\\\\pydevd\\\\_pydev_bundle\\\\_pydev_filesystem_encoding.py\": 1660419115.9285429, \"C:\\\\Users\\\\Xinli\\\\AppData\\\\Roaming\\\\Python\\\\Python310\\\\site-packages\\\\debugpy\\\\_vendored\\\\pydevd\\\\_pydevd_bundle\\\\pydevd_comm_constants.py\": 1660419115.960334, \"C:\\\\Users\\\\Xinli\\\\AppData\\\\Roaming\\\\Python\\\\Python310\\\\site-packages\\\\debugpy\\\\_vendored\\\\pydevd\\\\pydevd_file_utils.py\": 1660419115.924431, \"C:\\\\Users\\\\Xinli\\\\AppData\\\\Roaming\\\\Python\\\\Python310\\\\site-packages\\\\debugpy\\\\_vendored\\\\pydevd\\\\_pydev_bundle\\\\_pydev_execfile.py\": 1660419115.9285429, \"C:\\\\Users\\\\Xinli\\\\AppData\\\\Roaming\\\\Python\\\\Python310\\\\site-packages\\\\debugpy\\\\_vendored\\\\pydevd\\\\_pydevd_bundle\\\\pydevd_exec2.py\": 1660419115.975344, \"C:\\\\Users\\\\Xinli\\\\AppData\\\\Roaming\\\\Python\\\\Python310\\\\site-packages\\\\debugpy\\\\_vendored\\\\pydevd\\\\_pydev_bundle\\\\pydev_imports.py\": 1660419115.9357972, \"C:\\\\Users\\\\Xinli\\\\AppData\\\\Roaming\\\\Python\\\\Python310\\\\site-packages\\\\debugpy\\\\_vendored\\\\pydevd\\\\_pydev_bundle\\\\pydev_is_thread_alive.py\": 1660419115.9384997, \"C:\\\\Users\\\\Xinli\\\\AppData\\\\Roaming\\\\Python\\\\Python310\\\\site-packages\\\\debugpy\\\\_vendored\\\\pydevd\\\\_pydev_bundle\\\\pydev_override.py\": 1660419115.9431012, \"C:\\\\Users\\\\Xinli\\\\AppData\\\\Roaming\\\\Python\\\\Python310\\\\site-packages\\\\debugpy\\\\_vendored\\\\pydevd\\\\pydevd_plugins\\\\extensions\\\\__init__.py\": 1660419116.1639373, \"C:\\\\Users\\\\Xinli\\\\AppData\\\\Roaming\\\\Python\\\\Python310\\\\site-packages\\\\debugpy\\\\_vendored\\\\pydevd\\\\_pydevd_bundle\\\\pydevd_extension_utils.py\": 1660419115.9773393, \"C:\\\\Users\\\\Xinli\\\\AppData\\\\Roaming\\\\Python\\\\Python310\\\\site-packages\\\\debugpy\\\\_vendored\\\\pydevd\\\\_pydevd_bundle\\\\pydevd_frame_utils.py\": 1660419115.979317, \"C:\\\\Users\\\\Xinli\\\\AppData\\\\Roaming\\\\Python\\\\Python310\\\\site-packages\\\\debugpy\\\\_vendored\\\\pydevd\\\\_pydevd_bundle\\\\pydevd_filtering.py\": 1660419115.9773393, \"C:\\\\Users\\\\Xinli\\\\AppData\\\\Roaming\\\\Python\\\\Python310\\\\site-packages\\\\debugpy\\\\_vendored\\\\pydevd\\\\_pydevd_bundle\\\\pydevd_io.py\": 1660419115.982317, \"C:\\\\Users\\\\Xinli\\\\AppData\\\\Roaming\\\\Python\\\\Python310\\\\site-packages\\\\debugpy\\\\_vendored\\\\pydevd\\\\_pydevd_bundle\\\\pydevd_utils.py\": 1660419115.9974759, \"C:\\\\Users\\\\Xinli\\\\AppData\\\\Roaming\\\\Python\\\\Python310\\\\site-packages\\\\debugpy\\\\_vendored\\\\pydevd\\\\_pydevd_bundle\\\\pydevd_runpy.py\": 1660419115.991476, \"C:\\\\Users\\\\Xinli\\\\AppData\\\\Roaming\\\\Python\\\\Python310\\\\site-packages\\\\debugpy\\\\_vendored\\\\pydevd\\\\_pydev_bundle\\\\_pydev_tipper_common.py\": 1660419115.9334588, \"C:\\\\Users\\\\Xinli\\\\AppData\\\\Roaming\\\\Python\\\\Python310\\\\site-packages\\\\debugpy\\\\_vendored\\\\pydevd\\\\_pydev_bundle\\\\_pydev_imports_tipper.py\": 1660419115.930524, \"C:\\\\Users\\\\Xinli\\\\AppData\\\\Roaming\\\\Python\\\\Python310\\\\site-packages\\\\debugpy\\\\_vendored\\\\pydevd\\\\_pydev_bundle\\\\_pydev_calltip_util.py\": 1660419115.9264584, \"C:\\\\Users\\\\Xinli\\\\AppData\\\\Roaming\\\\Python\\\\Python310\\\\site-packages\\\\debugpy\\\\_vendored\\\\pydevd\\\\_pydevd_bundle\\\\pydevd_safe_repr.py\": 1660419115.991476, \"C:\\\\Users\\\\Xinli\\\\AppData\\\\Roaming\\\\Python\\\\Python310\\\\site-packages\\\\debugpy\\\\_vendored\\\\pydevd\\\\_pydevd_bundle\\\\pydevd_resolver.py\": 1660419115.9904754, \"C:\\\\Users\\\\Xinli\\\\AppData\\\\Roaming\\\\Python\\\\Python310\\\\site-packages\\\\debugpy\\\\_vendored\\\\pydevd\\\\_pydevd_bundle\\\\pydevd_extension_api.py\": 1660419115.9763296, \"C:\\\\Users\\\\Xinli\\\\AppData\\\\Roaming\\\\Python\\\\Python310\\\\site-packages\\\\debugpy\\\\_vendored\\\\pydevd\\\\_pydevd_bundle\\\\pydevd_xml.py\": 1660419115.999476, \"C:\\\\Users\\\\Xinli\\\\AppData\\\\Roaming\\\\Python\\\\Python310\\\\site-packages\\\\debugpy\\\\_vendored\\\\pydevd\\\\_pydevd_bundle\\\\pydevd_dont_trace.py\": 1660419115.9743218, \"C:\\\\Users\\\\Xinli\\\\AppData\\\\Roaming\\\\Python\\\\Python310\\\\site-packages\\\\debugpy\\\\_vendored\\\\pydevd\\\\_pydevd_frame_eval\\\\vendored\\\\__init__.py\": 1660419116.0219812, \"C:\\\\Users\\\\Xinli\\\\AppData\\\\Roaming\\\\Python\\\\Python310\\\\site-packages\\\\debugpy\\\\_vendored\\\\pydevd\\\\_pydevd_frame_eval\\\\vendored\\\\bytecode\\\\flags.py\": 1660419116.0250041, \"C:\\\\Users\\\\Xinli\\\\AppData\\\\Roaming\\\\Python\\\\Python310\\\\site-packages\\\\debugpy\\\\_vendored\\\\pydevd\\\\_pydevd_frame_eval\\\\vendored\\\\bytecode\\\\instr.py\": 1660419116.0260055, \"C:\\\\Users\\\\Xinli\\\\AppData\\\\Roaming\\\\Python\\\\Python310\\\\site-packages\\\\debugpy\\\\_vendored\\\\pydevd\\\\_pydevd_frame_eval\\\\vendored\\\\bytecode\\\\bytecode.py\": 1660419116.0240047, \"C:\\\\Users\\\\Xinli\\\\AppData\\\\Roaming\\\\Python\\\\Python310\\\\site-packages\\\\debugpy\\\\_vendored\\\\pydevd\\\\_pydevd_frame_eval\\\\vendored\\\\bytecode\\\\concrete.py\": 1660419116.0250041, \"C:\\\\Users\\\\Xinli\\\\AppData\\\\Roaming\\\\Python\\\\Python310\\\\site-packages\\\\debugpy\\\\_vendored\\\\pydevd\\\\_pydevd_frame_eval\\\\vendored\\\\bytecode\\\\cfg.py\": 1660419116.0240047, \"C:\\\\Users\\\\Xinli\\\\AppData\\\\Roaming\\\\Python\\\\Python310\\\\site-packages\\\\debugpy\\\\_vendored\\\\pydevd\\\\_pydevd_frame_eval\\\\vendored\\\\bytecode\\\\__init__.py\": 1660419116.0230074, \"C:\\\\Users\\\\Xinli\\\\AppData\\\\Roaming\\\\Python\\\\Python310\\\\site-packages\\\\debugpy\\\\_vendored\\\\pydevd\\\\_pydevd_bundle\\\\pydevd_bytecode_utils.py\": 1660419115.9576504, \"C:\\\\Users\\\\Xinli\\\\AppData\\\\Roaming\\\\Python\\\\Python310\\\\site-packages\\\\debugpy\\\\_vendored\\\\pydevd\\\\_pydevd_bundle\\\\pydevd_cython.cp310-win_amd64.pyd\": 1660419115.9693334, \"C:\\\\Users\\\\Xinli\\\\AppData\\\\Roaming\\\\Python\\\\Python310\\\\site-packages\\\\debugpy\\\\_vendored\\\\pydevd\\\\_pydevd_bundle\\\\pydevd_cython_wrapper.py\": 1660419115.9724314, \"C:\\\\Users\\\\Xinli\\\\AppData\\\\Roaming\\\\Python\\\\Python310\\\\site-packages\\\\debugpy\\\\_vendored\\\\pydevd\\\\_pydevd_bundle\\\\pydevd_additional_thread_info.py\": 1660419115.954475, \"C:\\\\Users\\\\Xinli\\\\AppData\\\\Roaming\\\\Python\\\\Python310\\\\site-packages\\\\debugpy\\\\_vendored\\\\pydevd\\\\_pydevd_bundle\\\\pydevd_thread_lifecycle.py\": 1660419115.9944754, \"C:\\\\Users\\\\Xinli\\\\AppData\\\\Roaming\\\\Python\\\\Python310\\\\site-packages\\\\debugpy\\\\_vendored\\\\pydevd\\\\_pydevd_bundle\\\\pydevd_save_locals.py\": 1660419115.9924755, \"C:\\\\Users\\\\Xinli\\\\AppData\\\\Roaming\\\\Python\\\\Python310\\\\site-packages\\\\debugpy\\\\_vendored\\\\pydevd\\\\_pydevd_bundle\\\\pydevd_defaults.py\": 1660419115.973406, \"C:\\\\Users\\\\Xinli\\\\AppData\\\\Roaming\\\\Python\\\\Python310\\\\site-packages\\\\debugpy\\\\_vendored\\\\pydevd\\\\_pydev_bundle\\\\pydev_monkey.py\": 1660419115.9421375, \"C:\\\\Users\\\\Xinli\\\\AppData\\\\Roaming\\\\Python\\\\Python310\\\\site-packages\\\\debugpy\\\\_vendored\\\\pydevd\\\\pydevd_tracing.py\": 1660419115.925456, \"C:\\\\Users\\\\Xinli\\\\AppData\\\\Roaming\\\\Python\\\\Python310\\\\site-packages\\\\debugpy\\\\_vendored\\\\pydevd\\\\_pydevd_bundle\\\\pydevd_collect_bytecode_info.py\": 1660419115.9592993, \"C:\\\\Users\\\\Xinli\\\\AppData\\\\Roaming\\\\Python\\\\Python310\\\\site-packages\\\\debugpy\\\\_vendored\\\\pydevd\\\\_pydevd_bundle\\\\pydevd_daemon_thread.py\": 1660419115.973406, \"C:\\\\Users\\\\Xinli\\\\AppData\\\\Roaming\\\\Python\\\\Python310\\\\site-packages\\\\debugpy\\\\_vendored\\\\pydevd\\\\_pydevd_bundle\\\\pydevd_timeout.py\": 1660419115.9954755, \"C:\\\\Users\\\\Xinli\\\\AppData\\\\Roaming\\\\Python\\\\Python310\\\\site-packages\\\\debugpy\\\\_vendored\\\\pydevd\\\\_pydevd_bundle\\\\pydevd_vars.py\": 1660419115.998475, \"C:\\\\Users\\\\Xinli\\\\AppData\\\\Roaming\\\\Python\\\\Python310\\\\site-packages\\\\debugpy\\\\_vendored\\\\pydevd\\\\_pydev_bundle\\\\pydev_console_utils.py\": 1660419115.9344592, \"C:\\\\Users\\\\Xinli\\\\AppData\\\\Roaming\\\\Python\\\\Python310\\\\site-packages\\\\debugpy\\\\_vendored\\\\pydevd\\\\_pydevd_bundle\\\\pydevd_import_class.py\": 1660419115.981318, \"C:\\\\Users\\\\Xinli\\\\AppData\\\\Roaming\\\\Python\\\\Python310\\\\site-packages\\\\debugpy\\\\_vendored\\\\pydevd\\\\_pydevd_bundle\\\\pydevd_breakpoints.py\": 1660419115.9566553, \"C:\\\\Users\\\\Xinli\\\\AppData\\\\Roaming\\\\Python\\\\Python310\\\\site-packages\\\\debugpy\\\\_vendored\\\\pydevd\\\\_pydevd_bundle\\\\pydevd_custom_frames.py\": 1660419115.962333, \"C:\\\\Users\\\\Xinli\\\\AppData\\\\Roaming\\\\Python\\\\Python310\\\\site-packages\\\\debugpy\\\\_vendored\\\\pydevd\\\\_pydevd_bundle\\\\pydevd_dont_trace_files.py\": 1660419115.975344, \"C:\\\\Users\\\\Xinli\\\\AppData\\\\Roaming\\\\Python\\\\Python310\\\\site-packages\\\\debugpy\\\\_vendored\\\\pydevd\\\\_pydevd_bundle\\\\pydevd_net_command.py\": 1660419115.9832966, \"C:\\\\Users\\\\Xinli\\\\AppData\\\\Roaming\\\\Python\\\\Python310\\\\site-packages\\\\debugpy\\\\_vendored\\\\pydevd\\\\_pydev_bundle\\\\pydev_umd.py\": 1660419115.9440951, \"C:\\\\Users\\\\Xinli\\\\AppData\\\\Roaming\\\\Python\\\\Python310\\\\site-packages\\\\debugpy\\\\_vendored\\\\pydevd\\\\pydevconsole.py\": 1660419115.9232793, \"C:\\\\Users\\\\Xinli\\\\AppData\\\\Roaming\\\\Python\\\\Python310\\\\site-packages\\\\debugpy\\\\_vendored\\\\pydevd\\\\_pydev_bundle\\\\_pydev_completer.py\": 1660419115.927459, \"C:\\\\Users\\\\Xinli\\\\AppData\\\\Roaming\\\\Python\\\\Python310\\\\site-packages\\\\debugpy\\\\_vendored\\\\pydevd\\\\_pydevd_bundle\\\\pydevd_net_command_factory_xml.py\": 1660419115.9853177, \"C:\\\\Users\\\\Xinli\\\\AppData\\\\Roaming\\\\Python\\\\Python310\\\\site-packages\\\\debugpy\\\\_vendored\\\\pydevd\\\\_pydevd_bundle\\\\pydevd_frame.py\": 1660419115.9783278, \"C:\\\\Users\\\\Xinli\\\\AppData\\\\Roaming\\\\Python\\\\Python310\\\\site-packages\\\\debugpy\\\\_vendored\\\\pydevd\\\\_pydevd_bundle\\\\pydevd_additional_thread_info_regular.py\": 1660419115.9551194, \"C:\\\\Users\\\\Xinli\\\\AppData\\\\Roaming\\\\Python\\\\Python310\\\\site-packages\\\\debugpy\\\\_vendored\\\\pydevd\\\\_pydevd_bundle\\\\pydevd_trace_dispatch.py\": 1660419115.9964757, \"C:\\\\Users\\\\Xinli\\\\AppData\\\\Roaming\\\\Python\\\\Python310\\\\site-packages\\\\debugpy\\\\_vendored\\\\pydevd\\\\_pydevd_bundle\\\\_debug_adapter\\\\__init__.py\": 1660419115.999476, \"C:\\\\Users\\\\Xinli\\\\AppData\\\\Roaming\\\\Python\\\\Python310\\\\site-packages\\\\debugpy\\\\_vendored\\\\pydevd\\\\_pydevd_bundle\\\\_debug_adapter\\\\pydevd_schema_log.py\": 1660419116.0074713, \"C:\\\\Users\\\\Xinli\\\\AppData\\\\Roaming\\\\Python\\\\Python310\\\\site-packages\\\\debugpy\\\\_vendored\\\\pydevd\\\\_pydevd_bundle\\\\_debug_adapter\\\\pydevd_base_schema.py\": 1660419116.0031404, \"C:\\\\Users\\\\Xinli\\\\AppData\\\\Roaming\\\\Python\\\\Python310\\\\site-packages\\\\debugpy\\\\_vendored\\\\pydevd\\\\_pydevd_bundle\\\\_debug_adapter\\\\pydevd_schema.py\": 1660419116.0065167, \"C:\\\\Users\\\\Xinli\\\\AppData\\\\Roaming\\\\Python\\\\Python310\\\\site-packages\\\\debugpy\\\\_vendored\\\\pydevd\\\\_pydevd_bundle\\\\pydevd_reload.py\": 1660419115.9894805, \"C:\\\\Users\\\\Xinli\\\\AppData\\\\Roaming\\\\Python\\\\Python310\\\\site-packages\\\\debugpy\\\\_vendored\\\\pydevd\\\\_pydev_bundle\\\\fsnotify\\\\__init__.py\": 1660419115.9450948, \"C:\\\\Users\\\\Xinli\\\\AppData\\\\Roaming\\\\Python\\\\Python310\\\\site-packages\\\\debugpy\\\\_vendored\\\\pydevd\\\\_pydevd_bundle\\\\pydevd_console.py\": 1660419115.961333, \"C:\\\\Users\\\\Xinli\\\\AppData\\\\Roaming\\\\Python\\\\Python310\\\\site-packages\\\\debugpy\\\\_vendored\\\\pydevd\\\\_pydevd_bundle\\\\pydevd_comm.py\": 1660419115.9592993, \"C:\\\\Users\\\\Xinli\\\\AppData\\\\Roaming\\\\Python\\\\Python310\\\\site-packages\\\\debugpy\\\\_vendored\\\\pydevd\\\\_pydevd_frame_eval\\\\pydevd_frame_tracing.py\": 1660419116.0190558, \"C:\\\\Users\\\\Xinli\\\\AppData\\\\Roaming\\\\Python\\\\Python310\\\\site-packages\\\\debugpy\\\\_vendored\\\\pydevd\\\\_pydevd_frame_eval\\\\pydevd_modify_bytecode.py\": 1660419116.0202446, \"C:\\\\Users\\\\Xinli\\\\AppData\\\\Roaming\\\\Python\\\\Python310\\\\site-packages\\\\debugpy\\\\_vendored\\\\pydevd\\\\_pydevd_frame_eval\\\\pydevd_frame_evaluator.cp310-win_amd64.pyd\": 1660419116.0164278, \"C:\\\\Users\\\\Xinli\\\\AppData\\\\Roaming\\\\Python\\\\Python310\\\\site-packages\\\\debugpy\\\\_vendored\\\\pydevd\\\\_pydevd_frame_eval\\\\pydevd_frame_eval_cython_wrapper.py\": 1660419116.0114255, \"C:\\\\Users\\\\Xinli\\\\AppData\\\\Roaming\\\\Python\\\\Python310\\\\site-packages\\\\debugpy\\\\_vendored\\\\pydevd\\\\_pydevd_frame_eval\\\\pydevd_frame_eval_main.py\": 1660419116.0124364, \"C:\\\\Users\\\\Xinli\\\\AppData\\\\Roaming\\\\Python\\\\Python310\\\\site-packages\\\\debugpy\\\\_vendored\\\\pydevd\\\\_pydevd_bundle\\\\pydevd_source_mapping.py\": 1660419115.9934752, \"C:\\\\Users\\\\Xinli\\\\AppData\\\\Roaming\\\\Python\\\\Python310\\\\site-packages\\\\debugpy\\\\_vendored\\\\pydevd\\\\_pydevd_bundle\\\\pydevd_concurrency_analyser\\\\__init__.py\": 1660419116.0084264, \"C:\\\\Users\\\\Xinli\\\\AppData\\\\Roaming\\\\Python\\\\Python310\\\\site-packages\\\\debugpy\\\\_vendored\\\\pydevd\\\\_pydevd_bundle\\\\pydevd_concurrency_analyser\\\\pydevd_thread_wrappers.py\": 1660419116.0094254, \"C:\\\\Users\\\\Xinli\\\\AppData\\\\Roaming\\\\Python\\\\Python310\\\\site-packages\\\\debugpy\\\\_vendored\\\\pydevd\\\\_pydevd_bundle\\\\pydevd_concurrency_analyser\\\\pydevd_concurrency_logger.py\": 1660419116.0084264, \"C:\\\\Users\\\\Xinli\\\\AppData\\\\Roaming\\\\Python\\\\Python310\\\\site-packages\\\\debugpy\\\\_vendored\\\\pydevd\\\\_pydevd_bundle\\\\pydevd_net_command_factory_json.py\": 1660419115.984318, \"C:\\\\Users\\\\Xinli\\\\AppData\\\\Roaming\\\\Python\\\\Python310\\\\site-packages\\\\debugpy\\\\_vendored\\\\pydevd\\\\_pydevd_bundle\\\\pydevd_api.py\": 1660419115.9556205, \"C:\\\\Users\\\\Xinli\\\\AppData\\\\Roaming\\\\Python\\\\Python310\\\\site-packages\\\\debugpy\\\\_vendored\\\\pydevd\\\\_pydevd_bundle\\\\pydevd_json_debug_options.py\": 1660419115.9832966, \"C:\\\\Users\\\\Xinli\\\\AppData\\\\Roaming\\\\Python\\\\Python310\\\\site-packages\\\\debugpy\\\\_vendored\\\\pydevd\\\\_pydevd_bundle\\\\pydevd_process_net_command_json.py\": 1660419115.9874492, \"C:\\\\Users\\\\Xinli\\\\AppData\\\\Roaming\\\\Python\\\\Python310\\\\site-packages\\\\debugpy\\\\_vendored\\\\pydevd\\\\_pydevd_bundle\\\\pydevd_traceproperty.py\": 1660419115.9974759, \"C:\\\\Users\\\\Xinli\\\\AppData\\\\Roaming\\\\Python\\\\Python310\\\\site-packages\\\\debugpy\\\\_vendored\\\\pydevd\\\\_pydevd_bundle\\\\pydevd_process_net_command.py\": 1660419115.9872851, \"C:\\\\Users\\\\Xinli\\\\AppData\\\\Roaming\\\\Python\\\\Python310\\\\site-packages\\\\debugpy\\\\_vendored\\\\pydevd\\\\_pydevd_bundle\\\\pydevd_suspended_frames.py\": 1660419115.9944754, \"C:\\\\Users\\\\Xinli\\\\AppData\\\\Roaming\\\\Python\\\\Python310\\\\site-packages\\\\debugpy\\\\_vendored\\\\pydevd\\\\_pydevd_bundle\\\\pydevd_trace_api.py\": 1660419115.9954755, \"C:\\\\Users\\\\Xinli\\\\AppData\\\\Roaming\\\\Python\\\\Python310\\\\site-packages\\\\debugpy\\\\_vendored\\\\pydevd\\\\pydevd_plugins\\\\pydevd_line_validation.py\": 1660419116.1629367, \"C:\\\\Users\\\\Xinli\\\\AppData\\\\Roaming\\\\Python\\\\Python310\\\\site-packages\\\\debugpy\\\\_vendored\\\\pydevd\\\\pydevd_plugins\\\\django_debug.py\": 1660419116.1619365, \"C:\\\\Users\\\\Xinli\\\\AppData\\\\Roaming\\\\Python\\\\Python310\\\\site-packages\\\\debugpy\\\\_vendored\\\\pydevd\\\\pydevd_plugins\\\\jinja2_debug.py\": 1660419116.1619365, \"C:\\\\Users\\\\Xinli\\\\AppData\\\\Roaming\\\\Python\\\\Python310\\\\site-packages\\\\debugpy\\\\_vendored\\\\pydevd\\\\_pydevd_bundle\\\\pydevd_plugin_utils.py\": 1660419115.9853177, \"C:\\\\Users\\\\Xinli\\\\AppData\\\\Roaming\\\\Python\\\\Python310\\\\site-packages\\\\debugpy\\\\_vendored\\\\pydevd\\\\pydevd_plugins\\\\extensions\\\\types\\\\__init__.py\": 1660419116.1649363, \"C:\\\\Users\\\\Xinli\\\\AppData\\\\Roaming\\\\Python\\\\Python310\\\\site-packages\\\\debugpy\\\\_vendored\\\\pydevd\\\\pydevd_plugins\\\\extensions\\\\types\\\\pydevd_helpers.py\": 1660419116.1659558, \"C:\\\\Users\\\\Xinli\\\\AppData\\\\Roaming\\\\Python\\\\Python310\\\\site-packages\\\\debugpy\\\\_vendored\\\\pydevd\\\\pydevd_plugins\\\\extensions\\\\types\\\\pydevd_plugin_numpy_types.py\": 1660419116.1659558, \"C:\\\\Users\\\\Xinli\\\\AppData\\\\Roaming\\\\Python\\\\Python310\\\\site-packages\\\\debugpy\\\\_vendored\\\\pydevd\\\\pydevd_plugins\\\\extensions\\\\types\\\\pydevd_plugin_pandas_types.py\": 1660419116.1669369, \"C:\\\\Users\\\\Xinli\\\\AppData\\\\Roaming\\\\Python\\\\Python310\\\\site-packages\\\\debugpy\\\\_vendored\\\\pydevd\\\\pydevd_plugins\\\\extensions\\\\types\\\\pydevd_plugins_django_form_str.py\": 1660419116.1679583, \"C:\\\\Users\\\\Xinli\\\\AppData\\\\Roaming\\\\Python\\\\Python310\\\\site-packages\\\\debugpy\\\\_vendored\\\\pydevd\\\\pydevd.py\": 1660419115.924431, \"C:\\\\Users\\\\Xinli\\\\AppData\\\\Roaming\\\\Python\\\\Python310\\\\site-packages\\\\debugpy\\\\_vendored\\\\force_pydevd.py\": 1660419115.9192011, \"C:\\\\Users\\\\Xinli\\\\AppData\\\\Roaming\\\\Python\\\\Python310\\\\site-packages\\\\debugpy\\\\server\\\\__init__.py\": 1660419116.1830592, \"C:\\\\Users\\\\Xinli\\\\AppData\\\\Roaming\\\\Python\\\\Python310\\\\site-packages\\\\debugpy\\\\adapter\\\\__init__.py\": 1660419116.1686878, \"C:\\\\Users\\\\Xinli\\\\AppData\\\\Roaming\\\\Python\\\\Python310\\\\site-packages\\\\debugpy\\\\common\\\\__init__.py\": 1660419116.1740592, \"C:\\\\Users\\\\Xinli\\\\AppData\\\\Roaming\\\\Python\\\\Python310\\\\site-packages\\\\debugpy\\\\common\\\\json.py\": 1660419116.1740592, \"C:\\\\Users\\\\Xinli\\\\AppData\\\\Roaming\\\\Python\\\\Python310\\\\site-packages\\\\debugpy\\\\common\\\\timestamp.py\": 1660419116.178059, \"C:\\\\Users\\\\Xinli\\\\AppData\\\\Roaming\\\\Python\\\\Python310\\\\site-packages\\\\debugpy\\\\common\\\\util.py\": 1660419116.1790593, \"C:\\\\Users\\\\Xinli\\\\AppData\\\\Roaming\\\\Python\\\\Python310\\\\site-packages\\\\debugpy\\\\common\\\\log.py\": 1660419116.1750593, \"C:\\\\Users\\\\Xinli\\\\AppData\\\\Roaming\\\\Python\\\\Python310\\\\site-packages\\\\debugpy\\\\common\\\\sockets.py\": 1660419116.1770592, \"C:\\\\Users\\\\Xinli\\\\AppData\\\\Roaming\\\\Python\\\\Python310\\\\site-packages\\\\debugpy\\\\server\\\\api.py\": 1660419116.1840594, \"C:\\\\Users\\\\Xinli\\\\AppData\\\\Roaming\\\\Python\\\\Python310\\\\site-packages\\\\ipykernel\\\\debugger.py\": 1660419125.0784173, \"C:\\\\Users\\\\Xinli\\\\AppData\\\\Roaming\\\\Python\\\\Python310\\\\site-packages\\\\packaging\\\\__about__.py\": 1660419118.979388, \"C:\\\\Users\\\\Xinli\\\\AppData\\\\Roaming\\\\Python\\\\Python310\\\\site-packages\\\\packaging\\\\__init__.py\": 1660419118.979388, \"C:\\\\Users\\\\Xinli\\\\AppData\\\\Roaming\\\\Python\\\\Python310\\\\site-packages\\\\packaging\\\\_structures.py\": 1660419118.9816394, \"C:\\\\Users\\\\Xinli\\\\AppData\\\\Roaming\\\\Python\\\\Python310\\\\site-packages\\\\packaging\\\\version.py\": 1660419118.9866264, \"C:\\\\Users\\\\Xinli\\\\AppData\\\\Roaming\\\\Python\\\\Python310\\\\site-packages\\\\ipykernel\\\\eventloops.py\": 1660419125.0804002, \"C:\\\\Users\\\\Xinli\\\\AppData\\\\Roaming\\\\Python\\\\Python310\\\\site-packages\\\\IPython\\\\core\\\\payloadpage.py\": 1660419122.4670432, \"C:\\\\Users\\\\Xinli\\\\AppData\\\\Roaming\\\\Python\\\\Python310\\\\site-packages\\\\ipykernel\\\\displayhook.py\": 1660419125.0784173, \"C:\\\\Users\\\\Xinli\\\\AppData\\\\Roaming\\\\Python\\\\Python310\\\\site-packages\\\\ipykernel\\\\zmqshell.py\": 1660419125.0889137, \"C:\\\\Users\\\\Xinli\\\\AppData\\\\Roaming\\\\Python\\\\Python310\\\\site-packages\\\\ipykernel\\\\ipkernel.py\": 1660419125.0824003, \"C:\\\\Users\\\\Xinli\\\\AppData\\\\Roaming\\\\Python\\\\Python310\\\\site-packages\\\\ipykernel\\\\parentpoller.py\": 1660419125.0860088, \"C:\\\\Users\\\\Xinli\\\\AppData\\\\Roaming\\\\Python\\\\Python310\\\\site-packages\\\\ipykernel\\\\kernelapp.py\": 1660419125.0834005, \"C:\\\\Users\\\\Xinli\\\\AppData\\\\Roaming\\\\Python\\\\Python310\\\\site-packages\\\\win32\\\\win32api.pyd\": 1660419102.656386, \"C:\\\\Users\\\\Xinli\\\\AppData\\\\Roaming\\\\Python\\\\Python310\\\\site-packages\\\\win32\\\\lib\\\\ntsecuritycon.py\": 1660419102.7265549, \"C:\\\\Users\\\\Xinli\\\\AppData\\\\Roaming\\\\Python\\\\Python310\\\\site-packages\\\\win32\\\\win32security.pyd\": 1660419102.6745887, \"C:\\\\Users\\\\Xinli\\\\AppData\\\\Roaming\\\\Python\\\\Python310\\\\site-packages\\\\IPython\\\\core\\\\completerlib.py\": 1660419122.4445243, \"C:\\\\Users\\\\Xinli\\\\mambaforge\\\\envs\\\\base23\\\\lib\\\\site-packages\\\\numpy\\\\_globals.py\": 1682982545.0, \"C:\\\\Users\\\\Xinli\\\\mambaforge\\\\envs\\\\base23\\\\lib\\\\site-packages\\\\numpy\\\\__config__.py\": 1685048376.2749119, \"C:\\\\Users\\\\Xinli\\\\mambaforge\\\\envs\\\\base23\\\\lib\\\\site-packages\\\\mkl\\\\_mklinit.cp310-win_amd64.pyd\": 1682974658.0, \"C:\\\\Users\\\\Xinli\\\\mambaforge\\\\envs\\\\base23\\\\lib\\\\site-packages\\\\mkl\\\\_py_mkl_service.cp310-win_amd64.pyd\": 1682974660.0, \"C:\\\\Users\\\\Xinli\\\\mambaforge\\\\envs\\\\base23\\\\lib\\\\site-packages\\\\mkl\\\\__init__.py\": 1621980270.0, \"C:\\\\Users\\\\Xinli\\\\mambaforge\\\\envs\\\\base23\\\\lib\\\\site-packages\\\\numpy\\\\_distributor_init.py\": 1682982545.0, \"C:\\\\Users\\\\Xinli\\\\mambaforge\\\\envs\\\\base23\\\\lib\\\\site-packages\\\\numpy\\\\_version.py\": 1682982545.0, \"C:\\\\Users\\\\Xinli\\\\mambaforge\\\\envs\\\\base23\\\\lib\\\\site-packages\\\\numpy\\\\version.py\": 1682982545.0, \"C:\\\\Users\\\\Xinli\\\\mambaforge\\\\envs\\\\base23\\\\lib\\\\site-packages\\\\numpy\\\\core\\\\_multiarray_umath.cp310-win_amd64.pyd\": 1682982545.0, \"C:\\\\Users\\\\Xinli\\\\mambaforge\\\\envs\\\\base23\\\\lib\\\\site-packages\\\\numpy\\\\compat\\\\_inspect.py\": 1682982545.0, \"C:\\\\Users\\\\Xinli\\\\mambaforge\\\\envs\\\\base23\\\\lib\\\\site-packages\\\\numpy\\\\compat\\\\py3k.py\": 1682982545.0, \"C:\\\\Users\\\\Xinli\\\\mambaforge\\\\envs\\\\base23\\\\lib\\\\site-packages\\\\numpy\\\\compat\\\\__init__.py\": 1682982545.0, \"C:\\\\Users\\\\Xinli\\\\mambaforge\\\\envs\\\\base23\\\\lib\\\\site-packages\\\\numpy\\\\core\\\\overrides.py\": 1682982545.0, \"C:\\\\Users\\\\Xinli\\\\mambaforge\\\\envs\\\\base23\\\\lib\\\\site-packages\\\\numpy\\\\core\\\\multiarray.py\": 1682982545.0, \"C:\\\\Users\\\\Xinli\\\\mambaforge\\\\envs\\\\base23\\\\lib\\\\site-packages\\\\numpy\\\\core\\\\umath.py\": 1682982545.0, \"C:\\\\Users\\\\Xinli\\\\mambaforge\\\\envs\\\\base23\\\\lib\\\\site-packages\\\\numpy\\\\core\\\\_string_helpers.py\": 1682982545.0, \"C:\\\\Users\\\\Xinli\\\\mambaforge\\\\envs\\\\base23\\\\lib\\\\site-packages\\\\numpy\\\\core\\\\_dtype.py\": 1682982545.0, \"C:\\\\Users\\\\Xinli\\\\mambaforge\\\\envs\\\\base23\\\\lib\\\\site-packages\\\\numpy\\\\core\\\\_type_aliases.py\": 1682982545.0, \"C:\\\\Users\\\\Xinli\\\\mambaforge\\\\envs\\\\base23\\\\lib\\\\site-packages\\\\numpy\\\\core\\\\numerictypes.py\": 1682982545.0, \"C:\\\\Users\\\\Xinli\\\\mambaforge\\\\envs\\\\base23\\\\lib\\\\site-packages\\\\numpy\\\\core\\\\_exceptions.py\": 1682982545.0, \"C:\\\\Users\\\\Xinli\\\\mambaforge\\\\envs\\\\base23\\\\lib\\\\site-packages\\\\numpy\\\\core\\\\_ufunc_config.py\": 1682982545.0, \"C:\\\\Users\\\\Xinli\\\\mambaforge\\\\envs\\\\base23\\\\lib\\\\site-packages\\\\numpy\\\\core\\\\_methods.py\": 1682982545.0, \"C:\\\\Users\\\\Xinli\\\\mambaforge\\\\envs\\\\base23\\\\lib\\\\site-packages\\\\numpy\\\\core\\\\fromnumeric.py\": 1682982545.0, \"C:\\\\Users\\\\Xinli\\\\mambaforge\\\\envs\\\\base23\\\\lib\\\\site-packages\\\\numpy\\\\core\\\\shape_base.py\": 1682982545.0, \"C:\\\\Users\\\\Xinli\\\\mambaforge\\\\envs\\\\base23\\\\lib\\\\site-packages\\\\numpy\\\\core\\\\arrayprint.py\": 1682982545.0, \"C:\\\\Users\\\\Xinli\\\\mambaforge\\\\envs\\\\base23\\\\lib\\\\site-packages\\\\numpy\\\\core\\\\_asarray.py\": 1682982545.0, \"C:\\\\Users\\\\Xinli\\\\mambaforge\\\\envs\\\\base23\\\\lib\\\\site-packages\\\\numpy\\\\core\\\\numeric.py\": 1682982545.0, \"C:\\\\Users\\\\Xinli\\\\mambaforge\\\\envs\\\\base23\\\\lib\\\\site-packages\\\\numpy\\\\core\\\\defchararray.py\": 1682982545.0, \"C:\\\\Users\\\\Xinli\\\\mambaforge\\\\envs\\\\base23\\\\lib\\\\site-packages\\\\numpy\\\\core\\\\records.py\": 1682982545.0, \"C:\\\\Users\\\\Xinli\\\\mambaforge\\\\envs\\\\base23\\\\lib\\\\site-packages\\\\numpy\\\\core\\\\memmap.py\": 1682982545.0, \"C:\\\\Users\\\\Xinli\\\\mambaforge\\\\envs\\\\base23\\\\lib\\\\site-packages\\\\numpy\\\\core\\\\function_base.py\": 1682982545.0, \"C:\\\\Users\\\\Xinli\\\\mambaforge\\\\envs\\\\base23\\\\lib\\\\site-packages\\\\numpy\\\\core\\\\_machar.py\": 1682982545.0, \"C:\\\\Users\\\\Xinli\\\\mambaforge\\\\envs\\\\base23\\\\lib\\\\site-packages\\\\numpy\\\\core\\\\getlimits.py\": 1682982545.0, \"C:\\\\Users\\\\Xinli\\\\mambaforge\\\\envs\\\\base23\\\\lib\\\\site-packages\\\\numpy\\\\core\\\\einsumfunc.py\": 1682982545.0, \"C:\\\\Users\\\\Xinli\\\\mambaforge\\\\envs\\\\base23\\\\lib\\\\site-packages\\\\numpy\\\\core\\\\_multiarray_tests.cp310-win_amd64.pyd\": 1682982545.0, \"C:\\\\Users\\\\Xinli\\\\mambaforge\\\\envs\\\\base23\\\\lib\\\\site-packages\\\\numpy\\\\core\\\\_add_newdocs.py\": 1682982545.0, \"C:\\\\Users\\\\Xinli\\\\mambaforge\\\\envs\\\\base23\\\\lib\\\\site-packages\\\\numpy\\\\core\\\\_add_newdocs_scalars.py\": 1682982545.0, \"C:\\\\Users\\\\Xinli\\\\mambaforge\\\\envs\\\\base23\\\\lib\\\\site-packages\\\\numpy\\\\core\\\\_dtype_ctypes.py\": 1682982545.0, \"C:\\\\Users\\\\Xinli\\\\mambaforge\\\\envs\\\\base23\\\\lib\\\\site-packages\\\\numpy\\\\core\\\\_internal.py\": 1682982545.0, \"C:\\\\Users\\\\Xinli\\\\mambaforge\\\\envs\\\\base23\\\\lib\\\\site-packages\\\\numpy\\\\_pytesttester.py\": 1682982545.0, \"C:\\\\Users\\\\Xinli\\\\mambaforge\\\\envs\\\\base23\\\\lib\\\\site-packages\\\\numpy\\\\core\\\\__init__.py\": 1682982545.0, \"C:\\\\Users\\\\Xinli\\\\mambaforge\\\\envs\\\\base23\\\\lib\\\\site-packages\\\\numpy\\\\lib\\\\mixins.py\": 1682982546.0, \"C:\\\\Users\\\\Xinli\\\\mambaforge\\\\envs\\\\base23\\\\lib\\\\site-packages\\\\numpy\\\\lib\\\\ufunclike.py\": 1682982546.0, \"C:\\\\Users\\\\Xinli\\\\mambaforge\\\\envs\\\\base23\\\\lib\\\\site-packages\\\\numpy\\\\lib\\\\type_check.py\": 1682982546.0, \"C:\\\\Users\\\\Xinli\\\\mambaforge\\\\envs\\\\base23\\\\lib\\\\site-packages\\\\numpy\\\\lib\\\\scimath.py\": 1682982546.0, \"C:\\\\Users\\\\Xinli\\\\mambaforge\\\\envs\\\\base23\\\\lib\\\\site-packages\\\\numpy\\\\lib\\\\stride_tricks.py\": 1682982546.0, \"C:\\\\Users\\\\Xinli\\\\mambaforge\\\\envs\\\\base23\\\\lib\\\\site-packages\\\\numpy\\\\lib\\\\twodim_base.py\": 1682982546.0, \"C:\\\\Users\\\\Xinli\\\\mambaforge\\\\envs\\\\base23\\\\lib\\\\site-packages\\\\numpy\\\\linalg\\\\_umath_linalg.cp310-win_amd64.pyd\": 1682982546.0, \"C:\\\\Users\\\\Xinli\\\\mambaforge\\\\envs\\\\base23\\\\lib\\\\site-packages\\\\numpy\\\\linalg\\\\linalg.py\": 1682982546.0, \"C:\\\\Users\\\\Xinli\\\\mambaforge\\\\envs\\\\base23\\\\lib\\\\site-packages\\\\numpy\\\\linalg\\\\__init__.py\": 1682982546.0, \"C:\\\\Users\\\\Xinli\\\\mambaforge\\\\envs\\\\base23\\\\lib\\\\site-packages\\\\numpy\\\\matrixlib\\\\defmatrix.py\": 1682982546.0, \"C:\\\\Users\\\\Xinli\\\\mambaforge\\\\envs\\\\base23\\\\lib\\\\site-packages\\\\numpy\\\\matrixlib\\\\__init__.py\": 1682982546.0, \"C:\\\\Users\\\\Xinli\\\\mambaforge\\\\envs\\\\base23\\\\lib\\\\site-packages\\\\numpy\\\\lib\\\\histograms.py\": 1682982546.0, \"C:\\\\Users\\\\Xinli\\\\mambaforge\\\\envs\\\\base23\\\\lib\\\\site-packages\\\\numpy\\\\lib\\\\function_base.py\": 1682982546.0, \"C:\\\\Users\\\\Xinli\\\\mambaforge\\\\envs\\\\base23\\\\lib\\\\site-packages\\\\numpy\\\\lib\\\\index_tricks.py\": 1682982546.0, \"C:\\\\Users\\\\Xinli\\\\mambaforge\\\\envs\\\\base23\\\\lib\\\\site-packages\\\\numpy\\\\lib\\\\nanfunctions.py\": 1682982546.0, \"C:\\\\Users\\\\Xinli\\\\mambaforge\\\\envs\\\\base23\\\\lib\\\\site-packages\\\\numpy\\\\lib\\\\shape_base.py\": 1682982546.0, \"C:\\\\Users\\\\Xinli\\\\mambaforge\\\\envs\\\\base23\\\\lib\\\\site-packages\\\\numpy\\\\lib\\\\polynomial.py\": 1682982546.0, \"C:\\\\Users\\\\Xinli\\\\mambaforge\\\\envs\\\\base23\\\\lib\\\\site-packages\\\\numpy\\\\lib\\\\utils.py\": 1682982546.0, \"C:\\\\Users\\\\Xinli\\\\mambaforge\\\\envs\\\\base23\\\\lib\\\\site-packages\\\\numpy\\\\lib\\\\arraysetops.py\": 1682982546.0, \"C:\\\\Users\\\\Xinli\\\\mambaforge\\\\envs\\\\base23\\\\lib\\\\site-packages\\\\numpy\\\\lib\\\\format.py\": 1682982546.0, \"C:\\\\Users\\\\Xinli\\\\mambaforge\\\\envs\\\\base23\\\\lib\\\\site-packages\\\\numpy\\\\lib\\\\_datasource.py\": 1682982546.0, \"C:\\\\Users\\\\Xinli\\\\mambaforge\\\\envs\\\\base23\\\\lib\\\\site-packages\\\\numpy\\\\lib\\\\_iotools.py\": 1682982546.0, \"C:\\\\Users\\\\Xinli\\\\mambaforge\\\\envs\\\\base23\\\\lib\\\\site-packages\\\\numpy\\\\lib\\\\npyio.py\": 1682982546.0, \"C:\\\\Users\\\\Xinli\\\\mambaforge\\\\envs\\\\base23\\\\lib\\\\site-packages\\\\numpy\\\\lib\\\\arrayterator.py\": 1682982546.0, \"C:\\\\Users\\\\Xinli\\\\mambaforge\\\\envs\\\\base23\\\\lib\\\\site-packages\\\\numpy\\\\lib\\\\arraypad.py\": 1682982546.0, \"C:\\\\Users\\\\Xinli\\\\mambaforge\\\\envs\\\\base23\\\\lib\\\\site-packages\\\\numpy\\\\lib\\\\_version.py\": 1682982546.0, \"C:\\\\Users\\\\Xinli\\\\mambaforge\\\\envs\\\\base23\\\\lib\\\\site-packages\\\\numpy\\\\lib\\\\__init__.py\": 1682982546.0, \"C:\\\\Users\\\\Xinli\\\\mambaforge\\\\envs\\\\base23\\\\lib\\\\site-packages\\\\numpy\\\\fft\\\\_pocketfft_internal.cp310-win_amd64.pyd\": 1682982546.0, \"C:\\\\Users\\\\Xinli\\\\mambaforge\\\\envs\\\\base23\\\\lib\\\\site-packages\\\\numpy\\\\fft\\\\_pocketfft.py\": 1682982546.0, \"C:\\\\Users\\\\Xinli\\\\mambaforge\\\\envs\\\\base23\\\\lib\\\\site-packages\\\\numpy\\\\fft\\\\helper.py\": 1682982546.0, \"C:\\\\Users\\\\Xinli\\\\mambaforge\\\\envs\\\\base23\\\\lib\\\\site-packages\\\\numpy\\\\fft\\\\__init__.py\": 1682982546.0, \"C:\\\\Users\\\\Xinli\\\\mambaforge\\\\envs\\\\base23\\\\lib\\\\site-packages\\\\numpy\\\\polynomial\\\\polyutils.py\": 1682982546.0, \"C:\\\\Users\\\\Xinli\\\\mambaforge\\\\envs\\\\base23\\\\lib\\\\site-packages\\\\numpy\\\\polynomial\\\\_polybase.py\": 1682982546.0, \"C:\\\\Users\\\\Xinli\\\\mambaforge\\\\envs\\\\base23\\\\lib\\\\site-packages\\\\numpy\\\\polynomial\\\\polynomial.py\": 1682982546.0, \"C:\\\\Users\\\\Xinli\\\\mambaforge\\\\envs\\\\base23\\\\lib\\\\site-packages\\\\numpy\\\\polynomial\\\\chebyshev.py\": 1682982546.0, \"C:\\\\Users\\\\Xinli\\\\mambaforge\\\\envs\\\\base23\\\\lib\\\\site-packages\\\\numpy\\\\polynomial\\\\legendre.py\": 1682982546.0, \"C:\\\\Users\\\\Xinli\\\\mambaforge\\\\envs\\\\base23\\\\lib\\\\site-packages\\\\numpy\\\\polynomial\\\\hermite.py\": 1682982546.0, \"C:\\\\Users\\\\Xinli\\\\mambaforge\\\\envs\\\\base23\\\\lib\\\\site-packages\\\\numpy\\\\polynomial\\\\hermite_e.py\": 1682982546.0, \"C:\\\\Users\\\\Xinli\\\\mambaforge\\\\envs\\\\base23\\\\lib\\\\site-packages\\\\numpy\\\\polynomial\\\\laguerre.py\": 1682982546.0, \"C:\\\\Users\\\\Xinli\\\\mambaforge\\\\envs\\\\base23\\\\lib\\\\site-packages\\\\numpy\\\\polynomial\\\\__init__.py\": 1682982546.0, \"C:\\\\Users\\\\Xinli\\\\mambaforge\\\\envs\\\\base23\\\\lib\\\\site-packages\\\\numpy\\\\random\\\\_common.cp310-win_amd64.pyd\": 1682982546.0, \"C:\\\\Users\\\\Xinli\\\\mambaforge\\\\envs\\\\base23\\\\lib\\\\secrets.py\": 1680645435.0, \"C:\\\\Users\\\\Xinli\\\\mambaforge\\\\envs\\\\base23\\\\lib\\\\site-packages\\\\numpy\\\\random\\\\bit_generator.cp310-win_amd64.pyd\": 1682982546.0, \"C:\\\\Users\\\\Xinli\\\\mambaforge\\\\envs\\\\base23\\\\lib\\\\site-packages\\\\numpy\\\\random\\\\_bounded_integers.cp310-win_amd64.pyd\": 1682982546.0, \"C:\\\\Users\\\\Xinli\\\\mambaforge\\\\envs\\\\base23\\\\lib\\\\site-packages\\\\numpy\\\\random\\\\_mt19937.cp310-win_amd64.pyd\": 1682982546.0, \"C:\\\\Users\\\\Xinli\\\\mambaforge\\\\envs\\\\base23\\\\lib\\\\site-packages\\\\numpy\\\\random\\\\mtrand.cp310-win_amd64.pyd\": 1682982546.0, \"C:\\\\Users\\\\Xinli\\\\mambaforge\\\\envs\\\\base23\\\\lib\\\\site-packages\\\\numpy\\\\random\\\\_philox.cp310-win_amd64.pyd\": 1682982546.0, \"C:\\\\Users\\\\Xinli\\\\mambaforge\\\\envs\\\\base23\\\\lib\\\\site-packages\\\\numpy\\\\random\\\\_pcg64.cp310-win_amd64.pyd\": 1682982546.0, \"C:\\\\Users\\\\Xinli\\\\mambaforge\\\\envs\\\\base23\\\\lib\\\\site-packages\\\\numpy\\\\random\\\\_sfc64.cp310-win_amd64.pyd\": 1682982546.0, \"C:\\\\Users\\\\Xinli\\\\mambaforge\\\\envs\\\\base23\\\\lib\\\\site-packages\\\\numpy\\\\random\\\\_generator.cp310-win_amd64.pyd\": 1682982546.0, \"C:\\\\Users\\\\Xinli\\\\mambaforge\\\\envs\\\\base23\\\\lib\\\\site-packages\\\\numpy\\\\random\\\\_pickle.py\": 1682982546.0, \"C:\\\\Users\\\\Xinli\\\\mambaforge\\\\envs\\\\base23\\\\lib\\\\site-packages\\\\numpy\\\\random\\\\__init__.py\": 1682982546.0, \"C:\\\\Users\\\\Xinli\\\\mambaforge\\\\envs\\\\base23\\\\lib\\\\site-packages\\\\numpy\\\\ctypeslib.py\": 1682982545.0, \"C:\\\\Users\\\\Xinli\\\\mambaforge\\\\envs\\\\base23\\\\lib\\\\site-packages\\\\numpy\\\\ma\\\\core.py\": 1682982546.0, \"C:\\\\Users\\\\Xinli\\\\mambaforge\\\\envs\\\\base23\\\\lib\\\\site-packages\\\\numpy\\\\ma\\\\extras.py\": 1682982546.0, \"C:\\\\Users\\\\Xinli\\\\mambaforge\\\\envs\\\\base23\\\\lib\\\\site-packages\\\\numpy\\\\ma\\\\__init__.py\": 1682982546.0, \"C:\\\\Users\\\\Xinli\\\\mambaforge\\\\envs\\\\base23\\\\lib\\\\site-packages\\\\numpy\\\\__init__.py\": 1682982545.0, \"C:\\\\Users\\\\Xinli\\\\mambaforge\\\\envs\\\\base23\\\\lib\\\\site-packages\\\\matplotlib\\\\_api\\\\deprecation.py\": 1679593715.0, \"C:\\\\Users\\\\Xinli\\\\mambaforge\\\\envs\\\\base23\\\\lib\\\\site-packages\\\\matplotlib\\\\_api\\\\__init__.py\": 1679593715.0, \"C:\\\\Users\\\\Xinli\\\\mambaforge\\\\envs\\\\base23\\\\lib\\\\site-packages\\\\matplotlib\\\\_version.py\": 1679593715.0, \"C:\\\\Users\\\\Xinli\\\\mambaforge\\\\envs\\\\base23\\\\lib\\\\site-packages\\\\matplotlib\\\\_c_internal_utils.cp310-win_amd64.pyd\": 1679593715.0, \"C:\\\\Users\\\\Xinli\\\\mambaforge\\\\envs\\\\base23\\\\lib\\\\site-packages\\\\matplotlib\\\\cbook\\\\__init__.py\": 1679593715.0, \"C:\\\\Users\\\\Xinli\\\\mambaforge\\\\envs\\\\base23\\\\lib\\\\site-packages\\\\matplotlib\\\\_docstring.py\": 1679593715.0, \"C:\\\\Users\\\\Xinli\\\\mambaforge\\\\envs\\\\base23\\\\lib\\\\site-packages\\\\PIL\\\\_version.py\": 1672618652.0, \"C:\\\\Users\\\\Xinli\\\\mambaforge\\\\envs\\\\base23\\\\lib\\\\site-packages\\\\PIL\\\\__init__.py\": 1672618652.0, \"C:\\\\Users\\\\Xinli\\\\mambaforge\\\\envs\\\\base23\\\\lib\\\\site-packages\\\\defusedxml\\\\common.py\": 1615228157.0, \"C:\\\\Users\\\\Xinli\\\\mambaforge\\\\envs\\\\base23\\\\lib\\\\site-packages\\\\defusedxml\\\\__init__.py\": 1615228157.0, \"C:\\\\Users\\\\Xinli\\\\mambaforge\\\\envs\\\\base23\\\\lib\\\\xml\\\\etree\\\\__init__.py\": 1680645435.0, \"C:\\\\Users\\\\Xinli\\\\mambaforge\\\\envs\\\\base23\\\\lib\\\\xml\\\\etree\\\\ElementPath.py\": 1680645435.0, \"C:\\\\Users\\\\Xinli\\\\mambaforge\\\\envs\\\\base23\\\\DLLs\\\\_elementtree.pyd\": 1683744830.280513, \"C:\\\\Users\\\\Xinli\\\\mambaforge\\\\envs\\\\base23\\\\lib\\\\xml\\\\etree\\\\ElementTree.py\": 1680645435.0, \"C:\\\\Users\\\\Xinli\\\\mambaforge\\\\envs\\\\base23\\\\lib\\\\site-packages\\\\defusedxml\\\\ElementTree.py\": 1615228157.0, \"C:\\\\Users\\\\Xinli\\\\mambaforge\\\\envs\\\\base23\\\\lib\\\\site-packages\\\\PIL\\\\ExifTags.py\": 1672618652.0, \"C:\\\\Users\\\\Xinli\\\\mambaforge\\\\envs\\\\base23\\\\lib\\\\site-packages\\\\PIL\\\\ImageMode.py\": 1672618652.0, \"C:\\\\Users\\\\Xinli\\\\mambaforge\\\\envs\\\\base23\\\\lib\\\\site-packages\\\\PIL\\\\TiffTags.py\": 1672618652.0, \"C:\\\\Users\\\\Xinli\\\\mambaforge\\\\envs\\\\base23\\\\lib\\\\site-packages\\\\PIL\\\\_binary.py\": 1672618652.0, \"C:\\\\Users\\\\Xinli\\\\mambaforge\\\\envs\\\\base23\\\\lib\\\\site-packages\\\\PIL\\\\_deprecate.py\": 1672618652.0, \"C:\\\\Users\\\\Xinli\\\\mambaforge\\\\envs\\\\base23\\\\lib\\\\site-packages\\\\PIL\\\\_util.py\": 1672618652.0, \"C:\\\\Users\\\\Xinli\\\\mambaforge\\\\envs\\\\base23\\\\lib\\\\site-packages\\\\PIL\\\\_imaging.cp310-win_amd64.pyd\": 1677510391.0, \"C:\\\\Users\\\\Xinli\\\\mambaforge\\\\envs\\\\base23\\\\lib\\\\site-packages\\\\cffi\\\\lock.py\": 1670423521.0, \"C:\\\\Users\\\\Xinli\\\\mambaforge\\\\envs\\\\base23\\\\lib\\\\site-packages\\\\cffi\\\\error.py\": 1670423521.0, \"C:\\\\Users\\\\Xinli\\\\mambaforge\\\\envs\\\\base23\\\\lib\\\\site-packages\\\\cffi\\\\model.py\": 1670423521.0, \"C:\\\\Users\\\\Xinli\\\\mambaforge\\\\envs\\\\base23\\\\lib\\\\site-packages\\\\cffi\\\\api.py\": 1670423521.0, \"C:\\\\Users\\\\Xinli\\\\mambaforge\\\\envs\\\\base23\\\\lib\\\\site-packages\\\\cffi\\\\__init__.py\": 1670423521.0, \"C:\\\\Users\\\\Xinli\\\\mambaforge\\\\envs\\\\base23\\\\lib\\\\site-packages\\\\PIL\\\\Image.py\": 1672618652.0, \"C:\\\\Users\\\\Xinli\\\\mambaforge\\\\envs\\\\base23\\\\lib\\\\site-packages\\\\PIL\\\\ImageChops.py\": 1672618652.0, \"C:\\\\Users\\\\Xinli\\\\mambaforge\\\\envs\\\\base23\\\\lib\\\\site-packages\\\\PIL\\\\ImageFile.py\": 1672618652.0, \"C:\\\\Users\\\\Xinli\\\\mambaforge\\\\envs\\\\base23\\\\lib\\\\site-packages\\\\PIL\\\\GimpGradientFile.py\": 1672618652.0, \"C:\\\\Users\\\\Xinli\\\\mambaforge\\\\envs\\\\base23\\\\lib\\\\site-packages\\\\PIL\\\\GimpPaletteFile.py\": 1672618652.0, \"C:\\\\Users\\\\Xinli\\\\mambaforge\\\\envs\\\\base23\\\\lib\\\\site-packages\\\\PIL\\\\ImageColor.py\": 1672618652.0, \"C:\\\\Users\\\\Xinli\\\\mambaforge\\\\envs\\\\base23\\\\lib\\\\site-packages\\\\PIL\\\\PaletteFile.py\": 1672618652.0, \"C:\\\\Users\\\\Xinli\\\\mambaforge\\\\envs\\\\base23\\\\lib\\\\site-packages\\\\PIL\\\\ImagePalette.py\": 1672618652.0, \"C:\\\\Users\\\\Xinli\\\\mambaforge\\\\envs\\\\base23\\\\lib\\\\site-packages\\\\PIL\\\\ImageSequence.py\": 1672618652.0, \"C:\\\\Users\\\\Xinli\\\\mambaforge\\\\envs\\\\base23\\\\lib\\\\site-packages\\\\PIL\\\\PngImagePlugin.py\": 1672618652.0, \"C:\\\\Users\\\\Xinli\\\\mambaforge\\\\envs\\\\base23\\\\lib\\\\site-packages\\\\matplotlib\\\\_cm.py\": 1679593715.0, \"C:\\\\Users\\\\Xinli\\\\mambaforge\\\\envs\\\\base23\\\\lib\\\\site-packages\\\\matplotlib\\\\_path.cp310-win_amd64.pyd\": 1679593715.0, \"C:\\\\Users\\\\Xinli\\\\mambaforge\\\\envs\\\\base23\\\\lib\\\\site-packages\\\\matplotlib\\\\bezier.py\": 1679593715.0, \"C:\\\\Users\\\\Xinli\\\\mambaforge\\\\envs\\\\base23\\\\lib\\\\site-packages\\\\matplotlib\\\\path.py\": 1679593715.0, \"C:\\\\Users\\\\Xinli\\\\mambaforge\\\\envs\\\\base23\\\\lib\\\\site-packages\\\\matplotlib\\\\transforms.py\": 1679593715.0, \"C:\\\\Users\\\\Xinli\\\\mambaforge\\\\envs\\\\base23\\\\lib\\\\site-packages\\\\matplotlib\\\\ticker.py\": 1679593715.0, \"C:\\\\Users\\\\Xinli\\\\mambaforge\\\\envs\\\\base23\\\\lib\\\\site-packages\\\\matplotlib\\\\scale.py\": 1679593715.0, \"C:\\\\Users\\\\Xinli\\\\mambaforge\\\\envs\\\\base23\\\\lib\\\\site-packages\\\\matplotlib\\\\_color_data.py\": 1679593715.0, \"C:\\\\Users\\\\Xinli\\\\mambaforge\\\\envs\\\\base23\\\\lib\\\\site-packages\\\\matplotlib\\\\colors.py\": 1679593715.0, \"C:\\\\Users\\\\Xinli\\\\AppData\\\\Roaming\\\\Python\\\\Python310\\\\site-packages\\\\pyparsing\\\\util.py\": 1660419110.2607734, \"C:\\\\Users\\\\Xinli\\\\AppData\\\\Roaming\\\\Python\\\\Python310\\\\site-packages\\\\pyparsing\\\\unicode.py\": 1660419110.2607734, \"C:\\\\Users\\\\Xinli\\\\AppData\\\\Roaming\\\\Python\\\\Python310\\\\site-packages\\\\pyparsing\\\\exceptions.py\": 1660419110.2583947, \"C:\\\\Users\\\\Xinli\\\\AppData\\\\Roaming\\\\Python\\\\Python310\\\\site-packages\\\\pyparsing\\\\actions.py\": 1660419110.2551737, \"C:\\\\Users\\\\Xinli\\\\AppData\\\\Roaming\\\\Python\\\\Python310\\\\site-packages\\\\pyparsing\\\\results.py\": 1660419110.2593968, \"C:\\\\Users\\\\Xinli\\\\AppData\\\\Roaming\\\\Python\\\\Python310\\\\site-packages\\\\pyparsing\\\\core.py\": 1660419110.2573967, \"C:\\\\Users\\\\Xinli\\\\AppData\\\\Roaming\\\\Python\\\\Python310\\\\site-packages\\\\pyparsing\\\\helpers.py\": 1660419110.2583947, \"C:\\\\Users\\\\Xinli\\\\AppData\\\\Roaming\\\\Python\\\\Python310\\\\site-packages\\\\pyparsing\\\\testing.py\": 1660419110.2605705, \"C:\\\\Users\\\\Xinli\\\\AppData\\\\Roaming\\\\Python\\\\Python310\\\\site-packages\\\\pyparsing\\\\common.py\": 1660419110.2563417, \"C:\\\\Users\\\\Xinli\\\\AppData\\\\Roaming\\\\Python\\\\Python310\\\\site-packages\\\\pyparsing\\\\__init__.py\": 1660419110.2551737, \"C:\\\\Users\\\\Xinli\\\\mambaforge\\\\envs\\\\base23\\\\lib\\\\site-packages\\\\matplotlib\\\\_fontconfig_pattern.py\": 1679593715.0, \"C:\\\\Users\\\\Xinli\\\\mambaforge\\\\envs\\\\base23\\\\lib\\\\site-packages\\\\matplotlib\\\\_enums.py\": 1679593715.0, \"C:\\\\Users\\\\Xinli\\\\mambaforge\\\\envs\\\\base23\\\\lib\\\\site-packages\\\\cycler.py\": 1637851582.0, \"C:\\\\Users\\\\Xinli\\\\mambaforge\\\\envs\\\\base23\\\\lib\\\\site-packages\\\\matplotlib\\\\rcsetup.py\": 1679593715.0, \"C:\\\\Users\\\\Xinli\\\\mambaforge\\\\envs\\\\base23\\\\lib\\\\site-packages\\\\matplotlib\\\\ft2font.cp310-win_amd64.pyd\": 1679593715.0, \"C:\\\\Users\\\\Xinli\\\\mambaforge\\\\envs\\\\base23\\\\lib\\\\site-packages\\\\kiwisolver\\\\_cext.cp310-win_amd64.pyd\": 1672388247.0, \"C:\\\\Users\\\\Xinli\\\\mambaforge\\\\envs\\\\base23\\\\lib\\\\site-packages\\\\kiwisolver\\\\__init__.py\": 1672388247.0, \"C:\\\\Users\\\\Xinli\\\\mambaforge\\\\envs\\\\base23\\\\lib\\\\site-packages\\\\matplotlib\\\\_cm_listed.py\": 1679593715.0, \"C:\\\\Users\\\\Xinli\\\\mambaforge\\\\envs\\\\base23\\\\lib\\\\site-packages\\\\matplotlib\\\\cm.py\": 1679593715.0, \"C:\\\\Users\\\\Xinli\\\\mambaforge\\\\envs\\\\base23\\\\lib\\\\site-packages\\\\matplotlib\\\\__init__.py\": 1679593715.0, \"C:\\\\Users\\\\Xinli\\\\mambaforge\\\\envs\\\\base23\\\\lib\\\\site-packages\\\\matplotlib\\\\artist.py\": 1679593715.0, \"C:\\\\Users\\\\Xinli\\\\mambaforge\\\\envs\\\\base23\\\\lib\\\\site-packages\\\\matplotlib\\\\hatch.py\": 1679593715.0, \"C:\\\\Users\\\\Xinli\\\\mambaforge\\\\envs\\\\base23\\\\lib\\\\site-packages\\\\matplotlib\\\\markers.py\": 1679593715.0, \"C:\\\\Users\\\\Xinli\\\\mambaforge\\\\envs\\\\base23\\\\lib\\\\site-packages\\\\matplotlib\\\\lines.py\": 1679593715.0, \"C:\\\\Users\\\\Xinli\\\\mambaforge\\\\envs\\\\base23\\\\lib\\\\site-packages\\\\matplotlib\\\\collections.py\": 1679593715.0, \"C:\\\\Users\\\\Xinli\\\\mambaforge\\\\envs\\\\base23\\\\lib\\\\site-packages\\\\matplotlib\\\\_pylab_helpers.py\": 1679593715.0, \"C:\\\\Users\\\\Xinli\\\\mambaforge\\\\envs\\\\base23\\\\lib\\\\site-packages\\\\matplotlib\\\\backend_tools.py\": 1679593715.0, \"C:\\\\Users\\\\Xinli\\\\mambaforge\\\\envs\\\\base23\\\\lib\\\\site-packages\\\\matplotlib\\\\_mathtext_data.py\": 1679593715.0, \"C:\\\\Users\\\\Xinli\\\\mambaforge\\\\envs\\\\base23\\\\lib\\\\site-packages\\\\matplotlib\\\\_afm.py\": 1679593715.0, \"C:\\\\Users\\\\Xinli\\\\mambaforge\\\\envs\\\\base23\\\\lib\\\\site-packages\\\\matplotlib\\\\font_manager.py\": 1679593715.0, \"C:\\\\Users\\\\Xinli\\\\mambaforge\\\\envs\\\\base23\\\\lib\\\\site-packages\\\\matplotlib\\\\patches.py\": 1679593715.0, \"C:\\\\Users\\\\Xinli\\\\mambaforge\\\\envs\\\\base23\\\\lib\\\\site-packages\\\\matplotlib\\\\_text_helpers.py\": 1679593715.0, \"C:\\\\Users\\\\Xinli\\\\mambaforge\\\\envs\\\\base23\\\\lib\\\\site-packages\\\\matplotlib\\\\dviread.py\": 1679593715.0, \"C:\\\\Users\\\\Xinli\\\\mambaforge\\\\envs\\\\base23\\\\lib\\\\site-packages\\\\matplotlib\\\\_mathtext.py\": 1679593715.0, \"C:\\\\Users\\\\Xinli\\\\mambaforge\\\\envs\\\\base23\\\\lib\\\\site-packages\\\\matplotlib\\\\mathtext.py\": 1679593715.0, \"C:\\\\Users\\\\Xinli\\\\mambaforge\\\\envs\\\\base23\\\\lib\\\\site-packages\\\\matplotlib\\\\texmanager.py\": 1679593715.0, \"C:\\\\Users\\\\Xinli\\\\mambaforge\\\\envs\\\\base23\\\\lib\\\\site-packages\\\\matplotlib\\\\textpath.py\": 1679593715.0, \"C:\\\\Users\\\\Xinli\\\\mambaforge\\\\envs\\\\base23\\\\lib\\\\site-packages\\\\matplotlib\\\\text.py\": 1679593715.0, \"C:\\\\Users\\\\Xinli\\\\mambaforge\\\\envs\\\\base23\\\\lib\\\\site-packages\\\\matplotlib\\\\_tight_bbox.py\": 1679593715.0, \"C:\\\\Users\\\\Xinli\\\\mambaforge\\\\envs\\\\base23\\\\lib\\\\site-packages\\\\matplotlib\\\\widgets.py\": 1679593715.0, \"C:\\\\Users\\\\Xinli\\\\mambaforge\\\\envs\\\\base23\\\\lib\\\\site-packages\\\\matplotlib\\\\backend_managers.py\": 1679593715.0, \"C:\\\\Users\\\\Xinli\\\\mambaforge\\\\envs\\\\base23\\\\lib\\\\site-packages\\\\matplotlib\\\\backend_bases.py\": 1679593715.0, \"C:\\\\Users\\\\Xinli\\\\mambaforge\\\\envs\\\\base23\\\\lib\\\\site-packages\\\\matplotlib\\\\contour.py\": 1679593715.0, \"C:\\\\Users\\\\Xinli\\\\mambaforge\\\\envs\\\\base23\\\\lib\\\\site-packages\\\\matplotlib\\\\spines.py\": 1679593715.0, \"C:\\\\Users\\\\Xinli\\\\mambaforge\\\\envs\\\\base23\\\\lib\\\\site-packages\\\\matplotlib\\\\colorbar.py\": 1679593715.0, \"C:\\\\Users\\\\Xinli\\\\mambaforge\\\\envs\\\\base23\\\\lib\\\\site-packages\\\\matplotlib\\\\_image.cp310-win_amd64.pyd\": 1679593715.0, \"C:\\\\Users\\\\Xinli\\\\mambaforge\\\\envs\\\\base23\\\\lib\\\\site-packages\\\\matplotlib\\\\image.py\": 1679593715.0, \"C:\\\\Users\\\\Xinli\\\\mambaforge\\\\envs\\\\base23\\\\lib\\\\site-packages\\\\matplotlib\\\\style\\\\core.py\": 1679593715.0, \"C:\\\\Users\\\\Xinli\\\\mambaforge\\\\envs\\\\base23\\\\lib\\\\site-packages\\\\matplotlib\\\\style\\\\__init__.py\": 1679593715.0, \"C:\\\\Users\\\\Xinli\\\\mambaforge\\\\envs\\\\base23\\\\lib\\\\site-packages\\\\matplotlib\\\\_blocking_input.py\": 1679593715.0, \"C:\\\\Users\\\\Xinli\\\\mambaforge\\\\envs\\\\base23\\\\lib\\\\site-packages\\\\matplotlib\\\\offsetbox.py\": 1679593715.0, \"C:\\\\Users\\\\Xinli\\\\mambaforge\\\\envs\\\\base23\\\\lib\\\\site-packages\\\\matplotlib\\\\units.py\": 1679593715.0, \"C:\\\\Users\\\\Xinli\\\\mambaforge\\\\envs\\\\base23\\\\lib\\\\site-packages\\\\matplotlib\\\\axis.py\": 1679593715.0, \"C:\\\\Users\\\\Xinli\\\\mambaforge\\\\envs\\\\base23\\\\lib\\\\site-packages\\\\matplotlib\\\\_tight_layout.py\": 1679593715.0, \"C:\\\\Users\\\\Xinli\\\\mambaforge\\\\envs\\\\base23\\\\lib\\\\site-packages\\\\matplotlib\\\\gridspec.py\": 1679593715.0, \"C:\\\\Users\\\\Xinli\\\\mambaforge\\\\envs\\\\base23\\\\lib\\\\site-packages\\\\matplotlib\\\\table.py\": 1679593715.0, \"C:\\\\Users\\\\Xinli\\\\mambaforge\\\\envs\\\\base23\\\\lib\\\\site-packages\\\\matplotlib\\\\axes\\\\_base.py\": 1679593715.0, \"C:\\\\Users\\\\Xinli\\\\mambaforge\\\\envs\\\\base23\\\\lib\\\\site-packages\\\\matplotlib\\\\category.py\": 1679593715.0, \"C:\\\\Users\\\\Xinli\\\\AppData\\\\Roaming\\\\Python\\\\Python310\\\\site-packages\\\\dateutil\\\\rrule.py\": 1660419118.7706745, \"C:\\\\Users\\\\Xinli\\\\mambaforge\\\\envs\\\\base23\\\\lib\\\\site-packages\\\\matplotlib\\\\dates.py\": 1679593715.0, \"C:\\\\Users\\\\Xinli\\\\mambaforge\\\\envs\\\\base23\\\\lib\\\\site-packages\\\\matplotlib\\\\container.py\": 1679593715.0, \"C:\\\\Users\\\\Xinli\\\\mambaforge\\\\envs\\\\base23\\\\lib\\\\site-packages\\\\matplotlib\\\\legend_handler.py\": 1679593715.0, \"C:\\\\Users\\\\Xinli\\\\mambaforge\\\\envs\\\\base23\\\\lib\\\\site-packages\\\\matplotlib\\\\legend.py\": 1679593715.0, \"C:\\\\Users\\\\Xinli\\\\mambaforge\\\\envs\\\\base23\\\\lib\\\\site-packages\\\\matplotlib\\\\mlab.py\": 1679593715.0, \"C:\\\\Users\\\\Xinli\\\\mambaforge\\\\envs\\\\base23\\\\lib\\\\site-packages\\\\matplotlib\\\\quiver.py\": 1679593715.0, \"C:\\\\Users\\\\Xinli\\\\mambaforge\\\\envs\\\\base23\\\\lib\\\\site-packages\\\\matplotlib\\\\stackplot.py\": 1679593715.0, \"C:\\\\Users\\\\Xinli\\\\mambaforge\\\\envs\\\\base23\\\\lib\\\\site-packages\\\\matplotlib\\\\streamplot.py\": 1679593715.0, \"C:\\\\Users\\\\Xinli\\\\mambaforge\\\\envs\\\\base23\\\\lib\\\\site-packages\\\\matplotlib\\\\tri\\\\_triangulation.py\": 1679593715.0, \"C:\\\\Users\\\\Xinli\\\\mambaforge\\\\envs\\\\base23\\\\lib\\\\site-packages\\\\matplotlib\\\\tri\\\\_tricontour.py\": 1679593715.0, \"C:\\\\Users\\\\Xinli\\\\mambaforge\\\\envs\\\\base23\\\\lib\\\\site-packages\\\\matplotlib\\\\tri\\\\_trifinder.py\": 1679593715.0, \"C:\\\\Users\\\\Xinli\\\\mambaforge\\\\envs\\\\base23\\\\lib\\\\site-packages\\\\matplotlib\\\\tri\\\\_tritools.py\": 1679593715.0, \"C:\\\\Users\\\\Xinli\\\\mambaforge\\\\envs\\\\base23\\\\lib\\\\site-packages\\\\matplotlib\\\\tri\\\\_triinterpolate.py\": 1679593715.0, \"C:\\\\Users\\\\Xinli\\\\mambaforge\\\\envs\\\\base23\\\\lib\\\\site-packages\\\\matplotlib\\\\tri\\\\_tripcolor.py\": 1679593715.0, \"C:\\\\Users\\\\Xinli\\\\mambaforge\\\\envs\\\\base23\\\\lib\\\\site-packages\\\\matplotlib\\\\tri\\\\_triplot.py\": 1679593715.0, \"C:\\\\Users\\\\Xinli\\\\mambaforge\\\\envs\\\\base23\\\\lib\\\\site-packages\\\\matplotlib\\\\tri\\\\_trirefine.py\": 1679593715.0, \"C:\\\\Users\\\\Xinli\\\\mambaforge\\\\envs\\\\base23\\\\lib\\\\site-packages\\\\matplotlib\\\\tri\\\\__init__.py\": 1679593715.0, \"C:\\\\Users\\\\Xinli\\\\mambaforge\\\\envs\\\\base23\\\\lib\\\\site-packages\\\\matplotlib\\\\axes\\\\_secondary_axes.py\": 1679593715.0, \"C:\\\\Users\\\\Xinli\\\\mambaforge\\\\envs\\\\base23\\\\lib\\\\site-packages\\\\matplotlib\\\\axes\\\\_axes.py\": 1679593715.0, \"C:\\\\Users\\\\Xinli\\\\mambaforge\\\\envs\\\\base23\\\\lib\\\\site-packages\\\\matplotlib\\\\axes\\\\__init__.py\": 1679593715.0, \"C:\\\\Users\\\\Xinli\\\\mambaforge\\\\envs\\\\base23\\\\lib\\\\site-packages\\\\matplotlib\\\\projections\\\\geo.py\": 1679593715.0, \"C:\\\\Users\\\\Xinli\\\\mambaforge\\\\envs\\\\base23\\\\lib\\\\site-packages\\\\matplotlib\\\\projections\\\\polar.py\": 1679593715.0, \"C:\\\\Users\\\\Xinli\\\\mambaforge\\\\envs\\\\base23\\\\lib\\\\site-packages\\\\mpl_toolkits\\\\mplot3d\\\\proj3d.py\": 1679593715.0, \"C:\\\\Users\\\\Xinli\\\\mambaforge\\\\envs\\\\base23\\\\lib\\\\site-packages\\\\mpl_toolkits\\\\mplot3d\\\\art3d.py\": 1679593715.0, \"C:\\\\Users\\\\Xinli\\\\mambaforge\\\\envs\\\\base23\\\\lib\\\\site-packages\\\\mpl_toolkits\\\\mplot3d\\\\axis3d.py\": 1679593715.0, \"C:\\\\Users\\\\Xinli\\\\mambaforge\\\\envs\\\\base23\\\\lib\\\\site-packages\\\\mpl_toolkits\\\\mplot3d\\\\axes3d.py\": 1679593715.0, \"C:\\\\Users\\\\Xinli\\\\mambaforge\\\\envs\\\\base23\\\\lib\\\\site-packages\\\\mpl_toolkits\\\\mplot3d\\\\__init__.py\": 1679593715.0, \"C:\\\\Users\\\\Xinli\\\\mambaforge\\\\envs\\\\base23\\\\lib\\\\site-packages\\\\matplotlib\\\\projections\\\\__init__.py\": 1679593715.0, \"C:\\\\Users\\\\Xinli\\\\mambaforge\\\\envs\\\\base23\\\\lib\\\\site-packages\\\\matplotlib\\\\_layoutgrid.py\": 1679593715.0, \"C:\\\\Users\\\\Xinli\\\\mambaforge\\\\envs\\\\base23\\\\lib\\\\site-packages\\\\matplotlib\\\\_constrained_layout.py\": 1679593715.0, \"C:\\\\Users\\\\Xinli\\\\mambaforge\\\\envs\\\\base23\\\\lib\\\\site-packages\\\\matplotlib\\\\layout_engine.py\": 1679593715.0, \"C:\\\\Users\\\\Xinli\\\\mambaforge\\\\envs\\\\base23\\\\lib\\\\site-packages\\\\matplotlib\\\\figure.py\": 1679593715.0, \"C:\\\\Users\\\\Xinli\\\\mambaforge\\\\envs\\\\base23\\\\lib\\\\site-packages\\\\matplotlib\\\\pyplot.py\": 1679593715.0, \"C:\\\\Users\\\\Xinli\\\\AppData\\\\Roaming\\\\Python\\\\Python310\\\\site-packages\\\\matplotlib_inline\\\\__init__.py\": 1660419119.0896592, \"C:\\\\Users\\\\Xinli\\\\mambaforge\\\\envs\\\\base23\\\\lib\\\\site-packages\\\\matplotlib\\\\backends\\\\__init__.py\": 1679593715.0, \"C:\\\\Users\\\\Xinli\\\\mambaforge\\\\envs\\\\base23\\\\lib\\\\site-packages\\\\matplotlib\\\\backends\\\\_backend_agg.cp310-win_amd64.pyd\": 1679593715.0, \"C:\\\\Users\\\\Xinli\\\\mambaforge\\\\envs\\\\base23\\\\lib\\\\site-packages\\\\matplotlib\\\\backends\\\\backend_agg.py\": 1679593715.0, \"C:\\\\Users\\\\Xinli\\\\AppData\\\\Roaming\\\\Python\\\\Python310\\\\site-packages\\\\matplotlib_inline\\\\config.py\": 1660419119.0914001, \"C:\\\\Users\\\\Xinli\\\\AppData\\\\Roaming\\\\Python\\\\Python310\\\\site-packages\\\\matplotlib_inline\\\\backend_inline.py\": 1660419119.0910306, \"C:\\\\Users\\\\Xinli\\\\mambaforge\\\\envs\\\\base23\\\\lib\\\\site-packages\\\\pytz\\\\exceptions.py\": 1671698400.0, \"C:\\\\Users\\\\Xinli\\\\mambaforge\\\\envs\\\\base23\\\\lib\\\\site-packages\\\\pytz\\\\lazy.py\": 1671698400.0, \"C:\\\\Users\\\\Xinli\\\\mambaforge\\\\envs\\\\base23\\\\lib\\\\site-packages\\\\pytz\\\\tzinfo.py\": 1671698400.0, \"C:\\\\Users\\\\Xinli\\\\mambaforge\\\\envs\\\\base23\\\\lib\\\\site-packages\\\\pytz\\\\tzfile.py\": 1671698400.0, \"C:\\\\Users\\\\Xinli\\\\mambaforge\\\\envs\\\\base23\\\\lib\\\\site-packages\\\\pytz\\\\__init__.py\": 1671698400.0, \"C:\\\\Users\\\\Xinli\\\\mambaforge\\\\envs\\\\base23\\\\lib\\\\site-packages\\\\pandas\\\\_typing.py\": 1685343729.298833, \"C:\\\\Users\\\\Xinli\\\\mambaforge\\\\envs\\\\base23\\\\lib\\\\site-packages\\\\pandas\\\\compat\\\\_constants.py\": 1685343729.548831, \"C:\\\\Users\\\\Xinli\\\\mambaforge\\\\envs\\\\base23\\\\lib\\\\site-packages\\\\pandas\\\\compat\\\\compressors.py\": 1685343729.548831, \"C:\\\\Users\\\\Xinli\\\\mambaforge\\\\envs\\\\base23\\\\lib\\\\site-packages\\\\pandas\\\\_libs\\\\tslibs\\\\np_datetime.cp310-win_amd64.pyd\": 1685343729.470709, \"C:\\\\Users\\\\Xinli\\\\mambaforge\\\\envs\\\\base23\\\\lib\\\\site-packages\\\\pandas\\\\_libs\\\\tslibs\\\\dtypes.cp310-win_amd64.pyd\": 1685343729.455084, \"C:\\\\Users\\\\Xinli\\\\mambaforge\\\\envs\\\\base23\\\\lib\\\\site-packages\\\\pandas\\\\_libs\\\\tslibs\\\\base.cp310-win_amd64.pyd\": 1685343729.455084, \"C:\\\\Users\\\\Xinli\\\\mambaforge\\\\envs\\\\base23\\\\lib\\\\site-packages\\\\pandas\\\\_libs\\\\tslibs\\\\nattype.cp310-win_amd64.pyd\": 1685343729.470709, \"C:\\\\Users\\\\Xinli\\\\mambaforge\\\\envs\\\\base23\\\\lib\\\\site-packages\\\\pandas\\\\util\\\\_exceptions.py\": 1685343730.815423, \"C:\\\\Users\\\\Xinli\\\\mambaforge\\\\envs\\\\base23\\\\lib\\\\site-packages\\\\pandas\\\\util\\\\version\\\\__init__.py\": 1685343730.815423, \"C:\\\\Users\\\\Xinli\\\\mambaforge\\\\envs\\\\base23\\\\lib\\\\site-packages\\\\pandas\\\\compat\\\\_optional.py\": 1685343729.548831, \"C:\\\\Users\\\\Xinli\\\\mambaforge\\\\envs\\\\base23\\\\lib\\\\zoneinfo\\\\_tzpath.py\": 1680645435.0, \"C:\\\\Users\\\\Xinli\\\\mambaforge\\\\envs\\\\base23\\\\lib\\\\zoneinfo\\\\_common.py\": 1680645435.0, \"C:\\\\Users\\\\Xinli\\\\mambaforge\\\\envs\\\\base23\\\\DLLs\\\\_zoneinfo.pyd\": 1683744825.639632, \"C:\\\\Users\\\\Xinli\\\\mambaforge\\\\envs\\\\base23\\\\lib\\\\zoneinfo\\\\__init__.py\": 1680645435.0, \"C:\\\\Users\\\\Xinli\\\\mambaforge\\\\envs\\\\base23\\\\lib\\\\site-packages\\\\pandas\\\\_libs\\\\tslibs\\\\timezones.cp310-win_amd64.pyd\": 1685343729.517589, \"C:\\\\Users\\\\Xinli\\\\mambaforge\\\\envs\\\\base23\\\\lib\\\\site-packages\\\\pandas\\\\_libs\\\\tslibs\\\\ccalendar.cp310-win_amd64.pyd\": 1685343729.455084, \"C:\\\\Users\\\\Xinli\\\\mambaforge\\\\envs\\\\base23\\\\lib\\\\site-packages\\\\pandas\\\\_config\\\\config.py\": 1685343729.298833, \"C:\\\\Users\\\\Xinli\\\\mambaforge\\\\envs\\\\base23\\\\lib\\\\site-packages\\\\pandas\\\\_config\\\\dates.py\": 1685343729.298833, \"C:\\\\Users\\\\Xinli\\\\mambaforge\\\\envs\\\\base23\\\\lib\\\\site-packages\\\\pandas\\\\_config\\\\display.py\": 1685343729.298833, \"C:\\\\Users\\\\Xinli\\\\mambaforge\\\\envs\\\\base23\\\\lib\\\\site-packages\\\\pandas\\\\_config\\\\__init__.py\": 1685343729.298833, \"C:\\\\Users\\\\Xinli\\\\mambaforge\\\\envs\\\\base23\\\\lib\\\\site-packages\\\\pandas\\\\_config\\\\localization.py\": 1685343729.298833, \"C:\\\\Users\\\\Xinli\\\\mambaforge\\\\envs\\\\base23\\\\lib\\\\site-packages\\\\pandas\\\\_libs\\\\tslibs\\\\fields.cp310-win_amd64.pyd\": 1685343729.470709, \"C:\\\\Users\\\\Xinli\\\\mambaforge\\\\envs\\\\base23\\\\lib\\\\site-packages\\\\pandas\\\\_libs\\\\tslibs\\\\timedeltas.cp310-win_amd64.pyd\": 1685343729.501959, \"C:\\\\Users\\\\Xinli\\\\mambaforge\\\\envs\\\\base23\\\\lib\\\\site-packages\\\\pandas\\\\_libs\\\\tslibs\\\\tzconversion.cp310-win_amd64.pyd\": 1685343729.517589, \"C:\\\\Users\\\\Xinli\\\\mambaforge\\\\envs\\\\base23\\\\lib\\\\site-packages\\\\pandas\\\\_libs\\\\tslibs\\\\timestamps.cp310-win_amd64.pyd\": 1685343729.517589, \"C:\\\\Users\\\\Xinli\\\\AppData\\\\Roaming\\\\Python\\\\Python310\\\\site-packages\\\\dateutil\\\\easter.py\": 1660419118.7686427, \"C:\\\\Users\\\\Xinli\\\\mambaforge\\\\envs\\\\base23\\\\lib\\\\site-packages\\\\pandas\\\\_libs\\\\properties.cp310-win_amd64.pyd\": 1685343729.423833, \"C:\\\\Users\\\\Xinli\\\\mambaforge\\\\envs\\\\base23\\\\lib\\\\site-packages\\\\pandas\\\\_libs\\\\tslibs\\\\offsets.cp310-win_amd64.pyd\": 1685343729.486333, \"C:\\\\Users\\\\Xinli\\\\mambaforge\\\\envs\\\\base23\\\\lib\\\\site-packages\\\\pandas\\\\_libs\\\\tslibs\\\\strptime.cp310-win_amd64.pyd\": 1685343729.501959, \"C:\\\\Users\\\\Xinli\\\\mambaforge\\\\envs\\\\base23\\\\lib\\\\site-packages\\\\pandas\\\\_libs\\\\tslibs\\\\parsing.cp310-win_amd64.pyd\": 1685343729.486333, \"C:\\\\Users\\\\Xinli\\\\mambaforge\\\\envs\\\\base23\\\\lib\\\\site-packages\\\\pandas\\\\_libs\\\\tslibs\\\\conversion.cp310-win_amd64.pyd\": 1685343729.455084, \"C:\\\\Users\\\\Xinli\\\\mambaforge\\\\envs\\\\base23\\\\lib\\\\site-packages\\\\pandas\\\\_libs\\\\tslibs\\\\period.cp310-win_amd64.pyd\": 1685343729.486333, \"C:\\\\Users\\\\Xinli\\\\mambaforge\\\\envs\\\\base23\\\\lib\\\\site-packages\\\\pandas\\\\_libs\\\\tslibs\\\\vectorized.cp310-win_amd64.pyd\": 1685343729.533209, \"C:\\\\Users\\\\Xinli\\\\mambaforge\\\\envs\\\\base23\\\\lib\\\\site-packages\\\\pandas\\\\_libs\\\\tslibs\\\\__init__.py\": 1685343729.455084, \"C:\\\\Users\\\\Xinli\\\\mambaforge\\\\envs\\\\base23\\\\lib\\\\site-packages\\\\pandas\\\\_libs\\\\ops_dispatch.cp310-win_amd64.pyd\": 1685343729.408209, \"C:\\\\Users\\\\Xinli\\\\mambaforge\\\\envs\\\\base23\\\\lib\\\\site-packages\\\\pandas\\\\_libs\\\\missing.cp310-win_amd64.pyd\": 1685343729.408209, \"C:\\\\Users\\\\Xinli\\\\mambaforge\\\\envs\\\\base23\\\\lib\\\\site-packages\\\\pandas\\\\_libs\\\\hashtable.cp310-win_amd64.pyd\": 1685343729.34571, \"C:\\\\Users\\\\Xinli\\\\mambaforge\\\\envs\\\\base23\\\\lib\\\\site-packages\\\\pandas\\\\_libs\\\\algos.cp310-win_amd64.pyd\": 1685343729.31452, \"C:\\\\Users\\\\Xinli\\\\mambaforge\\\\envs\\\\base23\\\\lib\\\\site-packages\\\\pandas\\\\_libs\\\\interval.cp310-win_amd64.pyd\": 1685343729.376965, \"C:\\\\Users\\\\Xinli\\\\mambaforge\\\\envs\\\\base23\\\\lib\\\\site-packages\\\\pandas\\\\_libs\\\\__init__.py\": 1685343729.298833, \"C:\\\\Users\\\\Xinli\\\\mambaforge\\\\envs\\\\base23\\\\lib\\\\site-packages\\\\pandas\\\\util\\\\_decorators.py\": 1685343730.815423, \"C:\\\\Users\\\\Xinli\\\\mambaforge\\\\envs\\\\base23\\\\lib\\\\site-packages\\\\pandas\\\\core\\\\__init__.py\": 1685343729.564459, \"C:\\\\Users\\\\Xinli\\\\mambaforge\\\\envs\\\\base23\\\\lib\\\\site-packages\\\\pandas\\\\core\\\\util\\\\__init__.py\": 1685343729.70508, \"C:\\\\Users\\\\Xinli\\\\mambaforge\\\\envs\\\\base23\\\\lib\\\\site-packages\\\\pandas\\\\_libs\\\\lib.cp310-win_amd64.pyd\": 1685343729.392583, \"C:\\\\Users\\\\Xinli\\\\mambaforge\\\\envs\\\\base23\\\\lib\\\\site-packages\\\\pandas\\\\_libs\\\\hashing.cp310-win_amd64.pyd\": 1685343729.330085, \"C:\\\\Users\\\\Xinli\\\\mambaforge\\\\envs\\\\base23\\\\lib\\\\site-packages\\\\pandas\\\\core\\\\dtypes\\\\__init__.py\": 1685343729.626978, \"C:\\\\Users\\\\Xinli\\\\mambaforge\\\\envs\\\\base23\\\\lib\\\\site-packages\\\\pandas\\\\errors\\\\__init__.py\": 1685343729.720705, \"C:\\\\Users\\\\Xinli\\\\mambaforge\\\\envs\\\\base23\\\\lib\\\\site-packages\\\\pandas\\\\core\\\\dtypes\\\\generic.py\": 1685343729.642583, \"C:\\\\Users\\\\Xinli\\\\mambaforge\\\\envs\\\\base23\\\\lib\\\\site-packages\\\\pandas\\\\core\\\\dtypes\\\\base.py\": 1685343729.626978, \"C:\\\\Users\\\\Xinli\\\\mambaforge\\\\envs\\\\base23\\\\lib\\\\site-packages\\\\pandas\\\\core\\\\dtypes\\\\inference.py\": 1685343729.642583, \"C:\\\\Users\\\\Xinli\\\\mambaforge\\\\envs\\\\base23\\\\lib\\\\site-packages\\\\pandas\\\\core\\\\dtypes\\\\dtypes.py\": 1685343729.642583, \"C:\\\\Users\\\\Xinli\\\\mambaforge\\\\envs\\\\base23\\\\lib\\\\site-packages\\\\pandas\\\\core\\\\dtypes\\\\common.py\": 1685343729.626978, \"C:\\\\Users\\\\Xinli\\\\mambaforge\\\\envs\\\\base23\\\\lib\\\\site-packages\\\\pandas\\\\core\\\\util\\\\hashing.py\": 1685343729.70508, \"C:\\\\Users\\\\Xinli\\\\mambaforge\\\\envs\\\\base23\\\\lib\\\\site-packages\\\\pandas\\\\util\\\\__init__.py\": 1685343730.815423, \"C:\\\\Users\\\\Xinli\\\\mambaforge\\\\envs\\\\base23\\\\lib\\\\site-packages\\\\pandas\\\\compat\\\\numpy\\\\__init__.py\": 1685343729.548831, \"C:\\\\Users\\\\Xinli\\\\mambaforge\\\\envs\\\\base23\\\\lib\\\\site-packages\\\\pandas\\\\compat\\\\pyarrow.py\": 1685343729.548831, \"C:\\\\Users\\\\Xinli\\\\mambaforge\\\\envs\\\\base23\\\\lib\\\\site-packages\\\\pandas\\\\compat\\\\__init__.py\": 1685343729.548831, \"C:\\\\Users\\\\Xinli\\\\mambaforge\\\\envs\\\\base23\\\\lib\\\\site-packages\\\\pandas\\\\_libs\\\\tslib.cp310-win_amd64.pyd\": 1685343729.439458, \"C:\\\\Users\\\\Xinli\\\\mambaforge\\\\envs\\\\base23\\\\lib\\\\site-packages\\\\pandas\\\\core\\\\config_init.py\": 1685343729.564459, \"C:\\\\Users\\\\Xinli\\\\mambaforge\\\\envs\\\\base23\\\\lib\\\\site-packages\\\\pandas\\\\core\\\\dtypes\\\\missing.py\": 1685343729.642583, \"C:\\\\Users\\\\Xinli\\\\mambaforge\\\\envs\\\\base23\\\\lib\\\\site-packages\\\\pandas\\\\core\\\\dtypes\\\\cast.py\": 1685343729.626978, \"C:\\\\Users\\\\Xinli\\\\mambaforge\\\\envs\\\\base23\\\\lib\\\\site-packages\\\\pandas\\\\core\\\\dtypes\\\\astype.py\": 1685343729.626978, \"C:\\\\Users\\\\Xinli\\\\mambaforge\\\\envs\\\\base23\\\\lib\\\\site-packages\\\\pandas\\\\core\\\\dtypes\\\\concat.py\": 1685343729.626978, \"C:\\\\Users\\\\Xinli\\\\mambaforge\\\\envs\\\\base23\\\\lib\\\\site-packages\\\\pandas\\\\core\\\\array_algos\\\\__init__.py\": 1685343729.580083, \"C:\\\\Users\\\\Xinli\\\\mambaforge\\\\envs\\\\base23\\\\lib\\\\site-packages\\\\pandas\\\\core\\\\common.py\": 1685343729.564459, \"C:\\\\Users\\\\Xinli\\\\mambaforge\\\\envs\\\\base23\\\\lib\\\\site-packages\\\\pandas\\\\core\\\\construction.py\": 1685343729.564459, \"C:\\\\Users\\\\Xinli\\\\mambaforge\\\\envs\\\\base23\\\\lib\\\\site-packages\\\\pandas\\\\core\\\\array_algos\\\\take.py\": 1685343729.595707, \"C:\\\\Users\\\\Xinli\\\\mambaforge\\\\envs\\\\base23\\\\lib\\\\site-packages\\\\pandas\\\\core\\\\indexers\\\\utils.py\": 1685343729.642583, \"C:\\\\Users\\\\Xinli\\\\mambaforge\\\\envs\\\\base23\\\\lib\\\\site-packages\\\\pandas\\\\core\\\\indexers\\\\__init__.py\": 1685343729.642583, \"C:\\\\Users\\\\Xinli\\\\mambaforge\\\\envs\\\\base23\\\\lib\\\\site-packages\\\\pandas\\\\core\\\\algorithms.py\": 1685343729.564459, \"C:\\\\Users\\\\Xinli\\\\mambaforge\\\\envs\\\\base23\\\\lib\\\\site-packages\\\\pandas\\\\util\\\\_validators.py\": 1685343730.815423, \"C:\\\\Users\\\\Xinli\\\\mambaforge\\\\envs\\\\base23\\\\lib\\\\site-packages\\\\pandas\\\\core\\\\roperator.py\": 1685343729.580083, \"C:\\\\Users\\\\Xinli\\\\mambaforge\\\\envs\\\\base23\\\\lib\\\\site-packages\\\\pandas\\\\_libs\\\\ops.cp310-win_amd64.pyd\": 1685343729.408209, \"C:\\\\Users\\\\Xinli\\\\mambaforge\\\\envs\\\\base23\\\\lib\\\\site-packages\\\\pandas\\\\core\\\\computation\\\\__init__.py\": 1685343729.611331, \"C:\\\\Users\\\\Xinli\\\\mambaforge\\\\envs\\\\base23\\\\lib\\\\site-packages\\\\numexpr\\\\interpreter.cp310-win_amd64.pyd\": 1683222067.0, \"C:\\\\Users\\\\Xinli\\\\mambaforge\\\\envs\\\\base23\\\\lib\\\\site-packages\\\\numexpr\\\\expressions.py\": 1683222067.0, \"C:\\\\Users\\\\Xinli\\\\mambaforge\\\\envs\\\\base23\\\\lib\\\\site-packages\\\\numexpr\\\\version.py\": 1683222067.0, \"C:\\\\Users\\\\Xinli\\\\mambaforge\\\\envs\\\\base23\\\\lib\\\\site-packages\\\\numexpr\\\\utils.py\": 1683222067.0, \"C:\\\\Users\\\\Xinli\\\\mambaforge\\\\envs\\\\base23\\\\lib\\\\site-packages\\\\numexpr\\\\necompiler.py\": 1683222067.0, \"C:\\\\Users\\\\Xinli\\\\mambaforge\\\\envs\\\\base23\\\\lib\\\\site-packages\\\\numexpr\\\\__init__.py\": 1683222067.0, \"C:\\\\Users\\\\Xinli\\\\mambaforge\\\\envs\\\\base23\\\\lib\\\\site-packages\\\\pandas\\\\core\\\\computation\\\\check.py\": 1685343729.611331, \"C:\\\\Users\\\\Xinli\\\\mambaforge\\\\envs\\\\base23\\\\lib\\\\site-packages\\\\pandas\\\\core\\\\computation\\\\expressions.py\": 1685343729.626978, \"C:\\\\Users\\\\Xinli\\\\mambaforge\\\\envs\\\\base23\\\\lib\\\\site-packages\\\\pandas\\\\core\\\\ops\\\\missing.py\": 1685343729.689501, \"C:\\\\Users\\\\Xinli\\\\mambaforge\\\\envs\\\\base23\\\\lib\\\\site-packages\\\\pandas\\\\core\\\\ops\\\\dispatch.py\": 1685343729.689501, \"C:\\\\Users\\\\Xinli\\\\mambaforge\\\\envs\\\\base23\\\\lib\\\\site-packages\\\\pandas\\\\core\\\\ops\\\\invalid.py\": 1685343729.689501, \"C:\\\\Users\\\\Xinli\\\\mambaforge\\\\envs\\\\base23\\\\lib\\\\site-packages\\\\pandas\\\\core\\\\ops\\\\array_ops.py\": 1685343729.673832, \"C:\\\\Users\\\\Xinli\\\\mambaforge\\\\envs\\\\base23\\\\lib\\\\site-packages\\\\pandas\\\\core\\\\ops\\\\common.py\": 1685343729.689501, \"C:\\\\Users\\\\Xinli\\\\mambaforge\\\\envs\\\\base23\\\\lib\\\\site-packages\\\\pandas\\\\core\\\\ops\\\\docstrings.py\": 1685343729.689501, \"C:\\\\Users\\\\Xinli\\\\mambaforge\\\\envs\\\\base23\\\\lib\\\\site-packages\\\\pandas\\\\core\\\\ops\\\\mask_ops.py\": 1685343729.689501, \"C:\\\\Users\\\\Xinli\\\\mambaforge\\\\envs\\\\base23\\\\lib\\\\site-packages\\\\pandas\\\\core\\\\ops\\\\methods.py\": 1685343729.689501, \"C:\\\\Users\\\\Xinli\\\\mambaforge\\\\envs\\\\base23\\\\lib\\\\site-packages\\\\pandas\\\\core\\\\ops\\\\__init__.py\": 1685343729.673832, \"C:\\\\Users\\\\Xinli\\\\mambaforge\\\\envs\\\\base23\\\\lib\\\\site-packages\\\\pandas\\\\core\\\\arraylike.py\": 1685343729.564459, \"C:\\\\Users\\\\Xinli\\\\mambaforge\\\\envs\\\\base23\\\\lib\\\\site-packages\\\\pandas\\\\compat\\\\numpy\\\\function.py\": 1685343729.564459, \"C:\\\\Users\\\\Xinli\\\\mambaforge\\\\envs\\\\base23\\\\lib\\\\site-packages\\\\pandas\\\\core\\\\missing.py\": 1685343729.580083, \"C:\\\\Users\\\\Xinli\\\\mambaforge\\\\envs\\\\base23\\\\lib\\\\site-packages\\\\pandas\\\\core\\\\array_algos\\\\quantile.py\": 1685343729.595707, \"C:\\\\Users\\\\Xinli\\\\mambaforge\\\\envs\\\\base23\\\\lib\\\\site-packages\\\\pandas\\\\core\\\\sorting.py\": 1685343729.580083, \"C:\\\\Users\\\\Xinli\\\\mambaforge\\\\envs\\\\base23\\\\lib\\\\site-packages\\\\pandas\\\\core\\\\arrays\\\\base.py\": 1685343729.595707, \"C:\\\\Users\\\\Xinli\\\\mambaforge\\\\envs\\\\base23\\\\lib\\\\site-packages\\\\pandas\\\\core\\\\strings\\\\__init__.py\": 1685343729.70508, \"C:\\\\Users\\\\Xinli\\\\mambaforge\\\\envs\\\\base23\\\\lib\\\\site-packages\\\\pandas\\\\core\\\\strings\\\\base.py\": 1685343729.70508, \"C:\\\\Users\\\\Xinli\\\\mambaforge\\\\envs\\\\base23\\\\lib\\\\site-packages\\\\pandas\\\\tseries\\\\__init__.py\": 1685343730.7998, \"C:\\\\Users\\\\Xinli\\\\mambaforge\\\\envs\\\\base23\\\\lib\\\\site-packages\\\\pandas\\\\tseries\\\\frequencies.py\": 1685343730.815423, \"C:\\\\Users\\\\Xinli\\\\mambaforge\\\\envs\\\\base23\\\\lib\\\\site-packages\\\\pandas\\\\core\\\\arrays\\\\arrow\\\\array.py\": 1685343729.611331, \"C:\\\\Users\\\\Xinli\\\\mambaforge\\\\envs\\\\base23\\\\lib\\\\site-packages\\\\pandas\\\\core\\\\arrays\\\\arrow\\\\dtype.py\": 1685343729.611331, \"C:\\\\Users\\\\Xinli\\\\mambaforge\\\\envs\\\\base23\\\\lib\\\\site-packages\\\\pandas\\\\core\\\\arrays\\\\arrow\\\\__init__.py\": 1685343729.611331, \"C:\\\\Users\\\\Xinli\\\\mambaforge\\\\envs\\\\base23\\\\lib\\\\site-packages\\\\pandas\\\\core\\\\array_algos\\\\masked_accumulations.py\": 1685343729.580083, \"C:\\\\Users\\\\Xinli\\\\mambaforge\\\\envs\\\\base23\\\\lib\\\\site-packages\\\\bottleneck\\\\benchmark\\\\__init__.py\": 1657176380.0, \"C:\\\\Users\\\\Xinli\\\\mambaforge\\\\envs\\\\base23\\\\lib\\\\site-packages\\\\bottleneck\\\\benchmark\\\\autotimeit.py\": 1657176380.0, \"C:\\\\Users\\\\Xinli\\\\mambaforge\\\\envs\\\\base23\\\\lib\\\\site-packages\\\\bottleneck\\\\benchmark\\\\bench.py\": 1657176380.0, \"C:\\\\Users\\\\Xinli\\\\mambaforge\\\\envs\\\\base23\\\\lib\\\\site-packages\\\\bottleneck\\\\benchmark\\\\bench_detailed.py\": 1657176380.0, \"C:\\\\Users\\\\Xinli\\\\mambaforge\\\\envs\\\\base23\\\\lib\\\\site-packages\\\\bottleneck\\\\tests\\\\__init__.py\": 1657176380.0, \"C:\\\\Users\\\\Xinli\\\\mambaforge\\\\envs\\\\base23\\\\lib\\\\site-packages\\\\bottleneck\\\\tests\\\\util.py\": 1657176380.0, \"C:\\\\Users\\\\Xinli\\\\mambaforge\\\\envs\\\\base23\\\\lib\\\\site-packages\\\\bottleneck\\\\slow\\\\reduce.py\": 1657176380.0, \"C:\\\\Users\\\\Xinli\\\\mambaforge\\\\envs\\\\base23\\\\lib\\\\site-packages\\\\bottleneck\\\\slow\\\\nonreduce.py\": 1657176380.0, \"C:\\\\Users\\\\Xinli\\\\mambaforge\\\\envs\\\\base23\\\\lib\\\\site-packages\\\\bottleneck\\\\slow\\\\nonreduce_axis.py\": 1657176380.0, \"C:\\\\Users\\\\Xinli\\\\mambaforge\\\\envs\\\\base23\\\\lib\\\\site-packages\\\\bottleneck\\\\slow\\\\move.py\": 1657176380.0, \"C:\\\\Users\\\\Xinli\\\\mambaforge\\\\envs\\\\base23\\\\lib\\\\site-packages\\\\bottleneck\\\\slow\\\\__init__.py\": 1657176380.0, \"C:\\\\Users\\\\Xinli\\\\mambaforge\\\\envs\\\\base23\\\\lib\\\\site-packages\\\\bottleneck\\\\_pytesttester.py\": 1657176380.0, \"C:\\\\Users\\\\Xinli\\\\mambaforge\\\\envs\\\\base23\\\\lib\\\\site-packages\\\\bottleneck\\\\move.cp310-win_amd64.pyd\": 1657176380.0, \"C:\\\\Users\\\\Xinli\\\\mambaforge\\\\envs\\\\base23\\\\lib\\\\site-packages\\\\bottleneck\\\\nonreduce.cp310-win_amd64.pyd\": 1657176380.0, \"C:\\\\Users\\\\Xinli\\\\mambaforge\\\\envs\\\\base23\\\\lib\\\\site-packages\\\\bottleneck\\\\nonreduce_axis.cp310-win_amd64.pyd\": 1657176380.0, \"C:\\\\Users\\\\Xinli\\\\mambaforge\\\\envs\\\\base23\\\\lib\\\\site-packages\\\\bottleneck\\\\reduce.cp310-win_amd64.pyd\": 1657176380.0, \"C:\\\\Users\\\\Xinli\\\\mambaforge\\\\envs\\\\base23\\\\lib\\\\site-packages\\\\bottleneck\\\\_version.py\": 1657176380.0, \"C:\\\\Users\\\\Xinli\\\\mambaforge\\\\envs\\\\base23\\\\lib\\\\site-packages\\\\bottleneck\\\\__init__.py\": 1657176380.0, \"C:\\\\Users\\\\Xinli\\\\mambaforge\\\\envs\\\\base23\\\\lib\\\\site-packages\\\\pandas\\\\core\\\\nanops.py\": 1685343729.580083, \"C:\\\\Users\\\\Xinli\\\\mambaforge\\\\envs\\\\base23\\\\lib\\\\site-packages\\\\pandas\\\\core\\\\array_algos\\\\masked_reductions.py\": 1685343729.595707, \"C:\\\\Users\\\\Xinli\\\\mambaforge\\\\envs\\\\base23\\\\lib\\\\site-packages\\\\pandas\\\\core\\\\arrays\\\\masked.py\": 1685343729.595707, \"C:\\\\Users\\\\Xinli\\\\mambaforge\\\\envs\\\\base23\\\\lib\\\\site-packages\\\\pandas\\\\core\\\\arrays\\\\boolean.py\": 1685343729.595707, \"C:\\\\Users\\\\Xinli\\\\mambaforge\\\\envs\\\\base23\\\\lib\\\\csv.py\": 1680645435.0, \"C:\\\\Users\\\\Xinli\\\\mambaforge\\\\envs\\\\base23\\\\lib\\\\site-packages\\\\pandas\\\\_libs\\\\arrays.cp310-win_amd64.pyd\": 1685343729.31452, \"C:\\\\Users\\\\Xinli\\\\mambaforge\\\\envs\\\\base23\\\\lib\\\\site-packages\\\\pandas\\\\core\\\\accessor.py\": 1685343729.564459, \"C:\\\\Users\\\\Xinli\\\\mambaforge\\\\envs\\\\base23\\\\lib\\\\site-packages\\\\pandas\\\\core\\\\array_algos\\\\transforms.py\": 1685343729.595707, \"C:\\\\Users\\\\Xinli\\\\mambaforge\\\\envs\\\\base23\\\\lib\\\\site-packages\\\\pandas\\\\core\\\\arrays\\\\_mixins.py\": 1685343729.595707, \"C:\\\\Users\\\\Xinli\\\\mambaforge\\\\envs\\\\base23\\\\lib\\\\site-packages\\\\pandas\\\\core\\\\base.py\": 1685343729.564459, \"C:\\\\Users\\\\Xinli\\\\mambaforge\\\\envs\\\\base23\\\\lib\\\\site-packages\\\\pandas\\\\core\\\\strings\\\\object_array.py\": 1685343729.70508, \"C:\\\\Users\\\\Xinli\\\\mambaforge\\\\envs\\\\base23\\\\lib\\\\site-packages\\\\pandas\\\\io\\\\__init__.py\": 1685343729.720705, \"C:\\\\Users\\\\Xinli\\\\mambaforge\\\\envs\\\\base23\\\\lib\\\\site-packages\\\\pandas\\\\io\\\\formats\\\\__init__.py\": 1685343729.751955, \"C:\\\\Users\\\\Xinli\\\\mambaforge\\\\envs\\\\base23\\\\lib\\\\site-packages\\\\pandas\\\\io\\\\formats\\\\console.py\": 1685343729.751955, \"C:\\\\Users\\\\Xinli\\\\mambaforge\\\\envs\\\\base23\\\\lib\\\\site-packages\\\\pandas\\\\core\\\\arrays\\\\categorical.py\": 1685343729.595707, \"C:\\\\Users\\\\Xinli\\\\mambaforge\\\\envs\\\\base23\\\\lib\\\\site-packages\\\\pandas\\\\core\\\\array_algos\\\\datetimelike_accumulations.py\": 1685343729.580083, \"C:\\\\Users\\\\Xinli\\\\mambaforge\\\\envs\\\\base23\\\\lib\\\\site-packages\\\\pandas\\\\core\\\\arrays\\\\numeric.py\": 1685343729.595707, \"C:\\\\Users\\\\Xinli\\\\mambaforge\\\\envs\\\\base23\\\\lib\\\\site-packages\\\\pandas\\\\core\\\\arrays\\\\integer.py\": 1685343729.595707, \"C:\\\\Users\\\\Xinli\\\\mambaforge\\\\envs\\\\base23\\\\lib\\\\site-packages\\\\pandas\\\\core\\\\arrays\\\\datetimelike.py\": 1685343729.595707, \"C:\\\\Users\\\\Xinli\\\\mambaforge\\\\envs\\\\base23\\\\lib\\\\site-packages\\\\pandas\\\\core\\\\arrays\\\\_ranges.py\": 1685343729.595707, \"C:\\\\Users\\\\Xinli\\\\mambaforge\\\\envs\\\\base23\\\\lib\\\\site-packages\\\\pandas\\\\tseries\\\\offsets.py\": 1685343730.815423, \"C:\\\\Users\\\\Xinli\\\\mambaforge\\\\envs\\\\base23\\\\lib\\\\site-packages\\\\pandas\\\\core\\\\arrays\\\\datetimes.py\": 1685343729.595707, \"C:\\\\Users\\\\Xinli\\\\mambaforge\\\\envs\\\\base23\\\\lib\\\\site-packages\\\\pandas\\\\core\\\\arrays\\\\floating.py\": 1685343729.595707, \"C:\\\\Users\\\\Xinli\\\\mambaforge\\\\envs\\\\base23\\\\lib\\\\site-packages\\\\pandas\\\\core\\\\arrays\\\\timedeltas.py\": 1685343729.611331, \"C:\\\\Users\\\\Xinli\\\\mambaforge\\\\envs\\\\base23\\\\lib\\\\site-packages\\\\pandas\\\\core\\\\arrays\\\\interval.py\": 1685343729.595707, \"C:\\\\Users\\\\Xinli\\\\mambaforge\\\\envs\\\\base23\\\\lib\\\\site-packages\\\\pandas\\\\core\\\\arrays\\\\numpy_.py\": 1685343729.611331, \"C:\\\\Users\\\\Xinli\\\\mambaforge\\\\envs\\\\base23\\\\lib\\\\site-packages\\\\pandas\\\\core\\\\arrays\\\\period.py\": 1685343729.611331, \"C:\\\\Users\\\\Xinli\\\\mambaforge\\\\envs\\\\base23\\\\lib\\\\site-packages\\\\pandas\\\\_libs\\\\sparse.cp310-win_amd64.pyd\": 1685343729.439458, \"C:\\\\Users\\\\Xinli\\\\mambaforge\\\\envs\\\\base23\\\\lib\\\\site-packages\\\\pandas\\\\core\\\\arrays\\\\sparse\\\\dtype.py\": 1685343729.611331, \"C:\\\\Users\\\\Xinli\\\\mambaforge\\\\envs\\\\base23\\\\lib\\\\site-packages\\\\pandas\\\\io\\\\formats\\\\printing.py\": 1685343729.751955, \"C:\\\\Users\\\\Xinli\\\\mambaforge\\\\envs\\\\base23\\\\lib\\\\site-packages\\\\pandas\\\\core\\\\arrays\\\\sparse\\\\array.py\": 1685343729.611331, \"C:\\\\Users\\\\Xinli\\\\mambaforge\\\\envs\\\\base23\\\\lib\\\\site-packages\\\\pandas\\\\core\\\\arrays\\\\sparse\\\\accessor.py\": 1685343729.611331, \"C:\\\\Users\\\\Xinli\\\\mambaforge\\\\envs\\\\base23\\\\lib\\\\site-packages\\\\pandas\\\\core\\\\arrays\\\\sparse\\\\__init__.py\": 1685343729.611331, \"C:\\\\Users\\\\Xinli\\\\mambaforge\\\\envs\\\\base23\\\\lib\\\\site-packages\\\\pandas\\\\core\\\\arrays\\\\string_.py\": 1685343729.611331, \"C:\\\\Users\\\\Xinli\\\\mambaforge\\\\envs\\\\base23\\\\lib\\\\site-packages\\\\pandas\\\\core\\\\arrays\\\\string_arrow.py\": 1685343729.611331, \"C:\\\\Users\\\\Xinli\\\\mambaforge\\\\envs\\\\base23\\\\lib\\\\site-packages\\\\pandas\\\\core\\\\arrays\\\\__init__.py\": 1685343729.595707, \"C:\\\\Users\\\\Xinli\\\\mambaforge\\\\envs\\\\base23\\\\lib\\\\site-packages\\\\pandas\\\\core\\\\flags.py\": 1685343729.564459, \"C:\\\\Users\\\\Xinli\\\\mambaforge\\\\envs\\\\base23\\\\lib\\\\site-packages\\\\pandas\\\\_libs\\\\reduction.cp310-win_amd64.pyd\": 1685343729.423833, \"C:\\\\Users\\\\Xinli\\\\mambaforge\\\\envs\\\\base23\\\\lib\\\\site-packages\\\\pandas\\\\core\\\\apply.py\": 1685343729.564459, \"C:\\\\Users\\\\Xinli\\\\mambaforge\\\\envs\\\\base23\\\\lib\\\\site-packages\\\\pandas\\\\_libs\\\\indexing.cp310-win_amd64.pyd\": 1685343729.361371, \"C:\\\\Users\\\\Xinli\\\\mambaforge\\\\envs\\\\base23\\\\lib\\\\site-packages\\\\pandas\\\\core\\\\indexes\\\\__init__.py\": 1685343729.642583, \"C:\\\\Users\\\\Xinli\\\\mambaforge\\\\envs\\\\base23\\\\lib\\\\site-packages\\\\pandas\\\\_libs\\\\index.cp310-win_amd64.pyd\": 1685343729.361371, \"C:\\\\Users\\\\Xinli\\\\mambaforge\\\\envs\\\\base23\\\\lib\\\\site-packages\\\\pandas\\\\_libs\\\\internals.cp310-win_amd64.pyd\": 1685343729.361371, \"C:\\\\Users\\\\Xinli\\\\mambaforge\\\\envs\\\\base23\\\\lib\\\\site-packages\\\\pandas\\\\_libs\\\\join.cp310-win_amd64.pyd\": 1685343729.392583, \"C:\\\\Users\\\\Xinli\\\\mambaforge\\\\envs\\\\base23\\\\lib\\\\site-packages\\\\pandas\\\\core\\\\array_algos\\\\putmask.py\": 1685343729.595707, \"C:\\\\Users\\\\Xinli\\\\mambaforge\\\\envs\\\\base23\\\\lib\\\\site-packages\\\\pandas\\\\core\\\\indexes\\\\frozen.py\": 1685343729.658209, \"C:\\\\Users\\\\Xinli\\\\mambaforge\\\\envs\\\\base23\\\\lib\\\\site-packages\\\\pandas\\\\core\\\\strings\\\\accessor.py\": 1685343729.70508, \"C:\\\\Users\\\\Xinli\\\\mambaforge\\\\envs\\\\base23\\\\lib\\\\site-packages\\\\pandas\\\\core\\\\indexes\\\\base.py\": 1685343729.658209, \"C:\\\\Users\\\\Xinli\\\\mambaforge\\\\envs\\\\base23\\\\lib\\\\site-packages\\\\pandas\\\\core\\\\indexes\\\\extension.py\": 1685343729.658209, \"C:\\\\Users\\\\Xinli\\\\mambaforge\\\\envs\\\\base23\\\\lib\\\\site-packages\\\\pandas\\\\core\\\\indexes\\\\category.py\": 1685343729.658209, \"C:\\\\Users\\\\Xinli\\\\mambaforge\\\\envs\\\\base23\\\\lib\\\\site-packages\\\\pandas\\\\core\\\\indexes\\\\range.py\": 1685343729.658209, \"C:\\\\Users\\\\Xinli\\\\mambaforge\\\\envs\\\\base23\\\\lib\\\\site-packages\\\\pandas\\\\core\\\\tools\\\\__init__.py\": 1685343729.70508, \"C:\\\\Users\\\\Xinli\\\\mambaforge\\\\envs\\\\base23\\\\lib\\\\site-packages\\\\pandas\\\\core\\\\tools\\\\timedeltas.py\": 1685343729.70508, \"C:\\\\Users\\\\Xinli\\\\mambaforge\\\\envs\\\\base23\\\\lib\\\\site-packages\\\\pandas\\\\core\\\\indexes\\\\datetimelike.py\": 1685343729.658209, \"C:\\\\Users\\\\Xinli\\\\mambaforge\\\\envs\\\\base23\\\\lib\\\\site-packages\\\\pandas\\\\core\\\\tools\\\\times.py\": 1685343729.70508, \"C:\\\\Users\\\\Xinli\\\\mambaforge\\\\envs\\\\base23\\\\lib\\\\site-packages\\\\pandas\\\\core\\\\indexes\\\\datetimes.py\": 1685343729.658209, \"C:\\\\Users\\\\Xinli\\\\mambaforge\\\\envs\\\\base23\\\\lib\\\\site-packages\\\\pandas\\\\core\\\\indexes\\\\multi.py\": 1685343729.658209, \"C:\\\\Users\\\\Xinli\\\\mambaforge\\\\envs\\\\base23\\\\lib\\\\site-packages\\\\pandas\\\\core\\\\indexes\\\\timedeltas.py\": 1685343729.658209, \"C:\\\\Users\\\\Xinli\\\\mambaforge\\\\envs\\\\base23\\\\lib\\\\site-packages\\\\pandas\\\\core\\\\indexes\\\\interval.py\": 1685343729.658209, \"C:\\\\Users\\\\Xinli\\\\mambaforge\\\\envs\\\\base23\\\\lib\\\\site-packages\\\\pandas\\\\core\\\\indexes\\\\period.py\": 1685343729.658209, \"C:\\\\Users\\\\Xinli\\\\mambaforge\\\\envs\\\\base23\\\\lib\\\\site-packages\\\\pandas\\\\core\\\\indexes\\\\api.py\": 1685343729.642583, \"C:\\\\Users\\\\Xinli\\\\mambaforge\\\\envs\\\\base23\\\\lib\\\\site-packages\\\\pandas\\\\core\\\\indexing.py\": 1685343729.580083, \"C:\\\\Users\\\\Xinli\\\\mambaforge\\\\envs\\\\base23\\\\lib\\\\site-packages\\\\pandas\\\\core\\\\sample.py\": 1685343729.580083, \"C:\\\\Users\\\\Xinli\\\\mambaforge\\\\envs\\\\base23\\\\lib\\\\site-packages\\\\pandas\\\\core\\\\array_algos\\\\replace.py\": 1685343729.595707, \"C:\\\\Users\\\\Xinli\\\\mambaforge\\\\envs\\\\base23\\\\lib\\\\site-packages\\\\pandas\\\\_libs\\\\writers.cp310-win_amd64.pyd\": 1685343729.439458, \"C:\\\\Users\\\\Xinli\\\\mambaforge\\\\envs\\\\base23\\\\lib\\\\site-packages\\\\pandas\\\\core\\\\internals\\\\blocks.py\": 1685343729.673832, \"C:\\\\Users\\\\Xinli\\\\mambaforge\\\\envs\\\\base23\\\\lib\\\\site-packages\\\\pandas\\\\core\\\\internals\\\\api.py\": 1685343729.673832, \"C:\\\\Users\\\\Xinli\\\\mambaforge\\\\envs\\\\base23\\\\lib\\\\site-packages\\\\pandas\\\\core\\\\internals\\\\base.py\": 1685343729.673832, \"C:\\\\Users\\\\Xinli\\\\mambaforge\\\\envs\\\\base23\\\\lib\\\\site-packages\\\\pandas\\\\core\\\\internals\\\\array_manager.py\": 1685343729.673832, \"C:\\\\Users\\\\Xinli\\\\mambaforge\\\\envs\\\\base23\\\\lib\\\\site-packages\\\\pandas\\\\core\\\\internals\\\\ops.py\": 1685343729.673832, \"C:\\\\Users\\\\Xinli\\\\mambaforge\\\\envs\\\\base23\\\\lib\\\\site-packages\\\\pandas\\\\core\\\\internals\\\\managers.py\": 1685343729.673832, \"C:\\\\Users\\\\Xinli\\\\mambaforge\\\\envs\\\\base23\\\\lib\\\\site-packages\\\\pandas\\\\core\\\\internals\\\\concat.py\": 1685343729.673832, \"C:\\\\Users\\\\Xinli\\\\mambaforge\\\\envs\\\\base23\\\\lib\\\\site-packages\\\\pandas\\\\core\\\\internals\\\\__init__.py\": 1685343729.673832, \"C:\\\\Users\\\\Xinli\\\\mambaforge\\\\envs\\\\base23\\\\lib\\\\site-packages\\\\pandas\\\\core\\\\internals\\\\construction.py\": 1685343729.673832, \"C:\\\\Users\\\\Xinli\\\\mambaforge\\\\envs\\\\base23\\\\lib\\\\site-packages\\\\pandas\\\\core\\\\methods\\\\__init__.py\": 1685343729.673832, \"C:\\\\Users\\\\Xinli\\\\mambaforge\\\\envs\\\\base23\\\\lib\\\\site-packages\\\\pandas\\\\core\\\\reshape\\\\__init__.py\": 1685343729.689501, \"C:\\\\Users\\\\Xinli\\\\mambaforge\\\\envs\\\\base23\\\\lib\\\\site-packages\\\\pandas\\\\core\\\\reshape\\\\concat.py\": 1685343729.689501, \"C:\\\\Users\\\\Xinli\\\\mambaforge\\\\envs\\\\base23\\\\lib\\\\tarfile.py\": 1680645435.0, \"C:\\\\Users\\\\Xinli\\\\mambaforge\\\\envs\\\\base23\\\\lib\\\\site-packages\\\\pandas\\\\core\\\\shared_docs.py\": 1685343729.580083, \"C:\\\\Users\\\\Xinli\\\\mambaforge\\\\envs\\\\base23\\\\lib\\\\site-packages\\\\pandas\\\\io\\\\common.py\": 1685343729.720705, \"C:\\\\Users\\\\Xinli\\\\mambaforge\\\\envs\\\\base23\\\\lib\\\\site-packages\\\\pandas\\\\io\\\\formats\\\\format.py\": 1685343729.751955, \"C:\\\\Users\\\\Xinli\\\\mambaforge\\\\envs\\\\base23\\\\lib\\\\site-packages\\\\pandas\\\\core\\\\methods\\\\describe.py\": 1685343729.673832, \"C:\\\\Users\\\\Xinli\\\\mambaforge\\\\envs\\\\base23\\\\lib\\\\site-packages\\\\pandas\\\\_libs\\\\window\\\\__init__.py\": 1685343729.533209, \"C:\\\\Users\\\\Xinli\\\\mambaforge\\\\envs\\\\base23\\\\lib\\\\site-packages\\\\pandas\\\\_libs\\\\window\\\\aggregations.cp310-win_amd64.pyd\": 1685343729.533209, \"C:\\\\Users\\\\Xinli\\\\mambaforge\\\\envs\\\\base23\\\\lib\\\\site-packages\\\\pandas\\\\_libs\\\\window\\\\indexers.cp310-win_amd64.pyd\": 1685343729.533209, \"C:\\\\Users\\\\Xinli\\\\mambaforge\\\\envs\\\\base23\\\\lib\\\\site-packages\\\\pandas\\\\core\\\\indexers\\\\objects.py\": 1685343729.642583, \"C:\\\\Users\\\\Xinli\\\\mambaforge\\\\envs\\\\base23\\\\lib\\\\site-packages\\\\pandas\\\\core\\\\util\\\\numba_.py\": 1685343729.70508, \"C:\\\\Users\\\\Xinli\\\\mambaforge\\\\envs\\\\base23\\\\lib\\\\site-packages\\\\pandas\\\\core\\\\window\\\\common.py\": 1685343729.70508, \"C:\\\\Users\\\\Xinli\\\\mambaforge\\\\envs\\\\base23\\\\lib\\\\site-packages\\\\pandas\\\\core\\\\window\\\\doc.py\": 1685343729.720705, \"C:\\\\Users\\\\Xinli\\\\mambaforge\\\\envs\\\\base23\\\\lib\\\\site-packages\\\\pandas\\\\core\\\\window\\\\numba_.py\": 1685343729.720705, \"C:\\\\Users\\\\Xinli\\\\mambaforge\\\\envs\\\\base23\\\\lib\\\\site-packages\\\\pandas\\\\core\\\\window\\\\online.py\": 1685343729.720705, \"C:\\\\Users\\\\Xinli\\\\mambaforge\\\\envs\\\\base23\\\\lib\\\\site-packages\\\\pandas\\\\core\\\\_numba\\\\__init__.py\": 1685343729.580083, \"C:\\\\Users\\\\Xinli\\\\mambaforge\\\\envs\\\\base23\\\\lib\\\\site-packages\\\\pandas\\\\core\\\\_numba\\\\executor.py\": 1685343729.580083, \"C:\\\\Users\\\\Xinli\\\\mambaforge\\\\envs\\\\base23\\\\lib\\\\site-packages\\\\pandas\\\\core\\\\window\\\\rolling.py\": 1685343729.720705, \"C:\\\\Users\\\\Xinli\\\\mambaforge\\\\envs\\\\base23\\\\lib\\\\site-packages\\\\pandas\\\\core\\\\window\\\\ewm.py\": 1685343729.720705, \"C:\\\\Users\\\\Xinli\\\\mambaforge\\\\envs\\\\base23\\\\lib\\\\site-packages\\\\pandas\\\\core\\\\window\\\\expanding.py\": 1685343729.720705, \"C:\\\\Users\\\\Xinli\\\\mambaforge\\\\envs\\\\base23\\\\lib\\\\site-packages\\\\pandas\\\\core\\\\window\\\\__init__.py\": 1685343729.70508, \"C:\\\\Users\\\\Xinli\\\\mambaforge\\\\envs\\\\base23\\\\lib\\\\site-packages\\\\pandas\\\\core\\\\generic.py\": 1685343729.564459, \"C:\\\\Users\\\\Xinli\\\\mambaforge\\\\envs\\\\base23\\\\lib\\\\site-packages\\\\pandas\\\\core\\\\methods\\\\selectn.py\": 1685343729.673832, \"C:\\\\Users\\\\Xinli\\\\mambaforge\\\\envs\\\\base23\\\\lib\\\\site-packages\\\\pandas\\\\core\\\\reshape\\\\util.py\": 1685343729.689501, \"C:\\\\Users\\\\Xinli\\\\mambaforge\\\\envs\\\\base23\\\\lib\\\\site-packages\\\\pandas\\\\core\\\\tools\\\\numeric.py\": 1685343729.70508, \"C:\\\\Users\\\\Xinli\\\\mambaforge\\\\envs\\\\base23\\\\lib\\\\site-packages\\\\pandas\\\\core\\\\reshape\\\\melt.py\": 1685343729.689501, \"C:\\\\Users\\\\Xinli\\\\mambaforge\\\\envs\\\\base23\\\\lib\\\\site-packages\\\\pandas\\\\_libs\\\\reshape.cp310-win_amd64.pyd\": 1685343729.423833, \"C:\\\\Users\\\\Xinli\\\\mambaforge\\\\envs\\\\base23\\\\lib\\\\site-packages\\\\pandas\\\\core\\\\indexes\\\\accessors.py\": 1685343729.642583, \"C:\\\\Users\\\\Xinli\\\\mambaforge\\\\envs\\\\base23\\\\lib\\\\site-packages\\\\pandas\\\\arrays\\\\__init__.py\": 1685343729.548831, \"C:\\\\Users\\\\Xinli\\\\mambaforge\\\\envs\\\\base23\\\\lib\\\\site-packages\\\\pandas\\\\core\\\\tools\\\\datetimes.py\": 1685343729.70508, \"C:\\\\Users\\\\Xinli\\\\mambaforge\\\\envs\\\\base23\\\\lib\\\\site-packages\\\\pandas\\\\io\\\\formats\\\\info.py\": 1685343729.751955, \"C:\\\\Users\\\\Xinli\\\\mambaforge\\\\envs\\\\base23\\\\lib\\\\site-packages\\\\pandas\\\\plotting\\\\_core.py\": 1685343729.783575, \"C:\\\\Users\\\\Xinli\\\\mambaforge\\\\envs\\\\base23\\\\lib\\\\site-packages\\\\pandas\\\\plotting\\\\_misc.py\": 1685343729.783575, \"C:\\\\Users\\\\Xinli\\\\mambaforge\\\\envs\\\\base23\\\\lib\\\\site-packages\\\\pandas\\\\plotting\\\\__init__.py\": 1685343729.783575, \"C:\\\\Users\\\\Xinli\\\\mambaforge\\\\envs\\\\base23\\\\lib\\\\site-packages\\\\pandas\\\\core\\\\series.py\": 1685343729.580083, \"C:\\\\Users\\\\Xinli\\\\mambaforge\\\\envs\\\\base23\\\\lib\\\\site-packages\\\\pandas\\\\core\\\\frame.py\": 1685343729.564459, \"C:\\\\Users\\\\Xinli\\\\mambaforge\\\\envs\\\\base23\\\\lib\\\\site-packages\\\\pandas\\\\core\\\\groupby\\\\base.py\": 1685343729.642583, \"C:\\\\Users\\\\Xinli\\\\mambaforge\\\\envs\\\\base23\\\\lib\\\\site-packages\\\\pandas\\\\_libs\\\\groupby.cp310-win_amd64.pyd\": 1685343729.330085, \"C:\\\\Users\\\\Xinli\\\\mambaforge\\\\envs\\\\base23\\\\lib\\\\site-packages\\\\pandas\\\\core\\\\groupby\\\\numba_.py\": 1685343729.642583, \"C:\\\\Users\\\\Xinli\\\\mambaforge\\\\envs\\\\base23\\\\lib\\\\site-packages\\\\pandas\\\\core\\\\groupby\\\\categorical.py\": 1685343729.642583, \"C:\\\\Users\\\\Xinli\\\\mambaforge\\\\envs\\\\base23\\\\lib\\\\site-packages\\\\pandas\\\\core\\\\groupby\\\\grouper.py\": 1685343729.642583, \"C:\\\\Users\\\\Xinli\\\\mambaforge\\\\envs\\\\base23\\\\lib\\\\site-packages\\\\pandas\\\\core\\\\groupby\\\\ops.py\": 1685343729.642583, \"C:\\\\Users\\\\Xinli\\\\mambaforge\\\\envs\\\\base23\\\\lib\\\\site-packages\\\\pandas\\\\core\\\\groupby\\\\indexing.py\": 1685343729.642583, \"C:\\\\Users\\\\Xinli\\\\mambaforge\\\\envs\\\\base23\\\\lib\\\\site-packages\\\\pandas\\\\core\\\\groupby\\\\groupby.py\": 1685343729.642583, \"C:\\\\Users\\\\Xinli\\\\mambaforge\\\\envs\\\\base23\\\\lib\\\\site-packages\\\\pandas\\\\core\\\\groupby\\\\generic.py\": 1685343729.642583, \"C:\\\\Users\\\\Xinli\\\\mambaforge\\\\envs\\\\base23\\\\lib\\\\site-packages\\\\pandas\\\\core\\\\groupby\\\\__init__.py\": 1685343729.642583, \"C:\\\\Users\\\\Xinli\\\\mambaforge\\\\envs\\\\base23\\\\lib\\\\site-packages\\\\pandas\\\\core\\\\api.py\": 1685343729.564459, \"C:\\\\Users\\\\Xinli\\\\mambaforge\\\\envs\\\\base23\\\\lib\\\\site-packages\\\\pandas\\\\tseries\\\\api.py\": 1685343730.815423, \"C:\\\\Users\\\\Xinli\\\\mambaforge\\\\envs\\\\base23\\\\lib\\\\site-packages\\\\pandas\\\\core\\\\computation\\\\common.py\": 1685343729.611331, \"C:\\\\Users\\\\Xinli\\\\mambaforge\\\\envs\\\\base23\\\\lib\\\\site-packages\\\\pandas\\\\core\\\\computation\\\\align.py\": 1685343729.611331, \"C:\\\\Users\\\\Xinli\\\\mambaforge\\\\envs\\\\base23\\\\lib\\\\site-packages\\\\pandas\\\\core\\\\computation\\\\scope.py\": 1685343729.626978, \"C:\\\\Users\\\\Xinli\\\\mambaforge\\\\envs\\\\base23\\\\lib\\\\site-packages\\\\pandas\\\\core\\\\computation\\\\ops.py\": 1685343729.626978, \"C:\\\\Users\\\\Xinli\\\\mambaforge\\\\envs\\\\base23\\\\lib\\\\site-packages\\\\pandas\\\\core\\\\computation\\\\engines.py\": 1685343729.611331, \"C:\\\\Users\\\\Xinli\\\\mambaforge\\\\envs\\\\base23\\\\lib\\\\site-packages\\\\pandas\\\\core\\\\computation\\\\parsing.py\": 1685343729.626978, \"C:\\\\Users\\\\Xinli\\\\mambaforge\\\\envs\\\\base23\\\\lib\\\\site-packages\\\\pandas\\\\core\\\\computation\\\\expr.py\": 1685343729.626978, \"C:\\\\Users\\\\Xinli\\\\mambaforge\\\\envs\\\\base23\\\\lib\\\\site-packages\\\\pandas\\\\core\\\\computation\\\\eval.py\": 1685343729.626978, \"C:\\\\Users\\\\Xinli\\\\mambaforge\\\\envs\\\\base23\\\\lib\\\\site-packages\\\\pandas\\\\core\\\\computation\\\\api.py\": 1685343729.611331, \"C:\\\\Users\\\\Xinli\\\\mambaforge\\\\envs\\\\base23\\\\lib\\\\site-packages\\\\pandas\\\\core\\\\reshape\\\\encoding.py\": 1685343729.689501, \"C:\\\\Users\\\\Xinli\\\\mambaforge\\\\envs\\\\base23\\\\lib\\\\site-packages\\\\pandas\\\\core\\\\reshape\\\\merge.py\": 1685343729.689501, \"C:\\\\Users\\\\Xinli\\\\mambaforge\\\\envs\\\\base23\\\\lib\\\\site-packages\\\\pandas\\\\core\\\\reshape\\\\pivot.py\": 1685343729.689501, \"C:\\\\Users\\\\Xinli\\\\mambaforge\\\\envs\\\\base23\\\\lib\\\\site-packages\\\\pandas\\\\core\\\\reshape\\\\tile.py\": 1685343729.689501, \"C:\\\\Users\\\\Xinli\\\\mambaforge\\\\envs\\\\base23\\\\lib\\\\site-packages\\\\pandas\\\\core\\\\reshape\\\\api.py\": 1685343729.689501, \"C:\\\\Users\\\\Xinli\\\\mambaforge\\\\envs\\\\base23\\\\lib\\\\site-packages\\\\pandas\\\\api\\\\extensions\\\\__init__.py\": 1685343729.548831, \"C:\\\\Users\\\\Xinli\\\\mambaforge\\\\envs\\\\base23\\\\lib\\\\site-packages\\\\pandas\\\\api\\\\indexers\\\\__init__.py\": 1685343729.548831, \"C:\\\\Users\\\\Xinli\\\\mambaforge\\\\envs\\\\base23\\\\lib\\\\site-packages\\\\pandas\\\\core\\\\interchange\\\\__init__.py\": 1685343729.658209, \"C:\\\\Users\\\\Xinli\\\\mambaforge\\\\envs\\\\base23\\\\lib\\\\site-packages\\\\pandas\\\\core\\\\interchange\\\\dataframe_protocol.py\": 1685343729.673832, \"C:\\\\Users\\\\Xinli\\\\mambaforge\\\\envs\\\\base23\\\\lib\\\\site-packages\\\\pandas\\\\core\\\\dtypes\\\\api.py\": 1685343729.626978, \"C:\\\\Users\\\\Xinli\\\\mambaforge\\\\envs\\\\base23\\\\lib\\\\site-packages\\\\pandas\\\\api\\\\types\\\\__init__.py\": 1685343729.548831, \"C:\\\\Users\\\\Xinli\\\\mambaforge\\\\envs\\\\base23\\\\lib\\\\site-packages\\\\pandas\\\\core\\\\interchange\\\\utils.py\": 1685343729.673832, \"C:\\\\Users\\\\Xinli\\\\mambaforge\\\\envs\\\\base23\\\\lib\\\\site-packages\\\\pandas\\\\core\\\\interchange\\\\from_dataframe.py\": 1685343729.673832, \"C:\\\\Users\\\\Xinli\\\\mambaforge\\\\envs\\\\base23\\\\lib\\\\site-packages\\\\pandas\\\\api\\\\interchange\\\\__init__.py\": 1685343729.548831, \"C:\\\\Users\\\\Xinli\\\\mambaforge\\\\envs\\\\base23\\\\lib\\\\site-packages\\\\pandas\\\\api\\\\__init__.py\": 1685343729.548831, \"C:\\\\Users\\\\Xinli\\\\mambaforge\\\\envs\\\\base23\\\\lib\\\\site-packages\\\\pandas\\\\_testing\\\\_random.py\": 1685343729.533209, \"C:\\\\Users\\\\Xinli\\\\mambaforge\\\\envs\\\\base23\\\\lib\\\\site-packages\\\\pandas\\\\_testing\\\\contexts.py\": 1685343729.548831, \"C:\\\\Users\\\\Xinli\\\\mambaforge\\\\envs\\\\base23\\\\lib\\\\site-packages\\\\pandas\\\\_testing\\\\_io.py\": 1685343729.533209, \"C:\\\\Users\\\\Xinli\\\\mambaforge\\\\envs\\\\base23\\\\lib\\\\site-packages\\\\pandas\\\\_testing\\\\_warnings.py\": 1685343729.533209, \"C:\\\\Users\\\\Xinli\\\\mambaforge\\\\envs\\\\base23\\\\lib\\\\site-packages\\\\pandas\\\\_libs\\\\testing.cp310-win_amd64.pyd\": 1685343729.439458, \"C:\\\\Users\\\\Xinli\\\\mambaforge\\\\envs\\\\base23\\\\lib\\\\site-packages\\\\pandas\\\\_testing\\\\asserters.py\": 1685343729.548831, \"C:\\\\Users\\\\Xinli\\\\mambaforge\\\\envs\\\\base23\\\\lib\\\\site-packages\\\\pandas\\\\_testing\\\\compat.py\": 1685343729.548831, \"C:\\\\Users\\\\Xinli\\\\mambaforge\\\\envs\\\\base23\\\\lib\\\\site-packages\\\\pandas\\\\_testing\\\\__init__.py\": 1685343729.533209, \"C:\\\\Users\\\\Xinli\\\\mambaforge\\\\envs\\\\base23\\\\lib\\\\site-packages\\\\pandas\\\\testing.py\": 1685343729.298833, \"C:\\\\Users\\\\Xinli\\\\mambaforge\\\\envs\\\\base23\\\\lib\\\\site-packages\\\\pandas\\\\util\\\\_print_versions.py\": 1685343730.815423, \"C:\\\\Users\\\\Xinli\\\\mambaforge\\\\envs\\\\base23\\\\lib\\\\site-packages\\\\pandas\\\\io\\\\clipboards.py\": 1685343729.720705, \"C:\\\\Users\\\\Xinli\\\\mambaforge\\\\envs\\\\base23\\\\lib\\\\site-packages\\\\pandas\\\\_libs\\\\parsers.cp310-win_amd64.pyd\": 1685343729.408209, \"C:\\\\Users\\\\Xinli\\\\mambaforge\\\\envs\\\\base23\\\\lib\\\\site-packages\\\\pandas\\\\io\\\\excel\\\\_util.py\": 1685343729.73633, \"C:\\\\Users\\\\Xinli\\\\mambaforge\\\\envs\\\\base23\\\\lib\\\\site-packages\\\\pandas\\\\io\\\\_util.py\": 1685343729.720705, \"C:\\\\Users\\\\Xinli\\\\mambaforge\\\\envs\\\\base23\\\\lib\\\\site-packages\\\\pandas\\\\io\\\\parsers\\\\base_parser.py\": 1685343729.767582, \"C:\\\\Users\\\\Xinli\\\\mambaforge\\\\envs\\\\base23\\\\lib\\\\site-packages\\\\pandas\\\\io\\\\parsers\\\\arrow_parser_wrapper.py\": 1685343729.767582, \"C:\\\\Users\\\\Xinli\\\\mambaforge\\\\envs\\\\base23\\\\lib\\\\site-packages\\\\pandas\\\\io\\\\parsers\\\\c_parser_wrapper.py\": 1685343729.775563, \"C:\\\\Users\\\\Xinli\\\\mambaforge\\\\envs\\\\base23\\\\lib\\\\site-packages\\\\pandas\\\\io\\\\parsers\\\\python_parser.py\": 1685343729.775563, \"C:\\\\Users\\\\Xinli\\\\mambaforge\\\\envs\\\\base23\\\\lib\\\\site-packages\\\\pandas\\\\io\\\\parsers\\\\readers.py\": 1685343729.775563, \"C:\\\\Users\\\\Xinli\\\\mambaforge\\\\envs\\\\base23\\\\lib\\\\site-packages\\\\pandas\\\\io\\\\parsers\\\\__init__.py\": 1685343729.767582, \"C:\\\\Users\\\\Xinli\\\\mambaforge\\\\envs\\\\base23\\\\lib\\\\site-packages\\\\pandas\\\\io\\\\excel\\\\_odfreader.py\": 1685343729.73633, \"C:\\\\Users\\\\Xinli\\\\mambaforge\\\\envs\\\\base23\\\\lib\\\\site-packages\\\\pandas\\\\io\\\\excel\\\\_openpyxl.py\": 1685343729.73633, \"C:\\\\Users\\\\Xinli\\\\mambaforge\\\\envs\\\\base23\\\\lib\\\\site-packages\\\\pandas\\\\io\\\\excel\\\\_pyxlsb.py\": 1685343729.73633, \"C:\\\\Users\\\\Xinli\\\\mambaforge\\\\envs\\\\base23\\\\lib\\\\site-packages\\\\pandas\\\\io\\\\excel\\\\_xlrd.py\": 1685343729.73633, \"C:\\\\Users\\\\Xinli\\\\mambaforge\\\\envs\\\\base23\\\\lib\\\\site-packages\\\\pandas\\\\io\\\\excel\\\\_base.py\": 1685343729.73633, \"C:\\\\Users\\\\Xinli\\\\mambaforge\\\\envs\\\\base23\\\\lib\\\\site-packages\\\\pandas\\\\_libs\\\\json.cp310-win_amd64.pyd\": 1685343729.392583, \"C:\\\\Users\\\\Xinli\\\\mambaforge\\\\envs\\\\base23\\\\lib\\\\site-packages\\\\pandas\\\\io\\\\excel\\\\_odswriter.py\": 1685343729.73633, \"C:\\\\Users\\\\Xinli\\\\mambaforge\\\\envs\\\\base23\\\\lib\\\\site-packages\\\\pandas\\\\io\\\\excel\\\\_xlsxwriter.py\": 1685343729.73633, \"C:\\\\Users\\\\Xinli\\\\mambaforge\\\\envs\\\\base23\\\\lib\\\\site-packages\\\\pandas\\\\io\\\\excel\\\\__init__.py\": 1685343729.73633, \"C:\\\\Users\\\\Xinli\\\\mambaforge\\\\envs\\\\base23\\\\lib\\\\site-packages\\\\pandas\\\\io\\\\feather_format.py\": 1685343729.720705, \"C:\\\\Users\\\\Xinli\\\\mambaforge\\\\envs\\\\base23\\\\lib\\\\site-packages\\\\pandas\\\\io\\\\gbq.py\": 1685343729.720705, \"C:\\\\Users\\\\Xinli\\\\mambaforge\\\\envs\\\\base23\\\\lib\\\\site-packages\\\\pandas\\\\io\\\\html.py\": 1685343729.720705, \"C:\\\\Users\\\\Xinli\\\\mambaforge\\\\envs\\\\base23\\\\lib\\\\site-packages\\\\pandas\\\\io\\\\json\\\\_normalize.py\": 1685343729.767582, \"C:\\\\Users\\\\Xinli\\\\mambaforge\\\\envs\\\\base23\\\\lib\\\\site-packages\\\\pandas\\\\io\\\\json\\\\_table_schema.py\": 1685343729.767582, \"C:\\\\Users\\\\Xinli\\\\mambaforge\\\\envs\\\\base23\\\\lib\\\\site-packages\\\\pandas\\\\io\\\\json\\\\_json.py\": 1685343729.767582, \"C:\\\\Users\\\\Xinli\\\\mambaforge\\\\envs\\\\base23\\\\lib\\\\site-packages\\\\pandas\\\\io\\\\json\\\\__init__.py\": 1685343729.767582, \"C:\\\\Users\\\\Xinli\\\\mambaforge\\\\envs\\\\base23\\\\lib\\\\site-packages\\\\pandas\\\\io\\\\orc.py\": 1685343729.73633, \"C:\\\\Users\\\\Xinli\\\\mambaforge\\\\envs\\\\base23\\\\lib\\\\site-packages\\\\pandas\\\\io\\\\parquet.py\": 1685343729.73633, \"C:\\\\Users\\\\Xinli\\\\mambaforge\\\\envs\\\\base23\\\\lib\\\\site-packages\\\\pandas\\\\compat\\\\pickle_compat.py\": 1685343729.548831, \"C:\\\\Users\\\\Xinli\\\\mambaforge\\\\envs\\\\base23\\\\lib\\\\site-packages\\\\pandas\\\\io\\\\pickle.py\": 1685343729.73633, \"C:\\\\Users\\\\Xinli\\\\mambaforge\\\\envs\\\\base23\\\\lib\\\\site-packages\\\\pandas\\\\core\\\\computation\\\\pytables.py\": 1685343729.626978, \"C:\\\\Users\\\\Xinli\\\\mambaforge\\\\envs\\\\base23\\\\lib\\\\site-packages\\\\pandas\\\\io\\\\pytables.py\": 1685343729.73633, \"C:\\\\Users\\\\Xinli\\\\mambaforge\\\\envs\\\\base23\\\\lib\\\\site-packages\\\\pandas\\\\io\\\\sas\\\\sasreader.py\": 1685343729.783575, \"C:\\\\Users\\\\Xinli\\\\mambaforge\\\\envs\\\\base23\\\\lib\\\\site-packages\\\\pandas\\\\io\\\\sas\\\\__init__.py\": 1685343729.775563, \"C:\\\\Users\\\\Xinli\\\\mambaforge\\\\envs\\\\base23\\\\lib\\\\site-packages\\\\pandas\\\\io\\\\spss.py\": 1685343729.73633, \"C:\\\\Users\\\\Xinli\\\\mambaforge\\\\envs\\\\base23\\\\lib\\\\site-packages\\\\pandas\\\\io\\\\sql.py\": 1685343729.73633, \"C:\\\\Users\\\\Xinli\\\\mambaforge\\\\envs\\\\base23\\\\lib\\\\site-packages\\\\pandas\\\\io\\\\stata.py\": 1685343729.73633, \"C:\\\\Users\\\\Xinli\\\\mambaforge\\\\envs\\\\base23\\\\lib\\\\site-packages\\\\pandas\\\\io\\\\xml.py\": 1685343729.73633, \"C:\\\\Users\\\\Xinli\\\\mambaforge\\\\envs\\\\base23\\\\lib\\\\site-packages\\\\pandas\\\\io\\\\api.py\": 1685343729.720705, \"C:\\\\Users\\\\Xinli\\\\mambaforge\\\\envs\\\\base23\\\\lib\\\\site-packages\\\\pandas\\\\util\\\\_tester.py\": 1685343730.815423, \"C:\\\\Users\\\\Xinli\\\\mambaforge\\\\envs\\\\base23\\\\lib\\\\site-packages\\\\pandas\\\\_version.py\": 1685343729.298833, \"C:\\\\Users\\\\Xinli\\\\mambaforge\\\\envs\\\\base23\\\\lib\\\\site-packages\\\\pandas\\\\__init__.py\": 1685343729.298833}\n"
     ]
    }
   ],
   "source": [
    "\n",
    "# imports\n",
    "import os\n",
    "import sys\n",
    "import types\n",
    "import json\n",
    "\n",
    "# figure size/format\n",
    "fig_width = 5.5\n",
    "fig_height = 3.5\n",
    "fig_format = 'pdf'\n",
    "fig_dpi = 300\n",
    "\n",
    "# matplotlib defaults / format\n",
    "try:\n",
    "  import matplotlib.pyplot as plt\n",
    "  plt.rcParams['figure.figsize'] = (fig_width, fig_height)\n",
    "  plt.rcParams['figure.dpi'] = fig_dpi\n",
    "  plt.rcParams['savefig.dpi'] = fig_dpi\n",
    "  from IPython.display import set_matplotlib_formats\n",
    "  set_matplotlib_formats(fig_format)\n",
    "except Exception:\n",
    "  pass\n",
    "\n",
    "# plotly use connected mode\n",
    "try:\n",
    "  import plotly.io as pio\n",
    "  pio.renderers.default = \"notebook_connected\"\n",
    "except Exception:\n",
    "  pass\n",
    "\n",
    "# enable pandas latex repr when targeting pdfs\n",
    "try:\n",
    "  import pandas as pd\n",
    "  if fig_format == 'pdf':\n",
    "    pd.set_option('display.latex.repr', True)\n",
    "except Exception:\n",
    "  pass\n",
    "\n",
    "\n",
    "\n",
    "# output kernel dependencies\n",
    "kernel_deps = dict()\n",
    "for module in list(sys.modules.values()):\n",
    "  # Some modules play games with sys.modules (e.g. email/__init__.py\n",
    "  # in the standard library), and occasionally this can cause strange\n",
    "  # failures in getattr.  Just ignore anything that's not an ordinary\n",
    "  # module.\n",
    "  if not isinstance(module, types.ModuleType):\n",
    "    continue\n",
    "  path = getattr(module, \"__file__\", None)\n",
    "  if not path:\n",
    "    continue\n",
    "  if path.endswith(\".pyc\") or path.endswith(\".pyo\"):\n",
    "    path = path[:-1]\n",
    "  if not os.path.exists(path):\n",
    "    continue\n",
    "  kernel_deps[path] = os.stat(path).st_mtime\n",
    "print(json.dumps(kernel_deps))\n",
    "\n",
    "# set run_path if requested\n",
    "if r'D:\\Files\\GoogleDrive\\My writings\\Onlinenotes\\MachineLearning\\ml23\\contents\\5':\n",
    "  os.chdir(r'D:\\Files\\GoogleDrive\\My writings\\Onlinenotes\\MachineLearning\\ml23\\contents\\5')\n",
    "\n",
    "# reset state\n",
    "%reset\n",
    "\n",
    "def ojs_define(**kwargs):\n",
    "  import json\n",
    "  try:\n",
    "    # IPython 7.14 preferred import\n",
    "    from IPython.display import display, HTML\n",
    "  except:\n",
    "    from IPython.core.display import display, HTML\n",
    "\n",
    "  # do some minor magic for convenience when handling pandas\n",
    "  # dataframes\n",
    "  def convert(v):\n",
    "    try:\n",
    "      import pandas as pd\n",
    "    except ModuleNotFoundError: # don't do the magic when pandas is not available\n",
    "      return v\n",
    "    if type(v) == pd.Series:\n",
    "      v = pd.DataFrame(v)\n",
    "    if type(v) == pd.DataFrame:\n",
    "      j = json.loads(v.T.to_json(orient='split'))\n",
    "      return dict((k,v) for (k,v) in zip(j[\"index\"], j[\"data\"]))\n",
    "    else:\n",
    "      return v\n",
    "  \n",
    "  v = dict(contents=list(dict(name=key, value=convert(value)) for (key, value) in kwargs.items()))\n",
    "  display(HTML('<script type=\"ojs-define\">' + json.dumps(v) + '</script>'), metadata=dict(ojs_define = True))\n",
    "globals()[\"ojs_define\"] = ojs_define\n"
   ]
  },
  {
   "cell_type": "code",
   "execution_count": 2,
   "id": "ff269067",
   "metadata": {},
   "outputs": [
    {
     "data": {
      "application/pdf": "[encoded data removed]",
      "text/plain": [
       "<Figure size 432x288 with 1 Axes>"
      ]
     },
     "metadata": {
      "needs_background": "light"
     },
     "output_type": "display_data"
    }
   ],
   "source": [
    "#| echo: false\n",
    "import matplotlib.pyplot as plt\n",
    "import numpy as np\n",
    "\n",
    "x = np.linspace(-6, 6, 1001)\n",
    "y = 1/(1+np.exp(-x))\n",
    "_ = plt.plot(x, y)"
   ]
  },
  {
   "cell_type": "code",
   "execution_count": 3,
   "id": "ceb22685",
   "metadata": {},
   "outputs": [],
   "source": [
    "from sklearn import datasets\n",
    "from sklearn.model_selection import train_test_split\n",
    "\n",
    "iris = datasets.load_iris()\n",
    "X = iris.data\n",
    "y = iris.target\n",
    "X_train, X_test, y_train, y_test = train_test_split(X, y, test_size=0.15)"
   ]
  },
  {
   "cell_type": "code",
   "execution_count": 4,
   "id": "a5d1b643",
   "metadata": {},
   "outputs": [
    {
     "data": {
      "text/plain": [
       "1.0"
      ]
     },
     "execution_count": 3,
     "metadata": {},
     "output_type": "execute_result"
    }
   ],
   "source": [
    "from sklearn.linear_model import LogisticRegression\n",
    "from sklearn.pipeline import Pipeline\n",
    "from sklearn.preprocessing import MinMaxScaler\n",
    "\n",
    "steps = [('normalize', MinMaxScaler()),\n",
    "         ('log', LogisticRegression())]\n",
    "\n",
    "log_reg = Pipeline(steps=steps)\n",
    "log_reg.fit(X_train, y_train)\n",
    "log_reg.score(X_test, y_test)"
   ]
  },
  {
   "cell_type": "code",
   "execution_count": 5,
   "id": "30a1ad05",
   "metadata": {},
   "outputs": [
    {
     "data": {
      "text/plain": [
       "1.0"
      ]
     },
     "execution_count": 4,
     "metadata": {},
     "output_type": "execute_result"
    }
   ],
   "source": [
    "from sklearn.linear_model import SGDClassifier\n",
    "from sklearn.pipeline import Pipeline\n",
    "from sklearn.preprocessing import MinMaxScaler\n",
    "\n",
    "steps = [('normalize', MinMaxScaler()),\n",
    "         ('log', SGDClassifier(loss='log_loss', max_iter=100))]\n",
    "\n",
    "sgd_clf = Pipeline(steps=steps)\n",
    "sgd_clf.fit(X_train, y_train)\n",
    "sgd_clf.score(X_test, y_test)"
   ]
  },
  {
   "cell_type": "code",
   "execution_count": 6,
   "id": "6139f2bf",
   "metadata": {},
   "outputs": [
    {
     "data": {
      "application/pdf": "[encoded data removed]",
      "text/plain": [
       "<Figure size 1008x360 with 3 Axes>"
      ]
     },
     "metadata": {},
     "output_type": "display_data"
    }
   ],
   "source": [
    "#| echo: false\n",
    "#| column: page\n",
    "import numpy as np\n",
    "import matplotlib.pyplot as plt\n",
    "from sklearn.pipeline import Pipeline\n",
    "from sklearn.preprocessing import PolynomialFeatures\n",
    "from sklearn.linear_model import LinearRegression\n",
    "from sklearn.model_selection import cross_val_score\n",
    "\n",
    "\n",
    "def true_fun(X):\n",
    "    return np.cos(1.5 * np.pi * X)\n",
    "\n",
    "\n",
    "np.random.seed(0)\n",
    "\n",
    "n_samples = 30\n",
    "degrees = [1, 4, 15]\n",
    "\n",
    "X = np.sort(np.random.rand(n_samples))\n",
    "y = true_fun(X) + np.random.randn(n_samples) * 0.1\n",
    "\n",
    "plt.figure(figsize=(14, 5))\n",
    "for i in range(len(degrees)):\n",
    "    ax = plt.subplot(1, len(degrees), i + 1)\n",
    "    plt.setp(ax, xticks=(), yticks=())\n",
    "\n",
    "    polynomial_features = PolynomialFeatures(degree=degrees[i], include_bias=False)\n",
    "    linear_regression = LinearRegression()\n",
    "    pipeline = Pipeline(\n",
    "        [\n",
    "            (\"polynomial_features\", polynomial_features),\n",
    "            (\"linear_regression\", linear_regression),\n",
    "        ]\n",
    "    )\n",
    "    pipeline.fit(X[:, np.newaxis], y)\n",
    "\n",
    "    # Evaluate the models using crossvalidation\n",
    "    scores = cross_val_score(\n",
    "        pipeline, X[:, np.newaxis], y, scoring=\"neg_mean_squared_error\", cv=10\n",
    "    )\n",
    "\n",
    "    X_test = np.linspace(0, 1, 100)\n",
    "    plt.plot(X_test, pipeline.predict(X_test[:, np.newaxis]), label=\"Model\")\n",
    "    plt.plot(X_test, true_fun(X_test), label=\"True function\")\n",
    "    plt.scatter(X, y, edgecolor=\"b\", s=20, label=\"Samples\")\n",
    "    plt.xlabel(\"x\")\n",
    "    plt.ylabel(\"y\")\n",
    "    plt.xlim((0, 1))\n",
    "    plt.ylim((-2, 2))\n",
    "    plt.legend(loc=\"best\")\n",
    "    plt.title(\n",
    "        \"Degree {}\\nMSE = {:.2e}(+/- {:.2e})\".format(\n",
    "            degrees[i], -scores.mean(), scores.std()\n",
    "        )\n",
    "    )\n",
    "# plt.show()"
   ]
  },
  {
   "cell_type": "code",
   "execution_count": 7,
   "id": "c1bc0edf",
   "metadata": {},
   "outputs": [],
   "source": [
    "import pandas as pd\n",
    "import numpy as np\n",
    "\n",
    "url = 'http://archive.ics.uci.edu/ml/machine-learning-databases/horse-colic/horse-colic.data'\n",
    "df = pd.read_csv(url, delim_whitespace=True, header=None)\n",
    "df = df.replace(\"?\", np.NaN)\n",
    "\n",
    "df.fillna(0, inplace=True)\n",
    "df.drop(columns=[2, 24, 25, 26, 27], inplace=True)\n",
    "df[23].replace({1: 1, 2: 0}, inplace=True)\n",
    "X = df.iloc[:, :-1].to_numpy().astype(float)\n",
    "y = df[23].to_numpy().astype(int)\n",
    "\n",
    "from sklearn.model_selection import train_test_split\n",
    "X_train, X_test, y_train, y_test = train_test_split(X, y, test_size=0.15, random_state=42)"
   ]
  },
  {
   "cell_type": "code",
   "execution_count": 8,
   "id": "42cb2b16",
   "metadata": {},
   "outputs": [
    {
     "data": {
      "text/plain": [
       "<matplotlib.legend.Legend at 0x152bc18b610>"
      ]
     },
     "execution_count": 7,
     "metadata": {},
     "output_type": "execute_result"
    },
    {
     "data": {
      "application/pdf": "[encoded data removed]",
      "text/plain": [
       "<Figure size 432x288 with 1 Axes>"
      ]
     },
     "metadata": {
      "needs_background": "light"
     },
     "output_type": "display_data"
    }
   ],
   "source": [
    "from sklearn.linear_model import LogisticRegression\n",
    "from sklearn.preprocessing import MinMaxScaler\n",
    "from sklearn.pipeline import Pipeline\n",
    "\n",
    "clf = LogisticRegression(max_iter=1000)\n",
    "steps = [('scalar', MinMaxScaler()),\n",
    "         ('log', clf)]\n",
    "pipe = Pipeline(steps=steps)\n",
    "from sklearn.model_selection import learning_curve\n",
    "import numpy as np\n",
    "train_sizes, train_scores, test_scores = learning_curve(pipe, X_train, y_train,\n",
    "                                                        train_sizes=np.linspace(0.1, 1, 20))\n",
    "\n",
    "import matplotlib.pyplot as plt\n",
    "plt.plot(train_sizes, train_scores.mean(axis=1), label='train')\n",
    "plt.plot(train_sizes, test_scores.mean(axis=1), label='test')\n",
    "plt.legend()"
   ]
  },
  {
   "cell_type": "code",
   "execution_count": 9,
   "id": "3590858f",
   "metadata": {},
   "outputs": [
    {
     "data": {
      "text/plain": [
       "<matplotlib.legend.Legend at 0x152bd295de0>"
      ]
     },
     "execution_count": 8,
     "metadata": {},
     "output_type": "execute_result"
    },
    {
     "data": {
      "application/pdf": "[encoded data removed]",
      "text/plain": [
       "<Figure size 432x288 with 1 Axes>"
      ]
     },
     "metadata": {
      "needs_background": "light"
     },
     "output_type": "display_data"
    }
   ],
   "source": [
    "clf = LogisticRegression(max_iter=1000, C=0.1)\n",
    "steps = [('scalar', MinMaxScaler()),\n",
    "         ('log', clf)]\n",
    "pipe = Pipeline(steps=steps)\n",
    "from sklearn.model_selection import learning_curve\n",
    "import numpy as np\n",
    "train_sizes, train_scores, test_scores = learning_curve(pipe, X_train, y_train,\n",
    "                                                        train_sizes=np.linspace(0.1, 1, 20))\n",
    "\n",
    "import matplotlib.pyplot as plt\n",
    "plt.plot(train_sizes, train_scores.mean(axis=1), label='train')\n",
    "plt.plot(train_sizes, test_scores.mean(axis=1), label='test')\n",
    "plt.legend()"
   ]
  },
  {
   "cell_type": "code",
   "execution_count": 10,
   "id": "b70dfa30",
   "metadata": {},
   "outputs": [],
   "source": [
    "import pandas as pd\n",
    "import numpy as np\n",
    "\n",
    "url = 'http://archive.ics.uci.edu/ml/machine-learning-databases/horse-colic/horse-colic.data'\n",
    "df = pd.read_csv(url, delim_whitespace=True, header=None)\n",
    "df = df.replace(\"?\", np.NaN)\n",
    "\n",
    "df.fillna(0, inplace=True)\n",
    "df.drop(columns=[2, 24, 25, 26, 27], inplace=True)\n",
    "df[23].replace({1: 1, 2: 0}, inplace=True)\n",
    "X = df.iloc[:, :-1].to_numpy().astype(float)\n",
    "y = df[23].to_numpy().astype(int)\n",
    "\n",
    "from sklearn.model_selection import train_test_split\n",
    "X_train, X_test, y_train, y_test = train_test_split(X, y, test_size=0.15, random_state=42)"
   ]
  },
  {
   "cell_type": "code",
   "execution_count": 11,
   "id": "83b58171",
   "metadata": {},
   "outputs": [],
   "source": [
    "from sklearn.preprocessing import MinMaxScaler\n",
    "\n",
    "mms = MinMaxScaler()\n",
    "mms.fit(X_train)\n",
    "X_train = mms.transform(X_train)\n",
    "X_test = mms.transform(X_test)"
   ]
  },
  {
   "cell_type": "code",
   "execution_count": 12,
   "id": "56872766",
   "metadata": {},
   "outputs": [
    {
     "name": "stdout",
     "output_type": "stream",
     "text": [
      "Using TensorFlow backend\n"
     ]
    },
    {
     "name": "stdout",
     "output_type": "stream",
     "text": [
      "Epoch 1/400\n"
     ]
    },
    {
     "name": "stdout",
     "output_type": "stream",
     "text": [
      "\r",
      "1/9 [==>...........................] - ETA: 3s - loss: 0.6899 - accuracy: 0.6333"
     ]
    },
    {
     "name": "stdout",
     "output_type": "stream",
     "text": [
      "\b\b\b\b\b\b\b\b\b\b\b\b\b\b\b\b\b\b\b\b\b\b\b\b\b\b\b\b\b\b\b\b\b\b\b\b\b\b\b\b\b\b\b\b\b\b\b\b\b\b\b\b\b\b\b\b\b\b\b\b\b\b\b\b\b\b\b\b\b\b\b\b\b\b\b\b\b\b\b\b\r",
      "9/9 [==============================] - 1s 24ms/step - loss: 0.6725 - accuracy: 0.6078 - val_loss: 0.6328 - val_accuracy: 0.6889\n"
     ]
    },
    {
     "name": "stdout",
     "output_type": "stream",
     "text": [
      "Epoch 2/400\n"
     ]
    },
    {
     "name": "stdout",
     "output_type": "stream",
     "text": [
      "\r",
      "1/9 [==>...........................] - ETA: 0s - loss: 0.6371 - accuracy: 0.6667"
     ]
    },
    {
     "name": "stdout",
     "output_type": "stream",
     "text": [
      "\b\b\b\b\b\b\b\b\b\b\b\b\b\b\b\b\b\b\b\b\b\b\b\b\b\b\b\b\b\b\b\b\b\b\b\b\b\b\b\b\b\b\b\b\b\b\b\b\b\b\b\b\b\b\b\b\b\b\b\b\b\b\b\b\b\b\b\b\b\b\b\b\b\b\b\b\b\b\b\b\r",
      "9/9 [==============================] - 0s 5ms/step - loss: 0.6622 - accuracy: 0.5922 - val_loss: 0.6209 - val_accuracy: 0.6889\n"
     ]
    },
    {
     "name": "stdout",
     "output_type": "stream",
     "text": [
      "Epoch 3/400\n"
     ]
    },
    {
     "name": "stdout",
     "output_type": "stream",
     "text": [
      "\r",
      "1/9 [==>...........................] - ETA: 0s - loss: 0.6472 - accuracy: 0.6000"
     ]
    },
    {
     "name": "stdout",
     "output_type": "stream",
     "text": [
      "\b\b\b\b\b\b\b\b\b\b\b\b\b\b\b\b\b\b\b\b\b\b\b\b\b\b\b\b\b\b\b\b\b\b\b\b\b\b\b\b\b\b\b\b\b\b\b\b\b\b\b\b\b\b\b\b\b\b\b\b\b\b\b\b\b\b\b\b\b\b\b\b\b\b\b\b\b\b\b\b\r",
      "9/9 [==============================] - 0s 5ms/step - loss: 0.6540 - accuracy: 0.6039 - val_loss: 0.6104 - val_accuracy: 0.7111\n"
     ]
    },
    {
     "name": "stdout",
     "output_type": "stream",
     "text": [
      "Epoch 4/400\n"
     ]
    },
    {
     "name": "stdout",
     "output_type": "stream",
     "text": [
      "\r",
      "1/9 [==>...........................] - ETA: 0s - loss: 0.6280 - accuracy: 0.6000"
     ]
    },
    {
     "name": "stdout",
     "output_type": "stream",
     "text": [
      "\b\b\b\b\b\b\b\b\b\b\b\b\b\b\b\b\b\b\b\b\b\b\b\b\b\b\b\b\b\b\b\b\b\b\b\b\b\b\b\b\b\b\b\b\b\b\b\b\b\b\b\b\b\b\b\b\b\b\b\b\b\b\b\b\b\b\b\b\b\b\b\b\b\b\b\b\b\b\b\b\r",
      "9/9 [==============================] - 0s 5ms/step - loss: 0.6468 - accuracy: 0.6118 - val_loss: 0.6017 - val_accuracy: 0.7111\n"
     ]
    },
    {
     "name": "stdout",
     "output_type": "stream",
     "text": [
      "Epoch 5/400\n"
     ]
    },
    {
     "name": "stdout",
     "output_type": "stream",
     "text": [
      "\r",
      "1/9 [==>...........................] - ETA: 0s - loss: 0.6562 - accuracy: 0.6333"
     ]
    },
    {
     "name": "stdout",
     "output_type": "stream",
     "text": [
      "\b\b\b\b\b\b\b\b\b\b\b\b\b\b\b\b\b\b\b\b\b\b\b\b\b\b\b\b\b\b\b\b\b\b\b\b\b\b\b\b\b\b\b\b\b\b\b\b\b\b\b\b\b\b\b\b\b\b\b\b\b\b\b\b\b\b\b\b\b\b\b\b\b\b\b\b\b\b\b\b\r",
      "9/9 [==============================] - 0s 5ms/step - loss: 0.6416 - accuracy: 0.6078 - val_loss: 0.5940 - val_accuracy: 0.7111\n"
     ]
    },
    {
     "name": "stdout",
     "output_type": "stream",
     "text": [
      "Epoch 6/400\n"
     ]
    },
    {
     "name": "stdout",
     "output_type": "stream",
     "text": [
      "\r",
      "1/9 [==>...........................] - ETA: 0s - loss: 0.6601 - accuracy: 0.6000"
     ]
    },
    {
     "name": "stdout",
     "output_type": "stream",
     "text": [
      "\b\b\b\b\b\b\b\b\b\b\b\b\b\b\b\b\b\b\b\b\b\b\b\b\b\b\b\b\b\b\b\b\b\b\b\b\b\b\b\b\b\b\b\b\b\b\b\b\b\b\b\b\b\b\b\b\b\b\b\b\b\b\b\b\b\b\b\b\b\b\b\b\b\b\b\b\b\b\b\b\r",
      "9/9 [==============================] - 0s 5ms/step - loss: 0.6366 - accuracy: 0.6118 - val_loss: 0.5877 - val_accuracy: 0.7333\n"
     ]
    },
    {
     "name": "stdout",
     "output_type": "stream",
     "text": [
      "Epoch 7/400\n"
     ]
    },
    {
     "name": "stdout",
     "output_type": "stream",
     "text": [
      "\r",
      "1/9 [==>...........................] - ETA: 0s - loss: 0.6912 - accuracy: 0.6000"
     ]
    },
    {
     "name": "stdout",
     "output_type": "stream",
     "text": [
      "\b\b\b\b\b\b\b\b\b\b\b\b\b\b\b\b\b\b\b\b\b\b\b\b\b\b\b\b\b\b\b\b\b\b\b\b\b\b\b\b\b\b\b\b\b\b\b\b\b\b\b\b\b\b\b\b\b\b\b\b\b\b\b\b\b\b\b\b\b\b\b\b\b\b\b\b\b\b\b\b\r",
      "9/9 [==============================] - 0s 5ms/step - loss: 0.6326 - accuracy: 0.6275 - val_loss: 0.5827 - val_accuracy: 0.7333\n"
     ]
    },
    {
     "name": "stdout",
     "output_type": "stream",
     "text": [
      "Epoch 8/400\n"
     ]
    },
    {
     "name": "stdout",
     "output_type": "stream",
     "text": [
      "\r",
      "1/9 [==>...........................] - ETA: 0s - loss: 0.6695 - accuracy: 0.5333"
     ]
    },
    {
     "name": "stdout",
     "output_type": "stream",
     "text": [
      "\b\b\b\b\b\b\b\b\b\b\b\b\b\b\b\b\b\b\b\b\b\b\b\b\b\b\b\b\b\b\b\b\b\b\b\b\b\b\b\b\b\b\b\b\b\b\b\b\b\b\b\b\b\b\b\b\b\b\b\b\b\b\b\b\b\b\b\b\b\b\b\b\b\b\b\b\b\b\b\b\r",
      "9/9 [==============================] - 0s 6ms/step - loss: 0.6296 - accuracy: 0.6118 - val_loss: 0.5783 - val_accuracy: 0.7333\n"
     ]
    },
    {
     "name": "stdout",
     "output_type": "stream",
     "text": [
      "Epoch 9/400\n"
     ]
    },
    {
     "name": "stdout",
     "output_type": "stream",
     "text": [
      "\r",
      "1/9 [==>...........................] - ETA: 0s - loss: 0.5733 - accuracy: 0.6667"
     ]
    },
    {
     "name": "stdout",
     "output_type": "stream",
     "text": [
      "\b\b\b\b\b\b\b\b\b\b\b\b\b\b\b\b\b\b\b\b\b\b\b\b\b\b\b\b\b\b\b\b\b\b\b\b\b\b\b\b\b\b\b\b\b\b\b\b\b\b\b\b\b\b\b\b\b\b\b\b\b\b\b\b\b\b\b\b\b\b\b\b\b\b\b\b\b\b\b\b\r",
      "9/9 [==============================] - 0s 5ms/step - loss: 0.6267 - accuracy: 0.6078 - val_loss: 0.5748 - val_accuracy: 0.6889\n"
     ]
    },
    {
     "name": "stdout",
     "output_type": "stream",
     "text": [
      "Epoch 10/400\n"
     ]
    },
    {
     "name": "stdout",
     "output_type": "stream",
     "text": [
      "\r",
      "1/9 [==>...........................] - ETA: 0s - loss: 0.6734 - accuracy: 0.5333"
     ]
    },
    {
     "name": "stdout",
     "output_type": "stream",
     "text": [
      "\b\b\b\b\b\b\b\b\b\b\b\b\b\b\b\b\b\b\b\b\b\b\b\b\b\b\b\b\b\b\b\b\b\b\b\b\b\b\b\b\b\b\b\b\b\b\b\b\b\b\b\b\b\b\b\b\b\b\b\b\b\b\b\b\b\b\b\b\b\b\b\b\b\b\b\b\b\b\b\b\r",
      "9/9 [==============================] - 0s 5ms/step - loss: 0.6246 - accuracy: 0.6078 - val_loss: 0.5715 - val_accuracy: 0.6889\n"
     ]
    },
    {
     "name": "stdout",
     "output_type": "stream",
     "text": [
      "Epoch 11/400\n"
     ]
    },
    {
     "name": "stdout",
     "output_type": "stream",
     "text": [
      "\r",
      "1/9 [==>...........................] - ETA: 0s - loss: 0.5636 - accuracy: 0.7333"
     ]
    },
    {
     "name": "stdout",
     "output_type": "stream",
     "text": [
      "\b\b\b\b\b\b\b\b\b\b\b\b\b\b\b\b\b\b\b\b\b\b\b\b\b\b\b\b\b\b\b\b\b\b\b\b\b\b\b\b\b\b\b\b\b\b\b\b\b\b\b\b\b\b\b\b\b\b\b\b\b\b\b\b\b\b\b\b\b\b\b\b\b\b\b\b\b\b\b\b\r",
      "9/9 [==============================] - 0s 6ms/step - loss: 0.6226 - accuracy: 0.6000 - val_loss: 0.5688 - val_accuracy: 0.6889\n"
     ]
    },
    {
     "name": "stdout",
     "output_type": "stream",
     "text": [
      "Epoch 12/400\n"
     ]
    },
    {
     "name": "stdout",
     "output_type": "stream",
     "text": [
      "\r",
      "1/9 [==>...........................] - ETA: 0s - loss: 0.6425 - accuracy: 0.5000"
     ]
    },
    {
     "name": "stdout",
     "output_type": "stream",
     "text": [
      "\b\b\b\b\b\b\b\b\b\b\b\b\b\b\b\b\b\b\b\b\b\b\b\b\b\b\b\b\b\b\b\b\b\b\b\b\b\b\b\b\b\b\b\b\b\b\b\b\b\b\b\b\b\b\b\b\b\b\b\b\b\b\b\b\b\b\b\b\b\b\b\b\b\b\b\b\b\b\b\b\r",
      "9/9 [==============================] - 0s 5ms/step - loss: 0.6210 - accuracy: 0.6039 - val_loss: 0.5663 - val_accuracy: 0.6667\n"
     ]
    },
    {
     "name": "stdout",
     "output_type": "stream",
     "text": [
      "Epoch 13/400\n"
     ]
    },
    {
     "name": "stdout",
     "output_type": "stream",
     "text": [
      "\r",
      "1/9 [==>...........................] - ETA: 0s - loss: 0.5408 - accuracy: 0.8000"
     ]
    },
    {
     "name": "stdout",
     "output_type": "stream",
     "text": [
      "\b\b\b\b\b\b\b\b\b\b\b\b\b\b\b\b\b\b\b\b\b\b\b\b\b\b\b\b\b\b\b\b\b\b\b\b\b\b\b\b\b\b\b\b\b\b\b\b\b\b\b\b\b\b\b\b\b\b\b\b\b\b\b\b\b\b\b\b\b\b\b\b\b\b\b\b\b\b\b\b\r",
      "9/9 [==============================] - 0s 5ms/step - loss: 0.6195 - accuracy: 0.6118 - val_loss: 0.5643 - val_accuracy: 0.6889\n"
     ]
    },
    {
     "name": "stdout",
     "output_type": "stream",
     "text": [
      "Epoch 14/400\n"
     ]
    },
    {
     "name": "stdout",
     "output_type": "stream",
     "text": [
      "\r",
      "1/9 [==>...........................] - ETA: 0s - loss: 0.7453 - accuracy: 0.4333"
     ]
    },
    {
     "name": "stdout",
     "output_type": "stream",
     "text": [
      "\b\b\b\b\b\b\b\b\b\b\b\b\b\b\b\b\b\b\b\b\b\b\b\b\b\b\b\b\b\b\b\b\b\b\b\b\b\b\b\b\b\b\b\b\b\b\b\b\b\b\b\b\b\b\b\b\b\b\b\b\b\b\b\b\b\b\b\b\b\b\b\b\b\b\b\b\b\b\b\b\r",
      "9/9 [==============================] - 0s 5ms/step - loss: 0.6176 - accuracy: 0.6196 - val_loss: 0.5631 - val_accuracy: 0.7111\n"
     ]
    },
    {
     "name": "stdout",
     "output_type": "stream",
     "text": [
      "Epoch 15/400\n"
     ]
    },
    {
     "name": "stdout",
     "output_type": "stream",
     "text": [
      "\r",
      "1/9 [==>...........................] - ETA: 0s - loss: 0.5995 - accuracy: 0.6667"
     ]
    },
    {
     "name": "stdout",
     "output_type": "stream",
     "text": [
      "\b\b\b\b\b\b\b\b\b\b\b\b\b\b\b\b\b\b\b\b\b\b\b\b\b\b\b\b\b\b\b\b\b\b\b\b\b\b\b\b\b\b\b\b\b\b\b\b\b\b\b\b\b\b\b\b\b\b\b\b\b\b\b\b\b\b\b\b\b\b\b\b\b\b\b\b\b\b\b\b\r",
      "9/9 [==============================] - 0s 5ms/step - loss: 0.6162 - accuracy: 0.6196 - val_loss: 0.5618 - val_accuracy: 0.7111\n"
     ]
    },
    {
     "name": "stdout",
     "output_type": "stream",
     "text": [
      "Epoch 16/400\n"
     ]
    },
    {
     "name": "stdout",
     "output_type": "stream",
     "text": [
      "\r",
      "1/9 [==>...........................] - ETA: 0s - loss: 0.6417 - accuracy: 0.6000"
     ]
    },
    {
     "name": "stdout",
     "output_type": "stream",
     "text": [
      "\b\b\b\b\b\b\b\b\b\b\b\b\b\b\b\b\b\b\b\b\b\b\b\b\b\b\b\b\b\b\b\b\b\b\b\b\b\b\b\b\b\b\b\b\b\b\b\b\b\b\b\b\b\b\b\b\b\b\b\b\b\b\b\b\b\b\b\b\b\b\b\b\b\b\b\b\b\b\b\b\r",
      "9/9 [==============================] - 0s 5ms/step - loss: 0.6150 - accuracy: 0.6275 - val_loss: 0.5604 - val_accuracy: 0.6889\n"
     ]
    },
    {
     "name": "stdout",
     "output_type": "stream",
     "text": [
      "Epoch 17/400\n"
     ]
    },
    {
     "name": "stdout",
     "output_type": "stream",
     "text": [
      "\r",
      "1/9 [==>...........................] - ETA: 0s - loss: 0.6027 - accuracy: 0.6000"
     ]
    },
    {
     "name": "stdout",
     "output_type": "stream",
     "text": [
      "\b\b\b\b\b\b\b\b\b\b\b\b\b\b\b\b\b\b\b\b\b\b\b\b\b\b\b\b\b\b\b\b\b\b\b\b\b\b\b\b\b\b\b\b\b\b\b\b\b\b\b\b\b\b\b\b\b\b\b\b\b\b\b\b\b\b\b\b\b\b\b\b\b\b\b\b\b\b\b\b\r",
      "9/9 [==============================] - 0s 6ms/step - loss: 0.6136 - accuracy: 0.6314 - val_loss: 0.5593 - val_accuracy: 0.6889\n"
     ]
    },
    {
     "name": "stdout",
     "output_type": "stream",
     "text": [
      "Epoch 18/400\n"
     ]
    },
    {
     "name": "stdout",
     "output_type": "stream",
     "text": [
      "\r",
      "1/9 [==>...........................] - ETA: 0s - loss: 0.6812 - accuracy: 0.6000"
     ]
    },
    {
     "name": "stdout",
     "output_type": "stream",
     "text": [
      "\b\b\b\b\b\b\b\b\b\b\b\b\b\b\b\b\b\b\b\b\b\b\b\b\b\b\b\b\b\b\b\b\b\b\b\b\b\b\b\b\b\b\b\b\b\b\b\b\b\b\b\b\b\b\b\b\b\b\b\b\b\b\b\b\b\b\b\b\b\b\b\b\b\b\b\b\b\b\b\b\r",
      "9/9 [==============================] - 0s 6ms/step - loss: 0.6123 - accuracy: 0.6314 - val_loss: 0.5583 - val_accuracy: 0.6889\n"
     ]
    },
    {
     "name": "stdout",
     "output_type": "stream",
     "text": [
      "Epoch 19/400\n"
     ]
    },
    {
     "name": "stdout",
     "output_type": "stream",
     "text": [
      "\r",
      "1/9 [==>...........................] - ETA: 0s - loss: 0.6269 - accuracy: 0.6667"
     ]
    },
    {
     "name": "stdout",
     "output_type": "stream",
     "text": [
      "\b\b\b\b\b\b\b\b\b\b\b\b\b\b\b\b\b\b\b\b\b\b\b\b\b\b\b\b\b\b\b\b\b\b\b\b\b\b\b\b\b\b\b\b\b\b\b\b\b\b\b\b\b\b\b\b\b\b\b\b\b\b\b\b\b\b\b\b\b\b\b\b\b\b\b\b\b\b\b\b\r",
      "9/9 [==============================] - 0s 6ms/step - loss: 0.6112 - accuracy: 0.6353 - val_loss: 0.5576 - val_accuracy: 0.6667\n"
     ]
    },
    {
     "name": "stdout",
     "output_type": "stream",
     "text": [
      "Epoch 20/400\n"
     ]
    },
    {
     "name": "stdout",
     "output_type": "stream",
     "text": [
      "\r",
      "1/9 [==>...........................] - ETA: 0s - loss: 0.5684 - accuracy: 0.6667"
     ]
    },
    {
     "name": "stdout",
     "output_type": "stream",
     "text": [
      "\b\b\b\b\b\b\b\b\b\b\b\b\b\b\b\b\b\b\b\b\b\b\b\b\b\b\b\b\b\b\b\b\b\b\b\b\b\b\b\b\b\b\b\b\b\b\b\b\b\b\b\b\b\b\b\b\b\b\b\b\b\b\b\b\b\b\b\b\b\b\b\b\b\b\b\b\b\b\b\b\r",
      "9/9 [==============================] - 0s 8ms/step - loss: 0.6098 - accuracy: 0.6431 - val_loss: 0.5561 - val_accuracy: 0.6667\n"
     ]
    },
    {
     "name": "stdout",
     "output_type": "stream",
     "text": [
      "Epoch 21/400\n"
     ]
    },
    {
     "name": "stdout",
     "output_type": "stream",
     "text": [
      "\r",
      "1/9 [==>...........................] - ETA: 0s - loss: 0.6375 - accuracy: 0.5667"
     ]
    },
    {
     "name": "stdout",
     "output_type": "stream",
     "text": [
      "\b\b\b\b\b\b\b\b\b\b\b\b\b\b\b\b\b\b\b\b\b\b\b\b\b\b\b\b\b\b\b\b\b\b\b\b\b\b\b\b\b\b\b\b\b\b\b\b\b\b\b\b\b\b\b\b\b\b\b\b\b\b\b\b\b\b\b\b\b\b\b\b\b\b\b\b\b\b\b\b\r",
      "9/9 [==============================] - 0s 8ms/step - loss: 0.6086 - accuracy: 0.6431 - val_loss: 0.5554 - val_accuracy: 0.6667\n"
     ]
    },
    {
     "name": "stdout",
     "output_type": "stream",
     "text": [
      "Epoch 22/400\n"
     ]
    },
    {
     "name": "stdout",
     "output_type": "stream",
     "text": [
      "\r",
      "1/9 [==>...........................] - ETA: 0s - loss: 0.5231 - accuracy: 0.7333"
     ]
    },
    {
     "name": "stdout",
     "output_type": "stream",
     "text": [
      "\b\b\b\b\b\b\b\b\b\b\b\b\b\b\b\b\b\b\b\b\b\b\b\b\b\b\b\b\b\b\b\b\b\b\b\b\b\b\b\b\b\b\b\b\b\b\b\b\b\b\b\b\b\b\b\b\b\b\b\b\b\b\b\b\b\b\b\b\b\b\b\b\b\b\b\b\b\b\b\b\r",
      "9/9 [==============================] - 0s 9ms/step - loss: 0.6074 - accuracy: 0.6471 - val_loss: 0.5543 - val_accuracy: 0.6667\n"
     ]
    },
    {
     "name": "stdout",
     "output_type": "stream",
     "text": [
      "Epoch 23/400\n"
     ]
    },
    {
     "name": "stdout",
     "output_type": "stream",
     "text": [
      "\r",
      "1/9 [==>...........................] - ETA: 0s - loss: 0.5478 - accuracy: 0.7667"
     ]
    },
    {
     "name": "stdout",
     "output_type": "stream",
     "text": [
      "\b\b\b\b\b\b\b\b\b\b\b\b\b\b\b\b\b\b\b\b\b\b\b\b\b\b\b\b\b\b\b\b\b\b\b\b\b\b\b\b\b\b\b\b\b\b\b\b\b\b\b\b\b\b\b\b\b\b\b\b\b\b\b\b\b\b\b\b\b\b\b\b\b\b\b\b\b\b\b\b\r",
      "9/9 [==============================] - 0s 8ms/step - loss: 0.6062 - accuracy: 0.6510 - val_loss: 0.5533 - val_accuracy: 0.6667\n"
     ]
    },
    {
     "name": "stdout",
     "output_type": "stream",
     "text": [
      "Epoch 24/400\n"
     ]
    },
    {
     "name": "stdout",
     "output_type": "stream",
     "text": [
      "\r",
      "1/9 [==>...........................] - ETA: 0s - loss: 0.5990 - accuracy: 0.7333"
     ]
    },
    {
     "name": "stdout",
     "output_type": "stream",
     "text": [
      "\b\b\b\b\b\b\b\b\b\b\b\b\b\b\b\b\b\b\b\b\b\b\b\b\b\b\b\b\b\b\b\b\b\b\b\b\b\b\b\b\b\b\b\b\b\b\b\b\b\b\b\b\b\b\b\b\b\b\b\b\b\b\b\b\b\b\b\b\b\b\b\b\b\b\b\b\b\b\b\b\r",
      "9/9 [==============================] - 0s 6ms/step - loss: 0.6050 - accuracy: 0.6510 - val_loss: 0.5526 - val_accuracy: 0.6667\n"
     ]
    },
    {
     "name": "stdout",
     "output_type": "stream",
     "text": [
      "Epoch 25/400\n"
     ]
    },
    {
     "name": "stdout",
     "output_type": "stream",
     "text": [
      "\r",
      "1/9 [==>...........................] - ETA: 0s - loss: 0.5634 - accuracy: 0.7333"
     ]
    },
    {
     "name": "stdout",
     "output_type": "stream",
     "text": [
      "\b\b\b\b\b\b\b\b\b\b\b\b\b\b\b\b\b\b\b\b\b\b\b\b\b\b\b\b\b\b\b\b\b\b\b\b\b\b\b\b\b\b\b\b\b\b\b\b\b\b\b\b\b\b\b\b\b\b\b\b\b\b\b\b\b\b\b\b\b\b\b\b\b\b\b\b\b\b\b\b\r",
      "9/9 [==============================] - 0s 5ms/step - loss: 0.6040 - accuracy: 0.6549 - val_loss: 0.5523 - val_accuracy: 0.6667\n"
     ]
    },
    {
     "name": "stdout",
     "output_type": "stream",
     "text": [
      "Epoch 26/400\n"
     ]
    },
    {
     "name": "stdout",
     "output_type": "stream",
     "text": [
      "\r",
      "1/9 [==>...........................] - ETA: 0s - loss: 0.6143 - accuracy: 0.7000"
     ]
    },
    {
     "name": "stdout",
     "output_type": "stream",
     "text": [
      "\b\b\b\b\b\b\b\b\b\b\b\b\b\b\b\b\b\b\b\b\b\b\b\b\b\b\b\b\b\b\b\b\b\b\b\b\b\b\b\b\b\b\b\b\b\b\b\b\b\b\b\b\b\b\b\b\b\b\b\b\b\b\b\b\b\b\b\b\b\b\b\b\b\b\b\b\b\b\b\b\r",
      "9/9 [==============================] - 0s 5ms/step - loss: 0.6027 - accuracy: 0.6549 - val_loss: 0.5517 - val_accuracy: 0.6444\n"
     ]
    },
    {
     "name": "stdout",
     "output_type": "stream",
     "text": [
      "Epoch 27/400\n"
     ]
    },
    {
     "name": "stdout",
     "output_type": "stream",
     "text": [
      "\r",
      "1/9 [==>...........................] - ETA: 0s - loss: 0.6044 - accuracy: 0.7000"
     ]
    },
    {
     "name": "stdout",
     "output_type": "stream",
     "text": [
      "\b\b\b\b\b\b\b\b\b\b\b\b\b\b\b\b\b\b\b\b\b\b\b\b\b\b\b\b\b\b\b\b\b\b\b\b\b\b\b\b\b\b\b\b\b\b\b\b\b\b\b\b\b\b\b\b\b\b\b\b\b\b\b\b\b\b\b\b\b\b\b\b\b\b\b\b\b\b\b\b\r",
      "9/9 [==============================] - 0s 10ms/step - loss: 0.6015 - accuracy: 0.6549 - val_loss: 0.5511 - val_accuracy: 0.6444\n"
     ]
    },
    {
     "name": "stdout",
     "output_type": "stream",
     "text": [
      "Epoch 28/400\n"
     ]
    },
    {
     "name": "stdout",
     "output_type": "stream",
     "text": [
      "\r",
      "1/9 [==>...........................] - ETA: 0s - loss: 0.4774 - accuracy: 0.7667"
     ]
    },
    {
     "name": "stdout",
     "output_type": "stream",
     "text": [
      "\b\b\b\b\b\b\b\b\b\b\b\b\b\b\b\b\b\b\b\b\b\b\b\b\b\b\b\b\b\b\b\b\b\b\b\b\b\b\b\b\b\b\b\b\b\b\b\b\b\b\b\b\b\b\b\b\b\b\b\b\b\b\b\b\b\b\b\b\b\b\b\b\b\b\b\b\b\b\b\b\r",
      "9/9 [==============================] - 0s 9ms/step - loss: 0.6005 - accuracy: 0.6588 - val_loss: 0.5505 - val_accuracy: 0.6667\n"
     ]
    },
    {
     "name": "stdout",
     "output_type": "stream",
     "text": [
      "Epoch 29/400\n"
     ]
    },
    {
     "name": "stdout",
     "output_type": "stream",
     "text": [
      "\r",
      "1/9 [==>...........................] - ETA: 0s - loss: 0.5803 - accuracy: 0.6000"
     ]
    },
    {
     "name": "stdout",
     "output_type": "stream",
     "text": [
      "\b\b\b\b\b\b\b\b\b\b\b\b\b\b\b\b\b\b\b\b\b\b\b\b\b\b\b\b\b\b\b\b\b\b\b\b\b\b\b\b\b\b\b\b\b\b\b\b\b\b\b\b\b\b\b\b\b\b\b\b\b\b\b\b\b\b\b\b\b\b\b\b\b\b\b\b\b\b\b\b\r",
      "9/9 [==============================] - 0s 9ms/step - loss: 0.5994 - accuracy: 0.6588 - val_loss: 0.5500 - val_accuracy: 0.6667\n"
     ]
    },
    {
     "name": "stdout",
     "output_type": "stream",
     "text": [
      "Epoch 30/400\n"
     ]
    },
    {
     "name": "stdout",
     "output_type": "stream",
     "text": [
      "\r",
      "1/9 [==>...........................] - ETA: 0s - loss: 0.6369 - accuracy: 0.6000"
     ]
    },
    {
     "name": "stdout",
     "output_type": "stream",
     "text": [
      "\b\b\b\b\b\b\b\b\b\b\b\b\b\b\b\b\b\b\b\b\b\b\b\b\b\b\b\b\b\b\b\b\b\b\b\b\b\b\b\b\b\b\b\b\b\b\b\b\b\b\b\b\b\b\b\b\b\b\b\b\b\b\b\b\b\b\b\b\b\b\b\b\b\b\b\b\b\b\b\b\r",
      "9/9 [==============================] - 0s 11ms/step - loss: 0.5983 - accuracy: 0.6588 - val_loss: 0.5496 - val_accuracy: 0.6667\n"
     ]
    },
    {
     "name": "stdout",
     "output_type": "stream",
     "text": [
      "Epoch 31/400\n"
     ]
    },
    {
     "name": "stdout",
     "output_type": "stream",
     "text": [
      "\r",
      "1/9 [==>...........................] - ETA: 0s - loss: 0.5689 - accuracy: 0.7333"
     ]
    },
    {
     "name": "stdout",
     "output_type": "stream",
     "text": [
      "\b\b\b\b\b\b\b\b\b\b\b\b\b\b\b\b\b\b\b\b\b\b\b\b\b\b\b\b\b\b\b\b\b\b\b\b\b\b\b\b\b\b\b\b\b\b\b\b\b\b\b\b\b\b\b\b\b\b\b\b\b\b\b\b\b\b\b\b\b\b\b\b\b\b\b\b\b\b\b\b\r",
      "9/9 [==============================] - 0s 11ms/step - loss: 0.5972 - accuracy: 0.6588 - val_loss: 0.5491 - val_accuracy: 0.6667\n"
     ]
    },
    {
     "name": "stdout",
     "output_type": "stream",
     "text": [
      "Epoch 32/400\n"
     ]
    },
    {
     "name": "stdout",
     "output_type": "stream",
     "text": [
      "\r",
      "1/9 [==>...........................] - ETA: 0s - loss: 0.6718 - accuracy: 0.5333"
     ]
    },
    {
     "name": "stdout",
     "output_type": "stream",
     "text": [
      "\b\b\b\b\b\b\b\b\b\b\b\b\b\b\b\b\b\b\b\b\b\b\b\b\b\b\b\b\b\b\b\b\b\b\b\b\b\b\b\b\b\b\b\b\b\b\b\b\b\b\b\b\b\b\b\b\b\b\b\b\b\b\b\b\b\b\b\b\b\b\b\b\b\b\b\b\b\b\b\b\r",
      "9/9 [==============================] - 0s 10ms/step - loss: 0.5961 - accuracy: 0.6588 - val_loss: 0.5488 - val_accuracy: 0.6667\n"
     ]
    },
    {
     "name": "stdout",
     "output_type": "stream",
     "text": [
      "Epoch 33/400\n"
     ]
    },
    {
     "name": "stdout",
     "output_type": "stream",
     "text": [
      "\r",
      "1/9 [==>...........................] - ETA: 0s - loss: 0.6098 - accuracy: 0.6333"
     ]
    },
    {
     "name": "stdout",
     "output_type": "stream",
     "text": [
      "\b\b\b\b\b\b\b\b\b\b\b\b\b\b\b\b\b\b\b\b\b\b\b\b\b\b\b\b\b\b\b\b\b\b\b\b\b\b\b\b\b\b\b\b\b\b\b\b\b\b\b\b\b\b\b\b\b\b\b\b\b\b\b\b\b\b\b\b\b\b\b\b\b\b\b\b\b\b\b\b\r",
      "9/9 [==============================] - 0s 8ms/step - loss: 0.5950 - accuracy: 0.6588 - val_loss: 0.5483 - val_accuracy: 0.6667\n"
     ]
    },
    {
     "name": "stdout",
     "output_type": "stream",
     "text": [
      "Epoch 34/400\n"
     ]
    },
    {
     "name": "stdout",
     "output_type": "stream",
     "text": [
      "\r",
      "1/9 [==>...........................] - ETA: 0s - loss: 0.6250 - accuracy: 0.5667"
     ]
    },
    {
     "name": "stdout",
     "output_type": "stream",
     "text": [
      "\b\b\b\b\b\b\b\b\b\b\b\b\b\b\b\b\b\b\b\b\b\b\b\b\b\b\b\b\b\b\b\b\b\b\b\b\b\b\b\b\b\b\b\b\b\b\b\b\b\b\b\b\b\b\b\b\b\b\b\b\b\b\b\b\b\b\b\b\b\b\b\b\b\b\b\b\b\b\b\b\r",
      "9/9 [==============================] - 0s 6ms/step - loss: 0.5939 - accuracy: 0.6588 - val_loss: 0.5474 - val_accuracy: 0.6667\n"
     ]
    },
    {
     "name": "stdout",
     "output_type": "stream",
     "text": [
      "Epoch 35/400\n"
     ]
    },
    {
     "name": "stdout",
     "output_type": "stream",
     "text": [
      "\r",
      "1/9 [==>...........................] - ETA: 0s - loss: 0.5263 - accuracy: 0.7667"
     ]
    },
    {
     "name": "stdout",
     "output_type": "stream",
     "text": [
      "\b\b\b\b\b\b\b\b\b\b\b\b\b\b\b\b\b\b\b\b\b\b\b\b\b\b\b\b\b\b\b\b\b\b\b\b\b\b\b\b\b\b\b\b\b\b\b\b\b\b\b\b\b\b\b\b\b\b\b\b\b\b\b\b\b\b\b\b\b\b\b\b\b\b\b\b\b\b\b\b\r",
      "9/9 [==============================] - 0s 5ms/step - loss: 0.5934 - accuracy: 0.6549 - val_loss: 0.5460 - val_accuracy: 0.6889\n"
     ]
    },
    {
     "name": "stdout",
     "output_type": "stream",
     "text": [
      "Epoch 36/400\n"
     ]
    },
    {
     "name": "stdout",
     "output_type": "stream",
     "text": [
      "\r",
      "1/9 [==>...........................] - ETA: 0s - loss: 0.6174 - accuracy: 0.5667"
     ]
    },
    {
     "name": "stdout",
     "output_type": "stream",
     "text": [
      "\b\b\b\b\b\b\b\b\b\b\b\b\b\b\b\b\b\b\b\b\b\b\b\b\b\b\b\b\b\b\b\b\b\b\b\b\b\b\b\b\b\b\b\b\b\b\b\b\b\b\b\b\b\b\b\b\b\b\b\b\b\b\b\b\b\b\b\b\b\b\b\b\b\b\b\b\b\b\b\b\r",
      "9/9 [==============================] - 0s 4ms/step - loss: 0.5919 - accuracy: 0.6549 - val_loss: 0.5460 - val_accuracy: 0.6889\n"
     ]
    },
    {
     "name": "stdout",
     "output_type": "stream",
     "text": [
      "Epoch 37/400\n"
     ]
    },
    {
     "name": "stdout",
     "output_type": "stream",
     "text": [
      "\r",
      "1/9 [==>...........................] - ETA: 0s - loss: 0.5842 - accuracy: 0.6667"
     ]
    },
    {
     "name": "stdout",
     "output_type": "stream",
     "text": [
      "\b\b\b\b\b\b\b\b\b\b\b\b\b\b\b\b\b\b\b\b\b\b\b\b\b\b\b\b\b\b\b\b\b\b\b\b\b\b\b\b\b\b\b\b\b\b\b\b\b\b\b\b\b\b\b\b\b\b\b\b\b\b\b\b\b\b\b\b\b\b\b\b\b\b\b\b\b\b\b\b\r",
      "9/9 [==============================] - 0s 6ms/step - loss: 0.5908 - accuracy: 0.6549 - val_loss: 0.5451 - val_accuracy: 0.6889\n"
     ]
    },
    {
     "name": "stdout",
     "output_type": "stream",
     "text": [
      "Epoch 38/400\n"
     ]
    },
    {
     "name": "stdout",
     "output_type": "stream",
     "text": [
      "\r",
      "1/9 [==>...........................] - ETA: 0s - loss: 0.5719 - accuracy: 0.6667"
     ]
    },
    {
     "name": "stdout",
     "output_type": "stream",
     "text": [
      "\b\b\b\b\b\b\b\b\b\b\b\b\b\b\b\b\b\b\b\b\b\b\b\b\b\b\b\b\b\b\b\b\b\b\b\b\b\b\b\b\b\b\b\b\b\b\b\b\b\b\b\b\b\b\b\b\b\b\b\b\b\b\b\b\b\b\b\b\b\b\b\b\b\b\b\b\b\b\b\b\r",
      "9/9 [==============================] - 0s 8ms/step - loss: 0.5898 - accuracy: 0.6549 - val_loss: 0.5446 - val_accuracy: 0.6889\n"
     ]
    },
    {
     "name": "stdout",
     "output_type": "stream",
     "text": [
      "Epoch 39/400\n"
     ]
    },
    {
     "name": "stdout",
     "output_type": "stream",
     "text": [
      "\r",
      "1/9 [==>...........................] - ETA: 0s - loss: 0.6881 - accuracy: 0.4667"
     ]
    },
    {
     "name": "stdout",
     "output_type": "stream",
     "text": [
      "\b\b\b\b\b\b\b\b\b\b\b\b\b\b\b\b\b\b\b\b\b\b\b\b\b\b\b\b\b\b\b\b\b\b\b\b\b\b\b\b\b\b\b\b\b\b\b\b\b\b\b\b\b\b\b\b\b\b\b\b\b\b\b\b\b\b\b\b\b\b\b\b\b\b\b\b\b\b\b\b\r",
      "9/9 [==============================] - 0s 7ms/step - loss: 0.5889 - accuracy: 0.6588 - val_loss: 0.5447 - val_accuracy: 0.7111\n"
     ]
    },
    {
     "name": "stdout",
     "output_type": "stream",
     "text": [
      "Epoch 40/400\n"
     ]
    },
    {
     "name": "stdout",
     "output_type": "stream",
     "text": [
      "\r",
      "1/9 [==>...........................] - ETA: 0s - loss: 0.5295 - accuracy: 0.7667"
     ]
    },
    {
     "name": "stdout",
     "output_type": "stream",
     "text": [
      "\b\b\b\b\b\b\b\b\b\b\b\b\b\b\b\b\b\b\b\b\b\b\b\b\b\b\b\b\b\b\b\b\b\b\b\b\b\b\b\b\b\b\b\b\b\b\b\b\b\b\b\b\b\b\b\b\b\b\b\b\b\b\b\b\b\b\b\b\b\b\b\b\b\b\b\b\b\b\b\b\r",
      "9/9 [==============================] - 0s 7ms/step - loss: 0.5877 - accuracy: 0.6667 - val_loss: 0.5444 - val_accuracy: 0.7111\n"
     ]
    },
    {
     "name": "stdout",
     "output_type": "stream",
     "text": [
      "Epoch 41/400\n"
     ]
    },
    {
     "name": "stdout",
     "output_type": "stream",
     "text": [
      "\r",
      "1/9 [==>...........................] - ETA: 0s - loss: 0.5179 - accuracy: 0.8000"
     ]
    },
    {
     "name": "stdout",
     "output_type": "stream",
     "text": [
      "\b\b\b\b\b\b\b\b\b\b\b\b\b\b\b\b\b\b\b\b\b\b\b\b\b\b\b\b\b\b\b\b\b\b\b\b\b\b\b\b\b\b\b\b\b\b\b\b\b\b\b\b\b\b\b\b\b\b\b\b\b\b\b\b\b\b\b\b\b\b\b\b\b\b\b\b\b\b\b\b\r",
      "9/9 [==============================] - 0s 5ms/step - loss: 0.5867 - accuracy: 0.6706 - val_loss: 0.5443 - val_accuracy: 0.6889\n"
     ]
    },
    {
     "name": "stdout",
     "output_type": "stream",
     "text": [
      "Epoch 42/400\n"
     ]
    },
    {
     "name": "stdout",
     "output_type": "stream",
     "text": [
      "\r",
      "1/9 [==>...........................] - ETA: 0s - loss: 0.5663 - accuracy: 0.6667"
     ]
    },
    {
     "name": "stdout",
     "output_type": "stream",
     "text": [
      "\b\b\b\b\b\b\b\b\b\b\b\b\b\b\b\b\b\b\b\b\b\b\b\b\b\b\b\b\b\b\b\b\b\b\b\b\b\b\b\b\b\b\b\b\b\b\b\b\b\b\b\b\b\b\b\b\b\b\b\b\b\b\b\b\b\b\b\b\b\b\b\b\b\b\b\b\b\b\b\b\r",
      "9/9 [==============================] - 0s 6ms/step - loss: 0.5858 - accuracy: 0.6706 - val_loss: 0.5438 - val_accuracy: 0.6889\n"
     ]
    },
    {
     "name": "stdout",
     "output_type": "stream",
     "text": [
      "Epoch 43/400\n"
     ]
    },
    {
     "name": "stdout",
     "output_type": "stream",
     "text": [
      "\r",
      "1/9 [==>...........................] - ETA: 0s - loss: 0.6387 - accuracy: 0.6667"
     ]
    },
    {
     "name": "stdout",
     "output_type": "stream",
     "text": [
      "\b\b\b\b\b\b\b\b\b\b\b\b\b\b\b\b\b\b\b\b\b\b\b\b\b\b\b\b\b\b\b\b\b\b\b\b\b\b\b\b\b\b\b\b\b\b\b\b\b\b\b\b\b\b\b\b\b\b\b\b\b\b\b\b\b\b\b\b\b\b\b\b\b\b\b\b\b\b\b\b\r",
      "9/9 [==============================] - 0s 5ms/step - loss: 0.5850 - accuracy: 0.6784 - val_loss: 0.5440 - val_accuracy: 0.6889\n"
     ]
    },
    {
     "name": "stdout",
     "output_type": "stream",
     "text": [
      "Epoch 44/400\n"
     ]
    },
    {
     "name": "stdout",
     "output_type": "stream",
     "text": [
      "\r",
      "1/9 [==>...........................] - ETA: 0s - loss: 0.4937 - accuracy: 0.8000"
     ]
    },
    {
     "name": "stdout",
     "output_type": "stream",
     "text": [
      "\b\b\b\b\b\b\b\b\b\b\b\b\b\b\b\b\b\b\b\b\b\b\b\b\b\b\b\b\b\b\b\b\b\b\b\b\b\b\b\b\b\b\b\b\b\b\b\b\b\b\b\b\b\b\b\b\b\b\b\b\b\b\b\b\b\b\b\b\b\b\b\b\b\b\b\b\b\b\b\b\r",
      "9/9 [==============================] - 0s 6ms/step - loss: 0.5839 - accuracy: 0.6863 - val_loss: 0.5433 - val_accuracy: 0.6889\n"
     ]
    },
    {
     "name": "stdout",
     "output_type": "stream",
     "text": [
      "Epoch 45/400\n"
     ]
    },
    {
     "name": "stdout",
     "output_type": "stream",
     "text": [
      "\r",
      "1/9 [==>...........................] - ETA: 0s - loss: 0.6091 - accuracy: 0.6000"
     ]
    },
    {
     "name": "stdout",
     "output_type": "stream",
     "text": [
      "\b\b\b\b\b\b\b\b\b\b\b\b\b\b\b\b\b\b\b\b\b\b\b\b\b\b\b\b\b\b\b\b\b\b\b\b\b\b\b\b\b\b\b\b\b\b\b\b\b\b\b\b\b\b\b\b\b\b\b\b\b\b\b\b\b\b\b\b\b\b\b\b\b\b\b\b\b\b\b\b\r",
      "9/9 [==============================] - 0s 6ms/step - loss: 0.5830 - accuracy: 0.6902 - val_loss: 0.5426 - val_accuracy: 0.6889\n"
     ]
    },
    {
     "name": "stdout",
     "output_type": "stream",
     "text": [
      "Epoch 46/400\n"
     ]
    },
    {
     "name": "stdout",
     "output_type": "stream",
     "text": [
      "\r",
      "1/9 [==>...........................] - ETA: 0s - loss: 0.5276 - accuracy: 0.7667"
     ]
    },
    {
     "name": "stdout",
     "output_type": "stream",
     "text": [
      "\b\b\b\b\b\b\b\b\b\b\b\b\b\b\b\b\b\b\b\b\b\b\b\b\b\b\b\b\b\b\b\b\b\b\b\b\b\b\b\b\b\b\b\b\b\b\b\b\b\b\b\b\b\b\b\b\b\b\b\b\b\b\b\b\b\b\b\b\b\b\b\b\b\b\b\b\b\b\b\b\r",
      "9/9 [==============================] - 0s 6ms/step - loss: 0.5820 - accuracy: 0.6863 - val_loss: 0.5421 - val_accuracy: 0.6889\n"
     ]
    },
    {
     "name": "stdout",
     "output_type": "stream",
     "text": [
      "Epoch 47/400\n"
     ]
    },
    {
     "name": "stdout",
     "output_type": "stream",
     "text": [
      "\r",
      "1/9 [==>...........................] - ETA: 0s - loss: 0.5867 - accuracy: 0.7000"
     ]
    },
    {
     "name": "stdout",
     "output_type": "stream",
     "text": [
      "\b\b\b\b\b\b\b\b\b\b\b\b\b\b\b\b\b\b\b\b\b\b\b\b\b\b\b\b\b\b\b\b\b\b\b\b\b\b\b\b\b\b\b\b\b\b\b\b\b\b\b\b\b\b\b\b\b\b\b\b\b\b\b\b\b\b\b\b\b\b\b\b\b\b\b\b\b\b\b\b\r",
      "9/9 [==============================] - 0s 6ms/step - loss: 0.5811 - accuracy: 0.6863 - val_loss: 0.5418 - val_accuracy: 0.6889\n"
     ]
    },
    {
     "name": "stdout",
     "output_type": "stream",
     "text": [
      "Epoch 48/400\n"
     ]
    },
    {
     "name": "stdout",
     "output_type": "stream",
     "text": [
      "\r",
      "1/9 [==>...........................] - ETA: 0s - loss: 0.6012 - accuracy: 0.7000"
     ]
    },
    {
     "name": "stdout",
     "output_type": "stream",
     "text": [
      "\b\b\b\b\b\b\b\b\b\b\b\b\b\b\b\b\b\b\b\b\b\b\b\b\b\b\b\b\b\b\b\b\b\b\b\b\b\b\b\b\b\b\b\b\b\b\b\b\b\b\b\b\b\b\b\b\b\b\b\b\b\b\b\b\b\b\b\b\b\b\b\b\b\b\b\b\b\b\b\b\r",
      "9/9 [==============================] - 0s 6ms/step - loss: 0.5801 - accuracy: 0.6863 - val_loss: 0.5410 - val_accuracy: 0.6889\n"
     ]
    },
    {
     "name": "stdout",
     "output_type": "stream",
     "text": [
      "Epoch 49/400\n"
     ]
    },
    {
     "name": "stdout",
     "output_type": "stream",
     "text": [
      "\r",
      "1/9 [==>...........................] - ETA: 0s - loss: 0.5895 - accuracy: 0.6000"
     ]
    },
    {
     "name": "stdout",
     "output_type": "stream",
     "text": [
      "\b\b\b\b\b\b\b\b\b\b\b\b\b\b\b\b\b\b\b\b\b\b\b\b\b\b\b\b\b\b\b\b\b\b\b\b\b\b\b\b\b\b\b\b\b\b\b\b\b\b\b\b\b\b\b\b\b\b\b\b\b\b\b\b\b\b\b\b\b\b\b\b\b\b\b\b\b\b\b\b\r",
      "9/9 [==============================] - 0s 5ms/step - loss: 0.5791 - accuracy: 0.6863 - val_loss: 0.5405 - val_accuracy: 0.6889\n"
     ]
    },
    {
     "name": "stdout",
     "output_type": "stream",
     "text": [
      "Epoch 50/400\n"
     ]
    },
    {
     "name": "stdout",
     "output_type": "stream",
     "text": [
      "\r",
      "1/9 [==>...........................] - ETA: 0s - loss: 0.5372 - accuracy: 0.7667"
     ]
    },
    {
     "name": "stdout",
     "output_type": "stream",
     "text": [
      "\b\b\b\b\b\b\b\b\b\b\b\b\b\b\b\b\b\b\b\b\b\b\b\b\b\b\b\b\b\b\b\b\b\b\b\b\b\b\b\b\b\b\b\b\b\b\b\b\b\b\b\b\b\b\b\b\b\b\b\b\b\b\b\b\b\b\b\b\b\b\b\b\b\b\b\b\b\b\b\b\r",
      "9/9 [==============================] - 0s 5ms/step - loss: 0.5782 - accuracy: 0.6902 - val_loss: 0.5398 - val_accuracy: 0.6889\n"
     ]
    },
    {
     "name": "stdout",
     "output_type": "stream",
     "text": [
      "Epoch 51/400\n"
     ]
    },
    {
     "name": "stdout",
     "output_type": "stream",
     "text": [
      "\r",
      "1/9 [==>...........................] - ETA: 0s - loss: 0.5473 - accuracy: 0.7000"
     ]
    },
    {
     "name": "stdout",
     "output_type": "stream",
     "text": [
      "\b\b\b\b\b\b\b\b\b\b\b\b\b\b\b\b\b\b\b\b\b\b\b\b\b\b\b\b\b\b\b\b\b\b\b\b\b\b\b\b\b\b\b\b\b\b\b\b\b\b\b\b\b\b\b\b\b\b\b\b\b\b\b\b\b\b\b\b\b\b\b\b\b\b\b\b\b\b\b\b\r",
      "9/9 [==============================] - 0s 5ms/step - loss: 0.5773 - accuracy: 0.6902 - val_loss: 0.5394 - val_accuracy: 0.6889\n"
     ]
    },
    {
     "name": "stdout",
     "output_type": "stream",
     "text": [
      "Epoch 52/400\n"
     ]
    },
    {
     "name": "stdout",
     "output_type": "stream",
     "text": [
      "\r",
      "1/9 [==>...........................] - ETA: 0s - loss: 0.5403 - accuracy: 0.7333"
     ]
    },
    {
     "name": "stdout",
     "output_type": "stream",
     "text": [
      "\b\b\b\b\b\b\b\b\b\b\b\b\b\b\b\b\b\b\b\b\b\b\b\b\b\b\b\b\b\b\b\b\b\b\b\b\b\b\b\b\b\b\b\b\b\b\b\b\b\b\b\b\b\b\b\b\b\b\b\b\b\b\b\b\b\b\b\b\b\b\b\b\b\b\b\b\b\b\b\b\r",
      "9/9 [==============================] - 0s 6ms/step - loss: 0.5764 - accuracy: 0.6902 - val_loss: 0.5389 - val_accuracy: 0.6889\n"
     ]
    },
    {
     "name": "stdout",
     "output_type": "stream",
     "text": [
      "Epoch 53/400\n"
     ]
    },
    {
     "name": "stdout",
     "output_type": "stream",
     "text": [
      "\r",
      "1/9 [==>...........................] - ETA: 0s - loss: 0.6616 - accuracy: 0.6333"
     ]
    },
    {
     "name": "stdout",
     "output_type": "stream",
     "text": [
      "\b\b\b\b\b\b\b\b\b\b\b\b\b\b\b\b\b\b\b\b\b\b\b\b\b\b\b\b\b\b\b\b\b\b\b\b\b\b\b\b\b\b\b\b\b\b\b\b\b\b\b\b\b\b\b\b\b\b\b\b\b\b\b\b\b\b\b\b\b\b\b\b\b\b\b\b\b\b\b\b\r",
      "9/9 [==============================] - 0s 5ms/step - loss: 0.5756 - accuracy: 0.6902 - val_loss: 0.5384 - val_accuracy: 0.6889\n"
     ]
    },
    {
     "name": "stdout",
     "output_type": "stream",
     "text": [
      "Epoch 54/400\n"
     ]
    },
    {
     "name": "stdout",
     "output_type": "stream",
     "text": [
      "\r",
      "1/9 [==>...........................] - ETA: 0s - loss: 0.5659 - accuracy: 0.7000"
     ]
    },
    {
     "name": "stdout",
     "output_type": "stream",
     "text": [
      "\b\b\b\b\b\b\b\b\b\b\b\b\b\b\b\b\b\b\b\b\b\b\b\b\b\b\b\b\b\b\b\b\b\b\b\b\b\b\b\b\b\b\b\b\b\b\b\b\b\b\b\b\b\b\b\b\b\b\b\b\b\b\b\b\b\b\b\b\b\b\b\b\b\b\b\b\b\b\b\b\r",
      "9/9 [==============================] - 0s 5ms/step - loss: 0.5746 - accuracy: 0.6902 - val_loss: 0.5381 - val_accuracy: 0.6889\n"
     ]
    },
    {
     "name": "stdout",
     "output_type": "stream",
     "text": [
      "Epoch 55/400\n"
     ]
    },
    {
     "name": "stdout",
     "output_type": "stream",
     "text": [
      "\r",
      "1/9 [==>...........................] - ETA: 0s - loss: 0.5425 - accuracy: 0.7333"
     ]
    },
    {
     "name": "stdout",
     "output_type": "stream",
     "text": [
      "\b\b\b\b\b\b\b\b\b\b\b\b\b\b\b\b\b\b\b\b\b\b\b\b\b\b\b\b\b\b\b\b\b\b\b\b\b\b\b\b\b\b\b\b\b\b\b\b\b\b\b\b\b\b\b\b\b\b\b\b\b\b\b\b\b\b\b\b\b\b\b\b\b\b\b\b\b\b\b\b\r",
      "9/9 [==============================] - 0s 6ms/step - loss: 0.5737 - accuracy: 0.6902 - val_loss: 0.5381 - val_accuracy: 0.6889\n"
     ]
    },
    {
     "name": "stdout",
     "output_type": "stream",
     "text": [
      "Epoch 56/400\n"
     ]
    },
    {
     "name": "stdout",
     "output_type": "stream",
     "text": [
      "\r",
      "1/9 [==>...........................] - ETA: 0s - loss: 0.5724 - accuracy: 0.7000"
     ]
    },
    {
     "name": "stdout",
     "output_type": "stream",
     "text": [
      "\b\b\b\b\b\b\b\b\b\b\b\b\b\b\b\b\b\b\b\b\b\b\b\b\b\b\b\b\b\b\b\b\b\b\b\b\b\b\b\b\b\b\b\b\b\b\b\b\b\b\b\b\b\b\b\b\b\b\b\b\b\b\b\b\b\b\b\b\b\b\b\b\b\b\b\b\b\b\b\b\r",
      "9/9 [==============================] - 0s 6ms/step - loss: 0.5729 - accuracy: 0.6902 - val_loss: 0.5379 - val_accuracy: 0.6889\n"
     ]
    },
    {
     "name": "stdout",
     "output_type": "stream",
     "text": [
      "Epoch 57/400\n"
     ]
    },
    {
     "name": "stdout",
     "output_type": "stream",
     "text": [
      "\r",
      "1/9 [==>...........................] - ETA: 0s - loss: 0.5321 - accuracy: 0.7667"
     ]
    },
    {
     "name": "stdout",
     "output_type": "stream",
     "text": [
      "\b\b\b\b\b\b\b\b\b\b\b\b\b\b\b\b\b\b\b\b\b\b\b\b\b\b\b\b\b\b\b\b\b\b\b\b\b\b\b\b\b\b\b\b\b\b\b\b\b\b\b\b\b\b\b\b\b\b\b\b\b\b\b\b\b\b\b\b\b\b\b\b\b\b\b\b\b\b\b\b\r",
      "9/9 [==============================] - 0s 6ms/step - loss: 0.5720 - accuracy: 0.6902 - val_loss: 0.5376 - val_accuracy: 0.6889\n"
     ]
    },
    {
     "name": "stdout",
     "output_type": "stream",
     "text": [
      "Epoch 58/400\n"
     ]
    },
    {
     "name": "stdout",
     "output_type": "stream",
     "text": [
      "\r",
      "1/9 [==>...........................] - ETA: 0s - loss: 0.5889 - accuracy: 0.6667"
     ]
    },
    {
     "name": "stdout",
     "output_type": "stream",
     "text": [
      "\b\b\b\b\b\b\b\b\b\b\b\b\b\b\b\b\b\b\b\b\b\b\b\b\b\b\b\b\b\b\b\b\b\b\b\b\b\b\b\b\b\b\b\b\b\b\b\b\b\b\b\b\b\b\b\b\b\b\b\b\b\b\b\b\b\b\b\b\b\b\b\b\b\b\b\b\b\b\b\b\r",
      "9/9 [==============================] - 0s 7ms/step - loss: 0.5712 - accuracy: 0.6902 - val_loss: 0.5373 - val_accuracy: 0.6889\n"
     ]
    },
    {
     "name": "stdout",
     "output_type": "stream",
     "text": [
      "Epoch 59/400\n"
     ]
    },
    {
     "name": "stdout",
     "output_type": "stream",
     "text": [
      "\r",
      "1/9 [==>...........................] - ETA: 0s - loss: 0.5198 - accuracy: 0.8000"
     ]
    },
    {
     "name": "stdout",
     "output_type": "stream",
     "text": [
      "\b\b\b\b\b\b\b\b\b\b\b\b\b\b\b\b\b\b\b\b\b\b\b\b\b\b\b\b\b\b\b\b\b\b\b\b\b\b\b\b\b\b\b\b\b\b\b\b\b\b\b\b\b\b\b\b\b\b\b\b\b\b\b\b\b\b\b\b\b\b\b\b\b\b\b\b\b\b\b\b\r",
      "9/9 [==============================] - 0s 7ms/step - loss: 0.5704 - accuracy: 0.6980 - val_loss: 0.5369 - val_accuracy: 0.6889\n"
     ]
    },
    {
     "name": "stdout",
     "output_type": "stream",
     "text": [
      "Epoch 60/400\n"
     ]
    },
    {
     "name": "stdout",
     "output_type": "stream",
     "text": [
      "\r",
      "1/9 [==>...........................] - ETA: 0s - loss: 0.5501 - accuracy: 0.7333"
     ]
    },
    {
     "name": "stdout",
     "output_type": "stream",
     "text": [
      "\b\b\b\b\b\b\b\b\b\b\b\b\b\b\b\b\b\b\b\b\b\b\b\b\b\b\b\b\b\b\b\b\b\b\b\b\b\b\b\b\b\b\b\b\b\b\b\b\b\b\b\b\b\b\b\b\b\b\b\b\b\b\b\b\b\b\b\b\b\b\b\b\b\b\b\b\b\b\b\b\r",
      "9/9 [==============================] - 0s 7ms/step - loss: 0.5695 - accuracy: 0.6980 - val_loss: 0.5365 - val_accuracy: 0.6889\n"
     ]
    },
    {
     "name": "stdout",
     "output_type": "stream",
     "text": [
      "Epoch 61/400\n"
     ]
    },
    {
     "name": "stdout",
     "output_type": "stream",
     "text": [
      "\r",
      "1/9 [==>...........................] - ETA: 0s - loss: 0.5883 - accuracy: 0.7000"
     ]
    },
    {
     "name": "stdout",
     "output_type": "stream",
     "text": [
      "\b\b\b\b\b\b\b\b\b\b\b\b\b\b\b\b\b\b\b\b\b\b\b\b\b\b\b\b\b\b\b\b\b\b\b\b\b\b\b\b\b\b\b\b\b\b\b\b\b\b\b\b\b\b\b\b\b\b\b\b\b\b\b\b\b\b\b\b\b\b\b\b\b\b\b\b\b\b\b\b\r",
      "9/9 [==============================] - 0s 6ms/step - loss: 0.5687 - accuracy: 0.6980 - val_loss: 0.5361 - val_accuracy: 0.6889\n"
     ]
    },
    {
     "name": "stdout",
     "output_type": "stream",
     "text": [
      "Epoch 62/400\n"
     ]
    },
    {
     "name": "stdout",
     "output_type": "stream",
     "text": [
      "\r",
      "1/9 [==>...........................] - ETA: 0s - loss: 0.5122 - accuracy: 0.7667"
     ]
    },
    {
     "name": "stdout",
     "output_type": "stream",
     "text": [
      "\b\b\b\b\b\b\b\b\b\b\b\b\b\b\b\b\b\b\b\b\b\b\b\b\b\b\b\b\b\b\b\b\b\b\b\b\b\b\b\b\b\b\b\b\b\b\b\b\b\b\b\b\b\b\b\b\b\b\b\b\b\b\b\b\b\b\b\b\b\b\b\b\b\b\b\b\b\b\b\b\r",
      "9/9 [==============================] - 0s 5ms/step - loss: 0.5680 - accuracy: 0.6980 - val_loss: 0.5353 - val_accuracy: 0.6889\n"
     ]
    },
    {
     "name": "stdout",
     "output_type": "stream",
     "text": [
      "Epoch 63/400\n"
     ]
    },
    {
     "name": "stdout",
     "output_type": "stream",
     "text": [
      "\r",
      "1/9 [==>...........................] - ETA: 0s - loss: 0.5373 - accuracy: 0.7667"
     ]
    },
    {
     "name": "stdout",
     "output_type": "stream",
     "text": [
      "\b\b\b\b\b\b\b\b\b\b\b\b\b\b\b\b\b\b\b\b\b\b\b\b\b\b\b\b\b\b\b\b\b\b\b\b\b\b\b\b\b\b\b\b\b\b\b\b\b\b\b\b\b\b\b\b\b\b\b\b\b\b\b\b\b\b\b\b\b\b\b\b\b\b\b\b\b\b\b\b\r",
      "9/9 [==============================] - 0s 9ms/step - loss: 0.5671 - accuracy: 0.6980 - val_loss: 0.5359 - val_accuracy: 0.6889\n"
     ]
    },
    {
     "name": "stdout",
     "output_type": "stream",
     "text": [
      "Epoch 64/400\n"
     ]
    },
    {
     "name": "stdout",
     "output_type": "stream",
     "text": [
      "\r",
      "1/9 [==>...........................] - ETA: 0s - loss: 0.5855 - accuracy: 0.6667"
     ]
    },
    {
     "name": "stdout",
     "output_type": "stream",
     "text": [
      "\b\b\b\b\b\b\b\b\b\b\b\b\b\b\b\b\b\b\b\b\b\b\b\b\b\b\b\b\b\b\b\b\b\b\b\b\b\b\b\b\b\b\b\b\b\b\b\b\b\b\b\b\b\b\b\b\b\b\b\b\b\b\b\b\b\b\b\b\b\b\b\b\b\b\b\b\b\b\b\b\r",
      "9/9 [==============================] - 0s 9ms/step - loss: 0.5663 - accuracy: 0.6980 - val_loss: 0.5358 - val_accuracy: 0.6889\n"
     ]
    },
    {
     "name": "stdout",
     "output_type": "stream",
     "text": [
      "Epoch 65/400\n"
     ]
    },
    {
     "name": "stdout",
     "output_type": "stream",
     "text": [
      "\r",
      "1/9 [==>...........................] - ETA: 0s - loss: 0.5146 - accuracy: 0.7333"
     ]
    },
    {
     "name": "stdout",
     "output_type": "stream",
     "text": [
      "\b\b\b\b\b\b\b\b\b\b\b\b\b\b\b\b\b\b\b\b\b\b\b\b\b\b\b\b\b\b\b\b\b\b\b\b\b\b\b\b\b\b\b\b\b\b\b\b\b\b\b\b\b\b\b\b\b\b\b\b\b\b\b\b\b\b\b\b\b\b\b\b\b\b\b\b\b\b\b\b\r",
      "9/9 [==============================] - 0s 8ms/step - loss: 0.5655 - accuracy: 0.7020 - val_loss: 0.5351 - val_accuracy: 0.6889\n"
     ]
    },
    {
     "name": "stdout",
     "output_type": "stream",
     "text": [
      "Epoch 66/400\n"
     ]
    },
    {
     "name": "stdout",
     "output_type": "stream",
     "text": [
      "\r",
      "1/9 [==>...........................] - ETA: 0s - loss: 0.5817 - accuracy: 0.6667"
     ]
    },
    {
     "name": "stdout",
     "output_type": "stream",
     "text": [
      "\b\b\b\b\b\b\b\b\b\b\b\b\b\b\b\b\b\b\b\b\b\b\b\b\b\b\b\b\b\b\b\b\b\b\b\b\b\b\b\b\b\b\b\b\b\b\b\b\b\b\b\b\b\b\b\b\b\b\b\b\b\b\b\b\b\b\b\b\b\b\b\b\b\b\b\b\b\b\b\b\r",
      "9/9 [==============================] - 0s 9ms/step - loss: 0.5647 - accuracy: 0.7020 - val_loss: 0.5348 - val_accuracy: 0.6889\n"
     ]
    },
    {
     "name": "stdout",
     "output_type": "stream",
     "text": [
      "Epoch 67/400\n"
     ]
    },
    {
     "name": "stdout",
     "output_type": "stream",
     "text": [
      "\r",
      "1/9 [==>...........................] - ETA: 0s - loss: 0.6123 - accuracy: 0.6333"
     ]
    },
    {
     "name": "stdout",
     "output_type": "stream",
     "text": [
      "\b\b\b\b\b\b\b\b\b\b\b\b\b\b\b\b\b\b\b\b\b\b\b\b\b\b\b\b\b\b\b\b\b\b\b\b\b\b\b\b\b\b\b\b\b\b\b\b\b\b\b\b\b\b\b\b\b\b\b\b\b\b\b\b\b\b\b\b\b\b\b\b\b\b\b\b\b\b\b\b\r",
      "9/9 [==============================] - 0s 7ms/step - loss: 0.5640 - accuracy: 0.7020 - val_loss: 0.5345 - val_accuracy: 0.6889\n"
     ]
    },
    {
     "name": "stdout",
     "output_type": "stream",
     "text": [
      "Epoch 68/400\n"
     ]
    },
    {
     "name": "stdout",
     "output_type": "stream",
     "text": [
      "\r",
      "1/9 [==>...........................] - ETA: 0s - loss: 0.5537 - accuracy: 0.7000"
     ]
    },
    {
     "name": "stdout",
     "output_type": "stream",
     "text": [
      "\b\b\b\b\b\b\b\b\b\b\b\b\b\b\b\b\b\b\b\b\b\b\b\b\b\b\b\b\b\b\b\b\b\b\b\b\b\b\b\b\b\b\b\b\b\b\b\b\b\b\b\b\b\b\b\b\b\b\b\b\b\b\b\b\b\b\b\b\b\b\b\b\b\b\b\b\b\b\b\b\r",
      "9/9 [==============================] - 0s 5ms/step - loss: 0.5633 - accuracy: 0.7020 - val_loss: 0.5336 - val_accuracy: 0.6889\n"
     ]
    },
    {
     "name": "stdout",
     "output_type": "stream",
     "text": [
      "Epoch 69/400\n"
     ]
    },
    {
     "name": "stdout",
     "output_type": "stream",
     "text": [
      "\r",
      "1/9 [==>...........................] - ETA: 0s - loss: 0.5752 - accuracy: 0.7333"
     ]
    },
    {
     "name": "stdout",
     "output_type": "stream",
     "text": [
      "\b\b\b\b\b\b\b\b\b\b\b\b\b\b\b\b\b\b\b\b\b\b\b\b\b\b\b\b\b\b\b\b\b\b\b\b\b\b\b\b\b\b\b\b\b\b\b\b\b\b\b\b\b\b\b\b\b\b\b\b\b\b\b\b\b\b\b\b\b\b\b\b\b\b\b\b\b\b\b\b\r",
      "9/9 [==============================] - 0s 4ms/step - loss: 0.5624 - accuracy: 0.7020 - val_loss: 0.5330 - val_accuracy: 0.6889\n"
     ]
    },
    {
     "name": "stdout",
     "output_type": "stream",
     "text": [
      "Epoch 70/400\n"
     ]
    },
    {
     "name": "stdout",
     "output_type": "stream",
     "text": [
      "\r",
      "1/9 [==>...........................] - ETA: 0s - loss: 0.5891 - accuracy: 0.6667"
     ]
    },
    {
     "name": "stdout",
     "output_type": "stream",
     "text": [
      "\b\b\b\b\b\b\b\b\b\b\b\b\b\b\b\b\b\b\b\b\b\b\b\b\b\b\b\b\b\b\b\b\b\b\b\b\b\b\b\b\b\b\b\b\b\b\b\b\b\b\b\b\b\b\b\b\b\b\b\b\b\b\b\b\b\b\b\b\b\b\b\b\b\b\b\b\b\b\b\b\r",
      "9/9 [==============================] - 0s 6ms/step - loss: 0.5617 - accuracy: 0.7020 - val_loss: 0.5328 - val_accuracy: 0.6889\n"
     ]
    },
    {
     "name": "stdout",
     "output_type": "stream",
     "text": [
      "Epoch 71/400\n"
     ]
    },
    {
     "name": "stdout",
     "output_type": "stream",
     "text": [
      "\r",
      "1/9 [==>...........................] - ETA: 0s - loss: 0.5368 - accuracy: 0.7333"
     ]
    },
    {
     "name": "stdout",
     "output_type": "stream",
     "text": [
      "\b\b\b\b\b\b\b\b\b\b\b\b\b\b\b\b\b\b\b\b\b\b\b\b\b\b\b\b\b\b\b\b\b\b\b\b\b\b\b\b\b\b\b\b\b\b\b\b\b\b\b\b\b\b\b\b\b\b\b\b\b\b\b\b\b\b\b\b\b\b\b\b\b\b\b\b\b\b\b\b\r",
      "9/9 [==============================] - 0s 9ms/step - loss: 0.5609 - accuracy: 0.7020 - val_loss: 0.5322 - val_accuracy: 0.6889\n"
     ]
    },
    {
     "name": "stdout",
     "output_type": "stream",
     "text": [
      "Epoch 72/400\n"
     ]
    },
    {
     "name": "stdout",
     "output_type": "stream",
     "text": [
      "\r",
      "1/9 [==>...........................] - ETA: 0s - loss: 0.6014 - accuracy: 0.6667"
     ]
    },
    {
     "name": "stdout",
     "output_type": "stream",
     "text": [
      "\b\b\b\b\b\b\b\b\b\b\b\b\b\b\b\b\b\b\b\b\b\b\b\b\b\b\b\b\b\b\b\b\b\b\b\b\b\b\b\b\b\b\b\b\b\b\b\b\b\b\b\b\b\b\b\b\b\b\b\b\b\b\b\b\b\b\b\b\b\b\b\b\b\b\b\b\b\b\b\b\r",
      "9/9 [==============================] - 0s 8ms/step - loss: 0.5601 - accuracy: 0.7059 - val_loss: 0.5318 - val_accuracy: 0.6889\n"
     ]
    },
    {
     "name": "stdout",
     "output_type": "stream",
     "text": [
      "Epoch 73/400\n"
     ]
    },
    {
     "name": "stdout",
     "output_type": "stream",
     "text": [
      "\r",
      "1/9 [==>...........................] - ETA: 0s - loss: 0.5887 - accuracy: 0.7333"
     ]
    },
    {
     "name": "stdout",
     "output_type": "stream",
     "text": [
      "\b\b\b\b\b\b\b\b\b\b\b\b\b\b\b\b\b\b\b\b\b\b\b\b\b\b\b\b\b\b\b\b\b\b\b\b\b\b\b\b\b\b\b\b\b\b\b\b\b\b\b\b\b\b\b\b\b\b\b\b\b\b\b\b\b\b\b\b\b\b\b\b\b\b\b\b\b\b\b\b\r",
      "9/9 [==============================] - 0s 4ms/step - loss: 0.5593 - accuracy: 0.7059 - val_loss: 0.5315 - val_accuracy: 0.6889\n"
     ]
    },
    {
     "name": "stdout",
     "output_type": "stream",
     "text": [
      "Epoch 74/400\n"
     ]
    },
    {
     "name": "stdout",
     "output_type": "stream",
     "text": [
      "\r",
      "1/9 [==>...........................] - ETA: 0s - loss: 0.6996 - accuracy: 0.4667"
     ]
    },
    {
     "name": "stdout",
     "output_type": "stream",
     "text": [
      "\b\b\b\b\b\b\b\b\b\b\b\b\b\b\b\b\b\b\b\b\b\b\b\b\b\b\b\b\b\b\b\b\b\b\b\b\b\b\b\b\b\b\b\b\b\b\b\b\b\b\b\b\b\b\b\b\b\b\b\b\b\b\b\b\b\b\b\b\b\b\b\b\b\b\b\b\b\b\b\b\r",
      "9/9 [==============================] - 0s 6ms/step - loss: 0.5586 - accuracy: 0.7059 - val_loss: 0.5312 - val_accuracy: 0.6889\n"
     ]
    },
    {
     "name": "stdout",
     "output_type": "stream",
     "text": [
      "Epoch 75/400\n"
     ]
    },
    {
     "name": "stdout",
     "output_type": "stream",
     "text": [
      "\r",
      "1/9 [==>...........................] - ETA: 0s - loss: 0.6419 - accuracy: 0.6333"
     ]
    },
    {
     "name": "stdout",
     "output_type": "stream",
     "text": [
      "\b\b\b\b\b\b\b\b\b\b\b\b\b\b\b\b\b\b\b\b\b\b\b\b\b\b\b\b\b\b\b\b\b\b\b\b\b\b\b\b\b\b\b\b\b\b\b\b\b\b\b\b\b\b\b\b\b\b\b\b\b\b\b\b\b\b\b\b\b\b\b\b\b\b\b\b\b\b\b\b\r",
      "9/9 [==============================] - 0s 9ms/step - loss: 0.5580 - accuracy: 0.7059 - val_loss: 0.5312 - val_accuracy: 0.6889\n"
     ]
    },
    {
     "name": "stdout",
     "output_type": "stream",
     "text": [
      "Epoch 76/400\n"
     ]
    },
    {
     "name": "stdout",
     "output_type": "stream",
     "text": [
      "\r",
      "1/9 [==>...........................] - ETA: 0s - loss: 0.4826 - accuracy: 0.8333"
     ]
    },
    {
     "name": "stdout",
     "output_type": "stream",
     "text": [
      "\b\b\b\b\b\b\b\b\b\b\b\b\b\b\b\b\b\b\b\b\b\b\b\b\b\b\b\b\b\b\b\b\b\b\b\b\b\b\b\b\b\b\b\b\b\b\b\b\b\b\b\b\b\b\b\b\b\b\b\b\b\b\b\b\b\b\b\b\b\b\b\b\b\b\b\b\b\b\b\b\r",
      "9/9 [==============================] - 0s 9ms/step - loss: 0.5573 - accuracy: 0.7098 - val_loss: 0.5305 - val_accuracy: 0.6889\n"
     ]
    },
    {
     "name": "stdout",
     "output_type": "stream",
     "text": [
      "Epoch 77/400\n"
     ]
    },
    {
     "name": "stdout",
     "output_type": "stream",
     "text": [
      "\r",
      "1/9 [==>...........................] - ETA: 0s - loss: 0.4931 - accuracy: 0.8000"
     ]
    },
    {
     "name": "stdout",
     "output_type": "stream",
     "text": [
      "\b\b\b\b\b\b\b\b\b\b\b\b\b\b\b\b\b\b\b\b\b\b\b\b\b\b\b\b\b\b\b\b\b\b\b\b\b\b\b\b\b\b\b\b\b\b\b\b\b\b\b\b\b\b\b\b\b\b\b\b\b\b\b\b\b\b\b\b\b\b\b\b\b\b\b\b\b\b\b\b\r",
      "9/9 [==============================] - 0s 8ms/step - loss: 0.5565 - accuracy: 0.7098 - val_loss: 0.5304 - val_accuracy: 0.6889\n"
     ]
    },
    {
     "name": "stdout",
     "output_type": "stream",
     "text": [
      "Epoch 78/400\n"
     ]
    },
    {
     "name": "stdout",
     "output_type": "stream",
     "text": [
      "\r",
      "1/9 [==>...........................] - ETA: 0s - loss: 0.5607 - accuracy: 0.6333"
     ]
    },
    {
     "name": "stdout",
     "output_type": "stream",
     "text": [
      "\b\b\b\b\b\b\b\b\b\b\b\b\b\b\b\b\b\b\b\b\b\b\b\b\b\b\b\b\b\b\b\b\b\b\b\b\b\b\b\b\b\b\b\b\b\b\b\b\b\b\b\b\b\b\b\b\b\b\b\b\b\b\b\b\b\b\b\b\b\b\b\b\b\b\b\b\b\b\b\b\r",
      "9/9 [==============================] - 0s 8ms/step - loss: 0.5558 - accuracy: 0.7098 - val_loss: 0.5302 - val_accuracy: 0.6889\n"
     ]
    },
    {
     "name": "stdout",
     "output_type": "stream",
     "text": [
      "Epoch 79/400\n"
     ]
    },
    {
     "name": "stdout",
     "output_type": "stream",
     "text": [
      "\r",
      "1/9 [==>...........................] - ETA: 0s - loss: 0.5435 - accuracy: 0.7667"
     ]
    },
    {
     "name": "stdout",
     "output_type": "stream",
     "text": [
      "\b\b\b\b\b\b\b\b\b\b\b\b\b\b\b\b\b\b\b\b\b\b\b\b\b\b\b\b\b\b\b\b\b\b\b\b\b\b\b\b\b\b\b\b\b\b\b\b\b\b\b\b\b\b\b\b\b\b\b\b\b\b\b\b\b\b\b\b\b\b\b\b\b\b\b\b\b\b\b\b\r",
      "9/9 [==============================] - 0s 10ms/step - loss: 0.5550 - accuracy: 0.7137 - val_loss: 0.5302 - val_accuracy: 0.6889\n"
     ]
    },
    {
     "name": "stdout",
     "output_type": "stream",
     "text": [
      "Epoch 80/400\n"
     ]
    },
    {
     "name": "stdout",
     "output_type": "stream",
     "text": [
      "\r",
      "1/9 [==>...........................] - ETA: 0s - loss: 0.5237 - accuracy: 0.8000"
     ]
    },
    {
     "name": "stdout",
     "output_type": "stream",
     "text": [
      "\b\b\b\b\b\b\b\b\b\b\b\b\b\b\b\b\b\b\b\b\b\b\b\b\b\b\b\b\b\b\b\b\b\b\b\b\b\b\b\b\b\b\b\b\b\b\b\b\b\b\b\b\b\b\b\b\b\b\b\b\b\b\b\b\b\b\b\b\b\b\b\b\b\b\b\b\b\b\b\b\r",
      "9/9 [==============================] - 0s 6ms/step - loss: 0.5542 - accuracy: 0.7216 - val_loss: 0.5304 - val_accuracy: 0.6889\n"
     ]
    },
    {
     "name": "stdout",
     "output_type": "stream",
     "text": [
      "Epoch 81/400\n"
     ]
    },
    {
     "name": "stdout",
     "output_type": "stream",
     "text": [
      "\r",
      "1/9 [==>...........................] - ETA: 0s - loss: 0.5587 - accuracy: 0.7000"
     ]
    },
    {
     "name": "stdout",
     "output_type": "stream",
     "text": [
      "\b\b\b\b\b\b\b\b\b\b\b\b\b\b\b\b\b\b\b\b\b\b\b\b\b\b\b\b\b\b\b\b\b\b\b\b\b\b\b\b\b\b\b\b\b\b\b\b\b\b\b\b\b\b\b\b\b\b\b\b\b\b\b\b\b\b\b\b\b\b\b\b\b\b\b\b\b\b\b\b\r",
      "9/9 [==============================] - 0s 4ms/step - loss: 0.5537 - accuracy: 0.7216 - val_loss: 0.5307 - val_accuracy: 0.6889\n"
     ]
    },
    {
     "name": "stdout",
     "output_type": "stream",
     "text": [
      "Epoch 82/400\n"
     ]
    },
    {
     "name": "stdout",
     "output_type": "stream",
     "text": [
      "\r",
      "1/9 [==>...........................] - ETA: 0s - loss: 0.5684 - accuracy: 0.7333"
     ]
    },
    {
     "name": "stdout",
     "output_type": "stream",
     "text": [
      "\b\b\b\b\b\b\b\b\b\b\b\b\b\b\b\b\b\b\b\b\b\b\b\b\b\b\b\b\b\b\b\b\b\b\b\b\b\b\b\b\b\b\b\b\b\b\b\b\b\b\b\b\b\b\b\b\b\b\b\b\b\b\b\b\b\b\b\b\b\b\b\b\b\b\b\b\b\b\b\b\r",
      "9/9 [==============================] - 0s 7ms/step - loss: 0.5528 - accuracy: 0.7216 - val_loss: 0.5301 - val_accuracy: 0.6889\n"
     ]
    },
    {
     "name": "stdout",
     "output_type": "stream",
     "text": [
      "Epoch 83/400\n"
     ]
    },
    {
     "name": "stdout",
     "output_type": "stream",
     "text": [
      "\r",
      "1/9 [==>...........................] - ETA: 0s - loss: 0.6230 - accuracy: 0.6667"
     ]
    },
    {
     "name": "stdout",
     "output_type": "stream",
     "text": [
      "\b\b\b\b\b\b\b\b\b\b\b\b\b\b\b\b\b\b\b\b\b\b\b\b\b\b\b\b\b\b\b\b\b\b\b\b\b\b\b\b\b\b\b\b\b\b\b\b\b\b\b\b\b\b\b\b\b\b\b\b\b\b\b\b\b\b\b\b\b\b\b\b\b\b\b\b\b\b\b\b\r",
      "9/9 [==============================] - 0s 9ms/step - loss: 0.5521 - accuracy: 0.7255 - val_loss: 0.5297 - val_accuracy: 0.6889\n"
     ]
    },
    {
     "name": "stdout",
     "output_type": "stream",
     "text": [
      "Epoch 84/400\n"
     ]
    },
    {
     "name": "stdout",
     "output_type": "stream",
     "text": [
      "\r",
      "1/9 [==>...........................] - ETA: 0s - loss: 0.6161 - accuracy: 0.7667"
     ]
    },
    {
     "name": "stdout",
     "output_type": "stream",
     "text": [
      "\b\b\b\b\b\b\b\b\b\b\b\b\b\b\b\b\b\b\b\b\b\b\b\b\b\b\b\b\b\b\b\b\b\b\b\b\b\b\b\b\b\b\b\b\b\b\b\b\b\b\b\b\b\b\b\b\b\b\b\b\b\b\b\b\b\b\b\b\b\b\b\b\b\b\b\b\b\b\b\b\r",
      "9/9 [==============================] - 0s 5ms/step - loss: 0.5514 - accuracy: 0.7294 - val_loss: 0.5294 - val_accuracy: 0.6889\n"
     ]
    },
    {
     "name": "stdout",
     "output_type": "stream",
     "text": [
      "Epoch 85/400\n"
     ]
    },
    {
     "name": "stdout",
     "output_type": "stream",
     "text": [
      "\r",
      "1/9 [==>...........................] - ETA: 0s - loss: 0.5338 - accuracy: 0.7667"
     ]
    },
    {
     "name": "stdout",
     "output_type": "stream",
     "text": [
      "\b\b\b\b\b\b\b\b\b\b\b\b\b\b\b\b\b\b\b\b\b\b\b\b\b\b\b\b\b\b\b\b\b\b\b\b\b\b\b\b\b\b\b\b\b\b\b\b\b\b\b\b\b\b\b\b\b\b\b\b\b\b\b\b\b\b\b\b\b\b\b\b\b\b\b\b\b\b\b\b\r",
      "9/9 [==============================] - 0s 4ms/step - loss: 0.5508 - accuracy: 0.7294 - val_loss: 0.5290 - val_accuracy: 0.6889\n"
     ]
    },
    {
     "name": "stdout",
     "output_type": "stream",
     "text": [
      "Epoch 86/400\n"
     ]
    },
    {
     "name": "stdout",
     "output_type": "stream",
     "text": [
      "\r",
      "1/9 [==>...........................] - ETA: 0s - loss: 0.4625 - accuracy: 0.8333"
     ]
    },
    {
     "name": "stdout",
     "output_type": "stream",
     "text": [
      "\b\b\b\b\b\b\b\b\b\b\b\b\b\b\b\b\b\b\b\b\b\b\b\b\b\b\b\b\b\b\b\b\b\b\b\b\b\b\b\b\b\b\b\b\b\b\b\b\b\b\b\b\b\b\b\b\b\b\b\b\b\b\b\b\b\b\b\b\b\b\b\b\b\b\b\b\b\b\b\b\r",
      "9/9 [==============================] - 0s 5ms/step - loss: 0.5500 - accuracy: 0.7294 - val_loss: 0.5287 - val_accuracy: 0.6889\n"
     ]
    },
    {
     "name": "stdout",
     "output_type": "stream",
     "text": [
      "Epoch 87/400\n"
     ]
    },
    {
     "name": "stdout",
     "output_type": "stream",
     "text": [
      "\r",
      "1/9 [==>...........................] - ETA: 0s - loss: 0.5674 - accuracy: 0.7333"
     ]
    },
    {
     "name": "stdout",
     "output_type": "stream",
     "text": [
      "\b\b\b\b\b\b\b\b\b\b\b\b\b\b\b\b\b\b\b\b\b\b\b\b\b\b\b\b\b\b\b\b\b\b\b\b\b\b\b\b\b\b\b\b\b\b\b\b\b\b\b\b\b\b\b\b\b\b\b\b\b\b\b\b\b\b\b\b\b\b\b\b\b\b\b\b\b\b\b\b\r",
      "9/9 [==============================] - 0s 4ms/step - loss: 0.5494 - accuracy: 0.7333 - val_loss: 0.5285 - val_accuracy: 0.6889\n"
     ]
    },
    {
     "name": "stdout",
     "output_type": "stream",
     "text": [
      "Epoch 88/400\n"
     ]
    },
    {
     "name": "stdout",
     "output_type": "stream",
     "text": [
      "\r",
      "1/9 [==>...........................] - ETA: 0s - loss: 0.4669 - accuracy: 0.9000"
     ]
    },
    {
     "name": "stdout",
     "output_type": "stream",
     "text": [
      "\b\b\b\b\b\b\b\b\b\b\b\b\b\b\b\b\b\b\b\b\b\b\b\b\b\b\b\b\b\b\b\b\b\b\b\b\b\b\b\b\b\b\b\b\b\b\b\b\b\b\b\b\b\b\b\b\b\b\b\b\b\b\b\b\b\b\b\b\b\b\b\b\b\b\b\b\b\b\b\b\r",
      "9/9 [==============================] - 0s 7ms/step - loss: 0.5489 - accuracy: 0.7333 - val_loss: 0.5282 - val_accuracy: 0.6889\n"
     ]
    },
    {
     "name": "stdout",
     "output_type": "stream",
     "text": [
      "Epoch 89/400\n"
     ]
    },
    {
     "name": "stdout",
     "output_type": "stream",
     "text": [
      "\r",
      "1/9 [==>...........................] - ETA: 0s - loss: 0.4887 - accuracy: 0.7667"
     ]
    },
    {
     "name": "stdout",
     "output_type": "stream",
     "text": [
      "\b\b\b\b\b\b\b\b\b\b\b\b\b\b\b\b\b\b\b\b\b\b\b\b\b\b\b\b\b\b\b\b\b\b\b\b\b\b\b\b\b\b\b\b\b\b\b\b\b\b\b\b\b\b\b\b\b\b\b\b\b\b\b\b\b\b\b\b\b\b\b\b\b\b\b\b\b\b\b\b\r",
      "9/9 [==============================] - 0s 8ms/step - loss: 0.5480 - accuracy: 0.7373 - val_loss: 0.5288 - val_accuracy: 0.7333\n"
     ]
    },
    {
     "name": "stdout",
     "output_type": "stream",
     "text": [
      "Epoch 90/400\n"
     ]
    },
    {
     "name": "stdout",
     "output_type": "stream",
     "text": [
      "\r",
      "1/9 [==>...........................] - ETA: 0s - loss: 0.5808 - accuracy: 0.7000"
     ]
    },
    {
     "name": "stdout",
     "output_type": "stream",
     "text": [
      "\b\b\b\b\b\b\b\b\b\b\b\b\b\b\b\b\b\b\b\b\b\b\b\b\b\b\b\b\b\b\b\b\b\b\b\b\b\b\b\b\b\b\b\b\b\b\b\b\b\b\b\b\b\b\b\b\b\b\b\b\b\b\b\b\b\b\b\b\b\b\b\b\b\b\b\b\b\b\b\b\r",
      "9/9 [==============================] - 0s 8ms/step - loss: 0.5473 - accuracy: 0.7412 - val_loss: 0.5287 - val_accuracy: 0.7333\n"
     ]
    },
    {
     "name": "stdout",
     "output_type": "stream",
     "text": [
      "Epoch 91/400\n"
     ]
    },
    {
     "name": "stdout",
     "output_type": "stream",
     "text": [
      "\r",
      "1/9 [==>...........................] - ETA: 0s - loss: 0.5018 - accuracy: 0.7333"
     ]
    },
    {
     "name": "stdout",
     "output_type": "stream",
     "text": [
      "\b\b\b\b\b\b\b\b\b\b\b\b\b\b\b\b\b\b\b\b\b\b\b\b\b\b\b\b\b\b\b\b\b\b\b\b\b\b\b\b\b\b\b\b\b\b\b\b\b\b\b\b\b\b\b\b\b\b\b\b\b\b\b\b\b\b\b\b\b\b\b\b\b\b\b\b\b\b\b\b\r",
      "9/9 [==============================] - 0s 5ms/step - loss: 0.5467 - accuracy: 0.7373 - val_loss: 0.5290 - val_accuracy: 0.7556\n"
     ]
    },
    {
     "name": "stdout",
     "output_type": "stream",
     "text": [
      "Epoch 92/400\n"
     ]
    },
    {
     "name": "stdout",
     "output_type": "stream",
     "text": [
      "\r",
      "1/9 [==>...........................] - ETA: 0s - loss: 0.5625 - accuracy: 0.7000"
     ]
    },
    {
     "name": "stdout",
     "output_type": "stream",
     "text": [
      "\b\b\b\b\b\b\b\b\b\b\b\b\b\b\b\b\b\b\b\b\b\b\b\b\b\b\b\b\b\b\b\b\b\b\b\b\b\b\b\b\b\b\b\b\b\b\b\b\b\b\b\b\b\b\b\b\b\b\b\b\b\b\b\b\b\b\b\b\b\b\b\b\b\b\b\b\b\b\b\b\r",
      "9/9 [==============================] - 0s 7ms/step - loss: 0.5461 - accuracy: 0.7373 - val_loss: 0.5284 - val_accuracy: 0.7333\n"
     ]
    },
    {
     "name": "stdout",
     "output_type": "stream",
     "text": [
      "Epoch 93/400\n"
     ]
    },
    {
     "name": "stdout",
     "output_type": "stream",
     "text": [
      "\r",
      "1/9 [==>...........................] - ETA: 0s - loss: 0.5091 - accuracy: 0.8000"
     ]
    },
    {
     "name": "stdout",
     "output_type": "stream",
     "text": [
      "\b\b\b\b\b\b\b\b\b\b\b\b\b\b\b\b\b\b\b\b\b\b\b\b\b\b\b\b\b\b\b\b\b\b\b\b\b\b\b\b\b\b\b\b\b\b\b\b\b\b\b\b\b\b\b\b\b\b\b\b\b\b\b\b\b\b\b\b\b\b\b\b\b\b\b\b\b\b\b\b\r",
      "9/9 [==============================] - 0s 4ms/step - loss: 0.5454 - accuracy: 0.7373 - val_loss: 0.5280 - val_accuracy: 0.7333\n"
     ]
    },
    {
     "name": "stdout",
     "output_type": "stream",
     "text": [
      "Epoch 94/400\n"
     ]
    },
    {
     "name": "stdout",
     "output_type": "stream",
     "text": [
      "\r",
      "1/9 [==>...........................] - ETA: 0s - loss: 0.4353 - accuracy: 0.8667"
     ]
    },
    {
     "name": "stdout",
     "output_type": "stream",
     "text": [
      "\b\b\b\b\b\b\b\b\b\b\b\b\b\b\b\b\b\b\b\b\b\b\b\b\b\b\b\b\b\b\b\b\b\b\b\b\b\b\b\b\b\b\b\b\b\b\b\b\b\b\b\b\b\b\b\b\b\b\b\b\b\b\b\b\b\b\b\b\b\b\b\b\b\b\b\b\b\b\b\b\r",
      "9/9 [==============================] - 0s 4ms/step - loss: 0.5447 - accuracy: 0.7373 - val_loss: 0.5279 - val_accuracy: 0.7556\n"
     ]
    },
    {
     "name": "stdout",
     "output_type": "stream",
     "text": [
      "Epoch 95/400\n"
     ]
    },
    {
     "name": "stdout",
     "output_type": "stream",
     "text": [
      "\r",
      "1/9 [==>...........................] - ETA: 0s - loss: 0.6148 - accuracy: 0.6667"
     ]
    },
    {
     "name": "stdout",
     "output_type": "stream",
     "text": [
      "\b\b\b\b\b\b\b\b\b\b\b\b\b\b\b\b\b\b\b\b\b\b\b\b\b\b\b\b\b\b\b\b\b\b\b\b\b\b\b\b\b\b\b\b\b\b\b\b\b\b\b\b\b\b\b\b\b\b\b\b\b\b\b\b\b\b\b\b\b\b\b\b\b\b\b\b\b\b\b\b\r",
      "9/9 [==============================] - 0s 4ms/step - loss: 0.5442 - accuracy: 0.7412 - val_loss: 0.5279 - val_accuracy: 0.7556\n"
     ]
    },
    {
     "name": "stdout",
     "output_type": "stream",
     "text": [
      "Epoch 96/400\n"
     ]
    },
    {
     "name": "stdout",
     "output_type": "stream",
     "text": [
      "\r",
      "1/9 [==>...........................] - ETA: 0s - loss: 0.5748 - accuracy: 0.6667"
     ]
    },
    {
     "name": "stdout",
     "output_type": "stream",
     "text": [
      "\b\b\b\b\b\b\b\b\b\b\b\b\b\b\b\b\b\b\b\b\b\b\b\b\b\b\b\b\b\b\b\b\b\b\b\b\b\b\b\b\b\b\b\b\b\b\b\b\b\b\b\b\b\b\b\b\b\b\b\b\b\b\b\b\b\b\b\b\b\b\b\b\b\b\b\b\b\b\b\b\r",
      "9/9 [==============================] - 0s 7ms/step - loss: 0.5436 - accuracy: 0.7412 - val_loss: 0.5276 - val_accuracy: 0.7556\n"
     ]
    },
    {
     "name": "stdout",
     "output_type": "stream",
     "text": [
      "Epoch 97/400\n"
     ]
    },
    {
     "name": "stdout",
     "output_type": "stream",
     "text": [
      "\r",
      "1/9 [==>...........................] - ETA: 0s - loss: 0.4375 - accuracy: 0.8333"
     ]
    },
    {
     "name": "stdout",
     "output_type": "stream",
     "text": [
      "\b\b\b\b\b\b\b\b\b\b\b\b\b\b\b\b\b\b\b\b\b\b\b\b\b\b\b\b\b\b\b\b\b\b\b\b\b\b\b\b\b\b\b\b\b\b\b\b\b\b\b\b\b\b\b\b\b\b\b\b\b\b\b\b\b\b\b\b\b\b\b\b\b\b\b\b\b\b\b\b\r",
      "9/9 [==============================] - 0s 6ms/step - loss: 0.5429 - accuracy: 0.7373 - val_loss: 0.5265 - val_accuracy: 0.7333\n"
     ]
    },
    {
     "name": "stdout",
     "output_type": "stream",
     "text": [
      "Epoch 98/400\n"
     ]
    },
    {
     "name": "stdout",
     "output_type": "stream",
     "text": [
      "\r",
      "1/9 [==>...........................] - ETA: 0s - loss: 0.5923 - accuracy: 0.7000"
     ]
    },
    {
     "name": "stdout",
     "output_type": "stream",
     "text": [
      "\b\b\b\b\b\b\b\b\b\b\b\b\b\b\b\b\b\b\b\b\b\b\b\b\b\b\b\b\b\b\b\b\b\b\b\b\b\b\b\b\b\b\b\b\b\b\b\b\b\b\b\b\b\b\b\b\b\b\b\b\b\b\b\b\b\b\b\b\b\b\b\b\b\b\b\b\b\b\b\b\r",
      "9/9 [==============================] - 0s 7ms/step - loss: 0.5423 - accuracy: 0.7373 - val_loss: 0.5261 - val_accuracy: 0.7333\n"
     ]
    },
    {
     "name": "stdout",
     "output_type": "stream",
     "text": [
      "Epoch 99/400\n"
     ]
    },
    {
     "name": "stdout",
     "output_type": "stream",
     "text": [
      "\r",
      "1/9 [==>...........................] - ETA: 0s - loss: 0.5700 - accuracy: 0.7000"
     ]
    },
    {
     "name": "stdout",
     "output_type": "stream",
     "text": [
      "\b\b\b\b\b\b\b\b\b\b\b\b\b\b\b\b\b\b\b\b\b\b\b\b\b\b\b\b\b\b\b\b\b\b\b\b\b\b\b\b\b\b\b\b\b\b\b\b\b\b\b\b\b\b\b\b\b\b\b\b\b\b\b\b\b\b\b\b\b\b\b\b\b\b\b\b\b\b\b\b\r",
      "9/9 [==============================] - 0s 6ms/step - loss: 0.5418 - accuracy: 0.7373 - val_loss: 0.5263 - val_accuracy: 0.7333\n"
     ]
    },
    {
     "name": "stdout",
     "output_type": "stream",
     "text": [
      "Epoch 100/400\n"
     ]
    },
    {
     "name": "stdout",
     "output_type": "stream",
     "text": [
      "\r",
      "1/9 [==>...........................] - ETA: 0s - loss: 0.6325 - accuracy: 0.6667"
     ]
    },
    {
     "name": "stdout",
     "output_type": "stream",
     "text": [
      "\b\b\b\b\b\b\b\b\b\b\b\b\b\b\b\b\b\b\b\b\b\b\b\b\b\b\b\b\b\b\b\b\b\b\b\b\b\b\b\b\b\b\b\b\b\b\b\b\b\b\b\b\b\b\b\b\b\b\b\b\b\b\b\b\b\b\b\b\b\b\b\b\b\b\b\b\b\b\b\b\r",
      "9/9 [==============================] - 0s 6ms/step - loss: 0.5411 - accuracy: 0.7412 - val_loss: 0.5257 - val_accuracy: 0.7333\n"
     ]
    },
    {
     "name": "stdout",
     "output_type": "stream",
     "text": [
      "Epoch 101/400\n"
     ]
    },
    {
     "name": "stdout",
     "output_type": "stream",
     "text": [
      "\r",
      "1/9 [==>...........................] - ETA: 0s - loss: 0.4677 - accuracy: 0.8333"
     ]
    },
    {
     "name": "stdout",
     "output_type": "stream",
     "text": [
      "\b\b\b\b\b\b\b\b\b\b\b\b\b\b\b\b\b\b\b\b\b\b\b\b\b\b\b\b\b\b\b\b\b\b\b\b\b\b\b\b\b\b\b\b\b\b\b\b\b\b\b\b\b\b\b\b\b\b\b\b\b\b\b\b\b\b\b\b\b\b\b\b\b\b\b\b\b\b\b\b\r",
      "9/9 [==============================] - 0s 6ms/step - loss: 0.5405 - accuracy: 0.7412 - val_loss: 0.5254 - val_accuracy: 0.7333\n"
     ]
    },
    {
     "name": "stdout",
     "output_type": "stream",
     "text": [
      "Epoch 102/400\n"
     ]
    },
    {
     "name": "stdout",
     "output_type": "stream",
     "text": [
      "\r",
      "1/9 [==>...........................] - ETA: 0s - loss: 0.5839 - accuracy: 0.5667"
     ]
    },
    {
     "name": "stdout",
     "output_type": "stream",
     "text": [
      "\b\b\b\b\b\b\b\b\b\b\b\b\b\b\b\b\b\b\b\b\b\b\b\b\b\b\b\b\b\b\b\b\b\b\b\b\b\b\b\b\b\b\b\b\b\b\b\b\b\b\b\b\b\b\b\b\b\b\b\b\b\b\b\b\b\b\b\b\b\b\b\b\b\b\b\b\b\b\b\b\r",
      "9/9 [==============================] - 0s 5ms/step - loss: 0.5398 - accuracy: 0.7451 - val_loss: 0.5255 - val_accuracy: 0.7333\n"
     ]
    },
    {
     "name": "stdout",
     "output_type": "stream",
     "text": [
      "Epoch 103/400\n"
     ]
    },
    {
     "name": "stdout",
     "output_type": "stream",
     "text": [
      "\r",
      "1/9 [==>...........................] - ETA: 0s - loss: 0.6576 - accuracy: 0.6333"
     ]
    },
    {
     "name": "stdout",
     "output_type": "stream",
     "text": [
      "\b\b\b\b\b\b\b\b\b\b\b\b\b\b\b\b\b\b\b\b\b\b\b\b\b\b\b\b\b\b\b\b\b\b\b\b\b\b\b\b\b\b\b\b\b\b\b\b\b\b\b\b\b\b\b\b\b\b\b\b\b\b\b\b\b\b\b\b\b\b\b\b\b\b\b\b\b\b\b\b\r",
      "9/9 [==============================] - 0s 6ms/step - loss: 0.5395 - accuracy: 0.7451 - val_loss: 0.5258 - val_accuracy: 0.7333\n"
     ]
    },
    {
     "name": "stdout",
     "output_type": "stream",
     "text": [
      "Epoch 104/400\n"
     ]
    },
    {
     "name": "stdout",
     "output_type": "stream",
     "text": [
      "\r",
      "1/9 [==>...........................] - ETA: 0s - loss: 0.4343 - accuracy: 0.8333"
     ]
    },
    {
     "name": "stdout",
     "output_type": "stream",
     "text": [
      "\b\b\b\b\b\b\b\b\b\b\b\b\b\b\b\b\b\b\b\b\b\b\b\b\b\b\b\b\b\b\b\b\b\b\b\b\b\b\b\b\b\b\b\b\b\b\b\b\b\b\b\b\b\b\b\b\b\b\b\b\b\b\b\b\b\b\b\b\b\b\b\b\b\b\b\b\b\b\b\b\r",
      "9/9 [==============================] - 0s 5ms/step - loss: 0.5388 - accuracy: 0.7451 - val_loss: 0.5252 - val_accuracy: 0.7333\n"
     ]
    },
    {
     "name": "stdout",
     "output_type": "stream",
     "text": [
      "Epoch 105/400\n"
     ]
    },
    {
     "name": "stdout",
     "output_type": "stream",
     "text": [
      "\r",
      "1/9 [==>...........................] - ETA: 0s - loss: 0.5029 - accuracy: 0.8000"
     ]
    },
    {
     "name": "stdout",
     "output_type": "stream",
     "text": [
      "\b\b\b\b\b\b\b\b\b\b\b\b\b\b\b\b\b\b\b\b\b\b\b\b\b\b\b\b\b\b\b\b\b\b\b\b\b\b\b\b\b\b\b\b\b\b\b\b\b\b\b\b\b\b\b\b\b\b\b\b\b\b\b\b\b\b\b\b\b\b\b\b\b\b\b\b\b\b\b\b\r",
      "9/9 [==============================] - 0s 5ms/step - loss: 0.5381 - accuracy: 0.7451 - val_loss: 0.5248 - val_accuracy: 0.7333\n"
     ]
    },
    {
     "name": "stdout",
     "output_type": "stream",
     "text": [
      "Epoch 106/400\n"
     ]
    },
    {
     "name": "stdout",
     "output_type": "stream",
     "text": [
      "\r",
      "1/9 [==>...........................] - ETA: 0s - loss: 0.5843 - accuracy: 0.6667"
     ]
    },
    {
     "name": "stdout",
     "output_type": "stream",
     "text": [
      "\b\b\b\b\b\b\b\b\b\b\b\b\b\b\b\b\b\b\b\b\b\b\b\b\b\b\b\b\b\b\b\b\b\b\b\b\b\b\b\b\b\b\b\b\b\b\b\b\b\b\b\b\b\b\b\b\b\b\b\b\b\b\b\b\b\b\b\b\b\b\b\b\b\b\b\b\b\b\b\b\r",
      "9/9 [==============================] - 0s 5ms/step - loss: 0.5375 - accuracy: 0.7451 - val_loss: 0.5243 - val_accuracy: 0.7333\n"
     ]
    },
    {
     "name": "stdout",
     "output_type": "stream",
     "text": [
      "Epoch 107/400\n"
     ]
    },
    {
     "name": "stdout",
     "output_type": "stream",
     "text": [
      "\r",
      "1/9 [==>...........................] - ETA: 0s - loss: 0.4997 - accuracy: 0.7000"
     ]
    },
    {
     "name": "stdout",
     "output_type": "stream",
     "text": [
      "\b\b\b\b\b\b\b\b\b\b\b\b\b\b\b\b\b\b\b\b\b\b\b\b\b\b\b\b\b\b\b\b\b\b\b\b\b\b\b\b\b\b\b\b\b\b\b\b\b\b\b\b\b\b\b\b\b\b\b\b\b\b\b\b\b\b\b\b\b\b\b\b\b\b\b\b\b\b\b\b\r",
      "9/9 [==============================] - 0s 5ms/step - loss: 0.5370 - accuracy: 0.7451 - val_loss: 0.5245 - val_accuracy: 0.7333\n"
     ]
    },
    {
     "name": "stdout",
     "output_type": "stream",
     "text": [
      "Epoch 108/400\n"
     ]
    },
    {
     "name": "stdout",
     "output_type": "stream",
     "text": [
      "\r",
      "1/9 [==>...........................] - ETA: 0s - loss: 0.4663 - accuracy: 0.8000"
     ]
    },
    {
     "name": "stdout",
     "output_type": "stream",
     "text": [
      "\b\b\b\b\b\b\b\b\b\b\b\b\b\b\b\b\b\b\b\b\b\b\b\b\b\b\b\b\b\b\b\b\b\b\b\b\b\b\b\b\b\b\b\b\b\b\b\b\b\b\b\b\b\b\b\b\b\b\b\b\b\b\b\b\b\b\b\b\b\b\b\b\b\b\b\b\b\b\b\b\r",
      "9/9 [==============================] - 0s 6ms/step - loss: 0.5365 - accuracy: 0.7490 - val_loss: 0.5239 - val_accuracy: 0.7333\n"
     ]
    },
    {
     "name": "stdout",
     "output_type": "stream",
     "text": [
      "Epoch 109/400\n"
     ]
    },
    {
     "name": "stdout",
     "output_type": "stream",
     "text": [
      "\r",
      "1/9 [==>...........................] - ETA: 0s - loss: 0.5224 - accuracy: 0.7000"
     ]
    },
    {
     "name": "stdout",
     "output_type": "stream",
     "text": [
      "\b\b\b\b\b\b\b\b\b\b\b\b\b\b\b\b\b\b\b\b\b\b\b\b\b\b\b\b\b\b\b\b\b\b\b\b\b\b\b\b\b\b\b\b\b\b\b\b\b\b\b\b\b\b\b\b\b\b\b\b\b\b\b\b\b\b\b\b\b\b\b\b\b\b\b\b\b\b\b\b\r",
      "9/9 [==============================] - 0s 5ms/step - loss: 0.5360 - accuracy: 0.7490 - val_loss: 0.5243 - val_accuracy: 0.7333\n"
     ]
    },
    {
     "name": "stdout",
     "output_type": "stream",
     "text": [
      "Epoch 110/400\n"
     ]
    },
    {
     "name": "stdout",
     "output_type": "stream",
     "text": [
      "\r",
      "1/9 [==>...........................] - ETA: 0s - loss: 0.6624 - accuracy: 0.6667"
     ]
    },
    {
     "name": "stdout",
     "output_type": "stream",
     "text": [
      "\b\b\b\b\b\b\b\b\b\b\b\b\b\b\b\b\b\b\b\b\b\b\b\b\b\b\b\b\b\b\b\b\b\b\b\b\b\b\b\b\b\b\b\b\b\b\b\b\b\b\b\b\b\b\b\b\b\b\b\b\b\b\b\b\b\b\b\b\b\b\b\b\b\b\b\b\b\b\b\b\r",
      "9/9 [==============================] - 0s 5ms/step - loss: 0.5352 - accuracy: 0.7490 - val_loss: 0.5241 - val_accuracy: 0.7333\n"
     ]
    },
    {
     "name": "stdout",
     "output_type": "stream",
     "text": [
      "Epoch 111/400\n"
     ]
    },
    {
     "name": "stdout",
     "output_type": "stream",
     "text": [
      "\r",
      "1/9 [==>...........................] - ETA: 0s - loss: 0.4970 - accuracy: 0.8000"
     ]
    },
    {
     "name": "stdout",
     "output_type": "stream",
     "text": [
      "\b\b\b\b\b\b\b\b\b\b\b\b\b\b\b\b\b\b\b\b\b\b\b\b\b\b\b\b\b\b\b\b\b\b\b\b\b\b\b\b\b\b\b\b\b\b\b\b\b\b\b\b\b\b\b\b\b\b\b\b\b\b\b\b\b\b\b\b\b\b\b\b\b\b\b\b\b\b\b\b\r",
      "9/9 [==============================] - 0s 7ms/step - loss: 0.5346 - accuracy: 0.7490 - val_loss: 0.5235 - val_accuracy: 0.7333\n"
     ]
    },
    {
     "name": "stdout",
     "output_type": "stream",
     "text": [
      "Epoch 112/400\n"
     ]
    },
    {
     "name": "stdout",
     "output_type": "stream",
     "text": [
      "\r",
      "1/9 [==>...........................] - ETA: 0s - loss: 0.5748 - accuracy: 0.7333"
     ]
    },
    {
     "name": "stdout",
     "output_type": "stream",
     "text": [
      "\b\b\b\b\b\b\b\b\b\b\b\b\b\b\b\b\b\b\b\b\b\b\b\b\b\b\b\b\b\b\b\b\b\b\b\b\b\b\b\b\b\b\b\b\b\b\b\b\b\b\b\b\b\b\b\b\b\b\b\b\b\b\b\b\b\b\b\b\b\b\b\b\b\b\b\b\b\b\b\b\r",
      "9/9 [==============================] - 0s 7ms/step - loss: 0.5341 - accuracy: 0.7490 - val_loss: 0.5235 - val_accuracy: 0.7333\n"
     ]
    },
    {
     "name": "stdout",
     "output_type": "stream",
     "text": [
      "Epoch 113/400\n"
     ]
    },
    {
     "name": "stdout",
     "output_type": "stream",
     "text": [
      "\r",
      "1/9 [==>...........................] - ETA: 0s - loss: 0.5983 - accuracy: 0.6667"
     ]
    },
    {
     "name": "stdout",
     "output_type": "stream",
     "text": [
      "\b\b\b\b\b\b\b\b\b\b\b\b\b\b\b\b\b\b\b\b\b\b\b\b\b\b\b\b\b\b\b\b\b\b\b\b\b\b\b\b\b\b\b\b\b\b\b\b\b\b\b\b\b\b\b\b\b\b\b\b\b\b\b\b\b\b\b\b\b\b\b\b\b\b\b\b\b\b\b\b\r",
      "9/9 [==============================] - 0s 9ms/step - loss: 0.5336 - accuracy: 0.7490 - val_loss: 0.5233 - val_accuracy: 0.7333\n"
     ]
    },
    {
     "name": "stdout",
     "output_type": "stream",
     "text": [
      "Epoch 114/400\n"
     ]
    },
    {
     "name": "stdout",
     "output_type": "stream",
     "text": [
      "\r",
      "1/9 [==>...........................] - ETA: 0s - loss: 0.5576 - accuracy: 0.7333"
     ]
    },
    {
     "name": "stdout",
     "output_type": "stream",
     "text": [
      "\b\b\b\b\b\b\b\b\b\b\b\b\b\b\b\b\b\b\b\b\b\b\b\b\b\b\b\b\b\b\b\b\b\b\b\b\b\b\b\b\b\b\b\b\b\b\b\b\b\b\b\b\b\b\b\b\b\b\b\b\b\b\b\b\b\b\b\b\b\b\b\b\b\b\b\b\b\b\b\b\r",
      "9/9 [==============================] - 0s 10ms/step - loss: 0.5330 - accuracy: 0.7490 - val_loss: 0.5233 - val_accuracy: 0.7333\n"
     ]
    },
    {
     "name": "stdout",
     "output_type": "stream",
     "text": [
      "Epoch 115/400\n"
     ]
    },
    {
     "name": "stdout",
     "output_type": "stream",
     "text": [
      "\r",
      "1/9 [==>...........................] - ETA: 0s - loss: 0.4919 - accuracy: 0.7667"
     ]
    },
    {
     "name": "stdout",
     "output_type": "stream",
     "text": [
      "\b\b\b\b\b\b\b\b\b\b\b\b\b\b\b\b\b\b\b\b\b\b\b\b\b\b\b\b\b\b\b\b\b\b\b\b\b\b\b\b\b\b\b\b\b\b\b\b\b\b\b\b\b\b\b\b\b\b\b\b\b\b\b\b\b\b\b\b\b\b\b\b\b\b\b\b\b\b\b\b\r",
      "9/9 [==============================] - 0s 5ms/step - loss: 0.5324 - accuracy: 0.7490 - val_loss: 0.5233 - val_accuracy: 0.7333\n"
     ]
    },
    {
     "name": "stdout",
     "output_type": "stream",
     "text": [
      "Epoch 116/400\n"
     ]
    },
    {
     "name": "stdout",
     "output_type": "stream",
     "text": [
      "\r",
      "1/9 [==>...........................] - ETA: 0s - loss: 0.4149 - accuracy: 0.8667"
     ]
    },
    {
     "name": "stdout",
     "output_type": "stream",
     "text": [
      "\b\b\b\b\b\b\b\b\b\b\b\b\b\b\b\b\b\b\b\b\b\b\b\b\b\b\b\b\b\b\b\b\b\b\b\b\b\b\b\b\b\b\b\b\b\b\b\b\b\b\b\b\b\b\b\b\b\b\b\b\b\b\b\b\b\b\b\b\b\b\b\b\b\b\b\b\b\b\b\b\r",
      "9/9 [==============================] - 0s 5ms/step - loss: 0.5319 - accuracy: 0.7490 - val_loss: 0.5233 - val_accuracy: 0.7333\n"
     ]
    },
    {
     "name": "stdout",
     "output_type": "stream",
     "text": [
      "Epoch 117/400\n"
     ]
    },
    {
     "name": "stdout",
     "output_type": "stream",
     "text": [
      "\r",
      "1/9 [==>...........................] - ETA: 0s - loss: 0.6548 - accuracy: 0.5667"
     ]
    },
    {
     "name": "stdout",
     "output_type": "stream",
     "text": [
      "\b\b\b\b\b\b\b\b\b\b\b\b\b\b\b\b\b\b\b\b\b\b\b\b\b\b\b\b\b\b\b\b\b\b\b\b\b\b\b\b\b\b\b\b\b\b\b\b\b\b\b\b\b\b\b\b\b\b\b\b\b\b\b\b\b\b\b\b\b\b\b\b\b\b\b\b\b\b\b\b\r",
      "9/9 [==============================] - 0s 5ms/step - loss: 0.5315 - accuracy: 0.7490 - val_loss: 0.5229 - val_accuracy: 0.7333\n"
     ]
    },
    {
     "name": "stdout",
     "output_type": "stream",
     "text": [
      "Epoch 118/400\n"
     ]
    },
    {
     "name": "stdout",
     "output_type": "stream",
     "text": [
      "\r",
      "1/9 [==>...........................] - ETA: 0s - loss: 0.4992 - accuracy: 0.6667"
     ]
    },
    {
     "name": "stdout",
     "output_type": "stream",
     "text": [
      "\b\b\b\b\b\b\b\b\b\b\b\b\b\b\b\b\b\b\b\b\b\b\b\b\b\b\b\b\b\b\b\b\b\b\b\b\b\b\b\b\b\b\b\b\b\b\b\b\b\b\b\b\b\b\b\b\b\b\b\b\b\b\b\b\b\b\b\b\b\b\b\b\b\b\b\b\b\b\b\b\r",
      "9/9 [==============================] - 0s 4ms/step - loss: 0.5309 - accuracy: 0.7490 - val_loss: 0.5233 - val_accuracy: 0.7556\n"
     ]
    },
    {
     "name": "stdout",
     "output_type": "stream",
     "text": [
      "Epoch 119/400\n"
     ]
    },
    {
     "name": "stdout",
     "output_type": "stream",
     "text": [
      "\r",
      "1/9 [==>...........................] - ETA: 0s - loss: 0.5373 - accuracy: 0.7333"
     ]
    },
    {
     "name": "stdout",
     "output_type": "stream",
     "text": [
      "\b\b\b\b\b\b\b\b\b\b\b\b\b\b\b\b\b\b\b\b\b\b\b\b\b\b\b\b\b\b\b\b\b\b\b\b\b\b\b\b\b\b\b\b\b\b\b\b\b\b\b\b\b\b\b\b\b\b\b\b\b\b\b\b\b\b\b\b\b\b\b\b\b\b\b\b\b\b\b\b\r",
      "9/9 [==============================] - 0s 4ms/step - loss: 0.5302 - accuracy: 0.7490 - val_loss: 0.5231 - val_accuracy: 0.7556\n"
     ]
    },
    {
     "name": "stdout",
     "output_type": "stream",
     "text": [
      "Epoch 120/400\n"
     ]
    },
    {
     "name": "stdout",
     "output_type": "stream",
     "text": [
      "\r",
      "1/9 [==>...........................] - ETA: 0s - loss: 0.5358 - accuracy: 0.7333"
     ]
    },
    {
     "name": "stdout",
     "output_type": "stream",
     "text": [
      "\b\b\b\b\b\b\b\b\b\b\b\b\b\b\b\b\b\b\b\b\b\b\b\b\b\b\b\b\b\b\b\b\b\b\b\b\b\b\b\b\b\b\b\b\b\b\b\b\b\b\b\b\b\b\b\b\b\b\b\b\b\b\b\b\b\b\b\b\b\b\b\b\b\b\b\b\b\b\b\b\r",
      "9/9 [==============================] - 0s 5ms/step - loss: 0.5298 - accuracy: 0.7490 - val_loss: 0.5229 - val_accuracy: 0.7333\n"
     ]
    },
    {
     "name": "stdout",
     "output_type": "stream",
     "text": [
      "Epoch 121/400\n"
     ]
    },
    {
     "name": "stdout",
     "output_type": "stream",
     "text": [
      "\r",
      "1/9 [==>...........................] - ETA: 0s - loss: 0.5519 - accuracy: 0.7667"
     ]
    },
    {
     "name": "stdout",
     "output_type": "stream",
     "text": [
      "\b\b\b\b\b\b\b\b\b\b\b\b\b\b\b\b\b\b\b\b\b\b\b\b\b\b\b\b\b\b\b\b\b\b\b\b\b\b\b\b\b\b\b\b\b\b\b\b\b\b\b\b\b\b\b\b\b\b\b\b\b\b\b\b\b\b\b\b\b\b\b\b\b\b\b\b\b\b\b\b\r",
      "9/9 [==============================] - 0s 6ms/step - loss: 0.5292 - accuracy: 0.7490 - val_loss: 0.5228 - val_accuracy: 0.7556\n"
     ]
    },
    {
     "name": "stdout",
     "output_type": "stream",
     "text": [
      "Epoch 122/400\n"
     ]
    },
    {
     "name": "stdout",
     "output_type": "stream",
     "text": [
      "\r",
      "1/9 [==>...........................] - ETA: 0s - loss: 0.5463 - accuracy: 0.6333"
     ]
    },
    {
     "name": "stdout",
     "output_type": "stream",
     "text": [
      "\b\b\b\b\b\b\b\b\b\b\b\b\b\b\b\b\b\b\b\b\b\b\b\b\b\b\b\b\b\b\b\b\b\b\b\b\b\b\b\b\b\b\b\b\b\b\b\b\b\b\b\b\b\b\b\b\b\b\b\b\b\b\b\b\b\b\b\b\b\b\b\b\b\b\b\b\b\b\b\b\r",
      "9/9 [==============================] - 0s 6ms/step - loss: 0.5287 - accuracy: 0.7490 - val_loss: 0.5228 - val_accuracy: 0.7556\n"
     ]
    },
    {
     "name": "stdout",
     "output_type": "stream",
     "text": [
      "Epoch 123/400\n"
     ]
    },
    {
     "name": "stdout",
     "output_type": "stream",
     "text": [
      "\r",
      "1/9 [==>...........................] - ETA: 0s - loss: 0.5337 - accuracy: 0.7667"
     ]
    },
    {
     "name": "stdout",
     "output_type": "stream",
     "text": [
      "\b\b\b\b\b\b\b\b\b\b\b\b\b\b\b\b\b\b\b\b\b\b\b\b\b\b\b\b\b\b\b\b\b\b\b\b\b\b\b\b\b\b\b\b\b\b\b\b\b\b\b\b\b\b\b\b\b\b\b\b\b\b\b\b\b\b\b\b\b\b\b\b\b\b\b\b\b\b\b\b\r",
      "9/9 [==============================] - 0s 6ms/step - loss: 0.5281 - accuracy: 0.7490 - val_loss: 0.5230 - val_accuracy: 0.7556\n"
     ]
    },
    {
     "name": "stdout",
     "output_type": "stream",
     "text": [
      "Epoch 124/400\n"
     ]
    },
    {
     "name": "stdout",
     "output_type": "stream",
     "text": [
      "\r",
      "1/9 [==>...........................] - ETA: 0s - loss: 0.5116 - accuracy: 0.7667"
     ]
    },
    {
     "name": "stdout",
     "output_type": "stream",
     "text": [
      "\b\b\b\b\b\b\b\b\b\b\b\b\b\b\b\b\b\b\b\b\b\b\b\b\b\b\b\b\b\b\b\b\b\b\b\b\b\b\b\b\b\b\b\b\b\b\b\b\b\b\b\b\b\b\b\b\b\b\b\b\b\b\b\b\b\b\b\b\b\b\b\b\b\b\b\b\b\b\b\b\r",
      "9/9 [==============================] - 0s 5ms/step - loss: 0.5276 - accuracy: 0.7490 - val_loss: 0.5228 - val_accuracy: 0.7556\n"
     ]
    },
    {
     "name": "stdout",
     "output_type": "stream",
     "text": [
      "Epoch 125/400\n"
     ]
    },
    {
     "name": "stdout",
     "output_type": "stream",
     "text": [
      "\r",
      "1/9 [==>...........................] - ETA: 0s - loss: 0.6115 - accuracy: 0.7000"
     ]
    },
    {
     "name": "stdout",
     "output_type": "stream",
     "text": [
      "\b\b\b\b\b\b\b\b\b\b\b\b\b\b\b\b\b\b\b\b\b\b\b\b\b\b\b\b\b\b\b\b\b\b\b\b\b\b\b\b\b\b\b\b\b\b\b\b\b\b\b\b\b\b\b\b\b\b\b\b\b\b\b\b\b\b\b\b\b\b\b\b\b\b\b\b\b\b\b\b\r",
      "9/9 [==============================] - 0s 6ms/step - loss: 0.5271 - accuracy: 0.7490 - val_loss: 0.5229 - val_accuracy: 0.7556\n"
     ]
    },
    {
     "name": "stdout",
     "output_type": "stream",
     "text": [
      "Epoch 126/400\n"
     ]
    },
    {
     "name": "stdout",
     "output_type": "stream",
     "text": [
      "\r",
      "1/9 [==>...........................] - ETA: 0s - loss: 0.5494 - accuracy: 0.7000"
     ]
    },
    {
     "name": "stdout",
     "output_type": "stream",
     "text": [
      "\b\b\b\b\b\b\b\b\b\b\b\b\b\b\b\b\b\b\b\b\b\b\b\b\b\b\b\b\b\b\b\b\b\b\b\b\b\b\b\b\b\b\b\b\b\b\b\b\b\b\b\b\b\b\b\b\b\b\b\b\b\b\b\b\b\b\b\b\b\b\b\b\b\b\b\b\b\b\b\b\r",
      "9/9 [==============================] - 0s 6ms/step - loss: 0.5267 - accuracy: 0.7451 - val_loss: 0.5222 - val_accuracy: 0.7556\n"
     ]
    },
    {
     "name": "stdout",
     "output_type": "stream",
     "text": [
      "Epoch 127/400\n"
     ]
    },
    {
     "name": "stdout",
     "output_type": "stream",
     "text": [
      "\r",
      "1/9 [==>...........................] - ETA: 0s - loss: 0.4189 - accuracy: 0.8333"
     ]
    },
    {
     "name": "stdout",
     "output_type": "stream",
     "text": [
      "\b\b\b\b\b\b\b\b\b\b\b\b\b\b\b\b\b\b\b\b\b\b\b\b\b\b\b\b\b\b\b\b\b\b\b\b\b\b\b\b\b\b\b\b\b\b\b\b\b\b\b\b\b\b\b\b\b\b\b\b\b\b\b\b\b\b\b\b\b\b\b\b\b\b\b\b\b\b\b\b\r",
      "9/9 [==============================] - 0s 5ms/step - loss: 0.5261 - accuracy: 0.7490 - val_loss: 0.5217 - val_accuracy: 0.7333\n"
     ]
    },
    {
     "name": "stdout",
     "output_type": "stream",
     "text": [
      "Epoch 128/400\n"
     ]
    },
    {
     "name": "stdout",
     "output_type": "stream",
     "text": [
      "\r",
      "1/9 [==>...........................] - ETA: 0s - loss: 0.5050 - accuracy: 0.6667"
     ]
    },
    {
     "name": "stdout",
     "output_type": "stream",
     "text": [
      "\b\b\b\b\b\b\b\b\b\b\b\b\b\b\b\b\b\b\b\b\b\b\b\b\b\b\b\b\b\b\b\b\b\b\b\b\b\b\b\b\b\b\b\b\b\b\b\b\b\b\b\b\b\b\b\b\b\b\b\b\b\b\b\b\b\b\b\b\b\b\b\b\b\b\b\b\b\b\b\b\r",
      "9/9 [==============================] - 0s 6ms/step - loss: 0.5256 - accuracy: 0.7490 - val_loss: 0.5218 - val_accuracy: 0.7556\n"
     ]
    },
    {
     "name": "stdout",
     "output_type": "stream",
     "text": [
      "Epoch 129/400\n"
     ]
    },
    {
     "name": "stdout",
     "output_type": "stream",
     "text": [
      "\r",
      "1/9 [==>...........................] - ETA: 0s - loss: 0.5755 - accuracy: 0.7333"
     ]
    },
    {
     "name": "stdout",
     "output_type": "stream",
     "text": [
      "\b\b\b\b\b\b\b\b\b\b\b\b\b\b\b\b\b\b\b\b\b\b\b\b\b\b\b\b\b\b\b\b\b\b\b\b\b\b\b\b\b\b\b\b\b\b\b\b\b\b\b\b\b\b\b\b\b\b\b\b\b\b\b\b\b\b\b\b\b\b\b\b\b\b\b\b\b\b\b\b\r",
      "9/9 [==============================] - 0s 6ms/step - loss: 0.5251 - accuracy: 0.7490 - val_loss: 0.5218 - val_accuracy: 0.7556\n"
     ]
    },
    {
     "name": "stdout",
     "output_type": "stream",
     "text": [
      "Epoch 130/400\n"
     ]
    },
    {
     "name": "stdout",
     "output_type": "stream",
     "text": [
      "\r",
      "1/9 [==>...........................] - ETA: 0s - loss: 0.4861 - accuracy: 0.8000"
     ]
    },
    {
     "name": "stdout",
     "output_type": "stream",
     "text": [
      "\b\b\b\b\b\b\b\b\b\b\b\b\b\b\b\b\b\b\b\b\b\b\b\b\b\b\b\b\b\b\b\b\b\b\b\b\b\b\b\b\b\b\b\b\b\b\b\b\b\b\b\b\b\b\b\b\b\b\b\b\b\b\b\b\b\b\b\b\b\b\b\b\b\b\b\b\b\b\b\b\r",
      "9/9 [==============================] - 0s 9ms/step - loss: 0.5247 - accuracy: 0.7490 - val_loss: 0.5219 - val_accuracy: 0.7556\n"
     ]
    },
    {
     "name": "stdout",
     "output_type": "stream",
     "text": [
      "Epoch 131/400\n"
     ]
    },
    {
     "name": "stdout",
     "output_type": "stream",
     "text": [
      "\r",
      "1/9 [==>...........................] - ETA: 0s - loss: 0.5366 - accuracy: 0.8000"
     ]
    },
    {
     "name": "stdout",
     "output_type": "stream",
     "text": [
      "\b\b\b\b\b\b\b\b\b\b\b\b\b\b\b\b\b\b\b\b\b\b\b\b\b\b\b\b\b\b\b\b\b\b\b\b\b\b\b\b\b\b\b\b\b\b\b\b\b\b\b\b\b\b\b\b\b\b\b\b\b\b\b\b\b\b\b\b\b\b\b\b\b\b\b\b\b\b\b\b\r",
      "9/9 [==============================] - 0s 6ms/step - loss: 0.5241 - accuracy: 0.7451 - val_loss: 0.5217 - val_accuracy: 0.7556\n"
     ]
    },
    {
     "name": "stdout",
     "output_type": "stream",
     "text": [
      "Epoch 132/400\n"
     ]
    },
    {
     "name": "stdout",
     "output_type": "stream",
     "text": [
      "\r",
      "1/9 [==>...........................] - ETA: 0s - loss: 0.4590 - accuracy: 0.8333"
     ]
    },
    {
     "name": "stdout",
     "output_type": "stream",
     "text": [
      "\b\b\b\b\b\b\b\b\b\b\b\b\b\b\b\b\b\b\b\b\b\b\b\b\b\b\b\b\b\b\b\b\b\b\b\b\b\b\b\b\b\b\b\b\b\b\b\b\b\b\b\b\b\b\b\b\b\b\b\b\b\b\b\b\b\b\b\b\b\b\b\b\b\b\b\b\b\b\b\b\r",
      "9/9 [==============================] - 0s 5ms/step - loss: 0.5240 - accuracy: 0.7451 - val_loss: 0.5222 - val_accuracy: 0.7556\n"
     ]
    },
    {
     "name": "stdout",
     "output_type": "stream",
     "text": [
      "Epoch 133/400\n"
     ]
    },
    {
     "name": "stdout",
     "output_type": "stream",
     "text": [
      "\r",
      "1/9 [==>...........................] - ETA: 0s - loss: 0.5724 - accuracy: 0.7000"
     ]
    },
    {
     "name": "stdout",
     "output_type": "stream",
     "text": [
      "\b\b\b\b\b\b\b\b\b\b\b\b\b\b\b\b\b\b\b\b\b\b\b\b\b\b\b\b\b\b\b\b\b\b\b\b\b\b\b\b\b\b\b\b\b\b\b\b\b\b\b\b\b\b\b\b\b\b\b\b\b\b\b\b\b\b\b\b\b\b\b\b\b\b\b\b\b\b\b\b\r",
      "9/9 [==============================] - 0s 4ms/step - loss: 0.5231 - accuracy: 0.7490 - val_loss: 0.5218 - val_accuracy: 0.7556\n"
     ]
    },
    {
     "name": "stdout",
     "output_type": "stream",
     "text": [
      "Epoch 134/400\n"
     ]
    },
    {
     "name": "stdout",
     "output_type": "stream",
     "text": [
      "\r",
      "1/9 [==>...........................] - ETA: 0s - loss: 0.6160 - accuracy: 0.6333"
     ]
    },
    {
     "name": "stdout",
     "output_type": "stream",
     "text": [
      "\b\b\b\b\b\b\b\b\b\b\b\b\b\b\b\b\b\b\b\b\b\b\b\b\b\b\b\b\b\b\b\b\b\b\b\b\b\b\b\b\b\b\b\b\b\b\b\b\b\b\b\b\b\b\b\b\b\b\b\b\b\b\b\b\b\b\b\b\b\b\b\b\b\b\b\b\b\b\b\b\r",
      "9/9 [==============================] - 0s 6ms/step - loss: 0.5226 - accuracy: 0.7490 - val_loss: 0.5214 - val_accuracy: 0.7556\n"
     ]
    },
    {
     "name": "stdout",
     "output_type": "stream",
     "text": [
      "Epoch 135/400\n"
     ]
    },
    {
     "name": "stdout",
     "output_type": "stream",
     "text": [
      "\r",
      "1/9 [==>...........................] - ETA: 0s - loss: 0.5697 - accuracy: 0.8000"
     ]
    },
    {
     "name": "stdout",
     "output_type": "stream",
     "text": [
      "\b\b\b\b\b\b\b\b\b\b\b\b\b\b\b\b\b\b\b\b\b\b\b\b\b\b\b\b\b\b\b\b\b\b\b\b\b\b\b\b\b\b\b\b\b\b\b\b\b\b\b\b\b\b\b\b\b\b\b\b\b\b\b\b\b\b\b\b\b\b\b\b\b\b\b\b\b\b\b\b\r",
      "9/9 [==============================] - 0s 8ms/step - loss: 0.5221 - accuracy: 0.7490 - val_loss: 0.5210 - val_accuracy: 0.7556\n"
     ]
    },
    {
     "name": "stdout",
     "output_type": "stream",
     "text": [
      "Epoch 136/400\n"
     ]
    },
    {
     "name": "stdout",
     "output_type": "stream",
     "text": [
      "\r",
      "1/9 [==>...........................] - ETA: 0s - loss: 0.5098 - accuracy: 0.8333"
     ]
    },
    {
     "name": "stdout",
     "output_type": "stream",
     "text": [
      "\b\b\b\b\b\b\b\b\b\b\b\b\b\b\b\b\b\b\b\b\b\b\b\b\b\b\b\b\b\b\b\b\b\b\b\b\b\b\b\b\b\b\b\b\b\b\b\b\b\b\b\b\b\b\b\b\b\b\b\b\b\b\b\b\b\b\b\b\b\b\b\b\b\b\b\b\b\b\b\b\r",
      "9/9 [==============================] - 0s 10ms/step - loss: 0.5216 - accuracy: 0.7529 - val_loss: 0.5208 - val_accuracy: 0.7556\n"
     ]
    },
    {
     "name": "stdout",
     "output_type": "stream",
     "text": [
      "Epoch 137/400\n"
     ]
    },
    {
     "name": "stdout",
     "output_type": "stream",
     "text": [
      "\r",
      "1/9 [==>...........................] - ETA: 0s - loss: 0.5636 - accuracy: 0.7333"
     ]
    },
    {
     "name": "stdout",
     "output_type": "stream",
     "text": [
      "\b\b\b\b\b\b\b\b\b\b\b\b\b\b\b\b\b\b\b\b\b\b\b\b\b\b\b\b\b\b\b\b\b\b\b\b\b\b\b\b\b\b\b\b\b\b\b\b\b\b\b\b\b\b\b\b\b\b\b\b\b\b\b\b\b\b\b\b\b\b\b\b\b\b\b\b\b\b\b\b\r",
      "9/9 [==============================] - 0s 12ms/step - loss: 0.5212 - accuracy: 0.7529 - val_loss: 0.5205 - val_accuracy: 0.7556\n"
     ]
    },
    {
     "name": "stdout",
     "output_type": "stream",
     "text": [
      "Epoch 138/400\n"
     ]
    },
    {
     "name": "stdout",
     "output_type": "stream",
     "text": [
      "\r",
      "1/9 [==>...........................] - ETA: 0s - loss: 0.5715 - accuracy: 0.7333"
     ]
    },
    {
     "name": "stdout",
     "output_type": "stream",
     "text": [
      "\b\b\b\b\b\b\b\b\b\b\b\b\b\b\b\b\b\b\b\b\b\b\b\b\b\b\b\b\b\b\b\b\b\b\b\b\b\b\b\b\b\b\b\b\b\b\b\b\b\b\b\b\b\b\b\b\b\b\b\b\b\b\b\b\b\b\b\b\b\b\b\b\b\b\b\b\b\b\b\b\r",
      "9/9 [==============================] - 0s 11ms/step - loss: 0.5207 - accuracy: 0.7529 - val_loss: 0.5204 - val_accuracy: 0.7556\n"
     ]
    },
    {
     "name": "stdout",
     "output_type": "stream",
     "text": [
      "Epoch 139/400\n"
     ]
    },
    {
     "name": "stdout",
     "output_type": "stream",
     "text": [
      "\r",
      "1/9 [==>...........................] - ETA: 0s - loss: 0.4802 - accuracy: 0.8333"
     ]
    },
    {
     "name": "stdout",
     "output_type": "stream",
     "text": [
      "\b\b\b\b\b\b\b\b\b\b\b\b\b\b\b\b\b\b\b\b\b\b\b\b\b\b\b\b\b\b\b\b\b\b\b\b\b\b\b\b\b\b\b\b\b\b\b\b\b\b\b\b\b\b\b\b\b\b\b\b\b\b\b\b\b\b\b\b\b\b\b\b\b\b\b\b\b\b\b\b\r",
      "9/9 [==============================] - 0s 9ms/step - loss: 0.5202 - accuracy: 0.7529 - val_loss: 0.5200 - val_accuracy: 0.7556\n"
     ]
    },
    {
     "name": "stdout",
     "output_type": "stream",
     "text": [
      "Epoch 140/400\n"
     ]
    },
    {
     "name": "stdout",
     "output_type": "stream",
     "text": [
      "\r",
      "1/9 [==>...........................] - ETA: 0s - loss: 0.6212 - accuracy: 0.6333"
     ]
    },
    {
     "name": "stdout",
     "output_type": "stream",
     "text": [
      "\b\b\b\b\b\b\b\b\b\b\b\b\b\b\b\b\b\b\b\b\b\b\b\b\b\b\b\b\b\b\b\b\b\b\b\b\b\b\b\b\b\b\b\b\b\b\b\b\b\b\b\b\b\b\b\b\b\b\b\b\b\b\b\b\b\b\b\b\b\b\b\b\b\b\b\b\b\b\b\b\r",
      "9/9 [==============================] - 0s 8ms/step - loss: 0.5198 - accuracy: 0.7529 - val_loss: 0.5201 - val_accuracy: 0.7556\n"
     ]
    },
    {
     "name": "stdout",
     "output_type": "stream",
     "text": [
      "Epoch 141/400\n"
     ]
    },
    {
     "name": "stdout",
     "output_type": "stream",
     "text": [
      "\r",
      "1/9 [==>...........................] - ETA: 0s - loss: 0.5378 - accuracy: 0.6667"
     ]
    },
    {
     "name": "stdout",
     "output_type": "stream",
     "text": [
      "\b\b\b\b\b\b\b\b\b\b\b\b\b\b\b\b\b\b\b\b\b\b\b\b\b\b\b\b\b\b\b\b\b\b\b\b\b\b\b\b\b\b\b\b\b\b\b\b\b\b\b\b\b\b\b\b\b\b\b\b\b\b\b\b\b\b\b\b\b\b\b\b\b\b\b\b\b\b\b\b\r",
      "9/9 [==============================] - 0s 9ms/step - loss: 0.5193 - accuracy: 0.7529 - val_loss: 0.5195 - val_accuracy: 0.7556\n"
     ]
    },
    {
     "name": "stdout",
     "output_type": "stream",
     "text": [
      "Epoch 142/400\n"
     ]
    },
    {
     "name": "stdout",
     "output_type": "stream",
     "text": [
      "\r",
      "1/9 [==>...........................] - ETA: 0s - loss: 0.5707 - accuracy: 0.7000"
     ]
    },
    {
     "name": "stdout",
     "output_type": "stream",
     "text": [
      "\b\b\b\b\b\b\b\b\b\b\b\b\b\b\b\b\b\b\b\b\b\b\b\b\b\b\b\b\b\b\b\b\b\b\b\b\b\b\b\b\b\b\b\b\b\b\b\b\b\b\b\b\b\b\b\b\b\b\b\b\b\b\b\b\b\b\b\b\b\b\b\b\b\b\b\b\b\b\b\b\r",
      "9/9 [==============================] - 0s 5ms/step - loss: 0.5188 - accuracy: 0.7529 - val_loss: 0.5195 - val_accuracy: 0.7556\n"
     ]
    },
    {
     "name": "stdout",
     "output_type": "stream",
     "text": [
      "Epoch 143/400\n"
     ]
    },
    {
     "name": "stdout",
     "output_type": "stream",
     "text": [
      "\r",
      "1/9 [==>...........................] - ETA: 0s - loss: 0.5100 - accuracy: 0.7000"
     ]
    },
    {
     "name": "stdout",
     "output_type": "stream",
     "text": [
      "\b\b\b\b\b\b\b\b\b\b\b\b\b\b\b\b\b\b\b\b\b\b\b\b\b\b\b\b\b\b\b\b\b\b\b\b\b\b\b\b\b\b\b\b\b\b\b\b\b\b\b\b\b\b\b\b\b\b\b\b\b\b\b\b\b\b\b\b\b\b\b\b\b\b\b\b\b\b\b\b\r",
      "9/9 [==============================] - 0s 5ms/step - loss: 0.5184 - accuracy: 0.7529 - val_loss: 0.5190 - val_accuracy: 0.7333\n"
     ]
    },
    {
     "name": "stdout",
     "output_type": "stream",
     "text": [
      "Epoch 144/400\n"
     ]
    },
    {
     "name": "stdout",
     "output_type": "stream",
     "text": [
      "\r",
      "1/9 [==>...........................] - ETA: 0s - loss: 0.4536 - accuracy: 0.7667"
     ]
    },
    {
     "name": "stdout",
     "output_type": "stream",
     "text": [
      "\b\b\b\b\b\b\b\b\b\b\b\b\b\b\b\b\b\b\b\b\b\b\b\b\b\b\b\b\b\b\b\b\b\b\b\b\b\b\b\b\b\b\b\b\b\b\b\b\b\b\b\b\b\b\b\b\b\b\b\b\b\b\b\b\b\b\b\b\b\b\b\b\b\b\b\b\b\b\b\b\r",
      "9/9 [==============================] - 0s 5ms/step - loss: 0.5181 - accuracy: 0.7529 - val_loss: 0.5187 - val_accuracy: 0.7333\n"
     ]
    },
    {
     "name": "stdout",
     "output_type": "stream",
     "text": [
      "Epoch 145/400\n"
     ]
    },
    {
     "name": "stdout",
     "output_type": "stream",
     "text": [
      "\r",
      "1/9 [==>...........................] - ETA: 0s - loss: 0.5010 - accuracy: 0.7000"
     ]
    },
    {
     "name": "stdout",
     "output_type": "stream",
     "text": [
      "\b\b\b\b\b\b\b\b\b\b\b\b\b\b\b\b\b\b\b\b\b\b\b\b\b\b\b\b\b\b\b\b\b\b\b\b\b\b\b\b\b\b\b\b\b\b\b\b\b\b\b\b\b\b\b\b\b\b\b\b\b\b\b\b\b\b\b\b\b\b\b\b\b\b\b\b\b\b\b\b\r",
      "9/9 [==============================] - 0s 14ms/step - loss: 0.5175 - accuracy: 0.7608 - val_loss: 0.5200 - val_accuracy: 0.7556\n"
     ]
    },
    {
     "name": "stdout",
     "output_type": "stream",
     "text": [
      "Epoch 146/400\n"
     ]
    },
    {
     "name": "stdout",
     "output_type": "stream",
     "text": [
      "\r",
      "1/9 [==>...........................] - ETA: 0s - loss: 0.6136 - accuracy: 0.7333"
     ]
    },
    {
     "name": "stdout",
     "output_type": "stream",
     "text": [
      "\b\b\b\b\b\b\b\b\b\b\b\b\b\b\b\b\b\b\b\b\b\b\b\b\b\b\b\b\b\b\b\b\b\b\b\b\b\b\b\b\b\b\b\b\b\b\b\b\b\b\b\b\b\b\b\b\b\b\b\b\b\b\b\b\b\b\b\b\b\b\b\b\b\b\b\b\b\b\b\b\r",
      "9/9 [==============================] - 0s 17ms/step - loss: 0.5170 - accuracy: 0.7569 - val_loss: 0.5206 - val_accuracy: 0.7556\n"
     ]
    },
    {
     "name": "stdout",
     "output_type": "stream",
     "text": [
      "Epoch 147/400\n"
     ]
    },
    {
     "name": "stdout",
     "output_type": "stream",
     "text": [
      "\r",
      "1/9 [==>...........................] - ETA: 0s - loss: 0.6856 - accuracy: 0.6333"
     ]
    },
    {
     "name": "stdout",
     "output_type": "stream",
     "text": [
      "\b\b\b\b\b\b\b\b\b\b\b\b\b\b\b\b\b\b\b\b\b\b\b\b\b\b\b\b\b\b\b\b\b\b\b\b\b\b\b\b\b\b\b\b\b\b\b\b\b\b\b\b\b\b\b\b\b\b\b\b\b\b\b\b\b\b\b\b\b\b\b\b\b\b\b\b\b\b\b\b\r",
      "9/9 [==============================] - 0s 21ms/step - loss: 0.5164 - accuracy: 0.7529 - val_loss: 0.5208 - val_accuracy: 0.7556\n"
     ]
    },
    {
     "name": "stdout",
     "output_type": "stream",
     "text": [
      "Epoch 148/400\n"
     ]
    },
    {
     "name": "stdout",
     "output_type": "stream",
     "text": [
      "\r",
      "1/9 [==>...........................] - ETA: 0s - loss: 0.6262 - accuracy: 0.6667"
     ]
    },
    {
     "name": "stdout",
     "output_type": "stream",
     "text": [
      "\b\b\b\b\b\b\b\b\b\b\b\b\b\b\b\b\b\b\b\b\b\b\b\b\b\b\b\b\b\b\b\b\b\b\b\b\b\b\b\b\b\b\b\b\b\b\b\b\b\b\b\b\b\b\b\b\b\b\b\b\b\b\b\b\b\b\b\b\b\b\b\b\b\b\b\b\b\b\b\b\r",
      "9/9 [==============================] - 0s 16ms/step - loss: 0.5161 - accuracy: 0.7529 - val_loss: 0.5205 - val_accuracy: 0.7556\n"
     ]
    },
    {
     "name": "stdout",
     "output_type": "stream",
     "text": [
      "Epoch 149/400\n"
     ]
    },
    {
     "name": "stdout",
     "output_type": "stream",
     "text": [
      "\r",
      "1/9 [==>...........................] - ETA: 0s - loss: 0.5857 - accuracy: 0.6333"
     ]
    },
    {
     "name": "stdout",
     "output_type": "stream",
     "text": [
      "\b\b\b\b\b\b\b\b\b\b\b\b\b\b\b\b\b\b\b\b\b\b\b\b\b\b\b\b\b\b\b\b\b\b\b\b\b\b\b\b\b\b\b\b\b\b\b\b\b\b\b\b\b\b\b\b\b\b\b\b\b\b\b\b\b\b\b\b\b\b\b\b\b\b\b\b\b\b\b\b\r",
      "9/9 [==============================] - 0s 12ms/step - loss: 0.5157 - accuracy: 0.7529 - val_loss: 0.5212 - val_accuracy: 0.7556\n"
     ]
    },
    {
     "name": "stdout",
     "output_type": "stream",
     "text": [
      "Epoch 150/400\n"
     ]
    },
    {
     "name": "stdout",
     "output_type": "stream",
     "text": [
      "\r",
      "1/9 [==>...........................] - ETA: 0s - loss: 0.5424 - accuracy: 0.7333"
     ]
    },
    {
     "name": "stdout",
     "output_type": "stream",
     "text": [
      "\b\b\b\b\b\b\b\b\b\b\b\b\b\b\b\b\b\b\b\b\b\b\b\b\b\b\b\b\b\b\b\b\b\b\b\b\b\b\b\b\b\b\b\b\b\b\b\b\b\b\b\b\b\b\b\b\b\b\b\b\b\b\b\b\b\b\b\b\b\b\b\b\b\b\b\b\b\b\b\b\r",
      "9/9 [==============================] - 0s 7ms/step - loss: 0.5150 - accuracy: 0.7529 - val_loss: 0.5207 - val_accuracy: 0.7556\n"
     ]
    },
    {
     "name": "stdout",
     "output_type": "stream",
     "text": [
      "Epoch 151/400\n"
     ]
    },
    {
     "name": "stdout",
     "output_type": "stream",
     "text": [
      "\r",
      "1/9 [==>...........................] - ETA: 0s - loss: 0.5015 - accuracy: 0.7667"
     ]
    },
    {
     "name": "stdout",
     "output_type": "stream",
     "text": [
      "\b\b\b\b\b\b\b\b\b\b\b\b\b\b\b\b\b\b\b\b\b\b\b\b\b\b\b\b\b\b\b\b\b\b\b\b\b\b\b\b\b\b\b\b\b\b\b\b\b\b\b\b\b\b\b\b\b\b\b\b\b\b\b\b\b\b\b\b\b\b\b\b\b\b\b\b\b\b\b\b\r",
      "9/9 [==============================] - 0s 4ms/step - loss: 0.5146 - accuracy: 0.7529 - val_loss: 0.5202 - val_accuracy: 0.7556\n"
     ]
    },
    {
     "name": "stdout",
     "output_type": "stream",
     "text": [
      "Epoch 152/400\n"
     ]
    },
    {
     "name": "stdout",
     "output_type": "stream",
     "text": [
      "\r",
      "1/9 [==>...........................] - ETA: 0s - loss: 0.5112 - accuracy: 0.7667"
     ]
    },
    {
     "name": "stdout",
     "output_type": "stream",
     "text": [
      "\b\b\b\b\b\b\b\b\b\b\b\b\b\b\b\b\b\b\b\b\b\b\b\b\b\b\b\b\b\b\b\b\b\b\b\b\b\b\b\b\b\b\b\b\b\b\b\b\b\b\b\b\b\b\b\b\b\b\b\b\b\b\b\b\b\b\b\b\b\b\b\b\b\b\b\b\b\b\b\b\r",
      "9/9 [==============================] - 0s 4ms/step - loss: 0.5142 - accuracy: 0.7529 - val_loss: 0.5197 - val_accuracy: 0.7556\n"
     ]
    },
    {
     "name": "stdout",
     "output_type": "stream",
     "text": [
      "Epoch 153/400\n"
     ]
    },
    {
     "name": "stdout",
     "output_type": "stream",
     "text": [
      "\r",
      "1/9 [==>...........................] - ETA: 0s - loss: 0.5147 - accuracy: 0.8000"
     ]
    },
    {
     "name": "stdout",
     "output_type": "stream",
     "text": [
      "\b\b\b\b\b\b\b\b\b\b\b\b\b\b\b\b\b\b\b\b\b\b\b\b\b\b\b\b\b\b\b\b\b\b\b\b\b\b\b\b\b\b\b\b\b\b\b\b\b\b\b\b\b\b\b\b\b\b\b\b\b\b\b\b\b\b\b\b\b\b\b\b\b\b\b\b\b\b\b\b\r",
      "9/9 [==============================] - 0s 5ms/step - loss: 0.5137 - accuracy: 0.7529 - val_loss: 0.5196 - val_accuracy: 0.7556\n"
     ]
    },
    {
     "name": "stdout",
     "output_type": "stream",
     "text": [
      "Epoch 154/400\n"
     ]
    },
    {
     "name": "stdout",
     "output_type": "stream",
     "text": [
      "\r",
      "1/9 [==>...........................] - ETA: 0s - loss: 0.5586 - accuracy: 0.7333"
     ]
    },
    {
     "name": "stdout",
     "output_type": "stream",
     "text": [
      "\b\b\b\b\b\b\b\b\b\b\b\b\b\b\b\b\b\b\b\b\b\b\b\b\b\b\b\b\b\b\b\b\b\b\b\b\b\b\b\b\b\b\b\b\b\b\b\b\b\b\b\b\b\b\b\b\b\b\b\b\b\b\b\b\b\b\b\b\b\b\b\b\b\b\b\b\b\b\b\b\r",
      "9/9 [==============================] - 0s 5ms/step - loss: 0.5134 - accuracy: 0.7529 - val_loss: 0.5199 - val_accuracy: 0.7556\n"
     ]
    },
    {
     "name": "stdout",
     "output_type": "stream",
     "text": [
      "Epoch 155/400\n"
     ]
    },
    {
     "name": "stdout",
     "output_type": "stream",
     "text": [
      "\r",
      "1/9 [==>...........................] - ETA: 0s - loss: 0.4527 - accuracy: 0.8000"
     ]
    },
    {
     "name": "stdout",
     "output_type": "stream",
     "text": [
      "\b\b\b\b\b\b\b\b\b\b\b\b\b\b\b\b\b\b\b\b\b\b\b\b\b\b\b\b\b\b\b\b\b\b\b\b\b\b\b\b\b\b\b\b\b\b\b\b\b\b\b\b\b\b\b\b\b\b\b\b\b\b\b\b\b\b\b\b\b\b\b\b\b\b\b\b\b\b\b\b\r",
      "9/9 [==============================] - 0s 5ms/step - loss: 0.5128 - accuracy: 0.7529 - val_loss: 0.5197 - val_accuracy: 0.7556\n"
     ]
    },
    {
     "name": "stdout",
     "output_type": "stream",
     "text": [
      "Epoch 156/400\n"
     ]
    },
    {
     "name": "stdout",
     "output_type": "stream",
     "text": [
      "\r",
      "1/9 [==>...........................] - ETA: 0s - loss: 0.5458 - accuracy: 0.7000"
     ]
    },
    {
     "name": "stdout",
     "output_type": "stream",
     "text": [
      "\b\b\b\b\b\b\b\b\b\b\b\b\b\b\b\b\b\b\b\b\b\b\b\b\b\b\b\b\b\b\b\b\b\b\b\b\b\b\b\b\b\b\b\b\b\b\b\b\b\b\b\b\b\b\b\b\b\b\b\b\b\b\b\b\b\b\b\b\b\b\b\b\b\b\b\b\b\b\b\b\r",
      "9/9 [==============================] - 0s 5ms/step - loss: 0.5124 - accuracy: 0.7529 - val_loss: 0.5191 - val_accuracy: 0.7556\n"
     ]
    },
    {
     "name": "stdout",
     "output_type": "stream",
     "text": [
      "Epoch 157/400\n"
     ]
    },
    {
     "name": "stdout",
     "output_type": "stream",
     "text": [
      "\r",
      "1/9 [==>...........................] - ETA: 0s - loss: 0.6750 - accuracy: 0.5667"
     ]
    },
    {
     "name": "stdout",
     "output_type": "stream",
     "text": [
      "\b\b\b\b\b\b\b\b\b\b\b\b\b\b\b\b\b\b\b\b\b\b\b\b\b\b\b\b\b\b\b\b\b\b\b\b\b\b\b\b\b\b\b\b\b\b\b\b\b\b\b\b\b\b\b\b\b\b\b\b\b\b\b\b\b\b\b\b\b\b\b\b\b\b\b\b\b\b\b\b\r",
      "9/9 [==============================] - 0s 5ms/step - loss: 0.5121 - accuracy: 0.7529 - val_loss: 0.5193 - val_accuracy: 0.7556\n"
     ]
    },
    {
     "name": "stdout",
     "output_type": "stream",
     "text": [
      "Epoch 158/400\n"
     ]
    },
    {
     "name": "stdout",
     "output_type": "stream",
     "text": [
      "\r",
      "1/9 [==>...........................] - ETA: 0s - loss: 0.6409 - accuracy: 0.6333"
     ]
    },
    {
     "name": "stdout",
     "output_type": "stream",
     "text": [
      "\b\b\b\b\b\b\b\b\b\b\b\b\b\b\b\b\b\b\b\b\b\b\b\b\b\b\b\b\b\b\b\b\b\b\b\b\b\b\b\b\b\b\b\b\b\b\b\b\b\b\b\b\b\b\b\b\b\b\b\b\b\b\b\b\b\b\b\b\b\b\b\b\b\b\b\b\b\b\b\b\r",
      "9/9 [==============================] - 0s 5ms/step - loss: 0.5116 - accuracy: 0.7529 - val_loss: 0.5192 - val_accuracy: 0.7556\n"
     ]
    },
    {
     "name": "stdout",
     "output_type": "stream",
     "text": [
      "Epoch 159/400\n"
     ]
    },
    {
     "name": "stdout",
     "output_type": "stream",
     "text": [
      "\r",
      "1/9 [==>...........................] - ETA: 0s - loss: 0.4517 - accuracy: 0.8333"
     ]
    },
    {
     "name": "stdout",
     "output_type": "stream",
     "text": [
      "\b\b\b\b\b\b\b\b\b\b\b\b\b\b\b\b\b\b\b\b\b\b\b\b\b\b\b\b\b\b\b\b\b\b\b\b\b\b\b\b\b\b\b\b\b\b\b\b\b\b\b\b\b\b\b\b\b\b\b\b\b\b\b\b\b\b\b\b\b\b\b\b\b\b\b\b\b\b\b\b\r",
      "9/9 [==============================] - 0s 5ms/step - loss: 0.5111 - accuracy: 0.7529 - val_loss: 0.5185 - val_accuracy: 0.7556\n"
     ]
    },
    {
     "name": "stdout",
     "output_type": "stream",
     "text": [
      "Epoch 160/400\n"
     ]
    },
    {
     "name": "stdout",
     "output_type": "stream",
     "text": [
      "\r",
      "1/9 [==>...........................] - ETA: 0s - loss: 0.5754 - accuracy: 0.7667"
     ]
    },
    {
     "name": "stdout",
     "output_type": "stream",
     "text": [
      "\b\b\b\b\b\b\b\b\b\b\b\b\b\b\b\b\b\b\b\b\b\b\b\b\b\b\b\b\b\b\b\b\b\b\b\b\b\b\b\b\b\b\b\b\b\b\b\b\b\b\b\b\b\b\b\b\b\b\b\b\b\b\b\b\b\b\b\b\b\b\b\b\b\b\b\b\b\b\b\b\r",
      "9/9 [==============================] - 0s 5ms/step - loss: 0.5107 - accuracy: 0.7529 - val_loss: 0.5184 - val_accuracy: 0.7556\n"
     ]
    },
    {
     "name": "stdout",
     "output_type": "stream",
     "text": [
      "Epoch 161/400\n"
     ]
    },
    {
     "name": "stdout",
     "output_type": "stream",
     "text": [
      "\r",
      "1/9 [==>...........................] - ETA: 0s - loss: 0.4697 - accuracy: 0.8000"
     ]
    },
    {
     "name": "stdout",
     "output_type": "stream",
     "text": [
      "\b\b\b\b\b\b\b\b\b\b\b\b\b\b\b\b\b\b\b\b\b\b\b\b\b\b\b\b\b\b\b\b\b\b\b\b\b\b\b\b\b\b\b\b\b\b\b\b\b\b\b\b\b\b\b\b\b\b\b\b\b\b\b\b\b\b\b\b\b\b\b\b\b\b\b\b\b\b\b\b\r",
      "9/9 [==============================] - 0s 6ms/step - loss: 0.5103 - accuracy: 0.7529 - val_loss: 0.5186 - val_accuracy: 0.7556\n"
     ]
    },
    {
     "name": "stdout",
     "output_type": "stream",
     "text": [
      "Epoch 162/400\n"
     ]
    },
    {
     "name": "stdout",
     "output_type": "stream",
     "text": [
      "\r",
      "1/9 [==>...........................] - ETA: 0s - loss: 0.5268 - accuracy: 0.7667"
     ]
    },
    {
     "name": "stdout",
     "output_type": "stream",
     "text": [
      "\b\b\b\b\b\b\b\b\b\b\b\b\b\b\b\b\b\b\b\b\b\b\b\b\b\b\b\b\b\b\b\b\b\b\b\b\b\b\b\b\b\b\b\b\b\b\b\b\b\b\b\b\b\b\b\b\b\b\b\b\b\b\b\b\b\b\b\b\b\b\b\b\b\b\b\b\b\b\b\b\r",
      "9/9 [==============================] - 0s 9ms/step - loss: 0.5099 - accuracy: 0.7529 - val_loss: 0.5187 - val_accuracy: 0.7556\n"
     ]
    },
    {
     "name": "stdout",
     "output_type": "stream",
     "text": [
      "Epoch 163/400\n"
     ]
    },
    {
     "name": "stdout",
     "output_type": "stream",
     "text": [
      "\r",
      "1/9 [==>...........................] - ETA: 0s - loss: 0.4053 - accuracy: 0.8667"
     ]
    },
    {
     "name": "stdout",
     "output_type": "stream",
     "text": [
      "\b\b\b\b\b\b\b\b\b\b\b\b\b\b\b\b\b\b\b\b\b\b\b\b\b\b\b\b\b\b\b\b\b\b\b\b\b\b\b\b\b\b\b\b\b\b\b\b\b\b\b\b\b\b\b\b\b\b\b\b\b\b\b\b\b\b\b\b\b\b\b\b\b\b\b\b\b\b\b\b\r",
      "9/9 [==============================] - 0s 7ms/step - loss: 0.5094 - accuracy: 0.7529 - val_loss: 0.5184 - val_accuracy: 0.7556\n"
     ]
    },
    {
     "name": "stdout",
     "output_type": "stream",
     "text": [
      "Epoch 164/400\n"
     ]
    },
    {
     "name": "stdout",
     "output_type": "stream",
     "text": [
      "\r",
      "1/9 [==>...........................] - ETA: 0s - loss: 0.4975 - accuracy: 0.7333"
     ]
    },
    {
     "name": "stdout",
     "output_type": "stream",
     "text": [
      "\b\b\b\b\b\b\b\b\b\b\b\b\b\b\b\b\b\b\b\b\b\b\b\b\b\b\b\b\b\b\b\b\b\b\b\b\b\b\b\b\b\b\b\b\b\b\b\b\b\b\b\b\b\b\b\b\b\b\b\b\b\b\b\b\b\b\b\b\b\b\b\b\b\b\b\b\b\b\b\b\r",
      "9/9 [==============================] - 0s 5ms/step - loss: 0.5090 - accuracy: 0.7529 - val_loss: 0.5180 - val_accuracy: 0.7556\n"
     ]
    },
    {
     "name": "stdout",
     "output_type": "stream",
     "text": [
      "Epoch 165/400\n"
     ]
    },
    {
     "name": "stdout",
     "output_type": "stream",
     "text": [
      "\r",
      "1/9 [==>...........................] - ETA: 0s - loss: 0.5065 - accuracy: 0.7667"
     ]
    },
    {
     "name": "stdout",
     "output_type": "stream",
     "text": [
      "\b\b\b\b\b\b\b\b\b\b\b\b\b\b\b\b\b\b\b\b\b\b\b\b\b\b\b\b\b\b\b\b\b\b\b\b\b\b\b\b\b\b\b\b\b\b\b\b\b\b\b\b\b\b\b\b\b\b\b\b\b\b\b\b\b\b\b\b\b\b\b\b\b\b\b\b\b\b\b\b\r",
      "9/9 [==============================] - 0s 5ms/step - loss: 0.5086 - accuracy: 0.7529 - val_loss: 0.5176 - val_accuracy: 0.7556\n"
     ]
    },
    {
     "name": "stdout",
     "output_type": "stream",
     "text": [
      "Epoch 166/400\n"
     ]
    },
    {
     "name": "stdout",
     "output_type": "stream",
     "text": [
      "\r",
      "1/9 [==>...........................] - ETA: 0s - loss: 0.5393 - accuracy: 0.6667"
     ]
    },
    {
     "name": "stdout",
     "output_type": "stream",
     "text": [
      "\b\b\b\b\b\b\b\b\b\b\b\b\b\b\b\b\b\b\b\b\b\b\b\b\b\b\b\b\b\b\b\b\b\b\b\b\b\b\b\b\b\b\b\b\b\b\b\b\b\b\b\b\b\b\b\b\b\b\b\b\b\b\b\b\b\b\b\b\b\b\b\b\b\b\b\b\b\b\b\b\r",
      "9/9 [==============================] - 0s 4ms/step - loss: 0.5084 - accuracy: 0.7529 - val_loss: 0.5179 - val_accuracy: 0.7556\n"
     ]
    },
    {
     "name": "stdout",
     "output_type": "stream",
     "text": [
      "Epoch 167/400\n"
     ]
    },
    {
     "name": "stdout",
     "output_type": "stream",
     "text": [
      "\r",
      "1/9 [==>...........................] - ETA: 0s - loss: 0.4268 - accuracy: 0.8000"
     ]
    },
    {
     "name": "stdout",
     "output_type": "stream",
     "text": [
      "\b\b\b\b\b\b\b\b\b\b\b\b\b\b\b\b\b\b\b\b\b\b\b\b\b\b\b\b\b\b\b\b\b\b\b\b\b\b\b\b\b\b\b\b\b\b\b\b\b\b\b\b\b\b\b\b\b\b\b\b\b\b\b\b\b\b\b\b\b\b\b\b\b\b\b\b\b\b\b\b\r",
      "9/9 [==============================] - 0s 4ms/step - loss: 0.5077 - accuracy: 0.7569 - val_loss: 0.5172 - val_accuracy: 0.7556\n"
     ]
    },
    {
     "name": "stdout",
     "output_type": "stream",
     "text": [
      "Epoch 168/400\n"
     ]
    },
    {
     "name": "stdout",
     "output_type": "stream",
     "text": [
      "\r",
      "1/9 [==>...........................] - ETA: 0s - loss: 0.4852 - accuracy: 0.7667"
     ]
    },
    {
     "name": "stdout",
     "output_type": "stream",
     "text": [
      "\b\b\b\b\b\b\b\b\b\b\b\b\b\b\b\b\b\b\b\b\b\b\b\b\b\b\b\b\b\b\b\b\b\b\b\b\b\b\b\b\b\b\b\b\b\b\b\b\b\b\b\b\b\b\b\b\b\b\b\b\b\b\b\b\b\b\b\b\b\b\b\b\b\b\b\b\b\b\b\b\r",
      "9/9 [==============================] - 0s 5ms/step - loss: 0.5075 - accuracy: 0.7569 - val_loss: 0.5167 - val_accuracy: 0.7556\n"
     ]
    },
    {
     "name": "stdout",
     "output_type": "stream",
     "text": [
      "Epoch 169/400\n"
     ]
    },
    {
     "name": "stdout",
     "output_type": "stream",
     "text": [
      "\r",
      "1/9 [==>...........................] - ETA: 0s - loss: 0.4980 - accuracy: 0.8000"
     ]
    },
    {
     "name": "stdout",
     "output_type": "stream",
     "text": [
      "\b\b\b\b\b\b\b\b\b\b\b\b\b\b\b\b\b\b\b\b\b\b\b\b\b\b\b\b\b\b\b\b\b\b\b\b\b\b\b\b\b\b\b\b\b\b\b\b\b\b\b\b\b\b\b\b\b\b\b\b\b\b\b\b\b\b\b\b\b\b\b\b\b\b\b\b\b\b\b\b\r",
      "9/9 [==============================] - 0s 7ms/step - loss: 0.5070 - accuracy: 0.7569 - val_loss: 0.5169 - val_accuracy: 0.7556\n"
     ]
    },
    {
     "name": "stdout",
     "output_type": "stream",
     "text": [
      "Epoch 170/400\n"
     ]
    },
    {
     "name": "stdout",
     "output_type": "stream",
     "text": [
      "\r",
      "1/9 [==>...........................] - ETA: 0s - loss: 0.5458 - accuracy: 0.6667"
     ]
    },
    {
     "name": "stdout",
     "output_type": "stream",
     "text": [
      "\b\b\b\b\b\b\b\b\b\b\b\b\b\b\b\b\b\b\b\b\b\b\b\b\b\b\b\b\b\b\b\b\b\b\b\b\b\b\b\b\b\b\b\b\b\b\b\b\b\b\b\b\b\b\b\b\b\b\b\b\b\b\b\b\b\b\b\b\b\b\b\b\b\b\b\b\b\b\b\b\r",
      "9/9 [==============================] - 0s 8ms/step - loss: 0.5066 - accuracy: 0.7529 - val_loss: 0.5178 - val_accuracy: 0.7556\n"
     ]
    },
    {
     "name": "stdout",
     "output_type": "stream",
     "text": [
      "Epoch 171/400\n"
     ]
    },
    {
     "name": "stdout",
     "output_type": "stream",
     "text": [
      "\r",
      "1/9 [==>...........................] - ETA: 0s - loss: 0.4940 - accuracy: 0.8333"
     ]
    },
    {
     "name": "stdout",
     "output_type": "stream",
     "text": [
      "\b\b\b\b\b\b\b\b\b\b\b\b\b\b\b\b\b\b\b\b\b\b\b\b\b\b\b\b\b\b\b\b\b\b\b\b\b\b\b\b\b\b\b\b\b\b\b\b\b\b\b\b\b\b\b\b\b\b\b\b\b\b\b\b\b\b\b\b\b\b\b\b\b\b\b\b\b\b\b\b\r",
      "9/9 [==============================] - 0s 9ms/step - loss: 0.5061 - accuracy: 0.7608 - val_loss: 0.5179 - val_accuracy: 0.7556\n"
     ]
    },
    {
     "name": "stdout",
     "output_type": "stream",
     "text": [
      "Epoch 172/400\n"
     ]
    },
    {
     "name": "stdout",
     "output_type": "stream",
     "text": [
      "\r",
      "1/9 [==>...........................] - ETA: 0s - loss: 0.4974 - accuracy: 0.8667"
     ]
    },
    {
     "name": "stdout",
     "output_type": "stream",
     "text": [
      "\b\b\b\b\b\b\b\b\b\b\b\b\b\b\b\b\b\b\b\b\b\b\b\b\b\b\b\b\b\b\b\b\b\b\b\b\b\b\b\b\b\b\b\b\b\b\b\b\b\b\b\b\b\b\b\b\b\b\b\b\b\b\b\b\b\b\b\b\b\b\b\b\b\b\b\b\b\b\b\b\r",
      "9/9 [==============================] - 0s 8ms/step - loss: 0.5057 - accuracy: 0.7647 - val_loss: 0.5180 - val_accuracy: 0.7333\n"
     ]
    },
    {
     "name": "stdout",
     "output_type": "stream",
     "text": [
      "Epoch 173/400\n"
     ]
    },
    {
     "name": "stdout",
     "output_type": "stream",
     "text": [
      "\r",
      "1/9 [==>...........................] - ETA: 0s - loss: 0.6237 - accuracy: 0.7333"
     ]
    },
    {
     "name": "stdout",
     "output_type": "stream",
     "text": [
      "\b\b\b\b\b\b\b\b\b\b\b\b\b\b\b\b\b\b\b\b\b\b\b\b\b\b\b\b\b\b\b\b\b\b\b\b\b\b\b\b\b\b\b\b\b\b\b\b\b\b\b\b\b\b\b\b\b\b\b\b\b\b\b\b\b\b\b\b\b\b\b\b\b\b\b\b\b\b\b\b\r",
      "9/9 [==============================] - 0s 9ms/step - loss: 0.5053 - accuracy: 0.7647 - val_loss: 0.5181 - val_accuracy: 0.7333\n"
     ]
    },
    {
     "name": "stdout",
     "output_type": "stream",
     "text": [
      "Epoch 174/400\n"
     ]
    },
    {
     "name": "stdout",
     "output_type": "stream",
     "text": [
      "\r",
      "1/9 [==>...........................] - ETA: 0s - loss: 0.5535 - accuracy: 0.7333"
     ]
    },
    {
     "name": "stdout",
     "output_type": "stream",
     "text": [
      "\b\b\b\b\b\b\b\b\b\b\b\b\b\b\b\b\b\b\b\b\b\b\b\b\b\b\b\b\b\b\b\b\b\b\b\b\b\b\b\b\b\b\b\b\b\b\b\b\b\b\b\b\b\b\b\b\b\b\b\b\b\b\b\b\b\b\b\b\b\b\b\b\b\b\b\b\b\b\b\b\r",
      "9/9 [==============================] - 0s 11ms/step - loss: 0.5049 - accuracy: 0.7647 - val_loss: 0.5181 - val_accuracy: 0.7333\n"
     ]
    },
    {
     "name": "stdout",
     "output_type": "stream",
     "text": [
      "Epoch 175/400\n"
     ]
    },
    {
     "name": "stdout",
     "output_type": "stream",
     "text": [
      "\r",
      "1/9 [==>...........................] - ETA: 0s - loss: 0.5179 - accuracy: 0.8333"
     ]
    },
    {
     "name": "stdout",
     "output_type": "stream",
     "text": [
      "\b\b\b\b\b\b\b\b\b\b\b\b\b\b\b\b\b\b\b\b\b\b\b\b\b\b\b\b\b\b\b\b\b\b\b\b\b\b\b\b\b\b\b\b\b\b\b\b\b\b\b\b\b\b\b\b\b\b\b\b\b\b\b\b\b\b\b\b\b\b\b\b\b\b\b\b\b\b\b\b\r",
      "9/9 [==============================] - 0s 10ms/step - loss: 0.5045 - accuracy: 0.7686 - val_loss: 0.5181 - val_accuracy: 0.7333\n"
     ]
    },
    {
     "name": "stdout",
     "output_type": "stream",
     "text": [
      "Epoch 176/400\n"
     ]
    },
    {
     "name": "stdout",
     "output_type": "stream",
     "text": [
      "\r",
      "1/9 [==>...........................] - ETA: 0s - loss: 0.5459 - accuracy: 0.8000"
     ]
    },
    {
     "name": "stdout",
     "output_type": "stream",
     "text": [
      "\b\b\b\b\b\b\b\b\b\b\b\b\b\b\b\b\b\b\b\b\b\b\b\b\b\b\b\b\b\b\b\b\b\b\b\b\b\b\b\b\b\b\b\b\b\b\b\b\b\b\b\b\b\b\b\b\b\b\b\b\b\b\b\b\b\b\b\b\b\b\b\b\b\b\b\b\b\b\b\b\r",
      "9/9 [==============================] - 0s 11ms/step - loss: 0.5041 - accuracy: 0.7725 - val_loss: 0.5184 - val_accuracy: 0.7333\n"
     ]
    },
    {
     "name": "stdout",
     "output_type": "stream",
     "text": [
      "Epoch 177/400\n"
     ]
    },
    {
     "name": "stdout",
     "output_type": "stream",
     "text": [
      "\r",
      "1/9 [==>...........................] - ETA: 0s - loss: 0.4299 - accuracy: 0.9000"
     ]
    },
    {
     "name": "stdout",
     "output_type": "stream",
     "text": [
      "\b\b\b\b\b\b\b\b\b\b\b\b\b\b\b\b\b\b\b\b\b\b\b\b\b\b\b\b\b\b\b\b\b\b\b\b\b\b\b\b\b\b\b\b\b\b\b\b\b\b\b\b\b\b\b\b\b\b\b\b\b\b\b\b\b\b\b\b\b\b\b\b\b\b\b\b\b\b\b\b\r",
      "9/9 [==============================] - 0s 9ms/step - loss: 0.5037 - accuracy: 0.7686 - val_loss: 0.5182 - val_accuracy: 0.7333\n"
     ]
    },
    {
     "name": "stdout",
     "output_type": "stream",
     "text": [
      "Epoch 178/400\n"
     ]
    },
    {
     "name": "stdout",
     "output_type": "stream",
     "text": [
      "\r",
      "1/9 [==>...........................] - ETA: 0s - loss: 0.5014 - accuracy: 0.8000"
     ]
    },
    {
     "name": "stdout",
     "output_type": "stream",
     "text": [
      "\b\b\b\b\b\b\b\b\b\b\b\b\b\b\b\b\b\b\b\b\b\b\b\b\b\b\b\b\b\b\b\b\b\b\b\b\b\b\b\b\b\b\b\b\b\b\b\b\b\b\b\b\b\b\b\b\b\b\b\b\b\b\b\b\b\b\b\b\b\b\b\b\b\b\b\b\b\b\b\b\r",
      "9/9 [==============================] - 0s 8ms/step - loss: 0.5033 - accuracy: 0.7686 - val_loss: 0.5182 - val_accuracy: 0.7333\n"
     ]
    },
    {
     "name": "stdout",
     "output_type": "stream",
     "text": [
      "Epoch 179/400\n"
     ]
    },
    {
     "name": "stdout",
     "output_type": "stream",
     "text": [
      "\r",
      "1/9 [==>...........................] - ETA: 0s - loss: 0.4898 - accuracy: 0.8000"
     ]
    },
    {
     "name": "stdout",
     "output_type": "stream",
     "text": [
      "\b\b\b\b\b\b\b\b\b\b\b\b\b\b\b\b\b\b\b\b\b\b\b\b\b\b\b\b\b\b\b\b\b\b\b\b\b\b\b\b\b\b\b\b\b\b\b\b\b\b\b\b\b\b\b\b\b\b\b\b\b\b\b\b\b\b\b\b\b\b\b\b\b\b\b\b\b\b\b\b\r",
      "9/9 [==============================] - 0s 8ms/step - loss: 0.5029 - accuracy: 0.7725 - val_loss: 0.5182 - val_accuracy: 0.7333\n"
     ]
    },
    {
     "name": "stdout",
     "output_type": "stream",
     "text": [
      "Epoch 180/400\n"
     ]
    },
    {
     "name": "stdout",
     "output_type": "stream",
     "text": [
      "\r",
      "1/9 [==>...........................] - ETA: 0s - loss: 0.4851 - accuracy: 0.7667"
     ]
    },
    {
     "name": "stdout",
     "output_type": "stream",
     "text": [
      "\b\b\b\b\b\b\b\b\b\b\b\b\b\b\b\b\b\b\b\b\b\b\b\b\b\b\b\b\b\b\b\b\b\b\b\b\b\b\b\b\b\b\b\b\b\b\b\b\b\b\b\b\b\b\b\b\b\b\b\b\b\b\b\b\b\b\b\b\b\b\b\b\b\b\b\b\b\b\b\b\r",
      "9/9 [==============================] - 0s 9ms/step - loss: 0.5024 - accuracy: 0.7725 - val_loss: 0.5177 - val_accuracy: 0.7333\n"
     ]
    },
    {
     "name": "stdout",
     "output_type": "stream",
     "text": [
      "Epoch 181/400\n"
     ]
    },
    {
     "name": "stdout",
     "output_type": "stream",
     "text": [
      "\r",
      "1/9 [==>...........................] - ETA: 0s - loss: 0.6064 - accuracy: 0.7000"
     ]
    },
    {
     "name": "stdout",
     "output_type": "stream",
     "text": [
      "\b\b\b\b\b\b\b\b\b\b\b\b\b\b\b\b\b\b\b\b\b\b\b\b\b\b\b\b\b\b\b\b\b\b\b\b\b\b\b\b\b\b\b\b\b\b\b\b\b\b\b\b\b\b\b\b\b\b\b\b\b\b\b\b\b\b\b\b\b\b\b\b\b\b\b\b\b\b\b\b\r",
      "9/9 [==============================] - 0s 10ms/step - loss: 0.5020 - accuracy: 0.7686 - val_loss: 0.5173 - val_accuracy: 0.7333\n"
     ]
    },
    {
     "name": "stdout",
     "output_type": "stream",
     "text": [
      "Epoch 182/400\n"
     ]
    },
    {
     "name": "stdout",
     "output_type": "stream",
     "text": [
      "\r",
      "1/9 [==>...........................] - ETA: 0s - loss: 0.4602 - accuracy: 0.7667"
     ]
    },
    {
     "name": "stdout",
     "output_type": "stream",
     "text": [
      "\b\b\b\b\b\b\b\b\b\b\b\b\b\b\b\b\b\b\b\b\b\b\b\b\b\b\b\b\b\b\b\b\b\b\b\b\b\b\b\b\b\b\b\b\b\b\b\b\b\b\b\b\b\b\b\b\b\b\b\b\b\b\b\b\b\b\b\b\b\b\b\b\b\b\b\b\b\b\b\b\r",
      "9/9 [==============================] - 0s 11ms/step - loss: 0.5017 - accuracy: 0.7686 - val_loss: 0.5169 - val_accuracy: 0.7333\n"
     ]
    },
    {
     "name": "stdout",
     "output_type": "stream",
     "text": [
      "Epoch 183/400\n"
     ]
    },
    {
     "name": "stdout",
     "output_type": "stream",
     "text": [
      "\r",
      "1/9 [==>...........................] - ETA: 0s - loss: 0.4699 - accuracy: 0.7333"
     ]
    },
    {
     "name": "stdout",
     "output_type": "stream",
     "text": [
      "\b\b\b\b\b\b\b\b\b\b\b\b\b\b\b\b\b\b\b\b\b\b\b\b\b\b\b\b\b\b\b\b\b\b\b\b\b\b\b\b\b\b\b\b\b\b\b\b\b\b\b\b\b\b\b\b\b\b\b\b\b\b\b\b\b\b\b\b\b\b\b\b\b\b\b\b\b\b\b\b\r",
      "9/9 [==============================] - 0s 10ms/step - loss: 0.5014 - accuracy: 0.7725 - val_loss: 0.5163 - val_accuracy: 0.7333\n"
     ]
    },
    {
     "name": "stdout",
     "output_type": "stream",
     "text": [
      "Epoch 184/400\n"
     ]
    },
    {
     "name": "stdout",
     "output_type": "stream",
     "text": [
      "\r",
      "1/9 [==>...........................] - ETA: 0s - loss: 0.5249 - accuracy: 0.8333"
     ]
    },
    {
     "name": "stdout",
     "output_type": "stream",
     "text": [
      "\b\b\b\b\b\b\b\b\b\b\b\b\b\b\b\b\b\b\b\b\b\b\b\b\b\b\b\b\b\b\b\b\b\b\b\b\b\b\b\b\b\b\b\b\b\b\b\b\b\b\b\b\b\b\b\b\b\b\b\b\b\b\b\b\b\b\b\b\b\b\b\b\b\b\b\b\b\b\b\b\r",
      "9/9 [==============================] - 0s 12ms/step - loss: 0.5010 - accuracy: 0.7725 - val_loss: 0.5159 - val_accuracy: 0.7333\n"
     ]
    },
    {
     "name": "stdout",
     "output_type": "stream",
     "text": [
      "Epoch 185/400\n"
     ]
    },
    {
     "name": "stdout",
     "output_type": "stream",
     "text": [
      "\r",
      "1/9 [==>...........................] - ETA: 0s - loss: 0.4374 - accuracy: 0.8000"
     ]
    },
    {
     "name": "stdout",
     "output_type": "stream",
     "text": [
      "\b\b\b\b\b\b\b\b\b\b\b\b\b\b\b\b\b\b\b\b\b\b\b\b\b\b\b\b\b\b\b\b\b\b\b\b\b\b\b\b\b\b\b\b\b\b\b\b\b\b\b\b\b\b\b\b\b\b\b\b\b\b\b\b\b\b\b\b\b\b\b\b\b\b\b\b\b\b\b\b\r",
      "9/9 [==============================] - 0s 9ms/step - loss: 0.5006 - accuracy: 0.7725 - val_loss: 0.5162 - val_accuracy: 0.7333\n"
     ]
    },
    {
     "name": "stdout",
     "output_type": "stream",
     "text": [
      "Epoch 186/400\n"
     ]
    },
    {
     "name": "stdout",
     "output_type": "stream",
     "text": [
      "\r",
      "1/9 [==>...........................] - ETA: 0s - loss: 0.5984 - accuracy: 0.6667"
     ]
    },
    {
     "name": "stdout",
     "output_type": "stream",
     "text": [
      "\b\b\b\b\b\b\b\b\b\b\b\b\b\b\b\b\b\b\b\b\b\b\b\b\b\b\b\b\b\b\b\b\b\b\b\b\b\b\b\b\b\b\b\b\b\b\b\b\b\b\b\b\b\b\b\b\b\b\b\b\b\b\b\b\b\b\b\b\b\b\b\b\b\b\b\b\b\b\b\b\r",
      "9/9 [==============================] - 0s 7ms/step - loss: 0.5003 - accuracy: 0.7725 - val_loss: 0.5170 - val_accuracy: 0.7333\n"
     ]
    },
    {
     "name": "stdout",
     "output_type": "stream",
     "text": [
      "Epoch 187/400\n"
     ]
    },
    {
     "name": "stdout",
     "output_type": "stream",
     "text": [
      "\r",
      "1/9 [==>...........................] - ETA: 0s - loss: 0.5002 - accuracy: 0.7333"
     ]
    },
    {
     "name": "stdout",
     "output_type": "stream",
     "text": [
      "\b\b\b\b\b\b\b\b\b\b\b\b\b\b\b\b\b\b\b\b\b\b\b\b\b\b\b\b\b\b\b\b\b\b\b\b\b\b\b\b\b\b\b\b\b\b\b\b\b\b\b\b\b\b\b\b\b\b\b\b\b\b\b\b\b\b\b\b\b\b\b\b\b\b\b\b\b\b\b\b\r",
      "9/9 [==============================] - 0s 9ms/step - loss: 0.4998 - accuracy: 0.7686 - val_loss: 0.5172 - val_accuracy: 0.7111\n"
     ]
    },
    {
     "name": "stdout",
     "output_type": "stream",
     "text": [
      "Epoch 188/400\n"
     ]
    },
    {
     "name": "stdout",
     "output_type": "stream",
     "text": [
      "\r",
      "1/9 [==>...........................] - ETA: 0s - loss: 0.5554 - accuracy: 0.7000"
     ]
    },
    {
     "name": "stdout",
     "output_type": "stream",
     "text": [
      "\b\b\b\b\b\b\b\b\b\b\b\b\b\b\b\b\b\b\b\b\b\b\b\b\b\b\b\b\b\b\b\b\b\b\b\b\b\b\b\b\b\b\b\b\b\b\b\b\b\b\b\b\b\b\b\b\b\b\b\b\b\b\b\b\b\b\b\b\b\b\b\b\b\b\b\b\b\b\b\b\r",
      "9/9 [==============================] - 0s 7ms/step - loss: 0.4995 - accuracy: 0.7725 - val_loss: 0.5173 - val_accuracy: 0.7111\n"
     ]
    },
    {
     "name": "stdout",
     "output_type": "stream",
     "text": [
      "Epoch 189/400\n"
     ]
    },
    {
     "name": "stdout",
     "output_type": "stream",
     "text": [
      "\r",
      "1/9 [==>...........................] - ETA: 0s - loss: 0.5658 - accuracy: 0.6667"
     ]
    },
    {
     "name": "stdout",
     "output_type": "stream",
     "text": [
      "\b\b\b\b\b\b\b\b\b\b\b\b\b\b\b\b\b\b\b\b\b\b\b\b\b\b\b\b\b\b\b\b\b\b\b\b\b\b\b\b\b\b\b\b\b\b\b\b\b\b\b\b\b\b\b\b\b\b\b\b\b\b\b\b\b\b\b\b\b\b\b\b\b\b\b\b\b\b\b\b\r",
      "9/9 [==============================] - 0s 6ms/step - loss: 0.4990 - accuracy: 0.7725 - val_loss: 0.5167 - val_accuracy: 0.7111\n"
     ]
    },
    {
     "name": "stdout",
     "output_type": "stream",
     "text": [
      "Epoch 190/400\n"
     ]
    },
    {
     "name": "stdout",
     "output_type": "stream",
     "text": [
      "\r",
      "1/9 [==>...........................] - ETA: 0s - loss: 0.6144 - accuracy: 0.6333"
     ]
    },
    {
     "name": "stdout",
     "output_type": "stream",
     "text": [
      "\b\b\b\b\b\b\b\b\b\b\b\b\b\b\b\b\b\b\b\b\b\b\b\b\b\b\b\b\b\b\b\b\b\b\b\b\b\b\b\b\b\b\b\b\b\b\b\b\b\b\b\b\b\b\b\b\b\b\b\b\b\b\b\b\b\b\b\b\b\b\b\b\b\b\b\b\b\b\b\b\r",
      "9/9 [==============================] - 0s 6ms/step - loss: 0.4988 - accuracy: 0.7725 - val_loss: 0.5170 - val_accuracy: 0.7111\n"
     ]
    },
    {
     "name": "stdout",
     "output_type": "stream",
     "text": [
      "Epoch 191/400\n"
     ]
    },
    {
     "name": "stdout",
     "output_type": "stream",
     "text": [
      "\r",
      "1/9 [==>...........................] - ETA: 0s - loss: 0.4895 - accuracy: 0.8000"
     ]
    },
    {
     "name": "stdout",
     "output_type": "stream",
     "text": [
      "\b\b\b\b\b\b\b\b\b\b\b\b\b\b\b\b\b\b\b\b\b\b\b\b\b\b\b\b\b\b\b\b\b\b\b\b\b\b\b\b\b\b\b\b\b\b\b\b\b\b\b\b\b\b\b\b\b\b\b\b\b\b\b\b\b\b\b\b\b\b\b\b\b\b\b\b\b\b\b\b\r",
      "9/9 [==============================] - 0s 6ms/step - loss: 0.4983 - accuracy: 0.7725 - val_loss: 0.5162 - val_accuracy: 0.7111\n"
     ]
    },
    {
     "name": "stdout",
     "output_type": "stream",
     "text": [
      "Epoch 192/400\n"
     ]
    },
    {
     "name": "stdout",
     "output_type": "stream",
     "text": [
      "\r",
      "1/9 [==>...........................] - ETA: 0s - loss: 0.6090 - accuracy: 0.6333"
     ]
    },
    {
     "name": "stdout",
     "output_type": "stream",
     "text": [
      "\b\b\b\b\b\b\b\b\b\b\b\b\b\b\b\b\b\b\b\b\b\b\b\b\b\b\b\b\b\b\b\b\b\b\b\b\b\b\b\b\b\b\b\b\b\b\b\b\b\b\b\b\b\b\b\b\b\b\b\b\b\b\b\b\b\b\b\b\b\b\b\b\b\b\b\b\b\b\b\b\r",
      "9/9 [==============================] - 0s 5ms/step - loss: 0.4980 - accuracy: 0.7686 - val_loss: 0.5161 - val_accuracy: 0.7111\n"
     ]
    },
    {
     "name": "stdout",
     "output_type": "stream",
     "text": [
      "Epoch 193/400\n"
     ]
    },
    {
     "name": "stdout",
     "output_type": "stream",
     "text": [
      "\r",
      "1/9 [==>...........................] - ETA: 0s - loss: 0.4979 - accuracy: 0.7667"
     ]
    },
    {
     "name": "stdout",
     "output_type": "stream",
     "text": [
      "\b\b\b\b\b\b\b\b\b\b\b\b\b\b\b\b\b\b\b\b\b\b\b\b\b\b\b\b\b\b\b\b\b\b\b\b\b\b\b\b\b\b\b\b\b\b\b\b\b\b\b\b\b\b\b\b\b\b\b\b\b\b\b\b\b\b\b\b\b\b\b\b\b\b\b\b\b\b\b\b\r",
      "9/9 [==============================] - 0s 5ms/step - loss: 0.4976 - accuracy: 0.7686 - val_loss: 0.5158 - val_accuracy: 0.7111\n"
     ]
    },
    {
     "name": "stdout",
     "output_type": "stream",
     "text": [
      "Epoch 194/400\n"
     ]
    },
    {
     "name": "stdout",
     "output_type": "stream",
     "text": [
      "\r",
      "1/9 [==>...........................] - ETA: 0s - loss: 0.5072 - accuracy: 0.7000"
     ]
    },
    {
     "name": "stdout",
     "output_type": "stream",
     "text": [
      "\b\b\b\b\b\b\b\b\b\b\b\b\b\b\b\b\b\b\b\b\b\b\b\b\b\b\b\b\b\b\b\b\b\b\b\b\b\b\b\b\b\b\b\b\b\b\b\b\b\b\b\b\b\b\b\b\b\b\b\b\b\b\b\b\b\b\b\b\b\b\b\b\b\b\b\b\b\b\b\b\r",
      "9/9 [==============================] - 0s 6ms/step - loss: 0.4972 - accuracy: 0.7765 - val_loss: 0.5160 - val_accuracy: 0.7111\n"
     ]
    },
    {
     "name": "stdout",
     "output_type": "stream",
     "text": [
      "Epoch 195/400\n"
     ]
    },
    {
     "name": "stdout",
     "output_type": "stream",
     "text": [
      "\r",
      "1/9 [==>...........................] - ETA: 0s - loss: 0.4744 - accuracy: 0.8667"
     ]
    },
    {
     "name": "stdout",
     "output_type": "stream",
     "text": [
      "\b\b\b\b\b\b\b\b\b\b\b\b\b\b\b\b\b\b\b\b\b\b\b\b\b\b\b\b\b\b\b\b\b\b\b\b\b\b\b\b\b\b\b\b\b\b\b\b\b\b\b\b\b\b\b\b\b\b\b\b\b\b\b\b\b\b\b\b\b\b\b\b\b\b\b\b\b\b\b\b\r",
      "9/9 [==============================] - 0s 7ms/step - loss: 0.4969 - accuracy: 0.7725 - val_loss: 0.5164 - val_accuracy: 0.7111\n"
     ]
    },
    {
     "name": "stdout",
     "output_type": "stream",
     "text": [
      "Epoch 196/400\n"
     ]
    },
    {
     "name": "stdout",
     "output_type": "stream",
     "text": [
      "\r",
      "1/9 [==>...........................] - ETA: 0s - loss: 0.5455 - accuracy: 0.6667"
     ]
    },
    {
     "name": "stdout",
     "output_type": "stream",
     "text": [
      "\b\b\b\b\b\b\b\b\b\b\b\b\b\b\b\b\b\b\b\b\b\b\b\b\b\b\b\b\b\b\b\b\b\b\b\b\b\b\b\b\b\b\b\b\b\b\b\b\b\b\b\b\b\b\b\b\b\b\b\b\b\b\b\b\b\b\b\b\b\b\b\b\b\b\b\b\b\b\b\b\r",
      "9/9 [==============================] - 0s 7ms/step - loss: 0.4965 - accuracy: 0.7765 - val_loss: 0.5165 - val_accuracy: 0.7111\n"
     ]
    },
    {
     "name": "stdout",
     "output_type": "stream",
     "text": [
      "Epoch 197/400\n"
     ]
    },
    {
     "name": "stdout",
     "output_type": "stream",
     "text": [
      "\r",
      "1/9 [==>...........................] - ETA: 0s - loss: 0.4138 - accuracy: 0.8667"
     ]
    },
    {
     "name": "stdout",
     "output_type": "stream",
     "text": [
      "\b\b\b\b\b\b\b\b\b\b\b\b\b\b\b\b\b\b\b\b\b\b\b\b\b\b\b\b\b\b\b\b\b\b\b\b\b\b\b\b\b\b\b\b\b\b\b\b\b\b\b\b\b\b\b\b\b\b\b\b\b\b\b\b\b\b\b\b\b\b\b\b\b\b\b\b\b\b\b\b\r",
      "9/9 [==============================] - 0s 7ms/step - loss: 0.4961 - accuracy: 0.7765 - val_loss: 0.5162 - val_accuracy: 0.7111\n"
     ]
    },
    {
     "name": "stdout",
     "output_type": "stream",
     "text": [
      "Epoch 198/400\n"
     ]
    },
    {
     "name": "stdout",
     "output_type": "stream",
     "text": [
      "\r",
      "1/9 [==>...........................] - ETA: 0s - loss: 0.4589 - accuracy: 0.8333"
     ]
    },
    {
     "name": "stdout",
     "output_type": "stream",
     "text": [
      "\b\b\b\b\b\b\b\b\b\b\b\b\b\b\b\b\b\b\b\b\b\b\b\b\b\b\b\b\b\b\b\b\b\b\b\b\b\b\b\b\b\b\b\b\b\b\b\b\b\b\b\b\b\b\b\b\b\b\b\b\b\b\b\b\b\b\b\b\b\b\b\b\b\b\b\b\b\b\b\b\r",
      "9/9 [==============================] - 0s 10ms/step - loss: 0.4957 - accuracy: 0.7725 - val_loss: 0.5159 - val_accuracy: 0.7111\n"
     ]
    },
    {
     "name": "stdout",
     "output_type": "stream",
     "text": [
      "Epoch 199/400\n"
     ]
    },
    {
     "name": "stdout",
     "output_type": "stream",
     "text": [
      "\r",
      "1/9 [==>...........................] - ETA: 0s - loss: 0.5711 - accuracy: 0.6667"
     ]
    },
    {
     "name": "stdout",
     "output_type": "stream",
     "text": [
      "\b\b\b\b\b\b\b\b\b\b\b\b\b\b\b\b\b\b\b\b\b\b\b\b\b\b\b\b\b\b\b\b\b\b\b\b\b\b\b\b\b\b\b\b\b\b\b\b\b\b\b\b\b\b\b\b\b\b\b\b\b\b\b\b\b\b\b\b\b\b\b\b\b\b\b\b\b\b\b\b\r",
      "9/9 [==============================] - 0s 9ms/step - loss: 0.4954 - accuracy: 0.7843 - val_loss: 0.5162 - val_accuracy: 0.7111\n"
     ]
    },
    {
     "name": "stdout",
     "output_type": "stream",
     "text": [
      "Epoch 200/400\n"
     ]
    },
    {
     "name": "stdout",
     "output_type": "stream",
     "text": [
      "\r",
      "1/9 [==>...........................] - ETA: 0s - loss: 0.4375 - accuracy: 0.7667"
     ]
    },
    {
     "name": "stdout",
     "output_type": "stream",
     "text": [
      "\b\b\b\b\b\b\b\b\b\b\b\b\b\b\b\b\b\b\b\b\b\b\b\b\b\b\b\b\b\b\b\b\b\b\b\b\b\b\b\b\b\b\b\b\b\b\b\b\b\b\b\b\b\b\b\b\b\b\b\b\b\b\b\b\b\b\b\b\b\b\b\b\b\b\b\b\b\b\b\b\r",
      "9/9 [==============================] - 0s 9ms/step - loss: 0.4951 - accuracy: 0.7843 - val_loss: 0.5164 - val_accuracy: 0.7111\n"
     ]
    },
    {
     "name": "stdout",
     "output_type": "stream",
     "text": [
      "Epoch 201/400\n"
     ]
    },
    {
     "name": "stdout",
     "output_type": "stream",
     "text": [
      "\r",
      "1/9 [==>...........................] - ETA: 0s - loss: 0.5284 - accuracy: 0.7000"
     ]
    },
    {
     "name": "stdout",
     "output_type": "stream",
     "text": [
      "\b\b\b\b\b\b\b\b\b\b\b\b\b\b\b\b\b\b\b\b\b\b\b\b\b\b\b\b\b\b\b\b\b\b\b\b\b\b\b\b\b\b\b\b\b\b\b\b\b\b\b\b\b\b\b\b\b\b\b\b\b\b\b\b\b\b\b\b\b\b\b\b\b\b\b\b\b\b\b\b\r",
      "9/9 [==============================] - 0s 8ms/step - loss: 0.4946 - accuracy: 0.7882 - val_loss: 0.5163 - val_accuracy: 0.7111\n"
     ]
    },
    {
     "name": "stdout",
     "output_type": "stream",
     "text": [
      "Epoch 202/400\n"
     ]
    },
    {
     "name": "stdout",
     "output_type": "stream",
     "text": [
      "\r",
      "1/9 [==>...........................] - ETA: 0s - loss: 0.5246 - accuracy: 0.7000"
     ]
    },
    {
     "name": "stdout",
     "output_type": "stream",
     "text": [
      "\b\b\b\b\b\b\b\b\b\b\b\b\b\b\b\b\b\b\b\b\b\b\b\b\b\b\b\b\b\b\b\b\b\b\b\b\b\b\b\b\b\b\b\b\b\b\b\b\b\b\b\b\b\b\b\b\b\b\b\b\b\b\b\b\b\b\b\b\b\b\b\b\b\b\b\b\b\b\b\b\r",
      "9/9 [==============================] - 0s 5ms/step - loss: 0.4943 - accuracy: 0.7843 - val_loss: 0.5157 - val_accuracy: 0.7111\n"
     ]
    },
    {
     "name": "stdout",
     "output_type": "stream",
     "text": [
      "Epoch 203/400\n"
     ]
    },
    {
     "name": "stdout",
     "output_type": "stream",
     "text": [
      "\r",
      "1/9 [==>...........................] - ETA: 0s - loss: 0.6010 - accuracy: 0.7333"
     ]
    },
    {
     "name": "stdout",
     "output_type": "stream",
     "text": [
      "\b\b\b\b\b\b\b\b\b\b\b\b\b\b\b\b\b\b\b\b\b\b\b\b\b\b\b\b\b\b\b\b\b\b\b\b\b\b\b\b\b\b\b\b\b\b\b\b\b\b\b\b\b\b\b\b\b\b\b\b\b\b\b\b\b\b\b\b\b\b\b\b\b\b\b\b\b\b\b\b\r",
      "9/9 [==============================] - 0s 4ms/step - loss: 0.4939 - accuracy: 0.7843 - val_loss: 0.5159 - val_accuracy: 0.7111\n"
     ]
    },
    {
     "name": "stdout",
     "output_type": "stream",
     "text": [
      "Epoch 204/400\n"
     ]
    },
    {
     "name": "stdout",
     "output_type": "stream",
     "text": [
      "\r",
      "1/9 [==>...........................] - ETA: 0s - loss: 0.5031 - accuracy: 0.7000"
     ]
    },
    {
     "name": "stdout",
     "output_type": "stream",
     "text": [
      "\b\b\b\b\b\b\b\b\b\b\b\b\b\b\b\b\b\b\b\b\b\b\b\b\b\b\b\b\b\b\b\b\b\b\b\b\b\b\b\b\b\b\b\b\b\b\b\b\b\b\b\b\b\b\b\b\b\b\b\b\b\b\b\b\b\b\b\b\b\b\b\b\b\b\b\b\b\b\b\b\r",
      "9/9 [==============================] - 0s 6ms/step - loss: 0.4936 - accuracy: 0.7882 - val_loss: 0.5157 - val_accuracy: 0.7111\n"
     ]
    },
    {
     "name": "stdout",
     "output_type": "stream",
     "text": [
      "Epoch 205/400\n"
     ]
    },
    {
     "name": "stdout",
     "output_type": "stream",
     "text": [
      "\r",
      "1/9 [==>...........................] - ETA: 0s - loss: 0.5376 - accuracy: 0.7667"
     ]
    },
    {
     "name": "stdout",
     "output_type": "stream",
     "text": [
      "\b\b\b\b\b\b\b\b\b\b\b\b\b\b\b\b\b\b\b\b\b\b\b\b\b\b\b\b\b\b\b\b\b\b\b\b\b\b\b\b\b\b\b\b\b\b\b\b\b\b\b\b\b\b\b\b\b\b\b\b\b\b\b\b\b\b\b\b\b\b\b\b\b\b\b\b\b\b\b\b\r",
      "9/9 [==============================] - 0s 6ms/step - loss: 0.4932 - accuracy: 0.7882 - val_loss: 0.5160 - val_accuracy: 0.7111\n"
     ]
    },
    {
     "name": "stdout",
     "output_type": "stream",
     "text": [
      "Epoch 206/400\n"
     ]
    },
    {
     "name": "stdout",
     "output_type": "stream",
     "text": [
      "\r",
      "1/9 [==>...........................] - ETA: 0s - loss: 0.4826 - accuracy: 0.8000"
     ]
    },
    {
     "name": "stdout",
     "output_type": "stream",
     "text": [
      "\b\b\b\b\b\b\b\b\b\b\b\b\b\b\b\b\b\b\b\b\b\b\b\b\b\b\b\b\b\b\b\b\b\b\b\b\b\b\b\b\b\b\b\b\b\b\b\b\b\b\b\b\b\b\b\b\b\b\b\b\b\b\b\b\b\b\b\b\b\b\b\b\b\b\b\b\b\b\b\b\r",
      "9/9 [==============================] - 0s 5ms/step - loss: 0.4928 - accuracy: 0.7882 - val_loss: 0.5163 - val_accuracy: 0.7111\n"
     ]
    },
    {
     "name": "stdout",
     "output_type": "stream",
     "text": [
      "Epoch 207/400\n"
     ]
    },
    {
     "name": "stdout",
     "output_type": "stream",
     "text": [
      "\r",
      "1/9 [==>...........................] - ETA: 0s - loss: 0.5048 - accuracy: 0.8000"
     ]
    },
    {
     "name": "stdout",
     "output_type": "stream",
     "text": [
      "\b\b\b\b\b\b\b\b\b\b\b\b\b\b\b\b\b\b\b\b\b\b\b\b\b\b\b\b\b\b\b\b\b\b\b\b\b\b\b\b\b\b\b\b\b\b\b\b\b\b\b\b\b\b\b\b\b\b\b\b\b\b\b\b\b\b\b\b\b\b\b\b\b\b\b\b\b\b\b\b\r",
      "9/9 [==============================] - 0s 7ms/step - loss: 0.4926 - accuracy: 0.7882 - val_loss: 0.5168 - val_accuracy: 0.7111\n"
     ]
    },
    {
     "name": "stdout",
     "output_type": "stream",
     "text": [
      "Epoch 208/400\n"
     ]
    },
    {
     "name": "stdout",
     "output_type": "stream",
     "text": [
      "\r",
      "1/9 [==>...........................] - ETA: 0s - loss: 0.5582 - accuracy: 0.7667"
     ]
    },
    {
     "name": "stdout",
     "output_type": "stream",
     "text": [
      "\b\b\b\b\b\b\b\b\b\b\b\b\b\b\b\b\b\b\b\b\b\b\b\b\b\b\b\b\b\b\b\b\b\b\b\b\b\b\b\b\b\b\b\b\b\b\b\b\b\b\b\b\b\b\b\b\b\b\b\b\b\b\b\b\b\b\b\b\b\b\b\b\b\b\b\b\b\b\b\b\r",
      "9/9 [==============================] - 0s 6ms/step - loss: 0.4921 - accuracy: 0.7882 - val_loss: 0.5166 - val_accuracy: 0.7111\n"
     ]
    },
    {
     "name": "stdout",
     "output_type": "stream",
     "text": [
      "Epoch 209/400\n"
     ]
    },
    {
     "name": "stdout",
     "output_type": "stream",
     "text": [
      "\r",
      "1/9 [==>...........................] - ETA: 0s - loss: 0.5333 - accuracy: 0.7667"
     ]
    },
    {
     "name": "stdout",
     "output_type": "stream",
     "text": [
      "\b\b\b\b\b\b\b\b\b\b\b\b\b\b\b\b\b\b\b\b\b\b\b\b\b\b\b\b\b\b\b\b\b\b\b\b\b\b\b\b\b\b\b\b\b\b\b\b\b\b\b\b\b\b\b\b\b\b\b\b\b\b\b\b\b\b\b\b\b\b\b\b\b\b\b\b\b\b\b\b\r",
      "9/9 [==============================] - 0s 5ms/step - loss: 0.4918 - accuracy: 0.7882 - val_loss: 0.5162 - val_accuracy: 0.7111\n"
     ]
    },
    {
     "name": "stdout",
     "output_type": "stream",
     "text": [
      "Epoch 210/400\n"
     ]
    },
    {
     "name": "stdout",
     "output_type": "stream",
     "text": [
      "\r",
      "1/9 [==>...........................] - ETA: 0s - loss: 0.4060 - accuracy: 0.9000"
     ]
    },
    {
     "name": "stdout",
     "output_type": "stream",
     "text": [
      "\b\b\b\b\b\b\b\b\b\b\b\b\b\b\b\b\b\b\b\b\b\b\b\b\b\b\b\b\b\b\b\b\b\b\b\b\b\b\b\b\b\b\b\b\b\b\b\b\b\b\b\b\b\b\b\b\b\b\b\b\b\b\b\b\b\b\b\b\b\b\b\b\b\b\b\b\b\b\b\b\r",
      "9/9 [==============================] - 0s 5ms/step - loss: 0.4914 - accuracy: 0.7882 - val_loss: 0.5159 - val_accuracy: 0.7111\n"
     ]
    },
    {
     "name": "stdout",
     "output_type": "stream",
     "text": [
      "Epoch 211/400\n"
     ]
    },
    {
     "name": "stdout",
     "output_type": "stream",
     "text": [
      "\r",
      "1/9 [==>...........................] - ETA: 0s - loss: 0.5151 - accuracy: 0.8333"
     ]
    },
    {
     "name": "stdout",
     "output_type": "stream",
     "text": [
      "\b\b\b\b\b\b\b\b\b\b\b\b\b\b\b\b\b\b\b\b\b\b\b\b\b\b\b\b\b\b\b\b\b\b\b\b\b\b\b\b\b\b\b\b\b\b\b\b\b\b\b\b\b\b\b\b\b\b\b\b\b\b\b\b\b\b\b\b\b\b\b\b\b\b\b\b\b\b\b\b\r",
      "9/9 [==============================] - 0s 5ms/step - loss: 0.4912 - accuracy: 0.7882 - val_loss: 0.5156 - val_accuracy: 0.7111\n"
     ]
    },
    {
     "name": "stdout",
     "output_type": "stream",
     "text": [
      "Epoch 212/400\n"
     ]
    },
    {
     "name": "stdout",
     "output_type": "stream",
     "text": [
      "\r",
      "1/9 [==>...........................] - ETA: 0s - loss: 0.4327 - accuracy: 0.8333"
     ]
    },
    {
     "name": "stdout",
     "output_type": "stream",
     "text": [
      "\b\b\b\b\b\b\b\b\b\b\b\b\b\b\b\b\b\b\b\b\b\b\b\b\b\b\b\b\b\b\b\b\b\b\b\b\b\b\b\b\b\b\b\b\b\b\b\b\b\b\b\b\b\b\b\b\b\b\b\b\b\b\b\b\b\b\b\b\b\b\b\b\b\b\b\b\b\b\b\b\r",
      "9/9 [==============================] - 0s 5ms/step - loss: 0.4908 - accuracy: 0.7882 - val_loss: 0.5157 - val_accuracy: 0.7111\n"
     ]
    },
    {
     "name": "stdout",
     "output_type": "stream",
     "text": [
      "Epoch 213/400\n"
     ]
    },
    {
     "name": "stdout",
     "output_type": "stream",
     "text": [
      "\r",
      "1/9 [==>...........................] - ETA: 0s - loss: 0.5506 - accuracy: 0.7000"
     ]
    },
    {
     "name": "stdout",
     "output_type": "stream",
     "text": [
      "\b\b\b\b\b\b\b\b\b\b\b\b\b\b\b\b\b\b\b\b\b\b\b\b\b\b\b\b\b\b\b\b\b\b\b\b\b\b\b\b\b\b\b\b\b\b\b\b\b\b\b\b\b\b\b\b\b\b\b\b\b\b\b\b\b\b\b\b\b\b\b\b\b\b\b\b\b\b\b\b\r",
      "9/9 [==============================] - 0s 6ms/step - loss: 0.4904 - accuracy: 0.7882 - val_loss: 0.5165 - val_accuracy: 0.6889\n"
     ]
    },
    {
     "name": "stdout",
     "output_type": "stream",
     "text": [
      "Epoch 214/400\n"
     ]
    },
    {
     "name": "stdout",
     "output_type": "stream",
     "text": [
      "\r",
      "1/9 [==>...........................] - ETA: 0s - loss: 0.5136 - accuracy: 0.8333"
     ]
    },
    {
     "name": "stdout",
     "output_type": "stream",
     "text": [
      "\b\b\b\b\b\b\b\b\b\b\b\b\b\b\b\b\b\b\b\b\b\b\b\b\b\b\b\b\b\b\b\b\b\b\b\b\b\b\b\b\b\b\b\b\b\b\b\b\b\b\b\b\b\b\b\b\b\b\b\b\b\b\b\b\b\b\b\b\b\b\b\b\b\b\b\b\b\b\b\b\r",
      "9/9 [==============================] - 0s 7ms/step - loss: 0.4901 - accuracy: 0.7882 - val_loss: 0.5164 - val_accuracy: 0.6889\n"
     ]
    },
    {
     "name": "stdout",
     "output_type": "stream",
     "text": [
      "Epoch 215/400\n"
     ]
    },
    {
     "name": "stdout",
     "output_type": "stream",
     "text": [
      "\r",
      "1/9 [==>...........................] - ETA: 0s - loss: 0.5081 - accuracy: 0.7667"
     ]
    },
    {
     "name": "stdout",
     "output_type": "stream",
     "text": [
      "\b\b\b\b\b\b\b\b\b\b\b\b\b\b\b\b\b\b\b\b\b\b\b\b\b\b\b\b\b\b\b\b\b\b\b\b\b\b\b\b\b\b\b\b\b\b\b\b\b\b\b\b\b\b\b\b\b\b\b\b\b\b\b\b\b\b\b\b\b\b\b\b\b\b\b\b\b\b\b\b\r",
      "9/9 [==============================] - 0s 6ms/step - loss: 0.4897 - accuracy: 0.7882 - val_loss: 0.5164 - val_accuracy: 0.6889\n"
     ]
    },
    {
     "name": "stdout",
     "output_type": "stream",
     "text": [
      "Epoch 216/400\n"
     ]
    },
    {
     "name": "stdout",
     "output_type": "stream",
     "text": [
      "\r",
      "1/9 [==>...........................] - ETA: 0s - loss: 0.5200 - accuracy: 0.8000"
     ]
    },
    {
     "name": "stdout",
     "output_type": "stream",
     "text": [
      "\b\b\b\b\b\b\b\b\b\b\b\b\b\b\b\b\b\b\b\b\b\b\b\b\b\b\b\b\b\b\b\b\b\b\b\b\b\b\b\b\b\b\b\b\b\b\b\b\b\b\b\b\b\b\b\b\b\b\b\b\b\b\b\b\b\b\b\b\b\b\b\b\b\b\b\b\b\b\b\b\r",
      "9/9 [==============================] - 0s 6ms/step - loss: 0.4895 - accuracy: 0.7882 - val_loss: 0.5169 - val_accuracy: 0.6889\n"
     ]
    },
    {
     "name": "stdout",
     "output_type": "stream",
     "text": [
      "Epoch 217/400\n"
     ]
    },
    {
     "name": "stdout",
     "output_type": "stream",
     "text": [
      "\r",
      "1/9 [==>...........................] - ETA: 0s - loss: 0.4201 - accuracy: 0.8333"
     ]
    },
    {
     "name": "stdout",
     "output_type": "stream",
     "text": [
      "\b\b\b\b\b\b\b\b\b\b\b\b\b\b\b\b\b\b\b\b\b\b\b\b\b\b\b\b\b\b\b\b\b\b\b\b\b\b\b\b\b\b\b\b\b\b\b\b\b\b\b\b\b\b\b\b\b\b\b\b\b\b\b\b\b\b\b\b\b\b\b\b\b\b\b\b\b\b\b\b\r",
      "9/9 [==============================] - 0s 6ms/step - loss: 0.4890 - accuracy: 0.7882 - val_loss: 0.5162 - val_accuracy: 0.6889\n"
     ]
    },
    {
     "name": "stdout",
     "output_type": "stream",
     "text": [
      "Epoch 218/400\n"
     ]
    },
    {
     "name": "stdout",
     "output_type": "stream",
     "text": [
      "\r",
      "1/9 [==>...........................] - ETA: 0s - loss: 0.5339 - accuracy: 0.7667"
     ]
    },
    {
     "name": "stdout",
     "output_type": "stream",
     "text": [
      "\b\b\b\b\b\b\b\b\b\b\b\b\b\b\b\b\b\b\b\b\b\b\b\b\b\b\b\b\b\b\b\b\b\b\b\b\b\b\b\b\b\b\b\b\b\b\b\b\b\b\b\b\b\b\b\b\b\b\b\b\b\b\b\b\b\b\b\b\b\b\b\b\b\b\b\b\b\b\b\b\r",
      "9/9 [==============================] - 0s 6ms/step - loss: 0.4887 - accuracy: 0.7882 - val_loss: 0.5163 - val_accuracy: 0.6889\n"
     ]
    },
    {
     "name": "stdout",
     "output_type": "stream",
     "text": [
      "Epoch 219/400\n"
     ]
    },
    {
     "name": "stdout",
     "output_type": "stream",
     "text": [
      "\r",
      "1/9 [==>...........................] - ETA: 0s - loss: 0.5713 - accuracy: 0.7333"
     ]
    },
    {
     "name": "stdout",
     "output_type": "stream",
     "text": [
      "\b\b\b\b\b\b\b\b\b\b\b\b\b\b\b\b\b\b\b\b\b\b\b\b\b\b\b\b\b\b\b\b\b\b\b\b\b\b\b\b\b\b\b\b\b\b\b\b\b\b\b\b\b\b\b\b\b\b\b\b\b\b\b\b\b\b\b\b\b\b\b\b\b\b\b\b\b\b\b\b\r",
      "9/9 [==============================] - 0s 6ms/step - loss: 0.4884 - accuracy: 0.7882 - val_loss: 0.5153 - val_accuracy: 0.6889\n"
     ]
    },
    {
     "name": "stdout",
     "output_type": "stream",
     "text": [
      "Epoch 220/400\n"
     ]
    },
    {
     "name": "stdout",
     "output_type": "stream",
     "text": [
      "\r",
      "1/9 [==>...........................] - ETA: 0s - loss: 0.4515 - accuracy: 0.8667"
     ]
    },
    {
     "name": "stdout",
     "output_type": "stream",
     "text": [
      "\b\b\b\b\b\b\b\b\b\b\b\b\b\b\b\b\b\b\b\b\b\b\b\b\b\b\b\b\b\b\b\b\b\b\b\b\b\b\b\b\b\b\b\b\b\b\b\b\b\b\b\b\b\b\b\b\b\b\b\b\b\b\b\b\b\b\b\b\b\b\b\b\b\b\b\b\b\b\b\b\r",
      "9/9 [==============================] - 0s 5ms/step - loss: 0.4880 - accuracy: 0.7882 - val_loss: 0.5153 - val_accuracy: 0.6889\n"
     ]
    },
    {
     "name": "stdout",
     "output_type": "stream",
     "text": [
      "Epoch 221/400\n"
     ]
    },
    {
     "name": "stdout",
     "output_type": "stream",
     "text": [
      "\r",
      "1/9 [==>...........................] - ETA: 0s - loss: 0.5360 - accuracy: 0.7333"
     ]
    },
    {
     "name": "stdout",
     "output_type": "stream",
     "text": [
      "\b\b\b\b\b\b\b\b\b\b\b\b\b\b\b\b\b\b\b\b\b\b\b\b\b\b\b\b\b\b\b\b\b\b\b\b\b\b\b\b\b\b\b\b\b\b\b\b\b\b\b\b\b\b\b\b\b\b\b\b\b\b\b\b\b\b\b\b\b\b\b\b\b\b\b\b\b\b\b\b\r",
      "9/9 [==============================] - 0s 7ms/step - loss: 0.4877 - accuracy: 0.7922 - val_loss: 0.5148 - val_accuracy: 0.6889\n"
     ]
    },
    {
     "name": "stdout",
     "output_type": "stream",
     "text": [
      "Epoch 222/400\n"
     ]
    },
    {
     "name": "stdout",
     "output_type": "stream",
     "text": [
      "\r",
      "1/9 [==>...........................] - ETA: 0s - loss: 0.4775 - accuracy: 0.7000"
     ]
    },
    {
     "name": "stdout",
     "output_type": "stream",
     "text": [
      "\b\b\b\b\b\b\b\b\b\b\b\b\b\b\b\b\b\b\b\b\b\b\b\b\b\b\b\b\b\b\b\b\b\b\b\b\b\b\b\b\b\b\b\b\b\b\b\b\b\b\b\b\b\b\b\b\b\b\b\b\b\b\b\b\b\b\b\b\b\b\b\b\b\b\b\b\b\b\b\b\r",
      "9/9 [==============================] - 0s 9ms/step - loss: 0.4873 - accuracy: 0.7922 - val_loss: 0.5150 - val_accuracy: 0.6889\n"
     ]
    },
    {
     "name": "stdout",
     "output_type": "stream",
     "text": [
      "Epoch 223/400\n"
     ]
    },
    {
     "name": "stdout",
     "output_type": "stream",
     "text": [
      "\r",
      "1/9 [==>...........................] - ETA: 0s - loss: 0.5696 - accuracy: 0.7667"
     ]
    },
    {
     "name": "stdout",
     "output_type": "stream",
     "text": [
      "\b\b\b\b\b\b\b\b\b\b\b\b\b\b\b\b\b\b\b\b\b\b\b\b\b\b\b\b\b\b\b\b\b\b\b\b\b\b\b\b\b\b\b\b\b\b\b\b\b\b\b\b\b\b\b\b\b\b\b\b\b\b\b\b\b\b\b\b\b\b\b\b\b\b\b\b\b\b\b\b\r",
      "9/9 [==============================] - 0s 10ms/step - loss: 0.4871 - accuracy: 0.7922 - val_loss: 0.5147 - val_accuracy: 0.6889\n"
     ]
    },
    {
     "name": "stdout",
     "output_type": "stream",
     "text": [
      "Epoch 224/400\n"
     ]
    },
    {
     "name": "stdout",
     "output_type": "stream",
     "text": [
      "\r",
      "1/9 [==>...........................] - ETA: 0s - loss: 0.4281 - accuracy: 0.8000"
     ]
    },
    {
     "name": "stdout",
     "output_type": "stream",
     "text": [
      "\b\b\b\b\b\b\b\b\b\b\b\b\b\b\b\b\b\b\b\b\b\b\b\b\b\b\b\b\b\b\b\b\b\b\b\b\b\b\b\b\b\b\b\b\b\b\b\b\b\b\b\b\b\b\b\b\b\b\b\b\b\b\b\b\b\b\b\b\b\b\b\b\b\b\b\b\b\b\b\b\r",
      "9/9 [==============================] - 0s 11ms/step - loss: 0.4867 - accuracy: 0.7922 - val_loss: 0.5150 - val_accuracy: 0.6889\n"
     ]
    },
    {
     "name": "stdout",
     "output_type": "stream",
     "text": [
      "Epoch 225/400\n"
     ]
    },
    {
     "name": "stdout",
     "output_type": "stream",
     "text": [
      "\r",
      "1/9 [==>...........................] - ETA: 0s - loss: 0.6029 - accuracy: 0.6667"
     ]
    },
    {
     "name": "stdout",
     "output_type": "stream",
     "text": [
      "\b\b\b\b\b\b\b\b\b\b\b\b\b\b\b\b\b\b\b\b\b\b\b\b\b\b\b\b\b\b\b\b\b\b\b\b\b\b\b\b\b\b\b\b\b\b\b\b\b\b\b\b\b\b\b\b\b\b\b\b\b\b\b\b\b\b\b\b\b\b\b\b\b\b\b\b\b\b\b\b\r",
      "9/9 [==============================] - 0s 9ms/step - loss: 0.4864 - accuracy: 0.7922 - val_loss: 0.5147 - val_accuracy: 0.6889\n"
     ]
    },
    {
     "name": "stdout",
     "output_type": "stream",
     "text": [
      "Epoch 226/400\n"
     ]
    },
    {
     "name": "stdout",
     "output_type": "stream",
     "text": [
      "\r",
      "1/9 [==>...........................] - ETA: 0s - loss: 0.4884 - accuracy: 0.8333"
     ]
    },
    {
     "name": "stdout",
     "output_type": "stream",
     "text": [
      "\b\b\b\b\b\b\b\b\b\b\b\b\b\b\b\b\b\b\b\b\b\b\b\b\b\b\b\b\b\b\b\b\b\b\b\b\b\b\b\b\b\b\b\b\b\b\b\b\b\b\b\b\b\b\b\b\b\b\b\b\b\b\b\b\b\b\b\b\b\b\b\b\b\b\b\b\b\b\b\b\r",
      "9/9 [==============================] - 0s 10ms/step - loss: 0.4861 - accuracy: 0.7922 - val_loss: 0.5150 - val_accuracy: 0.6889\n"
     ]
    },
    {
     "name": "stdout",
     "output_type": "stream",
     "text": [
      "Epoch 227/400\n"
     ]
    },
    {
     "name": "stdout",
     "output_type": "stream",
     "text": [
      "\r",
      "1/9 [==>...........................] - ETA: 0s - loss: 0.4800 - accuracy: 0.7000"
     ]
    },
    {
     "name": "stdout",
     "output_type": "stream",
     "text": [
      "\b\b\b\b\b\b\b\b\b\b\b\b\b\b\b\b\b\b\b\b\b\b\b\b\b\b\b\b\b\b\b\b\b\b\b\b\b\b\b\b\b\b\b\b\b\b\b\b\b\b\b\b\b\b\b\b\b\b\b\b\b\b\b\b\b\b\b\b\b\b\b\b\b\b\b\b\b\b\b\b\r",
      "9/9 [==============================] - 0s 4ms/step - loss: 0.4858 - accuracy: 0.7882 - val_loss: 0.5148 - val_accuracy: 0.6889\n"
     ]
    },
    {
     "name": "stdout",
     "output_type": "stream",
     "text": [
      "Epoch 228/400\n"
     ]
    },
    {
     "name": "stdout",
     "output_type": "stream",
     "text": [
      "\r",
      "1/9 [==>...........................] - ETA: 0s - loss: 0.4467 - accuracy: 0.7667"
     ]
    },
    {
     "name": "stdout",
     "output_type": "stream",
     "text": [
      "\b\b\b\b\b\b\b\b\b\b\b\b\b\b\b\b\b\b\b\b\b\b\b\b\b\b\b\b\b\b\b\b\b\b\b\b\b\b\b\b\b\b\b\b\b\b\b\b\b\b\b\b\b\b\b\b\b\b\b\b\b\b\b\b\b\b\b\b\b\b\b\b\b\b\b\b\b\b\b\b\r",
      "9/9 [==============================] - 0s 5ms/step - loss: 0.4854 - accuracy: 0.7922 - val_loss: 0.5144 - val_accuracy: 0.6889\n"
     ]
    },
    {
     "name": "stdout",
     "output_type": "stream",
     "text": [
      "Epoch 229/400\n"
     ]
    },
    {
     "name": "stdout",
     "output_type": "stream",
     "text": [
      "\r",
      "1/9 [==>...........................] - ETA: 0s - loss: 0.4529 - accuracy: 0.8000"
     ]
    },
    {
     "name": "stdout",
     "output_type": "stream",
     "text": [
      "\b\b\b\b\b\b\b\b\b\b\b\b\b\b\b\b\b\b\b\b\b\b\b\b\b\b\b\b\b\b\b\b\b\b\b\b\b\b\b\b\b\b\b\b\b\b\b\b\b\b\b\b\b\b\b\b\b\b\b\b\b\b\b\b\b\b\b\b\b\b\b\b\b\b\b\b\b\b\b\b\r",
      "9/9 [==============================] - 0s 6ms/step - loss: 0.4851 - accuracy: 0.7922 - val_loss: 0.5147 - val_accuracy: 0.6889\n"
     ]
    },
    {
     "name": "stdout",
     "output_type": "stream",
     "text": [
      "Epoch 230/400\n"
     ]
    },
    {
     "name": "stdout",
     "output_type": "stream",
     "text": [
      "\r",
      "1/9 [==>...........................] - ETA: 0s - loss: 0.5125 - accuracy: 0.8000"
     ]
    },
    {
     "name": "stdout",
     "output_type": "stream",
     "text": [
      "\b\b\b\b\b\b\b\b\b\b\b\b\b\b\b\b\b\b\b\b\b\b\b\b\b\b\b\b\b\b\b\b\b\b\b\b\b\b\b\b\b\b\b\b\b\b\b\b\b\b\b\b\b\b\b\b\b\b\b\b\b\b\b\b\b\b\b\b\b\b\b\b\b\b\b\b\b\b\b\b\r",
      "9/9 [==============================] - 0s 5ms/step - loss: 0.4848 - accuracy: 0.7922 - val_loss: 0.5145 - val_accuracy: 0.6889\n"
     ]
    },
    {
     "name": "stdout",
     "output_type": "stream",
     "text": [
      "Epoch 231/400\n"
     ]
    },
    {
     "name": "stdout",
     "output_type": "stream",
     "text": [
      "\r",
      "1/9 [==>...........................] - ETA: 0s - loss: 0.4163 - accuracy: 0.7667"
     ]
    },
    {
     "name": "stdout",
     "output_type": "stream",
     "text": [
      "\b\b\b\b\b\b\b\b\b\b\b\b\b\b\b\b\b\b\b\b\b\b\b\b\b\b\b\b\b\b\b\b\b\b\b\b\b\b\b\b\b\b\b\b\b\b\b\b\b\b\b\b\b\b\b\b\b\b\b\b\b\b\b\b\b\b\b\b\b\b\b\b\b\b\b\b\b\b\b\b\r",
      "9/9 [==============================] - 0s 5ms/step - loss: 0.4845 - accuracy: 0.7922 - val_loss: 0.5143 - val_accuracy: 0.6889\n"
     ]
    },
    {
     "name": "stdout",
     "output_type": "stream",
     "text": [
      "Epoch 232/400\n"
     ]
    },
    {
     "name": "stdout",
     "output_type": "stream",
     "text": [
      "\r",
      "1/9 [==>...........................] - ETA: 0s - loss: 0.6450 - accuracy: 0.6333"
     ]
    },
    {
     "name": "stdout",
     "output_type": "stream",
     "text": [
      "\b\b\b\b\b\b\b\b\b\b\b\b\b\b\b\b\b\b\b\b\b\b\b\b\b\b\b\b\b\b\b\b\b\b\b\b\b\b\b\b\b\b\b\b\b\b\b\b\b\b\b\b\b\b\b\b\b\b\b\b\b\b\b\b\b\b\b\b\b\b\b\b\b\b\b\b\b\b\b\b\r",
      "9/9 [==============================] - 0s 6ms/step - loss: 0.4843 - accuracy: 0.7922 - val_loss: 0.5149 - val_accuracy: 0.6889\n"
     ]
    },
    {
     "name": "stdout",
     "output_type": "stream",
     "text": [
      "Epoch 233/400\n"
     ]
    },
    {
     "name": "stdout",
     "output_type": "stream",
     "text": [
      "\r",
      "1/9 [==>...........................] - ETA: 0s - loss: 0.5600 - accuracy: 0.7333"
     ]
    },
    {
     "name": "stdout",
     "output_type": "stream",
     "text": [
      "\b\b\b\b\b\b\b\b\b\b\b\b\b\b\b\b\b\b\b\b\b\b\b\b\b\b\b\b\b\b\b\b\b\b\b\b\b\b\b\b\b\b\b\b\b\b\b\b\b\b\b\b\b\b\b\b\b\b\b\b\b\b\b\b\b\b\b\b\b\b\b\b\b\b\b\b\b\b\b\b\r",
      "9/9 [==============================] - 0s 5ms/step - loss: 0.4838 - accuracy: 0.7922 - val_loss: 0.5151 - val_accuracy: 0.6889\n"
     ]
    },
    {
     "name": "stdout",
     "output_type": "stream",
     "text": [
      "Epoch 234/400\n"
     ]
    },
    {
     "name": "stdout",
     "output_type": "stream",
     "text": [
      "\r",
      "1/9 [==>...........................] - ETA: 0s - loss: 0.5274 - accuracy: 0.7000"
     ]
    },
    {
     "name": "stdout",
     "output_type": "stream",
     "text": [
      "\b\b\b\b\b\b\b\b\b\b\b\b\b\b\b\b\b\b\b\b\b\b\b\b\b\b\b\b\b\b\b\b\b\b\b\b\b\b\b\b\b\b\b\b\b\b\b\b\b\b\b\b\b\b\b\b\b\b\b\b\b\b\b\b\b\b\b\b\b\b\b\b\b\b\b\b\b\b\b\b\r",
      "9/9 [==============================] - 0s 5ms/step - loss: 0.4835 - accuracy: 0.7843 - val_loss: 0.5149 - val_accuracy: 0.6889\n"
     ]
    },
    {
     "name": "stdout",
     "output_type": "stream",
     "text": [
      "Epoch 235/400\n"
     ]
    },
    {
     "name": "stdout",
     "output_type": "stream",
     "text": [
      "\r",
      "1/9 [==>...........................] - ETA: 0s - loss: 0.6396 - accuracy: 0.7000"
     ]
    },
    {
     "name": "stdout",
     "output_type": "stream",
     "text": [
      "\b\b\b\b\b\b\b\b\b\b\b\b\b\b\b\b\b\b\b\b\b\b\b\b\b\b\b\b\b\b\b\b\b\b\b\b\b\b\b\b\b\b\b\b\b\b\b\b\b\b\b\b\b\b\b\b\b\b\b\b\b\b\b\b\b\b\b\b\b\b\b\b\b\b\b\b\b\b\b\b\r",
      "9/9 [==============================] - 0s 5ms/step - loss: 0.4832 - accuracy: 0.7882 - val_loss: 0.5144 - val_accuracy: 0.6889\n"
     ]
    },
    {
     "name": "stdout",
     "output_type": "stream",
     "text": [
      "Epoch 236/400\n"
     ]
    },
    {
     "name": "stdout",
     "output_type": "stream",
     "text": [
      "\r",
      "1/9 [==>...........................] - ETA: 0s - loss: 0.3776 - accuracy: 0.9000"
     ]
    },
    {
     "name": "stdout",
     "output_type": "stream",
     "text": [
      "\b\b\b\b\b\b\b\b\b\b\b\b\b\b\b\b\b\b\b\b\b\b\b\b\b\b\b\b\b\b\b\b\b\b\b\b\b\b\b\b\b\b\b\b\b\b\b\b\b\b\b\b\b\b\b\b\b\b\b\b\b\b\b\b\b\b\b\b\b\b\b\b\b\b\b\b\b\b\b\b\r",
      "9/9 [==============================] - 0s 5ms/step - loss: 0.4830 - accuracy: 0.7882 - val_loss: 0.5141 - val_accuracy: 0.6889\n"
     ]
    },
    {
     "name": "stdout",
     "output_type": "stream",
     "text": [
      "Epoch 237/400\n"
     ]
    },
    {
     "name": "stdout",
     "output_type": "stream",
     "text": [
      "\r",
      "1/9 [==>...........................] - ETA: 0s - loss: 0.5023 - accuracy: 0.7000"
     ]
    },
    {
     "name": "stdout",
     "output_type": "stream",
     "text": [
      "\b\b\b\b\b\b\b\b\b\b\b\b\b\b\b\b\b\b\b\b\b\b\b\b\b\b\b\b\b\b\b\b\b\b\b\b\b\b\b\b\b\b\b\b\b\b\b\b\b\b\b\b\b\b\b\b\b\b\b\b\b\b\b\b\b\b\b\b\b\b\b\b\b\b\b\b\b\b\b\b\r",
      "9/9 [==============================] - 0s 5ms/step - loss: 0.4825 - accuracy: 0.7882 - val_loss: 0.5136 - val_accuracy: 0.6889\n"
     ]
    },
    {
     "name": "stdout",
     "output_type": "stream",
     "text": [
      "Epoch 238/400\n"
     ]
    },
    {
     "name": "stdout",
     "output_type": "stream",
     "text": [
      "\r",
      "1/9 [==>...........................] - ETA: 0s - loss: 0.4327 - accuracy: 0.7667"
     ]
    },
    {
     "name": "stdout",
     "output_type": "stream",
     "text": [
      "\b\b\b\b\b\b\b\b\b\b\b\b\b\b\b\b\b\b\b\b\b\b\b\b\b\b\b\b\b\b\b\b\b\b\b\b\b\b\b\b\b\b\b\b\b\b\b\b\b\b\b\b\b\b\b\b\b\b\b\b\b\b\b\b\b\b\b\b\b\b\b\b\b\b\b\b\b\b\b\b\r",
      "9/9 [==============================] - 0s 4ms/step - loss: 0.4823 - accuracy: 0.7882 - val_loss: 0.5129 - val_accuracy: 0.6889\n"
     ]
    },
    {
     "name": "stdout",
     "output_type": "stream",
     "text": [
      "Epoch 239/400\n"
     ]
    },
    {
     "name": "stdout",
     "output_type": "stream",
     "text": [
      "\r",
      "1/9 [==>...........................] - ETA: 0s - loss: 0.5253 - accuracy: 0.8333"
     ]
    },
    {
     "name": "stdout",
     "output_type": "stream",
     "text": [
      "\b\b\b\b\b\b\b\b\b\b\b\b\b\b\b\b\b\b\b\b\b\b\b\b\b\b\b\b\b\b\b\b\b\b\b\b\b\b\b\b\b\b\b\b\b\b\b\b\b\b\b\b\b\b\b\b\b\b\b\b\b\b\b\b\b\b\b\b\b\b\b\b\b\b\b\b\b\b\b\b\r",
      "9/9 [==============================] - 0s 4ms/step - loss: 0.4820 - accuracy: 0.7922 - val_loss: 0.5126 - val_accuracy: 0.6889\n"
     ]
    },
    {
     "name": "stdout",
     "output_type": "stream",
     "text": [
      "Epoch 240/400\n"
     ]
    },
    {
     "name": "stdout",
     "output_type": "stream",
     "text": [
      "\r",
      "1/9 [==>...........................] - ETA: 0s - loss: 0.5575 - accuracy: 0.7333"
     ]
    },
    {
     "name": "stdout",
     "output_type": "stream",
     "text": [
      "\b\b\b\b\b\b\b\b\b\b\b\b\b\b\b\b\b\b\b\b\b\b\b\b\b\b\b\b\b\b\b\b\b\b\b\b\b\b\b\b\b\b\b\b\b\b\b\b\b\b\b\b\b\b\b\b\b\b\b\b\b\b\b\b\b\b\b\b\b\b\b\b\b\b\b\b\b\b\b\b\r",
      "9/9 [==============================] - 0s 4ms/step - loss: 0.4817 - accuracy: 0.7922 - val_loss: 0.5126 - val_accuracy: 0.6889\n"
     ]
    },
    {
     "name": "stdout",
     "output_type": "stream",
     "text": [
      "Epoch 241/400\n"
     ]
    },
    {
     "name": "stdout",
     "output_type": "stream",
     "text": [
      "\r",
      "1/9 [==>...........................] - ETA: 0s - loss: 0.6531 - accuracy: 0.6333"
     ]
    },
    {
     "name": "stdout",
     "output_type": "stream",
     "text": [
      "\b\b\b\b\b\b\b\b\b\b\b\b\b\b\b\b\b\b\b\b\b\b\b\b\b\b\b\b\b\b\b\b\b\b\b\b\b\b\b\b\b\b\b\b\b\b\b\b\b\b\b\b\b\b\b\b\b\b\b\b\b\b\b\b\b\b\b\b\b\b\b\b\b\b\b\b\b\b\b\b\r",
      "9/9 [==============================] - 0s 5ms/step - loss: 0.4814 - accuracy: 0.7882 - val_loss: 0.5131 - val_accuracy: 0.6889\n"
     ]
    },
    {
     "name": "stdout",
     "output_type": "stream",
     "text": [
      "Epoch 242/400\n"
     ]
    },
    {
     "name": "stdout",
     "output_type": "stream",
     "text": [
      "\r",
      "1/9 [==>...........................] - ETA: 0s - loss: 0.4777 - accuracy: 0.7333"
     ]
    },
    {
     "name": "stdout",
     "output_type": "stream",
     "text": [
      "\b\b\b\b\b\b\b\b\b\b\b\b\b\b\b\b\b\b\b\b\b\b\b\b\b\b\b\b\b\b\b\b\b\b\b\b\b\b\b\b\b\b\b\b\b\b\b\b\b\b\b\b\b\b\b\b\b\b\b\b\b\b\b\b\b\b\b\b\b\b\b\b\b\b\b\b\b\b\b\b\r",
      "9/9 [==============================] - 0s 6ms/step - loss: 0.4812 - accuracy: 0.7882 - val_loss: 0.5123 - val_accuracy: 0.6889\n"
     ]
    },
    {
     "name": "stdout",
     "output_type": "stream",
     "text": [
      "Epoch 243/400\n"
     ]
    },
    {
     "name": "stdout",
     "output_type": "stream",
     "text": [
      "\r",
      "1/9 [==>...........................] - ETA: 0s - loss: 0.4857 - accuracy: 0.8000"
     ]
    },
    {
     "name": "stdout",
     "output_type": "stream",
     "text": [
      "\b\b\b\b\b\b\b\b\b\b\b\b\b\b\b\b\b\b\b\b\b\b\b\b\b\b\b\b\b\b\b\b\b\b\b\b\b\b\b\b\b\b\b\b\b\b\b\b\b\b\b\b\b\b\b\b\b\b\b\b\b\b\b\b\b\b\b\b\b\b\b\b\b\b\b\b\b\b\b\b\r",
      "9/9 [==============================] - 0s 6ms/step - loss: 0.4808 - accuracy: 0.7882 - val_loss: 0.5128 - val_accuracy: 0.6889\n"
     ]
    },
    {
     "name": "stdout",
     "output_type": "stream",
     "text": [
      "Epoch 244/400\n"
     ]
    },
    {
     "name": "stdout",
     "output_type": "stream",
     "text": [
      "\r",
      "1/9 [==>...........................] - ETA: 0s - loss: 0.3405 - accuracy: 0.9667"
     ]
    },
    {
     "name": "stdout",
     "output_type": "stream",
     "text": [
      "\b\b\b\b\b\b\b\b\b\b\b\b\b\b\b\b\b\b\b\b\b\b\b\b\b\b\b\b\b\b\b\b\b\b\b\b\b\b\b\b\b\b\b\b\b\b\b\b\b\b\b\b\b\b\b\b\b\b\b\b\b\b\b\b\b\b\b\b\b\b\b\b\b\b\b\b\b\b\b\b\r",
      "9/9 [==============================] - 0s 5ms/step - loss: 0.4804 - accuracy: 0.7882 - val_loss: 0.5129 - val_accuracy: 0.6889\n"
     ]
    },
    {
     "name": "stdout",
     "output_type": "stream",
     "text": [
      "Epoch 245/400\n"
     ]
    },
    {
     "name": "stdout",
     "output_type": "stream",
     "text": [
      "\r",
      "1/9 [==>...........................] - ETA: 0s - loss: 0.5498 - accuracy: 0.7333"
     ]
    },
    {
     "name": "stdout",
     "output_type": "stream",
     "text": [
      "\b\b\b\b\b\b\b\b\b\b\b\b\b\b\b\b\b\b\b\b\b\b\b\b\b\b\b\b\b\b\b\b\b\b\b\b\b\b\b\b\b\b\b\b\b\b\b\b\b\b\b\b\b\b\b\b\b\b\b\b\b\b\b\b\b\b\b\b\b\b\b\b\b\b\b\b\b\b\b\b\r",
      "9/9 [==============================] - 0s 5ms/step - loss: 0.4801 - accuracy: 0.7882 - val_loss: 0.5134 - val_accuracy: 0.6889\n"
     ]
    },
    {
     "name": "stdout",
     "output_type": "stream",
     "text": [
      "Epoch 246/400\n"
     ]
    },
    {
     "name": "stdout",
     "output_type": "stream",
     "text": [
      "\r",
      "1/9 [==>...........................] - ETA: 0s - loss: 0.4258 - accuracy: 0.7667"
     ]
    },
    {
     "name": "stdout",
     "output_type": "stream",
     "text": [
      "\b\b\b\b\b\b\b\b\b\b\b\b\b\b\b\b\b\b\b\b\b\b\b\b\b\b\b\b\b\b\b\b\b\b\b\b\b\b\b\b\b\b\b\b\b\b\b\b\b\b\b\b\b\b\b\b\b\b\b\b\b\b\b\b\b\b\b\b\b\b\b\b\b\b\b\b\b\b\b\b\r",
      "9/9 [==============================] - 0s 5ms/step - loss: 0.4798 - accuracy: 0.7882 - val_loss: 0.5132 - val_accuracy: 0.6889\n"
     ]
    },
    {
     "name": "stdout",
     "output_type": "stream",
     "text": [
      "Epoch 247/400\n"
     ]
    },
    {
     "name": "stdout",
     "output_type": "stream",
     "text": [
      "\r",
      "1/9 [==>...........................] - ETA: 0s - loss: 0.4341 - accuracy: 0.8333"
     ]
    },
    {
     "name": "stdout",
     "output_type": "stream",
     "text": [
      "\b\b\b\b\b\b\b\b\b\b\b\b\b\b\b\b\b\b\b\b\b\b\b\b\b\b\b\b\b\b\b\b\b\b\b\b\b\b\b\b\b\b\b\b\b\b\b\b\b\b\b\b\b\b\b\b\b\b\b\b\b\b\b\b\b\b\b\b\b\b\b\b\b\b\b\b\b\b\b\b\r",
      "9/9 [==============================] - 0s 6ms/step - loss: 0.4795 - accuracy: 0.7882 - val_loss: 0.5136 - val_accuracy: 0.6889\n"
     ]
    },
    {
     "name": "stdout",
     "output_type": "stream",
     "text": [
      "Epoch 248/400\n"
     ]
    },
    {
     "name": "stdout",
     "output_type": "stream",
     "text": [
      "\r",
      "1/9 [==>...........................] - ETA: 0s - loss: 0.4112 - accuracy: 0.8667"
     ]
    },
    {
     "name": "stdout",
     "output_type": "stream",
     "text": [
      "\b\b\b\b\b\b\b\b\b\b\b\b\b\b\b\b\b\b\b\b\b\b\b\b\b\b\b\b\b\b\b\b\b\b\b\b\b\b\b\b\b\b\b\b\b\b\b\b\b\b\b\b\b\b\b\b\b\b\b\b\b\b\b\b\b\b\b\b\b\b\b\b\b\b\b\b\b\b\b\b\r",
      "9/9 [==============================] - 0s 6ms/step - loss: 0.4792 - accuracy: 0.7882 - val_loss: 0.5133 - val_accuracy: 0.6889\n"
     ]
    },
    {
     "name": "stdout",
     "output_type": "stream",
     "text": [
      "Epoch 249/400\n"
     ]
    },
    {
     "name": "stdout",
     "output_type": "stream",
     "text": [
      "\r",
      "1/9 [==>...........................] - ETA: 0s - loss: 0.4835 - accuracy: 0.7667"
     ]
    },
    {
     "name": "stdout",
     "output_type": "stream",
     "text": [
      "\b\b\b\b\b\b\b\b\b\b\b\b\b\b\b\b\b\b\b\b\b\b\b\b\b\b\b\b\b\b\b\b\b\b\b\b\b\b\b\b\b\b\b\b\b\b\b\b\b\b\b\b\b\b\b\b\b\b\b\b\b\b\b\b\b\b\b\b\b\b\b\b\b\b\b\b\b\b\b\b\r",
      "9/9 [==============================] - 0s 6ms/step - loss: 0.4789 - accuracy: 0.7882 - val_loss: 0.5135 - val_accuracy: 0.6889\n"
     ]
    },
    {
     "name": "stdout",
     "output_type": "stream",
     "text": [
      "Epoch 250/400\n"
     ]
    },
    {
     "name": "stdout",
     "output_type": "stream",
     "text": [
      "\r",
      "1/9 [==>...........................] - ETA: 0s - loss: 0.5596 - accuracy: 0.7333"
     ]
    },
    {
     "name": "stdout",
     "output_type": "stream",
     "text": [
      "\b\b\b\b\b\b\b\b\b\b\b\b\b\b\b\b\b\b\b\b\b\b\b\b\b\b\b\b\b\b\b\b\b\b\b\b\b\b\b\b\b\b\b\b\b\b\b\b\b\b\b\b\b\b\b\b\b\b\b\b\b\b\b\b\b\b\b\b\b\b\b\b\b\b\b\b\b\b\b\b\r",
      "9/9 [==============================] - 0s 6ms/step - loss: 0.4786 - accuracy: 0.7882 - val_loss: 0.5138 - val_accuracy: 0.6889\n"
     ]
    },
    {
     "name": "stdout",
     "output_type": "stream",
     "text": [
      "Epoch 251/400\n"
     ]
    },
    {
     "name": "stdout",
     "output_type": "stream",
     "text": [
      "\r",
      "1/9 [==>...........................] - ETA: 0s - loss: 0.4857 - accuracy: 0.6667"
     ]
    },
    {
     "name": "stdout",
     "output_type": "stream",
     "text": [
      "\b\b\b\b\b\b\b\b\b\b\b\b\b\b\b\b\b\b\b\b\b\b\b\b\b\b\b\b\b\b\b\b\b\b\b\b\b\b\b\b\b\b\b\b\b\b\b\b\b\b\b\b\b\b\b\b\b\b\b\b\b\b\b\b\b\b\b\b\b\b\b\b\b\b\b\b\b\b\b\b\r",
      "9/9 [==============================] - 0s 6ms/step - loss: 0.4784 - accuracy: 0.7882 - val_loss: 0.5131 - val_accuracy: 0.6889\n"
     ]
    },
    {
     "name": "stdout",
     "output_type": "stream",
     "text": [
      "Epoch 252/400\n"
     ]
    },
    {
     "name": "stdout",
     "output_type": "stream",
     "text": [
      "\r",
      "1/9 [==>...........................] - ETA: 0s - loss: 0.5722 - accuracy: 0.8000"
     ]
    },
    {
     "name": "stdout",
     "output_type": "stream",
     "text": [
      "\b\b\b\b\b\b\b\b\b\b\b\b\b\b\b\b\b\b\b\b\b\b\b\b\b\b\b\b\b\b\b\b\b\b\b\b\b\b\b\b\b\b\b\b\b\b\b\b\b\b\b\b\b\b\b\b\b\b\b\b\b\b\b\b\b\b\b\b\b\b\b\b\b\b\b\b\b\b\b\b\r",
      "9/9 [==============================] - 0s 8ms/step - loss: 0.4780 - accuracy: 0.7882 - val_loss: 0.5134 - val_accuracy: 0.6889\n"
     ]
    },
    {
     "name": "stdout",
     "output_type": "stream",
     "text": [
      "Epoch 253/400\n"
     ]
    },
    {
     "name": "stdout",
     "output_type": "stream",
     "text": [
      "\r",
      "1/9 [==>...........................] - ETA: 0s - loss: 0.5030 - accuracy: 0.8333"
     ]
    },
    {
     "name": "stdout",
     "output_type": "stream",
     "text": [
      "\b\b\b\b\b\b\b\b\b\b\b\b\b\b\b\b\b\b\b\b\b\b\b\b\b\b\b\b\b\b\b\b\b\b\b\b\b\b\b\b\b\b\b\b\b\b\b\b\b\b\b\b\b\b\b\b\b\b\b\b\b\b\b\b\b\b\b\b\b\b\b\b\b\b\b\b\b\b\b\b\r",
      "9/9 [==============================] - 0s 11ms/step - loss: 0.4777 - accuracy: 0.7882 - val_loss: 0.5137 - val_accuracy: 0.6889\n"
     ]
    },
    {
     "name": "stdout",
     "output_type": "stream",
     "text": [
      "Epoch 254/400\n"
     ]
    },
    {
     "name": "stdout",
     "output_type": "stream",
     "text": [
      "\r",
      "1/9 [==>...........................] - ETA: 0s - loss: 0.5504 - accuracy: 0.7333"
     ]
    },
    {
     "name": "stdout",
     "output_type": "stream",
     "text": [
      "\b\b\b\b\b\b\b\b\b\b\b\b\b\b\b\b\b\b\b\b\b\b\b\b\b\b\b\b\b\b\b\b\b\b\b\b\b\b\b\b\b\b\b\b\b\b\b\b\b\b\b\b\b\b\b\b\b\b\b\b\b\b\b\b\b\b\b\b\b\b\b\b\b\b\b\b\b\b\b\b\r",
      "9/9 [==============================] - 0s 8ms/step - loss: 0.4774 - accuracy: 0.7882 - val_loss: 0.5132 - val_accuracy: 0.6889\n"
     ]
    },
    {
     "name": "stdout",
     "output_type": "stream",
     "text": [
      "Epoch 255/400\n"
     ]
    },
    {
     "name": "stdout",
     "output_type": "stream",
     "text": [
      "\r",
      "1/9 [==>...........................] - ETA: 0s - loss: 0.3928 - accuracy: 0.8667"
     ]
    },
    {
     "name": "stdout",
     "output_type": "stream",
     "text": [
      "\b\b\b\b\b\b\b\b\b\b\b\b\b\b\b\b\b\b\b\b\b\b\b\b\b\b\b\b\b\b\b\b\b\b\b\b\b\b\b\b\b\b\b\b\b\b\b\b\b\b\b\b\b\b\b\b\b\b\b\b\b\b\b\b\b\b\b\b\b\b\b\b\b\b\b\b\b\b\b\b\r",
      "9/9 [==============================] - 0s 8ms/step - loss: 0.4775 - accuracy: 0.7882 - val_loss: 0.5121 - val_accuracy: 0.6889\n"
     ]
    },
    {
     "name": "stdout",
     "output_type": "stream",
     "text": [
      "Epoch 256/400\n"
     ]
    },
    {
     "name": "stdout",
     "output_type": "stream",
     "text": [
      "\r",
      "1/9 [==>...........................] - ETA: 0s - loss: 0.4153 - accuracy: 0.8000"
     ]
    },
    {
     "name": "stdout",
     "output_type": "stream",
     "text": [
      "\b\b\b\b\b\b\b\b\b\b\b\b\b\b\b\b\b\b\b\b\b\b\b\b\b\b\b\b\b\b\b\b\b\b\b\b\b\b\b\b\b\b\b\b\b\b\b\b\b\b\b\b\b\b\b\b\b\b\b\b\b\b\b\b\b\b\b\b\b\b\b\b\b\b\b\b\b\b\b\b\r",
      "9/9 [==============================] - 0s 9ms/step - loss: 0.4768 - accuracy: 0.7882 - val_loss: 0.5125 - val_accuracy: 0.6889\n"
     ]
    },
    {
     "name": "stdout",
     "output_type": "stream",
     "text": [
      "Epoch 257/400\n"
     ]
    },
    {
     "name": "stdout",
     "output_type": "stream",
     "text": [
      "\r",
      "1/9 [==>...........................] - ETA: 0s - loss: 0.4723 - accuracy: 0.8000"
     ]
    },
    {
     "name": "stdout",
     "output_type": "stream",
     "text": [
      "\b\b\b\b\b\b\b\b\b\b\b\b\b\b\b\b\b\b\b\b\b\b\b\b\b\b\b\b\b\b\b\b\b\b\b\b\b\b\b\b\b\b\b\b\b\b\b\b\b\b\b\b\b\b\b\b\b\b\b\b\b\b\b\b\b\b\b\b\b\b\b\b\b\b\b\b\b\b\b\b\r",
      "9/9 [==============================] - 0s 9ms/step - loss: 0.4765 - accuracy: 0.7882 - val_loss: 0.5132 - val_accuracy: 0.6889\n"
     ]
    },
    {
     "name": "stdout",
     "output_type": "stream",
     "text": [
      "Epoch 258/400\n"
     ]
    },
    {
     "name": "stdout",
     "output_type": "stream",
     "text": [
      "\r",
      "1/9 [==>...........................] - ETA: 0s - loss: 0.4340 - accuracy: 0.8333"
     ]
    },
    {
     "name": "stdout",
     "output_type": "stream",
     "text": [
      "\b\b\b\b\b\b\b\b\b\b\b\b\b\b\b\b\b\b\b\b\b\b\b\b\b\b\b\b\b\b\b\b\b\b\b\b\b\b\b\b\b\b\b\b\b\b\b\b\b\b\b\b\b\b\b\b\b\b\b\b\b\b\b\b\b\b\b\b\b\b\b\b\b\b\b\b\b\b\b\b\r",
      "9/9 [==============================] - 0s 7ms/step - loss: 0.4762 - accuracy: 0.7882 - val_loss: 0.5137 - val_accuracy: 0.6889\n"
     ]
    },
    {
     "name": "stdout",
     "output_type": "stream",
     "text": [
      "Epoch 259/400\n"
     ]
    },
    {
     "name": "stdout",
     "output_type": "stream",
     "text": [
      "\r",
      "1/9 [==>...........................] - ETA: 0s - loss: 0.4322 - accuracy: 0.8333"
     ]
    },
    {
     "name": "stdout",
     "output_type": "stream",
     "text": [
      "\b\b\b\b\b\b\b\b\b\b\b\b\b\b\b\b\b\b\b\b\b\b\b\b\b\b\b\b\b\b\b\b\b\b\b\b\b\b\b\b\b\b\b\b\b\b\b\b\b\b\b\b\b\b\b\b\b\b\b\b\b\b\b\b\b\b\b\b\b\b\b\b\b\b\b\b\b\b\b\b\r",
      "9/9 [==============================] - 0s 9ms/step - loss: 0.4759 - accuracy: 0.7882 - val_loss: 0.5132 - val_accuracy: 0.6889\n"
     ]
    },
    {
     "name": "stdout",
     "output_type": "stream",
     "text": [
      "Epoch 260/400\n"
     ]
    },
    {
     "name": "stdout",
     "output_type": "stream",
     "text": [
      "\r",
      "1/9 [==>...........................] - ETA: 0s - loss: 0.4465 - accuracy: 0.8333"
     ]
    },
    {
     "name": "stdout",
     "output_type": "stream",
     "text": [
      "\b\b\b\b\b\b\b\b\b\b\b\b\b\b\b\b\b\b\b\b\b\b\b\b\b\b\b\b\b\b\b\b\b\b\b\b\b\b\b\b\b\b\b\b\b\b\b\b\b\b\b\b\b\b\b\b\b\b\b\b\b\b\b\b\b\b\b\b\b\b\b\b\b\b\b\b\b\b\b\b\r",
      "9/9 [==============================] - 0s 10ms/step - loss: 0.4756 - accuracy: 0.7882 - val_loss: 0.5133 - val_accuracy: 0.6889\n"
     ]
    },
    {
     "name": "stdout",
     "output_type": "stream",
     "text": [
      "Epoch 261/400\n"
     ]
    },
    {
     "name": "stdout",
     "output_type": "stream",
     "text": [
      "\r",
      "1/9 [==>...........................] - ETA: 0s - loss: 0.4216 - accuracy: 0.8333"
     ]
    },
    {
     "name": "stdout",
     "output_type": "stream",
     "text": [
      "\b\b\b\b\b\b\b\b\b\b\b\b\b\b\b\b\b\b\b\b\b\b\b\b\b\b\b\b\b\b\b\b\b\b\b\b\b\b\b\b\b\b\b\b\b\b\b\b\b\b\b\b\b\b\b\b\b\b\b\b\b\b\b\b\b\b\b\b\b\b\b\b\b\b\b\b\b\b\b\b\r",
      "9/9 [==============================] - 0s 10ms/step - loss: 0.4754 - accuracy: 0.7882 - val_loss: 0.5131 - val_accuracy: 0.6889\n"
     ]
    },
    {
     "name": "stdout",
     "output_type": "stream",
     "text": [
      "Epoch 262/400\n"
     ]
    },
    {
     "name": "stdout",
     "output_type": "stream",
     "text": [
      "\r",
      "1/9 [==>...........................] - ETA: 0s - loss: 0.5406 - accuracy: 0.7333"
     ]
    },
    {
     "name": "stdout",
     "output_type": "stream",
     "text": [
      "\b\b\b\b\b\b\b\b\b\b\b\b\b\b\b\b\b\b\b\b\b\b\b\b\b\b\b\b\b\b\b\b\b\b\b\b\b\b\b\b\b\b\b\b\b\b\b\b\b\b\b\b\b\b\b\b\b\b\b\b\b\b\b\b\b\b\b\b\b\b\b\b\b\b\b\b\b\b\b\b\r",
      "9/9 [==============================] - 0s 10ms/step - loss: 0.4753 - accuracy: 0.7922 - val_loss: 0.5140 - val_accuracy: 0.6889\n"
     ]
    },
    {
     "name": "stdout",
     "output_type": "stream",
     "text": [
      "Epoch 263/400\n"
     ]
    },
    {
     "name": "stdout",
     "output_type": "stream",
     "text": [
      "\r",
      "1/9 [==>...........................] - ETA: 0s - loss: 0.6086 - accuracy: 0.6333"
     ]
    },
    {
     "name": "stdout",
     "output_type": "stream",
     "text": [
      "\b\b\b\b\b\b\b\b\b\b\b\b\b\b\b\b\b\b\b\b\b\b\b\b\b\b\b\b\b\b\b\b\b\b\b\b\b\b\b\b\b\b\b\b\b\b\b\b\b\b\b\b\b\b\b\b\b\b\b\b\b\b\b\b\b\b\b\b\b\b\b\b\b\b\b\b\b\b\b\b\r",
      "9/9 [==============================] - 0s 11ms/step - loss: 0.4748 - accuracy: 0.7922 - val_loss: 0.5138 - val_accuracy: 0.6889\n"
     ]
    },
    {
     "name": "stdout",
     "output_type": "stream",
     "text": [
      "Epoch 264/400\n"
     ]
    },
    {
     "name": "stdout",
     "output_type": "stream",
     "text": [
      "\r",
      "1/9 [==>...........................] - ETA: 0s - loss: 0.4183 - accuracy: 0.8333"
     ]
    },
    {
     "name": "stdout",
     "output_type": "stream",
     "text": [
      "\b\b\b\b\b\b\b\b\b\b\b\b\b\b\b\b\b\b\b\b\b\b\b\b\b\b\b\b\b\b\b\b\b\b\b\b\b\b\b\b\b\b\b\b\b\b\b\b\b\b\b\b\b\b\b\b\b\b\b\b\b\b\b\b\b\b\b\b\b\b\b\b\b\b\b\b\b\b\b\b\r",
      "9/9 [==============================] - 0s 10ms/step - loss: 0.4745 - accuracy: 0.7922 - val_loss: 0.5134 - val_accuracy: 0.6889\n"
     ]
    },
    {
     "name": "stdout",
     "output_type": "stream",
     "text": [
      "Epoch 265/400\n"
     ]
    },
    {
     "name": "stdout",
     "output_type": "stream",
     "text": [
      "\r",
      "1/9 [==>...........................] - ETA: 0s - loss: 0.5690 - accuracy: 0.7000"
     ]
    },
    {
     "name": "stdout",
     "output_type": "stream",
     "text": [
      "\b\b\b\b\b\b\b\b\b\b\b\b\b\b\b\b\b\b\b\b\b\b\b\b\b\b\b\b\b\b\b\b\b\b\b\b\b\b\b\b\b\b\b\b\b\b\b\b\b\b\b\b\b\b\b\b\b\b\b\b\b\b\b\b\b\b\b\b\b\b\b\b\b\b\b\b\b\b\b\b\r",
      "9/9 [==============================] - 0s 11ms/step - loss: 0.4742 - accuracy: 0.7882 - val_loss: 0.5137 - val_accuracy: 0.6889\n"
     ]
    },
    {
     "name": "stdout",
     "output_type": "stream",
     "text": [
      "Epoch 266/400\n"
     ]
    },
    {
     "name": "stdout",
     "output_type": "stream",
     "text": [
      "\r",
      "1/9 [==>...........................] - ETA: 0s - loss: 0.4206 - accuracy: 0.8667"
     ]
    },
    {
     "name": "stdout",
     "output_type": "stream",
     "text": [
      "\b\b\b\b\b\b\b\b\b\b\b\b\b\b\b\b\b\b\b\b\b\b\b\b\b\b\b\b\b\b\b\b\b\b\b\b\b\b\b\b\b\b\b\b\b\b\b\b\b\b\b\b\b\b\b\b\b\b\b\b\b\b\b\b\b\b\b\b\b\b\b\b\b\b\b\b\b\b\b\b\r",
      "9/9 [==============================] - 0s 12ms/step - loss: 0.4741 - accuracy: 0.7882 - val_loss: 0.5131 - val_accuracy: 0.6889\n"
     ]
    },
    {
     "name": "stdout",
     "output_type": "stream",
     "text": [
      "Epoch 267/400\n"
     ]
    },
    {
     "name": "stdout",
     "output_type": "stream",
     "text": [
      "\r",
      "1/9 [==>...........................] - ETA: 0s - loss: 0.5175 - accuracy: 0.7667"
     ]
    },
    {
     "name": "stdout",
     "output_type": "stream",
     "text": [
      "\b\b\b\b\b\b\b\b\b\b\b\b\b\b\b\b\b\b\b\b\b\b\b\b\b\b\b\b\b\b\b\b\b\b\b\b\b\b\b\b\b\b\b\b\b\b\b\b\b\b\b\b\b\b\b\b\b\b\b\b\b\b\b\b\b\b\b\b\b\b\b\b\b\b\b\b\b\b\b\b\r",
      "9/9 [==============================] - 0s 10ms/step - loss: 0.4737 - accuracy: 0.7922 - val_loss: 0.5138 - val_accuracy: 0.6889\n"
     ]
    },
    {
     "name": "stdout",
     "output_type": "stream",
     "text": [
      "Epoch 268/400\n"
     ]
    },
    {
     "name": "stdout",
     "output_type": "stream",
     "text": [
      "\r",
      "1/9 [==>...........................] - ETA: 0s - loss: 0.4447 - accuracy: 0.8667"
     ]
    },
    {
     "name": "stdout",
     "output_type": "stream",
     "text": [
      "\b\b\b\b\b\b\b\b\b\b\b\b\b\b\b\b\b\b\b\b\b\b\b\b\b\b\b\b\b\b\b\b\b\b\b\b\b\b\b\b\b\b\b\b\b\b\b\b\b\b\b\b\b\b\b\b\b\b\b\b\b\b\b\b\b\b\b\b\b\b\b\b\b\b\b\b\b\b\b\b\r",
      "9/9 [==============================] - 0s 12ms/step - loss: 0.4734 - accuracy: 0.7922 - val_loss: 0.5140 - val_accuracy: 0.6889\n"
     ]
    },
    {
     "name": "stdout",
     "output_type": "stream",
     "text": [
      "Epoch 269/400\n"
     ]
    },
    {
     "name": "stdout",
     "output_type": "stream",
     "text": [
      "\r",
      "1/9 [==>...........................] - ETA: 0s - loss: 0.5096 - accuracy: 0.7667"
     ]
    },
    {
     "name": "stdout",
     "output_type": "stream",
     "text": [
      "\b\b\b\b\b\b\b\b\b\b\b\b\b\b\b\b\b\b\b\b\b\b\b\b\b\b\b\b\b\b\b\b\b\b\b\b\b\b\b\b\b\b\b\b\b\b\b\b\b\b\b\b\b\b\b\b\b\b\b\b\b\b\b\b\b\b\b\b\b\b\b\b\b\b\b\b\b\b\b\b\r",
      "9/9 [==============================] - 0s 8ms/step - loss: 0.4733 - accuracy: 0.7922 - val_loss: 0.5141 - val_accuracy: 0.6889\n"
     ]
    },
    {
     "name": "stdout",
     "output_type": "stream",
     "text": [
      "Epoch 270/400\n"
     ]
    },
    {
     "name": "stdout",
     "output_type": "stream",
     "text": [
      "\r",
      "1/9 [==>...........................] - ETA: 0s - loss: 0.4536 - accuracy: 0.8000"
     ]
    },
    {
     "name": "stdout",
     "output_type": "stream",
     "text": [
      "\b\b\b\b\b\b\b\b\b\b\b\b\b\b\b\b\b\b\b\b\b\b\b\b\b\b\b\b\b\b\b\b\b\b\b\b\b\b\b\b\b\b\b\b\b\b\b\b\b\b\b\b\b\b\b\b\b\b\b\b\b\b\b\b\b\b\b\b\b\b\b\b\b\b\b\b\b\b\b\b\r",
      "9/9 [==============================] - 0s 5ms/step - loss: 0.4729 - accuracy: 0.7922 - val_loss: 0.5135 - val_accuracy: 0.6889\n"
     ]
    },
    {
     "name": "stdout",
     "output_type": "stream",
     "text": [
      "Epoch 271/400\n"
     ]
    },
    {
     "name": "stdout",
     "output_type": "stream",
     "text": [
      "\r",
      "1/9 [==>...........................] - ETA: 0s - loss: 0.5033 - accuracy: 0.7667"
     ]
    },
    {
     "name": "stdout",
     "output_type": "stream",
     "text": [
      "\b\b\b\b\b\b\b\b\b\b\b\b\b\b\b\b\b\b\b\b\b\b\b\b\b\b\b\b\b\b\b\b\b\b\b\b\b\b\b\b\b\b\b\b\b\b\b\b\b\b\b\b\b\b\b\b\b\b\b\b\b\b\b\b\b\b\b\b\b\b\b\b\b\b\b\b\b\b\b\b\r",
      "9/9 [==============================] - 0s 6ms/step - loss: 0.4726 - accuracy: 0.7882 - val_loss: 0.5132 - val_accuracy: 0.6889\n"
     ]
    },
    {
     "name": "stdout",
     "output_type": "stream",
     "text": [
      "Epoch 272/400\n"
     ]
    },
    {
     "name": "stdout",
     "output_type": "stream",
     "text": [
      "\r",
      "1/9 [==>...........................] - ETA: 0s - loss: 0.5273 - accuracy: 0.6667"
     ]
    },
    {
     "name": "stdout",
     "output_type": "stream",
     "text": [
      "\b\b\b\b\b\b\b\b\b\b\b\b\b\b\b\b\b\b\b\b\b\b\b\b\b\b\b\b\b\b\b\b\b\b\b\b\b\b\b\b\b\b\b\b\b\b\b\b\b\b\b\b\b\b\b\b\b\b\b\b\b\b\b\b\b\b\b\b\b\b\b\b\b\b\b\b\b\b\b\b\r",
      "9/9 [==============================] - 0s 9ms/step - loss: 0.4723 - accuracy: 0.7882 - val_loss: 0.5126 - val_accuracy: 0.6889\n"
     ]
    },
    {
     "name": "stdout",
     "output_type": "stream",
     "text": [
      "Epoch 273/400\n"
     ]
    },
    {
     "name": "stdout",
     "output_type": "stream",
     "text": [
      "\r",
      "1/9 [==>...........................] - ETA: 0s - loss: 0.5200 - accuracy: 0.7333"
     ]
    },
    {
     "name": "stdout",
     "output_type": "stream",
     "text": [
      "\b\b\b\b\b\b\b\b\b\b\b\b\b\b\b\b\b\b\b\b\b\b\b\b\b\b\b\b\b\b\b\b\b\b\b\b\b\b\b\b\b\b\b\b\b\b\b\b\b\b\b\b\b\b\b\b\b\b\b\b\b\b\b\b\b\b\b\b\b\b\b\b\b\b\b\b\b\b\b\b\r",
      "9/9 [==============================] - 0s 11ms/step - loss: 0.4720 - accuracy: 0.7882 - val_loss: 0.5126 - val_accuracy: 0.6889\n"
     ]
    },
    {
     "name": "stdout",
     "output_type": "stream",
     "text": [
      "Epoch 274/400\n"
     ]
    },
    {
     "name": "stdout",
     "output_type": "stream",
     "text": [
      "\r",
      "1/9 [==>...........................] - ETA: 0s - loss: 0.4499 - accuracy: 0.7667"
     ]
    },
    {
     "name": "stdout",
     "output_type": "stream",
     "text": [
      "\b\b\b\b\b\b\b\b\b\b\b\b\b\b\b\b\b\b\b\b\b\b\b\b\b\b\b\b\b\b\b\b\b\b\b\b\b\b\b\b\b\b\b\b\b\b\b\b\b\b\b\b\b\b\b\b\b\b\b\b\b\b\b\b\b\b\b\b\b\b\b\b\b\b\b\b\b\b\b\b\r",
      "9/9 [==============================] - 0s 11ms/step - loss: 0.4718 - accuracy: 0.7882 - val_loss: 0.5122 - val_accuracy: 0.6889\n"
     ]
    },
    {
     "name": "stdout",
     "output_type": "stream",
     "text": [
      "Epoch 275/400\n"
     ]
    },
    {
     "name": "stdout",
     "output_type": "stream",
     "text": [
      "\r",
      "1/9 [==>...........................] - ETA: 0s - loss: 0.3745 - accuracy: 0.9000"
     ]
    },
    {
     "name": "stdout",
     "output_type": "stream",
     "text": [
      "\b\b\b\b\b\b\b\b\b\b\b\b\b\b\b\b\b\b\b\b\b\b\b\b\b\b\b\b\b\b\b\b\b\b\b\b\b\b\b\b\b\b\b\b\b\b\b\b\b\b\b\b\b\b\b\b\b\b\b\b\b\b\b\b\b\b\b\b\b\b\b\b\b\b\b\b\b\b\b\b\r",
      "9/9 [==============================] - 0s 11ms/step - loss: 0.4717 - accuracy: 0.7882 - val_loss: 0.5130 - val_accuracy: 0.6889\n"
     ]
    },
    {
     "name": "stdout",
     "output_type": "stream",
     "text": [
      "Epoch 276/400\n"
     ]
    },
    {
     "name": "stdout",
     "output_type": "stream",
     "text": [
      "\r",
      "1/9 [==>...........................] - ETA: 0s - loss: 0.4785 - accuracy: 0.7333"
     ]
    },
    {
     "name": "stdout",
     "output_type": "stream",
     "text": [
      "\b\b\b\b\b\b\b\b\b\b\b\b\b\b\b\b\b\b\b\b\b\b\b\b\b\b\b\b\b\b\b\b\b\b\b\b\b\b\b\b\b\b\b\b\b\b\b\b\b\b\b\b\b\b\b\b\b\b\b\b\b\b\b\b\b\b\b\b\b\b\b\b\b\b\b\b\b\b\b\b\r",
      "9/9 [==============================] - 0s 9ms/step - loss: 0.4712 - accuracy: 0.7882 - val_loss: 0.5125 - val_accuracy: 0.6889\n"
     ]
    },
    {
     "name": "stdout",
     "output_type": "stream",
     "text": [
      "Epoch 277/400\n"
     ]
    },
    {
     "name": "stdout",
     "output_type": "stream",
     "text": [
      "\r",
      "1/9 [==>...........................] - ETA: 0s - loss: 0.5764 - accuracy: 0.7667"
     ]
    },
    {
     "name": "stdout",
     "output_type": "stream",
     "text": [
      "\b\b\b\b\b\b\b\b\b\b\b\b\b\b\b\b\b\b\b\b\b\b\b\b\b\b\b\b\b\b\b\b\b\b\b\b\b\b\b\b\b\b\b\b\b\b\b\b\b\b\b\b\b\b\b\b\b\b\b\b\b\b\b\b\b\b\b\b\b\b\b\b\b\b\b\b\b\b\b\b\r",
      "9/9 [==============================] - 0s 6ms/step - loss: 0.4709 - accuracy: 0.7882 - val_loss: 0.5123 - val_accuracy: 0.6889\n"
     ]
    },
    {
     "name": "stdout",
     "output_type": "stream",
     "text": [
      "Epoch 278/400\n"
     ]
    },
    {
     "name": "stdout",
     "output_type": "stream",
     "text": [
      "\r",
      "1/9 [==>...........................] - ETA: 0s - loss: 0.4222 - accuracy: 0.7333"
     ]
    },
    {
     "name": "stdout",
     "output_type": "stream",
     "text": [
      "\b\b\b\b\b\b\b\b\b\b\b\b\b\b\b\b\b\b\b\b\b\b\b\b\b\b\b\b\b\b\b\b\b\b\b\b\b\b\b\b\b\b\b\b\b\b\b\b\b\b\b\b\b\b\b\b\b\b\b\b\b\b\b\b\b\b\b\b\b\b\b\b\b\b\b\b\b\b\b\b\r",
      "9/9 [==============================] - 0s 8ms/step - loss: 0.4706 - accuracy: 0.7882 - val_loss: 0.5121 - val_accuracy: 0.6889\n"
     ]
    },
    {
     "name": "stdout",
     "output_type": "stream",
     "text": [
      "Epoch 279/400\n"
     ]
    },
    {
     "name": "stdout",
     "output_type": "stream",
     "text": [
      "\r",
      "1/9 [==>...........................] - ETA: 0s - loss: 0.4727 - accuracy: 0.8000"
     ]
    },
    {
     "name": "stdout",
     "output_type": "stream",
     "text": [
      "\b\b\b\b\b\b\b\b\b\b\b\b\b\b\b\b\b\b\b\b\b\b\b\b\b\b\b\b\b\b\b\b\b\b\b\b\b\b\b\b\b\b\b\b\b\b\b\b\b\b\b\b\b\b\b\b\b\b\b\b\b\b\b\b\b\b\b\b\b\b\b\b\b\b\b\b\b\b\b\b\r",
      "9/9 [==============================] - 0s 11ms/step - loss: 0.4704 - accuracy: 0.7882 - val_loss: 0.5121 - val_accuracy: 0.6889\n"
     ]
    },
    {
     "name": "stdout",
     "output_type": "stream",
     "text": [
      "Epoch 280/400\n"
     ]
    },
    {
     "name": "stdout",
     "output_type": "stream",
     "text": [
      "\r",
      "1/9 [==>...........................] - ETA: 0s - loss: 0.5205 - accuracy: 0.7000"
     ]
    },
    {
     "name": "stdout",
     "output_type": "stream",
     "text": [
      "\b\b\b\b\b\b\b\b\b\b\b\b\b\b\b\b\b\b\b\b\b\b\b\b\b\b\b\b\b\b\b\b\b\b\b\b\b\b\b\b\b\b\b\b\b\b\b\b\b\b\b\b\b\b\b\b\b\b\b\b\b\b\b\b\b\b\b\b\b\b\b\b\b\b\b\b\b\b\b\b\r",
      "9/9 [==============================] - 0s 9ms/step - loss: 0.4702 - accuracy: 0.7882 - val_loss: 0.5124 - val_accuracy: 0.7111\n"
     ]
    },
    {
     "name": "stdout",
     "output_type": "stream",
     "text": [
      "Epoch 281/400\n"
     ]
    },
    {
     "name": "stdout",
     "output_type": "stream",
     "text": [
      "\r",
      "1/9 [==>...........................] - ETA: 0s - loss: 0.4241 - accuracy: 0.8000"
     ]
    },
    {
     "name": "stdout",
     "output_type": "stream",
     "text": [
      "\b\b\b\b\b\b\b\b\b\b\b\b\b\b\b\b\b\b\b\b\b\b\b\b\b\b\b\b\b\b\b\b\b\b\b\b\b\b\b\b\b\b\b\b\b\b\b\b\b\b\b\b\b\b\b\b\b\b\b\b\b\b\b\b\b\b\b\b\b\b\b\b\b\b\b\b\b\b\b\b\r",
      "9/9 [==============================] - 0s 10ms/step - loss: 0.4698 - accuracy: 0.7882 - val_loss: 0.5123 - val_accuracy: 0.7111\n"
     ]
    },
    {
     "name": "stdout",
     "output_type": "stream",
     "text": [
      "Epoch 282/400\n"
     ]
    },
    {
     "name": "stdout",
     "output_type": "stream",
     "text": [
      "\r",
      "1/9 [==>...........................] - ETA: 0s - loss: 0.4693 - accuracy: 0.7667"
     ]
    },
    {
     "name": "stdout",
     "output_type": "stream",
     "text": [
      "\b\b\b\b\b\b\b\b\b\b\b\b\b\b\b\b\b\b\b\b\b\b\b\b\b\b\b\b\b\b\b\b\b\b\b\b\b\b\b\b\b\b\b\b\b\b\b\b\b\b\b\b\b\b\b\b\b\b\b\b\b\b\b\b\b\b\b\b\b\b\b\b\b\b\b\b\b\b\b\b\r",
      "9/9 [==============================] - 0s 10ms/step - loss: 0.4696 - accuracy: 0.7922 - val_loss: 0.5118 - val_accuracy: 0.7111\n"
     ]
    },
    {
     "name": "stdout",
     "output_type": "stream",
     "text": [
      "Epoch 283/400\n"
     ]
    },
    {
     "name": "stdout",
     "output_type": "stream",
     "text": [
      "\r",
      "1/9 [==>...........................] - ETA: 0s - loss: 0.4424 - accuracy: 0.8000"
     ]
    },
    {
     "name": "stdout",
     "output_type": "stream",
     "text": [
      "\b\b\b\b\b\b\b\b\b\b\b\b\b\b\b\b\b\b\b\b\b\b\b\b\b\b\b\b\b\b\b\b\b\b\b\b\b\b\b\b\b\b\b\b\b\b\b\b\b\b\b\b\b\b\b\b\b\b\b\b\b\b\b\b\b\b\b\b\b\b\b\b\b\b\b\b\b\b\b\b\r",
      "9/9 [==============================] - 0s 6ms/step - loss: 0.4694 - accuracy: 0.7882 - val_loss: 0.5111 - val_accuracy: 0.7111\n"
     ]
    },
    {
     "name": "stdout",
     "output_type": "stream",
     "text": [
      "Epoch 284/400\n"
     ]
    },
    {
     "name": "stdout",
     "output_type": "stream",
     "text": [
      "\r",
      "1/9 [==>...........................] - ETA: 0s - loss: 0.5198 - accuracy: 0.7000"
     ]
    },
    {
     "name": "stdout",
     "output_type": "stream",
     "text": [
      "\b\b\b\b\b\b\b\b\b\b\b\b\b\b\b\b\b\b\b\b\b\b\b\b\b\b\b\b\b\b\b\b\b\b\b\b\b\b\b\b\b\b\b\b\b\b\b\b\b\b\b\b\b\b\b\b\b\b\b\b\b\b\b\b\b\b\b\b\b\b\b\b\b\b\b\b\b\b\b\b\r",
      "9/9 [==============================] - 0s 5ms/step - loss: 0.4691 - accuracy: 0.7882 - val_loss: 0.5114 - val_accuracy: 0.7111\n"
     ]
    },
    {
     "name": "stdout",
     "output_type": "stream",
     "text": [
      "Epoch 285/400\n"
     ]
    },
    {
     "name": "stdout",
     "output_type": "stream",
     "text": [
      "\r",
      "1/9 [==>...........................] - ETA: 0s - loss: 0.4297 - accuracy: 0.8333"
     ]
    },
    {
     "name": "stdout",
     "output_type": "stream",
     "text": [
      "\b\b\b\b\b\b\b\b\b\b\b\b\b\b\b\b\b\b\b\b\b\b\b\b\b\b\b\b\b\b\b\b\b\b\b\b\b\b\b\b\b\b\b\b\b\b\b\b\b\b\b\b\b\b\b\b\b\b\b\b\b\b\b\b\b\b\b\b\b\b\b\b\b\b\b\b\b\b\b\b\r",
      "9/9 [==============================] - 0s 5ms/step - loss: 0.4689 - accuracy: 0.7882 - val_loss: 0.5112 - val_accuracy: 0.7111\n"
     ]
    },
    {
     "name": "stdout",
     "output_type": "stream",
     "text": [
      "Epoch 286/400\n"
     ]
    },
    {
     "name": "stdout",
     "output_type": "stream",
     "text": [
      "\r",
      "1/9 [==>...........................] - ETA: 0s - loss: 0.4872 - accuracy: 0.8000"
     ]
    },
    {
     "name": "stdout",
     "output_type": "stream",
     "text": [
      "\b\b\b\b\b\b\b\b\b\b\b\b\b\b\b\b\b\b\b\b\b\b\b\b\b\b\b\b\b\b\b\b\b\b\b\b\b\b\b\b\b\b\b\b\b\b\b\b\b\b\b\b\b\b\b\b\b\b\b\b\b\b\b\b\b\b\b\b\b\b\b\b\b\b\b\b\b\b\b\b\r",
      "9/9 [==============================] - 0s 8ms/step - loss: 0.4686 - accuracy: 0.7922 - val_loss: 0.5119 - val_accuracy: 0.7111\n"
     ]
    },
    {
     "name": "stdout",
     "output_type": "stream",
     "text": [
      "Epoch 287/400\n"
     ]
    },
    {
     "name": "stdout",
     "output_type": "stream",
     "text": [
      "\r",
      "1/9 [==>...........................] - ETA: 0s - loss: 0.4092 - accuracy: 0.8000"
     ]
    },
    {
     "name": "stdout",
     "output_type": "stream",
     "text": [
      "\b\b\b\b\b\b\b\b\b\b\b\b\b\b\b\b\b\b\b\b\b\b\b\b\b\b\b\b\b\b\b\b\b\b\b\b\b\b\b\b\b\b\b\b\b\b\b\b\b\b\b\b\b\b\b\b\b\b\b\b\b\b\b\b\b\b\b\b\b\b\b\b\b\b\b\b\b\b\b\b\r",
      "9/9 [==============================] - 0s 9ms/step - loss: 0.4683 - accuracy: 0.7882 - val_loss: 0.5123 - val_accuracy: 0.7111\n"
     ]
    },
    {
     "name": "stdout",
     "output_type": "stream",
     "text": [
      "Epoch 288/400\n"
     ]
    },
    {
     "name": "stdout",
     "output_type": "stream",
     "text": [
      "\r",
      "1/9 [==>...........................] - ETA: 0s - loss: 0.5432 - accuracy: 0.7667"
     ]
    },
    {
     "name": "stdout",
     "output_type": "stream",
     "text": [
      "\b\b\b\b\b\b\b\b\b\b\b\b\b\b\b\b\b\b\b\b\b\b\b\b\b\b\b\b\b\b\b\b\b\b\b\b\b\b\b\b\b\b\b\b\b\b\b\b\b\b\b\b\b\b\b\b\b\b\b\b\b\b\b\b\b\b\b\b\b\b\b\b\b\b\b\b\b\b\b\b\r",
      "9/9 [==============================] - 0s 8ms/step - loss: 0.4680 - accuracy: 0.7882 - val_loss: 0.5128 - val_accuracy: 0.7111\n"
     ]
    },
    {
     "name": "stdout",
     "output_type": "stream",
     "text": [
      "Epoch 289/400\n"
     ]
    },
    {
     "name": "stdout",
     "output_type": "stream",
     "text": [
      "\r",
      "1/9 [==>...........................] - ETA: 0s - loss: 0.4820 - accuracy: 0.8000"
     ]
    },
    {
     "name": "stdout",
     "output_type": "stream",
     "text": [
      "\b\b\b\b\b\b\b\b\b\b\b\b\b\b\b\b\b\b\b\b\b\b\b\b\b\b\b\b\b\b\b\b\b\b\b\b\b\b\b\b\b\b\b\b\b\b\b\b\b\b\b\b\b\b\b\b\b\b\b\b\b\b\b\b\b\b\b\b\b\b\b\b\b\b\b\b\b\b\b\b\r",
      "9/9 [==============================] - 0s 8ms/step - loss: 0.4677 - accuracy: 0.7922 - val_loss: 0.5130 - val_accuracy: 0.7111\n"
     ]
    },
    {
     "name": "stdout",
     "output_type": "stream",
     "text": [
      "Epoch 290/400\n"
     ]
    },
    {
     "name": "stdout",
     "output_type": "stream",
     "text": [
      "\r",
      "1/9 [==>...........................] - ETA: 0s - loss: 0.4889 - accuracy: 0.7000"
     ]
    },
    {
     "name": "stdout",
     "output_type": "stream",
     "text": [
      "\b\b\b\b\b\b\b\b\b\b\b\b\b\b\b\b\b\b\b\b\b\b\b\b\b\b\b\b\b\b\b\b\b\b\b\b\b\b\b\b\b\b\b\b\b\b\b\b\b\b\b\b\b\b\b\b\b\b\b\b\b\b\b\b\b\b\b\b\b\b\b\b\b\b\b\b\b\b\b\b\r",
      "9/9 [==============================] - 0s 9ms/step - loss: 0.4675 - accuracy: 0.7922 - val_loss: 0.5125 - val_accuracy: 0.7111\n"
     ]
    },
    {
     "name": "stdout",
     "output_type": "stream",
     "text": [
      "Epoch 291/400\n"
     ]
    },
    {
     "name": "stdout",
     "output_type": "stream",
     "text": [
      "\r",
      "1/9 [==>...........................] - ETA: 0s - loss: 0.4521 - accuracy: 0.8000"
     ]
    },
    {
     "name": "stdout",
     "output_type": "stream",
     "text": [
      "\b\b\b\b\b\b\b\b\b\b\b\b\b\b\b\b\b\b\b\b\b\b\b\b\b\b\b\b\b\b\b\b\b\b\b\b\b\b\b\b\b\b\b\b\b\b\b\b\b\b\b\b\b\b\b\b\b\b\b\b\b\b\b\b\b\b\b\b\b\b\b\b\b\b\b\b\b\b\b\b\r",
      "9/9 [==============================] - 0s 10ms/step - loss: 0.4672 - accuracy: 0.7882 - val_loss: 0.5123 - val_accuracy: 0.7111\n"
     ]
    },
    {
     "name": "stdout",
     "output_type": "stream",
     "text": [
      "Epoch 292/400\n"
     ]
    },
    {
     "name": "stdout",
     "output_type": "stream",
     "text": [
      "\r",
      "1/9 [==>...........................] - ETA: 0s - loss: 0.4309 - accuracy: 0.7333"
     ]
    },
    {
     "name": "stdout",
     "output_type": "stream",
     "text": [
      "\b\b\b\b\b\b\b\b\b\b\b\b\b\b\b\b\b\b\b\b\b\b\b\b\b\b\b\b\b\b\b\b\b\b\b\b\b\b\b\b\b\b\b\b\b\b\b\b\b\b\b\b\b\b\b\b\b\b\b\b\b\b\b\b\b\b\b\b\b\b\b\b\b\b\b\b\b\b\b\b\r",
      "9/9 [==============================] - 0s 12ms/step - loss: 0.4670 - accuracy: 0.7882 - val_loss: 0.5123 - val_accuracy: 0.7111\n"
     ]
    },
    {
     "name": "stdout",
     "output_type": "stream",
     "text": [
      "Epoch 293/400\n"
     ]
    },
    {
     "name": "stdout",
     "output_type": "stream",
     "text": [
      "\r",
      "1/9 [==>...........................] - ETA: 0s - loss: 0.4456 - accuracy: 0.8333"
     ]
    },
    {
     "name": "stdout",
     "output_type": "stream",
     "text": [
      "\b\b\b\b\b\b\b\b\b\b\b\b\b\b\b\b\b\b\b\b\b\b\b\b\b\b\b\b\b\b\b\b\b\b\b\b\b\b\b\b\b\b\b\b\b\b\b\b\b\b\b\b\b\b\b\b\b\b\b\b\b\b\b\b\b\b\b\b\b\b\b\b\b\b\b\b\b\b\b\b\r",
      "9/9 [==============================] - 0s 12ms/step - loss: 0.4667 - accuracy: 0.7922 - val_loss: 0.5129 - val_accuracy: 0.7111\n"
     ]
    },
    {
     "name": "stdout",
     "output_type": "stream",
     "text": [
      "Epoch 294/400\n"
     ]
    },
    {
     "name": "stdout",
     "output_type": "stream",
     "text": [
      "\r",
      "1/9 [==>...........................] - ETA: 0s - loss: 0.5254 - accuracy: 0.7333"
     ]
    },
    {
     "name": "stdout",
     "output_type": "stream",
     "text": [
      "\b\b\b\b\b\b\b\b\b\b\b\b\b\b\b\b\b\b\b\b\b\b\b\b\b\b\b\b\b\b\b\b\b\b\b\b\b\b\b\b\b\b\b\b\b\b\b\b\b\b\b\b\b\b\b\b\b\b\b\b\b\b\b\b\b\b\b\b\b\b\b\b\b\b\b\b\b\b\b\b\r",
      "9/9 [==============================] - 0s 12ms/step - loss: 0.4665 - accuracy: 0.7961 - val_loss: 0.5129 - val_accuracy: 0.7111\n"
     ]
    },
    {
     "name": "stdout",
     "output_type": "stream",
     "text": [
      "Epoch 295/400\n"
     ]
    },
    {
     "name": "stdout",
     "output_type": "stream",
     "text": [
      "\r",
      "1/9 [==>...........................] - ETA: 0s - loss: 0.6976 - accuracy: 0.5667"
     ]
    },
    {
     "name": "stdout",
     "output_type": "stream",
     "text": [
      "\b\b\b\b\b\b\b\b\b\b\b\b\b\b\b\b\b\b\b\b\b\b\b\b\b\b\b\b\b\b\b\b\b\b\b\b\b\b\b\b\b\b\b\b\b\b\b\b\b\b\b\b\b\b\b\b\b\b\b\b\b\b\b\b\b\b\b\b\b\b\b\b\b\b\b\b\b\b\b\b\r",
      "9/9 [==============================] - 0s 11ms/step - loss: 0.4662 - accuracy: 0.7961 - val_loss: 0.5131 - val_accuracy: 0.7111\n"
     ]
    },
    {
     "name": "stdout",
     "output_type": "stream",
     "text": [
      "Epoch 296/400\n"
     ]
    },
    {
     "name": "stdout",
     "output_type": "stream",
     "text": [
      "\r",
      "1/9 [==>...........................] - ETA: 0s - loss: 0.4605 - accuracy: 0.7333"
     ]
    },
    {
     "name": "stdout",
     "output_type": "stream",
     "text": [
      "\b\b\b\b\b\b\b\b\b\b\b\b\b\b\b\b\b\b\b\b\b\b\b\b\b\b\b\b\b\b\b\b\b\b\b\b\b\b\b\b\b\b\b\b\b\b\b\b\b\b\b\b\b\b\b\b\b\b\b\b\b\b\b\b\b\b\b\b\b\b\b\b\b\b\b\b\b\b\b\b\r",
      "9/9 [==============================] - 0s 7ms/step - loss: 0.4660 - accuracy: 0.7961 - val_loss: 0.5125 - val_accuracy: 0.7111\n"
     ]
    },
    {
     "name": "stdout",
     "output_type": "stream",
     "text": [
      "Epoch 297/400\n"
     ]
    },
    {
     "name": "stdout",
     "output_type": "stream",
     "text": [
      "\r",
      "1/9 [==>...........................] - ETA: 0s - loss: 0.5847 - accuracy: 0.7000"
     ]
    },
    {
     "name": "stdout",
     "output_type": "stream",
     "text": [
      "\b\b\b\b\b\b\b\b\b\b\b\b\b\b\b\b\b\b\b\b\b\b\b\b\b\b\b\b\b\b\b\b\b\b\b\b\b\b\b\b\b\b\b\b\b\b\b\b\b\b\b\b\b\b\b\b\b\b\b\b\b\b\b\b\b\b\b\b\b\b\b\b\b\b\b\b\b\b\b\b\r",
      "9/9 [==============================] - 0s 6ms/step - loss: 0.4657 - accuracy: 0.7961 - val_loss: 0.5122 - val_accuracy: 0.7111\n"
     ]
    },
    {
     "name": "stdout",
     "output_type": "stream",
     "text": [
      "Epoch 298/400\n"
     ]
    },
    {
     "name": "stdout",
     "output_type": "stream",
     "text": [
      "\r",
      "1/9 [==>...........................] - ETA: 0s - loss: 0.4000 - accuracy: 0.8333"
     ]
    },
    {
     "name": "stdout",
     "output_type": "stream",
     "text": [
      "\b\b\b\b\b\b\b\b\b\b\b\b\b\b\b\b\b\b\b\b\b\b\b\b\b\b\b\b\b\b\b\b\b\b\b\b\b\b\b\b\b\b\b\b\b\b\b\b\b\b\b\b\b\b\b\b\b\b\b\b\b\b\b\b\b\b\b\b\b\b\b\b\b\b\b\b\b\b\b\b\r",
      "9/9 [==============================] - 0s 6ms/step - loss: 0.4655 - accuracy: 0.7961 - val_loss: 0.5121 - val_accuracy: 0.7111\n"
     ]
    },
    {
     "name": "stdout",
     "output_type": "stream",
     "text": [
      "Epoch 299/400\n"
     ]
    },
    {
     "name": "stdout",
     "output_type": "stream",
     "text": [
      "\r",
      "1/9 [==>...........................] - ETA: 0s - loss: 0.3380 - accuracy: 0.8667"
     ]
    },
    {
     "name": "stdout",
     "output_type": "stream",
     "text": [
      "\b\b\b\b\b\b\b\b\b\b\b\b\b\b\b\b\b\b\b\b\b\b\b\b\b\b\b\b\b\b\b\b\b\b\b\b\b\b\b\b\b\b\b\b\b\b\b\b\b\b\b\b\b\b\b\b\b\b\b\b\b\b\b\b\b\b\b\b\b\b\b\b\b\b\b\b\b\b\b\b\r",
      "9/9 [==============================] - 0s 8ms/step - loss: 0.4654 - accuracy: 0.7922 - val_loss: 0.5114 - val_accuracy: 0.7111\n"
     ]
    },
    {
     "name": "stdout",
     "output_type": "stream",
     "text": [
      "Epoch 300/400\n"
     ]
    },
    {
     "name": "stdout",
     "output_type": "stream",
     "text": [
      "\r",
      "1/9 [==>...........................] - ETA: 0s - loss: 0.4171 - accuracy: 0.8333"
     ]
    },
    {
     "name": "stdout",
     "output_type": "stream",
     "text": [
      "\b\b\b\b\b\b\b\b\b\b\b\b\b\b\b\b\b\b\b\b\b\b\b\b\b\b\b\b\b\b\b\b\b\b\b\b\b\b\b\b\b\b\b\b\b\b\b\b\b\b\b\b\b\b\b\b\b\b\b\b\b\b\b\b\b\b\b\b\b\b\b\b\b\b\b\b\b\b\b\b\r",
      "9/9 [==============================] - 0s 10ms/step - loss: 0.4650 - accuracy: 0.7961 - val_loss: 0.5116 - val_accuracy: 0.7111\n"
     ]
    },
    {
     "name": "stdout",
     "output_type": "stream",
     "text": [
      "Epoch 301/400\n"
     ]
    },
    {
     "name": "stdout",
     "output_type": "stream",
     "text": [
      "\r",
      "1/9 [==>...........................] - ETA: 0s - loss: 0.5372 - accuracy: 0.7667"
     ]
    },
    {
     "name": "stdout",
     "output_type": "stream",
     "text": [
      "\b\b\b\b\b\b\b\b\b\b\b\b\b\b\b\b\b\b\b\b\b\b\b\b\b\b\b\b\b\b\b\b\b\b\b\b\b\b\b\b\b\b\b\b\b\b\b\b\b\b\b\b\b\b\b\b\b\b\b\b\b\b\b\b\b\b\b\b\b\b\b\b\b\b\b\b\b\b\b\b\r",
      "9/9 [==============================] - 0s 12ms/step - loss: 0.4647 - accuracy: 0.7961 - val_loss: 0.5119 - val_accuracy: 0.7111\n"
     ]
    },
    {
     "name": "stdout",
     "output_type": "stream",
     "text": [
      "Epoch 302/400\n"
     ]
    },
    {
     "name": "stdout",
     "output_type": "stream",
     "text": [
      "\r",
      "1/9 [==>...........................] - ETA: 0s - loss: 0.3514 - accuracy: 0.8667"
     ]
    },
    {
     "name": "stdout",
     "output_type": "stream",
     "text": [
      "\b\b\b\b\b\b\b\b\b\b\b\b\b\b\b\b\b\b\b\b\b\b\b\b\b\b\b\b\b\b\b\b\b\b\b\b\b\b\b\b\b\b\b\b\b\b\b\b\b\b\b\b\b\b\b\b\b\b\b\b\b\b\b\b\b\b\b\b\b\b\b\b\b\b\b\b\b\b\b\b\r",
      "9/9 [==============================] - 0s 8ms/step - loss: 0.4645 - accuracy: 0.7961 - val_loss: 0.5112 - val_accuracy: 0.7111\n"
     ]
    },
    {
     "name": "stdout",
     "output_type": "stream",
     "text": [
      "Epoch 303/400\n"
     ]
    },
    {
     "name": "stdout",
     "output_type": "stream",
     "text": [
      "\r",
      "1/9 [==>...........................] - ETA: 0s - loss: 0.4730 - accuracy: 0.8000"
     ]
    },
    {
     "name": "stdout",
     "output_type": "stream",
     "text": [
      "\b\b\b\b\b\b\b\b\b\b\b\b\b\b\b\b\b\b\b\b\b\b\b\b\b\b\b\b\b\b\b\b\b\b\b\b\b\b\b\b\b\b\b\b\b\b\b\b\b\b\b\b\b\b\b\b\b\b\b\b\b\b\b\b\b\b\b\b\b\b\b\b\b\b\b\b\b\b\b\b\r",
      "9/9 [==============================] - 0s 5ms/step - loss: 0.4642 - accuracy: 0.7961 - val_loss: 0.5109 - val_accuracy: 0.7111\n"
     ]
    },
    {
     "name": "stdout",
     "output_type": "stream",
     "text": [
      "Epoch 304/400\n"
     ]
    },
    {
     "name": "stdout",
     "output_type": "stream",
     "text": [
      "\r",
      "1/9 [==>...........................] - ETA: 0s - loss: 0.5281 - accuracy: 0.7333"
     ]
    },
    {
     "name": "stdout",
     "output_type": "stream",
     "text": [
      "\b\b\b\b\b\b\b\b\b\b\b\b\b\b\b\b\b\b\b\b\b\b\b\b\b\b\b\b\b\b\b\b\b\b\b\b\b\b\b\b\b\b\b\b\b\b\b\b\b\b\b\b\b\b\b\b\b\b\b\b\b\b\b\b\b\b\b\b\b\b\b\b\b\b\b\b\b\b\b\b\r",
      "9/9 [==============================] - 0s 5ms/step - loss: 0.4640 - accuracy: 0.7961 - val_loss: 0.5120 - val_accuracy: 0.7111\n"
     ]
    },
    {
     "name": "stdout",
     "output_type": "stream",
     "text": [
      "Epoch 305/400\n"
     ]
    },
    {
     "name": "stdout",
     "output_type": "stream",
     "text": [
      "\r",
      "1/9 [==>...........................] - ETA: 0s - loss: 0.4749 - accuracy: 0.8000"
     ]
    },
    {
     "name": "stdout",
     "output_type": "stream",
     "text": [
      "\b\b\b\b\b\b\b\b\b\b\b\b\b\b\b\b\b\b\b\b\b\b\b\b\b\b\b\b\b\b\b\b\b\b\b\b\b\b\b\b\b\b\b\b\b\b\b\b\b\b\b\b\b\b\b\b\b\b\b\b\b\b\b\b\b\b\b\b\b\b\b\b\b\b\b\b\b\b\b\b\r",
      "9/9 [==============================] - 0s 9ms/step - loss: 0.4637 - accuracy: 0.7961 - val_loss: 0.5119 - val_accuracy: 0.7111\n"
     ]
    },
    {
     "name": "stdout",
     "output_type": "stream",
     "text": [
      "Epoch 306/400\n"
     ]
    },
    {
     "name": "stdout",
     "output_type": "stream",
     "text": [
      "\r",
      "1/9 [==>...........................] - ETA: 0s - loss: 0.3876 - accuracy: 0.8333"
     ]
    },
    {
     "name": "stdout",
     "output_type": "stream",
     "text": [
      "\b\b\b\b\b\b\b\b\b\b\b\b\b\b\b\b\b\b\b\b\b\b\b\b\b\b\b\b\b\b\b\b\b\b\b\b\b\b\b\b\b\b\b\b\b\b\b\b\b\b\b\b\b\b\b\b\b\b\b\b\b\b\b\b\b\b\b\b\b\b\b\b\b\b\b\b\b\b\b\b\r",
      "9/9 [==============================] - 0s 7ms/step - loss: 0.4635 - accuracy: 0.7961 - val_loss: 0.5114 - val_accuracy: 0.7111\n"
     ]
    },
    {
     "name": "stdout",
     "output_type": "stream",
     "text": [
      "Epoch 307/400\n"
     ]
    },
    {
     "name": "stdout",
     "output_type": "stream",
     "text": [
      "\r",
      "1/9 [==>...........................] - ETA: 0s - loss: 0.4919 - accuracy: 0.8000"
     ]
    },
    {
     "name": "stdout",
     "output_type": "stream",
     "text": [
      "\b\b\b\b\b\b\b\b\b\b\b\b\b\b\b\b\b\b\b\b\b\b\b\b\b\b\b\b\b\b\b\b\b\b\b\b\b\b\b\b\b\b\b\b\b\b\b\b\b\b\b\b\b\b\b\b\b\b\b\b\b\b\b\b\b\b\b\b\b\b\b\b\b\b\b\b\b\b\b\b\r",
      "9/9 [==============================] - 0s 6ms/step - loss: 0.4632 - accuracy: 0.7961 - val_loss: 0.5112 - val_accuracy: 0.7111\n"
     ]
    },
    {
     "name": "stdout",
     "output_type": "stream",
     "text": [
      "Epoch 308/400\n"
     ]
    },
    {
     "name": "stdout",
     "output_type": "stream",
     "text": [
      "\r",
      "1/9 [==>...........................] - ETA: 0s - loss: 0.3673 - accuracy: 0.9000"
     ]
    },
    {
     "name": "stdout",
     "output_type": "stream",
     "text": [
      "\b\b\b\b\b\b\b\b\b\b\b\b\b\b\b\b\b\b\b\b\b\b\b\b\b\b\b\b\b\b\b\b\b\b\b\b\b\b\b\b\b\b\b\b\b\b\b\b\b\b\b\b\b\b\b\b\b\b\b\b\b\b\b\b\b\b\b\b\b\b\b\b\b\b\b\b\b\b\b\b\r",
      "9/9 [==============================] - 0s 5ms/step - loss: 0.4630 - accuracy: 0.7961 - val_loss: 0.5108 - val_accuracy: 0.7111\n"
     ]
    },
    {
     "name": "stdout",
     "output_type": "stream",
     "text": [
      "Epoch 309/400\n"
     ]
    },
    {
     "name": "stdout",
     "output_type": "stream",
     "text": [
      "\r",
      "1/9 [==>...........................] - ETA: 0s - loss: 0.4446 - accuracy: 0.8333"
     ]
    },
    {
     "name": "stdout",
     "output_type": "stream",
     "text": [
      "\b\b\b\b\b\b\b\b\b\b\b\b\b\b\b\b\b\b\b\b\b\b\b\b\b\b\b\b\b\b\b\b\b\b\b\b\b\b\b\b\b\b\b\b\b\b\b\b\b\b\b\b\b\b\b\b\b\b\b\b\b\b\b\b\b\b\b\b\b\b\b\b\b\b\b\b\b\b\b\b\r",
      "9/9 [==============================] - 0s 7ms/step - loss: 0.4627 - accuracy: 0.7961 - val_loss: 0.5115 - val_accuracy: 0.7111\n"
     ]
    },
    {
     "name": "stdout",
     "output_type": "stream",
     "text": [
      "Epoch 310/400\n"
     ]
    },
    {
     "name": "stdout",
     "output_type": "stream",
     "text": [
      "\r",
      "1/9 [==>...........................] - ETA: 0s - loss: 0.4406 - accuracy: 0.8333"
     ]
    },
    {
     "name": "stdout",
     "output_type": "stream",
     "text": [
      "\b\b\b\b\b\b\b\b\b\b\b\b\b\b\b\b\b\b\b\b\b\b\b\b\b\b\b\b\b\b\b\b\b\b\b\b\b\b\b\b\b\b\b\b\b\b\b\b\b\b\b\b\b\b\b\b\b\b\b\b\b\b\b\b\b\b\b\b\b\b\b\b\b\b\b\b\b\b\b\b\r",
      "9/9 [==============================] - 0s 9ms/step - loss: 0.4625 - accuracy: 0.8000 - val_loss: 0.5119 - val_accuracy: 0.7111\n"
     ]
    },
    {
     "name": "stdout",
     "output_type": "stream",
     "text": [
      "Epoch 311/400\n"
     ]
    },
    {
     "name": "stdout",
     "output_type": "stream",
     "text": [
      "\r",
      "1/9 [==>...........................] - ETA: 0s - loss: 0.3827 - accuracy: 0.8333"
     ]
    },
    {
     "name": "stdout",
     "output_type": "stream",
     "text": [
      "\b\b\b\b\b\b\b\b\b\b\b\b\b\b\b\b\b\b\b\b\b\b\b\b\b\b\b\b\b\b\b\b\b\b\b\b\b\b\b\b\b\b\b\b\b\b\b\b\b\b\b\b\b\b\b\b\b\b\b\b\b\b\b\b\b\b\b\b\b\b\b\b\b\b\b\b\b\b\b\b\r",
      "9/9 [==============================] - 0s 9ms/step - loss: 0.4623 - accuracy: 0.8000 - val_loss: 0.5117 - val_accuracy: 0.7111\n"
     ]
    },
    {
     "name": "stdout",
     "output_type": "stream",
     "text": [
      "Epoch 312/400\n"
     ]
    },
    {
     "name": "stdout",
     "output_type": "stream",
     "text": [
      "\r",
      "1/9 [==>...........................] - ETA: 0s - loss: 0.3501 - accuracy: 0.8667"
     ]
    },
    {
     "name": "stdout",
     "output_type": "stream",
     "text": [
      "\b\b\b\b\b\b\b\b\b\b\b\b\b\b\b\b\b\b\b\b\b\b\b\b\b\b\b\b\b\b\b\b\b\b\b\b\b\b\b\b\b\b\b\b\b\b\b\b\b\b\b\b\b\b\b\b\b\b\b\b\b\b\b\b\b\b\b\b\b\b\b\b\b\b\b\b\b\b\b\b\r",
      "9/9 [==============================] - 0s 10ms/step - loss: 0.4620 - accuracy: 0.8000 - val_loss: 0.5119 - val_accuracy: 0.7111\n"
     ]
    },
    {
     "name": "stdout",
     "output_type": "stream",
     "text": [
      "Epoch 313/400\n"
     ]
    },
    {
     "name": "stdout",
     "output_type": "stream",
     "text": [
      "\r",
      "1/9 [==>...........................] - ETA: 0s - loss: 0.5034 - accuracy: 0.7667"
     ]
    },
    {
     "name": "stdout",
     "output_type": "stream",
     "text": [
      "\b\b\b\b\b\b\b\b\b\b\b\b\b\b\b\b\b\b\b\b\b\b\b\b\b\b\b\b\b\b\b\b\b\b\b\b\b\b\b\b\b\b\b\b\b\b\b\b\b\b\b\b\b\b\b\b\b\b\b\b\b\b\b\b\b\b\b\b\b\b\b\b\b\b\b\b\b\b\b\b\r",
      "9/9 [==============================] - 0s 7ms/step - loss: 0.4617 - accuracy: 0.8000 - val_loss: 0.5119 - val_accuracy: 0.7111\n"
     ]
    },
    {
     "name": "stdout",
     "output_type": "stream",
     "text": [
      "Epoch 314/400\n"
     ]
    },
    {
     "name": "stdout",
     "output_type": "stream",
     "text": [
      "\r",
      "1/9 [==>...........................] - ETA: 0s - loss: 0.4436 - accuracy: 0.8333"
     ]
    },
    {
     "name": "stdout",
     "output_type": "stream",
     "text": [
      "\b\b\b\b\b\b\b\b\b\b\b\b\b\b\b\b\b\b\b\b\b\b\b\b\b\b\b\b\b\b\b\b\b\b\b\b\b\b\b\b\b\b\b\b\b\b\b\b\b\b\b\b\b\b\b\b\b\b\b\b\b\b\b\b\b\b\b\b\b\b\b\b\b\b\b\b\b\b\b\b\r",
      "9/9 [==============================] - 0s 6ms/step - loss: 0.4615 - accuracy: 0.8000 - val_loss: 0.5116 - val_accuracy: 0.7111\n"
     ]
    },
    {
     "name": "stdout",
     "output_type": "stream",
     "text": [
      "Epoch 315/400\n"
     ]
    },
    {
     "name": "stdout",
     "output_type": "stream",
     "text": [
      "\r",
      "1/9 [==>...........................] - ETA: 0s - loss: 0.5361 - accuracy: 0.7667"
     ]
    },
    {
     "name": "stdout",
     "output_type": "stream",
     "text": [
      "\b\b\b\b\b\b\b\b\b\b\b\b\b\b\b\b\b\b\b\b\b\b\b\b\b\b\b\b\b\b\b\b\b\b\b\b\b\b\b\b\b\b\b\b\b\b\b\b\b\b\b\b\b\b\b\b\b\b\b\b\b\b\b\b\b\b\b\b\b\b\b\b\b\b\b\b\b\b\b\b\r",
      "9/9 [==============================] - 0s 9ms/step - loss: 0.4613 - accuracy: 0.8000 - val_loss: 0.5120 - val_accuracy: 0.7111\n"
     ]
    },
    {
     "name": "stdout",
     "output_type": "stream",
     "text": [
      "Epoch 316/400\n"
     ]
    },
    {
     "name": "stdout",
     "output_type": "stream",
     "text": [
      "\r",
      "1/9 [==>...........................] - ETA: 0s - loss: 0.5723 - accuracy: 0.7000"
     ]
    },
    {
     "name": "stdout",
     "output_type": "stream",
     "text": [
      "\b\b\b\b\b\b\b\b\b\b\b\b\b\b\b\b\b\b\b\b\b\b\b\b\b\b\b\b\b\b\b\b\b\b\b\b\b\b\b\b\b\b\b\b\b\b\b\b\b\b\b\b\b\b\b\b\b\b\b\b\b\b\b\b\b\b\b\b\b\b\b\b\b\b\b\b\b\b\b\b\r",
      "9/9 [==============================] - 0s 11ms/step - loss: 0.4610 - accuracy: 0.8000 - val_loss: 0.5119 - val_accuracy: 0.7111\n"
     ]
    },
    {
     "name": "stdout",
     "output_type": "stream",
     "text": [
      "Epoch 317/400\n"
     ]
    },
    {
     "name": "stdout",
     "output_type": "stream",
     "text": [
      "\r",
      "1/9 [==>...........................] - ETA: 0s - loss: 0.3475 - accuracy: 0.9667"
     ]
    },
    {
     "name": "stdout",
     "output_type": "stream",
     "text": [
      "\b\b\b\b\b\b\b\b\b\b\b\b\b\b\b\b\b\b\b\b\b\b\b\b\b\b\b\b\b\b\b\b\b\b\b\b\b\b\b\b\b\b\b\b\b\b\b\b\b\b\b\b\b\b\b\b\b\b\b\b\b\b\b\b\b\b\b\b\b\b\b\b\b\b\b\b\b\b\b\b\r",
      "9/9 [==============================] - 0s 8ms/step - loss: 0.4608 - accuracy: 0.8000 - val_loss: 0.5115 - val_accuracy: 0.7111\n"
     ]
    },
    {
     "name": "stdout",
     "output_type": "stream",
     "text": [
      "Epoch 318/400\n"
     ]
    },
    {
     "name": "stdout",
     "output_type": "stream",
     "text": [
      "\r",
      "1/9 [==>...........................] - ETA: 0s - loss: 0.4487 - accuracy: 0.8333"
     ]
    },
    {
     "name": "stdout",
     "output_type": "stream",
     "text": [
      "\b\b\b\b\b\b\b\b\b\b\b\b\b\b\b\b\b\b\b\b\b\b\b\b\b\b\b\b\b\b\b\b\b\b\b\b\b\b\b\b\b\b\b\b\b\b\b\b\b\b\b\b\b\b\b\b\b\b\b\b\b\b\b\b\b\b\b\b\b\b\b\b\b\b\b\b\b\b\b\b\r",
      "9/9 [==============================] - 0s 8ms/step - loss: 0.4606 - accuracy: 0.8000 - val_loss: 0.5112 - val_accuracy: 0.7111\n"
     ]
    },
    {
     "name": "stdout",
     "output_type": "stream",
     "text": [
      "Epoch 319/400\n"
     ]
    },
    {
     "name": "stdout",
     "output_type": "stream",
     "text": [
      "\r",
      "1/9 [==>...........................] - ETA: 0s - loss: 0.5880 - accuracy: 0.6667"
     ]
    },
    {
     "name": "stdout",
     "output_type": "stream",
     "text": [
      "\b\b\b\b\b\b\b\b\b\b\b\b\b\b\b\b\b\b\b\b\b\b\b\b\b\b\b\b\b\b\b\b\b\b\b\b\b\b\b\b\b\b\b\b\b\b\b\b\b\b\b\b\b\b\b\b\b\b\b\b\b\b\b\b\b\b\b\b\b\b\b\b\b\b\b\b\b\b\b\b\r",
      "9/9 [==============================] - 0s 8ms/step - loss: 0.4604 - accuracy: 0.8039 - val_loss: 0.5108 - val_accuracy: 0.7111\n"
     ]
    },
    {
     "name": "stdout",
     "output_type": "stream",
     "text": [
      "Epoch 320/400\n"
     ]
    },
    {
     "name": "stdout",
     "output_type": "stream",
     "text": [
      "\r",
      "1/9 [==>...........................] - ETA: 0s - loss: 0.4040 - accuracy: 0.8333"
     ]
    },
    {
     "name": "stdout",
     "output_type": "stream",
     "text": [
      "\b\b\b\b\b\b\b\b\b\b\b\b\b\b\b\b\b\b\b\b\b\b\b\b\b\b\b\b\b\b\b\b\b\b\b\b\b\b\b\b\b\b\b\b\b\b\b\b\b\b\b\b\b\b\b\b\b\b\b\b\b\b\b\b\b\b\b\b\b\b\b\b\b\b\b\b\b\b\b\b\r",
      "9/9 [==============================] - 0s 8ms/step - loss: 0.4601 - accuracy: 0.8000 - val_loss: 0.5111 - val_accuracy: 0.7111\n"
     ]
    },
    {
     "name": "stdout",
     "output_type": "stream",
     "text": [
      "Epoch 321/400\n"
     ]
    },
    {
     "name": "stdout",
     "output_type": "stream",
     "text": [
      "\r",
      "1/9 [==>...........................] - ETA: 0s - loss: 0.3618 - accuracy: 0.8667"
     ]
    },
    {
     "name": "stdout",
     "output_type": "stream",
     "text": [
      "\b\b\b\b\b\b\b\b\b\b\b\b\b\b\b\b\b\b\b\b\b\b\b\b\b\b\b\b\b\b\b\b\b\b\b\b\b\b\b\b\b\b\b\b\b\b\b\b\b\b\b\b\b\b\b\b\b\b\b\b\b\b\b\b\b\b\b\b\b\b\b\b\b\b\b\b\b\b\b\b\r",
      "9/9 [==============================] - 0s 10ms/step - loss: 0.4599 - accuracy: 0.8000 - val_loss: 0.5112 - val_accuracy: 0.7111\n"
     ]
    },
    {
     "name": "stdout",
     "output_type": "stream",
     "text": [
      "Epoch 322/400\n"
     ]
    },
    {
     "name": "stdout",
     "output_type": "stream",
     "text": [
      "\r",
      "1/9 [==>...........................] - ETA: 0s - loss: 0.3683 - accuracy: 0.8333"
     ]
    },
    {
     "name": "stdout",
     "output_type": "stream",
     "text": [
      "\b\b\b\b\b\b\b\b\b\b\b\b\b\b\b\b\b\b\b\b\b\b\b\b\b\b\b\b\b\b\b\b\b\b\b\b\b\b\b\b\b\b\b\b\b\b\b\b\b\b\b\b\b\b\b\b\b\b\b\b\b\b\b\b\b\b\b\b\b\b\b\b\b\b\b\b\b\b\b\b\r",
      "9/9 [==============================] - 0s 13ms/step - loss: 0.4597 - accuracy: 0.8000 - val_loss: 0.5109 - val_accuracy: 0.7111\n"
     ]
    },
    {
     "name": "stdout",
     "output_type": "stream",
     "text": [
      "Epoch 323/400\n"
     ]
    },
    {
     "name": "stdout",
     "output_type": "stream",
     "text": [
      "\r",
      "1/9 [==>...........................] - ETA: 0s - loss: 0.4598 - accuracy: 0.7333"
     ]
    },
    {
     "name": "stdout",
     "output_type": "stream",
     "text": [
      "\b\b\b\b\b\b\b\b\b\b\b\b\b\b\b\b\b\b\b\b\b\b\b\b\b\b\b\b\b\b\b\b\b\b\b\b\b\b\b\b\b\b\b\b\b\b\b\b\b\b\b\b\b\b\b\b\b\b\b\b\b\b\b\b\b\b\b\b\b\b\b\b\b\b\b\b\b\b\b\b\r",
      "9/9 [==============================] - 0s 10ms/step - loss: 0.4595 - accuracy: 0.8000 - val_loss: 0.5108 - val_accuracy: 0.7111\n"
     ]
    },
    {
     "name": "stdout",
     "output_type": "stream",
     "text": [
      "Epoch 324/400\n"
     ]
    },
    {
     "name": "stdout",
     "output_type": "stream",
     "text": [
      "\r",
      "1/9 [==>...........................] - ETA: 0s - loss: 0.6274 - accuracy: 0.6333"
     ]
    },
    {
     "name": "stdout",
     "output_type": "stream",
     "text": [
      "\b\b\b\b\b\b\b\b\b\b\b\b\b\b\b\b\b\b\b\b\b\b\b\b\b\b\b\b\b\b\b\b\b\b\b\b\b\b\b\b\b\b\b\b\b\b\b\b\b\b\b\b\b\b\b\b\b\b\b\b\b\b\b\b\b\b\b\b\b\b\b\b\b\b\b\b\b\b\b\b\r",
      "9/9 [==============================] - 0s 5ms/step - loss: 0.4593 - accuracy: 0.8000 - val_loss: 0.5101 - val_accuracy: 0.7111\n"
     ]
    },
    {
     "name": "stdout",
     "output_type": "stream",
     "text": [
      "Epoch 325/400\n"
     ]
    },
    {
     "name": "stdout",
     "output_type": "stream",
     "text": [
      "\r",
      "1/9 [==>...........................] - ETA: 0s - loss: 0.5181 - accuracy: 0.7667"
     ]
    },
    {
     "name": "stdout",
     "output_type": "stream",
     "text": [
      "\b\b\b\b\b\b\b\b\b\b\b\b\b\b\b\b\b\b\b\b\b\b\b\b\b\b\b\b\b\b\b\b\b\b\b\b\b\b\b\b\b\b\b\b\b\b\b\b\b\b\b\b\b\b\b\b\b\b\b\b\b\b\b\b\b\b\b\b\b\b\b\b\b\b\b\b\b\b\b\b\r",
      "9/9 [==============================] - 0s 5ms/step - loss: 0.4590 - accuracy: 0.8000 - val_loss: 0.5106 - val_accuracy: 0.7111\n"
     ]
    },
    {
     "name": "stdout",
     "output_type": "stream",
     "text": [
      "Epoch 326/400\n"
     ]
    },
    {
     "name": "stdout",
     "output_type": "stream",
     "text": [
      "\r",
      "1/9 [==>...........................] - ETA: 0s - loss: 0.4697 - accuracy: 0.8000"
     ]
    },
    {
     "name": "stdout",
     "output_type": "stream",
     "text": [
      "\b\b\b\b\b\b\b\b\b\b\b\b\b\b\b\b\b\b\b\b\b\b\b\b\b\b\b\b\b\b\b\b\b\b\b\b\b\b\b\b\b\b\b\b\b\b\b\b\b\b\b\b\b\b\b\b\b\b\b\b\b\b\b\b\b\b\b\b\b\b\b\b\b\b\b\b\b\b\b\b\r",
      "9/9 [==============================] - 0s 5ms/step - loss: 0.4587 - accuracy: 0.8039 - val_loss: 0.5100 - val_accuracy: 0.7111\n"
     ]
    },
    {
     "name": "stdout",
     "output_type": "stream",
     "text": [
      "Epoch 327/400\n"
     ]
    },
    {
     "name": "stdout",
     "output_type": "stream",
     "text": [
      "\r",
      "1/9 [==>...........................] - ETA: 0s - loss: 0.6328 - accuracy: 0.7000"
     ]
    },
    {
     "name": "stdout",
     "output_type": "stream",
     "text": [
      "\b\b\b\b\b\b\b\b\b\b\b\b\b\b\b\b\b\b\b\b\b\b\b\b\b\b\b\b\b\b\b\b\b\b\b\b\b\b\b\b\b\b\b\b\b\b\b\b\b\b\b\b\b\b\b\b\b\b\b\b\b\b\b\b\b\b\b\b\b\b\b\b\b\b\b\b\b\b\b\b\r",
      "9/9 [==============================] - 0s 5ms/step - loss: 0.4585 - accuracy: 0.8000 - val_loss: 0.5104 - val_accuracy: 0.7111\n"
     ]
    },
    {
     "name": "stdout",
     "output_type": "stream",
     "text": [
      "Epoch 328/400\n"
     ]
    },
    {
     "name": "stdout",
     "output_type": "stream",
     "text": [
      "\r",
      "1/9 [==>...........................] - ETA: 0s - loss: 0.5134 - accuracy: 0.7667"
     ]
    },
    {
     "name": "stdout",
     "output_type": "stream",
     "text": [
      "\b\b\b\b\b\b\b\b\b\b\b\b\b\b\b\b\b\b\b\b\b\b\b\b\b\b\b\b\b\b\b\b\b\b\b\b\b\b\b\b\b\b\b\b\b\b\b\b\b\b\b\b\b\b\b\b\b\b\b\b\b\b\b\b\b\b\b\b\b\b\b\b\b\b\b\b\b\b\b\b\r",
      "9/9 [==============================] - 0s 5ms/step - loss: 0.4584 - accuracy: 0.8039 - val_loss: 0.5099 - val_accuracy: 0.7111\n"
     ]
    },
    {
     "name": "stdout",
     "output_type": "stream",
     "text": [
      "Epoch 329/400\n"
     ]
    },
    {
     "name": "stdout",
     "output_type": "stream",
     "text": [
      "\r",
      "1/9 [==>...........................] - ETA: 0s - loss: 0.5453 - accuracy: 0.7333"
     ]
    },
    {
     "name": "stdout",
     "output_type": "stream",
     "text": [
      "\b\b\b\b\b\b\b\b\b\b\b\b\b\b\b\b\b\b\b\b\b\b\b\b\b\b\b\b\b\b\b\b\b\b\b\b\b\b\b\b\b\b\b\b\b\b\b\b\b\b\b\b\b\b\b\b\b\b\b\b\b\b\b\b\b\b\b\b\b\b\b\b\b\b\b\b\b\b\b\b\r",
      "9/9 [==============================] - 0s 5ms/step - loss: 0.4581 - accuracy: 0.8000 - val_loss: 0.5106 - val_accuracy: 0.7111\n"
     ]
    },
    {
     "name": "stdout",
     "output_type": "stream",
     "text": [
      "Epoch 330/400\n"
     ]
    },
    {
     "name": "stdout",
     "output_type": "stream",
     "text": [
      "\r",
      "1/9 [==>...........................] - ETA: 0s - loss: 0.3364 - accuracy: 0.9333"
     ]
    },
    {
     "name": "stdout",
     "output_type": "stream",
     "text": [
      "\b\b\b\b\b\b\b\b\b\b\b\b\b\b\b\b\b\b\b\b\b\b\b\b\b\b\b\b\b\b\b\b\b\b\b\b\b\b\b\b\b\b\b\b\b\b\b\b\b\b\b\b\b\b\b\b\b\b\b\b\b\b\b\b\b\b\b\b\b\b\b\b\b\b\b\b\b\b\b\b\r",
      "9/9 [==============================] - 0s 5ms/step - loss: 0.4578 - accuracy: 0.8039 - val_loss: 0.5102 - val_accuracy: 0.7111\n"
     ]
    },
    {
     "name": "stdout",
     "output_type": "stream",
     "text": [
      "Epoch 331/400\n"
     ]
    },
    {
     "name": "stdout",
     "output_type": "stream",
     "text": [
      "\r",
      "1/9 [==>...........................] - ETA: 0s - loss: 0.4881 - accuracy: 0.7667"
     ]
    },
    {
     "name": "stdout",
     "output_type": "stream",
     "text": [
      "\b\b\b\b\b\b\b\b\b\b\b\b\b\b\b\b\b\b\b\b\b\b\b\b\b\b\b\b\b\b\b\b\b\b\b\b\b\b\b\b\b\b\b\b\b\b\b\b\b\b\b\b\b\b\b\b\b\b\b\b\b\b\b\b\b\b\b\b\b\b\b\b\b\b\b\b\b\b\b\b\r",
      "9/9 [==============================] - 0s 4ms/step - loss: 0.4576 - accuracy: 0.8000 - val_loss: 0.5107 - val_accuracy: 0.7111\n"
     ]
    },
    {
     "name": "stdout",
     "output_type": "stream",
     "text": [
      "Epoch 332/400\n"
     ]
    },
    {
     "name": "stdout",
     "output_type": "stream",
     "text": [
      "\r",
      "1/9 [==>...........................] - ETA: 0s - loss: 0.4338 - accuracy: 0.8333"
     ]
    },
    {
     "name": "stdout",
     "output_type": "stream",
     "text": [
      "\b\b\b\b\b\b\b\b\b\b\b\b\b\b\b\b\b\b\b\b\b\b\b\b\b\b\b\b\b\b\b\b\b\b\b\b\b\b\b\b\b\b\b\b\b\b\b\b\b\b\b\b\b\b\b\b\b\b\b\b\b\b\b\b\b\b\b\b\b\b\b\b\b\b\b\b\b\b\b\b\r",
      "9/9 [==============================] - 0s 4ms/step - loss: 0.4574 - accuracy: 0.8000 - val_loss: 0.5107 - val_accuracy: 0.7111\n"
     ]
    },
    {
     "name": "stdout",
     "output_type": "stream",
     "text": [
      "Epoch 333/400\n"
     ]
    },
    {
     "name": "stdout",
     "output_type": "stream",
     "text": [
      "\r",
      "1/9 [==>...........................] - ETA: 0s - loss: 0.4425 - accuracy: 0.8000"
     ]
    },
    {
     "name": "stdout",
     "output_type": "stream",
     "text": [
      "\b\b\b\b\b\b\b\b\b\b\b\b\b\b\b\b\b\b\b\b\b\b\b\b\b\b\b\b\b\b\b\b\b\b\b\b\b\b\b\b\b\b\b\b\b\b\b\b\b\b\b\b\b\b\b\b\b\b\b\b\b\b\b\b\b\b\b\b\b\b\b\b\b\b\b\b\b\b\b\b\r",
      "9/9 [==============================] - 0s 5ms/step - loss: 0.4571 - accuracy: 0.8000 - val_loss: 0.5103 - val_accuracy: 0.7111\n"
     ]
    },
    {
     "name": "stdout",
     "output_type": "stream",
     "text": [
      "Epoch 334/400\n"
     ]
    },
    {
     "name": "stdout",
     "output_type": "stream",
     "text": [
      "\r",
      "1/9 [==>...........................] - ETA: 0s - loss: 0.4963 - accuracy: 0.7333"
     ]
    },
    {
     "name": "stdout",
     "output_type": "stream",
     "text": [
      "\b\b\b\b\b\b\b\b\b\b\b\b\b\b\b\b\b\b\b\b\b\b\b\b\b\b\b\b\b\b\b\b\b\b\b\b\b\b\b\b\b\b\b\b\b\b\b\b\b\b\b\b\b\b\b\b\b\b\b\b\b\b\b\b\b\b\b\b\b\b\b\b\b\b\b\b\b\b\b\b\r",
      "9/9 [==============================] - 0s 4ms/step - loss: 0.4569 - accuracy: 0.8039 - val_loss: 0.5102 - val_accuracy: 0.7111\n"
     ]
    },
    {
     "name": "stdout",
     "output_type": "stream",
     "text": [
      "Epoch 335/400\n"
     ]
    },
    {
     "name": "stdout",
     "output_type": "stream",
     "text": [
      "\r",
      "1/9 [==>...........................] - ETA: 0s - loss: 0.4731 - accuracy: 0.8000"
     ]
    },
    {
     "name": "stdout",
     "output_type": "stream",
     "text": [
      "\b\b\b\b\b\b\b\b\b\b\b\b\b\b\b\b\b\b\b\b\b\b\b\b\b\b\b\b\b\b\b\b\b\b\b\b\b\b\b\b\b\b\b\b\b\b\b\b\b\b\b\b\b\b\b\b\b\b\b\b\b\b\b\b\b\b\b\b\b\b\b\b\b\b\b\b\b\b\b\b\r",
      "9/9 [==============================] - 0s 4ms/step - loss: 0.4566 - accuracy: 0.8039 - val_loss: 0.5096 - val_accuracy: 0.7111\n"
     ]
    },
    {
     "name": "stdout",
     "output_type": "stream",
     "text": [
      "Epoch 336/400\n"
     ]
    },
    {
     "name": "stdout",
     "output_type": "stream",
     "text": [
      "\r",
      "1/9 [==>...........................] - ETA: 0s - loss: 0.4618 - accuracy: 0.7667"
     ]
    },
    {
     "name": "stdout",
     "output_type": "stream",
     "text": [
      "\b\b\b\b\b\b\b\b\b\b\b\b\b\b\b\b\b\b\b\b\b\b\b\b\b\b\b\b\b\b\b\b\b\b\b\b\b\b\b\b\b\b\b\b\b\b\b\b\b\b\b\b\b\b\b\b\b\b\b\b\b\b\b\b\b\b\b\b\b\b\b\b\b\b\b\b\b\b\b\b\r",
      "9/9 [==============================] - 0s 5ms/step - loss: 0.4564 - accuracy: 0.8039 - val_loss: 0.5096 - val_accuracy: 0.7111\n"
     ]
    },
    {
     "name": "stdout",
     "output_type": "stream",
     "text": [
      "Epoch 337/400\n"
     ]
    },
    {
     "name": "stdout",
     "output_type": "stream",
     "text": [
      "\r",
      "1/9 [==>...........................] - ETA: 0s - loss: 0.5415 - accuracy: 0.6000"
     ]
    },
    {
     "name": "stdout",
     "output_type": "stream",
     "text": [
      "\b\b\b\b\b\b\b\b\b\b\b\b\b\b\b\b\b\b\b\b\b\b\b\b\b\b\b\b\b\b\b\b\b\b\b\b\b\b\b\b\b\b\b\b\b\b\b\b\b\b\b\b\b\b\b\b\b\b\b\b\b\b\b\b\b\b\b\b\b\b\b\b\b\b\b\b\b\b\b\b\r",
      "9/9 [==============================] - 0s 4ms/step - loss: 0.4562 - accuracy: 0.8039 - val_loss: 0.5096 - val_accuracy: 0.7111\n"
     ]
    },
    {
     "name": "stdout",
     "output_type": "stream",
     "text": [
      "Epoch 338/400\n"
     ]
    },
    {
     "name": "stdout",
     "output_type": "stream",
     "text": [
      "\r",
      "1/9 [==>...........................] - ETA: 0s - loss: 0.4303 - accuracy: 0.9000"
     ]
    },
    {
     "name": "stdout",
     "output_type": "stream",
     "text": [
      "\b\b\b\b\b\b\b\b\b\b\b\b\b\b\b\b\b\b\b\b\b\b\b\b\b\b\b\b\b\b\b\b\b\b\b\b\b\b\b\b\b\b\b\b\b\b\b\b\b\b\b\b\b\b\b\b\b\b\b\b\b\b\b\b\b\b\b\b\b\b\b\b\b\b\b\b\b\b\b\b\r",
      "9/9 [==============================] - 0s 4ms/step - loss: 0.4560 - accuracy: 0.8039 - val_loss: 0.5096 - val_accuracy: 0.7111\n"
     ]
    },
    {
     "name": "stdout",
     "output_type": "stream",
     "text": [
      "Epoch 339/400\n"
     ]
    },
    {
     "name": "stdout",
     "output_type": "stream",
     "text": [
      "\r",
      "1/9 [==>...........................] - ETA: 0s - loss: 0.5315 - accuracy: 0.6667"
     ]
    },
    {
     "name": "stdout",
     "output_type": "stream",
     "text": [
      "\b\b\b\b\b\b\b\b\b\b\b\b\b\b\b\b\b\b\b\b\b\b\b\b\b\b\b\b\b\b\b\b\b\b\b\b\b\b\b\b\b\b\b\b\b\b\b\b\b\b\b\b\b\b\b\b\b\b\b\b\b\b\b\b\b\b\b\b\b\b\b\b\b\b\b\b\b\b\b\b\r",
      "9/9 [==============================] - 0s 5ms/step - loss: 0.4558 - accuracy: 0.8039 - val_loss: 0.5094 - val_accuracy: 0.7111\n"
     ]
    },
    {
     "name": "stdout",
     "output_type": "stream",
     "text": [
      "Epoch 340/400\n"
     ]
    },
    {
     "name": "stdout",
     "output_type": "stream",
     "text": [
      "\r",
      "1/9 [==>...........................] - ETA: 0s - loss: 0.4115 - accuracy: 0.8333"
     ]
    },
    {
     "name": "stdout",
     "output_type": "stream",
     "text": [
      "\b\b\b\b\b\b\b\b\b\b\b\b\b\b\b\b\b\b\b\b\b\b\b\b\b\b\b\b\b\b\b\b\b\b\b\b\b\b\b\b\b\b\b\b\b\b\b\b\b\b\b\b\b\b\b\b\b\b\b\b\b\b\b\b\b\b\b\b\b\b\b\b\b\b\b\b\b\b\b\b\r",
      "9/9 [==============================] - 0s 5ms/step - loss: 0.4556 - accuracy: 0.8039 - val_loss: 0.5098 - val_accuracy: 0.7111\n"
     ]
    },
    {
     "name": "stdout",
     "output_type": "stream",
     "text": [
      "Epoch 341/400\n"
     ]
    },
    {
     "name": "stdout",
     "output_type": "stream",
     "text": [
      "\r",
      "1/9 [==>...........................] - ETA: 0s - loss: 0.3654 - accuracy: 0.8667"
     ]
    },
    {
     "name": "stdout",
     "output_type": "stream",
     "text": [
      "\b\b\b\b\b\b\b\b\b\b\b\b\b\b\b\b\b\b\b\b\b\b\b\b\b\b\b\b\b\b\b\b\b\b\b\b\b\b\b\b\b\b\b\b\b\b\b\b\b\b\b\b\b\b\b\b\b\b\b\b\b\b\b\b\b\b\b\b\b\b\b\b\b\b\b\b\b\b\b\b\r",
      "9/9 [==============================] - 0s 5ms/step - loss: 0.4553 - accuracy: 0.8039 - val_loss: 0.5095 - val_accuracy: 0.7111\n"
     ]
    },
    {
     "name": "stdout",
     "output_type": "stream",
     "text": [
      "Epoch 342/400\n"
     ]
    },
    {
     "name": "stdout",
     "output_type": "stream",
     "text": [
      "\r",
      "1/9 [==>...........................] - ETA: 0s - loss: 0.4472 - accuracy: 0.8000"
     ]
    },
    {
     "name": "stdout",
     "output_type": "stream",
     "text": [
      "\b\b\b\b\b\b\b\b\b\b\b\b\b\b\b\b\b\b\b\b\b\b\b\b\b\b\b\b\b\b\b\b\b\b\b\b\b\b\b\b\b\b\b\b\b\b\b\b\b\b\b\b\b\b\b\b\b\b\b\b\b\b\b\b\b\b\b\b\b\b\b\b\b\b\b\b\b\b\b\b\r",
      "9/9 [==============================] - 0s 8ms/step - loss: 0.4552 - accuracy: 0.8039 - val_loss: 0.5090 - val_accuracy: 0.7111\n"
     ]
    },
    {
     "name": "stdout",
     "output_type": "stream",
     "text": [
      "Epoch 343/400\n"
     ]
    },
    {
     "name": "stdout",
     "output_type": "stream",
     "text": [
      "\r",
      "1/9 [==>...........................] - ETA: 0s - loss: 0.4144 - accuracy: 0.8333"
     ]
    },
    {
     "name": "stdout",
     "output_type": "stream",
     "text": [
      "\b\b\b\b\b\b\b\b\b\b\b\b\b\b\b\b\b\b\b\b\b\b\b\b\b\b\b\b\b\b\b\b\b\b\b\b\b\b\b\b\b\b\b\b\b\b\b\b\b\b\b\b\b\b\b\b\b\b\b\b\b\b\b\b\b\b\b\b\b\b\b\b\b\b\b\b\b\b\b\b\r",
      "9/9 [==============================] - 0s 7ms/step - loss: 0.4550 - accuracy: 0.8039 - val_loss: 0.5097 - val_accuracy: 0.7111\n"
     ]
    },
    {
     "name": "stdout",
     "output_type": "stream",
     "text": [
      "Epoch 344/400\n"
     ]
    },
    {
     "name": "stdout",
     "output_type": "stream",
     "text": [
      "\r",
      "1/9 [==>...........................] - ETA: 0s - loss: 0.4829 - accuracy: 0.8000"
     ]
    },
    {
     "name": "stdout",
     "output_type": "stream",
     "text": [
      "\b\b\b\b\b\b\b\b\b\b\b\b\b\b\b\b\b\b\b\b\b\b\b\b\b\b\b\b\b\b\b\b\b\b\b\b\b\b\b\b\b\b\b\b\b\b\b\b\b\b\b\b\b\b\b\b\b\b\b\b\b\b\b\b\b\b\b\b\b\b\b\b\b\b\b\b\b\b\b\b\r",
      "9/9 [==============================] - 0s 7ms/step - loss: 0.4546 - accuracy: 0.8039 - val_loss: 0.5103 - val_accuracy: 0.7111\n"
     ]
    },
    {
     "name": "stdout",
     "output_type": "stream",
     "text": [
      "Epoch 345/400\n"
     ]
    },
    {
     "name": "stdout",
     "output_type": "stream",
     "text": [
      "\r",
      "1/9 [==>...........................] - ETA: 0s - loss: 0.4237 - accuracy: 0.8333"
     ]
    },
    {
     "name": "stdout",
     "output_type": "stream",
     "text": [
      "\b\b\b\b\b\b\b\b\b\b\b\b\b\b\b\b\b\b\b\b\b\b\b\b\b\b\b\b\b\b\b\b\b\b\b\b\b\b\b\b\b\b\b\b\b\b\b\b\b\b\b\b\b\b\b\b\b\b\b\b\b\b\b\b\b\b\b\b\b\b\b\b\b\b\b\b\b\b\b\b\r",
      "9/9 [==============================] - 0s 6ms/step - loss: 0.4544 - accuracy: 0.8000 - val_loss: 0.5104 - val_accuracy: 0.7111\n"
     ]
    },
    {
     "name": "stdout",
     "output_type": "stream",
     "text": [
      "Epoch 346/400\n"
     ]
    },
    {
     "name": "stdout",
     "output_type": "stream",
     "text": [
      "\r",
      "1/9 [==>...........................] - ETA: 0s - loss: 0.3426 - accuracy: 0.9000"
     ]
    },
    {
     "name": "stdout",
     "output_type": "stream",
     "text": [
      "\b\b\b\b\b\b\b\b\b\b\b\b\b\b\b\b\b\b\b\b\b\b\b\b\b\b\b\b\b\b\b\b\b\b\b\b\b\b\b\b\b\b\b\b\b\b\b\b\b\b\b\b\b\b\b\b\b\b\b\b\b\b\b\b\b\b\b\b\b\b\b\b\b\b\b\b\b\b\b\b\r",
      "9/9 [==============================] - 0s 5ms/step - loss: 0.4542 - accuracy: 0.8000 - val_loss: 0.5109 - val_accuracy: 0.7111\n"
     ]
    },
    {
     "name": "stdout",
     "output_type": "stream",
     "text": [
      "Epoch 347/400\n"
     ]
    },
    {
     "name": "stdout",
     "output_type": "stream",
     "text": [
      "\r",
      "1/9 [==>...........................] - ETA: 0s - loss: 0.4070 - accuracy: 0.8000"
     ]
    },
    {
     "name": "stdout",
     "output_type": "stream",
     "text": [
      "\b\b\b\b\b\b\b\b\b\b\b\b\b\b\b\b\b\b\b\b\b\b\b\b\b\b\b\b\b\b\b\b\b\b\b\b\b\b\b\b\b\b\b\b\b\b\b\b\b\b\b\b\b\b\b\b\b\b\b\b\b\b\b\b\b\b\b\b\b\b\b\b\b\b\b\b\b\b\b\b\r",
      "9/9 [==============================] - 0s 8ms/step - loss: 0.4541 - accuracy: 0.8000 - val_loss: 0.5105 - val_accuracy: 0.7111\n"
     ]
    },
    {
     "name": "stdout",
     "output_type": "stream",
     "text": [
      "Epoch 348/400\n"
     ]
    },
    {
     "name": "stdout",
     "output_type": "stream",
     "text": [
      "\r",
      "1/9 [==>...........................] - ETA: 0s - loss: 0.5162 - accuracy: 0.7333"
     ]
    },
    {
     "name": "stdout",
     "output_type": "stream",
     "text": [
      "\b\b\b\b\b\b\b\b\b\b\b\b\b\b\b\b\b\b\b\b\b\b\b\b\b\b\b\b\b\b\b\b\b\b\b\b\b\b\b\b\b\b\b\b\b\b\b\b\b\b\b\b\b\b\b\b\b\b\b\b\b\b\b\b\b\b\b\b\b\b\b\b\b\b\b\b\b\b\b\b\r",
      "9/9 [==============================] - 0s 7ms/step - loss: 0.4538 - accuracy: 0.8000 - val_loss: 0.5109 - val_accuracy: 0.7111\n"
     ]
    },
    {
     "name": "stdout",
     "output_type": "stream",
     "text": [
      "Epoch 349/400\n"
     ]
    },
    {
     "name": "stdout",
     "output_type": "stream",
     "text": [
      "\r",
      "1/9 [==>...........................] - ETA: 0s - loss: 0.4110 - accuracy: 0.8667"
     ]
    },
    {
     "name": "stdout",
     "output_type": "stream",
     "text": [
      "\b\b\b\b\b\b\b\b\b\b\b\b\b\b\b\b\b\b\b\b\b\b\b\b\b\b\b\b\b\b\b\b\b\b\b\b\b\b\b\b\b\b\b\b\b\b\b\b\b\b\b\b\b\b\b\b\b\b\b\b\b\b\b\b\b\b\b\b\b\b\b\b\b\b\b\b\b\b\b\b\r",
      "9/9 [==============================] - 0s 9ms/step - loss: 0.4536 - accuracy: 0.8000 - val_loss: 0.5111 - val_accuracy: 0.7111\n"
     ]
    },
    {
     "name": "stdout",
     "output_type": "stream",
     "text": [
      "Epoch 350/400\n"
     ]
    },
    {
     "name": "stdout",
     "output_type": "stream",
     "text": [
      "\r",
      "1/9 [==>...........................] - ETA: 0s - loss: 0.5339 - accuracy: 0.7667"
     ]
    },
    {
     "name": "stdout",
     "output_type": "stream",
     "text": [
      "\b\b\b\b\b\b\b\b\b\b\b\b\b\b\b\b\b\b\b\b\b\b\b\b\b\b\b\b\b\b\b\b\b\b\b\b\b\b\b\b\b\b\b\b\b\b\b\b\b\b\b\b\b\b\b\b\b\b\b\b\b\b\b\b\b\b\b\b\b\b\b\b\b\b\b\b\b\b\b\b\r",
      "9/9 [==============================] - 0s 10ms/step - loss: 0.4535 - accuracy: 0.8000 - val_loss: 0.5104 - val_accuracy: 0.7111\n"
     ]
    },
    {
     "name": "stdout",
     "output_type": "stream",
     "text": [
      "Epoch 351/400\n"
     ]
    },
    {
     "name": "stdout",
     "output_type": "stream",
     "text": [
      "\r",
      "1/9 [==>...........................] - ETA: 0s - loss: 0.4933 - accuracy: 0.7333"
     ]
    },
    {
     "name": "stdout",
     "output_type": "stream",
     "text": [
      "\b\b\b\b\b\b\b\b\b\b\b\b\b\b\b\b\b\b\b\b\b\b\b\b\b\b\b\b\b\b\b\b\b\b\b\b\b\b\b\b\b\b\b\b\b\b\b\b\b\b\b\b\b\b\b\b\b\b\b\b\b\b\b\b\b\b\b\b\b\b\b\b\b\b\b\b\b\b\b\b\r",
      "9/9 [==============================] - 0s 7ms/step - loss: 0.4532 - accuracy: 0.8039 - val_loss: 0.5105 - val_accuracy: 0.7111\n"
     ]
    },
    {
     "name": "stdout",
     "output_type": "stream",
     "text": [
      "Epoch 352/400\n"
     ]
    },
    {
     "name": "stdout",
     "output_type": "stream",
     "text": [
      "\r",
      "1/9 [==>...........................] - ETA: 0s - loss: 0.3735 - accuracy: 0.8333"
     ]
    },
    {
     "name": "stdout",
     "output_type": "stream",
     "text": [
      "\b\b\b\b\b\b\b\b\b\b\b\b\b\b\b\b\b\b\b\b\b\b\b\b\b\b\b\b\b\b\b\b\b\b\b\b\b\b\b\b\b\b\b\b\b\b\b\b\b\b\b\b\b\b\b\b\b\b\b\b\b\b\b\b\b\b\b\b\b\b\b\b\b\b\b\b\b\b\b\b\r",
      "9/9 [==============================] - 0s 10ms/step - loss: 0.4530 - accuracy: 0.8000 - val_loss: 0.5107 - val_accuracy: 0.7111\n"
     ]
    },
    {
     "name": "stdout",
     "output_type": "stream",
     "text": [
      "Epoch 353/400\n"
     ]
    },
    {
     "name": "stdout",
     "output_type": "stream",
     "text": [
      "\r",
      "1/9 [==>...........................] - ETA: 0s - loss: 0.3572 - accuracy: 0.8667"
     ]
    },
    {
     "name": "stdout",
     "output_type": "stream",
     "text": [
      "\b\b\b\b\b\b\b\b\b\b\b\b\b\b\b\b\b\b\b\b\b\b\b\b\b\b\b\b\b\b\b\b\b\b\b\b\b\b\b\b\b\b\b\b\b\b\b\b\b\b\b\b\b\b\b\b\b\b\b\b\b\b\b\b\b\b\b\b\b\b\b\b\b\b\b\b\b\b\b\b\r",
      "9/9 [==============================] - 0s 8ms/step - loss: 0.4527 - accuracy: 0.8000 - val_loss: 0.5105 - val_accuracy: 0.7111\n"
     ]
    },
    {
     "name": "stdout",
     "output_type": "stream",
     "text": [
      "Epoch 354/400\n"
     ]
    },
    {
     "name": "stdout",
     "output_type": "stream",
     "text": [
      "\r",
      "1/9 [==>...........................] - ETA: 0s - loss: 0.5656 - accuracy: 0.7667"
     ]
    },
    {
     "name": "stdout",
     "output_type": "stream",
     "text": [
      "\b\b\b\b\b\b\b\b\b\b\b\b\b\b\b\b\b\b\b\b\b\b\b\b\b\b\b\b\b\b\b\b\b\b\b\b\b\b\b\b\b\b\b\b\b\b\b\b\b\b\b\b\b\b\b\b\b\b\b\b\b\b\b\b\b\b\b\b\b\b\b\b\b\b\b\b\b\b\b\b\r",
      "9/9 [==============================] - 0s 11ms/step - loss: 0.4525 - accuracy: 0.8000 - val_loss: 0.5103 - val_accuracy: 0.7111\n"
     ]
    },
    {
     "name": "stdout",
     "output_type": "stream",
     "text": [
      "Epoch 355/400\n"
     ]
    },
    {
     "name": "stdout",
     "output_type": "stream",
     "text": [
      "\r",
      "1/9 [==>...........................] - ETA: 0s - loss: 0.3616 - accuracy: 0.8333"
     ]
    },
    {
     "name": "stdout",
     "output_type": "stream",
     "text": [
      "\b\b\b\b\b\b\b\b\b\b\b\b\b\b\b\b\b\b\b\b\b\b\b\b\b\b\b\b\b\b\b\b\b\b\b\b\b\b\b\b\b\b\b\b\b\b\b\b\b\b\b\b\b\b\b\b\b\b\b\b\b\b\b\b\b\b\b\b\b\b\b\b\b\b\b\b\b\b\b\b\r",
      "9/9 [==============================] - 0s 12ms/step - loss: 0.4524 - accuracy: 0.8000 - val_loss: 0.5108 - val_accuracy: 0.7111\n"
     ]
    },
    {
     "name": "stdout",
     "output_type": "stream",
     "text": [
      "Epoch 356/400\n"
     ]
    },
    {
     "name": "stdout",
     "output_type": "stream",
     "text": [
      "\r",
      "1/9 [==>...........................] - ETA: 0s - loss: 0.5208 - accuracy: 0.7000"
     ]
    },
    {
     "name": "stdout",
     "output_type": "stream",
     "text": [
      "\b\b\b\b\b\b\b\b\b\b\b\b\b\b\b\b\b\b\b\b\b\b\b\b\b\b\b\b\b\b\b\b\b\b\b\b\b\b\b\b\b\b\b\b\b\b\b\b\b\b\b\b\b\b\b\b\b\b\b\b\b\b\b\b\b\b\b\b\b\b\b\b\b\b\b\b\b\b\b\b\r",
      "9/9 [==============================] - 0s 11ms/step - loss: 0.4521 - accuracy: 0.8000 - val_loss: 0.5099 - val_accuracy: 0.7111\n"
     ]
    },
    {
     "name": "stdout",
     "output_type": "stream",
     "text": [
      "Epoch 357/400\n"
     ]
    },
    {
     "name": "stdout",
     "output_type": "stream",
     "text": [
      "\r",
      "1/9 [==>...........................] - ETA: 0s - loss: 0.3878 - accuracy: 0.8000"
     ]
    },
    {
     "name": "stdout",
     "output_type": "stream",
     "text": [
      "\b\b\b\b\b\b\b\b\b\b\b\b\b\b\b\b\b\b\b\b\b\b\b\b\b\b\b\b\b\b\b\b\b\b\b\b\b\b\b\b\b\b\b\b\b\b\b\b\b\b\b\b\b\b\b\b\b\b\b\b\b\b\b\b\b\b\b\b\b\b\b\b\b\b\b\b\b\b\b\b\r",
      "9/9 [==============================] - 0s 10ms/step - loss: 0.4520 - accuracy: 0.8039 - val_loss: 0.5095 - val_accuracy: 0.7111\n"
     ]
    },
    {
     "name": "stdout",
     "output_type": "stream",
     "text": [
      "Epoch 358/400\n"
     ]
    },
    {
     "name": "stdout",
     "output_type": "stream",
     "text": [
      "\r",
      "1/9 [==>...........................] - ETA: 0s - loss: 0.3550 - accuracy: 0.8667"
     ]
    },
    {
     "name": "stdout",
     "output_type": "stream",
     "text": [
      "\b\b\b\b\b\b\b\b\b\b\b\b\b\b\b\b\b\b\b\b\b\b\b\b\b\b\b\b\b\b\b\b\b\b\b\b\b\b\b\b\b\b\b\b\b\b\b\b\b\b\b\b\b\b\b\b\b\b\b\b\b\b\b\b\b\b\b\b\b\b\b\b\b\b\b\b\b\b\b\b\r",
      "9/9 [==============================] - 0s 11ms/step - loss: 0.4517 - accuracy: 0.8039 - val_loss: 0.5100 - val_accuracy: 0.7111\n"
     ]
    },
    {
     "name": "stdout",
     "output_type": "stream",
     "text": [
      "Epoch 359/400\n"
     ]
    },
    {
     "name": "stdout",
     "output_type": "stream",
     "text": [
      "\r",
      "1/9 [==>...........................] - ETA: 0s - loss: 0.5607 - accuracy: 0.6333"
     ]
    },
    {
     "name": "stdout",
     "output_type": "stream",
     "text": [
      "\b\b\b\b\b\b\b\b\b\b\b\b\b\b\b\b\b\b\b\b\b\b\b\b\b\b\b\b\b\b\b\b\b\b\b\b\b\b\b\b\b\b\b\b\b\b\b\b\b\b\b\b\b\b\b\b\b\b\b\b\b\b\b\b\b\b\b\b\b\b\b\b\b\b\b\b\b\b\b\b\r",
      "9/9 [==============================] - 0s 10ms/step - loss: 0.4514 - accuracy: 0.8039 - val_loss: 0.5101 - val_accuracy: 0.7111\n"
     ]
    },
    {
     "name": "stdout",
     "output_type": "stream",
     "text": [
      "Epoch 360/400\n"
     ]
    },
    {
     "name": "stdout",
     "output_type": "stream",
     "text": [
      "\r",
      "1/9 [==>...........................] - ETA: 0s - loss: 0.3452 - accuracy: 0.9000"
     ]
    },
    {
     "name": "stdout",
     "output_type": "stream",
     "text": [
      "\b\b\b\b\b\b\b\b\b\b\b\b\b\b\b\b\b\b\b\b\b\b\b\b\b\b\b\b\b\b\b\b\b\b\b\b\b\b\b\b\b\b\b\b\b\b\b\b\b\b\b\b\b\b\b\b\b\b\b\b\b\b\b\b\b\b\b\b\b\b\b\b\b\b\b\b\b\b\b\b\r",
      "9/9 [==============================] - 0s 8ms/step - loss: 0.4513 - accuracy: 0.8039 - val_loss: 0.5098 - val_accuracy: 0.7111\n"
     ]
    },
    {
     "name": "stdout",
     "output_type": "stream",
     "text": [
      "Epoch 361/400\n"
     ]
    },
    {
     "name": "stdout",
     "output_type": "stream",
     "text": [
      "\r",
      "1/9 [==>...........................] - ETA: 0s - loss: 0.4343 - accuracy: 0.8333"
     ]
    },
    {
     "name": "stdout",
     "output_type": "stream",
     "text": [
      "\b\b\b\b\b\b\b\b\b\b\b\b\b\b\b\b\b\b\b\b\b\b\b\b\b\b\b\b\b\b\b\b\b\b\b\b\b\b\b\b\b\b\b\b\b\b\b\b\b\b\b\b\b\b\b\b\b\b\b\b\b\b\b\b\b\b\b\b\b\b\b\b\b\b\b\b\b\b\b\b\r",
      "9/9 [==============================] - 0s 9ms/step - loss: 0.4511 - accuracy: 0.8039 - val_loss: 0.5096 - val_accuracy: 0.7111\n"
     ]
    },
    {
     "name": "stdout",
     "output_type": "stream",
     "text": [
      "Epoch 362/400\n"
     ]
    },
    {
     "name": "stdout",
     "output_type": "stream",
     "text": [
      "\r",
      "1/9 [==>...........................] - ETA: 0s - loss: 0.4796 - accuracy: 0.7667"
     ]
    },
    {
     "name": "stdout",
     "output_type": "stream",
     "text": [
      "\b\b\b\b\b\b\b\b\b\b\b\b\b\b\b\b\b\b\b\b\b\b\b\b\b\b\b\b\b\b\b\b\b\b\b\b\b\b\b\b\b\b\b\b\b\b\b\b\b\b\b\b\b\b\b\b\b\b\b\b\b\b\b\b\b\b\b\b\b\b\b\b\b\b\b\b\b\b\b\b\r",
      "9/9 [==============================] - 0s 10ms/step - loss: 0.4510 - accuracy: 0.8000 - val_loss: 0.5104 - val_accuracy: 0.7111\n"
     ]
    },
    {
     "name": "stdout",
     "output_type": "stream",
     "text": [
      "Epoch 363/400\n"
     ]
    },
    {
     "name": "stdout",
     "output_type": "stream",
     "text": [
      "\r",
      "1/9 [==>...........................] - ETA: 0s - loss: 0.4408 - accuracy: 0.8333"
     ]
    },
    {
     "name": "stdout",
     "output_type": "stream",
     "text": [
      "\b\b\b\b\b\b\b\b\b\b\b\b\b\b\b\b\b\b\b\b\b\b\b\b\b\b\b\b\b\b\b\b\b\b\b\b\b\b\b\b\b\b\b\b\b\b\b\b\b\b\b\b\b\b\b\b\b\b\b\b\b\b\b\b\b\b\b\b\b\b\b\b\b\b\b\b\b\b\b\b\r",
      "9/9 [==============================] - 0s 7ms/step - loss: 0.4507 - accuracy: 0.8000 - val_loss: 0.5106 - val_accuracy: 0.7111\n"
     ]
    },
    {
     "name": "stdout",
     "output_type": "stream",
     "text": [
      "Epoch 364/400\n"
     ]
    },
    {
     "name": "stdout",
     "output_type": "stream",
     "text": [
      "\r",
      "1/9 [==>...........................] - ETA: 0s - loss: 0.5359 - accuracy: 0.7000"
     ]
    },
    {
     "name": "stdout",
     "output_type": "stream",
     "text": [
      "\b\b\b\b\b\b\b\b\b\b\b\b\b\b\b\b\b\b\b\b\b\b\b\b\b\b\b\b\b\b\b\b\b\b\b\b\b\b\b\b\b\b\b\b\b\b\b\b\b\b\b\b\b\b\b\b\b\b\b\b\b\b\b\b\b\b\b\b\b\b\b\b\b\b\b\b\b\b\b\b\r",
      "9/9 [==============================] - 0s 5ms/step - loss: 0.4506 - accuracy: 0.8000 - val_loss: 0.5108 - val_accuracy: 0.7111\n"
     ]
    },
    {
     "name": "stdout",
     "output_type": "stream",
     "text": [
      "Epoch 365/400\n"
     ]
    },
    {
     "name": "stdout",
     "output_type": "stream",
     "text": [
      "\r",
      "1/9 [==>...........................] - ETA: 0s - loss: 0.3554 - accuracy: 0.9333"
     ]
    },
    {
     "name": "stdout",
     "output_type": "stream",
     "text": [
      "\b\b\b\b\b\b\b\b\b\b\b\b\b\b\b\b\b\b\b\b\b\b\b\b\b\b\b\b\b\b\b\b\b\b\b\b\b\b\b\b\b\b\b\b\b\b\b\b\b\b\b\b\b\b\b\b\b\b\b\b\b\b\b\b\b\b\b\b\b\b\b\b\b\b\b\b\b\b\b\b\r",
      "9/9 [==============================] - 0s 6ms/step - loss: 0.4502 - accuracy: 0.8039 - val_loss: 0.5099 - val_accuracy: 0.7111\n"
     ]
    },
    {
     "name": "stdout",
     "output_type": "stream",
     "text": [
      "Epoch 366/400\n"
     ]
    },
    {
     "name": "stdout",
     "output_type": "stream",
     "text": [
      "\r",
      "1/9 [==>...........................] - ETA: 0s - loss: 0.3291 - accuracy: 0.9333"
     ]
    },
    {
     "name": "stdout",
     "output_type": "stream",
     "text": [
      "\b\b\b\b\b\b\b\b\b\b\b\b\b\b\b\b\b\b\b\b\b\b\b\b\b\b\b\b\b\b\b\b\b\b\b\b\b\b\b\b\b\b\b\b\b\b\b\b\b\b\b\b\b\b\b\b\b\b\b\b\b\b\b\b\b\b\b\b\b\b\b\b\b\b\b\b\b\b\b\b\r",
      "9/9 [==============================] - 0s 10ms/step - loss: 0.4502 - accuracy: 0.8039 - val_loss: 0.5091 - val_accuracy: 0.7111\n"
     ]
    },
    {
     "name": "stdout",
     "output_type": "stream",
     "text": [
      "Epoch 367/400\n"
     ]
    },
    {
     "name": "stdout",
     "output_type": "stream",
     "text": [
      "\r",
      "1/9 [==>...........................] - ETA: 0s - loss: 0.4402 - accuracy: 0.8000"
     ]
    },
    {
     "name": "stdout",
     "output_type": "stream",
     "text": [
      "\b\b\b\b\b\b\b\b\b\b\b\b\b\b\b\b\b\b\b\b\b\b\b\b\b\b\b\b\b\b\b\b\b\b\b\b\b\b\b\b\b\b\b\b\b\b\b\b\b\b\b\b\b\b\b\b\b\b\b\b\b\b\b\b\b\b\b\b\b\b\b\b\b\b\b\b\b\b\b\b\r",
      "9/9 [==============================] - 0s 11ms/step - loss: 0.4498 - accuracy: 0.8039 - val_loss: 0.5094 - val_accuracy: 0.7111\n"
     ]
    },
    {
     "name": "stdout",
     "output_type": "stream",
     "text": [
      "Epoch 368/400\n"
     ]
    },
    {
     "name": "stdout",
     "output_type": "stream",
     "text": [
      "\r",
      "1/9 [==>...........................] - ETA: 0s - loss: 0.3953 - accuracy: 0.8667"
     ]
    },
    {
     "name": "stdout",
     "output_type": "stream",
     "text": [
      "\b\b\b\b\b\b\b\b\b\b\b\b\b\b\b\b\b\b\b\b\b\b\b\b\b\b\b\b\b\b\b\b\b\b\b\b\b\b\b\b\b\b\b\b\b\b\b\b\b\b\b\b\b\b\b\b\b\b\b\b\b\b\b\b\b\b\b\b\b\b\b\b\b\b\b\b\b\b\b\b\r",
      "9/9 [==============================] - 0s 11ms/step - loss: 0.4496 - accuracy: 0.8039 - val_loss: 0.5096 - val_accuracy: 0.7111\n"
     ]
    },
    {
     "name": "stdout",
     "output_type": "stream",
     "text": [
      "Epoch 369/400\n"
     ]
    },
    {
     "name": "stdout",
     "output_type": "stream",
     "text": [
      "\r",
      "1/9 [==>...........................] - ETA: 0s - loss: 0.4040 - accuracy: 0.7667"
     ]
    },
    {
     "name": "stdout",
     "output_type": "stream",
     "text": [
      "\b\b\b\b\b\b\b\b\b\b\b\b\b\b\b\b\b\b\b\b\b\b\b\b\b\b\b\b\b\b\b\b\b\b\b\b\b\b\b\b\b\b\b\b\b\b\b\b\b\b\b\b\b\b\b\b\b\b\b\b\b\b\b\b\b\b\b\b\b\b\b\b\b\b\b\b\b\b\b\b\r",
      "9/9 [==============================] - 0s 10ms/step - loss: 0.4497 - accuracy: 0.8039 - val_loss: 0.5087 - val_accuracy: 0.7111\n"
     ]
    },
    {
     "name": "stdout",
     "output_type": "stream",
     "text": [
      "Epoch 370/400\n"
     ]
    },
    {
     "name": "stdout",
     "output_type": "stream",
     "text": [
      "\r",
      "1/9 [==>...........................] - ETA: 0s - loss: 0.4941 - accuracy: 0.7333"
     ]
    },
    {
     "name": "stdout",
     "output_type": "stream",
     "text": [
      "\b\b\b\b\b\b\b\b\b\b\b\b\b\b\b\b\b\b\b\b\b\b\b\b\b\b\b\b\b\b\b\b\b\b\b\b\b\b\b\b\b\b\b\b\b\b\b\b\b\b\b\b\b\b\b\b\b\b\b\b\b\b\b\b\b\b\b\b\b\b\b\b\b\b\b\b\b\b\b\b\r",
      "9/9 [==============================] - 0s 11ms/step - loss: 0.4492 - accuracy: 0.8039 - val_loss: 0.5090 - val_accuracy: 0.7111\n"
     ]
    },
    {
     "name": "stdout",
     "output_type": "stream",
     "text": [
      "Epoch 371/400\n"
     ]
    },
    {
     "name": "stdout",
     "output_type": "stream",
     "text": [
      "\r",
      "1/9 [==>...........................] - ETA: 0s - loss: 0.4184 - accuracy: 0.8333"
     ]
    },
    {
     "name": "stdout",
     "output_type": "stream",
     "text": [
      "\b\b\b\b\b\b\b\b\b\b\b\b\b\b\b\b\b\b\b\b\b\b\b\b\b\b\b\b\b\b\b\b\b\b\b\b\b\b\b\b\b\b\b\b\b\b\b\b\b\b\b\b\b\b\b\b\b\b\b\b\b\b\b\b\b\b\b\b\b\b\b\b\b\b\b\b\b\b\b\b\r",
      "9/9 [==============================] - 0s 9ms/step - loss: 0.4491 - accuracy: 0.8039 - val_loss: 0.5101 - val_accuracy: 0.7111\n"
     ]
    },
    {
     "name": "stdout",
     "output_type": "stream",
     "text": [
      "Epoch 372/400\n"
     ]
    },
    {
     "name": "stdout",
     "output_type": "stream",
     "text": [
      "\r",
      "1/9 [==>...........................] - ETA: 0s - loss: 0.5183 - accuracy: 0.7333"
     ]
    },
    {
     "name": "stdout",
     "output_type": "stream",
     "text": [
      "\b\b\b\b\b\b\b\b\b\b\b\b\b\b\b\b\b\b\b\b\b\b\b\b\b\b\b\b\b\b\b\b\b\b\b\b\b\b\b\b\b\b\b\b\b\b\b\b\b\b\b\b\b\b\b\b\b\b\b\b\b\b\b\b\b\b\b\b\b\b\b\b\b\b\b\b\b\b\b\b\r",
      "9/9 [==============================] - 0s 9ms/step - loss: 0.4488 - accuracy: 0.8000 - val_loss: 0.5103 - val_accuracy: 0.7111\n"
     ]
    },
    {
     "name": "stdout",
     "output_type": "stream",
     "text": [
      "Epoch 373/400\n"
     ]
    },
    {
     "name": "stdout",
     "output_type": "stream",
     "text": [
      "\r",
      "1/9 [==>...........................] - ETA: 0s - loss: 0.5051 - accuracy: 0.7333"
     ]
    },
    {
     "name": "stdout",
     "output_type": "stream",
     "text": [
      "\b\b\b\b\b\b\b\b\b\b\b\b\b\b\b\b\b\b\b\b\b\b\b\b\b\b\b\b\b\b\b\b\b\b\b\b\b\b\b\b\b\b\b\b\b\b\b\b\b\b\b\b\b\b\b\b\b\b\b\b\b\b\b\b\b\b\b\b\b\b\b\b\b\b\b\b\b\b\b\b\r",
      "9/9 [==============================] - 0s 8ms/step - loss: 0.4487 - accuracy: 0.8000 - val_loss: 0.5100 - val_accuracy: 0.7111\n"
     ]
    },
    {
     "name": "stdout",
     "output_type": "stream",
     "text": [
      "Epoch 374/400\n"
     ]
    },
    {
     "name": "stdout",
     "output_type": "stream",
     "text": [
      "\r",
      "1/9 [==>...........................] - ETA: 0s - loss: 0.6630 - accuracy: 0.5333"
     ]
    },
    {
     "name": "stdout",
     "output_type": "stream",
     "text": [
      "\b\b\b\b\b\b\b\b\b\b\b\b\b\b\b\b\b\b\b\b\b\b\b\b\b\b\b\b\b\b\b\b\b\b\b\b\b\b\b\b\b\b\b\b\b\b\b\b\b\b\b\b\b\b\b\b\b\b\b\b\b\b\b\b\b\b\b\b\b\b\b\b\b\b\b\b\b\b\b\b\r",
      "9/9 [==============================] - 0s 9ms/step - loss: 0.4484 - accuracy: 0.8039 - val_loss: 0.5099 - val_accuracy: 0.7111\n"
     ]
    },
    {
     "name": "stdout",
     "output_type": "stream",
     "text": [
      "Epoch 375/400\n"
     ]
    },
    {
     "name": "stdout",
     "output_type": "stream",
     "text": [
      "\r",
      "1/9 [==>...........................] - ETA: 0s - loss: 0.3223 - accuracy: 0.9000"
     ]
    },
    {
     "name": "stdout",
     "output_type": "stream",
     "text": [
      "\b\b\b\b\b\b\b\b\b\b\b\b\b\b\b\b\b\b\b\b\b\b\b\b\b\b\b\b\b\b\b\b\b\b\b\b\b\b\b\b\b\b\b\b\b\b\b\b\b\b\b\b\b\b\b\b\b\b\b\b\b\b\b\b\b\b\b\b\b\b\b\b\b\b\b\b\b\b\b\b\r",
      "9/9 [==============================] - 0s 7ms/step - loss: 0.4484 - accuracy: 0.8039 - val_loss: 0.5094 - val_accuracy: 0.7111\n"
     ]
    },
    {
     "name": "stdout",
     "output_type": "stream",
     "text": [
      "Epoch 376/400\n"
     ]
    },
    {
     "name": "stdout",
     "output_type": "stream",
     "text": [
      "\r",
      "1/9 [==>...........................] - ETA: 0s - loss: 0.4391 - accuracy: 0.9000"
     ]
    },
    {
     "name": "stdout",
     "output_type": "stream",
     "text": [
      "\b\b\b\b\b\b\b\b\b\b\b\b\b\b\b\b\b\b\b\b\b\b\b\b\b\b\b\b\b\b\b\b\b\b\b\b\b\b\b\b\b\b\b\b\b\b\b\b\b\b\b\b\b\b\b\b\b\b\b\b\b\b\b\b\b\b\b\b\b\b\b\b\b\b\b\b\b\b\b\b\r",
      "9/9 [==============================] - 0s 10ms/step - loss: 0.4480 - accuracy: 0.8039 - val_loss: 0.5103 - val_accuracy: 0.7111\n"
     ]
    },
    {
     "name": "stdout",
     "output_type": "stream",
     "text": [
      "Epoch 377/400\n"
     ]
    },
    {
     "name": "stdout",
     "output_type": "stream",
     "text": [
      "\r",
      "1/9 [==>...........................] - ETA: 0s - loss: 0.3206 - accuracy: 0.9000"
     ]
    },
    {
     "name": "stdout",
     "output_type": "stream",
     "text": [
      "\b\b\b\b\b\b\b\b\b\b\b\b\b\b\b\b\b\b\b\b\b\b\b\b\b\b\b\b\b\b\b\b\b\b\b\b\b\b\b\b\b\b\b\b\b\b\b\b\b\b\b\b\b\b\b\b\b\b\b\b\b\b\b\b\b\b\b\b\b\b\b\b\b\b\b\b\b\b\b\b\r",
      "9/9 [==============================] - 0s 8ms/step - loss: 0.4478 - accuracy: 0.8000 - val_loss: 0.5102 - val_accuracy: 0.7111\n"
     ]
    },
    {
     "name": "stdout",
     "output_type": "stream",
     "text": [
      "Epoch 378/400\n"
     ]
    },
    {
     "name": "stdout",
     "output_type": "stream",
     "text": [
      "\r",
      "1/9 [==>...........................] - ETA: 0s - loss: 0.3997 - accuracy: 0.8333"
     ]
    },
    {
     "name": "stdout",
     "output_type": "stream",
     "text": [
      "\b\b\b\b\b\b\b\b\b\b\b\b\b\b\b\b\b\b\b\b\b\b\b\b\b\b\b\b\b\b\b\b\b\b\b\b\b\b\b\b\b\b\b\b\b\b\b\b\b\b\b\b\b\b\b\b\b\b\b\b\b\b\b\b\b\b\b\b\b\b\b\b\b\b\b\b\b\b\b\b\r",
      "9/9 [==============================] - 0s 8ms/step - loss: 0.4476 - accuracy: 0.8000 - val_loss: 0.5100 - val_accuracy: 0.7111\n"
     ]
    },
    {
     "name": "stdout",
     "output_type": "stream",
     "text": [
      "Epoch 379/400\n"
     ]
    },
    {
     "name": "stdout",
     "output_type": "stream",
     "text": [
      "\r",
      "1/9 [==>...........................] - ETA: 0s - loss: 0.4112 - accuracy: 0.8333"
     ]
    },
    {
     "name": "stdout",
     "output_type": "stream",
     "text": [
      "\b\b\b\b\b\b\b\b\b\b\b\b\b\b\b\b\b\b\b\b\b\b\b\b\b\b\b\b\b\b\b\b\b\b\b\b\b\b\b\b\b\b\b\b\b\b\b\b\b\b\b\b\b\b\b\b\b\b\b\b\b\b\b\b\b\b\b\b\b\b\b\b\b\b\b\b\b\b\b\b\r",
      "9/9 [==============================] - 0s 9ms/step - loss: 0.4474 - accuracy: 0.8000 - val_loss: 0.5100 - val_accuracy: 0.7111\n"
     ]
    },
    {
     "name": "stdout",
     "output_type": "stream",
     "text": [
      "Epoch 380/400\n"
     ]
    },
    {
     "name": "stdout",
     "output_type": "stream",
     "text": [
      "\r",
      "1/9 [==>...........................] - ETA: 0s - loss: 0.4033 - accuracy: 0.8000"
     ]
    },
    {
     "name": "stdout",
     "output_type": "stream",
     "text": [
      "\b\b\b\b\b\b\b\b\b\b\b\b\b\b\b\b\b\b\b\b\b\b\b\b\b\b\b\b\b\b\b\b\b\b\b\b\b\b\b\b\b\b\b\b\b\b\b\b\b\b\b\b\b\b\b\b\b\b\b\b\b\b\b\b\b\b\b\b\b\b\b\b\b\b\b\b\b\b\b\b\r",
      "9/9 [==============================] - 0s 10ms/step - loss: 0.4473 - accuracy: 0.8039 - val_loss: 0.5097 - val_accuracy: 0.7111\n"
     ]
    },
    {
     "name": "stdout",
     "output_type": "stream",
     "text": [
      "Epoch 381/400\n"
     ]
    },
    {
     "name": "stdout",
     "output_type": "stream",
     "text": [
      "\r",
      "1/9 [==>...........................] - ETA: 0s - loss: 0.4477 - accuracy: 0.8000"
     ]
    },
    {
     "name": "stdout",
     "output_type": "stream",
     "text": [
      "\b\b\b\b\b\b\b\b\b\b\b\b\b\b\b\b\b\b\b\b\b\b\b\b\b\b\b\b\b\b\b\b\b\b\b\b\b\b\b\b\b\b\b\b\b\b\b\b\b\b\b\b\b\b\b\b\b\b\b\b\b\b\b\b\b\b\b\b\b\b\b\b\b\b\b\b\b\b\b\b\r",
      "9/9 [==============================] - 0s 9ms/step - loss: 0.4471 - accuracy: 0.8000 - val_loss: 0.5102 - val_accuracy: 0.7111\n"
     ]
    },
    {
     "name": "stdout",
     "output_type": "stream",
     "text": [
      "Epoch 382/400\n"
     ]
    },
    {
     "name": "stdout",
     "output_type": "stream",
     "text": [
      "\r",
      "1/9 [==>...........................] - ETA: 0s - loss: 0.5144 - accuracy: 0.7667"
     ]
    },
    {
     "name": "stdout",
     "output_type": "stream",
     "text": [
      "\b\b\b\b\b\b\b\b\b\b\b\b\b\b\b\b\b\b\b\b\b\b\b\b\b\b\b\b\b\b\b\b\b\b\b\b\b\b\b\b\b\b\b\b\b\b\b\b\b\b\b\b\b\b\b\b\b\b\b\b\b\b\b\b\b\b\b\b\b\b\b\b\b\b\b\b\b\b\b\b\r",
      "9/9 [==============================] - 0s 10ms/step - loss: 0.4469 - accuracy: 0.8000 - val_loss: 0.5108 - val_accuracy: 0.7111\n"
     ]
    },
    {
     "name": "stdout",
     "output_type": "stream",
     "text": [
      "Epoch 383/400\n"
     ]
    },
    {
     "name": "stdout",
     "output_type": "stream",
     "text": [
      "\r",
      "1/9 [==>...........................] - ETA: 0s - loss: 0.4360 - accuracy: 0.7667"
     ]
    },
    {
     "name": "stdout",
     "output_type": "stream",
     "text": [
      "\b\b\b\b\b\b\b\b\b\b\b\b\b\b\b\b\b\b\b\b\b\b\b\b\b\b\b\b\b\b\b\b\b\b\b\b\b\b\b\b\b\b\b\b\b\b\b\b\b\b\b\b\b\b\b\b\b\b\b\b\b\b\b\b\b\b\b\b\b\b\b\b\b\b\b\b\b\b\b\b\r",
      "9/9 [==============================] - 0s 8ms/step - loss: 0.4467 - accuracy: 0.8000 - val_loss: 0.5107 - val_accuracy: 0.7111\n"
     ]
    },
    {
     "name": "stdout",
     "output_type": "stream",
     "text": [
      "Epoch 384/400\n"
     ]
    },
    {
     "name": "stdout",
     "output_type": "stream",
     "text": [
      "\r",
      "1/9 [==>...........................] - ETA: 0s - loss: 0.4359 - accuracy: 0.7333"
     ]
    },
    {
     "name": "stdout",
     "output_type": "stream",
     "text": [
      "\b\b\b\b\b\b\b\b\b\b\b\b\b\b\b\b\b\b\b\b\b\b\b\b\b\b\b\b\b\b\b\b\b\b\b\b\b\b\b\b\b\b\b\b\b\b\b\b\b\b\b\b\b\b\b\b\b\b\b\b\b\b\b\b\b\b\b\b\b\b\b\b\b\b\b\b\b\b\b\b\r",
      "9/9 [==============================] - 0s 9ms/step - loss: 0.4465 - accuracy: 0.8039 - val_loss: 0.5106 - val_accuracy: 0.7111\n"
     ]
    },
    {
     "name": "stdout",
     "output_type": "stream",
     "text": [
      "Epoch 385/400\n"
     ]
    },
    {
     "name": "stdout",
     "output_type": "stream",
     "text": [
      "\r",
      "1/9 [==>...........................] - ETA: 0s - loss: 0.5382 - accuracy: 0.7333"
     ]
    },
    {
     "name": "stdout",
     "output_type": "stream",
     "text": [
      "\b\b\b\b\b\b\b\b\b\b\b\b\b\b\b\b\b\b\b\b\b\b\b\b\b\b\b\b\b\b\b\b\b\b\b\b\b\b\b\b\b\b\b\b\b\b\b\b\b\b\b\b\b\b\b\b\b\b\b\b\b\b\b\b\b\b\b\b\b\b\b\b\b\b\b\b\b\b\b\b\r",
      "9/9 [==============================] - 0s 5ms/step - loss: 0.4463 - accuracy: 0.8000 - val_loss: 0.5101 - val_accuracy: 0.7111\n"
     ]
    },
    {
     "name": "stdout",
     "output_type": "stream",
     "text": [
      "Epoch 386/400\n"
     ]
    },
    {
     "name": "stdout",
     "output_type": "stream",
     "text": [
      "\r",
      "1/9 [==>...........................] - ETA: 0s - loss: 0.4893 - accuracy: 0.7333"
     ]
    },
    {
     "name": "stdout",
     "output_type": "stream",
     "text": [
      "\b\b\b\b\b\b\b\b\b\b\b\b\b\b\b\b\b\b\b\b\b\b\b\b\b\b\b\b\b\b\b\b\b\b\b\b\b\b\b\b\b\b\b\b\b\b\b\b\b\b\b\b\b\b\b\b\b\b\b\b\b\b\b\b\b\b\b\b\b\b\b\b\b\b\b\b\b\b\b\b\r",
      "9/9 [==============================] - 0s 7ms/step - loss: 0.4461 - accuracy: 0.8000 - val_loss: 0.5097 - val_accuracy: 0.7111\n"
     ]
    },
    {
     "name": "stdout",
     "output_type": "stream",
     "text": [
      "Epoch 387/400\n"
     ]
    },
    {
     "name": "stdout",
     "output_type": "stream",
     "text": [
      "\r",
      "1/9 [==>...........................] - ETA: 0s - loss: 0.5854 - accuracy: 0.6000"
     ]
    },
    {
     "name": "stdout",
     "output_type": "stream",
     "text": [
      "\b\b\b\b\b\b\b\b\b\b\b\b\b\b\b\b\b\b\b\b\b\b\b\b\b\b\b\b\b\b\b\b\b\b\b\b\b\b\b\b\b\b\b\b\b\b\b\b\b\b\b\b\b\b\b\b\b\b\b\b\b\b\b\b\b\b\b\b\b\b\b\b\b\b\b\b\b\b\b\b\r",
      "9/9 [==============================] - 0s 10ms/step - loss: 0.4459 - accuracy: 0.8000 - val_loss: 0.5097 - val_accuracy: 0.7111\n"
     ]
    },
    {
     "name": "stdout",
     "output_type": "stream",
     "text": [
      "Epoch 388/400\n"
     ]
    },
    {
     "name": "stdout",
     "output_type": "stream",
     "text": [
      "\r",
      "1/9 [==>...........................] - ETA: 0s - loss: 0.4297 - accuracy: 0.7667"
     ]
    },
    {
     "name": "stdout",
     "output_type": "stream",
     "text": [
      "\b\b\b\b\b\b\b\b\b\b\b\b\b\b\b\b\b\b\b\b\b\b\b\b\b\b\b\b\b\b\b\b\b\b\b\b\b\b\b\b\b\b\b\b\b\b\b\b\b\b\b\b\b\b\b\b\b\b\b\b\b\b\b\b\b\b\b\b\b\b\b\b\b\b\b\b\b\b\b\b\r",
      "9/9 [==============================] - 0s 7ms/step - loss: 0.4458 - accuracy: 0.8039 - val_loss: 0.5089 - val_accuracy: 0.7111\n"
     ]
    },
    {
     "name": "stdout",
     "output_type": "stream",
     "text": [
      "Epoch 389/400\n"
     ]
    },
    {
     "name": "stdout",
     "output_type": "stream",
     "text": [
      "\r",
      "1/9 [==>...........................] - ETA: 0s - loss: 0.4280 - accuracy: 0.7667"
     ]
    },
    {
     "name": "stdout",
     "output_type": "stream",
     "text": [
      "\b\b\b\b\b\b\b\b\b\b\b\b\b\b\b\b\b\b\b\b\b\b\b\b\b\b\b\b\b\b\b\b\b\b\b\b\b\b\b\b\b\b\b\b\b\b\b\b\b\b\b\b\b\b\b\b\b\b\b\b\b\b\b\b\b\b\b\b\b\b\b\b\b\b\b\b\b\b\b\b\r",
      "9/9 [==============================] - 0s 6ms/step - loss: 0.4455 - accuracy: 0.8039 - val_loss: 0.5090 - val_accuracy: 0.7111\n"
     ]
    },
    {
     "name": "stdout",
     "output_type": "stream",
     "text": [
      "Epoch 390/400\n"
     ]
    },
    {
     "name": "stdout",
     "output_type": "stream",
     "text": [
      "\r",
      "1/9 [==>...........................] - ETA: 0s - loss: 0.4929 - accuracy: 0.8667"
     ]
    },
    {
     "name": "stdout",
     "output_type": "stream",
     "text": [
      "\b\b\b\b\b\b\b\b\b\b\b\b\b\b\b\b\b\b\b\b\b\b\b\b\b\b\b\b\b\b\b\b\b\b\b\b\b\b\b\b\b\b\b\b\b\b\b\b\b\b\b\b\b\b\b\b\b\b\b\b\b\b\b\b\b\b\b\b\b\b\b\b\b\b\b\b\b\b\b\b\r",
      "9/9 [==============================] - 0s 7ms/step - loss: 0.4454 - accuracy: 0.8039 - val_loss: 0.5096 - val_accuracy: 0.7111\n"
     ]
    },
    {
     "name": "stdout",
     "output_type": "stream",
     "text": [
      "Epoch 391/400\n"
     ]
    },
    {
     "name": "stdout",
     "output_type": "stream",
     "text": [
      "\r",
      "1/9 [==>...........................] - ETA: 0s - loss: 0.4280 - accuracy: 0.8000"
     ]
    },
    {
     "name": "stdout",
     "output_type": "stream",
     "text": [
      "\b\b\b\b\b\b\b\b\b\b\b\b\b\b\b\b\b\b\b\b\b\b\b\b\b\b\b\b\b\b\b\b\b\b\b\b\b\b\b\b\b\b\b\b\b\b\b\b\b\b\b\b\b\b\b\b\b\b\b\b\b\b\b\b\b\b\b\b\b\b\b\b\b\b\b\b\b\b\b\b\r",
      "9/9 [==============================] - 0s 8ms/step - loss: 0.4452 - accuracy: 0.8039 - val_loss: 0.5090 - val_accuracy: 0.7111\n"
     ]
    },
    {
     "name": "stdout",
     "output_type": "stream",
     "text": [
      "Epoch 392/400\n"
     ]
    },
    {
     "name": "stdout",
     "output_type": "stream",
     "text": [
      "\r",
      "1/9 [==>...........................] - ETA: 0s - loss: 0.4730 - accuracy: 0.8000"
     ]
    },
    {
     "name": "stdout",
     "output_type": "stream",
     "text": [
      "\b\b\b\b\b\b\b\b\b\b\b\b\b\b\b\b\b\b\b\b\b\b\b\b\b\b\b\b\b\b\b\b\b\b\b\b\b\b\b\b\b\b\b\b\b\b\b\b\b\b\b\b\b\b\b\b\b\b\b\b\b\b\b\b\b\b\b\b\b\b\b\b\b\b\b\b\b\b\b\b\r",
      "9/9 [==============================] - 0s 5ms/step - loss: 0.4450 - accuracy: 0.8039 - val_loss: 0.5089 - val_accuracy: 0.7111\n"
     ]
    },
    {
     "name": "stdout",
     "output_type": "stream",
     "text": [
      "Epoch 393/400\n"
     ]
    },
    {
     "name": "stdout",
     "output_type": "stream",
     "text": [
      "\r",
      "1/9 [==>...........................] - ETA: 0s - loss: 0.5208 - accuracy: 0.6667"
     ]
    },
    {
     "name": "stdout",
     "output_type": "stream",
     "text": [
      "\b\b\b\b\b\b\b\b\b\b\b\b\b\b\b\b\b\b\b\b\b\b\b\b\b\b\b\b\b\b\b\b\b\b\b\b\b\b\b\b\b\b\b\b\b\b\b\b\b\b\b\b\b\b\b\b\b\b\b\b\b\b\b\b\b\b\b\b\b\b\b\b\b\b\b\b\b\b\b\b\r",
      "9/9 [==============================] - 0s 8ms/step - loss: 0.4449 - accuracy: 0.8000 - val_loss: 0.5095 - val_accuracy: 0.7111\n"
     ]
    },
    {
     "name": "stdout",
     "output_type": "stream",
     "text": [
      "Epoch 394/400\n"
     ]
    },
    {
     "name": "stdout",
     "output_type": "stream",
     "text": [
      "\r",
      "1/9 [==>...........................] - ETA: 0s - loss: 0.5468 - accuracy: 0.7667"
     ]
    },
    {
     "name": "stdout",
     "output_type": "stream",
     "text": [
      "\b\b\b\b\b\b\b\b\b\b\b\b\b\b\b\b\b\b\b\b\b\b\b\b\b\b\b\b\b\b\b\b\b\b\b\b\b\b\b\b\b\b\b\b\b\b\b\b\b\b\b\b\b\b\b\b\b\b\b\b\b\b\b\b\b\b\b\b\b\b\b\b\b\b\b\b\b\b\b\b\r",
      "9/9 [==============================] - 0s 9ms/step - loss: 0.4446 - accuracy: 0.8039 - val_loss: 0.5096 - val_accuracy: 0.7111\n"
     ]
    },
    {
     "name": "stdout",
     "output_type": "stream",
     "text": [
      "Epoch 395/400\n"
     ]
    },
    {
     "name": "stdout",
     "output_type": "stream",
     "text": [
      "\r",
      "1/9 [==>...........................] - ETA: 0s - loss: 0.5030 - accuracy: 0.7667"
     ]
    },
    {
     "name": "stdout",
     "output_type": "stream",
     "text": [
      "\b\b\b\b\b\b\b\b\b\b\b\b\b\b\b\b\b\b\b\b\b\b\b\b\b\b\b\b\b\b\b\b\b\b\b\b\b\b\b\b\b\b\b\b\b\b\b\b\b\b\b\b\b\b\b\b\b\b\b\b\b\b\b\b\b\b\b\b\b\b\b\b\b\b\b\b\b\b\b\b\r",
      "9/9 [==============================] - 0s 10ms/step - loss: 0.4444 - accuracy: 0.8078 - val_loss: 0.5091 - val_accuracy: 0.7111\n"
     ]
    },
    {
     "name": "stdout",
     "output_type": "stream",
     "text": [
      "Epoch 396/400\n"
     ]
    },
    {
     "name": "stdout",
     "output_type": "stream",
     "text": [
      "\r",
      "1/9 [==>...........................] - ETA: 0s - loss: 0.5220 - accuracy: 0.7667"
     ]
    },
    {
     "name": "stdout",
     "output_type": "stream",
     "text": [
      "\b\b\b\b\b\b\b\b\b\b\b\b\b\b\b\b\b\b\b\b\b\b\b\b\b\b\b\b\b\b\b\b\b\b\b\b\b\b\b\b\b\b\b\b\b\b\b\b\b\b\b\b\b\b\b\b\b\b\b\b\b\b\b\b\b\b\b\b\b\b\b\b\b\b\b\b\b\b\b\b\r",
      "9/9 [==============================] - 0s 10ms/step - loss: 0.4442 - accuracy: 0.8039 - val_loss: 0.5087 - val_accuracy: 0.7111\n"
     ]
    },
    {
     "name": "stdout",
     "output_type": "stream",
     "text": [
      "Epoch 397/400\n"
     ]
    },
    {
     "name": "stdout",
     "output_type": "stream",
     "text": [
      "\r",
      "1/9 [==>...........................] - ETA: 0s - loss: 0.5146 - accuracy: 0.7667"
     ]
    },
    {
     "name": "stdout",
     "output_type": "stream",
     "text": [
      "\b\b\b\b\b\b\b\b\b\b\b\b\b\b\b\b\b\b\b\b\b\b\b\b\b\b\b\b\b\b\b\b\b\b\b\b\b\b\b\b\b\b\b\b\b\b\b\b\b\b\b\b\b\b\b\b\b\b\b\b\b\b\b\b\b\b\b\b\b\b\b\b\b\b\b\b\b\b\b\b\r",
      "9/9 [==============================] - 0s 10ms/step - loss: 0.4440 - accuracy: 0.8039 - val_loss: 0.5083 - val_accuracy: 0.7111\n"
     ]
    },
    {
     "name": "stdout",
     "output_type": "stream",
     "text": [
      "Epoch 398/400\n"
     ]
    },
    {
     "name": "stdout",
     "output_type": "stream",
     "text": [
      "\r",
      "1/9 [==>...........................] - ETA: 0s - loss: 0.6596 - accuracy: 0.6333"
     ]
    },
    {
     "name": "stdout",
     "output_type": "stream",
     "text": [
      "\b\b\b\b\b\b\b\b\b\b\b\b\b\b\b\b\b\b\b\b\b\b\b\b\b\b\b\b\b\b\b\b\b\b\b\b\b\b\b\b\b\b\b\b\b\b\b\b\b\b\b\b\b\b\b\b\b\b\b\b\b\b\b\b\b\b\b\b\b\b\b\b\b\b\b\b\b\b\b\b\r",
      "9/9 [==============================] - 0s 11ms/step - loss: 0.4439 - accuracy: 0.8039 - val_loss: 0.5084 - val_accuracy: 0.7111\n"
     ]
    },
    {
     "name": "stdout",
     "output_type": "stream",
     "text": [
      "Epoch 399/400\n"
     ]
    },
    {
     "name": "stdout",
     "output_type": "stream",
     "text": [
      "\r",
      "1/9 [==>...........................] - ETA: 0s - loss: 0.3817 - accuracy: 0.8667"
     ]
    },
    {
     "name": "stdout",
     "output_type": "stream",
     "text": [
      "\b\b\b\b\b\b\b\b\b\b\b\b\b\b\b\b\b\b\b\b\b\b\b\b\b\b\b\b\b\b\b\b\b\b\b\b\b\b\b\b\b\b\b\b\b\b\b\b\b\b\b\b\b\b\b\b\b\b\b\b\b\b\b\b\b\b\b\b\b\b\b\b\b\b\b\b\b\b\b\b\r",
      "9/9 [==============================] - 0s 8ms/step - loss: 0.4438 - accuracy: 0.8039 - val_loss: 0.5078 - val_accuracy: 0.7111\n"
     ]
    },
    {
     "name": "stdout",
     "output_type": "stream",
     "text": [
      "Epoch 400/400\n"
     ]
    },
    {
     "name": "stdout",
     "output_type": "stream",
     "text": [
      "\r",
      "1/9 [==>...........................] - ETA: 0s - loss: 0.4251 - accuracy: 0.8000"
     ]
    },
    {
     "name": "stdout",
     "output_type": "stream",
     "text": [
      "\b\b\b\b\b\b\b\b\b\b\b\b\b\b\b\b\b\b\b\b\b\b\b\b\b\b\b\b\b\b\b\b\b\b\b\b\b\b\b\b\b\b\b\b\b\b\b\b\b\b\b\b\b\b\b\b\b\b\b\b\b\b\b\b\b\b\b\b\b\b\b\b\b\b\b\b\b\b\b\b\r",
      "9/9 [==============================] - 0s 8ms/step - loss: 0.4435 - accuracy: 0.8039 - val_loss: 0.5084 - val_accuracy: 0.7111\n"
     ]
    }
   ],
   "source": [
    "#| output: false\n",
    "import keras_core as keras\n",
    "from keras import models, layers\n",
    "model = models.Sequential()\n",
    "\n",
    "model.add(layers.Dense(1, activation='sigmoid', input_dim=X_train.shape[1]))\n",
    "\n",
    "model.compile(optimizer='adam', loss='binary_crossentropy', metrics=['accuracy'])\n",
    "hist = model.fit(X_train, y_train, epochs=400, batch_size=30, validation_data=(X_test, y_test))"
   ]
  },
  {
   "cell_type": "code",
   "execution_count": 13,
   "id": "44beae8e",
   "metadata": {},
   "outputs": [],
   "source": [
    "loss_train = hist.history['loss']\n",
    "loss_val = hist.history['val_loss']\n",
    "\n",
    "acc_train = hist.history['accuracy']\n",
    "acc_val = hist.history['val_accuracy']"
   ]
  },
  {
   "cell_type": "code",
   "execution_count": 14,
   "id": "c38c0a4b",
   "metadata": {},
   "outputs": [
    {
     "data": {
      "text/plain": [
       "<matplotlib.legend.Legend at 0x152c7756890>"
      ]
     },
     "execution_count": 13,
     "metadata": {},
     "output_type": "execute_result"
    },
    {
     "data": {
      "application/pdf": "[encoded data removed]",
      "text/plain": [
       "<Figure size 432x288 with 1 Axes>"
      ]
     },
     "metadata": {
      "needs_background": "light"
     },
     "output_type": "display_data"
    }
   ],
   "source": [
    "import matplotlib.pyplot as plt\n",
    "plt.plot(loss_train, label='train_loss')\n",
    "plt.plot(loss_val, label='val_loss')\n",
    "plt.legend()"
   ]
  },
  {
   "cell_type": "code",
   "execution_count": 15,
   "id": "6181b296",
   "metadata": {},
   "outputs": [
    {
     "data": {
      "text/plain": [
       "<matplotlib.legend.Legend at 0x152c6736d40>"
      ]
     },
     "execution_count": 14,
     "metadata": {},
     "output_type": "execute_result"
    },
    {
     "data": {
      "application/pdf": "[encoded data removed]",
      "text/plain": [
       "<Figure size 432x288 with 1 Axes>"
      ]
     },
     "metadata": {
      "needs_background": "light"
     },
     "output_type": "display_data"
    }
   ],
   "source": [
    "plt.plot(acc_train, label='train_acc')\n",
    "plt.plot(acc_val, label='val_acc')\n",
    "plt.legend()"
   ]
  },
  {
   "cell_type": "code",
   "execution_count": 16,
   "id": "528d0e3c",
   "metadata": {},
   "outputs": [
    {
     "name": "stdout",
     "output_type": "stream",
     "text": [
      "Epoch 1/400\n"
     ]
    },
    {
     "name": "stdout",
     "output_type": "stream",
     "text": [
      "\r",
      "1/9 [==>...........................] - ETA: 3s - loss: 1.6181 - accuracy: 0.7000"
     ]
    },
    {
     "name": "stdout",
     "output_type": "stream",
     "text": [
      "\b\b\b\b\b\b\b\b\b\b\b\b\b\b\b\b\b\b\b\b\b\b\b\b\b\b\b\b\b\b\b\b\b\b\b\b\b\b\b\b\b\b\b\b\b\b\b\b\b\b\b\b\b\b\b\b\b\b\b\b\b\b\b\b\b\b\b\b\b\b\b\b\b\b\b\b\b\b\b\b\r",
      "9/9 [==============================] - 1s 18ms/step - loss: 1.6385 - accuracy: 0.6235 - val_loss: 1.4696 - val_accuracy: 0.6889\n"
     ]
    },
    {
     "name": "stdout",
     "output_type": "stream",
     "text": [
      "Epoch 2/400\n"
     ]
    },
    {
     "name": "stdout",
     "output_type": "stream",
     "text": [
      "\r",
      "1/9 [==>...........................] - ETA: 0s - loss: 1.5609 - accuracy: 0.5667"
     ]
    },
    {
     "name": "stdout",
     "output_type": "stream",
     "text": [
      "\b\b\b\b\b\b\b\b\b\b\b\b\b\b\b\b\b\b\b\b\b\b\b\b\b\b\b\b\b\b\b\b\b\b\b\b\b\b\b\b\b\b\b\b\b\b\b\b\b\b\b\b\b\b\b\b\b\b\b\b\b\b\b\b\b\b\b\b\b\b\b\b\b\b\b\b\b\b\b\b\r",
      "9/9 [==============================] - 0s 5ms/step - loss: 1.4559 - accuracy: 0.6235 - val_loss: 1.3183 - val_accuracy: 0.6889\n"
     ]
    },
    {
     "name": "stdout",
     "output_type": "stream",
     "text": [
      "Epoch 3/400\n"
     ]
    },
    {
     "name": "stdout",
     "output_type": "stream",
     "text": [
      "\r",
      "1/9 [==>...........................] - ETA: 0s - loss: 1.3345 - accuracy: 0.6667"
     ]
    },
    {
     "name": "stdout",
     "output_type": "stream",
     "text": [
      "\b\b\b\b\b\b\b\b\b\b\b\b\b\b\b\b\b\b\b\b\b\b\b\b\b\b\b\b\b\b\b\b\b\b\b\b\b\b\b\b\b\b\b\b\b\b\b\b\b\b\b\b\b\b\b\b\b\b\b\b\b\b\b\b\b\b\b\b\b\b\b\b\b\b\b\b\b\b\b\b\r",
      "9/9 [==============================] - 0s 5ms/step - loss: 1.3112 - accuracy: 0.6235 - val_loss: 1.1941 - val_accuracy: 0.6889\n"
     ]
    },
    {
     "name": "stdout",
     "output_type": "stream",
     "text": [
      "Epoch 4/400\n"
     ]
    },
    {
     "name": "stdout",
     "output_type": "stream",
     "text": [
      "\r",
      "1/9 [==>...........................] - ETA: 0s - loss: 1.1671 - accuracy: 0.7000"
     ]
    },
    {
     "name": "stdout",
     "output_type": "stream",
     "text": [
      "\b\b\b\b\b\b\b\b\b\b\b\b\b\b\b\b\b\b\b\b\b\b\b\b\b\b\b\b\b\b\b\b\b\b\b\b\b\b\b\b\b\b\b\b\b\b\b\b\b\b\b\b\b\b\b\b\b\b\b\b\b\b\b\b\b\b\b\b\b\b\b\b\b\b\b\b\b\b\b\b\r",
      "9/9 [==============================] - 0s 5ms/step - loss: 1.1920 - accuracy: 0.6235 - val_loss: 1.0948 - val_accuracy: 0.6889\n"
     ]
    },
    {
     "name": "stdout",
     "output_type": "stream",
     "text": [
      "Epoch 5/400\n"
     ]
    },
    {
     "name": "stdout",
     "output_type": "stream",
     "text": [
      "\r",
      "1/9 [==>...........................] - ETA: 0s - loss: 0.9488 - accuracy: 0.8333"
     ]
    },
    {
     "name": "stdout",
     "output_type": "stream",
     "text": [
      "\b\b\b\b\b\b\b\b\b\b\b\b\b\b\b\b\b\b\b\b\b\b\b\b\b\b\b\b\b\b\b\b\b\b\b\b\b\b\b\b\b\b\b\b\b\b\b\b\b\b\b\b\b\b\b\b\b\b\b\b\b\b\b\b\b\b\b\b\b\b\b\b\b\b\b\b\b\b\b\b\r",
      "9/9 [==============================] - 0s 5ms/step - loss: 1.0961 - accuracy: 0.6235 - val_loss: 1.0147 - val_accuracy: 0.6889\n"
     ]
    },
    {
     "name": "stdout",
     "output_type": "stream",
     "text": [
      "Epoch 6/400\n"
     ]
    },
    {
     "name": "stdout",
     "output_type": "stream",
     "text": [
      "\r",
      "1/9 [==>...........................] - ETA: 0s - loss: 1.1083 - accuracy: 0.5333"
     ]
    },
    {
     "name": "stdout",
     "output_type": "stream",
     "text": [
      "\b\b\b\b\b\b\b\b\b\b\b\b\b\b\b\b\b\b\b\b\b\b\b\b\b\b\b\b\b\b\b\b\b\b\b\b\b\b\b\b\b\b\b\b\b\b\b\b\b\b\b\b\b\b\b\b\b\b\b\b\b\b\b\b\b\b\b\b\b\b\b\b\b\b\b\b\b\b\b\b\r",
      "9/9 [==============================] - 0s 7ms/step - loss: 1.0188 - accuracy: 0.6235 - val_loss: 0.9501 - val_accuracy: 0.6889\n"
     ]
    },
    {
     "name": "stdout",
     "output_type": "stream",
     "text": [
      "Epoch 7/400\n"
     ]
    },
    {
     "name": "stdout",
     "output_type": "stream",
     "text": [
      "\r",
      "1/9 [==>...........................] - ETA: 0s - loss: 0.9314 - accuracy: 0.6667"
     ]
    },
    {
     "name": "stdout",
     "output_type": "stream",
     "text": [
      "\b\b\b\b\b\b\b\b\b\b\b\b\b\b\b\b\b\b\b\b\b\b\b\b\b\b\b\b\b\b\b\b\b\b\b\b\b\b\b\b\b\b\b\b\b\b\b\b\b\b\b\b\b\b\b\b\b\b\b\b\b\b\b\b\b\b\b\b\b\b\b\b\b\b\b\b\b\b\b\b\r",
      "9/9 [==============================] - 0s 7ms/step - loss: 0.9563 - accuracy: 0.6235 - val_loss: 0.8968 - val_accuracy: 0.6889\n"
     ]
    },
    {
     "name": "stdout",
     "output_type": "stream",
     "text": [
      "Epoch 8/400\n"
     ]
    },
    {
     "name": "stdout",
     "output_type": "stream",
     "text": [
      "\r",
      "1/9 [==>...........................] - ETA: 0s - loss: 0.8892 - accuracy: 0.6667"
     ]
    },
    {
     "name": "stdout",
     "output_type": "stream",
     "text": [
      "\b\b\b\b\b\b\b\b\b\b\b\b\b\b\b\b\b\b\b\b\b\b\b\b\b\b\b\b\b\b\b\b\b\b\b\b\b\b\b\b\b\b\b\b\b\b\b\b\b\b\b\b\b\b\b\b\b\b\b\b\b\b\b\b\b\b\b\b\b\b\b\b\b\b\b\b\b\b\b\b\r",
      "9/9 [==============================] - 0s 6ms/step - loss: 0.9048 - accuracy: 0.6235 - val_loss: 0.8535 - val_accuracy: 0.6889\n"
     ]
    },
    {
     "name": "stdout",
     "output_type": "stream",
     "text": [
      "Epoch 9/400\n"
     ]
    },
    {
     "name": "stdout",
     "output_type": "stream",
     "text": [
      "\r",
      "1/9 [==>...........................] - ETA: 0s - loss: 0.8711 - accuracy: 0.6000"
     ]
    },
    {
     "name": "stdout",
     "output_type": "stream",
     "text": [
      "\b\b\b\b\b\b\b\b\b\b\b\b\b\b\b\b\b\b\b\b\b\b\b\b\b\b\b\b\b\b\b\b\b\b\b\b\b\b\b\b\b\b\b\b\b\b\b\b\b\b\b\b\b\b\b\b\b\b\b\b\b\b\b\b\b\b\b\b\b\b\b\b\b\b\b\b\b\b\b\b\r",
      "9/9 [==============================] - 0s 5ms/step - loss: 0.8629 - accuracy: 0.6235 - val_loss: 0.8178 - val_accuracy: 0.6889\n"
     ]
    },
    {
     "name": "stdout",
     "output_type": "stream",
     "text": [
      "Epoch 10/400\n"
     ]
    },
    {
     "name": "stdout",
     "output_type": "stream",
     "text": [
      "\r",
      "1/9 [==>...........................] - ETA: 0s - loss: 0.8655 - accuracy: 0.5667"
     ]
    },
    {
     "name": "stdout",
     "output_type": "stream",
     "text": [
      "\b\b\b\b\b\b\b\b\b\b\b\b\b\b\b\b\b\b\b\b\b\b\b\b\b\b\b\b\b\b\b\b\b\b\b\b\b\b\b\b\b\b\b\b\b\b\b\b\b\b\b\b\b\b\b\b\b\b\b\b\b\b\b\b\b\b\b\b\b\b\b\b\b\b\b\b\b\b\b\b\r",
      "9/9 [==============================] - 0s 7ms/step - loss: 0.8281 - accuracy: 0.6235 - val_loss: 0.7884 - val_accuracy: 0.6889\n"
     ]
    },
    {
     "name": "stdout",
     "output_type": "stream",
     "text": [
      "Epoch 11/400\n"
     ]
    },
    {
     "name": "stdout",
     "output_type": "stream",
     "text": [
      "\r",
      "1/9 [==>...........................] - ETA: 0s - loss: 0.7209 - accuracy: 0.8000"
     ]
    },
    {
     "name": "stdout",
     "output_type": "stream",
     "text": [
      "\b\b\b\b\b\b\b\b\b\b\b\b\b\b\b\b\b\b\b\b\b\b\b\b\b\b\b\b\b\b\b\b\b\b\b\b\b\b\b\b\b\b\b\b\b\b\b\b\b\b\b\b\b\b\b\b\b\b\b\b\b\b\b\b\b\b\b\b\b\b\b\b\b\b\b\b\b\b\b\b\r",
      "9/9 [==============================] - 0s 7ms/step - loss: 0.7996 - accuracy: 0.6235 - val_loss: 0.7641 - val_accuracy: 0.6889\n"
     ]
    },
    {
     "name": "stdout",
     "output_type": "stream",
     "text": [
      "Epoch 12/400\n"
     ]
    },
    {
     "name": "stdout",
     "output_type": "stream",
     "text": [
      "\r",
      "1/9 [==>...........................] - ETA: 0s - loss: 0.8048 - accuracy: 0.5667"
     ]
    },
    {
     "name": "stdout",
     "output_type": "stream",
     "text": [
      "\b\b\b\b\b\b\b\b\b\b\b\b\b\b\b\b\b\b\b\b\b\b\b\b\b\b\b\b\b\b\b\b\b\b\b\b\b\b\b\b\b\b\b\b\b\b\b\b\b\b\b\b\b\b\b\b\b\b\b\b\b\b\b\b\b\b\b\b\b\b\b\b\b\b\b\b\b\b\b\b\r",
      "9/9 [==============================] - 0s 5ms/step - loss: 0.7756 - accuracy: 0.6235 - val_loss: 0.7441 - val_accuracy: 0.6889\n"
     ]
    },
    {
     "name": "stdout",
     "output_type": "stream",
     "text": [
      "Epoch 13/400\n"
     ]
    },
    {
     "name": "stdout",
     "output_type": "stream",
     "text": [
      "\r",
      "1/9 [==>...........................] - ETA: 0s - loss: 0.7718 - accuracy: 0.5667"
     ]
    },
    {
     "name": "stdout",
     "output_type": "stream",
     "text": [
      "\b\b\b\b\b\b\b\b\b\b\b\b\b\b\b\b\b\b\b\b\b\b\b\b\b\b\b\b\b\b\b\b\b\b\b\b\b\b\b\b\b\b\b\b\b\b\b\b\b\b\b\b\b\b\b\b\b\b\b\b\b\b\b\b\b\b\b\b\b\b\b\b\b\b\b\b\b\b\b\b\r",
      "9/9 [==============================] - 0s 9ms/step - loss: 0.7563 - accuracy: 0.6235 - val_loss: 0.7277 - val_accuracy: 0.6889\n"
     ]
    },
    {
     "name": "stdout",
     "output_type": "stream",
     "text": [
      "Epoch 14/400\n"
     ]
    },
    {
     "name": "stdout",
     "output_type": "stream",
     "text": [
      "\r",
      "1/9 [==>...........................] - ETA: 0s - loss: 0.6715 - accuracy: 0.7667"
     ]
    },
    {
     "name": "stdout",
     "output_type": "stream",
     "text": [
      "\b\b\b\b\b\b\b\b\b\b\b\b\b\b\b\b\b\b\b\b\b\b\b\b\b\b\b\b\b\b\b\b\b\b\b\b\b\b\b\b\b\b\b\b\b\b\b\b\b\b\b\b\b\b\b\b\b\b\b\b\b\b\b\b\b\b\b\b\b\b\b\b\b\b\b\b\b\b\b\b\r",
      "9/9 [==============================] - 0s 10ms/step - loss: 0.7402 - accuracy: 0.6235 - val_loss: 0.7140 - val_accuracy: 0.6889\n"
     ]
    },
    {
     "name": "stdout",
     "output_type": "stream",
     "text": [
      "Epoch 15/400\n"
     ]
    },
    {
     "name": "stdout",
     "output_type": "stream",
     "text": [
      "\r",
      "1/9 [==>...........................] - ETA: 0s - loss: 0.7496 - accuracy: 0.5667"
     ]
    },
    {
     "name": "stdout",
     "output_type": "stream",
     "text": [
      "\b\b\b\b\b\b\b\b\b\b\b\b\b\b\b\b\b\b\b\b\b\b\b\b\b\b\b\b\b\b\b\b\b\b\b\b\b\b\b\b\b\b\b\b\b\b\b\b\b\b\b\b\b\b\b\b\b\b\b\b\b\b\b\b\b\b\b\b\b\b\b\b\b\b\b\b\b\b\b\b\r",
      "9/9 [==============================] - 0s 10ms/step - loss: 0.7268 - accuracy: 0.6275 - val_loss: 0.7023 - val_accuracy: 0.6889\n"
     ]
    },
    {
     "name": "stdout",
     "output_type": "stream",
     "text": [
      "Epoch 16/400\n"
     ]
    },
    {
     "name": "stdout",
     "output_type": "stream",
     "text": [
      "\r",
      "1/9 [==>...........................] - ETA: 0s - loss: 0.7597 - accuracy: 0.5000"
     ]
    },
    {
     "name": "stdout",
     "output_type": "stream",
     "text": [
      "\b\b\b\b\b\b\b\b\b\b\b\b\b\b\b\b\b\b\b\b\b\b\b\b\b\b\b\b\b\b\b\b\b\b\b\b\b\b\b\b\b\b\b\b\b\b\b\b\b\b\b\b\b\b\b\b\b\b\b\b\b\b\b\b\b\b\b\b\b\b\b\b\b\b\b\b\b\b\b\b\r",
      "9/9 [==============================] - 0s 9ms/step - loss: 0.7159 - accuracy: 0.6275 - val_loss: 0.6928 - val_accuracy: 0.6889\n"
     ]
    },
    {
     "name": "stdout",
     "output_type": "stream",
     "text": [
      "Epoch 17/400\n"
     ]
    },
    {
     "name": "stdout",
     "output_type": "stream",
     "text": [
      "\r",
      "1/9 [==>...........................] - ETA: 0s - loss: 0.6684 - accuracy: 0.7333"
     ]
    },
    {
     "name": "stdout",
     "output_type": "stream",
     "text": [
      "\b\b\b\b\b\b\b\b\b\b\b\b\b\b\b\b\b\b\b\b\b\b\b\b\b\b\b\b\b\b\b\b\b\b\b\b\b\b\b\b\b\b\b\b\b\b\b\b\b\b\b\b\b\b\b\b\b\b\b\b\b\b\b\b\b\b\b\b\b\b\b\b\b\b\b\b\b\b\b\b\r",
      "9/9 [==============================] - 0s 11ms/step - loss: 0.7068 - accuracy: 0.6275 - val_loss: 0.6849 - val_accuracy: 0.6889\n"
     ]
    },
    {
     "name": "stdout",
     "output_type": "stream",
     "text": [
      "Epoch 18/400\n"
     ]
    },
    {
     "name": "stdout",
     "output_type": "stream",
     "text": [
      "\r",
      "1/9 [==>...........................] - ETA: 0s - loss: 0.7133 - accuracy: 0.6333"
     ]
    },
    {
     "name": "stdout",
     "output_type": "stream",
     "text": [
      "\b\b\b\b\b\b\b\b\b\b\b\b\b\b\b\b\b\b\b\b\b\b\b\b\b\b\b\b\b\b\b\b\b\b\b\b\b\b\b\b\b\b\b\b\b\b\b\b\b\b\b\b\b\b\b\b\b\b\b\b\b\b\b\b\b\b\b\b\b\b\b\b\b\b\b\b\b\b\b\b\r",
      "9/9 [==============================] - 0s 12ms/step - loss: 0.6988 - accuracy: 0.6275 - val_loss: 0.6781 - val_accuracy: 0.6889\n"
     ]
    },
    {
     "name": "stdout",
     "output_type": "stream",
     "text": [
      "Epoch 19/400\n"
     ]
    },
    {
     "name": "stdout",
     "output_type": "stream",
     "text": [
      "\r",
      "1/9 [==>...........................] - ETA: 0s - loss: 0.6879 - accuracy: 0.7000"
     ]
    },
    {
     "name": "stdout",
     "output_type": "stream",
     "text": [
      "\b\b\b\b\b\b\b\b\b\b\b\b\b\b\b\b\b\b\b\b\b\b\b\b\b\b\b\b\b\b\b\b\b\b\b\b\b\b\b\b\b\b\b\b\b\b\b\b\b\b\b\b\b\b\b\b\b\b\b\b\b\b\b\b\b\b\b\b\b\b\b\b\b\b\b\b\b\b\b\b\r",
      "9/9 [==============================] - 0s 11ms/step - loss: 0.6924 - accuracy: 0.6275 - val_loss: 0.6725 - val_accuracy: 0.6889\n"
     ]
    },
    {
     "name": "stdout",
     "output_type": "stream",
     "text": [
      "Epoch 20/400\n"
     ]
    },
    {
     "name": "stdout",
     "output_type": "stream",
     "text": [
      "\r",
      "1/9 [==>...........................] - ETA: 0s - loss: 0.7010 - accuracy: 0.6333"
     ]
    },
    {
     "name": "stdout",
     "output_type": "stream",
     "text": [
      "\b\b\b\b\b\b\b\b\b\b\b\b\b\b\b\b\b\b\b\b\b\b\b\b\b\b\b\b\b\b\b\b\b\b\b\b\b\b\b\b\b\b\b\b\b\b\b\b\b\b\b\b\b\b\b\b\b\b\b\b\b\b\b\b\b\b\b\b\b\b\b\b\b\b\b\b\b\b\b\b\r",
      "9/9 [==============================] - 0s 7ms/step - loss: 0.6870 - accuracy: 0.6275 - val_loss: 0.6677 - val_accuracy: 0.6889\n"
     ]
    },
    {
     "name": "stdout",
     "output_type": "stream",
     "text": [
      "Epoch 21/400\n"
     ]
    },
    {
     "name": "stdout",
     "output_type": "stream",
     "text": [
      "\r",
      "1/9 [==>...........................] - ETA: 0s - loss: 0.6635 - accuracy: 0.6667"
     ]
    },
    {
     "name": "stdout",
     "output_type": "stream",
     "text": [
      "\b\b\b\b\b\b\b\b\b\b\b\b\b\b\b\b\b\b\b\b\b\b\b\b\b\b\b\b\b\b\b\b\b\b\b\b\b\b\b\b\b\b\b\b\b\b\b\b\b\b\b\b\b\b\b\b\b\b\b\b\b\b\b\b\b\b\b\b\b\b\b\b\b\b\b\b\b\b\b\b\r",
      "9/9 [==============================] - 0s 10ms/step - loss: 0.6826 - accuracy: 0.6275 - val_loss: 0.6638 - val_accuracy: 0.6889\n"
     ]
    },
    {
     "name": "stdout",
     "output_type": "stream",
     "text": [
      "Epoch 22/400\n"
     ]
    },
    {
     "name": "stdout",
     "output_type": "stream",
     "text": [
      "\r",
      "1/9 [==>...........................] - ETA: 0s - loss: 0.6999 - accuracy: 0.6333"
     ]
    },
    {
     "name": "stdout",
     "output_type": "stream",
     "text": [
      "\b\b\b\b\b\b\b\b\b\b\b\b\b\b\b\b\b\b\b\b\b\b\b\b\b\b\b\b\b\b\b\b\b\b\b\b\b\b\b\b\b\b\b\b\b\b\b\b\b\b\b\b\b\b\b\b\b\b\b\b\b\b\b\b\b\b\b\b\b\b\b\b\b\b\b\b\b\b\b\b\r",
      "9/9 [==============================] - 0s 8ms/step - loss: 0.6787 - accuracy: 0.6275 - val_loss: 0.6606 - val_accuracy: 0.6889\n"
     ]
    },
    {
     "name": "stdout",
     "output_type": "stream",
     "text": [
      "Epoch 23/400\n"
     ]
    },
    {
     "name": "stdout",
     "output_type": "stream",
     "text": [
      "\r",
      "1/9 [==>...........................] - ETA: 0s - loss: 0.6561 - accuracy: 0.7000"
     ]
    },
    {
     "name": "stdout",
     "output_type": "stream",
     "text": [
      "\b\b\b\b\b\b\b\b\b\b\b\b\b\b\b\b\b\b\b\b\b\b\b\b\b\b\b\b\b\b\b\b\b\b\b\b\b\b\b\b\b\b\b\b\b\b\b\b\b\b\b\b\b\b\b\b\b\b\b\b\b\b\b\b\b\b\b\b\b\b\b\b\b\b\b\b\b\b\b\b\r",
      "9/9 [==============================] - 0s 8ms/step - loss: 0.6755 - accuracy: 0.6275 - val_loss: 0.6579 - val_accuracy: 0.6889\n"
     ]
    },
    {
     "name": "stdout",
     "output_type": "stream",
     "text": [
      "Epoch 24/400\n"
     ]
    },
    {
     "name": "stdout",
     "output_type": "stream",
     "text": [
      "\r",
      "1/9 [==>...........................] - ETA: 0s - loss: 0.6504 - accuracy: 0.7333"
     ]
    },
    {
     "name": "stdout",
     "output_type": "stream",
     "text": [
      "\b\b\b\b\b\b\b\b\b\b\b\b\b\b\b\b\b\b\b\b\b\b\b\b\b\b\b\b\b\b\b\b\b\b\b\b\b\b\b\b\b\b\b\b\b\b\b\b\b\b\b\b\b\b\b\b\b\b\b\b\b\b\b\b\b\b\b\b\b\b\b\b\b\b\b\b\b\b\b\b\r",
      "9/9 [==============================] - 0s 8ms/step - loss: 0.6728 - accuracy: 0.6275 - val_loss: 0.6555 - val_accuracy: 0.6889\n"
     ]
    },
    {
     "name": "stdout",
     "output_type": "stream",
     "text": [
      "Epoch 25/400\n"
     ]
    },
    {
     "name": "stdout",
     "output_type": "stream",
     "text": [
      "\r",
      "1/9 [==>...........................] - ETA: 0s - loss: 0.6505 - accuracy: 0.6667"
     ]
    },
    {
     "name": "stdout",
     "output_type": "stream",
     "text": [
      "\b\b\b\b\b\b\b\b\b\b\b\b\b\b\b\b\b\b\b\b\b\b\b\b\b\b\b\b\b\b\b\b\b\b\b\b\b\b\b\b\b\b\b\b\b\b\b\b\b\b\b\b\b\b\b\b\b\b\b\b\b\b\b\b\b\b\b\b\b\b\b\b\b\b\b\b\b\b\b\b\r",
      "9/9 [==============================] - 0s 6ms/step - loss: 0.6705 - accuracy: 0.6275 - val_loss: 0.6533 - val_accuracy: 0.6889\n"
     ]
    },
    {
     "name": "stdout",
     "output_type": "stream",
     "text": [
      "Epoch 26/400\n"
     ]
    },
    {
     "name": "stdout",
     "output_type": "stream",
     "text": [
      "\r",
      "1/9 [==>...........................] - ETA: 0s - loss: 0.6593 - accuracy: 0.6667"
     ]
    },
    {
     "name": "stdout",
     "output_type": "stream",
     "text": [
      "\b\b\b\b\b\b\b\b\b\b\b\b\b\b\b\b\b\b\b\b\b\b\b\b\b\b\b\b\b\b\b\b\b\b\b\b\b\b\b\b\b\b\b\b\b\b\b\b\b\b\b\b\b\b\b\b\b\b\b\b\b\b\b\b\b\b\b\b\b\b\b\b\b\b\b\b\b\b\b\b\r",
      "9/9 [==============================] - 0s 6ms/step - loss: 0.6688 - accuracy: 0.6275 - val_loss: 0.6515 - val_accuracy: 0.6889\n"
     ]
    },
    {
     "name": "stdout",
     "output_type": "stream",
     "text": [
      "Epoch 27/400\n"
     ]
    },
    {
     "name": "stdout",
     "output_type": "stream",
     "text": [
      "\r",
      "1/9 [==>...........................] - ETA: 0s - loss: 0.6443 - accuracy: 0.6667"
     ]
    },
    {
     "name": "stdout",
     "output_type": "stream",
     "text": [
      "\b\b\b\b\b\b\b\b\b\b\b\b\b\b\b\b\b\b\b\b\b\b\b\b\b\b\b\b\b\b\b\b\b\b\b\b\b\b\b\b\b\b\b\b\b\b\b\b\b\b\b\b\b\b\b\b\b\b\b\b\b\b\b\b\b\b\b\b\b\b\b\b\b\b\b\b\b\b\b\b\r",
      "9/9 [==============================] - 0s 9ms/step - loss: 0.6670 - accuracy: 0.6275 - val_loss: 0.6499 - val_accuracy: 0.6889\n"
     ]
    },
    {
     "name": "stdout",
     "output_type": "stream",
     "text": [
      "Epoch 28/400\n"
     ]
    },
    {
     "name": "stdout",
     "output_type": "stream",
     "text": [
      "\r",
      "1/9 [==>...........................] - ETA: 0s - loss: 0.6633 - accuracy: 0.5667"
     ]
    },
    {
     "name": "stdout",
     "output_type": "stream",
     "text": [
      "\b\b\b\b\b\b\b\b\b\b\b\b\b\b\b\b\b\b\b\b\b\b\b\b\b\b\b\b\b\b\b\b\b\b\b\b\b\b\b\b\b\b\b\b\b\b\b\b\b\b\b\b\b\b\b\b\b\b\b\b\b\b\b\b\b\b\b\b\b\b\b\b\b\b\b\b\b\b\b\b\r",
      "9/9 [==============================] - 0s 11ms/step - loss: 0.6656 - accuracy: 0.6275 - val_loss: 0.6486 - val_accuracy: 0.6889\n"
     ]
    },
    {
     "name": "stdout",
     "output_type": "stream",
     "text": [
      "Epoch 29/400\n"
     ]
    },
    {
     "name": "stdout",
     "output_type": "stream",
     "text": [
      "\r",
      "1/9 [==>...........................] - ETA: 0s - loss: 0.6908 - accuracy: 0.5333"
     ]
    },
    {
     "name": "stdout",
     "output_type": "stream",
     "text": [
      "\b\b\b\b\b\b\b\b\b\b\b\b\b\b\b\b\b\b\b\b\b\b\b\b\b\b\b\b\b\b\b\b\b\b\b\b\b\b\b\b\b\b\b\b\b\b\b\b\b\b\b\b\b\b\b\b\b\b\b\b\b\b\b\b\b\b\b\b\b\b\b\b\b\b\b\b\b\b\b\b\r",
      "9/9 [==============================] - 0s 7ms/step - loss: 0.6645 - accuracy: 0.6275 - val_loss: 0.6469 - val_accuracy: 0.6889\n"
     ]
    },
    {
     "name": "stdout",
     "output_type": "stream",
     "text": [
      "Epoch 30/400\n"
     ]
    },
    {
     "name": "stdout",
     "output_type": "stream",
     "text": [
      "\r",
      "1/9 [==>...........................] - ETA: 0s - loss: 0.6755 - accuracy: 0.5667"
     ]
    },
    {
     "name": "stdout",
     "output_type": "stream",
     "text": [
      "\b\b\b\b\b\b\b\b\b\b\b\b\b\b\b\b\b\b\b\b\b\b\b\b\b\b\b\b\b\b\b\b\b\b\b\b\b\b\b\b\b\b\b\b\b\b\b\b\b\b\b\b\b\b\b\b\b\b\b\b\b\b\b\b\b\b\b\b\b\b\b\b\b\b\b\b\b\b\b\b\r",
      "9/9 [==============================] - 0s 5ms/step - loss: 0.6636 - accuracy: 0.6275 - val_loss: 0.6458 - val_accuracy: 0.6889\n"
     ]
    },
    {
     "name": "stdout",
     "output_type": "stream",
     "text": [
      "Epoch 31/400\n"
     ]
    },
    {
     "name": "stdout",
     "output_type": "stream",
     "text": [
      "\r",
      "1/9 [==>...........................] - ETA: 0s - loss: 0.6221 - accuracy: 0.7333"
     ]
    },
    {
     "name": "stdout",
     "output_type": "stream",
     "text": [
      "\b\b\b\b\b\b\b\b\b\b\b\b\b\b\b\b\b\b\b\b\b\b\b\b\b\b\b\b\b\b\b\b\b\b\b\b\b\b\b\b\b\b\b\b\b\b\b\b\b\b\b\b\b\b\b\b\b\b\b\b\b\b\b\b\b\b\b\b\b\b\b\b\b\b\b\b\b\b\b\b\r",
      "9/9 [==============================] - 0s 8ms/step - loss: 0.6628 - accuracy: 0.6275 - val_loss: 0.6449 - val_accuracy: 0.6889\n"
     ]
    },
    {
     "name": "stdout",
     "output_type": "stream",
     "text": [
      "Epoch 32/400\n"
     ]
    },
    {
     "name": "stdout",
     "output_type": "stream",
     "text": [
      "\r",
      "1/9 [==>...........................] - ETA: 0s - loss: 0.6108 - accuracy: 0.8000"
     ]
    },
    {
     "name": "stdout",
     "output_type": "stream",
     "text": [
      "\b\b\b\b\b\b\b\b\b\b\b\b\b\b\b\b\b\b\b\b\b\b\b\b\b\b\b\b\b\b\b\b\b\b\b\b\b\b\b\b\b\b\b\b\b\b\b\b\b\b\b\b\b\b\b\b\b\b\b\b\b\b\b\b\b\b\b\b\b\b\b\b\b\b\b\b\b\b\b\b\r",
      "9/9 [==============================] - 0s 8ms/step - loss: 0.6618 - accuracy: 0.6275 - val_loss: 0.6444 - val_accuracy: 0.6889\n"
     ]
    },
    {
     "name": "stdout",
     "output_type": "stream",
     "text": [
      "Epoch 33/400\n"
     ]
    },
    {
     "name": "stdout",
     "output_type": "stream",
     "text": [
      "\r",
      "1/9 [==>...........................] - ETA: 0s - loss: 0.7002 - accuracy: 0.5000"
     ]
    },
    {
     "name": "stdout",
     "output_type": "stream",
     "text": [
      "\b\b\b\b\b\b\b\b\b\b\b\b\b\b\b\b\b\b\b\b\b\b\b\b\b\b\b\b\b\b\b\b\b\b\b\b\b\b\b\b\b\b\b\b\b\b\b\b\b\b\b\b\b\b\b\b\b\b\b\b\b\b\b\b\b\b\b\b\b\b\b\b\b\b\b\b\b\b\b\b\r",
      "9/9 [==============================] - 0s 8ms/step - loss: 0.6611 - accuracy: 0.6275 - val_loss: 0.6436 - val_accuracy: 0.6889\n"
     ]
    },
    {
     "name": "stdout",
     "output_type": "stream",
     "text": [
      "Epoch 34/400\n"
     ]
    },
    {
     "name": "stdout",
     "output_type": "stream",
     "text": [
      "\r",
      "1/9 [==>...........................] - ETA: 0s - loss: 0.6933 - accuracy: 0.5333"
     ]
    },
    {
     "name": "stdout",
     "output_type": "stream",
     "text": [
      "\b\b\b\b\b\b\b\b\b\b\b\b\b\b\b\b\b\b\b\b\b\b\b\b\b\b\b\b\b\b\b\b\b\b\b\b\b\b\b\b\b\b\b\b\b\b\b\b\b\b\b\b\b\b\b\b\b\b\b\b\b\b\b\b\b\b\b\b\b\b\b\b\b\b\b\b\b\b\b\b\r",
      "9/9 [==============================] - 0s 7ms/step - loss: 0.6607 - accuracy: 0.6275 - val_loss: 0.6430 - val_accuracy: 0.6889\n"
     ]
    },
    {
     "name": "stdout",
     "output_type": "stream",
     "text": [
      "Epoch 35/400\n"
     ]
    },
    {
     "name": "stdout",
     "output_type": "stream",
     "text": [
      "\r",
      "1/9 [==>...........................] - ETA: 0s - loss: 0.6449 - accuracy: 0.7000"
     ]
    },
    {
     "name": "stdout",
     "output_type": "stream",
     "text": [
      "\b\b\b\b\b\b\b\b\b\b\b\b\b\b\b\b\b\b\b\b\b\b\b\b\b\b\b\b\b\b\b\b\b\b\b\b\b\b\b\b\b\b\b\b\b\b\b\b\b\b\b\b\b\b\b\b\b\b\b\b\b\b\b\b\b\b\b\b\b\b\b\b\b\b\b\b\b\b\b\b\r",
      "9/9 [==============================] - 0s 7ms/step - loss: 0.6601 - accuracy: 0.6275 - val_loss: 0.6423 - val_accuracy: 0.6889\n"
     ]
    },
    {
     "name": "stdout",
     "output_type": "stream",
     "text": [
      "Epoch 36/400\n"
     ]
    },
    {
     "name": "stdout",
     "output_type": "stream",
     "text": [
      "\r",
      "1/9 [==>...........................] - ETA: 0s - loss: 0.6568 - accuracy: 0.6667"
     ]
    },
    {
     "name": "stdout",
     "output_type": "stream",
     "text": [
      "\b\b\b\b\b\b\b\b\b\b\b\b\b\b\b\b\b\b\b\b\b\b\b\b\b\b\b\b\b\b\b\b\b\b\b\b\b\b\b\b\b\b\b\b\b\b\b\b\b\b\b\b\b\b\b\b\b\b\b\b\b\b\b\b\b\b\b\b\b\b\b\b\b\b\b\b\b\b\b\b\r",
      "9/9 [==============================] - 0s 7ms/step - loss: 0.6597 - accuracy: 0.6275 - val_loss: 0.6417 - val_accuracy: 0.6889\n"
     ]
    },
    {
     "name": "stdout",
     "output_type": "stream",
     "text": [
      "Epoch 37/400\n"
     ]
    },
    {
     "name": "stdout",
     "output_type": "stream",
     "text": [
      "\r",
      "1/9 [==>...........................] - ETA: 0s - loss: 0.7089 - accuracy: 0.5333"
     ]
    },
    {
     "name": "stdout",
     "output_type": "stream",
     "text": [
      "\b\b\b\b\b\b\b\b\b\b\b\b\b\b\b\b\b\b\b\b\b\b\b\b\b\b\b\b\b\b\b\b\b\b\b\b\b\b\b\b\b\b\b\b\b\b\b\b\b\b\b\b\b\b\b\b\b\b\b\b\b\b\b\b\b\b\b\b\b\b\b\b\b\b\b\b\b\b\b\b\r",
      "9/9 [==============================] - 0s 8ms/step - loss: 0.6594 - accuracy: 0.6275 - val_loss: 0.6416 - val_accuracy: 0.6889\n"
     ]
    },
    {
     "name": "stdout",
     "output_type": "stream",
     "text": [
      "Epoch 38/400\n"
     ]
    },
    {
     "name": "stdout",
     "output_type": "stream",
     "text": [
      "\r",
      "1/9 [==>...........................] - ETA: 0s - loss: 0.6857 - accuracy: 0.5667"
     ]
    },
    {
     "name": "stdout",
     "output_type": "stream",
     "text": [
      "\b\b\b\b\b\b\b\b\b\b\b\b\b\b\b\b\b\b\b\b\b\b\b\b\b\b\b\b\b\b\b\b\b\b\b\b\b\b\b\b\b\b\b\b\b\b\b\b\b\b\b\b\b\b\b\b\b\b\b\b\b\b\b\b\b\b\b\b\b\b\b\b\b\b\b\b\b\b\b\b\r",
      "9/9 [==============================] - 0s 8ms/step - loss: 0.6590 - accuracy: 0.6275 - val_loss: 0.6410 - val_accuracy: 0.6889\n"
     ]
    },
    {
     "name": "stdout",
     "output_type": "stream",
     "text": [
      "Epoch 39/400\n"
     ]
    },
    {
     "name": "stdout",
     "output_type": "stream",
     "text": [
      "\r",
      "1/9 [==>...........................] - ETA: 0s - loss: 0.6958 - accuracy: 0.5667"
     ]
    },
    {
     "name": "stdout",
     "output_type": "stream",
     "text": [
      "\b\b\b\b\b\b\b\b\b\b\b\b\b\b\b\b\b\b\b\b\b\b\b\b\b\b\b\b\b\b\b\b\b\b\b\b\b\b\b\b\b\b\b\b\b\b\b\b\b\b\b\b\b\b\b\b\b\b\b\b\b\b\b\b\b\b\b\b\b\b\b\b\b\b\b\b\b\b\b\b\r",
      "9/9 [==============================] - 0s 9ms/step - loss: 0.6586 - accuracy: 0.6275 - val_loss: 0.6408 - val_accuracy: 0.6889\n"
     ]
    },
    {
     "name": "stdout",
     "output_type": "stream",
     "text": [
      "Epoch 40/400\n"
     ]
    },
    {
     "name": "stdout",
     "output_type": "stream",
     "text": [
      "\r",
      "1/9 [==>...........................] - ETA: 0s - loss: 0.6676 - accuracy: 0.6000"
     ]
    },
    {
     "name": "stdout",
     "output_type": "stream",
     "text": [
      "\b\b\b\b\b\b\b\b\b\b\b\b\b\b\b\b\b\b\b\b\b\b\b\b\b\b\b\b\b\b\b\b\b\b\b\b\b\b\b\b\b\b\b\b\b\b\b\b\b\b\b\b\b\b\b\b\b\b\b\b\b\b\b\b\b\b\b\b\b\b\b\b\b\b\b\b\b\b\b\b\r",
      "9/9 [==============================] - 0s 8ms/step - loss: 0.6584 - accuracy: 0.6275 - val_loss: 0.6405 - val_accuracy: 0.6889\n"
     ]
    },
    {
     "name": "stdout",
     "output_type": "stream",
     "text": [
      "Epoch 41/400\n"
     ]
    },
    {
     "name": "stdout",
     "output_type": "stream",
     "text": [
      "\r",
      "1/9 [==>...........................] - ETA: 0s - loss: 0.6557 - accuracy: 0.6333"
     ]
    },
    {
     "name": "stdout",
     "output_type": "stream",
     "text": [
      "\b\b\b\b\b\b\b\b\b\b\b\b\b\b\b\b\b\b\b\b\b\b\b\b\b\b\b\b\b\b\b\b\b\b\b\b\b\b\b\b\b\b\b\b\b\b\b\b\b\b\b\b\b\b\b\b\b\b\b\b\b\b\b\b\b\b\b\b\b\b\b\b\b\b\b\b\b\b\b\b\r",
      "9/9 [==============================] - 0s 7ms/step - loss: 0.6581 - accuracy: 0.6275 - val_loss: 0.6400 - val_accuracy: 0.6889\n"
     ]
    },
    {
     "name": "stdout",
     "output_type": "stream",
     "text": [
      "Epoch 42/400\n"
     ]
    },
    {
     "name": "stdout",
     "output_type": "stream",
     "text": [
      "\r",
      "1/9 [==>...........................] - ETA: 0s - loss: 0.6397 - accuracy: 0.7000"
     ]
    },
    {
     "name": "stdout",
     "output_type": "stream",
     "text": [
      "\b\b\b\b\b\b\b\b\b\b\b\b\b\b\b\b\b\b\b\b\b\b\b\b\b\b\b\b\b\b\b\b\b\b\b\b\b\b\b\b\b\b\b\b\b\b\b\b\b\b\b\b\b\b\b\b\b\b\b\b\b\b\b\b\b\b\b\b\b\b\b\b\b\b\b\b\b\b\b\b\r",
      "9/9 [==============================] - 0s 10ms/step - loss: 0.6577 - accuracy: 0.6275 - val_loss: 0.6398 - val_accuracy: 0.6889\n"
     ]
    },
    {
     "name": "stdout",
     "output_type": "stream",
     "text": [
      "Epoch 43/400\n"
     ]
    },
    {
     "name": "stdout",
     "output_type": "stream",
     "text": [
      "\r",
      "1/9 [==>...........................] - ETA: 0s - loss: 0.6880 - accuracy: 0.5000"
     ]
    },
    {
     "name": "stdout",
     "output_type": "stream",
     "text": [
      "\b\b\b\b\b\b\b\b\b\b\b\b\b\b\b\b\b\b\b\b\b\b\b\b\b\b\b\b\b\b\b\b\b\b\b\b\b\b\b\b\b\b\b\b\b\b\b\b\b\b\b\b\b\b\b\b\b\b\b\b\b\b\b\b\b\b\b\b\b\b\b\b\b\b\b\b\b\b\b\b\r",
      "9/9 [==============================] - 0s 8ms/step - loss: 0.6576 - accuracy: 0.6275 - val_loss: 0.6398 - val_accuracy: 0.6889\n"
     ]
    },
    {
     "name": "stdout",
     "output_type": "stream",
     "text": [
      "Epoch 44/400\n"
     ]
    },
    {
     "name": "stdout",
     "output_type": "stream",
     "text": [
      "\r",
      "1/9 [==>...........................] - ETA: 0s - loss: 0.6399 - accuracy: 0.6667"
     ]
    },
    {
     "name": "stdout",
     "output_type": "stream",
     "text": [
      "\b\b\b\b\b\b\b\b\b\b\b\b\b\b\b\b\b\b\b\b\b\b\b\b\b\b\b\b\b\b\b\b\b\b\b\b\b\b\b\b\b\b\b\b\b\b\b\b\b\b\b\b\b\b\b\b\b\b\b\b\b\b\b\b\b\b\b\b\b\b\b\b\b\b\b\b\b\b\b\b\r",
      "9/9 [==============================] - 0s 10ms/step - loss: 0.6573 - accuracy: 0.6275 - val_loss: 0.6395 - val_accuracy: 0.6889\n"
     ]
    },
    {
     "name": "stdout",
     "output_type": "stream",
     "text": [
      "Epoch 45/400\n"
     ]
    },
    {
     "name": "stdout",
     "output_type": "stream",
     "text": [
      "\r",
      "1/9 [==>...........................] - ETA: 0s - loss: 0.6697 - accuracy: 0.6000"
     ]
    },
    {
     "name": "stdout",
     "output_type": "stream",
     "text": [
      "\b\b\b\b\b\b\b\b\b\b\b\b\b\b\b\b\b\b\b\b\b\b\b\b\b\b\b\b\b\b\b\b\b\b\b\b\b\b\b\b\b\b\b\b\b\b\b\b\b\b\b\b\b\b\b\b\b\b\b\b\b\b\b\b\b\b\b\b\b\b\b\b\b\b\b\b\b\b\b\b\r",
      "9/9 [==============================] - 0s 11ms/step - loss: 0.6571 - accuracy: 0.6275 - val_loss: 0.6391 - val_accuracy: 0.6889\n"
     ]
    },
    {
     "name": "stdout",
     "output_type": "stream",
     "text": [
      "Epoch 46/400\n"
     ]
    },
    {
     "name": "stdout",
     "output_type": "stream",
     "text": [
      "\r",
      "1/9 [==>...........................] - ETA: 0s - loss: 0.6512 - accuracy: 0.6000"
     ]
    },
    {
     "name": "stdout",
     "output_type": "stream",
     "text": [
      "\b\b\b\b\b\b\b\b\b\b\b\b\b\b\b\b\b\b\b\b\b\b\b\b\b\b\b\b\b\b\b\b\b\b\b\b\b\b\b\b\b\b\b\b\b\b\b\b\b\b\b\b\b\b\b\b\b\b\b\b\b\b\b\b\b\b\b\b\b\b\b\b\b\b\b\b\b\b\b\b\r",
      "9/9 [==============================] - 0s 11ms/step - loss: 0.6570 - accuracy: 0.6275 - val_loss: 0.6385 - val_accuracy: 0.6889\n"
     ]
    },
    {
     "name": "stdout",
     "output_type": "stream",
     "text": [
      "Epoch 47/400\n"
     ]
    },
    {
     "name": "stdout",
     "output_type": "stream",
     "text": [
      "\r",
      "1/9 [==>...........................] - ETA: 0s - loss: 0.7144 - accuracy: 0.4667"
     ]
    },
    {
     "name": "stdout",
     "output_type": "stream",
     "text": [
      "\b\b\b\b\b\b\b\b\b\b\b\b\b\b\b\b\b\b\b\b\b\b\b\b\b\b\b\b\b\b\b\b\b\b\b\b\b\b\b\b\b\b\b\b\b\b\b\b\b\b\b\b\b\b\b\b\b\b\b\b\b\b\b\b\b\b\b\b\b\b\b\b\b\b\b\b\b\b\b\b\r",
      "9/9 [==============================] - 0s 11ms/step - loss: 0.6571 - accuracy: 0.6275 - val_loss: 0.6383 - val_accuracy: 0.6889\n"
     ]
    },
    {
     "name": "stdout",
     "output_type": "stream",
     "text": [
      "Epoch 48/400\n"
     ]
    },
    {
     "name": "stdout",
     "output_type": "stream",
     "text": [
      "\r",
      "1/9 [==>...........................] - ETA: 0s - loss: 0.6508 - accuracy: 0.6333"
     ]
    },
    {
     "name": "stdout",
     "output_type": "stream",
     "text": [
      "\b\b\b\b\b\b\b\b\b\b\b\b\b\b\b\b\b\b\b\b\b\b\b\b\b\b\b\b\b\b\b\b\b\b\b\b\b\b\b\b\b\b\b\b\b\b\b\b\b\b\b\b\b\b\b\b\b\b\b\b\b\b\b\b\b\b\b\b\b\b\b\b\b\b\b\b\b\b\b\b\r",
      "9/9 [==============================] - 0s 9ms/step - loss: 0.6566 - accuracy: 0.6275 - val_loss: 0.6378 - val_accuracy: 0.6889\n"
     ]
    },
    {
     "name": "stdout",
     "output_type": "stream",
     "text": [
      "Epoch 49/400\n"
     ]
    },
    {
     "name": "stdout",
     "output_type": "stream",
     "text": [
      "\r",
      "1/9 [==>...........................] - ETA: 0s - loss: 0.6325 - accuracy: 0.7000"
     ]
    },
    {
     "name": "stdout",
     "output_type": "stream",
     "text": [
      "\b\b\b\b\b\b\b\b\b\b\b\b\b\b\b\b\b\b\b\b\b\b\b\b\b\b\b\b\b\b\b\b\b\b\b\b\b\b\b\b\b\b\b\b\b\b\b\b\b\b\b\b\b\b\b\b\b\b\b\b\b\b\b\b\b\b\b\b\b\b\b\b\b\b\b\b\b\b\b\b\r",
      "9/9 [==============================] - 0s 5ms/step - loss: 0.6564 - accuracy: 0.6275 - val_loss: 0.6377 - val_accuracy: 0.6889\n"
     ]
    },
    {
     "name": "stdout",
     "output_type": "stream",
     "text": [
      "Epoch 50/400\n"
     ]
    },
    {
     "name": "stdout",
     "output_type": "stream",
     "text": [
      "\r",
      "1/9 [==>...........................] - ETA: 0s - loss: 0.6732 - accuracy: 0.5667"
     ]
    },
    {
     "name": "stdout",
     "output_type": "stream",
     "text": [
      "\b\b\b\b\b\b\b\b\b\b\b\b\b\b\b\b\b\b\b\b\b\b\b\b\b\b\b\b\b\b\b\b\b\b\b\b\b\b\b\b\b\b\b\b\b\b\b\b\b\b\b\b\b\b\b\b\b\b\b\b\b\b\b\b\b\b\b\b\b\b\b\b\b\b\b\b\b\b\b\b\r",
      "9/9 [==============================] - 0s 4ms/step - loss: 0.6563 - accuracy: 0.6275 - val_loss: 0.6377 - val_accuracy: 0.6889\n"
     ]
    },
    {
     "name": "stdout",
     "output_type": "stream",
     "text": [
      "Epoch 51/400\n"
     ]
    },
    {
     "name": "stdout",
     "output_type": "stream",
     "text": [
      "\r",
      "1/9 [==>...........................] - ETA: 0s - loss: 0.6566 - accuracy: 0.6000"
     ]
    },
    {
     "name": "stdout",
     "output_type": "stream",
     "text": [
      "\b\b\b\b\b\b\b\b\b\b\b\b\b\b\b\b\b\b\b\b\b\b\b\b\b\b\b\b\b\b\b\b\b\b\b\b\b\b\b\b\b\b\b\b\b\b\b\b\b\b\b\b\b\b\b\b\b\b\b\b\b\b\b\b\b\b\b\b\b\b\b\b\b\b\b\b\b\b\b\b\r",
      "9/9 [==============================] - 0s 7ms/step - loss: 0.6561 - accuracy: 0.6275 - val_loss: 0.6373 - val_accuracy: 0.6889\n"
     ]
    },
    {
     "name": "stdout",
     "output_type": "stream",
     "text": [
      "Epoch 52/400\n"
     ]
    },
    {
     "name": "stdout",
     "output_type": "stream",
     "text": [
      "\r",
      "1/9 [==>...........................] - ETA: 0s - loss: 0.6591 - accuracy: 0.6333"
     ]
    },
    {
     "name": "stdout",
     "output_type": "stream",
     "text": [
      "\b\b\b\b\b\b\b\b\b\b\b\b\b\b\b\b\b\b\b\b\b\b\b\b\b\b\b\b\b\b\b\b\b\b\b\b\b\b\b\b\b\b\b\b\b\b\b\b\b\b\b\b\b\b\b\b\b\b\b\b\b\b\b\b\b\b\b\b\b\b\b\b\b\b\b\b\b\b\b\b\r",
      "9/9 [==============================] - 0s 9ms/step - loss: 0.6560 - accuracy: 0.6275 - val_loss: 0.6370 - val_accuracy: 0.6889\n"
     ]
    },
    {
     "name": "stdout",
     "output_type": "stream",
     "text": [
      "Epoch 53/400\n"
     ]
    },
    {
     "name": "stdout",
     "output_type": "stream",
     "text": [
      "\r",
      "1/9 [==>...........................] - ETA: 0s - loss: 0.6539 - accuracy: 0.6000"
     ]
    },
    {
     "name": "stdout",
     "output_type": "stream",
     "text": [
      "\b\b\b\b\b\b\b\b\b\b\b\b\b\b\b\b\b\b\b\b\b\b\b\b\b\b\b\b\b\b\b\b\b\b\b\b\b\b\b\b\b\b\b\b\b\b\b\b\b\b\b\b\b\b\b\b\b\b\b\b\b\b\b\b\b\b\b\b\b\b\b\b\b\b\b\b\b\b\b\b\r",
      "9/9 [==============================] - 0s 7ms/step - loss: 0.6559 - accuracy: 0.6275 - val_loss: 0.6365 - val_accuracy: 0.6889\n"
     ]
    },
    {
     "name": "stdout",
     "output_type": "stream",
     "text": [
      "Epoch 54/400\n"
     ]
    },
    {
     "name": "stdout",
     "output_type": "stream",
     "text": [
      "\r",
      "1/9 [==>...........................] - ETA: 0s - loss: 0.6664 - accuracy: 0.6333"
     ]
    },
    {
     "name": "stdout",
     "output_type": "stream",
     "text": [
      "\b\b\b\b\b\b\b\b\b\b\b\b\b\b\b\b\b\b\b\b\b\b\b\b\b\b\b\b\b\b\b\b\b\b\b\b\b\b\b\b\b\b\b\b\b\b\b\b\b\b\b\b\b\b\b\b\b\b\b\b\b\b\b\b\b\b\b\b\b\b\b\b\b\b\b\b\b\b\b\b\r",
      "9/9 [==============================] - 0s 9ms/step - loss: 0.6557 - accuracy: 0.6275 - val_loss: 0.6364 - val_accuracy: 0.6889\n"
     ]
    },
    {
     "name": "stdout",
     "output_type": "stream",
     "text": [
      "Epoch 55/400\n"
     ]
    },
    {
     "name": "stdout",
     "output_type": "stream",
     "text": [
      "\r",
      "1/9 [==>...........................] - ETA: 0s - loss: 0.6898 - accuracy: 0.5333"
     ]
    },
    {
     "name": "stdout",
     "output_type": "stream",
     "text": [
      "\b\b\b\b\b\b\b\b\b\b\b\b\b\b\b\b\b\b\b\b\b\b\b\b\b\b\b\b\b\b\b\b\b\b\b\b\b\b\b\b\b\b\b\b\b\b\b\b\b\b\b\b\b\b\b\b\b\b\b\b\b\b\b\b\b\b\b\b\b\b\b\b\b\b\b\b\b\b\b\b\r",
      "9/9 [==============================] - 0s 9ms/step - loss: 0.6557 - accuracy: 0.6275 - val_loss: 0.6363 - val_accuracy: 0.6889\n"
     ]
    },
    {
     "name": "stdout",
     "output_type": "stream",
     "text": [
      "Epoch 56/400\n"
     ]
    },
    {
     "name": "stdout",
     "output_type": "stream",
     "text": [
      "\r",
      "1/9 [==>...........................] - ETA: 0s - loss: 0.6363 - accuracy: 0.6667"
     ]
    },
    {
     "name": "stdout",
     "output_type": "stream",
     "text": [
      "\b\b\b\b\b\b\b\b\b\b\b\b\b\b\b\b\b\b\b\b\b\b\b\b\b\b\b\b\b\b\b\b\b\b\b\b\b\b\b\b\b\b\b\b\b\b\b\b\b\b\b\b\b\b\b\b\b\b\b\b\b\b\b\b\b\b\b\b\b\b\b\b\b\b\b\b\b\b\b\b\r",
      "9/9 [==============================] - 0s 9ms/step - loss: 0.6554 - accuracy: 0.6275 - val_loss: 0.6363 - val_accuracy: 0.6889\n"
     ]
    },
    {
     "name": "stdout",
     "output_type": "stream",
     "text": [
      "Epoch 57/400\n"
     ]
    },
    {
     "name": "stdout",
     "output_type": "stream",
     "text": [
      "\r",
      "1/9 [==>...........................] - ETA: 0s - loss: 0.6503 - accuracy: 0.6333"
     ]
    },
    {
     "name": "stdout",
     "output_type": "stream",
     "text": [
      "\b\b\b\b\b\b\b\b\b\b\b\b\b\b\b\b\b\b\b\b\b\b\b\b\b\b\b\b\b\b\b\b\b\b\b\b\b\b\b\b\b\b\b\b\b\b\b\b\b\b\b\b\b\b\b\b\b\b\b\b\b\b\b\b\b\b\b\b\b\b\b\b\b\b\b\b\b\b\b\b\r",
      "9/9 [==============================] - 0s 10ms/step - loss: 0.6554 - accuracy: 0.6275 - val_loss: 0.6364 - val_accuracy: 0.6889\n"
     ]
    },
    {
     "name": "stdout",
     "output_type": "stream",
     "text": [
      "Epoch 58/400\n"
     ]
    },
    {
     "name": "stdout",
     "output_type": "stream",
     "text": [
      "\r",
      "1/9 [==>...........................] - ETA: 0s - loss: 0.6637 - accuracy: 0.6333"
     ]
    },
    {
     "name": "stdout",
     "output_type": "stream",
     "text": [
      "\b\b\b\b\b\b\b\b\b\b\b\b\b\b\b\b\b\b\b\b\b\b\b\b\b\b\b\b\b\b\b\b\b\b\b\b\b\b\b\b\b\b\b\b\b\b\b\b\b\b\b\b\b\b\b\b\b\b\b\b\b\b\b\b\b\b\b\b\b\b\b\b\b\b\b\b\b\b\b\b\r",
      "9/9 [==============================] - 0s 10ms/step - loss: 0.6553 - accuracy: 0.6275 - val_loss: 0.6361 - val_accuracy: 0.6889\n"
     ]
    },
    {
     "name": "stdout",
     "output_type": "stream",
     "text": [
      "Epoch 59/400\n"
     ]
    },
    {
     "name": "stdout",
     "output_type": "stream",
     "text": [
      "\r",
      "1/9 [==>...........................] - ETA: 0s - loss: 0.6462 - accuracy: 0.7000"
     ]
    },
    {
     "name": "stdout",
     "output_type": "stream",
     "text": [
      "\b\b\b\b\b\b\b\b\b\b\b\b\b\b\b\b\b\b\b\b\b\b\b\b\b\b\b\b\b\b\b\b\b\b\b\b\b\b\b\b\b\b\b\b\b\b\b\b\b\b\b\b\b\b\b\b\b\b\b\b\b\b\b\b\b\b\b\b\b\b\b\b\b\b\b\b\b\b\b\b\r",
      "9/9 [==============================] - 0s 9ms/step - loss: 0.6551 - accuracy: 0.6275 - val_loss: 0.6355 - val_accuracy: 0.6889\n"
     ]
    },
    {
     "name": "stdout",
     "output_type": "stream",
     "text": [
      "Epoch 60/400\n"
     ]
    },
    {
     "name": "stdout",
     "output_type": "stream",
     "text": [
      "\r",
      "1/9 [==>...........................] - ETA: 0s - loss: 0.6495 - accuracy: 0.6333"
     ]
    },
    {
     "name": "stdout",
     "output_type": "stream",
     "text": [
      "\b\b\b\b\b\b\b\b\b\b\b\b\b\b\b\b\b\b\b\b\b\b\b\b\b\b\b\b\b\b\b\b\b\b\b\b\b\b\b\b\b\b\b\b\b\b\b\b\b\b\b\b\b\b\b\b\b\b\b\b\b\b\b\b\b\b\b\b\b\b\b\b\b\b\b\b\b\b\b\b\r",
      "9/9 [==============================] - 0s 11ms/step - loss: 0.6551 - accuracy: 0.6275 - val_loss: 0.6352 - val_accuracy: 0.6889\n"
     ]
    },
    {
     "name": "stdout",
     "output_type": "stream",
     "text": [
      "Epoch 61/400\n"
     ]
    },
    {
     "name": "stdout",
     "output_type": "stream",
     "text": [
      "\r",
      "1/9 [==>...........................] - ETA: 0s - loss: 0.7150 - accuracy: 0.5000"
     ]
    },
    {
     "name": "stdout",
     "output_type": "stream",
     "text": [
      "\b\b\b\b\b\b\b\b\b\b\b\b\b\b\b\b\b\b\b\b\b\b\b\b\b\b\b\b\b\b\b\b\b\b\b\b\b\b\b\b\b\b\b\b\b\b\b\b\b\b\b\b\b\b\b\b\b\b\b\b\b\b\b\b\b\b\b\b\b\b\b\b\b\b\b\b\b\b\b\b\r",
      "9/9 [==============================] - 0s 10ms/step - loss: 0.6549 - accuracy: 0.6275 - val_loss: 0.6350 - val_accuracy: 0.6889\n"
     ]
    },
    {
     "name": "stdout",
     "output_type": "stream",
     "text": [
      "Epoch 62/400\n"
     ]
    },
    {
     "name": "stdout",
     "output_type": "stream",
     "text": [
      "\r",
      "1/9 [==>...........................] - ETA: 0s - loss: 0.6108 - accuracy: 0.7333"
     ]
    },
    {
     "name": "stdout",
     "output_type": "stream",
     "text": [
      "\b\b\b\b\b\b\b\b\b\b\b\b\b\b\b\b\b\b\b\b\b\b\b\b\b\b\b\b\b\b\b\b\b\b\b\b\b\b\b\b\b\b\b\b\b\b\b\b\b\b\b\b\b\b\b\b\b\b\b\b\b\b\b\b\b\b\b\b\b\b\b\b\b\b\b\b\b\b\b\b\r",
      "9/9 [==============================] - 0s 9ms/step - loss: 0.6549 - accuracy: 0.6275 - val_loss: 0.6350 - val_accuracy: 0.6889\n"
     ]
    },
    {
     "name": "stdout",
     "output_type": "stream",
     "text": [
      "Epoch 63/400\n"
     ]
    },
    {
     "name": "stdout",
     "output_type": "stream",
     "text": [
      "\r",
      "1/9 [==>...........................] - ETA: 0s - loss: 0.6452 - accuracy: 0.6667"
     ]
    },
    {
     "name": "stdout",
     "output_type": "stream",
     "text": [
      "\b\b\b\b\b\b\b\b\b\b\b\b\b\b\b\b\b\b\b\b\b\b\b\b\b\b\b\b\b\b\b\b\b\b\b\b\b\b\b\b\b\b\b\b\b\b\b\b\b\b\b\b\b\b\b\b\b\b\b\b\b\b\b\b\b\b\b\b\b\b\b\b\b\b\b\b\b\b\b\b\r",
      "9/9 [==============================] - 0s 7ms/step - loss: 0.6550 - accuracy: 0.6275 - val_loss: 0.6347 - val_accuracy: 0.6889\n"
     ]
    },
    {
     "name": "stdout",
     "output_type": "stream",
     "text": [
      "Epoch 64/400\n"
     ]
    },
    {
     "name": "stdout",
     "output_type": "stream",
     "text": [
      "\r",
      "1/9 [==>...........................] - ETA: 0s - loss: 0.6647 - accuracy: 0.6000"
     ]
    },
    {
     "name": "stdout",
     "output_type": "stream",
     "text": [
      "\b\b\b\b\b\b\b\b\b\b\b\b\b\b\b\b\b\b\b\b\b\b\b\b\b\b\b\b\b\b\b\b\b\b\b\b\b\b\b\b\b\b\b\b\b\b\b\b\b\b\b\b\b\b\b\b\b\b\b\b\b\b\b\b\b\b\b\b\b\b\b\b\b\b\b\b\b\b\b\b\r",
      "9/9 [==============================] - 0s 10ms/step - loss: 0.6546 - accuracy: 0.6275 - val_loss: 0.6345 - val_accuracy: 0.6889\n"
     ]
    },
    {
     "name": "stdout",
     "output_type": "stream",
     "text": [
      "Epoch 65/400\n"
     ]
    },
    {
     "name": "stdout",
     "output_type": "stream",
     "text": [
      "\r",
      "1/9 [==>...........................] - ETA: 0s - loss: 0.6670 - accuracy: 0.6333"
     ]
    },
    {
     "name": "stdout",
     "output_type": "stream",
     "text": [
      "\b\b\b\b\b\b\b\b\b\b\b\b\b\b\b\b\b\b\b\b\b\b\b\b\b\b\b\b\b\b\b\b\b\b\b\b\b\b\b\b\b\b\b\b\b\b\b\b\b\b\b\b\b\b\b\b\b\b\b\b\b\b\b\b\b\b\b\b\b\b\b\b\b\b\b\b\b\b\b\b\r",
      "9/9 [==============================] - 0s 8ms/step - loss: 0.6545 - accuracy: 0.6275 - val_loss: 0.6348 - val_accuracy: 0.6889\n"
     ]
    },
    {
     "name": "stdout",
     "output_type": "stream",
     "text": [
      "Epoch 66/400\n"
     ]
    },
    {
     "name": "stdout",
     "output_type": "stream",
     "text": [
      "\r",
      "1/9 [==>...........................] - ETA: 0s - loss: 0.7095 - accuracy: 0.5333"
     ]
    },
    {
     "name": "stdout",
     "output_type": "stream",
     "text": [
      "\b\b\b\b\b\b\b\b\b\b\b\b\b\b\b\b\b\b\b\b\b\b\b\b\b\b\b\b\b\b\b\b\b\b\b\b\b\b\b\b\b\b\b\b\b\b\b\b\b\b\b\b\b\b\b\b\b\b\b\b\b\b\b\b\b\b\b\b\b\b\b\b\b\b\b\b\b\b\b\b\r",
      "9/9 [==============================] - 0s 7ms/step - loss: 0.6545 - accuracy: 0.6275 - val_loss: 0.6345 - val_accuracy: 0.6889\n"
     ]
    },
    {
     "name": "stdout",
     "output_type": "stream",
     "text": [
      "Epoch 67/400\n"
     ]
    },
    {
     "name": "stdout",
     "output_type": "stream",
     "text": [
      "\r",
      "1/9 [==>...........................] - ETA: 0s - loss: 0.6454 - accuracy: 0.6667"
     ]
    },
    {
     "name": "stdout",
     "output_type": "stream",
     "text": [
      "\b\b\b\b\b\b\b\b\b\b\b\b\b\b\b\b\b\b\b\b\b\b\b\b\b\b\b\b\b\b\b\b\b\b\b\b\b\b\b\b\b\b\b\b\b\b\b\b\b\b\b\b\b\b\b\b\b\b\b\b\b\b\b\b\b\b\b\b\b\b\b\b\b\b\b\b\b\b\b\b\r",
      "9/9 [==============================] - 0s 10ms/step - loss: 0.6544 - accuracy: 0.6275 - val_loss: 0.6343 - val_accuracy: 0.6889\n"
     ]
    },
    {
     "name": "stdout",
     "output_type": "stream",
     "text": [
      "Epoch 68/400\n"
     ]
    },
    {
     "name": "stdout",
     "output_type": "stream",
     "text": [
      "\r",
      "1/9 [==>...........................] - ETA: 0s - loss: 0.6496 - accuracy: 0.6333"
     ]
    },
    {
     "name": "stdout",
     "output_type": "stream",
     "text": [
      "\b\b\b\b\b\b\b\b\b\b\b\b\b\b\b\b\b\b\b\b\b\b\b\b\b\b\b\b\b\b\b\b\b\b\b\b\b\b\b\b\b\b\b\b\b\b\b\b\b\b\b\b\b\b\b\b\b\b\b\b\b\b\b\b\b\b\b\b\b\b\b\b\b\b\b\b\b\b\b\b\r",
      "9/9 [==============================] - 0s 9ms/step - loss: 0.6542 - accuracy: 0.6275 - val_loss: 0.6340 - val_accuracy: 0.6889\n"
     ]
    },
    {
     "name": "stdout",
     "output_type": "stream",
     "text": [
      "Epoch 69/400\n"
     ]
    },
    {
     "name": "stdout",
     "output_type": "stream",
     "text": [
      "\r",
      "1/9 [==>...........................] - ETA: 0s - loss: 0.6175 - accuracy: 0.7333"
     ]
    },
    {
     "name": "stdout",
     "output_type": "stream",
     "text": [
      "\b\b\b\b\b\b\b\b\b\b\b\b\b\b\b\b\b\b\b\b\b\b\b\b\b\b\b\b\b\b\b\b\b\b\b\b\b\b\b\b\b\b\b\b\b\b\b\b\b\b\b\b\b\b\b\b\b\b\b\b\b\b\b\b\b\b\b\b\b\b\b\b\b\b\b\b\b\b\b\b\r",
      "9/9 [==============================] - 0s 9ms/step - loss: 0.6542 - accuracy: 0.6275 - val_loss: 0.6341 - val_accuracy: 0.6889\n"
     ]
    },
    {
     "name": "stdout",
     "output_type": "stream",
     "text": [
      "Epoch 70/400\n"
     ]
    },
    {
     "name": "stdout",
     "output_type": "stream",
     "text": [
      "\r",
      "1/9 [==>...........................] - ETA: 0s - loss: 0.6830 - accuracy: 0.5667"
     ]
    },
    {
     "name": "stdout",
     "output_type": "stream",
     "text": [
      "\b\b\b\b\b\b\b\b\b\b\b\b\b\b\b\b\b\b\b\b\b\b\b\b\b\b\b\b\b\b\b\b\b\b\b\b\b\b\b\b\b\b\b\b\b\b\b\b\b\b\b\b\b\b\b\b\b\b\b\b\b\b\b\b\b\b\b\b\b\b\b\b\b\b\b\b\b\b\b\b\r",
      "9/9 [==============================] - 0s 11ms/step - loss: 0.6541 - accuracy: 0.6275 - val_loss: 0.6339 - val_accuracy: 0.6889\n"
     ]
    },
    {
     "name": "stdout",
     "output_type": "stream",
     "text": [
      "Epoch 71/400\n"
     ]
    },
    {
     "name": "stdout",
     "output_type": "stream",
     "text": [
      "\r",
      "1/9 [==>...........................] - ETA: 0s - loss: 0.6594 - accuracy: 0.6333"
     ]
    },
    {
     "name": "stdout",
     "output_type": "stream",
     "text": [
      "\b\b\b\b\b\b\b\b\b\b\b\b\b\b\b\b\b\b\b\b\b\b\b\b\b\b\b\b\b\b\b\b\b\b\b\b\b\b\b\b\b\b\b\b\b\b\b\b\b\b\b\b\b\b\b\b\b\b\b\b\b\b\b\b\b\b\b\b\b\b\b\b\b\b\b\b\b\b\b\b\r",
      "9/9 [==============================] - 0s 10ms/step - loss: 0.6542 - accuracy: 0.6275 - val_loss: 0.6339 - val_accuracy: 0.6889\n"
     ]
    },
    {
     "name": "stdout",
     "output_type": "stream",
     "text": [
      "Epoch 72/400\n"
     ]
    },
    {
     "name": "stdout",
     "output_type": "stream",
     "text": [
      "\r",
      "1/9 [==>...........................] - ETA: 0s - loss: 0.6990 - accuracy: 0.5333"
     ]
    },
    {
     "name": "stdout",
     "output_type": "stream",
     "text": [
      "\b\b\b\b\b\b\b\b\b\b\b\b\b\b\b\b\b\b\b\b\b\b\b\b\b\b\b\b\b\b\b\b\b\b\b\b\b\b\b\b\b\b\b\b\b\b\b\b\b\b\b\b\b\b\b\b\b\b\b\b\b\b\b\b\b\b\b\b\b\b\b\b\b\b\b\b\b\b\b\b\r",
      "9/9 [==============================] - 0s 7ms/step - loss: 0.6540 - accuracy: 0.6275 - val_loss: 0.6335 - val_accuracy: 0.6889\n"
     ]
    },
    {
     "name": "stdout",
     "output_type": "stream",
     "text": [
      "Epoch 73/400\n"
     ]
    },
    {
     "name": "stdout",
     "output_type": "stream",
     "text": [
      "\r",
      "1/9 [==>...........................] - ETA: 0s - loss: 0.6170 - accuracy: 0.7333"
     ]
    },
    {
     "name": "stdout",
     "output_type": "stream",
     "text": [
      "\b\b\b\b\b\b\b\b\b\b\b\b\b\b\b\b\b\b\b\b\b\b\b\b\b\b\b\b\b\b\b\b\b\b\b\b\b\b\b\b\b\b\b\b\b\b\b\b\b\b\b\b\b\b\b\b\b\b\b\b\b\b\b\b\b\b\b\b\b\b\b\b\b\b\b\b\b\b\b\b\r",
      "9/9 [==============================] - 0s 10ms/step - loss: 0.6539 - accuracy: 0.6275 - val_loss: 0.6334 - val_accuracy: 0.6889\n"
     ]
    },
    {
     "name": "stdout",
     "output_type": "stream",
     "text": [
      "Epoch 74/400\n"
     ]
    },
    {
     "name": "stdout",
     "output_type": "stream",
     "text": [
      "\r",
      "1/9 [==>...........................] - ETA: 0s - loss: 0.6944 - accuracy: 0.5000"
     ]
    },
    {
     "name": "stdout",
     "output_type": "stream",
     "text": [
      "\b\b\b\b\b\b\b\b\b\b\b\b\b\b\b\b\b\b\b\b\b\b\b\b\b\b\b\b\b\b\b\b\b\b\b\b\b\b\b\b\b\b\b\b\b\b\b\b\b\b\b\b\b\b\b\b\b\b\b\b\b\b\b\b\b\b\b\b\b\b\b\b\b\b\b\b\b\b\b\b\r",
      "9/9 [==============================] - 0s 11ms/step - loss: 0.6539 - accuracy: 0.6275 - val_loss: 0.6331 - val_accuracy: 0.6889\n"
     ]
    },
    {
     "name": "stdout",
     "output_type": "stream",
     "text": [
      "Epoch 75/400\n"
     ]
    },
    {
     "name": "stdout",
     "output_type": "stream",
     "text": [
      "\r",
      "1/9 [==>...........................] - ETA: 0s - loss: 0.6405 - accuracy: 0.6333"
     ]
    },
    {
     "name": "stdout",
     "output_type": "stream",
     "text": [
      "\b\b\b\b\b\b\b\b\b\b\b\b\b\b\b\b\b\b\b\b\b\b\b\b\b\b\b\b\b\b\b\b\b\b\b\b\b\b\b\b\b\b\b\b\b\b\b\b\b\b\b\b\b\b\b\b\b\b\b\b\b\b\b\b\b\b\b\b\b\b\b\b\b\b\b\b\b\b\b\b\r",
      "9/9 [==============================] - 0s 9ms/step - loss: 0.6538 - accuracy: 0.6275 - val_loss: 0.6330 - val_accuracy: 0.6889\n"
     ]
    },
    {
     "name": "stdout",
     "output_type": "stream",
     "text": [
      "Epoch 76/400\n"
     ]
    },
    {
     "name": "stdout",
     "output_type": "stream",
     "text": [
      "\r",
      "1/9 [==>...........................] - ETA: 0s - loss: 0.6431 - accuracy: 0.6333"
     ]
    },
    {
     "name": "stdout",
     "output_type": "stream",
     "text": [
      "\b\b\b\b\b\b\b\b\b\b\b\b\b\b\b\b\b\b\b\b\b\b\b\b\b\b\b\b\b\b\b\b\b\b\b\b\b\b\b\b\b\b\b\b\b\b\b\b\b\b\b\b\b\b\b\b\b\b\b\b\b\b\b\b\b\b\b\b\b\b\b\b\b\b\b\b\b\b\b\b\r",
      "9/9 [==============================] - 0s 7ms/step - loss: 0.6537 - accuracy: 0.6275 - val_loss: 0.6328 - val_accuracy: 0.6889\n"
     ]
    },
    {
     "name": "stdout",
     "output_type": "stream",
     "text": [
      "Epoch 77/400\n"
     ]
    },
    {
     "name": "stdout",
     "output_type": "stream",
     "text": [
      "\r",
      "1/9 [==>...........................] - ETA: 0s - loss: 0.6754 - accuracy: 0.5667"
     ]
    },
    {
     "name": "stdout",
     "output_type": "stream",
     "text": [
      "\b\b\b\b\b\b\b\b\b\b\b\b\b\b\b\b\b\b\b\b\b\b\b\b\b\b\b\b\b\b\b\b\b\b\b\b\b\b\b\b\b\b\b\b\b\b\b\b\b\b\b\b\b\b\b\b\b\b\b\b\b\b\b\b\b\b\b\b\b\b\b\b\b\b\b\b\b\b\b\b\r",
      "9/9 [==============================] - 0s 7ms/step - loss: 0.6536 - accuracy: 0.6275 - val_loss: 0.6326 - val_accuracy: 0.6889\n"
     ]
    },
    {
     "name": "stdout",
     "output_type": "stream",
     "text": [
      "Epoch 78/400\n"
     ]
    },
    {
     "name": "stdout",
     "output_type": "stream",
     "text": [
      "\r",
      "1/9 [==>...........................] - ETA: 0s - loss: 0.6848 - accuracy: 0.5667"
     ]
    },
    {
     "name": "stdout",
     "output_type": "stream",
     "text": [
      "\b\b\b\b\b\b\b\b\b\b\b\b\b\b\b\b\b\b\b\b\b\b\b\b\b\b\b\b\b\b\b\b\b\b\b\b\b\b\b\b\b\b\b\b\b\b\b\b\b\b\b\b\b\b\b\b\b\b\b\b\b\b\b\b\b\b\b\b\b\b\b\b\b\b\b\b\b\b\b\b\r",
      "9/9 [==============================] - 0s 6ms/step - loss: 0.6536 - accuracy: 0.6275 - val_loss: 0.6324 - val_accuracy: 0.6889\n"
     ]
    },
    {
     "name": "stdout",
     "output_type": "stream",
     "text": [
      "Epoch 79/400\n"
     ]
    },
    {
     "name": "stdout",
     "output_type": "stream",
     "text": [
      "\r",
      "1/9 [==>...........................] - ETA: 0s - loss: 0.6097 - accuracy: 0.7333"
     ]
    },
    {
     "name": "stdout",
     "output_type": "stream",
     "text": [
      "\b\b\b\b\b\b\b\b\b\b\b\b\b\b\b\b\b\b\b\b\b\b\b\b\b\b\b\b\b\b\b\b\b\b\b\b\b\b\b\b\b\b\b\b\b\b\b\b\b\b\b\b\b\b\b\b\b\b\b\b\b\b\b\b\b\b\b\b\b\b\b\b\b\b\b\b\b\b\b\b\r",
      "9/9 [==============================] - 0s 4ms/step - loss: 0.6534 - accuracy: 0.6275 - val_loss: 0.6326 - val_accuracy: 0.6889\n"
     ]
    },
    {
     "name": "stdout",
     "output_type": "stream",
     "text": [
      "Epoch 80/400\n"
     ]
    },
    {
     "name": "stdout",
     "output_type": "stream",
     "text": [
      "\r",
      "1/9 [==>...........................] - ETA: 0s - loss: 0.6483 - accuracy: 0.6000"
     ]
    },
    {
     "name": "stdout",
     "output_type": "stream",
     "text": [
      "\b\b\b\b\b\b\b\b\b\b\b\b\b\b\b\b\b\b\b\b\b\b\b\b\b\b\b\b\b\b\b\b\b\b\b\b\b\b\b\b\b\b\b\b\b\b\b\b\b\b\b\b\b\b\b\b\b\b\b\b\b\b\b\b\b\b\b\b\b\b\b\b\b\b\b\b\b\b\b\b\r",
      "9/9 [==============================] - 0s 5ms/step - loss: 0.6534 - accuracy: 0.6275 - val_loss: 0.6325 - val_accuracy: 0.6889\n"
     ]
    },
    {
     "name": "stdout",
     "output_type": "stream",
     "text": [
      "Epoch 81/400\n"
     ]
    },
    {
     "name": "stdout",
     "output_type": "stream",
     "text": [
      "\r",
      "1/9 [==>...........................] - ETA: 0s - loss: 0.6447 - accuracy: 0.6333"
     ]
    },
    {
     "name": "stdout",
     "output_type": "stream",
     "text": [
      "\b\b\b\b\b\b\b\b\b\b\b\b\b\b\b\b\b\b\b\b\b\b\b\b\b\b\b\b\b\b\b\b\b\b\b\b\b\b\b\b\b\b\b\b\b\b\b\b\b\b\b\b\b\b\b\b\b\b\b\b\b\b\b\b\b\b\b\b\b\b\b\b\b\b\b\b\b\b\b\b\r",
      "9/9 [==============================] - 0s 5ms/step - loss: 0.6533 - accuracy: 0.6275 - val_loss: 0.6327 - val_accuracy: 0.6889\n"
     ]
    },
    {
     "name": "stdout",
     "output_type": "stream",
     "text": [
      "Epoch 82/400\n"
     ]
    },
    {
     "name": "stdout",
     "output_type": "stream",
     "text": [
      "\r",
      "1/9 [==>...........................] - ETA: 0s - loss: 0.6586 - accuracy: 0.6000"
     ]
    },
    {
     "name": "stdout",
     "output_type": "stream",
     "text": [
      "\b\b\b\b\b\b\b\b\b\b\b\b\b\b\b\b\b\b\b\b\b\b\b\b\b\b\b\b\b\b\b\b\b\b\b\b\b\b\b\b\b\b\b\b\b\b\b\b\b\b\b\b\b\b\b\b\b\b\b\b\b\b\b\b\b\b\b\b\b\b\b\b\b\b\b\b\b\b\b\b\r",
      "9/9 [==============================] - 0s 7ms/step - loss: 0.6532 - accuracy: 0.6275 - val_loss: 0.6322 - val_accuracy: 0.6889\n"
     ]
    },
    {
     "name": "stdout",
     "output_type": "stream",
     "text": [
      "Epoch 83/400\n"
     ]
    },
    {
     "name": "stdout",
     "output_type": "stream",
     "text": [
      "\r",
      "1/9 [==>...........................] - ETA: 0s - loss: 0.6835 - accuracy: 0.5667"
     ]
    },
    {
     "name": "stdout",
     "output_type": "stream",
     "text": [
      "\b\b\b\b\b\b\b\b\b\b\b\b\b\b\b\b\b\b\b\b\b\b\b\b\b\b\b\b\b\b\b\b\b\b\b\b\b\b\b\b\b\b\b\b\b\b\b\b\b\b\b\b\b\b\b\b\b\b\b\b\b\b\b\b\b\b\b\b\b\b\b\b\b\b\b\b\b\b\b\b\r",
      "9/9 [==============================] - 0s 9ms/step - loss: 0.6533 - accuracy: 0.6275 - val_loss: 0.6321 - val_accuracy: 0.6889\n"
     ]
    },
    {
     "name": "stdout",
     "output_type": "stream",
     "text": [
      "Epoch 84/400\n"
     ]
    },
    {
     "name": "stdout",
     "output_type": "stream",
     "text": [
      "\r",
      "1/9 [==>...........................] - ETA: 0s - loss: 0.6386 - accuracy: 0.6667"
     ]
    },
    {
     "name": "stdout",
     "output_type": "stream",
     "text": [
      "\b\b\b\b\b\b\b\b\b\b\b\b\b\b\b\b\b\b\b\b\b\b\b\b\b\b\b\b\b\b\b\b\b\b\b\b\b\b\b\b\b\b\b\b\b\b\b\b\b\b\b\b\b\b\b\b\b\b\b\b\b\b\b\b\b\b\b\b\b\b\b\b\b\b\b\b\b\b\b\b\r",
      "9/9 [==============================] - 0s 12ms/step - loss: 0.6531 - accuracy: 0.6275 - val_loss: 0.6320 - val_accuracy: 0.6889\n"
     ]
    },
    {
     "name": "stdout",
     "output_type": "stream",
     "text": [
      "Epoch 85/400\n"
     ]
    },
    {
     "name": "stdout",
     "output_type": "stream",
     "text": [
      "\r",
      "1/9 [==>...........................] - ETA: 0s - loss: 0.6100 - accuracy: 0.7000"
     ]
    },
    {
     "name": "stdout",
     "output_type": "stream",
     "text": [
      "\b\b\b\b\b\b\b\b\b\b\b\b\b\b\b\b\b\b\b\b\b\b\b\b\b\b\b\b\b\b\b\b\b\b\b\b\b\b\b\b\b\b\b\b\b\b\b\b\b\b\b\b\b\b\b\b\b\b\b\b\b\b\b\b\b\b\b\b\b\b\b\b\b\b\b\b\b\b\b\b\r",
      "9/9 [==============================] - 0s 8ms/step - loss: 0.6532 - accuracy: 0.6275 - val_loss: 0.6318 - val_accuracy: 0.6889\n"
     ]
    },
    {
     "name": "stdout",
     "output_type": "stream",
     "text": [
      "Epoch 86/400\n"
     ]
    },
    {
     "name": "stdout",
     "output_type": "stream",
     "text": [
      "\r",
      "1/9 [==>...........................] - ETA: 0s - loss: 0.6559 - accuracy: 0.6000"
     ]
    },
    {
     "name": "stdout",
     "output_type": "stream",
     "text": [
      "\b\b\b\b\b\b\b\b\b\b\b\b\b\b\b\b\b\b\b\b\b\b\b\b\b\b\b\b\b\b\b\b\b\b\b\b\b\b\b\b\b\b\b\b\b\b\b\b\b\b\b\b\b\b\b\b\b\b\b\b\b\b\b\b\b\b\b\b\b\b\b\b\b\b\b\b\b\b\b\b\r",
      "9/9 [==============================] - 0s 6ms/step - loss: 0.6532 - accuracy: 0.6275 - val_loss: 0.6317 - val_accuracy: 0.6889\n"
     ]
    },
    {
     "name": "stdout",
     "output_type": "stream",
     "text": [
      "Epoch 87/400\n"
     ]
    },
    {
     "name": "stdout",
     "output_type": "stream",
     "text": [
      "\r",
      "1/9 [==>...........................] - ETA: 0s - loss: 0.6188 - accuracy: 0.7333"
     ]
    },
    {
     "name": "stdout",
     "output_type": "stream",
     "text": [
      "\b\b\b\b\b\b\b\b\b\b\b\b\b\b\b\b\b\b\b\b\b\b\b\b\b\b\b\b\b\b\b\b\b\b\b\b\b\b\b\b\b\b\b\b\b\b\b\b\b\b\b\b\b\b\b\b\b\b\b\b\b\b\b\b\b\b\b\b\b\b\b\b\b\b\b\b\b\b\b\b\r",
      "9/9 [==============================] - 0s 6ms/step - loss: 0.6530 - accuracy: 0.6275 - val_loss: 0.6314 - val_accuracy: 0.6889\n"
     ]
    },
    {
     "name": "stdout",
     "output_type": "stream",
     "text": [
      "Epoch 88/400\n"
     ]
    },
    {
     "name": "stdout",
     "output_type": "stream",
     "text": [
      "\r",
      "1/9 [==>...........................] - ETA: 0s - loss: 0.6425 - accuracy: 0.7000"
     ]
    },
    {
     "name": "stdout",
     "output_type": "stream",
     "text": [
      "\b\b\b\b\b\b\b\b\b\b\b\b\b\b\b\b\b\b\b\b\b\b\b\b\b\b\b\b\b\b\b\b\b\b\b\b\b\b\b\b\b\b\b\b\b\b\b\b\b\b\b\b\b\b\b\b\b\b\b\b\b\b\b\b\b\b\b\b\b\b\b\b\b\b\b\b\b\b\b\b\r",
      "9/9 [==============================] - 0s 4ms/step - loss: 0.6529 - accuracy: 0.6275 - val_loss: 0.6310 - val_accuracy: 0.6889\n"
     ]
    },
    {
     "name": "stdout",
     "output_type": "stream",
     "text": [
      "Epoch 89/400\n"
     ]
    },
    {
     "name": "stdout",
     "output_type": "stream",
     "text": [
      "\r",
      "1/9 [==>...........................] - ETA: 0s - loss: 0.6403 - accuracy: 0.6667"
     ]
    },
    {
     "name": "stdout",
     "output_type": "stream",
     "text": [
      "\b\b\b\b\b\b\b\b\b\b\b\b\b\b\b\b\b\b\b\b\b\b\b\b\b\b\b\b\b\b\b\b\b\b\b\b\b\b\b\b\b\b\b\b\b\b\b\b\b\b\b\b\b\b\b\b\b\b\b\b\b\b\b\b\b\b\b\b\b\b\b\b\b\b\b\b\b\b\b\b\r",
      "9/9 [==============================] - 0s 4ms/step - loss: 0.6528 - accuracy: 0.6275 - val_loss: 0.6306 - val_accuracy: 0.6889\n"
     ]
    },
    {
     "name": "stdout",
     "output_type": "stream",
     "text": [
      "Epoch 90/400\n"
     ]
    },
    {
     "name": "stdout",
     "output_type": "stream",
     "text": [
      "\r",
      "1/9 [==>...........................] - ETA: 0s - loss: 0.7020 - accuracy: 0.5333"
     ]
    },
    {
     "name": "stdout",
     "output_type": "stream",
     "text": [
      "\b\b\b\b\b\b\b\b\b\b\b\b\b\b\b\b\b\b\b\b\b\b\b\b\b\b\b\b\b\b\b\b\b\b\b\b\b\b\b\b\b\b\b\b\b\b\b\b\b\b\b\b\b\b\b\b\b\b\b\b\b\b\b\b\b\b\b\b\b\b\b\b\b\b\b\b\b\b\b\b\r",
      "9/9 [==============================] - 0s 6ms/step - loss: 0.6528 - accuracy: 0.6275 - val_loss: 0.6305 - val_accuracy: 0.6889\n"
     ]
    },
    {
     "name": "stdout",
     "output_type": "stream",
     "text": [
      "Epoch 91/400\n"
     ]
    },
    {
     "name": "stdout",
     "output_type": "stream",
     "text": [
      "\r",
      "1/9 [==>...........................] - ETA: 0s - loss: 0.6672 - accuracy: 0.6000"
     ]
    },
    {
     "name": "stdout",
     "output_type": "stream",
     "text": [
      "\b\b\b\b\b\b\b\b\b\b\b\b\b\b\b\b\b\b\b\b\b\b\b\b\b\b\b\b\b\b\b\b\b\b\b\b\b\b\b\b\b\b\b\b\b\b\b\b\b\b\b\b\b\b\b\b\b\b\b\b\b\b\b\b\b\b\b\b\b\b\b\b\b\b\b\b\b\b\b\b\r",
      "9/9 [==============================] - 0s 8ms/step - loss: 0.6527 - accuracy: 0.6275 - val_loss: 0.6305 - val_accuracy: 0.6889\n"
     ]
    },
    {
     "name": "stdout",
     "output_type": "stream",
     "text": [
      "Epoch 92/400\n"
     ]
    },
    {
     "name": "stdout",
     "output_type": "stream",
     "text": [
      "\r",
      "1/9 [==>...........................] - ETA: 0s - loss: 0.6047 - accuracy: 0.7333"
     ]
    },
    {
     "name": "stdout",
     "output_type": "stream",
     "text": [
      "\b\b\b\b\b\b\b\b\b\b\b\b\b\b\b\b\b\b\b\b\b\b\b\b\b\b\b\b\b\b\b\b\b\b\b\b\b\b\b\b\b\b\b\b\b\b\b\b\b\b\b\b\b\b\b\b\b\b\b\b\b\b\b\b\b\b\b\b\b\b\b\b\b\b\b\b\b\b\b\b\r",
      "9/9 [==============================] - 0s 10ms/step - loss: 0.6527 - accuracy: 0.6275 - val_loss: 0.6305 - val_accuracy: 0.6889\n"
     ]
    },
    {
     "name": "stdout",
     "output_type": "stream",
     "text": [
      "Epoch 93/400\n"
     ]
    },
    {
     "name": "stdout",
     "output_type": "stream",
     "text": [
      "\r",
      "1/9 [==>...........................] - ETA: 0s - loss: 0.6882 - accuracy: 0.5333"
     ]
    },
    {
     "name": "stdout",
     "output_type": "stream",
     "text": [
      "\b\b\b\b\b\b\b\b\b\b\b\b\b\b\b\b\b\b\b\b\b\b\b\b\b\b\b\b\b\b\b\b\b\b\b\b\b\b\b\b\b\b\b\b\b\b\b\b\b\b\b\b\b\b\b\b\b\b\b\b\b\b\b\b\b\b\b\b\b\b\b\b\b\b\b\b\b\b\b\b\r",
      "9/9 [==============================] - 0s 9ms/step - loss: 0.6528 - accuracy: 0.6275 - val_loss: 0.6304 - val_accuracy: 0.6889\n"
     ]
    },
    {
     "name": "stdout",
     "output_type": "stream",
     "text": [
      "Epoch 94/400\n"
     ]
    },
    {
     "name": "stdout",
     "output_type": "stream",
     "text": [
      "\r",
      "1/9 [==>...........................] - ETA: 0s - loss: 0.6410 - accuracy: 0.6667"
     ]
    },
    {
     "name": "stdout",
     "output_type": "stream",
     "text": [
      "\b\b\b\b\b\b\b\b\b\b\b\b\b\b\b\b\b\b\b\b\b\b\b\b\b\b\b\b\b\b\b\b\b\b\b\b\b\b\b\b\b\b\b\b\b\b\b\b\b\b\b\b\b\b\b\b\b\b\b\b\b\b\b\b\b\b\b\b\b\b\b\b\b\b\b\b\b\b\b\b\r",
      "9/9 [==============================] - 0s 5ms/step - loss: 0.6527 - accuracy: 0.6275 - val_loss: 0.6304 - val_accuracy: 0.6889\n"
     ]
    },
    {
     "name": "stdout",
     "output_type": "stream",
     "text": [
      "Epoch 95/400\n"
     ]
    },
    {
     "name": "stdout",
     "output_type": "stream",
     "text": [
      "\r",
      "1/9 [==>...........................] - ETA: 0s - loss: 0.6624 - accuracy: 0.6000"
     ]
    },
    {
     "name": "stdout",
     "output_type": "stream",
     "text": [
      "\b\b\b\b\b\b\b\b\b\b\b\b\b\b\b\b\b\b\b\b\b\b\b\b\b\b\b\b\b\b\b\b\b\b\b\b\b\b\b\b\b\b\b\b\b\b\b\b\b\b\b\b\b\b\b\b\b\b\b\b\b\b\b\b\b\b\b\b\b\b\b\b\b\b\b\b\b\b\b\b\r",
      "9/9 [==============================] - 0s 5ms/step - loss: 0.6526 - accuracy: 0.6275 - val_loss: 0.6304 - val_accuracy: 0.6889\n"
     ]
    },
    {
     "name": "stdout",
     "output_type": "stream",
     "text": [
      "Epoch 96/400\n"
     ]
    },
    {
     "name": "stdout",
     "output_type": "stream",
     "text": [
      "\r",
      "1/9 [==>...........................] - ETA: 0s - loss: 0.6673 - accuracy: 0.5667"
     ]
    },
    {
     "name": "stdout",
     "output_type": "stream",
     "text": [
      "\b\b\b\b\b\b\b\b\b\b\b\b\b\b\b\b\b\b\b\b\b\b\b\b\b\b\b\b\b\b\b\b\b\b\b\b\b\b\b\b\b\b\b\b\b\b\b\b\b\b\b\b\b\b\b\b\b\b\b\b\b\b\b\b\b\b\b\b\b\b\b\b\b\b\b\b\b\b\b\b\r",
      "9/9 [==============================] - 0s 5ms/step - loss: 0.6525 - accuracy: 0.6275 - val_loss: 0.6304 - val_accuracy: 0.6889\n"
     ]
    },
    {
     "name": "stdout",
     "output_type": "stream",
     "text": [
      "Epoch 97/400\n"
     ]
    },
    {
     "name": "stdout",
     "output_type": "stream",
     "text": [
      "\r",
      "1/9 [==>...........................] - ETA: 0s - loss: 0.6625 - accuracy: 0.6333"
     ]
    },
    {
     "name": "stdout",
     "output_type": "stream",
     "text": [
      "\b\b\b\b\b\b\b\b\b\b\b\b\b\b\b\b\b\b\b\b\b\b\b\b\b\b\b\b\b\b\b\b\b\b\b\b\b\b\b\b\b\b\b\b\b\b\b\b\b\b\b\b\b\b\b\b\b\b\b\b\b\b\b\b\b\b\b\b\b\b\b\b\b\b\b\b\b\b\b\b\r",
      "9/9 [==============================] - 0s 7ms/step - loss: 0.6526 - accuracy: 0.6275 - val_loss: 0.6305 - val_accuracy: 0.6889\n"
     ]
    },
    {
     "name": "stdout",
     "output_type": "stream",
     "text": [
      "Epoch 98/400\n"
     ]
    },
    {
     "name": "stdout",
     "output_type": "stream",
     "text": [
      "\r",
      "1/9 [==>...........................] - ETA: 0s - loss: 0.7334 - accuracy: 0.4667"
     ]
    },
    {
     "name": "stdout",
     "output_type": "stream",
     "text": [
      "\b\b\b\b\b\b\b\b\b\b\b\b\b\b\b\b\b\b\b\b\b\b\b\b\b\b\b\b\b\b\b\b\b\b\b\b\b\b\b\b\b\b\b\b\b\b\b\b\b\b\b\b\b\b\b\b\b\b\b\b\b\b\b\b\b\b\b\b\b\b\b\b\b\b\b\b\b\b\b\b\r",
      "9/9 [==============================] - 0s 9ms/step - loss: 0.6526 - accuracy: 0.6275 - val_loss: 0.6303 - val_accuracy: 0.6889\n"
     ]
    },
    {
     "name": "stdout",
     "output_type": "stream",
     "text": [
      "Epoch 99/400\n"
     ]
    },
    {
     "name": "stdout",
     "output_type": "stream",
     "text": [
      "\r",
      "1/9 [==>...........................] - ETA: 0s - loss: 0.6882 - accuracy: 0.5667"
     ]
    },
    {
     "name": "stdout",
     "output_type": "stream",
     "text": [
      "\b\b\b\b\b\b\b\b\b\b\b\b\b\b\b\b\b\b\b\b\b\b\b\b\b\b\b\b\b\b\b\b\b\b\b\b\b\b\b\b\b\b\b\b\b\b\b\b\b\b\b\b\b\b\b\b\b\b\b\b\b\b\b\b\b\b\b\b\b\b\b\b\b\b\b\b\b\b\b\b\r",
      "9/9 [==============================] - 0s 7ms/step - loss: 0.6525 - accuracy: 0.6275 - val_loss: 0.6298 - val_accuracy: 0.6889\n"
     ]
    },
    {
     "name": "stdout",
     "output_type": "stream",
     "text": [
      "Epoch 100/400\n"
     ]
    },
    {
     "name": "stdout",
     "output_type": "stream",
     "text": [
      "\r",
      "1/9 [==>...........................] - ETA: 0s - loss: 0.6557 - accuracy: 0.6333"
     ]
    },
    {
     "name": "stdout",
     "output_type": "stream",
     "text": [
      "\b\b\b\b\b\b\b\b\b\b\b\b\b\b\b\b\b\b\b\b\b\b\b\b\b\b\b\b\b\b\b\b\b\b\b\b\b\b\b\b\b\b\b\b\b\b\b\b\b\b\b\b\b\b\b\b\b\b\b\b\b\b\b\b\b\b\b\b\b\b\b\b\b\b\b\b\b\b\b\b\r",
      "9/9 [==============================] - 0s 8ms/step - loss: 0.6523 - accuracy: 0.6275 - val_loss: 0.6297 - val_accuracy: 0.6889\n"
     ]
    },
    {
     "name": "stdout",
     "output_type": "stream",
     "text": [
      "Epoch 101/400\n"
     ]
    },
    {
     "name": "stdout",
     "output_type": "stream",
     "text": [
      "\r",
      "1/9 [==>...........................] - ETA: 0s - loss: 0.6308 - accuracy: 0.6667"
     ]
    },
    {
     "name": "stdout",
     "output_type": "stream",
     "text": [
      "\b\b\b\b\b\b\b\b\b\b\b\b\b\b\b\b\b\b\b\b\b\b\b\b\b\b\b\b\b\b\b\b\b\b\b\b\b\b\b\b\b\b\b\b\b\b\b\b\b\b\b\b\b\b\b\b\b\b\b\b\b\b\b\b\b\b\b\b\b\b\b\b\b\b\b\b\b\b\b\b\r",
      "9/9 [==============================] - 0s 8ms/step - loss: 0.6522 - accuracy: 0.6275 - val_loss: 0.6295 - val_accuracy: 0.6889\n"
     ]
    },
    {
     "name": "stdout",
     "output_type": "stream",
     "text": [
      "Epoch 102/400\n"
     ]
    },
    {
     "name": "stdout",
     "output_type": "stream",
     "text": [
      "\r",
      "1/9 [==>...........................] - ETA: 0s - loss: 0.6592 - accuracy: 0.6333"
     ]
    },
    {
     "name": "stdout",
     "output_type": "stream",
     "text": [
      "\b\b\b\b\b\b\b\b\b\b\b\b\b\b\b\b\b\b\b\b\b\b\b\b\b\b\b\b\b\b\b\b\b\b\b\b\b\b\b\b\b\b\b\b\b\b\b\b\b\b\b\b\b\b\b\b\b\b\b\b\b\b\b\b\b\b\b\b\b\b\b\b\b\b\b\b\b\b\b\b\r",
      "9/9 [==============================] - 0s 4ms/step - loss: 0.6523 - accuracy: 0.6275 - val_loss: 0.6295 - val_accuracy: 0.6889\n"
     ]
    },
    {
     "name": "stdout",
     "output_type": "stream",
     "text": [
      "Epoch 103/400\n"
     ]
    },
    {
     "name": "stdout",
     "output_type": "stream",
     "text": [
      "\r",
      "1/9 [==>...........................] - ETA: 0s - loss: 0.6084 - accuracy: 0.7000"
     ]
    },
    {
     "name": "stdout",
     "output_type": "stream",
     "text": [
      "\b\b\b\b\b\b\b\b\b\b\b\b\b\b\b\b\b\b\b\b\b\b\b\b\b\b\b\b\b\b\b\b\b\b\b\b\b\b\b\b\b\b\b\b\b\b\b\b\b\b\b\b\b\b\b\b\b\b\b\b\b\b\b\b\b\b\b\b\b\b\b\b\b\b\b\b\b\b\b\b\r",
      "9/9 [==============================] - 0s 4ms/step - loss: 0.6522 - accuracy: 0.6275 - val_loss: 0.6296 - val_accuracy: 0.6889\n"
     ]
    },
    {
     "name": "stdout",
     "output_type": "stream",
     "text": [
      "Epoch 104/400\n"
     ]
    },
    {
     "name": "stdout",
     "output_type": "stream",
     "text": [
      "\r",
      "1/9 [==>...........................] - ETA: 0s - loss: 0.6282 - accuracy: 0.7000"
     ]
    },
    {
     "name": "stdout",
     "output_type": "stream",
     "text": [
      "\b\b\b\b\b\b\b\b\b\b\b\b\b\b\b\b\b\b\b\b\b\b\b\b\b\b\b\b\b\b\b\b\b\b\b\b\b\b\b\b\b\b\b\b\b\b\b\b\b\b\b\b\b\b\b\b\b\b\b\b\b\b\b\b\b\b\b\b\b\b\b\b\b\b\b\b\b\b\b\b\r",
      "9/9 [==============================] - 0s 4ms/step - loss: 0.6522 - accuracy: 0.6275 - val_loss: 0.6293 - val_accuracy: 0.6889\n"
     ]
    },
    {
     "name": "stdout",
     "output_type": "stream",
     "text": [
      "Epoch 105/400\n"
     ]
    },
    {
     "name": "stdout",
     "output_type": "stream",
     "text": [
      "\r",
      "1/9 [==>...........................] - ETA: 0s - loss: 0.6871 - accuracy: 0.5667"
     ]
    },
    {
     "name": "stdout",
     "output_type": "stream",
     "text": [
      "\b\b\b\b\b\b\b\b\b\b\b\b\b\b\b\b\b\b\b\b\b\b\b\b\b\b\b\b\b\b\b\b\b\b\b\b\b\b\b\b\b\b\b\b\b\b\b\b\b\b\b\b\b\b\b\b\b\b\b\b\b\b\b\b\b\b\b\b\b\b\b\b\b\b\b\b\b\b\b\b\r",
      "9/9 [==============================] - 0s 5ms/step - loss: 0.6522 - accuracy: 0.6275 - val_loss: 0.6294 - val_accuracy: 0.6889\n"
     ]
    },
    {
     "name": "stdout",
     "output_type": "stream",
     "text": [
      "Epoch 106/400\n"
     ]
    },
    {
     "name": "stdout",
     "output_type": "stream",
     "text": [
      "\r",
      "1/9 [==>...........................] - ETA: 0s - loss: 0.6514 - accuracy: 0.6333"
     ]
    },
    {
     "name": "stdout",
     "output_type": "stream",
     "text": [
      "\b\b\b\b\b\b\b\b\b\b\b\b\b\b\b\b\b\b\b\b\b\b\b\b\b\b\b\b\b\b\b\b\b\b\b\b\b\b\b\b\b\b\b\b\b\b\b\b\b\b\b\b\b\b\b\b\b\b\b\b\b\b\b\b\b\b\b\b\b\b\b\b\b\b\b\b\b\b\b\b\r",
      "9/9 [==============================] - 0s 5ms/step - loss: 0.6521 - accuracy: 0.6275 - val_loss: 0.6294 - val_accuracy: 0.6889\n"
     ]
    },
    {
     "name": "stdout",
     "output_type": "stream",
     "text": [
      "Epoch 107/400\n"
     ]
    },
    {
     "name": "stdout",
     "output_type": "stream",
     "text": [
      "\r",
      "1/9 [==>...........................] - ETA: 0s - loss: 0.6807 - accuracy: 0.5667"
     ]
    },
    {
     "name": "stdout",
     "output_type": "stream",
     "text": [
      "\b\b\b\b\b\b\b\b\b\b\b\b\b\b\b\b\b\b\b\b\b\b\b\b\b\b\b\b\b\b\b\b\b\b\b\b\b\b\b\b\b\b\b\b\b\b\b\b\b\b\b\b\b\b\b\b\b\b\b\b\b\b\b\b\b\b\b\b\b\b\b\b\b\b\b\b\b\b\b\b\r",
      "9/9 [==============================] - 0s 5ms/step - loss: 0.6521 - accuracy: 0.6275 - val_loss: 0.6292 - val_accuracy: 0.6889\n"
     ]
    },
    {
     "name": "stdout",
     "output_type": "stream",
     "text": [
      "Epoch 108/400\n"
     ]
    },
    {
     "name": "stdout",
     "output_type": "stream",
     "text": [
      "\r",
      "1/9 [==>...........................] - ETA: 0s - loss: 0.6294 - accuracy: 0.7000"
     ]
    },
    {
     "name": "stdout",
     "output_type": "stream",
     "text": [
      "\b\b\b\b\b\b\b\b\b\b\b\b\b\b\b\b\b\b\b\b\b\b\b\b\b\b\b\b\b\b\b\b\b\b\b\b\b\b\b\b\b\b\b\b\b\b\b\b\b\b\b\b\b\b\b\b\b\b\b\b\b\b\b\b\b\b\b\b\b\b\b\b\b\b\b\b\b\b\b\b\r",
      "9/9 [==============================] - 0s 5ms/step - loss: 0.6519 - accuracy: 0.6275 - val_loss: 0.6293 - val_accuracy: 0.6889\n"
     ]
    },
    {
     "name": "stdout",
     "output_type": "stream",
     "text": [
      "Epoch 109/400\n"
     ]
    },
    {
     "name": "stdout",
     "output_type": "stream",
     "text": [
      "\r",
      "1/9 [==>...........................] - ETA: 0s - loss: 0.6896 - accuracy: 0.5333"
     ]
    },
    {
     "name": "stdout",
     "output_type": "stream",
     "text": [
      "\b\b\b\b\b\b\b\b\b\b\b\b\b\b\b\b\b\b\b\b\b\b\b\b\b\b\b\b\b\b\b\b\b\b\b\b\b\b\b\b\b\b\b\b\b\b\b\b\b\b\b\b\b\b\b\b\b\b\b\b\b\b\b\b\b\b\b\b\b\b\b\b\b\b\b\b\b\b\b\b\r",
      "9/9 [==============================] - 0s 7ms/step - loss: 0.6520 - accuracy: 0.6275 - val_loss: 0.6291 - val_accuracy: 0.6889\n"
     ]
    },
    {
     "name": "stdout",
     "output_type": "stream",
     "text": [
      "Epoch 110/400\n"
     ]
    },
    {
     "name": "stdout",
     "output_type": "stream",
     "text": [
      "\r",
      "1/9 [==>...........................] - ETA: 0s - loss: 0.6029 - accuracy: 0.7333"
     ]
    },
    {
     "name": "stdout",
     "output_type": "stream",
     "text": [
      "\b\b\b\b\b\b\b\b\b\b\b\b\b\b\b\b\b\b\b\b\b\b\b\b\b\b\b\b\b\b\b\b\b\b\b\b\b\b\b\b\b\b\b\b\b\b\b\b\b\b\b\b\b\b\b\b\b\b\b\b\b\b\b\b\b\b\b\b\b\b\b\b\b\b\b\b\b\b\b\b\r",
      "9/9 [==============================] - 0s 5ms/step - loss: 0.6519 - accuracy: 0.6275 - val_loss: 0.6292 - val_accuracy: 0.6889\n"
     ]
    },
    {
     "name": "stdout",
     "output_type": "stream",
     "text": [
      "Epoch 111/400\n"
     ]
    },
    {
     "name": "stdout",
     "output_type": "stream",
     "text": [
      "\r",
      "1/9 [==>...........................] - ETA: 0s - loss: 0.6138 - accuracy: 0.7000"
     ]
    },
    {
     "name": "stdout",
     "output_type": "stream",
     "text": [
      "\b\b\b\b\b\b\b\b\b\b\b\b\b\b\b\b\b\b\b\b\b\b\b\b\b\b\b\b\b\b\b\b\b\b\b\b\b\b\b\b\b\b\b\b\b\b\b\b\b\b\b\b\b\b\b\b\b\b\b\b\b\b\b\b\b\b\b\b\b\b\b\b\b\b\b\b\b\b\b\b\r",
      "9/9 [==============================] - 0s 5ms/step - loss: 0.6520 - accuracy: 0.6275 - val_loss: 0.6289 - val_accuracy: 0.6889\n"
     ]
    },
    {
     "name": "stdout",
     "output_type": "stream",
     "text": [
      "Epoch 112/400\n"
     ]
    },
    {
     "name": "stdout",
     "output_type": "stream",
     "text": [
      "\r",
      "1/9 [==>...........................] - ETA: 0s - loss: 0.6372 - accuracy: 0.6333"
     ]
    },
    {
     "name": "stdout",
     "output_type": "stream",
     "text": [
      "\b\b\b\b\b\b\b\b\b\b\b\b\b\b\b\b\b\b\b\b\b\b\b\b\b\b\b\b\b\b\b\b\b\b\b\b\b\b\b\b\b\b\b\b\b\b\b\b\b\b\b\b\b\b\b\b\b\b\b\b\b\b\b\b\b\b\b\b\b\b\b\b\b\b\b\b\b\b\b\b\r",
      "9/9 [==============================] - 0s 5ms/step - loss: 0.6519 - accuracy: 0.6275 - val_loss: 0.6288 - val_accuracy: 0.6889\n"
     ]
    },
    {
     "name": "stdout",
     "output_type": "stream",
     "text": [
      "Epoch 113/400\n"
     ]
    },
    {
     "name": "stdout",
     "output_type": "stream",
     "text": [
      "\r",
      "1/9 [==>...........................] - ETA: 0s - loss: 0.6661 - accuracy: 0.6000"
     ]
    },
    {
     "name": "stdout",
     "output_type": "stream",
     "text": [
      "\b\b\b\b\b\b\b\b\b\b\b\b\b\b\b\b\b\b\b\b\b\b\b\b\b\b\b\b\b\b\b\b\b\b\b\b\b\b\b\b\b\b\b\b\b\b\b\b\b\b\b\b\b\b\b\b\b\b\b\b\b\b\b\b\b\b\b\b\b\b\b\b\b\b\b\b\b\b\b\b\r",
      "9/9 [==============================] - 0s 5ms/step - loss: 0.6519 - accuracy: 0.6275 - val_loss: 0.6285 - val_accuracy: 0.6889\n"
     ]
    },
    {
     "name": "stdout",
     "output_type": "stream",
     "text": [
      "Epoch 114/400\n"
     ]
    },
    {
     "name": "stdout",
     "output_type": "stream",
     "text": [
      "\r",
      "1/9 [==>...........................] - ETA: 0s - loss: 0.6900 - accuracy: 0.5333"
     ]
    },
    {
     "name": "stdout",
     "output_type": "stream",
     "text": [
      "\b\b\b\b\b\b\b\b\b\b\b\b\b\b\b\b\b\b\b\b\b\b\b\b\b\b\b\b\b\b\b\b\b\b\b\b\b\b\b\b\b\b\b\b\b\b\b\b\b\b\b\b\b\b\b\b\b\b\b\b\b\b\b\b\b\b\b\b\b\b\b\b\b\b\b\b\b\b\b\b\r",
      "9/9 [==============================] - 0s 6ms/step - loss: 0.6519 - accuracy: 0.6275 - val_loss: 0.6283 - val_accuracy: 0.6889\n"
     ]
    },
    {
     "name": "stdout",
     "output_type": "stream",
     "text": [
      "Epoch 115/400\n"
     ]
    },
    {
     "name": "stdout",
     "output_type": "stream",
     "text": [
      "\r",
      "1/9 [==>...........................] - ETA: 0s - loss: 0.6058 - accuracy: 0.7333"
     ]
    },
    {
     "name": "stdout",
     "output_type": "stream",
     "text": [
      "\b\b\b\b\b\b\b\b\b\b\b\b\b\b\b\b\b\b\b\b\b\b\b\b\b\b\b\b\b\b\b\b\b\b\b\b\b\b\b\b\b\b\b\b\b\b\b\b\b\b\b\b\b\b\b\b\b\b\b\b\b\b\b\b\b\b\b\b\b\b\b\b\b\b\b\b\b\b\b\b\r",
      "9/9 [==============================] - 0s 6ms/step - loss: 0.6518 - accuracy: 0.6275 - val_loss: 0.6283 - val_accuracy: 0.6889\n"
     ]
    },
    {
     "name": "stdout",
     "output_type": "stream",
     "text": [
      "Epoch 116/400\n"
     ]
    },
    {
     "name": "stdout",
     "output_type": "stream",
     "text": [
      "\r",
      "1/9 [==>...........................] - ETA: 0s - loss: 0.6587 - accuracy: 0.6000"
     ]
    },
    {
     "name": "stdout",
     "output_type": "stream",
     "text": [
      "\b\b\b\b\b\b\b\b\b\b\b\b\b\b\b\b\b\b\b\b\b\b\b\b\b\b\b\b\b\b\b\b\b\b\b\b\b\b\b\b\b\b\b\b\b\b\b\b\b\b\b\b\b\b\b\b\b\b\b\b\b\b\b\b\b\b\b\b\b\b\b\b\b\b\b\b\b\b\b\b\r",
      "9/9 [==============================] - 0s 5ms/step - loss: 0.6518 - accuracy: 0.6275 - val_loss: 0.6280 - val_accuracy: 0.6889\n"
     ]
    },
    {
     "name": "stdout",
     "output_type": "stream",
     "text": [
      "Epoch 117/400\n"
     ]
    },
    {
     "name": "stdout",
     "output_type": "stream",
     "text": [
      "\r",
      "1/9 [==>...........................] - ETA: 0s - loss: 0.6498 - accuracy: 0.6667"
     ]
    },
    {
     "name": "stdout",
     "output_type": "stream",
     "text": [
      "\b\b\b\b\b\b\b\b\b\b\b\b\b\b\b\b\b\b\b\b\b\b\b\b\b\b\b\b\b\b\b\b\b\b\b\b\b\b\b\b\b\b\b\b\b\b\b\b\b\b\b\b\b\b\b\b\b\b\b\b\b\b\b\b\b\b\b\b\b\b\b\b\b\b\b\b\b\b\b\b\r",
      "9/9 [==============================] - 0s 5ms/step - loss: 0.6518 - accuracy: 0.6275 - val_loss: 0.6282 - val_accuracy: 0.6889\n"
     ]
    },
    {
     "name": "stdout",
     "output_type": "stream",
     "text": [
      "Epoch 118/400\n"
     ]
    },
    {
     "name": "stdout",
     "output_type": "stream",
     "text": [
      "\r",
      "1/9 [==>...........................] - ETA: 0s - loss: 0.6339 - accuracy: 0.6667"
     ]
    },
    {
     "name": "stdout",
     "output_type": "stream",
     "text": [
      "\b\b\b\b\b\b\b\b\b\b\b\b\b\b\b\b\b\b\b\b\b\b\b\b\b\b\b\b\b\b\b\b\b\b\b\b\b\b\b\b\b\b\b\b\b\b\b\b\b\b\b\b\b\b\b\b\b\b\b\b\b\b\b\b\b\b\b\b\b\b\b\b\b\b\b\b\b\b\b\b\r",
      "9/9 [==============================] - 0s 8ms/step - loss: 0.6517 - accuracy: 0.6275 - val_loss: 0.6282 - val_accuracy: 0.6889\n"
     ]
    },
    {
     "name": "stdout",
     "output_type": "stream",
     "text": [
      "Epoch 119/400\n"
     ]
    },
    {
     "name": "stdout",
     "output_type": "stream",
     "text": [
      "\r",
      "1/9 [==>...........................] - ETA: 0s - loss: 0.6656 - accuracy: 0.6000"
     ]
    },
    {
     "name": "stdout",
     "output_type": "stream",
     "text": [
      "\b\b\b\b\b\b\b\b\b\b\b\b\b\b\b\b\b\b\b\b\b\b\b\b\b\b\b\b\b\b\b\b\b\b\b\b\b\b\b\b\b\b\b\b\b\b\b\b\b\b\b\b\b\b\b\b\b\b\b\b\b\b\b\b\b\b\b\b\b\b\b\b\b\b\b\b\b\b\b\b\r",
      "9/9 [==============================] - 0s 8ms/step - loss: 0.6517 - accuracy: 0.6275 - val_loss: 0.6282 - val_accuracy: 0.6889\n"
     ]
    },
    {
     "name": "stdout",
     "output_type": "stream",
     "text": [
      "Epoch 120/400\n"
     ]
    },
    {
     "name": "stdout",
     "output_type": "stream",
     "text": [
      "\r",
      "1/9 [==>...........................] - ETA: 0s - loss: 0.6253 - accuracy: 0.7000"
     ]
    },
    {
     "name": "stdout",
     "output_type": "stream",
     "text": [
      "\b\b\b\b\b\b\b\b\b\b\b\b\b\b\b\b\b\b\b\b\b\b\b\b\b\b\b\b\b\b\b\b\b\b\b\b\b\b\b\b\b\b\b\b\b\b\b\b\b\b\b\b\b\b\b\b\b\b\b\b\b\b\b\b\b\b\b\b\b\b\b\b\b\b\b\b\b\b\b\b\r",
      "9/9 [==============================] - 0s 10ms/step - loss: 0.6516 - accuracy: 0.6275 - val_loss: 0.6284 - val_accuracy: 0.6889\n"
     ]
    },
    {
     "name": "stdout",
     "output_type": "stream",
     "text": [
      "Epoch 121/400\n"
     ]
    },
    {
     "name": "stdout",
     "output_type": "stream",
     "text": [
      "\r",
      "1/9 [==>...........................] - ETA: 0s - loss: 0.6217 - accuracy: 0.7333"
     ]
    },
    {
     "name": "stdout",
     "output_type": "stream",
     "text": [
      "\b\b\b\b\b\b\b\b\b\b\b\b\b\b\b\b\b\b\b\b\b\b\b\b\b\b\b\b\b\b\b\b\b\b\b\b\b\b\b\b\b\b\b\b\b\b\b\b\b\b\b\b\b\b\b\b\b\b\b\b\b\b\b\b\b\b\b\b\b\b\b\b\b\b\b\b\b\b\b\b\r",
      "9/9 [==============================] - 0s 6ms/step - loss: 0.6515 - accuracy: 0.6275 - val_loss: 0.6283 - val_accuracy: 0.6889\n"
     ]
    },
    {
     "name": "stdout",
     "output_type": "stream",
     "text": [
      "Epoch 122/400\n"
     ]
    },
    {
     "name": "stdout",
     "output_type": "stream",
     "text": [
      "\r",
      "1/9 [==>...........................] - ETA: 0s - loss: 0.5869 - accuracy: 0.7667"
     ]
    },
    {
     "name": "stdout",
     "output_type": "stream",
     "text": [
      "\b\b\b\b\b\b\b\b\b\b\b\b\b\b\b\b\b\b\b\b\b\b\b\b\b\b\b\b\b\b\b\b\b\b\b\b\b\b\b\b\b\b\b\b\b\b\b\b\b\b\b\b\b\b\b\b\b\b\b\b\b\b\b\b\b\b\b\b\b\b\b\b\b\b\b\b\b\b\b\b\r",
      "9/9 [==============================] - 0s 5ms/step - loss: 0.6516 - accuracy: 0.6275 - val_loss: 0.6281 - val_accuracy: 0.6889\n"
     ]
    },
    {
     "name": "stdout",
     "output_type": "stream",
     "text": [
      "Epoch 123/400\n"
     ]
    },
    {
     "name": "stdout",
     "output_type": "stream",
     "text": [
      "\r",
      "1/9 [==>...........................] - ETA: 0s - loss: 0.6472 - accuracy: 0.6333"
     ]
    },
    {
     "name": "stdout",
     "output_type": "stream",
     "text": [
      "\b\b\b\b\b\b\b\b\b\b\b\b\b\b\b\b\b\b\b\b\b\b\b\b\b\b\b\b\b\b\b\b\b\b\b\b\b\b\b\b\b\b\b\b\b\b\b\b\b\b\b\b\b\b\b\b\b\b\b\b\b\b\b\b\b\b\b\b\b\b\b\b\b\b\b\b\b\b\b\b\r",
      "9/9 [==============================] - 0s 4ms/step - loss: 0.6515 - accuracy: 0.6275 - val_loss: 0.6283 - val_accuracy: 0.6889\n"
     ]
    },
    {
     "name": "stdout",
     "output_type": "stream",
     "text": [
      "Epoch 124/400\n"
     ]
    },
    {
     "name": "stdout",
     "output_type": "stream",
     "text": [
      "\r",
      "1/9 [==>...........................] - ETA: 0s - loss: 0.6164 - accuracy: 0.7000"
     ]
    },
    {
     "name": "stdout",
     "output_type": "stream",
     "text": [
      "\b\b\b\b\b\b\b\b\b\b\b\b\b\b\b\b\b\b\b\b\b\b\b\b\b\b\b\b\b\b\b\b\b\b\b\b\b\b\b\b\b\b\b\b\b\b\b\b\b\b\b\b\b\b\b\b\b\b\b\b\b\b\b\b\b\b\b\b\b\b\b\b\b\b\b\b\b\b\b\b\r",
      "9/9 [==============================] - 0s 4ms/step - loss: 0.6515 - accuracy: 0.6275 - val_loss: 0.6283 - val_accuracy: 0.6889\n"
     ]
    },
    {
     "name": "stdout",
     "output_type": "stream",
     "text": [
      "Epoch 125/400\n"
     ]
    },
    {
     "name": "stdout",
     "output_type": "stream",
     "text": [
      "\r",
      "1/9 [==>...........................] - ETA: 0s - loss: 0.6422 - accuracy: 0.6333"
     ]
    },
    {
     "name": "stdout",
     "output_type": "stream",
     "text": [
      "\b\b\b\b\b\b\b\b\b\b\b\b\b\b\b\b\b\b\b\b\b\b\b\b\b\b\b\b\b\b\b\b\b\b\b\b\b\b\b\b\b\b\b\b\b\b\b\b\b\b\b\b\b\b\b\b\b\b\b\b\b\b\b\b\b\b\b\b\b\b\b\b\b\b\b\b\b\b\b\b\r",
      "9/9 [==============================] - 0s 4ms/step - loss: 0.6515 - accuracy: 0.6275 - val_loss: 0.6284 - val_accuracy: 0.6889\n"
     ]
    },
    {
     "name": "stdout",
     "output_type": "stream",
     "text": [
      "Epoch 126/400\n"
     ]
    },
    {
     "name": "stdout",
     "output_type": "stream",
     "text": [
      "\r",
      "1/9 [==>...........................] - ETA: 0s - loss: 0.6708 - accuracy: 0.5667"
     ]
    },
    {
     "name": "stdout",
     "output_type": "stream",
     "text": [
      "\b\b\b\b\b\b\b\b\b\b\b\b\b\b\b\b\b\b\b\b\b\b\b\b\b\b\b\b\b\b\b\b\b\b\b\b\b\b\b\b\b\b\b\b\b\b\b\b\b\b\b\b\b\b\b\b\b\b\b\b\b\b\b\b\b\b\b\b\b\b\b\b\b\b\b\b\b\b\b\b\r",
      "9/9 [==============================] - 0s 5ms/step - loss: 0.6515 - accuracy: 0.6275 - val_loss: 0.6283 - val_accuracy: 0.6889\n"
     ]
    },
    {
     "name": "stdout",
     "output_type": "stream",
     "text": [
      "Epoch 127/400\n"
     ]
    },
    {
     "name": "stdout",
     "output_type": "stream",
     "text": [
      "\r",
      "1/9 [==>...........................] - ETA: 0s - loss: 0.6271 - accuracy: 0.7000"
     ]
    },
    {
     "name": "stdout",
     "output_type": "stream",
     "text": [
      "\b\b\b\b\b\b\b\b\b\b\b\b\b\b\b\b\b\b\b\b\b\b\b\b\b\b\b\b\b\b\b\b\b\b\b\b\b\b\b\b\b\b\b\b\b\b\b\b\b\b\b\b\b\b\b\b\b\b\b\b\b\b\b\b\b\b\b\b\b\b\b\b\b\b\b\b\b\b\b\b\r",
      "9/9 [==============================] - 0s 4ms/step - loss: 0.6514 - accuracy: 0.6275 - val_loss: 0.6280 - val_accuracy: 0.6889\n"
     ]
    },
    {
     "name": "stdout",
     "output_type": "stream",
     "text": [
      "Epoch 128/400\n"
     ]
    },
    {
     "name": "stdout",
     "output_type": "stream",
     "text": [
      "\r",
      "1/9 [==>...........................] - ETA: 0s - loss: 0.6412 - accuracy: 0.6667"
     ]
    },
    {
     "name": "stdout",
     "output_type": "stream",
     "text": [
      "\b\b\b\b\b\b\b\b\b\b\b\b\b\b\b\b\b\b\b\b\b\b\b\b\b\b\b\b\b\b\b\b\b\b\b\b\b\b\b\b\b\b\b\b\b\b\b\b\b\b\b\b\b\b\b\b\b\b\b\b\b\b\b\b\b\b\b\b\b\b\b\b\b\b\b\b\b\b\b\b\r",
      "9/9 [==============================] - 0s 5ms/step - loss: 0.6514 - accuracy: 0.6275 - val_loss: 0.6280 - val_accuracy: 0.6889\n"
     ]
    },
    {
     "name": "stdout",
     "output_type": "stream",
     "text": [
      "Epoch 129/400\n"
     ]
    },
    {
     "name": "stdout",
     "output_type": "stream",
     "text": [
      "\r",
      "1/9 [==>...........................] - ETA: 0s - loss: 0.6808 - accuracy: 0.6000"
     ]
    },
    {
     "name": "stdout",
     "output_type": "stream",
     "text": [
      "\b\b\b\b\b\b\b\b\b\b\b\b\b\b\b\b\b\b\b\b\b\b\b\b\b\b\b\b\b\b\b\b\b\b\b\b\b\b\b\b\b\b\b\b\b\b\b\b\b\b\b\b\b\b\b\b\b\b\b\b\b\b\b\b\b\b\b\b\b\b\b\b\b\b\b\b\b\b\b\b\r",
      "9/9 [==============================] - 0s 5ms/step - loss: 0.6518 - accuracy: 0.6275 - val_loss: 0.6278 - val_accuracy: 0.6889\n"
     ]
    },
    {
     "name": "stdout",
     "output_type": "stream",
     "text": [
      "Epoch 130/400\n"
     ]
    },
    {
     "name": "stdout",
     "output_type": "stream",
     "text": [
      "\r",
      "1/9 [==>...........................] - ETA: 0s - loss: 0.6505 - accuracy: 0.6333"
     ]
    },
    {
     "name": "stdout",
     "output_type": "stream",
     "text": [
      "\b\b\b\b\b\b\b\b\b\b\b\b\b\b\b\b\b\b\b\b\b\b\b\b\b\b\b\b\b\b\b\b\b\b\b\b\b\b\b\b\b\b\b\b\b\b\b\b\b\b\b\b\b\b\b\b\b\b\b\b\b\b\b\b\b\b\b\b\b\b\b\b\b\b\b\b\b\b\b\b\r",
      "9/9 [==============================] - 0s 5ms/step - loss: 0.6514 - accuracy: 0.6275 - val_loss: 0.6278 - val_accuracy: 0.6889\n"
     ]
    },
    {
     "name": "stdout",
     "output_type": "stream",
     "text": [
      "Epoch 131/400\n"
     ]
    },
    {
     "name": "stdout",
     "output_type": "stream",
     "text": [
      "\r",
      "1/9 [==>...........................] - ETA: 0s - loss: 0.5903 - accuracy: 0.7667"
     ]
    },
    {
     "name": "stdout",
     "output_type": "stream",
     "text": [
      "\b\b\b\b\b\b\b\b\b\b\b\b\b\b\b\b\b\b\b\b\b\b\b\b\b\b\b\b\b\b\b\b\b\b\b\b\b\b\b\b\b\b\b\b\b\b\b\b\b\b\b\b\b\b\b\b\b\b\b\b\b\b\b\b\b\b\b\b\b\b\b\b\b\b\b\b\b\b\b\b\r",
      "9/9 [==============================] - 0s 5ms/step - loss: 0.6513 - accuracy: 0.6275 - val_loss: 0.6278 - val_accuracy: 0.6889\n"
     ]
    },
    {
     "name": "stdout",
     "output_type": "stream",
     "text": [
      "Epoch 132/400\n"
     ]
    },
    {
     "name": "stdout",
     "output_type": "stream",
     "text": [
      "\r",
      "1/9 [==>...........................] - ETA: 0s - loss: 0.6860 - accuracy: 0.5667"
     ]
    },
    {
     "name": "stdout",
     "output_type": "stream",
     "text": [
      "\b\b\b\b\b\b\b\b\b\b\b\b\b\b\b\b\b\b\b\b\b\b\b\b\b\b\b\b\b\b\b\b\b\b\b\b\b\b\b\b\b\b\b\b\b\b\b\b\b\b\b\b\b\b\b\b\b\b\b\b\b\b\b\b\b\b\b\b\b\b\b\b\b\b\b\b\b\b\b\b\r",
      "9/9 [==============================] - 0s 5ms/step - loss: 0.6514 - accuracy: 0.6275 - val_loss: 0.6280 - val_accuracy: 0.6889\n"
     ]
    },
    {
     "name": "stdout",
     "output_type": "stream",
     "text": [
      "Epoch 133/400\n"
     ]
    },
    {
     "name": "stdout",
     "output_type": "stream",
     "text": [
      "\r",
      "1/9 [==>...........................] - ETA: 0s - loss: 0.6780 - accuracy: 0.5667"
     ]
    },
    {
     "name": "stdout",
     "output_type": "stream",
     "text": [
      "\b\b\b\b\b\b\b\b\b\b\b\b\b\b\b\b\b\b\b\b\b\b\b\b\b\b\b\b\b\b\b\b\b\b\b\b\b\b\b\b\b\b\b\b\b\b\b\b\b\b\b\b\b\b\b\b\b\b\b\b\b\b\b\b\b\b\b\b\b\b\b\b\b\b\b\b\b\b\b\b\r",
      "9/9 [==============================] - 0s 4ms/step - loss: 0.6513 - accuracy: 0.6275 - val_loss: 0.6278 - val_accuracy: 0.6889\n"
     ]
    },
    {
     "name": "stdout",
     "output_type": "stream",
     "text": [
      "Epoch 134/400\n"
     ]
    },
    {
     "name": "stdout",
     "output_type": "stream",
     "text": [
      "\r",
      "1/9 [==>...........................] - ETA: 0s - loss: 0.5915 - accuracy: 0.7333"
     ]
    },
    {
     "name": "stdout",
     "output_type": "stream",
     "text": [
      "\b\b\b\b\b\b\b\b\b\b\b\b\b\b\b\b\b\b\b\b\b\b\b\b\b\b\b\b\b\b\b\b\b\b\b\b\b\b\b\b\b\b\b\b\b\b\b\b\b\b\b\b\b\b\b\b\b\b\b\b\b\b\b\b\b\b\b\b\b\b\b\b\b\b\b\b\b\b\b\b\r",
      "9/9 [==============================] - 0s 5ms/step - loss: 0.6514 - accuracy: 0.6275 - val_loss: 0.6278 - val_accuracy: 0.6889\n"
     ]
    },
    {
     "name": "stdout",
     "output_type": "stream",
     "text": [
      "Epoch 135/400\n"
     ]
    },
    {
     "name": "stdout",
     "output_type": "stream",
     "text": [
      "\r",
      "1/9 [==>...........................] - ETA: 0s - loss: 0.7074 - accuracy: 0.5333"
     ]
    },
    {
     "name": "stdout",
     "output_type": "stream",
     "text": [
      "\b\b\b\b\b\b\b\b\b\b\b\b\b\b\b\b\b\b\b\b\b\b\b\b\b\b\b\b\b\b\b\b\b\b\b\b\b\b\b\b\b\b\b\b\b\b\b\b\b\b\b\b\b\b\b\b\b\b\b\b\b\b\b\b\b\b\b\b\b\b\b\b\b\b\b\b\b\b\b\b\r",
      "9/9 [==============================] - 0s 5ms/step - loss: 0.6514 - accuracy: 0.6275 - val_loss: 0.6277 - val_accuracy: 0.6889\n"
     ]
    },
    {
     "name": "stdout",
     "output_type": "stream",
     "text": [
      "Epoch 136/400\n"
     ]
    },
    {
     "name": "stdout",
     "output_type": "stream",
     "text": [
      "\r",
      "1/9 [==>...........................] - ETA: 0s - loss: 0.6807 - accuracy: 0.5667"
     ]
    },
    {
     "name": "stdout",
     "output_type": "stream",
     "text": [
      "\b\b\b\b\b\b\b\b\b\b\b\b\b\b\b\b\b\b\b\b\b\b\b\b\b\b\b\b\b\b\b\b\b\b\b\b\b\b\b\b\b\b\b\b\b\b\b\b\b\b\b\b\b\b\b\b\b\b\b\b\b\b\b\b\b\b\b\b\b\b\b\b\b\b\b\b\b\b\b\b\r",
      "9/9 [==============================] - 0s 5ms/step - loss: 0.6512 - accuracy: 0.6275 - val_loss: 0.6272 - val_accuracy: 0.6889\n"
     ]
    },
    {
     "name": "stdout",
     "output_type": "stream",
     "text": [
      "Epoch 137/400\n"
     ]
    },
    {
     "name": "stdout",
     "output_type": "stream",
     "text": [
      "\r",
      "1/9 [==>...........................] - ETA: 0s - loss: 0.6466 - accuracy: 0.6333"
     ]
    },
    {
     "name": "stdout",
     "output_type": "stream",
     "text": [
      "\b\b\b\b\b\b\b\b\b\b\b\b\b\b\b\b\b\b\b\b\b\b\b\b\b\b\b\b\b\b\b\b\b\b\b\b\b\b\b\b\b\b\b\b\b\b\b\b\b\b\b\b\b\b\b\b\b\b\b\b\b\b\b\b\b\b\b\b\b\b\b\b\b\b\b\b\b\b\b\b\r",
      "9/9 [==============================] - 0s 5ms/step - loss: 0.6514 - accuracy: 0.6275 - val_loss: 0.6271 - val_accuracy: 0.6889\n"
     ]
    },
    {
     "name": "stdout",
     "output_type": "stream",
     "text": [
      "Epoch 138/400\n"
     ]
    },
    {
     "name": "stdout",
     "output_type": "stream",
     "text": [
      "\r",
      "1/9 [==>...........................] - ETA: 0s - loss: 0.6254 - accuracy: 0.6667"
     ]
    },
    {
     "name": "stdout",
     "output_type": "stream",
     "text": [
      "\b\b\b\b\b\b\b\b\b\b\b\b\b\b\b\b\b\b\b\b\b\b\b\b\b\b\b\b\b\b\b\b\b\b\b\b\b\b\b\b\b\b\b\b\b\b\b\b\b\b\b\b\b\b\b\b\b\b\b\b\b\b\b\b\b\b\b\b\b\b\b\b\b\b\b\b\b\b\b\b\r",
      "9/9 [==============================] - 0s 5ms/step - loss: 0.6513 - accuracy: 0.6275 - val_loss: 0.6268 - val_accuracy: 0.6889\n"
     ]
    },
    {
     "name": "stdout",
     "output_type": "stream",
     "text": [
      "Epoch 139/400\n"
     ]
    },
    {
     "name": "stdout",
     "output_type": "stream",
     "text": [
      "\r",
      "1/9 [==>...........................] - ETA: 0s - loss: 0.6003 - accuracy: 0.7667"
     ]
    },
    {
     "name": "stdout",
     "output_type": "stream",
     "text": [
      "\b\b\b\b\b\b\b\b\b\b\b\b\b\b\b\b\b\b\b\b\b\b\b\b\b\b\b\b\b\b\b\b\b\b\b\b\b\b\b\b\b\b\b\b\b\b\b\b\b\b\b\b\b\b\b\b\b\b\b\b\b\b\b\b\b\b\b\b\b\b\b\b\b\b\b\b\b\b\b\b\r",
      "9/9 [==============================] - 0s 5ms/step - loss: 0.6513 - accuracy: 0.6275 - val_loss: 0.6269 - val_accuracy: 0.6889\n"
     ]
    },
    {
     "name": "stdout",
     "output_type": "stream",
     "text": [
      "Epoch 140/400\n"
     ]
    },
    {
     "name": "stdout",
     "output_type": "stream",
     "text": [
      "\r",
      "1/9 [==>...........................] - ETA: 0s - loss: 0.6958 - accuracy: 0.5333"
     ]
    },
    {
     "name": "stdout",
     "output_type": "stream",
     "text": [
      "\b\b\b\b\b\b\b\b\b\b\b\b\b\b\b\b\b\b\b\b\b\b\b\b\b\b\b\b\b\b\b\b\b\b\b\b\b\b\b\b\b\b\b\b\b\b\b\b\b\b\b\b\b\b\b\b\b\b\b\b\b\b\b\b\b\b\b\b\b\b\b\b\b\b\b\b\b\b\b\b\r",
      "9/9 [==============================] - 0s 6ms/step - loss: 0.6512 - accuracy: 0.6275 - val_loss: 0.6273 - val_accuracy: 0.6889\n"
     ]
    },
    {
     "name": "stdout",
     "output_type": "stream",
     "text": [
      "Epoch 141/400\n"
     ]
    },
    {
     "name": "stdout",
     "output_type": "stream",
     "text": [
      "\r",
      "1/9 [==>...........................] - ETA: 0s - loss: 0.6491 - accuracy: 0.6333"
     ]
    },
    {
     "name": "stdout",
     "output_type": "stream",
     "text": [
      "\b\b\b\b\b\b\b\b\b\b\b\b\b\b\b\b\b\b\b\b\b\b\b\b\b\b\b\b\b\b\b\b\b\b\b\b\b\b\b\b\b\b\b\b\b\b\b\b\b\b\b\b\b\b\b\b\b\b\b\b\b\b\b\b\b\b\b\b\b\b\b\b\b\b\b\b\b\b\b\b\r",
      "9/9 [==============================] - 0s 7ms/step - loss: 0.6512 - accuracy: 0.6275 - val_loss: 0.6273 - val_accuracy: 0.6889\n"
     ]
    },
    {
     "name": "stdout",
     "output_type": "stream",
     "text": [
      "Epoch 142/400\n"
     ]
    },
    {
     "name": "stdout",
     "output_type": "stream",
     "text": [
      "\r",
      "1/9 [==>...........................] - ETA: 0s - loss: 0.6726 - accuracy: 0.6000"
     ]
    },
    {
     "name": "stdout",
     "output_type": "stream",
     "text": [
      "\b\b\b\b\b\b\b\b\b\b\b\b\b\b\b\b\b\b\b\b\b\b\b\b\b\b\b\b\b\b\b\b\b\b\b\b\b\b\b\b\b\b\b\b\b\b\b\b\b\b\b\b\b\b\b\b\b\b\b\b\b\b\b\b\b\b\b\b\b\b\b\b\b\b\b\b\b\b\b\b\r",
      "9/9 [==============================] - 0s 9ms/step - loss: 0.6511 - accuracy: 0.6275 - val_loss: 0.6273 - val_accuracy: 0.6889\n"
     ]
    },
    {
     "name": "stdout",
     "output_type": "stream",
     "text": [
      "Epoch 143/400\n"
     ]
    },
    {
     "name": "stdout",
     "output_type": "stream",
     "text": [
      "\r",
      "1/9 [==>...........................] - ETA: 0s - loss: 0.6240 - accuracy: 0.7000"
     ]
    },
    {
     "name": "stdout",
     "output_type": "stream",
     "text": [
      "\b\b\b\b\b\b\b\b\b\b\b\b\b\b\b\b\b\b\b\b\b\b\b\b\b\b\b\b\b\b\b\b\b\b\b\b\b\b\b\b\b\b\b\b\b\b\b\b\b\b\b\b\b\b\b\b\b\b\b\b\b\b\b\b\b\b\b\b\b\b\b\b\b\b\b\b\b\b\b\b\r",
      "9/9 [==============================] - 0s 7ms/step - loss: 0.6511 - accuracy: 0.6275 - val_loss: 0.6275 - val_accuracy: 0.6889\n"
     ]
    },
    {
     "name": "stdout",
     "output_type": "stream",
     "text": [
      "Epoch 144/400\n"
     ]
    },
    {
     "name": "stdout",
     "output_type": "stream",
     "text": [
      "\r",
      "1/9 [==>...........................] - ETA: 0s - loss: 0.6161 - accuracy: 0.7000"
     ]
    },
    {
     "name": "stdout",
     "output_type": "stream",
     "text": [
      "\b\b\b\b\b\b\b\b\b\b\b\b\b\b\b\b\b\b\b\b\b\b\b\b\b\b\b\b\b\b\b\b\b\b\b\b\b\b\b\b\b\b\b\b\b\b\b\b\b\b\b\b\b\b\b\b\b\b\b\b\b\b\b\b\b\b\b\b\b\b\b\b\b\b\b\b\b\b\b\b\r",
      "9/9 [==============================] - 0s 5ms/step - loss: 0.6511 - accuracy: 0.6275 - val_loss: 0.6276 - val_accuracy: 0.6889\n"
     ]
    },
    {
     "name": "stdout",
     "output_type": "stream",
     "text": [
      "Epoch 145/400\n"
     ]
    },
    {
     "name": "stdout",
     "output_type": "stream",
     "text": [
      "\r",
      "1/9 [==>...........................] - ETA: 0s - loss: 0.6601 - accuracy: 0.6000"
     ]
    },
    {
     "name": "stdout",
     "output_type": "stream",
     "text": [
      "\b\b\b\b\b\b\b\b\b\b\b\b\b\b\b\b\b\b\b\b\b\b\b\b\b\b\b\b\b\b\b\b\b\b\b\b\b\b\b\b\b\b\b\b\b\b\b\b\b\b\b\b\b\b\b\b\b\b\b\b\b\b\b\b\b\b\b\b\b\b\b\b\b\b\b\b\b\b\b\b\r",
      "9/9 [==============================] - 0s 5ms/step - loss: 0.6511 - accuracy: 0.6275 - val_loss: 0.6274 - val_accuracy: 0.6889\n"
     ]
    },
    {
     "name": "stdout",
     "output_type": "stream",
     "text": [
      "Epoch 146/400\n"
     ]
    },
    {
     "name": "stdout",
     "output_type": "stream",
     "text": [
      "\r",
      "1/9 [==>...........................] - ETA: 0s - loss: 0.6214 - accuracy: 0.7000"
     ]
    },
    {
     "name": "stdout",
     "output_type": "stream",
     "text": [
      "\b\b\b\b\b\b\b\b\b\b\b\b\b\b\b\b\b\b\b\b\b\b\b\b\b\b\b\b\b\b\b\b\b\b\b\b\b\b\b\b\b\b\b\b\b\b\b\b\b\b\b\b\b\b\b\b\b\b\b\b\b\b\b\b\b\b\b\b\b\b\b\b\b\b\b\b\b\b\b\b\r",
      "9/9 [==============================] - 0s 5ms/step - loss: 0.6511 - accuracy: 0.6275 - val_loss: 0.6274 - val_accuracy: 0.6889\n"
     ]
    },
    {
     "name": "stdout",
     "output_type": "stream",
     "text": [
      "Epoch 147/400\n"
     ]
    },
    {
     "name": "stdout",
     "output_type": "stream",
     "text": [
      "\r",
      "1/9 [==>...........................] - ETA: 0s - loss: 0.6397 - accuracy: 0.6333"
     ]
    },
    {
     "name": "stdout",
     "output_type": "stream",
     "text": [
      "\b\b\b\b\b\b\b\b\b\b\b\b\b\b\b\b\b\b\b\b\b\b\b\b\b\b\b\b\b\b\b\b\b\b\b\b\b\b\b\b\b\b\b\b\b\b\b\b\b\b\b\b\b\b\b\b\b\b\b\b\b\b\b\b\b\b\b\b\b\b\b\b\b\b\b\b\b\b\b\b\r",
      "9/9 [==============================] - 0s 5ms/step - loss: 0.6511 - accuracy: 0.6275 - val_loss: 0.6272 - val_accuracy: 0.6889\n"
     ]
    },
    {
     "name": "stdout",
     "output_type": "stream",
     "text": [
      "Epoch 148/400\n"
     ]
    },
    {
     "name": "stdout",
     "output_type": "stream",
     "text": [
      "\r",
      "1/9 [==>...........................] - ETA: 0s - loss: 0.6089 - accuracy: 0.7333"
     ]
    },
    {
     "name": "stdout",
     "output_type": "stream",
     "text": [
      "\b\b\b\b\b\b\b\b\b\b\b\b\b\b\b\b\b\b\b\b\b\b\b\b\b\b\b\b\b\b\b\b\b\b\b\b\b\b\b\b\b\b\b\b\b\b\b\b\b\b\b\b\b\b\b\b\b\b\b\b\b\b\b\b\b\b\b\b\b\b\b\b\b\b\b\b\b\b\b\b\r",
      "9/9 [==============================] - 0s 4ms/step - loss: 0.6512 - accuracy: 0.6275 - val_loss: 0.6273 - val_accuracy: 0.6889\n"
     ]
    },
    {
     "name": "stdout",
     "output_type": "stream",
     "text": [
      "Epoch 149/400\n"
     ]
    },
    {
     "name": "stdout",
     "output_type": "stream",
     "text": [
      "\r",
      "1/9 [==>...........................] - ETA: 0s - loss: 0.6079 - accuracy: 0.7333"
     ]
    },
    {
     "name": "stdout",
     "output_type": "stream",
     "text": [
      "\b\b\b\b\b\b\b\b\b\b\b\b\b\b\b\b\b\b\b\b\b\b\b\b\b\b\b\b\b\b\b\b\b\b\b\b\b\b\b\b\b\b\b\b\b\b\b\b\b\b\b\b\b\b\b\b\b\b\b\b\b\b\b\b\b\b\b\b\b\b\b\b\b\b\b\b\b\b\b\b\r",
      "9/9 [==============================] - 0s 5ms/step - loss: 0.6511 - accuracy: 0.6275 - val_loss: 0.6271 - val_accuracy: 0.6889\n"
     ]
    },
    {
     "name": "stdout",
     "output_type": "stream",
     "text": [
      "Epoch 150/400\n"
     ]
    },
    {
     "name": "stdout",
     "output_type": "stream",
     "text": [
      "\r",
      "1/9 [==>...........................] - ETA: 0s - loss: 0.6121 - accuracy: 0.7000"
     ]
    },
    {
     "name": "stdout",
     "output_type": "stream",
     "text": [
      "\b\b\b\b\b\b\b\b\b\b\b\b\b\b\b\b\b\b\b\b\b\b\b\b\b\b\b\b\b\b\b\b\b\b\b\b\b\b\b\b\b\b\b\b\b\b\b\b\b\b\b\b\b\b\b\b\b\b\b\b\b\b\b\b\b\b\b\b\b\b\b\b\b\b\b\b\b\b\b\b\r",
      "9/9 [==============================] - 0s 5ms/step - loss: 0.6510 - accuracy: 0.6275 - val_loss: 0.6267 - val_accuracy: 0.6889\n"
     ]
    },
    {
     "name": "stdout",
     "output_type": "stream",
     "text": [
      "Epoch 151/400\n"
     ]
    },
    {
     "name": "stdout",
     "output_type": "stream",
     "text": [
      "\r",
      "1/9 [==>...........................] - ETA: 0s - loss: 0.6459 - accuracy: 0.6667"
     ]
    },
    {
     "name": "stdout",
     "output_type": "stream",
     "text": [
      "\b\b\b\b\b\b\b\b\b\b\b\b\b\b\b\b\b\b\b\b\b\b\b\b\b\b\b\b\b\b\b\b\b\b\b\b\b\b\b\b\b\b\b\b\b\b\b\b\b\b\b\b\b\b\b\b\b\b\b\b\b\b\b\b\b\b\b\b\b\b\b\b\b\b\b\b\b\b\b\b\r",
      "9/9 [==============================] - 0s 4ms/step - loss: 0.6511 - accuracy: 0.6275 - val_loss: 0.6262 - val_accuracy: 0.6889\n"
     ]
    },
    {
     "name": "stdout",
     "output_type": "stream",
     "text": [
      "Epoch 152/400\n"
     ]
    },
    {
     "name": "stdout",
     "output_type": "stream",
     "text": [
      "\r",
      "1/9 [==>...........................] - ETA: 0s - loss: 0.6677 - accuracy: 0.6333"
     ]
    },
    {
     "name": "stdout",
     "output_type": "stream",
     "text": [
      "\b\b\b\b\b\b\b\b\b\b\b\b\b\b\b\b\b\b\b\b\b\b\b\b\b\b\b\b\b\b\b\b\b\b\b\b\b\b\b\b\b\b\b\b\b\b\b\b\b\b\b\b\b\b\b\b\b\b\b\b\b\b\b\b\b\b\b\b\b\b\b\b\b\b\b\b\b\b\b\b\r",
      "9/9 [==============================] - 0s 5ms/step - loss: 0.6510 - accuracy: 0.6275 - val_loss: 0.6260 - val_accuracy: 0.6889\n"
     ]
    },
    {
     "name": "stdout",
     "output_type": "stream",
     "text": [
      "Epoch 153/400\n"
     ]
    },
    {
     "name": "stdout",
     "output_type": "stream",
     "text": [
      "\r",
      "1/9 [==>...........................] - ETA: 0s - loss: 0.6499 - accuracy: 0.6333"
     ]
    },
    {
     "name": "stdout",
     "output_type": "stream",
     "text": [
      "\b\b\b\b\b\b\b\b\b\b\b\b\b\b\b\b\b\b\b\b\b\b\b\b\b\b\b\b\b\b\b\b\b\b\b\b\b\b\b\b\b\b\b\b\b\b\b\b\b\b\b\b\b\b\b\b\b\b\b\b\b\b\b\b\b\b\b\b\b\b\b\b\b\b\b\b\b\b\b\b\r",
      "9/9 [==============================] - 0s 5ms/step - loss: 0.6510 - accuracy: 0.6275 - val_loss: 0.6261 - val_accuracy: 0.6889\n"
     ]
    },
    {
     "name": "stdout",
     "output_type": "stream",
     "text": [
      "Epoch 154/400\n"
     ]
    },
    {
     "name": "stdout",
     "output_type": "stream",
     "text": [
      "\r",
      "1/9 [==>...........................] - ETA: 0s - loss: 0.6097 - accuracy: 0.7333"
     ]
    },
    {
     "name": "stdout",
     "output_type": "stream",
     "text": [
      "\b\b\b\b\b\b\b\b\b\b\b\b\b\b\b\b\b\b\b\b\b\b\b\b\b\b\b\b\b\b\b\b\b\b\b\b\b\b\b\b\b\b\b\b\b\b\b\b\b\b\b\b\b\b\b\b\b\b\b\b\b\b\b\b\b\b\b\b\b\b\b\b\b\b\b\b\b\b\b\b\r",
      "9/9 [==============================] - 0s 4ms/step - loss: 0.6514 - accuracy: 0.6275 - val_loss: 0.6264 - val_accuracy: 0.6889\n"
     ]
    },
    {
     "name": "stdout",
     "output_type": "stream",
     "text": [
      "Epoch 155/400\n"
     ]
    },
    {
     "name": "stdout",
     "output_type": "stream",
     "text": [
      "\r",
      "1/9 [==>...........................] - ETA: 0s - loss: 0.6527 - accuracy: 0.6333"
     ]
    },
    {
     "name": "stdout",
     "output_type": "stream",
     "text": [
      "\b\b\b\b\b\b\b\b\b\b\b\b\b\b\b\b\b\b\b\b\b\b\b\b\b\b\b\b\b\b\b\b\b\b\b\b\b\b\b\b\b\b\b\b\b\b\b\b\b\b\b\b\b\b\b\b\b\b\b\b\b\b\b\b\b\b\b\b\b\b\b\b\b\b\b\b\b\b\b\b\r",
      "9/9 [==============================] - 0s 4ms/step - loss: 0.6510 - accuracy: 0.6275 - val_loss: 0.6264 - val_accuracy: 0.6889\n"
     ]
    },
    {
     "name": "stdout",
     "output_type": "stream",
     "text": [
      "Epoch 156/400\n"
     ]
    },
    {
     "name": "stdout",
     "output_type": "stream",
     "text": [
      "\r",
      "1/9 [==>...........................] - ETA: 0s - loss: 0.6825 - accuracy: 0.6000"
     ]
    },
    {
     "name": "stdout",
     "output_type": "stream",
     "text": [
      "\b\b\b\b\b\b\b\b\b\b\b\b\b\b\b\b\b\b\b\b\b\b\b\b\b\b\b\b\b\b\b\b\b\b\b\b\b\b\b\b\b\b\b\b\b\b\b\b\b\b\b\b\b\b\b\b\b\b\b\b\b\b\b\b\b\b\b\b\b\b\b\b\b\b\b\b\b\b\b\b\r",
      "9/9 [==============================] - 0s 4ms/step - loss: 0.6511 - accuracy: 0.6275 - val_loss: 0.6263 - val_accuracy: 0.6889\n"
     ]
    },
    {
     "name": "stdout",
     "output_type": "stream",
     "text": [
      "Epoch 157/400\n"
     ]
    },
    {
     "name": "stdout",
     "output_type": "stream",
     "text": [
      "\r",
      "1/9 [==>...........................] - ETA: 0s - loss: 0.5966 - accuracy: 0.7667"
     ]
    },
    {
     "name": "stdout",
     "output_type": "stream",
     "text": [
      "\b\b\b\b\b\b\b\b\b\b\b\b\b\b\b\b\b\b\b\b\b\b\b\b\b\b\b\b\b\b\b\b\b\b\b\b\b\b\b\b\b\b\b\b\b\b\b\b\b\b\b\b\b\b\b\b\b\b\b\b\b\b\b\b\b\b\b\b\b\b\b\b\b\b\b\b\b\b\b\b\r",
      "9/9 [==============================] - 0s 4ms/step - loss: 0.6511 - accuracy: 0.6275 - val_loss: 0.6261 - val_accuracy: 0.6889\n"
     ]
    },
    {
     "name": "stdout",
     "output_type": "stream",
     "text": [
      "Epoch 158/400\n"
     ]
    },
    {
     "name": "stdout",
     "output_type": "stream",
     "text": [
      "\r",
      "1/9 [==>...........................] - ETA: 0s - loss: 0.6451 - accuracy: 0.6333"
     ]
    },
    {
     "name": "stdout",
     "output_type": "stream",
     "text": [
      "\b\b\b\b\b\b\b\b\b\b\b\b\b\b\b\b\b\b\b\b\b\b\b\b\b\b\b\b\b\b\b\b\b\b\b\b\b\b\b\b\b\b\b\b\b\b\b\b\b\b\b\b\b\b\b\b\b\b\b\b\b\b\b\b\b\b\b\b\b\b\b\b\b\b\b\b\b\b\b\b\r",
      "9/9 [==============================] - 0s 4ms/step - loss: 0.6510 - accuracy: 0.6275 - val_loss: 0.6263 - val_accuracy: 0.6889\n"
     ]
    },
    {
     "name": "stdout",
     "output_type": "stream",
     "text": [
      "Epoch 159/400\n"
     ]
    },
    {
     "name": "stdout",
     "output_type": "stream",
     "text": [
      "\r",
      "1/9 [==>...........................] - ETA: 0s - loss: 0.6236 - accuracy: 0.7000"
     ]
    },
    {
     "name": "stdout",
     "output_type": "stream",
     "text": [
      "\b\b\b\b\b\b\b\b\b\b\b\b\b\b\b\b\b\b\b\b\b\b\b\b\b\b\b\b\b\b\b\b\b\b\b\b\b\b\b\b\b\b\b\b\b\b\b\b\b\b\b\b\b\b\b\b\b\b\b\b\b\b\b\b\b\b\b\b\b\b\b\b\b\b\b\b\b\b\b\b\r",
      "9/9 [==============================] - 0s 4ms/step - loss: 0.6509 - accuracy: 0.6275 - val_loss: 0.6267 - val_accuracy: 0.6889\n"
     ]
    },
    {
     "name": "stdout",
     "output_type": "stream",
     "text": [
      "Epoch 160/400\n"
     ]
    },
    {
     "name": "stdout",
     "output_type": "stream",
     "text": [
      "\r",
      "1/9 [==>...........................] - ETA: 0s - loss: 0.6563 - accuracy: 0.6333"
     ]
    },
    {
     "name": "stdout",
     "output_type": "stream",
     "text": [
      "\b\b\b\b\b\b\b\b\b\b\b\b\b\b\b\b\b\b\b\b\b\b\b\b\b\b\b\b\b\b\b\b\b\b\b\b\b\b\b\b\b\b\b\b\b\b\b\b\b\b\b\b\b\b\b\b\b\b\b\b\b\b\b\b\b\b\b\b\b\b\b\b\b\b\b\b\b\b\b\b\r",
      "9/9 [==============================] - 0s 5ms/step - loss: 0.6510 - accuracy: 0.6275 - val_loss: 0.6266 - val_accuracy: 0.6889\n"
     ]
    },
    {
     "name": "stdout",
     "output_type": "stream",
     "text": [
      "Epoch 161/400\n"
     ]
    },
    {
     "name": "stdout",
     "output_type": "stream",
     "text": [
      "\r",
      "1/9 [==>...........................] - ETA: 0s - loss: 0.6884 - accuracy: 0.5667"
     ]
    },
    {
     "name": "stdout",
     "output_type": "stream",
     "text": [
      "\b\b\b\b\b\b\b\b\b\b\b\b\b\b\b\b\b\b\b\b\b\b\b\b\b\b\b\b\b\b\b\b\b\b\b\b\b\b\b\b\b\b\b\b\b\b\b\b\b\b\b\b\b\b\b\b\b\b\b\b\b\b\b\b\b\b\b\b\b\b\b\b\b\b\b\b\b\b\b\b\r",
      "9/9 [==============================] - 0s 5ms/step - loss: 0.6509 - accuracy: 0.6275 - val_loss: 0.6267 - val_accuracy: 0.6889\n"
     ]
    },
    {
     "name": "stdout",
     "output_type": "stream",
     "text": [
      "Epoch 162/400\n"
     ]
    },
    {
     "name": "stdout",
     "output_type": "stream",
     "text": [
      "\r",
      "1/9 [==>...........................] - ETA: 0s - loss: 0.7201 - accuracy: 0.4667"
     ]
    },
    {
     "name": "stdout",
     "output_type": "stream",
     "text": [
      "\b\b\b\b\b\b\b\b\b\b\b\b\b\b\b\b\b\b\b\b\b\b\b\b\b\b\b\b\b\b\b\b\b\b\b\b\b\b\b\b\b\b\b\b\b\b\b\b\b\b\b\b\b\b\b\b\b\b\b\b\b\b\b\b\b\b\b\b\b\b\b\b\b\b\b\b\b\b\b\b\r",
      "9/9 [==============================] - 0s 5ms/step - loss: 0.6511 - accuracy: 0.6275 - val_loss: 0.6265 - val_accuracy: 0.6889\n"
     ]
    },
    {
     "name": "stdout",
     "output_type": "stream",
     "text": [
      "Epoch 163/400\n"
     ]
    },
    {
     "name": "stdout",
     "output_type": "stream",
     "text": [
      "\r",
      "1/9 [==>...........................] - ETA: 0s - loss: 0.6202 - accuracy: 0.7000"
     ]
    },
    {
     "name": "stdout",
     "output_type": "stream",
     "text": [
      "\b\b\b\b\b\b\b\b\b\b\b\b\b\b\b\b\b\b\b\b\b\b\b\b\b\b\b\b\b\b\b\b\b\b\b\b\b\b\b\b\b\b\b\b\b\b\b\b\b\b\b\b\b\b\b\b\b\b\b\b\b\b\b\b\b\b\b\b\b\b\b\b\b\b\b\b\b\b\b\b\r",
      "9/9 [==============================] - 0s 5ms/step - loss: 0.6510 - accuracy: 0.6275 - val_loss: 0.6267 - val_accuracy: 0.6889\n"
     ]
    },
    {
     "name": "stdout",
     "output_type": "stream",
     "text": [
      "Epoch 164/400\n"
     ]
    },
    {
     "name": "stdout",
     "output_type": "stream",
     "text": [
      "\r",
      "1/9 [==>...........................] - ETA: 0s - loss: 0.6647 - accuracy: 0.6000"
     ]
    },
    {
     "name": "stdout",
     "output_type": "stream",
     "text": [
      "\b\b\b\b\b\b\b\b\b\b\b\b\b\b\b\b\b\b\b\b\b\b\b\b\b\b\b\b\b\b\b\b\b\b\b\b\b\b\b\b\b\b\b\b\b\b\b\b\b\b\b\b\b\b\b\b\b\b\b\b\b\b\b\b\b\b\b\b\b\b\b\b\b\b\b\b\b\b\b\b\r",
      "9/9 [==============================] - 0s 5ms/step - loss: 0.6509 - accuracy: 0.6275 - val_loss: 0.6263 - val_accuracy: 0.6889\n"
     ]
    },
    {
     "name": "stdout",
     "output_type": "stream",
     "text": [
      "Epoch 165/400\n"
     ]
    },
    {
     "name": "stdout",
     "output_type": "stream",
     "text": [
      "\r",
      "1/9 [==>...........................] - ETA: 0s - loss: 0.5969 - accuracy: 0.7333"
     ]
    },
    {
     "name": "stdout",
     "output_type": "stream",
     "text": [
      "\b\b\b\b\b\b\b\b\b\b\b\b\b\b\b\b\b\b\b\b\b\b\b\b\b\b\b\b\b\b\b\b\b\b\b\b\b\b\b\b\b\b\b\b\b\b\b\b\b\b\b\b\b\b\b\b\b\b\b\b\b\b\b\b\b\b\b\b\b\b\b\b\b\b\b\b\b\b\b\b\r",
      "9/9 [==============================] - 0s 5ms/step - loss: 0.6509 - accuracy: 0.6275 - val_loss: 0.6261 - val_accuracy: 0.6889\n"
     ]
    },
    {
     "name": "stdout",
     "output_type": "stream",
     "text": [
      "Epoch 166/400\n"
     ]
    },
    {
     "name": "stdout",
     "output_type": "stream",
     "text": [
      "\r",
      "1/9 [==>...........................] - ETA: 0s - loss: 0.7221 - accuracy: 0.5000"
     ]
    },
    {
     "name": "stdout",
     "output_type": "stream",
     "text": [
      "\b\b\b\b\b\b\b\b\b\b\b\b\b\b\b\b\b\b\b\b\b\b\b\b\b\b\b\b\b\b\b\b\b\b\b\b\b\b\b\b\b\b\b\b\b\b\b\b\b\b\b\b\b\b\b\b\b\b\b\b\b\b\b\b\b\b\b\b\b\b\b\b\b\b\b\b\b\b\b\b\r",
      "9/9 [==============================] - 0s 5ms/step - loss: 0.6509 - accuracy: 0.6275 - val_loss: 0.6260 - val_accuracy: 0.6889\n"
     ]
    },
    {
     "name": "stdout",
     "output_type": "stream",
     "text": [
      "Epoch 167/400\n"
     ]
    },
    {
     "name": "stdout",
     "output_type": "stream",
     "text": [
      "\r",
      "1/9 [==>...........................] - ETA: 0s - loss: 0.6692 - accuracy: 0.6000"
     ]
    },
    {
     "name": "stdout",
     "output_type": "stream",
     "text": [
      "\b\b\b\b\b\b\b\b\b\b\b\b\b\b\b\b\b\b\b\b\b\b\b\b\b\b\b\b\b\b\b\b\b\b\b\b\b\b\b\b\b\b\b\b\b\b\b\b\b\b\b\b\b\b\b\b\b\b\b\b\b\b\b\b\b\b\b\b\b\b\b\b\b\b\b\b\b\b\b\b\r",
      "9/9 [==============================] - 0s 4ms/step - loss: 0.6509 - accuracy: 0.6275 - val_loss: 0.6258 - val_accuracy: 0.6889\n"
     ]
    },
    {
     "name": "stdout",
     "output_type": "stream",
     "text": [
      "Epoch 168/400\n"
     ]
    },
    {
     "name": "stdout",
     "output_type": "stream",
     "text": [
      "\r",
      "1/9 [==>...........................] - ETA: 0s - loss: 0.6336 - accuracy: 0.6667"
     ]
    },
    {
     "name": "stdout",
     "output_type": "stream",
     "text": [
      "\b\b\b\b\b\b\b\b\b\b\b\b\b\b\b\b\b\b\b\b\b\b\b\b\b\b\b\b\b\b\b\b\b\b\b\b\b\b\b\b\b\b\b\b\b\b\b\b\b\b\b\b\b\b\b\b\b\b\b\b\b\b\b\b\b\b\b\b\b\b\b\b\b\b\b\b\b\b\b\b\r",
      "9/9 [==============================] - 0s 6ms/step - loss: 0.6509 - accuracy: 0.6275 - val_loss: 0.6258 - val_accuracy: 0.6889\n"
     ]
    },
    {
     "name": "stdout",
     "output_type": "stream",
     "text": [
      "Epoch 169/400\n"
     ]
    },
    {
     "name": "stdout",
     "output_type": "stream",
     "text": [
      "\r",
      "1/9 [==>...........................] - ETA: 0s - loss: 0.5872 - accuracy: 0.7667"
     ]
    },
    {
     "name": "stdout",
     "output_type": "stream",
     "text": [
      "\b\b\b\b\b\b\b\b\b\b\b\b\b\b\b\b\b\b\b\b\b\b\b\b\b\b\b\b\b\b\b\b\b\b\b\b\b\b\b\b\b\b\b\b\b\b\b\b\b\b\b\b\b\b\b\b\b\b\b\b\b\b\b\b\b\b\b\b\b\b\b\b\b\b\b\b\b\b\b\b\r",
      "9/9 [==============================] - 0s 5ms/step - loss: 0.6510 - accuracy: 0.6275 - val_loss: 0.6257 - val_accuracy: 0.6889\n"
     ]
    },
    {
     "name": "stdout",
     "output_type": "stream",
     "text": [
      "Epoch 170/400\n"
     ]
    },
    {
     "name": "stdout",
     "output_type": "stream",
     "text": [
      "\r",
      "1/9 [==>...........................] - ETA: 0s - loss: 0.6158 - accuracy: 0.7000"
     ]
    },
    {
     "name": "stdout",
     "output_type": "stream",
     "text": [
      "\b\b\b\b\b\b\b\b\b\b\b\b\b\b\b\b\b\b\b\b\b\b\b\b\b\b\b\b\b\b\b\b\b\b\b\b\b\b\b\b\b\b\b\b\b\b\b\b\b\b\b\b\b\b\b\b\b\b\b\b\b\b\b\b\b\b\b\b\b\b\b\b\b\b\b\b\b\b\b\b\r",
      "9/9 [==============================] - 0s 4ms/step - loss: 0.6511 - accuracy: 0.6275 - val_loss: 0.6257 - val_accuracy: 0.6889\n"
     ]
    },
    {
     "name": "stdout",
     "output_type": "stream",
     "text": [
      "Epoch 171/400\n"
     ]
    },
    {
     "name": "stdout",
     "output_type": "stream",
     "text": [
      "\r",
      "1/9 [==>...........................] - ETA: 0s - loss: 0.6081 - accuracy: 0.7333"
     ]
    },
    {
     "name": "stdout",
     "output_type": "stream",
     "text": [
      "\b\b\b\b\b\b\b\b\b\b\b\b\b\b\b\b\b\b\b\b\b\b\b\b\b\b\b\b\b\b\b\b\b\b\b\b\b\b\b\b\b\b\b\b\b\b\b\b\b\b\b\b\b\b\b\b\b\b\b\b\b\b\b\b\b\b\b\b\b\b\b\b\b\b\b\b\b\b\b\b\r",
      "9/9 [==============================] - 0s 4ms/step - loss: 0.6508 - accuracy: 0.6275 - val_loss: 0.6255 - val_accuracy: 0.6889\n"
     ]
    },
    {
     "name": "stdout",
     "output_type": "stream",
     "text": [
      "Epoch 172/400\n"
     ]
    },
    {
     "name": "stdout",
     "output_type": "stream",
     "text": [
      "\r",
      "1/9 [==>...........................] - ETA: 0s - loss: 0.6066 - accuracy: 0.7000"
     ]
    },
    {
     "name": "stdout",
     "output_type": "stream",
     "text": [
      "\b\b\b\b\b\b\b\b\b\b\b\b\b\b\b\b\b\b\b\b\b\b\b\b\b\b\b\b\b\b\b\b\b\b\b\b\b\b\b\b\b\b\b\b\b\b\b\b\b\b\b\b\b\b\b\b\b\b\b\b\b\b\b\b\b\b\b\b\b\b\b\b\b\b\b\b\b\b\b\b\r",
      "9/9 [==============================] - 0s 5ms/step - loss: 0.6509 - accuracy: 0.6275 - val_loss: 0.6255 - val_accuracy: 0.6889\n"
     ]
    },
    {
     "name": "stdout",
     "output_type": "stream",
     "text": [
      "Epoch 173/400\n"
     ]
    },
    {
     "name": "stdout",
     "output_type": "stream",
     "text": [
      "\r",
      "1/9 [==>...........................] - ETA: 0s - loss: 0.6798 - accuracy: 0.5667"
     ]
    },
    {
     "name": "stdout",
     "output_type": "stream",
     "text": [
      "\b\b\b\b\b\b\b\b\b\b\b\b\b\b\b\b\b\b\b\b\b\b\b\b\b\b\b\b\b\b\b\b\b\b\b\b\b\b\b\b\b\b\b\b\b\b\b\b\b\b\b\b\b\b\b\b\b\b\b\b\b\b\b\b\b\b\b\b\b\b\b\b\b\b\b\b\b\b\b\b\r",
      "9/9 [==============================] - 0s 5ms/step - loss: 0.6509 - accuracy: 0.6275 - val_loss: 0.6254 - val_accuracy: 0.6889\n"
     ]
    },
    {
     "name": "stdout",
     "output_type": "stream",
     "text": [
      "Epoch 174/400\n"
     ]
    },
    {
     "name": "stdout",
     "output_type": "stream",
     "text": [
      "\r",
      "1/9 [==>...........................] - ETA: 0s - loss: 0.6296 - accuracy: 0.6667"
     ]
    },
    {
     "name": "stdout",
     "output_type": "stream",
     "text": [
      "\b\b\b\b\b\b\b\b\b\b\b\b\b\b\b\b\b\b\b\b\b\b\b\b\b\b\b\b\b\b\b\b\b\b\b\b\b\b\b\b\b\b\b\b\b\b\b\b\b\b\b\b\b\b\b\b\b\b\b\b\b\b\b\b\b\b\b\b\b\b\b\b\b\b\b\b\b\b\b\b\r",
      "9/9 [==============================] - 0s 6ms/step - loss: 0.6509 - accuracy: 0.6275 - val_loss: 0.6252 - val_accuracy: 0.6889\n"
     ]
    },
    {
     "name": "stdout",
     "output_type": "stream",
     "text": [
      "Epoch 175/400\n"
     ]
    },
    {
     "name": "stdout",
     "output_type": "stream",
     "text": [
      "\r",
      "1/9 [==>...........................] - ETA: 0s - loss: 0.6760 - accuracy: 0.5667"
     ]
    },
    {
     "name": "stdout",
     "output_type": "stream",
     "text": [
      "\b\b\b\b\b\b\b\b\b\b\b\b\b\b\b\b\b\b\b\b\b\b\b\b\b\b\b\b\b\b\b\b\b\b\b\b\b\b\b\b\b\b\b\b\b\b\b\b\b\b\b\b\b\b\b\b\b\b\b\b\b\b\b\b\b\b\b\b\b\b\b\b\b\b\b\b\b\b\b\b\r",
      "9/9 [==============================] - 0s 6ms/step - loss: 0.6508 - accuracy: 0.6275 - val_loss: 0.6255 - val_accuracy: 0.6889\n"
     ]
    },
    {
     "name": "stdout",
     "output_type": "stream",
     "text": [
      "Epoch 176/400\n"
     ]
    },
    {
     "name": "stdout",
     "output_type": "stream",
     "text": [
      "\r",
      "1/9 [==>...........................] - ETA: 0s - loss: 0.6022 - accuracy: 0.7333"
     ]
    },
    {
     "name": "stdout",
     "output_type": "stream",
     "text": [
      "\b\b\b\b\b\b\b\b\b\b\b\b\b\b\b\b\b\b\b\b\b\b\b\b\b\b\b\b\b\b\b\b\b\b\b\b\b\b\b\b\b\b\b\b\b\b\b\b\b\b\b\b\b\b\b\b\b\b\b\b\b\b\b\b\b\b\b\b\b\b\b\b\b\b\b\b\b\b\b\b\r",
      "9/9 [==============================] - 0s 5ms/step - loss: 0.6508 - accuracy: 0.6275 - val_loss: 0.6254 - val_accuracy: 0.6889\n"
     ]
    },
    {
     "name": "stdout",
     "output_type": "stream",
     "text": [
      "Epoch 177/400\n"
     ]
    },
    {
     "name": "stdout",
     "output_type": "stream",
     "text": [
      "\r",
      "1/9 [==>...........................] - ETA: 0s - loss: 0.6376 - accuracy: 0.6333"
     ]
    },
    {
     "name": "stdout",
     "output_type": "stream",
     "text": [
      "\b\b\b\b\b\b\b\b\b\b\b\b\b\b\b\b\b\b\b\b\b\b\b\b\b\b\b\b\b\b\b\b\b\b\b\b\b\b\b\b\b\b\b\b\b\b\b\b\b\b\b\b\b\b\b\b\b\b\b\b\b\b\b\b\b\b\b\b\b\b\b\b\b\b\b\b\b\b\b\b\r",
      "9/9 [==============================] - 0s 4ms/step - loss: 0.6508 - accuracy: 0.6275 - val_loss: 0.6251 - val_accuracy: 0.6889\n"
     ]
    },
    {
     "name": "stdout",
     "output_type": "stream",
     "text": [
      "Epoch 178/400\n"
     ]
    },
    {
     "name": "stdout",
     "output_type": "stream",
     "text": [
      "\r",
      "1/9 [==>...........................] - ETA: 0s - loss: 0.6818 - accuracy: 0.5667"
     ]
    },
    {
     "name": "stdout",
     "output_type": "stream",
     "text": [
      "\b\b\b\b\b\b\b\b\b\b\b\b\b\b\b\b\b\b\b\b\b\b\b\b\b\b\b\b\b\b\b\b\b\b\b\b\b\b\b\b\b\b\b\b\b\b\b\b\b\b\b\b\b\b\b\b\b\b\b\b\b\b\b\b\b\b\b\b\b\b\b\b\b\b\b\b\b\b\b\b\r",
      "9/9 [==============================] - 0s 4ms/step - loss: 0.6508 - accuracy: 0.6275 - val_loss: 0.6249 - val_accuracy: 0.6889\n"
     ]
    },
    {
     "name": "stdout",
     "output_type": "stream",
     "text": [
      "Epoch 179/400\n"
     ]
    },
    {
     "name": "stdout",
     "output_type": "stream",
     "text": [
      "\r",
      "1/9 [==>...........................] - ETA: 0s - loss: 0.5967 - accuracy: 0.7333"
     ]
    },
    {
     "name": "stdout",
     "output_type": "stream",
     "text": [
      "\b\b\b\b\b\b\b\b\b\b\b\b\b\b\b\b\b\b\b\b\b\b\b\b\b\b\b\b\b\b\b\b\b\b\b\b\b\b\b\b\b\b\b\b\b\b\b\b\b\b\b\b\b\b\b\b\b\b\b\b\b\b\b\b\b\b\b\b\b\b\b\b\b\b\b\b\b\b\b\b\r",
      "9/9 [==============================] - 0s 5ms/step - loss: 0.6507 - accuracy: 0.6275 - val_loss: 0.6251 - val_accuracy: 0.6889\n"
     ]
    },
    {
     "name": "stdout",
     "output_type": "stream",
     "text": [
      "Epoch 180/400\n"
     ]
    },
    {
     "name": "stdout",
     "output_type": "stream",
     "text": [
      "\r",
      "1/9 [==>...........................] - ETA: 0s - loss: 0.6476 - accuracy: 0.6333"
     ]
    },
    {
     "name": "stdout",
     "output_type": "stream",
     "text": [
      "\b\b\b\b\b\b\b\b\b\b\b\b\b\b\b\b\b\b\b\b\b\b\b\b\b\b\b\b\b\b\b\b\b\b\b\b\b\b\b\b\b\b\b\b\b\b\b\b\b\b\b\b\b\b\b\b\b\b\b\b\b\b\b\b\b\b\b\b\b\b\b\b\b\b\b\b\b\b\b\b\r",
      "9/9 [==============================] - 0s 5ms/step - loss: 0.6508 - accuracy: 0.6275 - val_loss: 0.6248 - val_accuracy: 0.6889\n"
     ]
    },
    {
     "name": "stdout",
     "output_type": "stream",
     "text": [
      "Epoch 181/400\n"
     ]
    },
    {
     "name": "stdout",
     "output_type": "stream",
     "text": [
      "\r",
      "1/9 [==>...........................] - ETA: 0s - loss: 0.6829 - accuracy: 0.5333"
     ]
    },
    {
     "name": "stdout",
     "output_type": "stream",
     "text": [
      "\b\b\b\b\b\b\b\b\b\b\b\b\b\b\b\b\b\b\b\b\b\b\b\b\b\b\b\b\b\b\b\b\b\b\b\b\b\b\b\b\b\b\b\b\b\b\b\b\b\b\b\b\b\b\b\b\b\b\b\b\b\b\b\b\b\b\b\b\b\b\b\b\b\b\b\b\b\b\b\b\r",
      "9/9 [==============================] - 0s 5ms/step - loss: 0.6507 - accuracy: 0.6275 - val_loss: 0.6251 - val_accuracy: 0.6889\n"
     ]
    },
    {
     "name": "stdout",
     "output_type": "stream",
     "text": [
      "Epoch 182/400\n"
     ]
    },
    {
     "name": "stdout",
     "output_type": "stream",
     "text": [
      "\r",
      "1/9 [==>...........................] - ETA: 0s - loss: 0.6478 - accuracy: 0.6333"
     ]
    },
    {
     "name": "stdout",
     "output_type": "stream",
     "text": [
      "\b\b\b\b\b\b\b\b\b\b\b\b\b\b\b\b\b\b\b\b\b\b\b\b\b\b\b\b\b\b\b\b\b\b\b\b\b\b\b\b\b\b\b\b\b\b\b\b\b\b\b\b\b\b\b\b\b\b\b\b\b\b\b\b\b\b\b\b\b\b\b\b\b\b\b\b\b\b\b\b\r",
      "9/9 [==============================] - 0s 5ms/step - loss: 0.6508 - accuracy: 0.6275 - val_loss: 0.6254 - val_accuracy: 0.6889\n"
     ]
    },
    {
     "name": "stdout",
     "output_type": "stream",
     "text": [
      "Epoch 183/400\n"
     ]
    },
    {
     "name": "stdout",
     "output_type": "stream",
     "text": [
      "\r",
      "1/9 [==>...........................] - ETA: 0s - loss: 0.7236 - accuracy: 0.5000"
     ]
    },
    {
     "name": "stdout",
     "output_type": "stream",
     "text": [
      "\b\b\b\b\b\b\b\b\b\b\b\b\b\b\b\b\b\b\b\b\b\b\b\b\b\b\b\b\b\b\b\b\b\b\b\b\b\b\b\b\b\b\b\b\b\b\b\b\b\b\b\b\b\b\b\b\b\b\b\b\b\b\b\b\b\b\b\b\b\b\b\b\b\b\b\b\b\b\b\b\r",
      "9/9 [==============================] - 0s 5ms/step - loss: 0.6507 - accuracy: 0.6275 - val_loss: 0.6252 - val_accuracy: 0.6889\n"
     ]
    },
    {
     "name": "stdout",
     "output_type": "stream",
     "text": [
      "Epoch 184/400\n"
     ]
    },
    {
     "name": "stdout",
     "output_type": "stream",
     "text": [
      "\r",
      "1/9 [==>...........................] - ETA: 0s - loss: 0.6010 - accuracy: 0.7333"
     ]
    },
    {
     "name": "stdout",
     "output_type": "stream",
     "text": [
      "\b\b\b\b\b\b\b\b\b\b\b\b\b\b\b\b\b\b\b\b\b\b\b\b\b\b\b\b\b\b\b\b\b\b\b\b\b\b\b\b\b\b\b\b\b\b\b\b\b\b\b\b\b\b\b\b\b\b\b\b\b\b\b\b\b\b\b\b\b\b\b\b\b\b\b\b\b\b\b\b\r",
      "9/9 [==============================] - 0s 5ms/step - loss: 0.6507 - accuracy: 0.6275 - val_loss: 0.6254 - val_accuracy: 0.6889\n"
     ]
    },
    {
     "name": "stdout",
     "output_type": "stream",
     "text": [
      "Epoch 185/400\n"
     ]
    },
    {
     "name": "stdout",
     "output_type": "stream",
     "text": [
      "\r",
      "1/9 [==>...........................] - ETA: 0s - loss: 0.6328 - accuracy: 0.6667"
     ]
    },
    {
     "name": "stdout",
     "output_type": "stream",
     "text": [
      "\b\b\b\b\b\b\b\b\b\b\b\b\b\b\b\b\b\b\b\b\b\b\b\b\b\b\b\b\b\b\b\b\b\b\b\b\b\b\b\b\b\b\b\b\b\b\b\b\b\b\b\b\b\b\b\b\b\b\b\b\b\b\b\b\b\b\b\b\b\b\b\b\b\b\b\b\b\b\b\b\r",
      "9/9 [==============================] - 0s 5ms/step - loss: 0.6506 - accuracy: 0.6275 - val_loss: 0.6256 - val_accuracy: 0.6889\n"
     ]
    },
    {
     "name": "stdout",
     "output_type": "stream",
     "text": [
      "Epoch 186/400\n"
     ]
    },
    {
     "name": "stdout",
     "output_type": "stream",
     "text": [
      "\r",
      "1/9 [==>...........................] - ETA: 0s - loss: 0.6358 - accuracy: 0.6667"
     ]
    },
    {
     "name": "stdout",
     "output_type": "stream",
     "text": [
      "\b\b\b\b\b\b\b\b\b\b\b\b\b\b\b\b\b\b\b\b\b\b\b\b\b\b\b\b\b\b\b\b\b\b\b\b\b\b\b\b\b\b\b\b\b\b\b\b\b\b\b\b\b\b\b\b\b\b\b\b\b\b\b\b\b\b\b\b\b\b\b\b\b\b\b\b\b\b\b\b\r",
      "9/9 [==============================] - 0s 5ms/step - loss: 0.6507 - accuracy: 0.6275 - val_loss: 0.6258 - val_accuracy: 0.6889\n"
     ]
    },
    {
     "name": "stdout",
     "output_type": "stream",
     "text": [
      "Epoch 187/400\n"
     ]
    },
    {
     "name": "stdout",
     "output_type": "stream",
     "text": [
      "\r",
      "1/9 [==>...........................] - ETA: 0s - loss: 0.6565 - accuracy: 0.6333"
     ]
    },
    {
     "name": "stdout",
     "output_type": "stream",
     "text": [
      "\b\b\b\b\b\b\b\b\b\b\b\b\b\b\b\b\b\b\b\b\b\b\b\b\b\b\b\b\b\b\b\b\b\b\b\b\b\b\b\b\b\b\b\b\b\b\b\b\b\b\b\b\b\b\b\b\b\b\b\b\b\b\b\b\b\b\b\b\b\b\b\b\b\b\b\b\b\b\b\b\r",
      "9/9 [==============================] - 0s 5ms/step - loss: 0.6508 - accuracy: 0.6275 - val_loss: 0.6255 - val_accuracy: 0.6889\n"
     ]
    },
    {
     "name": "stdout",
     "output_type": "stream",
     "text": [
      "Epoch 188/400\n"
     ]
    },
    {
     "name": "stdout",
     "output_type": "stream",
     "text": [
      "\r",
      "1/9 [==>...........................] - ETA: 0s - loss: 0.6493 - accuracy: 0.6333"
     ]
    },
    {
     "name": "stdout",
     "output_type": "stream",
     "text": [
      "\b\b\b\b\b\b\b\b\b\b\b\b\b\b\b\b\b\b\b\b\b\b\b\b\b\b\b\b\b\b\b\b\b\b\b\b\b\b\b\b\b\b\b\b\b\b\b\b\b\b\b\b\b\b\b\b\b\b\b\b\b\b\b\b\b\b\b\b\b\b\b\b\b\b\b\b\b\b\b\b\r",
      "9/9 [==============================] - 0s 4ms/step - loss: 0.6506 - accuracy: 0.6275 - val_loss: 0.6253 - val_accuracy: 0.6889\n"
     ]
    },
    {
     "name": "stdout",
     "output_type": "stream",
     "text": [
      "Epoch 189/400\n"
     ]
    },
    {
     "name": "stdout",
     "output_type": "stream",
     "text": [
      "\r",
      "1/9 [==>...........................] - ETA: 0s - loss: 0.6195 - accuracy: 0.7000"
     ]
    },
    {
     "name": "stdout",
     "output_type": "stream",
     "text": [
      "\b\b\b\b\b\b\b\b\b\b\b\b\b\b\b\b\b\b\b\b\b\b\b\b\b\b\b\b\b\b\b\b\b\b\b\b\b\b\b\b\b\b\b\b\b\b\b\b\b\b\b\b\b\b\b\b\b\b\b\b\b\b\b\b\b\b\b\b\b\b\b\b\b\b\b\b\b\b\b\b\r",
      "9/9 [==============================] - 0s 4ms/step - loss: 0.6507 - accuracy: 0.6275 - val_loss: 0.6253 - val_accuracy: 0.6889\n"
     ]
    },
    {
     "name": "stdout",
     "output_type": "stream",
     "text": [
      "Epoch 190/400\n"
     ]
    },
    {
     "name": "stdout",
     "output_type": "stream",
     "text": [
      "\r",
      "1/9 [==>...........................] - ETA: 0s - loss: 0.6412 - accuracy: 0.6333"
     ]
    },
    {
     "name": "stdout",
     "output_type": "stream",
     "text": [
      "\b\b\b\b\b\b\b\b\b\b\b\b\b\b\b\b\b\b\b\b\b\b\b\b\b\b\b\b\b\b\b\b\b\b\b\b\b\b\b\b\b\b\b\b\b\b\b\b\b\b\b\b\b\b\b\b\b\b\b\b\b\b\b\b\b\b\b\b\b\b\b\b\b\b\b\b\b\b\b\b\r",
      "9/9 [==============================] - 0s 5ms/step - loss: 0.6506 - accuracy: 0.6275 - val_loss: 0.6256 - val_accuracy: 0.6889\n"
     ]
    },
    {
     "name": "stdout",
     "output_type": "stream",
     "text": [
      "Epoch 191/400\n"
     ]
    },
    {
     "name": "stdout",
     "output_type": "stream",
     "text": [
      "\r",
      "1/9 [==>...........................] - ETA: 0s - loss: 0.5614 - accuracy: 0.8333"
     ]
    },
    {
     "name": "stdout",
     "output_type": "stream",
     "text": [
      "\b\b\b\b\b\b\b\b\b\b\b\b\b\b\b\b\b\b\b\b\b\b\b\b\b\b\b\b\b\b\b\b\b\b\b\b\b\b\b\b\b\b\b\b\b\b\b\b\b\b\b\b\b\b\b\b\b\b\b\b\b\b\b\b\b\b\b\b\b\b\b\b\b\b\b\b\b\b\b\b\r",
      "9/9 [==============================] - 0s 5ms/step - loss: 0.6507 - accuracy: 0.6275 - val_loss: 0.6254 - val_accuracy: 0.6889\n"
     ]
    },
    {
     "name": "stdout",
     "output_type": "stream",
     "text": [
      "Epoch 192/400\n"
     ]
    },
    {
     "name": "stdout",
     "output_type": "stream",
     "text": [
      "\r",
      "1/9 [==>...........................] - ETA: 0s - loss: 0.6439 - accuracy: 0.6333"
     ]
    },
    {
     "name": "stdout",
     "output_type": "stream",
     "text": [
      "\b\b\b\b\b\b\b\b\b\b\b\b\b\b\b\b\b\b\b\b\b\b\b\b\b\b\b\b\b\b\b\b\b\b\b\b\b\b\b\b\b\b\b\b\b\b\b\b\b\b\b\b\b\b\b\b\b\b\b\b\b\b\b\b\b\b\b\b\b\b\b\b\b\b\b\b\b\b\b\b\r",
      "9/9 [==============================] - 0s 5ms/step - loss: 0.6507 - accuracy: 0.6275 - val_loss: 0.6255 - val_accuracy: 0.6889\n"
     ]
    },
    {
     "name": "stdout",
     "output_type": "stream",
     "text": [
      "Epoch 193/400\n"
     ]
    },
    {
     "name": "stdout",
     "output_type": "stream",
     "text": [
      "\r",
      "1/9 [==>...........................] - ETA: 0s - loss: 0.6236 - accuracy: 0.7000"
     ]
    },
    {
     "name": "stdout",
     "output_type": "stream",
     "text": [
      "\b\b\b\b\b\b\b\b\b\b\b\b\b\b\b\b\b\b\b\b\b\b\b\b\b\b\b\b\b\b\b\b\b\b\b\b\b\b\b\b\b\b\b\b\b\b\b\b\b\b\b\b\b\b\b\b\b\b\b\b\b\b\b\b\b\b\b\b\b\b\b\b\b\b\b\b\b\b\b\b\r",
      "9/9 [==============================] - 0s 5ms/step - loss: 0.6506 - accuracy: 0.6275 - val_loss: 0.6254 - val_accuracy: 0.6889\n"
     ]
    },
    {
     "name": "stdout",
     "output_type": "stream",
     "text": [
      "Epoch 194/400\n"
     ]
    },
    {
     "name": "stdout",
     "output_type": "stream",
     "text": [
      "\r",
      "1/9 [==>...........................] - ETA: 0s - loss: 0.6246 - accuracy: 0.6667"
     ]
    },
    {
     "name": "stdout",
     "output_type": "stream",
     "text": [
      "\b\b\b\b\b\b\b\b\b\b\b\b\b\b\b\b\b\b\b\b\b\b\b\b\b\b\b\b\b\b\b\b\b\b\b\b\b\b\b\b\b\b\b\b\b\b\b\b\b\b\b\b\b\b\b\b\b\b\b\b\b\b\b\b\b\b\b\b\b\b\b\b\b\b\b\b\b\b\b\b\r",
      "9/9 [==============================] - 0s 4ms/step - loss: 0.6506 - accuracy: 0.6275 - val_loss: 0.6250 - val_accuracy: 0.6889\n"
     ]
    },
    {
     "name": "stdout",
     "output_type": "stream",
     "text": [
      "Epoch 195/400\n"
     ]
    },
    {
     "name": "stdout",
     "output_type": "stream",
     "text": [
      "\r",
      "1/9 [==>...........................] - ETA: 0s - loss: 0.6368 - accuracy: 0.6667"
     ]
    },
    {
     "name": "stdout",
     "output_type": "stream",
     "text": [
      "\b\b\b\b\b\b\b\b\b\b\b\b\b\b\b\b\b\b\b\b\b\b\b\b\b\b\b\b\b\b\b\b\b\b\b\b\b\b\b\b\b\b\b\b\b\b\b\b\b\b\b\b\b\b\b\b\b\b\b\b\b\b\b\b\b\b\b\b\b\b\b\b\b\b\b\b\b\b\b\b\r",
      "9/9 [==============================] - 0s 6ms/step - loss: 0.6505 - accuracy: 0.6275 - val_loss: 0.6250 - val_accuracy: 0.6889\n"
     ]
    },
    {
     "name": "stdout",
     "output_type": "stream",
     "text": [
      "Epoch 196/400\n"
     ]
    },
    {
     "name": "stdout",
     "output_type": "stream",
     "text": [
      "\r",
      "1/9 [==>...........................] - ETA: 0s - loss: 0.6932 - accuracy: 0.5333"
     ]
    },
    {
     "name": "stdout",
     "output_type": "stream",
     "text": [
      "\b\b\b\b\b\b\b\b\b\b\b\b\b\b\b\b\b\b\b\b\b\b\b\b\b\b\b\b\b\b\b\b\b\b\b\b\b\b\b\b\b\b\b\b\b\b\b\b\b\b\b\b\b\b\b\b\b\b\b\b\b\b\b\b\b\b\b\b\b\b\b\b\b\b\b\b\b\b\b\b\r",
      "9/9 [==============================] - 0s 6ms/step - loss: 0.6507 - accuracy: 0.6275 - val_loss: 0.6249 - val_accuracy: 0.6889\n"
     ]
    },
    {
     "name": "stdout",
     "output_type": "stream",
     "text": [
      "Epoch 197/400\n"
     ]
    },
    {
     "name": "stdout",
     "output_type": "stream",
     "text": [
      "\r",
      "1/9 [==>...........................] - ETA: 0s - loss: 0.6327 - accuracy: 0.6667"
     ]
    },
    {
     "name": "stdout",
     "output_type": "stream",
     "text": [
      "\b\b\b\b\b\b\b\b\b\b\b\b\b\b\b\b\b\b\b\b\b\b\b\b\b\b\b\b\b\b\b\b\b\b\b\b\b\b\b\b\b\b\b\b\b\b\b\b\b\b\b\b\b\b\b\b\b\b\b\b\b\b\b\b\b\b\b\b\b\b\b\b\b\b\b\b\b\b\b\b\r",
      "9/9 [==============================] - 0s 6ms/step - loss: 0.6505 - accuracy: 0.6275 - val_loss: 0.6248 - val_accuracy: 0.6889\n"
     ]
    },
    {
     "name": "stdout",
     "output_type": "stream",
     "text": [
      "Epoch 198/400\n"
     ]
    },
    {
     "name": "stdout",
     "output_type": "stream",
     "text": [
      "\r",
      "1/9 [==>...........................] - ETA: 0s - loss: 0.6064 - accuracy: 0.7000"
     ]
    },
    {
     "name": "stdout",
     "output_type": "stream",
     "text": [
      "\b\b\b\b\b\b\b\b\b\b\b\b\b\b\b\b\b\b\b\b\b\b\b\b\b\b\b\b\b\b\b\b\b\b\b\b\b\b\b\b\b\b\b\b\b\b\b\b\b\b\b\b\b\b\b\b\b\b\b\b\b\b\b\b\b\b\b\b\b\b\b\b\b\b\b\b\b\b\b\b\r",
      "9/9 [==============================] - 0s 6ms/step - loss: 0.6507 - accuracy: 0.6275 - val_loss: 0.6244 - val_accuracy: 0.6889\n"
     ]
    },
    {
     "name": "stdout",
     "output_type": "stream",
     "text": [
      "Epoch 199/400\n"
     ]
    },
    {
     "name": "stdout",
     "output_type": "stream",
     "text": [
      "\r",
      "1/9 [==>...........................] - ETA: 0s - loss: 0.6847 - accuracy: 0.5667"
     ]
    },
    {
     "name": "stdout",
     "output_type": "stream",
     "text": [
      "\b\b\b\b\b\b\b\b\b\b\b\b\b\b\b\b\b\b\b\b\b\b\b\b\b\b\b\b\b\b\b\b\b\b\b\b\b\b\b\b\b\b\b\b\b\b\b\b\b\b\b\b\b\b\b\b\b\b\b\b\b\b\b\b\b\b\b\b\b\b\b\b\b\b\b\b\b\b\b\b\r",
      "9/9 [==============================] - 0s 6ms/step - loss: 0.6506 - accuracy: 0.6275 - val_loss: 0.6243 - val_accuracy: 0.6889\n"
     ]
    },
    {
     "name": "stdout",
     "output_type": "stream",
     "text": [
      "Epoch 200/400\n"
     ]
    },
    {
     "name": "stdout",
     "output_type": "stream",
     "text": [
      "\r",
      "1/9 [==>...........................] - ETA: 0s - loss: 0.6297 - accuracy: 0.6667"
     ]
    },
    {
     "name": "stdout",
     "output_type": "stream",
     "text": [
      "\b\b\b\b\b\b\b\b\b\b\b\b\b\b\b\b\b\b\b\b\b\b\b\b\b\b\b\b\b\b\b\b\b\b\b\b\b\b\b\b\b\b\b\b\b\b\b\b\b\b\b\b\b\b\b\b\b\b\b\b\b\b\b\b\b\b\b\b\b\b\b\b\b\b\b\b\b\b\b\b\r",
      "9/9 [==============================] - 0s 6ms/step - loss: 0.6506 - accuracy: 0.6275 - val_loss: 0.6243 - val_accuracy: 0.6889\n"
     ]
    },
    {
     "name": "stdout",
     "output_type": "stream",
     "text": [
      "Epoch 201/400\n"
     ]
    },
    {
     "name": "stdout",
     "output_type": "stream",
     "text": [
      "\r",
      "1/9 [==>...........................] - ETA: 0s - loss: 0.6241 - accuracy: 0.7000"
     ]
    },
    {
     "name": "stdout",
     "output_type": "stream",
     "text": [
      "\b\b\b\b\b\b\b\b\b\b\b\b\b\b\b\b\b\b\b\b\b\b\b\b\b\b\b\b\b\b\b\b\b\b\b\b\b\b\b\b\b\b\b\b\b\b\b\b\b\b\b\b\b\b\b\b\b\b\b\b\b\b\b\b\b\b\b\b\b\b\b\b\b\b\b\b\b\b\b\b\r",
      "9/9 [==============================] - 0s 10ms/step - loss: 0.6506 - accuracy: 0.6275 - val_loss: 0.6246 - val_accuracy: 0.6889\n"
     ]
    },
    {
     "name": "stdout",
     "output_type": "stream",
     "text": [
      "Epoch 202/400\n"
     ]
    },
    {
     "name": "stdout",
     "output_type": "stream",
     "text": [
      "\r",
      "1/9 [==>...........................] - ETA: 0s - loss: 0.6720 - accuracy: 0.6000"
     ]
    },
    {
     "name": "stdout",
     "output_type": "stream",
     "text": [
      "\b\b\b\b\b\b\b\b\b\b\b\b\b\b\b\b\b\b\b\b\b\b\b\b\b\b\b\b\b\b\b\b\b\b\b\b\b\b\b\b\b\b\b\b\b\b\b\b\b\b\b\b\b\b\b\b\b\b\b\b\b\b\b\b\b\b\b\b\b\b\b\b\b\b\b\b\b\b\b\b\r",
      "9/9 [==============================] - 0s 11ms/step - loss: 0.6505 - accuracy: 0.6275 - val_loss: 0.6244 - val_accuracy: 0.6889\n"
     ]
    },
    {
     "name": "stdout",
     "output_type": "stream",
     "text": [
      "Epoch 203/400\n"
     ]
    },
    {
     "name": "stdout",
     "output_type": "stream",
     "text": [
      "\r",
      "1/9 [==>...........................] - ETA: 0s - loss: 0.6379 - accuracy: 0.6667"
     ]
    },
    {
     "name": "stdout",
     "output_type": "stream",
     "text": [
      "\b\b\b\b\b\b\b\b\b\b\b\b\b\b\b\b\b\b\b\b\b\b\b\b\b\b\b\b\b\b\b\b\b\b\b\b\b\b\b\b\b\b\b\b\b\b\b\b\b\b\b\b\b\b\b\b\b\b\b\b\b\b\b\b\b\b\b\b\b\b\b\b\b\b\b\b\b\b\b\b\r",
      "9/9 [==============================] - 0s 10ms/step - loss: 0.6507 - accuracy: 0.6275 - val_loss: 0.6244 - val_accuracy: 0.6889\n"
     ]
    },
    {
     "name": "stdout",
     "output_type": "stream",
     "text": [
      "Epoch 204/400\n"
     ]
    },
    {
     "name": "stdout",
     "output_type": "stream",
     "text": [
      "\r",
      "1/9 [==>...........................] - ETA: 0s - loss: 0.6364 - accuracy: 0.6333"
     ]
    },
    {
     "name": "stdout",
     "output_type": "stream",
     "text": [
      "\b\b\b\b\b\b\b\b\b\b\b\b\b\b\b\b\b\b\b\b\b\b\b\b\b\b\b\b\b\b\b\b\b\b\b\b\b\b\b\b\b\b\b\b\b\b\b\b\b\b\b\b\b\b\b\b\b\b\b\b\b\b\b\b\b\b\b\b\b\b\b\b\b\b\b\b\b\b\b\b\r",
      "9/9 [==============================] - 0s 10ms/step - loss: 0.6505 - accuracy: 0.6275 - val_loss: 0.6245 - val_accuracy: 0.6889\n"
     ]
    },
    {
     "name": "stdout",
     "output_type": "stream",
     "text": [
      "Epoch 205/400\n"
     ]
    },
    {
     "name": "stdout",
     "output_type": "stream",
     "text": [
      "\r",
      "1/9 [==>...........................] - ETA: 0s - loss: 0.7316 - accuracy: 0.4333"
     ]
    },
    {
     "name": "stdout",
     "output_type": "stream",
     "text": [
      "\b\b\b\b\b\b\b\b\b\b\b\b\b\b\b\b\b\b\b\b\b\b\b\b\b\b\b\b\b\b\b\b\b\b\b\b\b\b\b\b\b\b\b\b\b\b\b\b\b\b\b\b\b\b\b\b\b\b\b\b\b\b\b\b\b\b\b\b\b\b\b\b\b\b\b\b\b\b\b\b\r",
      "9/9 [==============================] - 0s 10ms/step - loss: 0.6506 - accuracy: 0.6275 - val_loss: 0.6244 - val_accuracy: 0.6889\n"
     ]
    },
    {
     "name": "stdout",
     "output_type": "stream",
     "text": [
      "Epoch 206/400\n"
     ]
    },
    {
     "name": "stdout",
     "output_type": "stream",
     "text": [
      "\r",
      "1/9 [==>...........................] - ETA: 0s - loss: 0.6705 - accuracy: 0.5667"
     ]
    },
    {
     "name": "stdout",
     "output_type": "stream",
     "text": [
      "\b\b\b\b\b\b\b\b\b\b\b\b\b\b\b\b\b\b\b\b\b\b\b\b\b\b\b\b\b\b\b\b\b\b\b\b\b\b\b\b\b\b\b\b\b\b\b\b\b\b\b\b\b\b\b\b\b\b\b\b\b\b\b\b\b\b\b\b\b\b\b\b\b\b\b\b\b\b\b\b\r",
      "9/9 [==============================] - 0s 11ms/step - loss: 0.6505 - accuracy: 0.6275 - val_loss: 0.6245 - val_accuracy: 0.6889\n"
     ]
    },
    {
     "name": "stdout",
     "output_type": "stream",
     "text": [
      "Epoch 207/400\n"
     ]
    },
    {
     "name": "stdout",
     "output_type": "stream",
     "text": [
      "\r",
      "1/9 [==>...........................] - ETA: 0s - loss: 0.6140 - accuracy: 0.7000"
     ]
    },
    {
     "name": "stdout",
     "output_type": "stream",
     "text": [
      "\b\b\b\b\b\b\b\b\b\b\b\b\b\b\b\b\b\b\b\b\b\b\b\b\b\b\b\b\b\b\b\b\b\b\b\b\b\b\b\b\b\b\b\b\b\b\b\b\b\b\b\b\b\b\b\b\b\b\b\b\b\b\b\b\b\b\b\b\b\b\b\b\b\b\b\b\b\b\b\b\r",
      "9/9 [==============================] - 0s 10ms/step - loss: 0.6506 - accuracy: 0.6275 - val_loss: 0.6242 - val_accuracy: 0.6889\n"
     ]
    },
    {
     "name": "stdout",
     "output_type": "stream",
     "text": [
      "Epoch 208/400\n"
     ]
    },
    {
     "name": "stdout",
     "output_type": "stream",
     "text": [
      "\r",
      "1/9 [==>...........................] - ETA: 0s - loss: 0.6495 - accuracy: 0.6333"
     ]
    },
    {
     "name": "stdout",
     "output_type": "stream",
     "text": [
      "\b\b\b\b\b\b\b\b\b\b\b\b\b\b\b\b\b\b\b\b\b\b\b\b\b\b\b\b\b\b\b\b\b\b\b\b\b\b\b\b\b\b\b\b\b\b\b\b\b\b\b\b\b\b\b\b\b\b\b\b\b\b\b\b\b\b\b\b\b\b\b\b\b\b\b\b\b\b\b\b\r",
      "9/9 [==============================] - 0s 7ms/step - loss: 0.6506 - accuracy: 0.6275 - val_loss: 0.6241 - val_accuracy: 0.6889\n"
     ]
    },
    {
     "name": "stdout",
     "output_type": "stream",
     "text": [
      "Epoch 209/400\n"
     ]
    },
    {
     "name": "stdout",
     "output_type": "stream",
     "text": [
      "\r",
      "1/9 [==>...........................] - ETA: 0s - loss: 0.5684 - accuracy: 0.8000"
     ]
    },
    {
     "name": "stdout",
     "output_type": "stream",
     "text": [
      "\b\b\b\b\b\b\b\b\b\b\b\b\b\b\b\b\b\b\b\b\b\b\b\b\b\b\b\b\b\b\b\b\b\b\b\b\b\b\b\b\b\b\b\b\b\b\b\b\b\b\b\b\b\b\b\b\b\b\b\b\b\b\b\b\b\b\b\b\b\b\b\b\b\b\b\b\b\b\b\b\r",
      "9/9 [==============================] - 0s 6ms/step - loss: 0.6505 - accuracy: 0.6275 - val_loss: 0.6241 - val_accuracy: 0.6889\n"
     ]
    },
    {
     "name": "stdout",
     "output_type": "stream",
     "text": [
      "Epoch 210/400\n"
     ]
    },
    {
     "name": "stdout",
     "output_type": "stream",
     "text": [
      "\r",
      "1/9 [==>...........................] - ETA: 0s - loss: 0.6723 - accuracy: 0.6000"
     ]
    },
    {
     "name": "stdout",
     "output_type": "stream",
     "text": [
      "\b\b\b\b\b\b\b\b\b\b\b\b\b\b\b\b\b\b\b\b\b\b\b\b\b\b\b\b\b\b\b\b\b\b\b\b\b\b\b\b\b\b\b\b\b\b\b\b\b\b\b\b\b\b\b\b\b\b\b\b\b\b\b\b\b\b\b\b\b\b\b\b\b\b\b\b\b\b\b\b\r",
      "9/9 [==============================] - 0s 5ms/step - loss: 0.6505 - accuracy: 0.6275 - val_loss: 0.6242 - val_accuracy: 0.6889\n"
     ]
    },
    {
     "name": "stdout",
     "output_type": "stream",
     "text": [
      "Epoch 211/400\n"
     ]
    },
    {
     "name": "stdout",
     "output_type": "stream",
     "text": [
      "\r",
      "1/9 [==>...........................] - ETA: 0s - loss: 0.6342 - accuracy: 0.6667"
     ]
    },
    {
     "name": "stdout",
     "output_type": "stream",
     "text": [
      "\b\b\b\b\b\b\b\b\b\b\b\b\b\b\b\b\b\b\b\b\b\b\b\b\b\b\b\b\b\b\b\b\b\b\b\b\b\b\b\b\b\b\b\b\b\b\b\b\b\b\b\b\b\b\b\b\b\b\b\b\b\b\b\b\b\b\b\b\b\b\b\b\b\b\b\b\b\b\b\b\r",
      "9/9 [==============================] - 0s 6ms/step - loss: 0.6505 - accuracy: 0.6275 - val_loss: 0.6243 - val_accuracy: 0.6889\n"
     ]
    },
    {
     "name": "stdout",
     "output_type": "stream",
     "text": [
      "Epoch 212/400\n"
     ]
    },
    {
     "name": "stdout",
     "output_type": "stream",
     "text": [
      "\r",
      "1/9 [==>...........................] - ETA: 0s - loss: 0.6613 - accuracy: 0.6000"
     ]
    },
    {
     "name": "stdout",
     "output_type": "stream",
     "text": [
      "\b\b\b\b\b\b\b\b\b\b\b\b\b\b\b\b\b\b\b\b\b\b\b\b\b\b\b\b\b\b\b\b\b\b\b\b\b\b\b\b\b\b\b\b\b\b\b\b\b\b\b\b\b\b\b\b\b\b\b\b\b\b\b\b\b\b\b\b\b\b\b\b\b\b\b\b\b\b\b\b\r",
      "9/9 [==============================] - 0s 6ms/step - loss: 0.6505 - accuracy: 0.6275 - val_loss: 0.6243 - val_accuracy: 0.6889\n"
     ]
    },
    {
     "name": "stdout",
     "output_type": "stream",
     "text": [
      "Epoch 213/400\n"
     ]
    },
    {
     "name": "stdout",
     "output_type": "stream",
     "text": [
      "\r",
      "1/9 [==>...........................] - ETA: 0s - loss: 0.6728 - accuracy: 0.5667"
     ]
    },
    {
     "name": "stdout",
     "output_type": "stream",
     "text": [
      "\b\b\b\b\b\b\b\b\b\b\b\b\b\b\b\b\b\b\b\b\b\b\b\b\b\b\b\b\b\b\b\b\b\b\b\b\b\b\b\b\b\b\b\b\b\b\b\b\b\b\b\b\b\b\b\b\b\b\b\b\b\b\b\b\b\b\b\b\b\b\b\b\b\b\b\b\b\b\b\b\r",
      "9/9 [==============================] - 0s 6ms/step - loss: 0.6505 - accuracy: 0.6275 - val_loss: 0.6241 - val_accuracy: 0.6889\n"
     ]
    },
    {
     "name": "stdout",
     "output_type": "stream",
     "text": [
      "Epoch 214/400\n"
     ]
    },
    {
     "name": "stdout",
     "output_type": "stream",
     "text": [
      "\r",
      "1/9 [==>...........................] - ETA: 0s - loss: 0.7353 - accuracy: 0.4333"
     ]
    },
    {
     "name": "stdout",
     "output_type": "stream",
     "text": [
      "\b\b\b\b\b\b\b\b\b\b\b\b\b\b\b\b\b\b\b\b\b\b\b\b\b\b\b\b\b\b\b\b\b\b\b\b\b\b\b\b\b\b\b\b\b\b\b\b\b\b\b\b\b\b\b\b\b\b\b\b\b\b\b\b\b\b\b\b\b\b\b\b\b\b\b\b\b\b\b\b\r",
      "9/9 [==============================] - 0s 5ms/step - loss: 0.6508 - accuracy: 0.6275 - val_loss: 0.6242 - val_accuracy: 0.6889\n"
     ]
    },
    {
     "name": "stdout",
     "output_type": "stream",
     "text": [
      "Epoch 215/400\n"
     ]
    },
    {
     "name": "stdout",
     "output_type": "stream",
     "text": [
      "\r",
      "1/9 [==>...........................] - ETA: 0s - loss: 0.6271 - accuracy: 0.7000"
     ]
    },
    {
     "name": "stdout",
     "output_type": "stream",
     "text": [
      "\b\b\b\b\b\b\b\b\b\b\b\b\b\b\b\b\b\b\b\b\b\b\b\b\b\b\b\b\b\b\b\b\b\b\b\b\b\b\b\b\b\b\b\b\b\b\b\b\b\b\b\b\b\b\b\b\b\b\b\b\b\b\b\b\b\b\b\b\b\b\b\b\b\b\b\b\b\b\b\b\r",
      "9/9 [==============================] - 0s 5ms/step - loss: 0.6504 - accuracy: 0.6275 - val_loss: 0.6243 - val_accuracy: 0.6889\n"
     ]
    },
    {
     "name": "stdout",
     "output_type": "stream",
     "text": [
      "Epoch 216/400\n"
     ]
    },
    {
     "name": "stdout",
     "output_type": "stream",
     "text": [
      "\r",
      "1/9 [==>...........................] - ETA: 0s - loss: 0.5892 - accuracy: 0.7333"
     ]
    },
    {
     "name": "stdout",
     "output_type": "stream",
     "text": [
      "\b\b\b\b\b\b\b\b\b\b\b\b\b\b\b\b\b\b\b\b\b\b\b\b\b\b\b\b\b\b\b\b\b\b\b\b\b\b\b\b\b\b\b\b\b\b\b\b\b\b\b\b\b\b\b\b\b\b\b\b\b\b\b\b\b\b\b\b\b\b\b\b\b\b\b\b\b\b\b\b\r",
      "9/9 [==============================] - 0s 5ms/step - loss: 0.6505 - accuracy: 0.6275 - val_loss: 0.6242 - val_accuracy: 0.6889\n"
     ]
    },
    {
     "name": "stdout",
     "output_type": "stream",
     "text": [
      "Epoch 217/400\n"
     ]
    },
    {
     "name": "stdout",
     "output_type": "stream",
     "text": [
      "\r",
      "1/9 [==>...........................] - ETA: 0s - loss: 0.6123 - accuracy: 0.7333"
     ]
    },
    {
     "name": "stdout",
     "output_type": "stream",
     "text": [
      "\b\b\b\b\b\b\b\b\b\b\b\b\b\b\b\b\b\b\b\b\b\b\b\b\b\b\b\b\b\b\b\b\b\b\b\b\b\b\b\b\b\b\b\b\b\b\b\b\b\b\b\b\b\b\b\b\b\b\b\b\b\b\b\b\b\b\b\b\b\b\b\b\b\b\b\b\b\b\b\b\r",
      "9/9 [==============================] - 0s 5ms/step - loss: 0.6508 - accuracy: 0.6275 - val_loss: 0.6243 - val_accuracy: 0.6889\n"
     ]
    },
    {
     "name": "stdout",
     "output_type": "stream",
     "text": [
      "Epoch 218/400\n"
     ]
    },
    {
     "name": "stdout",
     "output_type": "stream",
     "text": [
      "\r",
      "1/9 [==>...........................] - ETA: 0s - loss: 0.6014 - accuracy: 0.7333"
     ]
    },
    {
     "name": "stdout",
     "output_type": "stream",
     "text": [
      "\b\b\b\b\b\b\b\b\b\b\b\b\b\b\b\b\b\b\b\b\b\b\b\b\b\b\b\b\b\b\b\b\b\b\b\b\b\b\b\b\b\b\b\b\b\b\b\b\b\b\b\b\b\b\b\b\b\b\b\b\b\b\b\b\b\b\b\b\b\b\b\b\b\b\b\b\b\b\b\b\r",
      "9/9 [==============================] - 0s 5ms/step - loss: 0.6506 - accuracy: 0.6275 - val_loss: 0.6244 - val_accuracy: 0.6889\n"
     ]
    },
    {
     "name": "stdout",
     "output_type": "stream",
     "text": [
      "Epoch 219/400\n"
     ]
    },
    {
     "name": "stdout",
     "output_type": "stream",
     "text": [
      "\r",
      "1/9 [==>...........................] - ETA: 0s - loss: 0.6085 - accuracy: 0.7000"
     ]
    },
    {
     "name": "stdout",
     "output_type": "stream",
     "text": [
      "\b\b\b\b\b\b\b\b\b\b\b\b\b\b\b\b\b\b\b\b\b\b\b\b\b\b\b\b\b\b\b\b\b\b\b\b\b\b\b\b\b\b\b\b\b\b\b\b\b\b\b\b\b\b\b\b\b\b\b\b\b\b\b\b\b\b\b\b\b\b\b\b\b\b\b\b\b\b\b\b\r",
      "9/9 [==============================] - 0s 7ms/step - loss: 0.6506 - accuracy: 0.6275 - val_loss: 0.6243 - val_accuracy: 0.6889\n"
     ]
    },
    {
     "name": "stdout",
     "output_type": "stream",
     "text": [
      "Epoch 220/400\n"
     ]
    },
    {
     "name": "stdout",
     "output_type": "stream",
     "text": [
      "\r",
      "1/9 [==>...........................] - ETA: 0s - loss: 0.7095 - accuracy: 0.5000"
     ]
    },
    {
     "name": "stdout",
     "output_type": "stream",
     "text": [
      "\b\b\b\b\b\b\b\b\b\b\b\b\b\b\b\b\b\b\b\b\b\b\b\b\b\b\b\b\b\b\b\b\b\b\b\b\b\b\b\b\b\b\b\b\b\b\b\b\b\b\b\b\b\b\b\b\b\b\b\b\b\b\b\b\b\b\b\b\b\b\b\b\b\b\b\b\b\b\b\b\r",
      "9/9 [==============================] - 0s 7ms/step - loss: 0.6505 - accuracy: 0.6275 - val_loss: 0.6244 - val_accuracy: 0.6889\n"
     ]
    },
    {
     "name": "stdout",
     "output_type": "stream",
     "text": [
      "Epoch 221/400\n"
     ]
    },
    {
     "name": "stdout",
     "output_type": "stream",
     "text": [
      "\r",
      "1/9 [==>...........................] - ETA: 0s - loss: 0.6711 - accuracy: 0.5667"
     ]
    },
    {
     "name": "stdout",
     "output_type": "stream",
     "text": [
      "\b\b\b\b\b\b\b\b\b\b\b\b\b\b\b\b\b\b\b\b\b\b\b\b\b\b\b\b\b\b\b\b\b\b\b\b\b\b\b\b\b\b\b\b\b\b\b\b\b\b\b\b\b\b\b\b\b\b\b\b\b\b\b\b\b\b\b\b\b\b\b\b\b\b\b\b\b\b\b\b\r",
      "9/9 [==============================] - 0s 8ms/step - loss: 0.6506 - accuracy: 0.6275 - val_loss: 0.6241 - val_accuracy: 0.6889\n"
     ]
    },
    {
     "name": "stdout",
     "output_type": "stream",
     "text": [
      "Epoch 222/400\n"
     ]
    },
    {
     "name": "stdout",
     "output_type": "stream",
     "text": [
      "\r",
      "1/9 [==>...........................] - ETA: 0s - loss: 0.7025 - accuracy: 0.5333"
     ]
    },
    {
     "name": "stdout",
     "output_type": "stream",
     "text": [
      "\b\b\b\b\b\b\b\b\b\b\b\b\b\b\b\b\b\b\b\b\b\b\b\b\b\b\b\b\b\b\b\b\b\b\b\b\b\b\b\b\b\b\b\b\b\b\b\b\b\b\b\b\b\b\b\b\b\b\b\b\b\b\b\b\b\b\b\b\b\b\b\b\b\b\b\b\b\b\b\b\r",
      "9/9 [==============================] - 0s 10ms/step - loss: 0.6504 - accuracy: 0.6275 - val_loss: 0.6242 - val_accuracy: 0.6889\n"
     ]
    },
    {
     "name": "stdout",
     "output_type": "stream",
     "text": [
      "Epoch 223/400\n"
     ]
    },
    {
     "name": "stdout",
     "output_type": "stream",
     "text": [
      "\r",
      "1/9 [==>...........................] - ETA: 0s - loss: 0.6725 - accuracy: 0.5667"
     ]
    },
    {
     "name": "stdout",
     "output_type": "stream",
     "text": [
      "\b\b\b\b\b\b\b\b\b\b\b\b\b\b\b\b\b\b\b\b\b\b\b\b\b\b\b\b\b\b\b\b\b\b\b\b\b\b\b\b\b\b\b\b\b\b\b\b\b\b\b\b\b\b\b\b\b\b\b\b\b\b\b\b\b\b\b\b\b\b\b\b\b\b\b\b\b\b\b\b\r",
      "9/9 [==============================] - 0s 10ms/step - loss: 0.6505 - accuracy: 0.6275 - val_loss: 0.6247 - val_accuracy: 0.6889\n"
     ]
    },
    {
     "name": "stdout",
     "output_type": "stream",
     "text": [
      "Epoch 224/400\n"
     ]
    },
    {
     "name": "stdout",
     "output_type": "stream",
     "text": [
      "\r",
      "1/9 [==>...........................] - ETA: 0s - loss: 0.6632 - accuracy: 0.6000"
     ]
    },
    {
     "name": "stdout",
     "output_type": "stream",
     "text": [
      "\b\b\b\b\b\b\b\b\b\b\b\b\b\b\b\b\b\b\b\b\b\b\b\b\b\b\b\b\b\b\b\b\b\b\b\b\b\b\b\b\b\b\b\b\b\b\b\b\b\b\b\b\b\b\b\b\b\b\b\b\b\b\b\b\b\b\b\b\b\b\b\b\b\b\b\b\b\b\b\b\r",
      "9/9 [==============================] - 0s 7ms/step - loss: 0.6505 - accuracy: 0.6275 - val_loss: 0.6243 - val_accuracy: 0.6889\n"
     ]
    },
    {
     "name": "stdout",
     "output_type": "stream",
     "text": [
      "Epoch 225/400\n"
     ]
    },
    {
     "name": "stdout",
     "output_type": "stream",
     "text": [
      "\r",
      "1/9 [==>...........................] - ETA: 0s - loss: 0.6151 - accuracy: 0.6667"
     ]
    },
    {
     "name": "stdout",
     "output_type": "stream",
     "text": [
      "\b\b\b\b\b\b\b\b\b\b\b\b\b\b\b\b\b\b\b\b\b\b\b\b\b\b\b\b\b\b\b\b\b\b\b\b\b\b\b\b\b\b\b\b\b\b\b\b\b\b\b\b\b\b\b\b\b\b\b\b\b\b\b\b\b\b\b\b\b\b\b\b\b\b\b\b\b\b\b\b\r",
      "9/9 [==============================] - 0s 6ms/step - loss: 0.6506 - accuracy: 0.6275 - val_loss: 0.6241 - val_accuracy: 0.6889\n"
     ]
    },
    {
     "name": "stdout",
     "output_type": "stream",
     "text": [
      "Epoch 226/400\n"
     ]
    },
    {
     "name": "stdout",
     "output_type": "stream",
     "text": [
      "\r",
      "1/9 [==>...........................] - ETA: 0s - loss: 0.6227 - accuracy: 0.6667"
     ]
    },
    {
     "name": "stdout",
     "output_type": "stream",
     "text": [
      "\b\b\b\b\b\b\b\b\b\b\b\b\b\b\b\b\b\b\b\b\b\b\b\b\b\b\b\b\b\b\b\b\b\b\b\b\b\b\b\b\b\b\b\b\b\b\b\b\b\b\b\b\b\b\b\b\b\b\b\b\b\b\b\b\b\b\b\b\b\b\b\b\b\b\b\b\b\b\b\b\r",
      "9/9 [==============================] - 0s 6ms/step - loss: 0.6506 - accuracy: 0.6275 - val_loss: 0.6239 - val_accuracy: 0.6889\n"
     ]
    },
    {
     "name": "stdout",
     "output_type": "stream",
     "text": [
      "Epoch 227/400\n"
     ]
    },
    {
     "name": "stdout",
     "output_type": "stream",
     "text": [
      "\r",
      "1/9 [==>...........................] - ETA: 0s - loss: 0.6469 - accuracy: 0.6333"
     ]
    },
    {
     "name": "stdout",
     "output_type": "stream",
     "text": [
      "\b\b\b\b\b\b\b\b\b\b\b\b\b\b\b\b\b\b\b\b\b\b\b\b\b\b\b\b\b\b\b\b\b\b\b\b\b\b\b\b\b\b\b\b\b\b\b\b\b\b\b\b\b\b\b\b\b\b\b\b\b\b\b\b\b\b\b\b\b\b\b\b\b\b\b\b\b\b\b\b\r",
      "9/9 [==============================] - 0s 6ms/step - loss: 0.6505 - accuracy: 0.6275 - val_loss: 0.6239 - val_accuracy: 0.6889\n"
     ]
    },
    {
     "name": "stdout",
     "output_type": "stream",
     "text": [
      "Epoch 228/400\n"
     ]
    },
    {
     "name": "stdout",
     "output_type": "stream",
     "text": [
      "\r",
      "1/9 [==>...........................] - ETA: 0s - loss: 0.6035 - accuracy: 0.7333"
     ]
    },
    {
     "name": "stdout",
     "output_type": "stream",
     "text": [
      "\b\b\b\b\b\b\b\b\b\b\b\b\b\b\b\b\b\b\b\b\b\b\b\b\b\b\b\b\b\b\b\b\b\b\b\b\b\b\b\b\b\b\b\b\b\b\b\b\b\b\b\b\b\b\b\b\b\b\b\b\b\b\b\b\b\b\b\b\b\b\b\b\b\b\b\b\b\b\b\b\r",
      "9/9 [==============================] - 0s 5ms/step - loss: 0.6505 - accuracy: 0.6275 - val_loss: 0.6237 - val_accuracy: 0.6889\n"
     ]
    },
    {
     "name": "stdout",
     "output_type": "stream",
     "text": [
      "Epoch 229/400\n"
     ]
    },
    {
     "name": "stdout",
     "output_type": "stream",
     "text": [
      "\r",
      "1/9 [==>...........................] - ETA: 0s - loss: 0.6292 - accuracy: 0.6667"
     ]
    },
    {
     "name": "stdout",
     "output_type": "stream",
     "text": [
      "\b\b\b\b\b\b\b\b\b\b\b\b\b\b\b\b\b\b\b\b\b\b\b\b\b\b\b\b\b\b\b\b\b\b\b\b\b\b\b\b\b\b\b\b\b\b\b\b\b\b\b\b\b\b\b\b\b\b\b\b\b\b\b\b\b\b\b\b\b\b\b\b\b\b\b\b\b\b\b\b\r",
      "9/9 [==============================] - 0s 5ms/step - loss: 0.6504 - accuracy: 0.6275 - val_loss: 0.6238 - val_accuracy: 0.6889\n"
     ]
    },
    {
     "name": "stdout",
     "output_type": "stream",
     "text": [
      "Epoch 230/400\n"
     ]
    },
    {
     "name": "stdout",
     "output_type": "stream",
     "text": [
      "\r",
      "1/9 [==>...........................] - ETA: 0s - loss: 0.6397 - accuracy: 0.6667"
     ]
    },
    {
     "name": "stdout",
     "output_type": "stream",
     "text": [
      "\b\b\b\b\b\b\b\b\b\b\b\b\b\b\b\b\b\b\b\b\b\b\b\b\b\b\b\b\b\b\b\b\b\b\b\b\b\b\b\b\b\b\b\b\b\b\b\b\b\b\b\b\b\b\b\b\b\b\b\b\b\b\b\b\b\b\b\b\b\b\b\b\b\b\b\b\b\b\b\b\r",
      "9/9 [==============================] - 0s 5ms/step - loss: 0.6504 - accuracy: 0.6275 - val_loss: 0.6236 - val_accuracy: 0.6889\n"
     ]
    },
    {
     "name": "stdout",
     "output_type": "stream",
     "text": [
      "Epoch 231/400\n"
     ]
    },
    {
     "name": "stdout",
     "output_type": "stream",
     "text": [
      "\r",
      "1/9 [==>...........................] - ETA: 0s - loss: 0.6368 - accuracy: 0.6667"
     ]
    },
    {
     "name": "stdout",
     "output_type": "stream",
     "text": [
      "\b\b\b\b\b\b\b\b\b\b\b\b\b\b\b\b\b\b\b\b\b\b\b\b\b\b\b\b\b\b\b\b\b\b\b\b\b\b\b\b\b\b\b\b\b\b\b\b\b\b\b\b\b\b\b\b\b\b\b\b\b\b\b\b\b\b\b\b\b\b\b\b\b\b\b\b\b\b\b\b\r",
      "9/9 [==============================] - 0s 5ms/step - loss: 0.6504 - accuracy: 0.6275 - val_loss: 0.6239 - val_accuracy: 0.6889\n"
     ]
    },
    {
     "name": "stdout",
     "output_type": "stream",
     "text": [
      "Epoch 232/400\n"
     ]
    },
    {
     "name": "stdout",
     "output_type": "stream",
     "text": [
      "\r",
      "1/9 [==>...........................] - ETA: 0s - loss: 0.6253 - accuracy: 0.6667"
     ]
    },
    {
     "name": "stdout",
     "output_type": "stream",
     "text": [
      "\b\b\b\b\b\b\b\b\b\b\b\b\b\b\b\b\b\b\b\b\b\b\b\b\b\b\b\b\b\b\b\b\b\b\b\b\b\b\b\b\b\b\b\b\b\b\b\b\b\b\b\b\b\b\b\b\b\b\b\b\b\b\b\b\b\b\b\b\b\b\b\b\b\b\b\b\b\b\b\b\r",
      "9/9 [==============================] - 0s 5ms/step - loss: 0.6506 - accuracy: 0.6275 - val_loss: 0.6242 - val_accuracy: 0.6889\n"
     ]
    },
    {
     "name": "stdout",
     "output_type": "stream",
     "text": [
      "Epoch 233/400\n"
     ]
    },
    {
     "name": "stdout",
     "output_type": "stream",
     "text": [
      "\r",
      "1/9 [==>...........................] - ETA: 0s - loss: 0.6509 - accuracy: 0.6000"
     ]
    },
    {
     "name": "stdout",
     "output_type": "stream",
     "text": [
      "\b\b\b\b\b\b\b\b\b\b\b\b\b\b\b\b\b\b\b\b\b\b\b\b\b\b\b\b\b\b\b\b\b\b\b\b\b\b\b\b\b\b\b\b\b\b\b\b\b\b\b\b\b\b\b\b\b\b\b\b\b\b\b\b\b\b\b\b\b\b\b\b\b\b\b\b\b\b\b\b\r",
      "9/9 [==============================] - 0s 5ms/step - loss: 0.6505 - accuracy: 0.6275 - val_loss: 0.6241 - val_accuracy: 0.6889\n"
     ]
    },
    {
     "name": "stdout",
     "output_type": "stream",
     "text": [
      "Epoch 234/400\n"
     ]
    },
    {
     "name": "stdout",
     "output_type": "stream",
     "text": [
      "\r",
      "1/9 [==>...........................] - ETA: 0s - loss: 0.6129 - accuracy: 0.7000"
     ]
    },
    {
     "name": "stdout",
     "output_type": "stream",
     "text": [
      "\b\b\b\b\b\b\b\b\b\b\b\b\b\b\b\b\b\b\b\b\b\b\b\b\b\b\b\b\b\b\b\b\b\b\b\b\b\b\b\b\b\b\b\b\b\b\b\b\b\b\b\b\b\b\b\b\b\b\b\b\b\b\b\b\b\b\b\b\b\b\b\b\b\b\b\b\b\b\b\b\r",
      "9/9 [==============================] - 0s 5ms/step - loss: 0.6505 - accuracy: 0.6275 - val_loss: 0.6241 - val_accuracy: 0.6889\n"
     ]
    },
    {
     "name": "stdout",
     "output_type": "stream",
     "text": [
      "Epoch 235/400\n"
     ]
    },
    {
     "name": "stdout",
     "output_type": "stream",
     "text": [
      "\r",
      "1/9 [==>...........................] - ETA: 0s - loss: 0.6423 - accuracy: 0.6333"
     ]
    },
    {
     "name": "stdout",
     "output_type": "stream",
     "text": [
      "\b\b\b\b\b\b\b\b\b\b\b\b\b\b\b\b\b\b\b\b\b\b\b\b\b\b\b\b\b\b\b\b\b\b\b\b\b\b\b\b\b\b\b\b\b\b\b\b\b\b\b\b\b\b\b\b\b\b\b\b\b\b\b\b\b\b\b\b\b\b\b\b\b\b\b\b\b\b\b\b\r",
      "9/9 [==============================] - 0s 5ms/step - loss: 0.6505 - accuracy: 0.6275 - val_loss: 0.6242 - val_accuracy: 0.6889\n"
     ]
    },
    {
     "name": "stdout",
     "output_type": "stream",
     "text": [
      "Epoch 236/400\n"
     ]
    },
    {
     "name": "stdout",
     "output_type": "stream",
     "text": [
      "\r",
      "1/9 [==>...........................] - ETA: 0s - loss: 0.7229 - accuracy: 0.4667"
     ]
    },
    {
     "name": "stdout",
     "output_type": "stream",
     "text": [
      "\b\b\b\b\b\b\b\b\b\b\b\b\b\b\b\b\b\b\b\b\b\b\b\b\b\b\b\b\b\b\b\b\b\b\b\b\b\b\b\b\b\b\b\b\b\b\b\b\b\b\b\b\b\b\b\b\b\b\b\b\b\b\b\b\b\b\b\b\b\b\b\b\b\b\b\b\b\b\b\b\r",
      "9/9 [==============================] - 0s 5ms/step - loss: 0.6504 - accuracy: 0.6275 - val_loss: 0.6240 - val_accuracy: 0.6889\n"
     ]
    },
    {
     "name": "stdout",
     "output_type": "stream",
     "text": [
      "Epoch 237/400\n"
     ]
    },
    {
     "name": "stdout",
     "output_type": "stream",
     "text": [
      "\r",
      "1/9 [==>...........................] - ETA: 0s - loss: 0.6835 - accuracy: 0.5667"
     ]
    },
    {
     "name": "stdout",
     "output_type": "stream",
     "text": [
      "\b\b\b\b\b\b\b\b\b\b\b\b\b\b\b\b\b\b\b\b\b\b\b\b\b\b\b\b\b\b\b\b\b\b\b\b\b\b\b\b\b\b\b\b\b\b\b\b\b\b\b\b\b\b\b\b\b\b\b\b\b\b\b\b\b\b\b\b\b\b\b\b\b\b\b\b\b\b\b\b\r",
      "9/9 [==============================] - 0s 5ms/step - loss: 0.6504 - accuracy: 0.6275 - val_loss: 0.6237 - val_accuracy: 0.6889\n"
     ]
    },
    {
     "name": "stdout",
     "output_type": "stream",
     "text": [
      "Epoch 238/400\n"
     ]
    },
    {
     "name": "stdout",
     "output_type": "stream",
     "text": [
      "\r",
      "1/9 [==>...........................] - ETA: 0s - loss: 0.6177 - accuracy: 0.7000"
     ]
    },
    {
     "name": "stdout",
     "output_type": "stream",
     "text": [
      "\b\b\b\b\b\b\b\b\b\b\b\b\b\b\b\b\b\b\b\b\b\b\b\b\b\b\b\b\b\b\b\b\b\b\b\b\b\b\b\b\b\b\b\b\b\b\b\b\b\b\b\b\b\b\b\b\b\b\b\b\b\b\b\b\b\b\b\b\b\b\b\b\b\b\b\b\b\b\b\b\r",
      "9/9 [==============================] - 0s 5ms/step - loss: 0.6505 - accuracy: 0.6275 - val_loss: 0.6238 - val_accuracy: 0.6889\n"
     ]
    },
    {
     "name": "stdout",
     "output_type": "stream",
     "text": [
      "Epoch 239/400\n"
     ]
    },
    {
     "name": "stdout",
     "output_type": "stream",
     "text": [
      "\r",
      "1/9 [==>...........................] - ETA: 0s - loss: 0.7058 - accuracy: 0.5000"
     ]
    },
    {
     "name": "stdout",
     "output_type": "stream",
     "text": [
      "\b\b\b\b\b\b\b\b\b\b\b\b\b\b\b\b\b\b\b\b\b\b\b\b\b\b\b\b\b\b\b\b\b\b\b\b\b\b\b\b\b\b\b\b\b\b\b\b\b\b\b\b\b\b\b\b\b\b\b\b\b\b\b\b\b\b\b\b\b\b\b\b\b\b\b\b\b\b\b\b\r",
      "9/9 [==============================] - 0s 5ms/step - loss: 0.6505 - accuracy: 0.6275 - val_loss: 0.6235 - val_accuracy: 0.6889\n"
     ]
    },
    {
     "name": "stdout",
     "output_type": "stream",
     "text": [
      "Epoch 240/400\n"
     ]
    },
    {
     "name": "stdout",
     "output_type": "stream",
     "text": [
      "\r",
      "1/9 [==>...........................] - ETA: 0s - loss: 0.6084 - accuracy: 0.7000"
     ]
    },
    {
     "name": "stdout",
     "output_type": "stream",
     "text": [
      "\b\b\b\b\b\b\b\b\b\b\b\b\b\b\b\b\b\b\b\b\b\b\b\b\b\b\b\b\b\b\b\b\b\b\b\b\b\b\b\b\b\b\b\b\b\b\b\b\b\b\b\b\b\b\b\b\b\b\b\b\b\b\b\b\b\b\b\b\b\b\b\b\b\b\b\b\b\b\b\b\r",
      "9/9 [==============================] - 0s 6ms/step - loss: 0.6505 - accuracy: 0.6275 - val_loss: 0.6236 - val_accuracy: 0.6889\n"
     ]
    },
    {
     "name": "stdout",
     "output_type": "stream",
     "text": [
      "Epoch 241/400\n"
     ]
    },
    {
     "name": "stdout",
     "output_type": "stream",
     "text": [
      "\r",
      "1/9 [==>...........................] - ETA: 0s - loss: 0.6476 - accuracy: 0.6333"
     ]
    },
    {
     "name": "stdout",
     "output_type": "stream",
     "text": [
      "\b\b\b\b\b\b\b\b\b\b\b\b\b\b\b\b\b\b\b\b\b\b\b\b\b\b\b\b\b\b\b\b\b\b\b\b\b\b\b\b\b\b\b\b\b\b\b\b\b\b\b\b\b\b\b\b\b\b\b\b\b\b\b\b\b\b\b\b\b\b\b\b\b\b\b\b\b\b\b\b\r",
      "9/9 [==============================] - 0s 5ms/step - loss: 0.6504 - accuracy: 0.6275 - val_loss: 0.6238 - val_accuracy: 0.6889\n"
     ]
    },
    {
     "name": "stdout",
     "output_type": "stream",
     "text": [
      "Epoch 242/400\n"
     ]
    },
    {
     "name": "stdout",
     "output_type": "stream",
     "text": [
      "\r",
      "1/9 [==>...........................] - ETA: 0s - loss: 0.6535 - accuracy: 0.6333"
     ]
    },
    {
     "name": "stdout",
     "output_type": "stream",
     "text": [
      "\b\b\b\b\b\b\b\b\b\b\b\b\b\b\b\b\b\b\b\b\b\b\b\b\b\b\b\b\b\b\b\b\b\b\b\b\b\b\b\b\b\b\b\b\b\b\b\b\b\b\b\b\b\b\b\b\b\b\b\b\b\b\b\b\b\b\b\b\b\b\b\b\b\b\b\b\b\b\b\b\r",
      "9/9 [==============================] - 0s 5ms/step - loss: 0.6504 - accuracy: 0.6275 - val_loss: 0.6236 - val_accuracy: 0.6889\n"
     ]
    },
    {
     "name": "stdout",
     "output_type": "stream",
     "text": [
      "Epoch 243/400\n"
     ]
    },
    {
     "name": "stdout",
     "output_type": "stream",
     "text": [
      "\r",
      "1/9 [==>...........................] - ETA: 0s - loss: 0.7368 - accuracy: 0.4333"
     ]
    },
    {
     "name": "stdout",
     "output_type": "stream",
     "text": [
      "\b\b\b\b\b\b\b\b\b\b\b\b\b\b\b\b\b\b\b\b\b\b\b\b\b\b\b\b\b\b\b\b\b\b\b\b\b\b\b\b\b\b\b\b\b\b\b\b\b\b\b\b\b\b\b\b\b\b\b\b\b\b\b\b\b\b\b\b\b\b\b\b\b\b\b\b\b\b\b\b\r",
      "9/9 [==============================] - 0s 6ms/step - loss: 0.6507 - accuracy: 0.6275 - val_loss: 0.6234 - val_accuracy: 0.6889\n"
     ]
    },
    {
     "name": "stdout",
     "output_type": "stream",
     "text": [
      "Epoch 244/400\n"
     ]
    },
    {
     "name": "stdout",
     "output_type": "stream",
     "text": [
      "\r",
      "1/9 [==>...........................] - ETA: 0s - loss: 0.6111 - accuracy: 0.7000"
     ]
    },
    {
     "name": "stdout",
     "output_type": "stream",
     "text": [
      "\b\b\b\b\b\b\b\b\b\b\b\b\b\b\b\b\b\b\b\b\b\b\b\b\b\b\b\b\b\b\b\b\b\b\b\b\b\b\b\b\b\b\b\b\b\b\b\b\b\b\b\b\b\b\b\b\b\b\b\b\b\b\b\b\b\b\b\b\b\b\b\b\b\b\b\b\b\b\b\b\r",
      "9/9 [==============================] - 0s 6ms/step - loss: 0.6505 - accuracy: 0.6275 - val_loss: 0.6232 - val_accuracy: 0.6889\n"
     ]
    },
    {
     "name": "stdout",
     "output_type": "stream",
     "text": [
      "Epoch 245/400\n"
     ]
    },
    {
     "name": "stdout",
     "output_type": "stream",
     "text": [
      "\r",
      "1/9 [==>...........................] - ETA: 0s - loss: 0.6562 - accuracy: 0.6333"
     ]
    },
    {
     "name": "stdout",
     "output_type": "stream",
     "text": [
      "\b\b\b\b\b\b\b\b\b\b\b\b\b\b\b\b\b\b\b\b\b\b\b\b\b\b\b\b\b\b\b\b\b\b\b\b\b\b\b\b\b\b\b\b\b\b\b\b\b\b\b\b\b\b\b\b\b\b\b\b\b\b\b\b\b\b\b\b\b\b\b\b\b\b\b\b\b\b\b\b\r",
      "9/9 [==============================] - 0s 4ms/step - loss: 0.6504 - accuracy: 0.6275 - val_loss: 0.6230 - val_accuracy: 0.6889\n"
     ]
    },
    {
     "name": "stdout",
     "output_type": "stream",
     "text": [
      "Epoch 246/400\n"
     ]
    },
    {
     "name": "stdout",
     "output_type": "stream",
     "text": [
      "\r",
      "1/9 [==>...........................] - ETA: 0s - loss: 0.6482 - accuracy: 0.6333"
     ]
    },
    {
     "name": "stdout",
     "output_type": "stream",
     "text": [
      "\b\b\b\b\b\b\b\b\b\b\b\b\b\b\b\b\b\b\b\b\b\b\b\b\b\b\b\b\b\b\b\b\b\b\b\b\b\b\b\b\b\b\b\b\b\b\b\b\b\b\b\b\b\b\b\b\b\b\b\b\b\b\b\b\b\b\b\b\b\b\b\b\b\b\b\b\b\b\b\b\r",
      "9/9 [==============================] - 0s 4ms/step - loss: 0.6504 - accuracy: 0.6275 - val_loss: 0.6229 - val_accuracy: 0.6889\n"
     ]
    },
    {
     "name": "stdout",
     "output_type": "stream",
     "text": [
      "Epoch 247/400\n"
     ]
    },
    {
     "name": "stdout",
     "output_type": "stream",
     "text": [
      "\r",
      "1/9 [==>...........................] - ETA: 0s - loss: 0.6534 - accuracy: 0.6000"
     ]
    },
    {
     "name": "stdout",
     "output_type": "stream",
     "text": [
      "\b\b\b\b\b\b\b\b\b\b\b\b\b\b\b\b\b\b\b\b\b\b\b\b\b\b\b\b\b\b\b\b\b\b\b\b\b\b\b\b\b\b\b\b\b\b\b\b\b\b\b\b\b\b\b\b\b\b\b\b\b\b\b\b\b\b\b\b\b\b\b\b\b\b\b\b\b\b\b\b\r",
      "9/9 [==============================] - 0s 4ms/step - loss: 0.6504 - accuracy: 0.6275 - val_loss: 0.6231 - val_accuracy: 0.6889\n"
     ]
    },
    {
     "name": "stdout",
     "output_type": "stream",
     "text": [
      "Epoch 248/400\n"
     ]
    },
    {
     "name": "stdout",
     "output_type": "stream",
     "text": [
      "\r",
      "1/9 [==>...........................] - ETA: 0s - loss: 0.5995 - accuracy: 0.7333"
     ]
    },
    {
     "name": "stdout",
     "output_type": "stream",
     "text": [
      "\b\b\b\b\b\b\b\b\b\b\b\b\b\b\b\b\b\b\b\b\b\b\b\b\b\b\b\b\b\b\b\b\b\b\b\b\b\b\b\b\b\b\b\b\b\b\b\b\b\b\b\b\b\b\b\b\b\b\b\b\b\b\b\b\b\b\b\b\b\b\b\b\b\b\b\b\b\b\b\b\r",
      "9/9 [==============================] - 0s 5ms/step - loss: 0.6505 - accuracy: 0.6275 - val_loss: 0.6231 - val_accuracy: 0.6889\n"
     ]
    },
    {
     "name": "stdout",
     "output_type": "stream",
     "text": [
      "Epoch 249/400\n"
     ]
    },
    {
     "name": "stdout",
     "output_type": "stream",
     "text": [
      "\r",
      "1/9 [==>...........................] - ETA: 0s - loss: 0.6356 - accuracy: 0.6667"
     ]
    },
    {
     "name": "stdout",
     "output_type": "stream",
     "text": [
      "\b\b\b\b\b\b\b\b\b\b\b\b\b\b\b\b\b\b\b\b\b\b\b\b\b\b\b\b\b\b\b\b\b\b\b\b\b\b\b\b\b\b\b\b\b\b\b\b\b\b\b\b\b\b\b\b\b\b\b\b\b\b\b\b\b\b\b\b\b\b\b\b\b\b\b\b\b\b\b\b\r",
      "9/9 [==============================] - 0s 4ms/step - loss: 0.6505 - accuracy: 0.6275 - val_loss: 0.6234 - val_accuracy: 0.6889\n"
     ]
    },
    {
     "name": "stdout",
     "output_type": "stream",
     "text": [
      "Epoch 250/400\n"
     ]
    },
    {
     "name": "stdout",
     "output_type": "stream",
     "text": [
      "\r",
      "1/9 [==>...........................] - ETA: 0s - loss: 0.6753 - accuracy: 0.5667"
     ]
    },
    {
     "name": "stdout",
     "output_type": "stream",
     "text": [
      "\b\b\b\b\b\b\b\b\b\b\b\b\b\b\b\b\b\b\b\b\b\b\b\b\b\b\b\b\b\b\b\b\b\b\b\b\b\b\b\b\b\b\b\b\b\b\b\b\b\b\b\b\b\b\b\b\b\b\b\b\b\b\b\b\b\b\b\b\b\b\b\b\b\b\b\b\b\b\b\b\r",
      "9/9 [==============================] - 0s 5ms/step - loss: 0.6504 - accuracy: 0.6275 - val_loss: 0.6236 - val_accuracy: 0.6889\n"
     ]
    },
    {
     "name": "stdout",
     "output_type": "stream",
     "text": [
      "Epoch 251/400\n"
     ]
    },
    {
     "name": "stdout",
     "output_type": "stream",
     "text": [
      "\r",
      "1/9 [==>...........................] - ETA: 0s - loss: 0.6666 - accuracy: 0.6000"
     ]
    },
    {
     "name": "stdout",
     "output_type": "stream",
     "text": [
      "\b\b\b\b\b\b\b\b\b\b\b\b\b\b\b\b\b\b\b\b\b\b\b\b\b\b\b\b\b\b\b\b\b\b\b\b\b\b\b\b\b\b\b\b\b\b\b\b\b\b\b\b\b\b\b\b\b\b\b\b\b\b\b\b\b\b\b\b\b\b\b\b\b\b\b\b\b\b\b\b\r",
      "9/9 [==============================] - 0s 4ms/step - loss: 0.6504 - accuracy: 0.6275 - val_loss: 0.6233 - val_accuracy: 0.6889\n"
     ]
    },
    {
     "name": "stdout",
     "output_type": "stream",
     "text": [
      "Epoch 252/400\n"
     ]
    },
    {
     "name": "stdout",
     "output_type": "stream",
     "text": [
      "\r",
      "1/9 [==>...........................] - ETA: 0s - loss: 0.7176 - accuracy: 0.4667"
     ]
    },
    {
     "name": "stdout",
     "output_type": "stream",
     "text": [
      "\b\b\b\b\b\b\b\b\b\b\b\b\b\b\b\b\b\b\b\b\b\b\b\b\b\b\b\b\b\b\b\b\b\b\b\b\b\b\b\b\b\b\b\b\b\b\b\b\b\b\b\b\b\b\b\b\b\b\b\b\b\b\b\b\b\b\b\b\b\b\b\b\b\b\b\b\b\b\b\b\r",
      "9/9 [==============================] - 0s 5ms/step - loss: 0.6508 - accuracy: 0.6275 - val_loss: 0.6234 - val_accuracy: 0.6889\n"
     ]
    },
    {
     "name": "stdout",
     "output_type": "stream",
     "text": [
      "Epoch 253/400\n"
     ]
    },
    {
     "name": "stdout",
     "output_type": "stream",
     "text": [
      "\r",
      "1/9 [==>...........................] - ETA: 0s - loss: 0.5461 - accuracy: 0.8333"
     ]
    },
    {
     "name": "stdout",
     "output_type": "stream",
     "text": [
      "\b\b\b\b\b\b\b\b\b\b\b\b\b\b\b\b\b\b\b\b\b\b\b\b\b\b\b\b\b\b\b\b\b\b\b\b\b\b\b\b\b\b\b\b\b\b\b\b\b\b\b\b\b\b\b\b\b\b\b\b\b\b\b\b\b\b\b\b\b\b\b\b\b\b\b\b\b\b\b\b\r",
      "9/9 [==============================] - 0s 5ms/step - loss: 0.6507 - accuracy: 0.6275 - val_loss: 0.6235 - val_accuracy: 0.6889\n"
     ]
    },
    {
     "name": "stdout",
     "output_type": "stream",
     "text": [
      "Epoch 254/400\n"
     ]
    },
    {
     "name": "stdout",
     "output_type": "stream",
     "text": [
      "\r",
      "1/9 [==>...........................] - ETA: 0s - loss: 0.7491 - accuracy: 0.4333"
     ]
    },
    {
     "name": "stdout",
     "output_type": "stream",
     "text": [
      "\b\b\b\b\b\b\b\b\b\b\b\b\b\b\b\b\b\b\b\b\b\b\b\b\b\b\b\b\b\b\b\b\b\b\b\b\b\b\b\b\b\b\b\b\b\b\b\b\b\b\b\b\b\b\b\b\b\b\b\b\b\b\b\b\b\b\b\b\b\b\b\b\b\b\b\b\b\b\b\b\r",
      "9/9 [==============================] - 0s 5ms/step - loss: 0.6505 - accuracy: 0.6275 - val_loss: 0.6233 - val_accuracy: 0.6889\n"
     ]
    },
    {
     "name": "stdout",
     "output_type": "stream",
     "text": [
      "Epoch 255/400\n"
     ]
    },
    {
     "name": "stdout",
     "output_type": "stream",
     "text": [
      "\r",
      "1/9 [==>...........................] - ETA: 0s - loss: 0.6925 - accuracy: 0.5333"
     ]
    },
    {
     "name": "stdout",
     "output_type": "stream",
     "text": [
      "\b\b\b\b\b\b\b\b\b\b\b\b\b\b\b\b\b\b\b\b\b\b\b\b\b\b\b\b\b\b\b\b\b\b\b\b\b\b\b\b\b\b\b\b\b\b\b\b\b\b\b\b\b\b\b\b\b\b\b\b\b\b\b\b\b\b\b\b\b\b\b\b\b\b\b\b\b\b\b\b\r",
      "9/9 [==============================] - 0s 5ms/step - loss: 0.6505 - accuracy: 0.6275 - val_loss: 0.6231 - val_accuracy: 0.6889\n"
     ]
    },
    {
     "name": "stdout",
     "output_type": "stream",
     "text": [
      "Epoch 256/400\n"
     ]
    },
    {
     "name": "stdout",
     "output_type": "stream",
     "text": [
      "\r",
      "1/9 [==>...........................] - ETA: 0s - loss: 0.6576 - accuracy: 0.6333"
     ]
    },
    {
     "name": "stdout",
     "output_type": "stream",
     "text": [
      "\b\b\b\b\b\b\b\b\b\b\b\b\b\b\b\b\b\b\b\b\b\b\b\b\b\b\b\b\b\b\b\b\b\b\b\b\b\b\b\b\b\b\b\b\b\b\b\b\b\b\b\b\b\b\b\b\b\b\b\b\b\b\b\b\b\b\b\b\b\b\b\b\b\b\b\b\b\b\b\b\r",
      "9/9 [==============================] - 0s 4ms/step - loss: 0.6504 - accuracy: 0.6275 - val_loss: 0.6233 - val_accuracy: 0.6889\n"
     ]
    },
    {
     "name": "stdout",
     "output_type": "stream",
     "text": [
      "Epoch 257/400\n"
     ]
    },
    {
     "name": "stdout",
     "output_type": "stream",
     "text": [
      "\r",
      "1/9 [==>...........................] - ETA: 0s - loss: 0.5986 - accuracy: 0.7333"
     ]
    },
    {
     "name": "stdout",
     "output_type": "stream",
     "text": [
      "\b\b\b\b\b\b\b\b\b\b\b\b\b\b\b\b\b\b\b\b\b\b\b\b\b\b\b\b\b\b\b\b\b\b\b\b\b\b\b\b\b\b\b\b\b\b\b\b\b\b\b\b\b\b\b\b\b\b\b\b\b\b\b\b\b\b\b\b\b\b\b\b\b\b\b\b\b\b\b\b\r",
      "9/9 [==============================] - 0s 4ms/step - loss: 0.6504 - accuracy: 0.6275 - val_loss: 0.6231 - val_accuracy: 0.6889\n"
     ]
    },
    {
     "name": "stdout",
     "output_type": "stream",
     "text": [
      "Epoch 258/400\n"
     ]
    },
    {
     "name": "stdout",
     "output_type": "stream",
     "text": [
      "\r",
      "1/9 [==>...........................] - ETA: 0s - loss: 0.6929 - accuracy: 0.5333"
     ]
    },
    {
     "name": "stdout",
     "output_type": "stream",
     "text": [
      "\b\b\b\b\b\b\b\b\b\b\b\b\b\b\b\b\b\b\b\b\b\b\b\b\b\b\b\b\b\b\b\b\b\b\b\b\b\b\b\b\b\b\b\b\b\b\b\b\b\b\b\b\b\b\b\b\b\b\b\b\b\b\b\b\b\b\b\b\b\b\b\b\b\b\b\b\b\b\b\b\r",
      "9/9 [==============================] - 0s 5ms/step - loss: 0.6504 - accuracy: 0.6275 - val_loss: 0.6229 - val_accuracy: 0.6889\n"
     ]
    },
    {
     "name": "stdout",
     "output_type": "stream",
     "text": [
      "Epoch 259/400\n"
     ]
    },
    {
     "name": "stdout",
     "output_type": "stream",
     "text": [
      "\r",
      "1/9 [==>...........................] - ETA: 0s - loss: 0.6498 - accuracy: 0.6333"
     ]
    },
    {
     "name": "stdout",
     "output_type": "stream",
     "text": [
      "\b\b\b\b\b\b\b\b\b\b\b\b\b\b\b\b\b\b\b\b\b\b\b\b\b\b\b\b\b\b\b\b\b\b\b\b\b\b\b\b\b\b\b\b\b\b\b\b\b\b\b\b\b\b\b\b\b\b\b\b\b\b\b\b\b\b\b\b\b\b\b\b\b\b\b\b\b\b\b\b\r",
      "9/9 [==============================] - 0s 5ms/step - loss: 0.6504 - accuracy: 0.6275 - val_loss: 0.6228 - val_accuracy: 0.6889\n"
     ]
    },
    {
     "name": "stdout",
     "output_type": "stream",
     "text": [
      "Epoch 260/400\n"
     ]
    },
    {
     "name": "stdout",
     "output_type": "stream",
     "text": [
      "\r",
      "1/9 [==>...........................] - ETA: 0s - loss: 0.6729 - accuracy: 0.5667"
     ]
    },
    {
     "name": "stdout",
     "output_type": "stream",
     "text": [
      "\b\b\b\b\b\b\b\b\b\b\b\b\b\b\b\b\b\b\b\b\b\b\b\b\b\b\b\b\b\b\b\b\b\b\b\b\b\b\b\b\b\b\b\b\b\b\b\b\b\b\b\b\b\b\b\b\b\b\b\b\b\b\b\b\b\b\b\b\b\b\b\b\b\b\b\b\b\b\b\b\r",
      "9/9 [==============================] - 0s 5ms/step - loss: 0.6504 - accuracy: 0.6275 - val_loss: 0.6232 - val_accuracy: 0.6889\n"
     ]
    },
    {
     "name": "stdout",
     "output_type": "stream",
     "text": [
      "Epoch 261/400\n"
     ]
    },
    {
     "name": "stdout",
     "output_type": "stream",
     "text": [
      "\r",
      "1/9 [==>...........................] - ETA: 0s - loss: 0.6536 - accuracy: 0.6000"
     ]
    },
    {
     "name": "stdout",
     "output_type": "stream",
     "text": [
      "\b\b\b\b\b\b\b\b\b\b\b\b\b\b\b\b\b\b\b\b\b\b\b\b\b\b\b\b\b\b\b\b\b\b\b\b\b\b\b\b\b\b\b\b\b\b\b\b\b\b\b\b\b\b\b\b\b\b\b\b\b\b\b\b\b\b\b\b\b\b\b\b\b\b\b\b\b\b\b\b\r",
      "9/9 [==============================] - 0s 5ms/step - loss: 0.6504 - accuracy: 0.6275 - val_loss: 0.6231 - val_accuracy: 0.6889\n"
     ]
    },
    {
     "name": "stdout",
     "output_type": "stream",
     "text": [
      "Epoch 262/400\n"
     ]
    },
    {
     "name": "stdout",
     "output_type": "stream",
     "text": [
      "\r",
      "1/9 [==>...........................] - ETA: 0s - loss: 0.6574 - accuracy: 0.6000"
     ]
    },
    {
     "name": "stdout",
     "output_type": "stream",
     "text": [
      "\b\b\b\b\b\b\b\b\b\b\b\b\b\b\b\b\b\b\b\b\b\b\b\b\b\b\b\b\b\b\b\b\b\b\b\b\b\b\b\b\b\b\b\b\b\b\b\b\b\b\b\b\b\b\b\b\b\b\b\b\b\b\b\b\b\b\b\b\b\b\b\b\b\b\b\b\b\b\b\b\r",
      "9/9 [==============================] - 0s 5ms/step - loss: 0.6504 - accuracy: 0.6275 - val_loss: 0.6230 - val_accuracy: 0.6889\n"
     ]
    },
    {
     "name": "stdout",
     "output_type": "stream",
     "text": [
      "Epoch 263/400\n"
     ]
    },
    {
     "name": "stdout",
     "output_type": "stream",
     "text": [
      "\r",
      "1/9 [==>...........................] - ETA: 0s - loss: 0.7071 - accuracy: 0.5333"
     ]
    },
    {
     "name": "stdout",
     "output_type": "stream",
     "text": [
      "\b\b\b\b\b\b\b\b\b\b\b\b\b\b\b\b\b\b\b\b\b\b\b\b\b\b\b\b\b\b\b\b\b\b\b\b\b\b\b\b\b\b\b\b\b\b\b\b\b\b\b\b\b\b\b\b\b\b\b\b\b\b\b\b\b\b\b\b\b\b\b\b\b\b\b\b\b\b\b\b\r",
      "9/9 [==============================] - 0s 5ms/step - loss: 0.6504 - accuracy: 0.6275 - val_loss: 0.6231 - val_accuracy: 0.6889\n"
     ]
    },
    {
     "name": "stdout",
     "output_type": "stream",
     "text": [
      "Epoch 264/400\n"
     ]
    },
    {
     "name": "stdout",
     "output_type": "stream",
     "text": [
      "\r",
      "1/9 [==>...........................] - ETA: 0s - loss: 0.6353 - accuracy: 0.6667"
     ]
    },
    {
     "name": "stdout",
     "output_type": "stream",
     "text": [
      "\b\b\b\b\b\b\b\b\b\b\b\b\b\b\b\b\b\b\b\b\b\b\b\b\b\b\b\b\b\b\b\b\b\b\b\b\b\b\b\b\b\b\b\b\b\b\b\b\b\b\b\b\b\b\b\b\b\b\b\b\b\b\b\b\b\b\b\b\b\b\b\b\b\b\b\b\b\b\b\b\r",
      "9/9 [==============================] - 0s 5ms/step - loss: 0.6504 - accuracy: 0.6275 - val_loss: 0.6233 - val_accuracy: 0.6889\n"
     ]
    },
    {
     "name": "stdout",
     "output_type": "stream",
     "text": [
      "Epoch 265/400\n"
     ]
    },
    {
     "name": "stdout",
     "output_type": "stream",
     "text": [
      "\r",
      "1/9 [==>...........................] - ETA: 0s - loss: 0.6974 - accuracy: 0.5333"
     ]
    },
    {
     "name": "stdout",
     "output_type": "stream",
     "text": [
      "\b\b\b\b\b\b\b\b\b\b\b\b\b\b\b\b\b\b\b\b\b\b\b\b\b\b\b\b\b\b\b\b\b\b\b\b\b\b\b\b\b\b\b\b\b\b\b\b\b\b\b\b\b\b\b\b\b\b\b\b\b\b\b\b\b\b\b\b\b\b\b\b\b\b\b\b\b\b\b\b\r",
      "9/9 [==============================] - 0s 5ms/step - loss: 0.6504 - accuracy: 0.6275 - val_loss: 0.6232 - val_accuracy: 0.6889\n"
     ]
    },
    {
     "name": "stdout",
     "output_type": "stream",
     "text": [
      "Epoch 266/400\n"
     ]
    },
    {
     "name": "stdout",
     "output_type": "stream",
     "text": [
      "\r",
      "1/9 [==>...........................] - ETA: 0s - loss: 0.7383 - accuracy: 0.4667"
     ]
    },
    {
     "name": "stdout",
     "output_type": "stream",
     "text": [
      "\b\b\b\b\b\b\b\b\b\b\b\b\b\b\b\b\b\b\b\b\b\b\b\b\b\b\b\b\b\b\b\b\b\b\b\b\b\b\b\b\b\b\b\b\b\b\b\b\b\b\b\b\b\b\b\b\b\b\b\b\b\b\b\b\b\b\b\b\b\b\b\b\b\b\b\b\b\b\b\b\r",
      "9/9 [==============================] - 0s 5ms/step - loss: 0.6505 - accuracy: 0.6275 - val_loss: 0.6232 - val_accuracy: 0.6889\n"
     ]
    },
    {
     "name": "stdout",
     "output_type": "stream",
     "text": [
      "Epoch 267/400\n"
     ]
    },
    {
     "name": "stdout",
     "output_type": "stream",
     "text": [
      "\r",
      "1/9 [==>...........................] - ETA: 0s - loss: 0.6806 - accuracy: 0.5667"
     ]
    },
    {
     "name": "stdout",
     "output_type": "stream",
     "text": [
      "\b\b\b\b\b\b\b\b\b\b\b\b\b\b\b\b\b\b\b\b\b\b\b\b\b\b\b\b\b\b\b\b\b\b\b\b\b\b\b\b\b\b\b\b\b\b\b\b\b\b\b\b\b\b\b\b\b\b\b\b\b\b\b\b\b\b\b\b\b\b\b\b\b\b\b\b\b\b\b\b\r",
      "9/9 [==============================] - 0s 7ms/step - loss: 0.6504 - accuracy: 0.6275 - val_loss: 0.6232 - val_accuracy: 0.6889\n"
     ]
    },
    {
     "name": "stdout",
     "output_type": "stream",
     "text": [
      "Epoch 268/400\n"
     ]
    },
    {
     "name": "stdout",
     "output_type": "stream",
     "text": [
      "\r",
      "1/9 [==>...........................] - ETA: 0s - loss: 0.6140 - accuracy: 0.7000"
     ]
    },
    {
     "name": "stdout",
     "output_type": "stream",
     "text": [
      "\b\b\b\b\b\b\b\b\b\b\b\b\b\b\b\b\b\b\b\b\b\b\b\b\b\b\b\b\b\b\b\b\b\b\b\b\b\b\b\b\b\b\b\b\b\b\b\b\b\b\b\b\b\b\b\b\b\b\b\b\b\b\b\b\b\b\b\b\b\b\b\b\b\b\b\b\b\b\b\b\r",
      "9/9 [==============================] - 0s 5ms/step - loss: 0.6506 - accuracy: 0.6275 - val_loss: 0.6229 - val_accuracy: 0.6889\n"
     ]
    },
    {
     "name": "stdout",
     "output_type": "stream",
     "text": [
      "Epoch 269/400\n"
     ]
    },
    {
     "name": "stdout",
     "output_type": "stream",
     "text": [
      "\r",
      "1/9 [==>...........................] - ETA: 0s - loss: 0.6331 - accuracy: 0.6667"
     ]
    },
    {
     "name": "stdout",
     "output_type": "stream",
     "text": [
      "\b\b\b\b\b\b\b\b\b\b\b\b\b\b\b\b\b\b\b\b\b\b\b\b\b\b\b\b\b\b\b\b\b\b\b\b\b\b\b\b\b\b\b\b\b\b\b\b\b\b\b\b\b\b\b\b\b\b\b\b\b\b\b\b\b\b\b\b\b\b\b\b\b\b\b\b\b\b\b\b\r",
      "9/9 [==============================] - 0s 5ms/step - loss: 0.6505 - accuracy: 0.6275 - val_loss: 0.6229 - val_accuracy: 0.6889\n"
     ]
    },
    {
     "name": "stdout",
     "output_type": "stream",
     "text": [
      "Epoch 270/400\n"
     ]
    },
    {
     "name": "stdout",
     "output_type": "stream",
     "text": [
      "\r",
      "1/9 [==>...........................] - ETA: 0s - loss: 0.6857 - accuracy: 0.5667"
     ]
    },
    {
     "name": "stdout",
     "output_type": "stream",
     "text": [
      "\b\b\b\b\b\b\b\b\b\b\b\b\b\b\b\b\b\b\b\b\b\b\b\b\b\b\b\b\b\b\b\b\b\b\b\b\b\b\b\b\b\b\b\b\b\b\b\b\b\b\b\b\b\b\b\b\b\b\b\b\b\b\b\b\b\b\b\b\b\b\b\b\b\b\b\b\b\b\b\b\r",
      "9/9 [==============================] - 0s 5ms/step - loss: 0.6504 - accuracy: 0.6275 - val_loss: 0.6230 - val_accuracy: 0.6889\n"
     ]
    },
    {
     "name": "stdout",
     "output_type": "stream",
     "text": [
      "Epoch 271/400\n"
     ]
    },
    {
     "name": "stdout",
     "output_type": "stream",
     "text": [
      "\r",
      "1/9 [==>...........................] - ETA: 0s - loss: 0.6126 - accuracy: 0.7000"
     ]
    },
    {
     "name": "stdout",
     "output_type": "stream",
     "text": [
      "\b\b\b\b\b\b\b\b\b\b\b\b\b\b\b\b\b\b\b\b\b\b\b\b\b\b\b\b\b\b\b\b\b\b\b\b\b\b\b\b\b\b\b\b\b\b\b\b\b\b\b\b\b\b\b\b\b\b\b\b\b\b\b\b\b\b\b\b\b\b\b\b\b\b\b\b\b\b\b\b\r",
      "9/9 [==============================] - 0s 5ms/step - loss: 0.6503 - accuracy: 0.6275 - val_loss: 0.6231 - val_accuracy: 0.6889\n"
     ]
    },
    {
     "name": "stdout",
     "output_type": "stream",
     "text": [
      "Epoch 272/400\n"
     ]
    },
    {
     "name": "stdout",
     "output_type": "stream",
     "text": [
      "\r",
      "1/9 [==>...........................] - ETA: 0s - loss: 0.6840 - accuracy: 0.5667"
     ]
    },
    {
     "name": "stdout",
     "output_type": "stream",
     "text": [
      "\b\b\b\b\b\b\b\b\b\b\b\b\b\b\b\b\b\b\b\b\b\b\b\b\b\b\b\b\b\b\b\b\b\b\b\b\b\b\b\b\b\b\b\b\b\b\b\b\b\b\b\b\b\b\b\b\b\b\b\b\b\b\b\b\b\b\b\b\b\b\b\b\b\b\b\b\b\b\b\b\r",
      "9/9 [==============================] - 0s 5ms/step - loss: 0.6504 - accuracy: 0.6275 - val_loss: 0.6232 - val_accuracy: 0.6889\n"
     ]
    },
    {
     "name": "stdout",
     "output_type": "stream",
     "text": [
      "Epoch 273/400\n"
     ]
    },
    {
     "name": "stdout",
     "output_type": "stream",
     "text": [
      "\r",
      "1/9 [==>...........................] - ETA: 0s - loss: 0.6238 - accuracy: 0.6667"
     ]
    },
    {
     "name": "stdout",
     "output_type": "stream",
     "text": [
      "\b\b\b\b\b\b\b\b\b\b\b\b\b\b\b\b\b\b\b\b\b\b\b\b\b\b\b\b\b\b\b\b\b\b\b\b\b\b\b\b\b\b\b\b\b\b\b\b\b\b\b\b\b\b\b\b\b\b\b\b\b\b\b\b\b\b\b\b\b\b\b\b\b\b\b\b\b\b\b\b\r",
      "9/9 [==============================] - 0s 5ms/step - loss: 0.6503 - accuracy: 0.6275 - val_loss: 0.6234 - val_accuracy: 0.6889\n"
     ]
    },
    {
     "name": "stdout",
     "output_type": "stream",
     "text": [
      "Epoch 274/400\n"
     ]
    },
    {
     "name": "stdout",
     "output_type": "stream",
     "text": [
      "\r",
      "1/9 [==>...........................] - ETA: 0s - loss: 0.6640 - accuracy: 0.6000"
     ]
    },
    {
     "name": "stdout",
     "output_type": "stream",
     "text": [
      "\b\b\b\b\b\b\b\b\b\b\b\b\b\b\b\b\b\b\b\b\b\b\b\b\b\b\b\b\b\b\b\b\b\b\b\b\b\b\b\b\b\b\b\b\b\b\b\b\b\b\b\b\b\b\b\b\b\b\b\b\b\b\b\b\b\b\b\b\b\b\b\b\b\b\b\b\b\b\b\b\r",
      "9/9 [==============================] - 0s 5ms/step - loss: 0.6503 - accuracy: 0.6275 - val_loss: 0.6232 - val_accuracy: 0.6889\n"
     ]
    },
    {
     "name": "stdout",
     "output_type": "stream",
     "text": [
      "Epoch 275/400\n"
     ]
    },
    {
     "name": "stdout",
     "output_type": "stream",
     "text": [
      "\r",
      "1/9 [==>...........................] - ETA: 0s - loss: 0.6699 - accuracy: 0.5667"
     ]
    },
    {
     "name": "stdout",
     "output_type": "stream",
     "text": [
      "\b\b\b\b\b\b\b\b\b\b\b\b\b\b\b\b\b\b\b\b\b\b\b\b\b\b\b\b\b\b\b\b\b\b\b\b\b\b\b\b\b\b\b\b\b\b\b\b\b\b\b\b\b\b\b\b\b\b\b\b\b\b\b\b\b\b\b\b\b\b\b\b\b\b\b\b\b\b\b\b\r",
      "9/9 [==============================] - 0s 5ms/step - loss: 0.6506 - accuracy: 0.6275 - val_loss: 0.6227 - val_accuracy: 0.6889\n"
     ]
    },
    {
     "name": "stdout",
     "output_type": "stream",
     "text": [
      "Epoch 276/400\n"
     ]
    },
    {
     "name": "stdout",
     "output_type": "stream",
     "text": [
      "\r",
      "1/9 [==>...........................] - ETA: 0s - loss: 0.5563 - accuracy: 0.8333"
     ]
    },
    {
     "name": "stdout",
     "output_type": "stream",
     "text": [
      "\b\b\b\b\b\b\b\b\b\b\b\b\b\b\b\b\b\b\b\b\b\b\b\b\b\b\b\b\b\b\b\b\b\b\b\b\b\b\b\b\b\b\b\b\b\b\b\b\b\b\b\b\b\b\b\b\b\b\b\b\b\b\b\b\b\b\b\b\b\b\b\b\b\b\b\b\b\b\b\b\r",
      "9/9 [==============================] - 0s 5ms/step - loss: 0.6505 - accuracy: 0.6275 - val_loss: 0.6231 - val_accuracy: 0.6889\n"
     ]
    },
    {
     "name": "stdout",
     "output_type": "stream",
     "text": [
      "Epoch 277/400\n"
     ]
    },
    {
     "name": "stdout",
     "output_type": "stream",
     "text": [
      "\r",
      "1/9 [==>...........................] - ETA: 0s - loss: 0.6337 - accuracy: 0.6667"
     ]
    },
    {
     "name": "stdout",
     "output_type": "stream",
     "text": [
      "\b\b\b\b\b\b\b\b\b\b\b\b\b\b\b\b\b\b\b\b\b\b\b\b\b\b\b\b\b\b\b\b\b\b\b\b\b\b\b\b\b\b\b\b\b\b\b\b\b\b\b\b\b\b\b\b\b\b\b\b\b\b\b\b\b\b\b\b\b\b\b\b\b\b\b\b\b\b\b\b\r",
      "9/9 [==============================] - 0s 4ms/step - loss: 0.6505 - accuracy: 0.6275 - val_loss: 0.6230 - val_accuracy: 0.6889\n"
     ]
    },
    {
     "name": "stdout",
     "output_type": "stream",
     "text": [
      "Epoch 278/400\n"
     ]
    },
    {
     "name": "stdout",
     "output_type": "stream",
     "text": [
      "\r",
      "1/9 [==>...........................] - ETA: 0s - loss: 0.6833 - accuracy: 0.5667"
     ]
    },
    {
     "name": "stdout",
     "output_type": "stream",
     "text": [
      "\b\b\b\b\b\b\b\b\b\b\b\b\b\b\b\b\b\b\b\b\b\b\b\b\b\b\b\b\b\b\b\b\b\b\b\b\b\b\b\b\b\b\b\b\b\b\b\b\b\b\b\b\b\b\b\b\b\b\b\b\b\b\b\b\b\b\b\b\b\b\b\b\b\b\b\b\b\b\b\b\r",
      "9/9 [==============================] - 0s 4ms/step - loss: 0.6503 - accuracy: 0.6275 - val_loss: 0.6230 - val_accuracy: 0.6889\n"
     ]
    },
    {
     "name": "stdout",
     "output_type": "stream",
     "text": [
      "Epoch 279/400\n"
     ]
    },
    {
     "name": "stdout",
     "output_type": "stream",
     "text": [
      "\r",
      "1/9 [==>...........................] - ETA: 0s - loss: 0.6258 - accuracy: 0.6667"
     ]
    },
    {
     "name": "stdout",
     "output_type": "stream",
     "text": [
      "\b\b\b\b\b\b\b\b\b\b\b\b\b\b\b\b\b\b\b\b\b\b\b\b\b\b\b\b\b\b\b\b\b\b\b\b\b\b\b\b\b\b\b\b\b\b\b\b\b\b\b\b\b\b\b\b\b\b\b\b\b\b\b\b\b\b\b\b\b\b\b\b\b\b\b\b\b\b\b\b\r",
      "9/9 [==============================] - 0s 4ms/step - loss: 0.6503 - accuracy: 0.6275 - val_loss: 0.6231 - val_accuracy: 0.6889\n"
     ]
    },
    {
     "name": "stdout",
     "output_type": "stream",
     "text": [
      "Epoch 280/400\n"
     ]
    },
    {
     "name": "stdout",
     "output_type": "stream",
     "text": [
      "\r",
      "1/9 [==>...........................] - ETA: 0s - loss: 0.6745 - accuracy: 0.6000"
     ]
    },
    {
     "name": "stdout",
     "output_type": "stream",
     "text": [
      "\b\b\b\b\b\b\b\b\b\b\b\b\b\b\b\b\b\b\b\b\b\b\b\b\b\b\b\b\b\b\b\b\b\b\b\b\b\b\b\b\b\b\b\b\b\b\b\b\b\b\b\b\b\b\b\b\b\b\b\b\b\b\b\b\b\b\b\b\b\b\b\b\b\b\b\b\b\b\b\b\r",
      "9/9 [==============================] - 0s 4ms/step - loss: 0.6504 - accuracy: 0.6275 - val_loss: 0.6233 - val_accuracy: 0.6889\n"
     ]
    },
    {
     "name": "stdout",
     "output_type": "stream",
     "text": [
      "Epoch 281/400\n"
     ]
    },
    {
     "name": "stdout",
     "output_type": "stream",
     "text": [
      "\r",
      "1/9 [==>...........................] - ETA: 0s - loss: 0.6475 - accuracy: 0.6333"
     ]
    },
    {
     "name": "stdout",
     "output_type": "stream",
     "text": [
      "\b\b\b\b\b\b\b\b\b\b\b\b\b\b\b\b\b\b\b\b\b\b\b\b\b\b\b\b\b\b\b\b\b\b\b\b\b\b\b\b\b\b\b\b\b\b\b\b\b\b\b\b\b\b\b\b\b\b\b\b\b\b\b\b\b\b\b\b\b\b\b\b\b\b\b\b\b\b\b\b\r",
      "9/9 [==============================] - 0s 4ms/step - loss: 0.6503 - accuracy: 0.6275 - val_loss: 0.6235 - val_accuracy: 0.6889\n"
     ]
    },
    {
     "name": "stdout",
     "output_type": "stream",
     "text": [
      "Epoch 282/400\n"
     ]
    },
    {
     "name": "stdout",
     "output_type": "stream",
     "text": [
      "\r",
      "1/9 [==>...........................] - ETA: 0s - loss: 0.7053 - accuracy: 0.5000"
     ]
    },
    {
     "name": "stdout",
     "output_type": "stream",
     "text": [
      "\b\b\b\b\b\b\b\b\b\b\b\b\b\b\b\b\b\b\b\b\b\b\b\b\b\b\b\b\b\b\b\b\b\b\b\b\b\b\b\b\b\b\b\b\b\b\b\b\b\b\b\b\b\b\b\b\b\b\b\b\b\b\b\b\b\b\b\b\b\b\b\b\b\b\b\b\b\b\b\b\r",
      "9/9 [==============================] - 0s 4ms/step - loss: 0.6503 - accuracy: 0.6275 - val_loss: 0.6235 - val_accuracy: 0.6889\n"
     ]
    },
    {
     "name": "stdout",
     "output_type": "stream",
     "text": [
      "Epoch 283/400\n"
     ]
    },
    {
     "name": "stdout",
     "output_type": "stream",
     "text": [
      "\r",
      "1/9 [==>...........................] - ETA: 0s - loss: 0.6365 - accuracy: 0.6667"
     ]
    },
    {
     "name": "stdout",
     "output_type": "stream",
     "text": [
      "\b\b\b\b\b\b\b\b\b\b\b\b\b\b\b\b\b\b\b\b\b\b\b\b\b\b\b\b\b\b\b\b\b\b\b\b\b\b\b\b\b\b\b\b\b\b\b\b\b\b\b\b\b\b\b\b\b\b\b\b\b\b\b\b\b\b\b\b\b\b\b\b\b\b\b\b\b\b\b\b\r",
      "9/9 [==============================] - 0s 5ms/step - loss: 0.6504 - accuracy: 0.6275 - val_loss: 0.6233 - val_accuracy: 0.6889\n"
     ]
    },
    {
     "name": "stdout",
     "output_type": "stream",
     "text": [
      "Epoch 284/400\n"
     ]
    },
    {
     "name": "stdout",
     "output_type": "stream",
     "text": [
      "\r",
      "1/9 [==>...........................] - ETA: 0s - loss: 0.6605 - accuracy: 0.6000"
     ]
    },
    {
     "name": "stdout",
     "output_type": "stream",
     "text": [
      "\b\b\b\b\b\b\b\b\b\b\b\b\b\b\b\b\b\b\b\b\b\b\b\b\b\b\b\b\b\b\b\b\b\b\b\b\b\b\b\b\b\b\b\b\b\b\b\b\b\b\b\b\b\b\b\b\b\b\b\b\b\b\b\b\b\b\b\b\b\b\b\b\b\b\b\b\b\b\b\b\r",
      "9/9 [==============================] - 0s 4ms/step - loss: 0.6505 - accuracy: 0.6275 - val_loss: 0.6236 - val_accuracy: 0.6889\n"
     ]
    },
    {
     "name": "stdout",
     "output_type": "stream",
     "text": [
      "Epoch 285/400\n"
     ]
    },
    {
     "name": "stdout",
     "output_type": "stream",
     "text": [
      "\r",
      "1/9 [==>...........................] - ETA: 0s - loss: 0.7495 - accuracy: 0.4333"
     ]
    },
    {
     "name": "stdout",
     "output_type": "stream",
     "text": [
      "\b\b\b\b\b\b\b\b\b\b\b\b\b\b\b\b\b\b\b\b\b\b\b\b\b\b\b\b\b\b\b\b\b\b\b\b\b\b\b\b\b\b\b\b\b\b\b\b\b\b\b\b\b\b\b\b\b\b\b\b\b\b\b\b\b\b\b\b\b\b\b\b\b\b\b\b\b\b\b\b\r",
      "9/9 [==============================] - 0s 4ms/step - loss: 0.6506 - accuracy: 0.6275 - val_loss: 0.6236 - val_accuracy: 0.6889\n"
     ]
    },
    {
     "name": "stdout",
     "output_type": "stream",
     "text": [
      "Epoch 286/400\n"
     ]
    },
    {
     "name": "stdout",
     "output_type": "stream",
     "text": [
      "\r",
      "1/9 [==>...........................] - ETA: 0s - loss: 0.7469 - accuracy: 0.4333"
     ]
    },
    {
     "name": "stdout",
     "output_type": "stream",
     "text": [
      "\b\b\b\b\b\b\b\b\b\b\b\b\b\b\b\b\b\b\b\b\b\b\b\b\b\b\b\b\b\b\b\b\b\b\b\b\b\b\b\b\b\b\b\b\b\b\b\b\b\b\b\b\b\b\b\b\b\b\b\b\b\b\b\b\b\b\b\b\b\b\b\b\b\b\b\b\b\b\b\b\r",
      "9/9 [==============================] - 0s 4ms/step - loss: 0.6504 - accuracy: 0.6275 - val_loss: 0.6235 - val_accuracy: 0.6889\n"
     ]
    },
    {
     "name": "stdout",
     "output_type": "stream",
     "text": [
      "Epoch 287/400\n"
     ]
    },
    {
     "name": "stdout",
     "output_type": "stream",
     "text": [
      "\r",
      "1/9 [==>...........................] - ETA: 0s - loss: 0.6286 - accuracy: 0.6667"
     ]
    },
    {
     "name": "stdout",
     "output_type": "stream",
     "text": [
      "\b\b\b\b\b\b\b\b\b\b\b\b\b\b\b\b\b\b\b\b\b\b\b\b\b\b\b\b\b\b\b\b\b\b\b\b\b\b\b\b\b\b\b\b\b\b\b\b\b\b\b\b\b\b\b\b\b\b\b\b\b\b\b\b\b\b\b\b\b\b\b\b\b\b\b\b\b\b\b\b\r",
      "9/9 [==============================] - 0s 5ms/step - loss: 0.6503 - accuracy: 0.6275 - val_loss: 0.6238 - val_accuracy: 0.6889\n"
     ]
    },
    {
     "name": "stdout",
     "output_type": "stream",
     "text": [
      "Epoch 288/400\n"
     ]
    },
    {
     "name": "stdout",
     "output_type": "stream",
     "text": [
      "\r",
      "1/9 [==>...........................] - ETA: 0s - loss: 0.5869 - accuracy: 0.7667"
     ]
    },
    {
     "name": "stdout",
     "output_type": "stream",
     "text": [
      "\b\b\b\b\b\b\b\b\b\b\b\b\b\b\b\b\b\b\b\b\b\b\b\b\b\b\b\b\b\b\b\b\b\b\b\b\b\b\b\b\b\b\b\b\b\b\b\b\b\b\b\b\b\b\b\b\b\b\b\b\b\b\b\b\b\b\b\b\b\b\b\b\b\b\b\b\b\b\b\b\r",
      "9/9 [==============================] - 0s 5ms/step - loss: 0.6504 - accuracy: 0.6275 - val_loss: 0.6236 - val_accuracy: 0.6889\n"
     ]
    },
    {
     "name": "stdout",
     "output_type": "stream",
     "text": [
      "Epoch 289/400\n"
     ]
    },
    {
     "name": "stdout",
     "output_type": "stream",
     "text": [
      "\r",
      "1/9 [==>...........................] - ETA: 0s - loss: 0.7110 - accuracy: 0.5000"
     ]
    },
    {
     "name": "stdout",
     "output_type": "stream",
     "text": [
      "\b\b\b\b\b\b\b\b\b\b\b\b\b\b\b\b\b\b\b\b\b\b\b\b\b\b\b\b\b\b\b\b\b\b\b\b\b\b\b\b\b\b\b\b\b\b\b\b\b\b\b\b\b\b\b\b\b\b\b\b\b\b\b\b\b\b\b\b\b\b\b\b\b\b\b\b\b\b\b\b\r",
      "9/9 [==============================] - 0s 4ms/step - loss: 0.6504 - accuracy: 0.6275 - val_loss: 0.6240 - val_accuracy: 0.6889\n"
     ]
    },
    {
     "name": "stdout",
     "output_type": "stream",
     "text": [
      "Epoch 290/400\n"
     ]
    },
    {
     "name": "stdout",
     "output_type": "stream",
     "text": [
      "\r",
      "1/9 [==>...........................] - ETA: 0s - loss: 0.5929 - accuracy: 0.7333"
     ]
    },
    {
     "name": "stdout",
     "output_type": "stream",
     "text": [
      "\b\b\b\b\b\b\b\b\b\b\b\b\b\b\b\b\b\b\b\b\b\b\b\b\b\b\b\b\b\b\b\b\b\b\b\b\b\b\b\b\b\b\b\b\b\b\b\b\b\b\b\b\b\b\b\b\b\b\b\b\b\b\b\b\b\b\b\b\b\b\b\b\b\b\b\b\b\b\b\b\r",
      "9/9 [==============================] - 0s 5ms/step - loss: 0.6504 - accuracy: 0.6275 - val_loss: 0.6240 - val_accuracy: 0.6889\n"
     ]
    },
    {
     "name": "stdout",
     "output_type": "stream",
     "text": [
      "Epoch 291/400\n"
     ]
    },
    {
     "name": "stdout",
     "output_type": "stream",
     "text": [
      "\r",
      "1/9 [==>...........................] - ETA: 0s - loss: 0.6345 - accuracy: 0.6667"
     ]
    },
    {
     "name": "stdout",
     "output_type": "stream",
     "text": [
      "\b\b\b\b\b\b\b\b\b\b\b\b\b\b\b\b\b\b\b\b\b\b\b\b\b\b\b\b\b\b\b\b\b\b\b\b\b\b\b\b\b\b\b\b\b\b\b\b\b\b\b\b\b\b\b\b\b\b\b\b\b\b\b\b\b\b\b\b\b\b\b\b\b\b\b\b\b\b\b\b\r",
      "9/9 [==============================] - 0s 5ms/step - loss: 0.6505 - accuracy: 0.6275 - val_loss: 0.6238 - val_accuracy: 0.6889\n"
     ]
    },
    {
     "name": "stdout",
     "output_type": "stream",
     "text": [
      "Epoch 292/400\n"
     ]
    },
    {
     "name": "stdout",
     "output_type": "stream",
     "text": [
      "\r",
      "1/9 [==>...........................] - ETA: 0s - loss: 0.6701 - accuracy: 0.5667"
     ]
    },
    {
     "name": "stdout",
     "output_type": "stream",
     "text": [
      "\b\b\b\b\b\b\b\b\b\b\b\b\b\b\b\b\b\b\b\b\b\b\b\b\b\b\b\b\b\b\b\b\b\b\b\b\b\b\b\b\b\b\b\b\b\b\b\b\b\b\b\b\b\b\b\b\b\b\b\b\b\b\b\b\b\b\b\b\b\b\b\b\b\b\b\b\b\b\b\b\r",
      "9/9 [==============================] - 0s 5ms/step - loss: 0.6504 - accuracy: 0.6275 - val_loss: 0.6236 - val_accuracy: 0.6889\n"
     ]
    },
    {
     "name": "stdout",
     "output_type": "stream",
     "text": [
      "Epoch 293/400\n"
     ]
    },
    {
     "name": "stdout",
     "output_type": "stream",
     "text": [
      "\r",
      "1/9 [==>...........................] - ETA: 0s - loss: 0.6754 - accuracy: 0.5667"
     ]
    },
    {
     "name": "stdout",
     "output_type": "stream",
     "text": [
      "\b\b\b\b\b\b\b\b\b\b\b\b\b\b\b\b\b\b\b\b\b\b\b\b\b\b\b\b\b\b\b\b\b\b\b\b\b\b\b\b\b\b\b\b\b\b\b\b\b\b\b\b\b\b\b\b\b\b\b\b\b\b\b\b\b\b\b\b\b\b\b\b\b\b\b\b\b\b\b\b\r",
      "9/9 [==============================] - 0s 5ms/step - loss: 0.6503 - accuracy: 0.6275 - val_loss: 0.6235 - val_accuracy: 0.6889\n"
     ]
    },
    {
     "name": "stdout",
     "output_type": "stream",
     "text": [
      "Epoch 294/400\n"
     ]
    },
    {
     "name": "stdout",
     "output_type": "stream",
     "text": [
      "\r",
      "1/9 [==>...........................] - ETA: 0s - loss: 0.7316 - accuracy: 0.4667"
     ]
    },
    {
     "name": "stdout",
     "output_type": "stream",
     "text": [
      "\b\b\b\b\b\b\b\b\b\b\b\b\b\b\b\b\b\b\b\b\b\b\b\b\b\b\b\b\b\b\b\b\b\b\b\b\b\b\b\b\b\b\b\b\b\b\b\b\b\b\b\b\b\b\b\b\b\b\b\b\b\b\b\b\b\b\b\b\b\b\b\b\b\b\b\b\b\b\b\b\r",
      "9/9 [==============================] - 0s 5ms/step - loss: 0.6506 - accuracy: 0.6275 - val_loss: 0.6236 - val_accuracy: 0.6889\n"
     ]
    },
    {
     "name": "stdout",
     "output_type": "stream",
     "text": [
      "Epoch 295/400\n"
     ]
    },
    {
     "name": "stdout",
     "output_type": "stream",
     "text": [
      "\r",
      "1/9 [==>...........................] - ETA: 0s - loss: 0.6621 - accuracy: 0.6000"
     ]
    },
    {
     "name": "stdout",
     "output_type": "stream",
     "text": [
      "\b\b\b\b\b\b\b\b\b\b\b\b\b\b\b\b\b\b\b\b\b\b\b\b\b\b\b\b\b\b\b\b\b\b\b\b\b\b\b\b\b\b\b\b\b\b\b\b\b\b\b\b\b\b\b\b\b\b\b\b\b\b\b\b\b\b\b\b\b\b\b\b\b\b\b\b\b\b\b\b\r",
      "9/9 [==============================] - 0s 5ms/step - loss: 0.6503 - accuracy: 0.6275 - val_loss: 0.6234 - val_accuracy: 0.6889\n"
     ]
    },
    {
     "name": "stdout",
     "output_type": "stream",
     "text": [
      "Epoch 296/400\n"
     ]
    },
    {
     "name": "stdout",
     "output_type": "stream",
     "text": [
      "\r",
      "1/9 [==>...........................] - ETA: 0s - loss: 0.6826 - accuracy: 0.5667"
     ]
    },
    {
     "name": "stdout",
     "output_type": "stream",
     "text": [
      "\b\b\b\b\b\b\b\b\b\b\b\b\b\b\b\b\b\b\b\b\b\b\b\b\b\b\b\b\b\b\b\b\b\b\b\b\b\b\b\b\b\b\b\b\b\b\b\b\b\b\b\b\b\b\b\b\b\b\b\b\b\b\b\b\b\b\b\b\b\b\b\b\b\b\b\b\b\b\b\b\r",
      "9/9 [==============================] - 0s 5ms/step - loss: 0.6505 - accuracy: 0.6275 - val_loss: 0.6236 - val_accuracy: 0.6889\n"
     ]
    },
    {
     "name": "stdout",
     "output_type": "stream",
     "text": [
      "Epoch 297/400\n"
     ]
    },
    {
     "name": "stdout",
     "output_type": "stream",
     "text": [
      "\r",
      "1/9 [==>...........................] - ETA: 0s - loss: 0.5756 - accuracy: 0.8000"
     ]
    },
    {
     "name": "stdout",
     "output_type": "stream",
     "text": [
      "\b\b\b\b\b\b\b\b\b\b\b\b\b\b\b\b\b\b\b\b\b\b\b\b\b\b\b\b\b\b\b\b\b\b\b\b\b\b\b\b\b\b\b\b\b\b\b\b\b\b\b\b\b\b\b\b\b\b\b\b\b\b\b\b\b\b\b\b\b\b\b\b\b\b\b\b\b\b\b\b\r",
      "9/9 [==============================] - 0s 4ms/step - loss: 0.6505 - accuracy: 0.6275 - val_loss: 0.6235 - val_accuracy: 0.6889\n"
     ]
    },
    {
     "name": "stdout",
     "output_type": "stream",
     "text": [
      "Epoch 298/400\n"
     ]
    },
    {
     "name": "stdout",
     "output_type": "stream",
     "text": [
      "\r",
      "1/9 [==>...........................] - ETA: 0s - loss: 0.6838 - accuracy: 0.5667"
     ]
    },
    {
     "name": "stdout",
     "output_type": "stream",
     "text": [
      "\b\b\b\b\b\b\b\b\b\b\b\b\b\b\b\b\b\b\b\b\b\b\b\b\b\b\b\b\b\b\b\b\b\b\b\b\b\b\b\b\b\b\b\b\b\b\b\b\b\b\b\b\b\b\b\b\b\b\b\b\b\b\b\b\b\b\b\b\b\b\b\b\b\b\b\b\b\b\b\b\r",
      "9/9 [==============================] - 0s 5ms/step - loss: 0.6504 - accuracy: 0.6275 - val_loss: 0.6234 - val_accuracy: 0.6889\n"
     ]
    },
    {
     "name": "stdout",
     "output_type": "stream",
     "text": [
      "Epoch 299/400\n"
     ]
    },
    {
     "name": "stdout",
     "output_type": "stream",
     "text": [
      "\r",
      "1/9 [==>...........................] - ETA: 0s - loss: 0.6311 - accuracy: 0.6667"
     ]
    },
    {
     "name": "stdout",
     "output_type": "stream",
     "text": [
      "\b\b\b\b\b\b\b\b\b\b\b\b\b\b\b\b\b\b\b\b\b\b\b\b\b\b\b\b\b\b\b\b\b\b\b\b\b\b\b\b\b\b\b\b\b\b\b\b\b\b\b\b\b\b\b\b\b\b\b\b\b\b\b\b\b\b\b\b\b\b\b\b\b\b\b\b\b\b\b\b\r",
      "9/9 [==============================] - 0s 5ms/step - loss: 0.6504 - accuracy: 0.6275 - val_loss: 0.6229 - val_accuracy: 0.6889\n"
     ]
    },
    {
     "name": "stdout",
     "output_type": "stream",
     "text": [
      "Epoch 300/400\n"
     ]
    },
    {
     "name": "stdout",
     "output_type": "stream",
     "text": [
      "\r",
      "1/9 [==>...........................] - ETA: 0s - loss: 0.6697 - accuracy: 0.5667"
     ]
    },
    {
     "name": "stdout",
     "output_type": "stream",
     "text": [
      "\b\b\b\b\b\b\b\b\b\b\b\b\b\b\b\b\b\b\b\b\b\b\b\b\b\b\b\b\b\b\b\b\b\b\b\b\b\b\b\b\b\b\b\b\b\b\b\b\b\b\b\b\b\b\b\b\b\b\b\b\b\b\b\b\b\b\b\b\b\b\b\b\b\b\b\b\b\b\b\b\r",
      "9/9 [==============================] - 0s 5ms/step - loss: 0.6504 - accuracy: 0.6275 - val_loss: 0.6231 - val_accuracy: 0.6889\n"
     ]
    },
    {
     "name": "stdout",
     "output_type": "stream",
     "text": [
      "Epoch 301/400\n"
     ]
    },
    {
     "name": "stdout",
     "output_type": "stream",
     "text": [
      "\r",
      "1/9 [==>...........................] - ETA: 0s - loss: 0.6744 - accuracy: 0.6000"
     ]
    },
    {
     "name": "stdout",
     "output_type": "stream",
     "text": [
      "\b\b\b\b\b\b\b\b\b\b\b\b\b\b\b\b\b\b\b\b\b\b\b\b\b\b\b\b\b\b\b\b\b\b\b\b\b\b\b\b\b\b\b\b\b\b\b\b\b\b\b\b\b\b\b\b\b\b\b\b\b\b\b\b\b\b\b\b\b\b\b\b\b\b\b\b\b\b\b\b\r",
      "9/9 [==============================] - 0s 4ms/step - loss: 0.6504 - accuracy: 0.6275 - val_loss: 0.6233 - val_accuracy: 0.6889\n"
     ]
    },
    {
     "name": "stdout",
     "output_type": "stream",
     "text": [
      "Epoch 302/400\n"
     ]
    },
    {
     "name": "stdout",
     "output_type": "stream",
     "text": [
      "\r",
      "1/9 [==>...........................] - ETA: 0s - loss: 0.6487 - accuracy: 0.6333"
     ]
    },
    {
     "name": "stdout",
     "output_type": "stream",
     "text": [
      "\b\b\b\b\b\b\b\b\b\b\b\b\b\b\b\b\b\b\b\b\b\b\b\b\b\b\b\b\b\b\b\b\b\b\b\b\b\b\b\b\b\b\b\b\b\b\b\b\b\b\b\b\b\b\b\b\b\b\b\b\b\b\b\b\b\b\b\b\b\b\b\b\b\b\b\b\b\b\b\b\r",
      "9/9 [==============================] - 0s 5ms/step - loss: 0.6505 - accuracy: 0.6275 - val_loss: 0.6234 - val_accuracy: 0.6889\n"
     ]
    },
    {
     "name": "stdout",
     "output_type": "stream",
     "text": [
      "Epoch 303/400\n"
     ]
    },
    {
     "name": "stdout",
     "output_type": "stream",
     "text": [
      "\r",
      "1/9 [==>...........................] - ETA: 0s - loss: 0.6565 - accuracy: 0.6000"
     ]
    },
    {
     "name": "stdout",
     "output_type": "stream",
     "text": [
      "\b\b\b\b\b\b\b\b\b\b\b\b\b\b\b\b\b\b\b\b\b\b\b\b\b\b\b\b\b\b\b\b\b\b\b\b\b\b\b\b\b\b\b\b\b\b\b\b\b\b\b\b\b\b\b\b\b\b\b\b\b\b\b\b\b\b\b\b\b\b\b\b\b\b\b\b\b\b\b\b\r",
      "9/9 [==============================] - 0s 5ms/step - loss: 0.6504 - accuracy: 0.6275 - val_loss: 0.6232 - val_accuracy: 0.6889\n"
     ]
    },
    {
     "name": "stdout",
     "output_type": "stream",
     "text": [
      "Epoch 304/400\n"
     ]
    },
    {
     "name": "stdout",
     "output_type": "stream",
     "text": [
      "\r",
      "1/9 [==>...........................] - ETA: 0s - loss: 0.7083 - accuracy: 0.5000"
     ]
    },
    {
     "name": "stdout",
     "output_type": "stream",
     "text": [
      "\b\b\b\b\b\b\b\b\b\b\b\b\b\b\b\b\b\b\b\b\b\b\b\b\b\b\b\b\b\b\b\b\b\b\b\b\b\b\b\b\b\b\b\b\b\b\b\b\b\b\b\b\b\b\b\b\b\b\b\b\b\b\b\b\b\b\b\b\b\b\b\b\b\b\b\b\b\b\b\b\r",
      "9/9 [==============================] - 0s 5ms/step - loss: 0.6504 - accuracy: 0.6275 - val_loss: 0.6232 - val_accuracy: 0.6889\n"
     ]
    },
    {
     "name": "stdout",
     "output_type": "stream",
     "text": [
      "Epoch 305/400\n"
     ]
    },
    {
     "name": "stdout",
     "output_type": "stream",
     "text": [
      "\r",
      "1/9 [==>...........................] - ETA: 0s - loss: 0.6015 - accuracy: 0.7333"
     ]
    },
    {
     "name": "stdout",
     "output_type": "stream",
     "text": [
      "\b\b\b\b\b\b\b\b\b\b\b\b\b\b\b\b\b\b\b\b\b\b\b\b\b\b\b\b\b\b\b\b\b\b\b\b\b\b\b\b\b\b\b\b\b\b\b\b\b\b\b\b\b\b\b\b\b\b\b\b\b\b\b\b\b\b\b\b\b\b\b\b\b\b\b\b\b\b\b\b\r",
      "9/9 [==============================] - 0s 5ms/step - loss: 0.6504 - accuracy: 0.6275 - val_loss: 0.6235 - val_accuracy: 0.6889\n"
     ]
    },
    {
     "name": "stdout",
     "output_type": "stream",
     "text": [
      "Epoch 306/400\n"
     ]
    },
    {
     "name": "stdout",
     "output_type": "stream",
     "text": [
      "\r",
      "1/9 [==>...........................] - ETA: 0s - loss: 0.6496 - accuracy: 0.6333"
     ]
    },
    {
     "name": "stdout",
     "output_type": "stream",
     "text": [
      "\b\b\b\b\b\b\b\b\b\b\b\b\b\b\b\b\b\b\b\b\b\b\b\b\b\b\b\b\b\b\b\b\b\b\b\b\b\b\b\b\b\b\b\b\b\b\b\b\b\b\b\b\b\b\b\b\b\b\b\b\b\b\b\b\b\b\b\b\b\b\b\b\b\b\b\b\b\b\b\b\r",
      "9/9 [==============================] - 0s 5ms/step - loss: 0.6503 - accuracy: 0.6275 - val_loss: 0.6231 - val_accuracy: 0.6889\n"
     ]
    },
    {
     "name": "stdout",
     "output_type": "stream",
     "text": [
      "Epoch 307/400\n"
     ]
    },
    {
     "name": "stdout",
     "output_type": "stream",
     "text": [
      "\r",
      "1/9 [==>...........................] - ETA: 0s - loss: 0.6683 - accuracy: 0.6333"
     ]
    },
    {
     "name": "stdout",
     "output_type": "stream",
     "text": [
      "\b\b\b\b\b\b\b\b\b\b\b\b\b\b\b\b\b\b\b\b\b\b\b\b\b\b\b\b\b\b\b\b\b\b\b\b\b\b\b\b\b\b\b\b\b\b\b\b\b\b\b\b\b\b\b\b\b\b\b\b\b\b\b\b\b\b\b\b\b\b\b\b\b\b\b\b\b\b\b\b\r",
      "9/9 [==============================] - 0s 5ms/step - loss: 0.6504 - accuracy: 0.6275 - val_loss: 0.6230 - val_accuracy: 0.6889\n"
     ]
    },
    {
     "name": "stdout",
     "output_type": "stream",
     "text": [
      "Epoch 308/400\n"
     ]
    },
    {
     "name": "stdout",
     "output_type": "stream",
     "text": [
      "\r",
      "1/9 [==>...........................] - ETA: 0s - loss: 0.7336 - accuracy: 0.4667"
     ]
    },
    {
     "name": "stdout",
     "output_type": "stream",
     "text": [
      "\b\b\b\b\b\b\b\b\b\b\b\b\b\b\b\b\b\b\b\b\b\b\b\b\b\b\b\b\b\b\b\b\b\b\b\b\b\b\b\b\b\b\b\b\b\b\b\b\b\b\b\b\b\b\b\b\b\b\b\b\b\b\b\b\b\b\b\b\b\b\b\b\b\b\b\b\b\b\b\b\r",
      "9/9 [==============================] - 0s 4ms/step - loss: 0.6504 - accuracy: 0.6275 - val_loss: 0.6228 - val_accuracy: 0.6889\n"
     ]
    },
    {
     "name": "stdout",
     "output_type": "stream",
     "text": [
      "Epoch 309/400\n"
     ]
    },
    {
     "name": "stdout",
     "output_type": "stream",
     "text": [
      "\r",
      "1/9 [==>...........................] - ETA: 0s - loss: 0.6611 - accuracy: 0.6000"
     ]
    },
    {
     "name": "stdout",
     "output_type": "stream",
     "text": [
      "\b\b\b\b\b\b\b\b\b\b\b\b\b\b\b\b\b\b\b\b\b\b\b\b\b\b\b\b\b\b\b\b\b\b\b\b\b\b\b\b\b\b\b\b\b\b\b\b\b\b\b\b\b\b\b\b\b\b\b\b\b\b\b\b\b\b\b\b\b\b\b\b\b\b\b\b\b\b\b\b\r",
      "9/9 [==============================] - 0s 5ms/step - loss: 0.6503 - accuracy: 0.6275 - val_loss: 0.6229 - val_accuracy: 0.6889\n"
     ]
    },
    {
     "name": "stdout",
     "output_type": "stream",
     "text": [
      "Epoch 310/400\n"
     ]
    },
    {
     "name": "stdout",
     "output_type": "stream",
     "text": [
      "\r",
      "1/9 [==>...........................] - ETA: 0s - loss: 0.6544 - accuracy: 0.6333"
     ]
    },
    {
     "name": "stdout",
     "output_type": "stream",
     "text": [
      "\b\b\b\b\b\b\b\b\b\b\b\b\b\b\b\b\b\b\b\b\b\b\b\b\b\b\b\b\b\b\b\b\b\b\b\b\b\b\b\b\b\b\b\b\b\b\b\b\b\b\b\b\b\b\b\b\b\b\b\b\b\b\b\b\b\b\b\b\b\b\b\b\b\b\b\b\b\b\b\b\r",
      "9/9 [==============================] - 0s 5ms/step - loss: 0.6503 - accuracy: 0.6275 - val_loss: 0.6228 - val_accuracy: 0.6889\n"
     ]
    },
    {
     "name": "stdout",
     "output_type": "stream",
     "text": [
      "Epoch 311/400\n"
     ]
    },
    {
     "name": "stdout",
     "output_type": "stream",
     "text": [
      "\r",
      "1/9 [==>...........................] - ETA: 0s - loss: 0.6201 - accuracy: 0.7000"
     ]
    },
    {
     "name": "stdout",
     "output_type": "stream",
     "text": [
      "\b\b\b\b\b\b\b\b\b\b\b\b\b\b\b\b\b\b\b\b\b\b\b\b\b\b\b\b\b\b\b\b\b\b\b\b\b\b\b\b\b\b\b\b\b\b\b\b\b\b\b\b\b\b\b\b\b\b\b\b\b\b\b\b\b\b\b\b\b\b\b\b\b\b\b\b\b\b\b\b\r",
      "9/9 [==============================] - 0s 5ms/step - loss: 0.6503 - accuracy: 0.6275 - val_loss: 0.6230 - val_accuracy: 0.6889\n"
     ]
    },
    {
     "name": "stdout",
     "output_type": "stream",
     "text": [
      "Epoch 312/400\n"
     ]
    },
    {
     "name": "stdout",
     "output_type": "stream",
     "text": [
      "\r",
      "1/9 [==>...........................] - ETA: 0s - loss: 0.6558 - accuracy: 0.6333"
     ]
    },
    {
     "name": "stdout",
     "output_type": "stream",
     "text": [
      "\b\b\b\b\b\b\b\b\b\b\b\b\b\b\b\b\b\b\b\b\b\b\b\b\b\b\b\b\b\b\b\b\b\b\b\b\b\b\b\b\b\b\b\b\b\b\b\b\b\b\b\b\b\b\b\b\b\b\b\b\b\b\b\b\b\b\b\b\b\b\b\b\b\b\b\b\b\b\b\b\r",
      "9/9 [==============================] - 0s 5ms/step - loss: 0.6503 - accuracy: 0.6275 - val_loss: 0.6232 - val_accuracy: 0.6889\n"
     ]
    },
    {
     "name": "stdout",
     "output_type": "stream",
     "text": [
      "Epoch 313/400\n"
     ]
    },
    {
     "name": "stdout",
     "output_type": "stream",
     "text": [
      "\r",
      "1/9 [==>...........................] - ETA: 0s - loss: 0.6485 - accuracy: 0.6000"
     ]
    },
    {
     "name": "stdout",
     "output_type": "stream",
     "text": [
      "\b\b\b\b\b\b\b\b\b\b\b\b\b\b\b\b\b\b\b\b\b\b\b\b\b\b\b\b\b\b\b\b\b\b\b\b\b\b\b\b\b\b\b\b\b\b\b\b\b\b\b\b\b\b\b\b\b\b\b\b\b\b\b\b\b\b\b\b\b\b\b\b\b\b\b\b\b\b\b\b\r",
      "9/9 [==============================] - 0s 5ms/step - loss: 0.6504 - accuracy: 0.6275 - val_loss: 0.6231 - val_accuracy: 0.6889\n"
     ]
    },
    {
     "name": "stdout",
     "output_type": "stream",
     "text": [
      "Epoch 314/400\n"
     ]
    },
    {
     "name": "stdout",
     "output_type": "stream",
     "text": [
      "\r",
      "1/9 [==>...........................] - ETA: 0s - loss: 0.7000 - accuracy: 0.5333"
     ]
    },
    {
     "name": "stdout",
     "output_type": "stream",
     "text": [
      "\b\b\b\b\b\b\b\b\b\b\b\b\b\b\b\b\b\b\b\b\b\b\b\b\b\b\b\b\b\b\b\b\b\b\b\b\b\b\b\b\b\b\b\b\b\b\b\b\b\b\b\b\b\b\b\b\b\b\b\b\b\b\b\b\b\b\b\b\b\b\b\b\b\b\b\b\b\b\b\b\r",
      "9/9 [==============================] - 0s 4ms/step - loss: 0.6504 - accuracy: 0.6275 - val_loss: 0.6233 - val_accuracy: 0.6889\n"
     ]
    },
    {
     "name": "stdout",
     "output_type": "stream",
     "text": [
      "Epoch 315/400\n"
     ]
    },
    {
     "name": "stdout",
     "output_type": "stream",
     "text": [
      "\r",
      "1/9 [==>...........................] - ETA: 0s - loss: 0.6838 - accuracy: 0.5667"
     ]
    },
    {
     "name": "stdout",
     "output_type": "stream",
     "text": [
      "\b\b\b\b\b\b\b\b\b\b\b\b\b\b\b\b\b\b\b\b\b\b\b\b\b\b\b\b\b\b\b\b\b\b\b\b\b\b\b\b\b\b\b\b\b\b\b\b\b\b\b\b\b\b\b\b\b\b\b\b\b\b\b\b\b\b\b\b\b\b\b\b\b\b\b\b\b\b\b\b\r",
      "9/9 [==============================] - 0s 6ms/step - loss: 0.6503 - accuracy: 0.6275 - val_loss: 0.6232 - val_accuracy: 0.6889\n"
     ]
    },
    {
     "name": "stdout",
     "output_type": "stream",
     "text": [
      "Epoch 316/400\n"
     ]
    },
    {
     "name": "stdout",
     "output_type": "stream",
     "text": [
      "\r",
      "1/9 [==>...........................] - ETA: 0s - loss: 0.6544 - accuracy: 0.6333"
     ]
    },
    {
     "name": "stdout",
     "output_type": "stream",
     "text": [
      "\b\b\b\b\b\b\b\b\b\b\b\b\b\b\b\b\b\b\b\b\b\b\b\b\b\b\b\b\b\b\b\b\b\b\b\b\b\b\b\b\b\b\b\b\b\b\b\b\b\b\b\b\b\b\b\b\b\b\b\b\b\b\b\b\b\b\b\b\b\b\b\b\b\b\b\b\b\b\b\b\r",
      "9/9 [==============================] - 0s 5ms/step - loss: 0.6503 - accuracy: 0.6275 - val_loss: 0.6233 - val_accuracy: 0.6889\n"
     ]
    },
    {
     "name": "stdout",
     "output_type": "stream",
     "text": [
      "Epoch 317/400\n"
     ]
    },
    {
     "name": "stdout",
     "output_type": "stream",
     "text": [
      "\r",
      "1/9 [==>...........................] - ETA: 0s - loss: 0.6276 - accuracy: 0.7000"
     ]
    },
    {
     "name": "stdout",
     "output_type": "stream",
     "text": [
      "\b\b\b\b\b\b\b\b\b\b\b\b\b\b\b\b\b\b\b\b\b\b\b\b\b\b\b\b\b\b\b\b\b\b\b\b\b\b\b\b\b\b\b\b\b\b\b\b\b\b\b\b\b\b\b\b\b\b\b\b\b\b\b\b\b\b\b\b\b\b\b\b\b\b\b\b\b\b\b\b\r",
      "9/9 [==============================] - 0s 4ms/step - loss: 0.6504 - accuracy: 0.6275 - val_loss: 0.6234 - val_accuracy: 0.6889\n"
     ]
    },
    {
     "name": "stdout",
     "output_type": "stream",
     "text": [
      "Epoch 318/400\n"
     ]
    },
    {
     "name": "stdout",
     "output_type": "stream",
     "text": [
      "\r",
      "1/9 [==>...........................] - ETA: 0s - loss: 0.6481 - accuracy: 0.6333"
     ]
    },
    {
     "name": "stdout",
     "output_type": "stream",
     "text": [
      "\b\b\b\b\b\b\b\b\b\b\b\b\b\b\b\b\b\b\b\b\b\b\b\b\b\b\b\b\b\b\b\b\b\b\b\b\b\b\b\b\b\b\b\b\b\b\b\b\b\b\b\b\b\b\b\b\b\b\b\b\b\b\b\b\b\b\b\b\b\b\b\b\b\b\b\b\b\b\b\b\r",
      "9/9 [==============================] - 0s 5ms/step - loss: 0.6503 - accuracy: 0.6275 - val_loss: 0.6235 - val_accuracy: 0.6889\n"
     ]
    },
    {
     "name": "stdout",
     "output_type": "stream",
     "text": [
      "Epoch 319/400\n"
     ]
    },
    {
     "name": "stdout",
     "output_type": "stream",
     "text": [
      "\r",
      "1/9 [==>...........................] - ETA: 0s - loss: 0.5660 - accuracy: 0.8000"
     ]
    },
    {
     "name": "stdout",
     "output_type": "stream",
     "text": [
      "\b\b\b\b\b\b\b\b\b\b\b\b\b\b\b\b\b\b\b\b\b\b\b\b\b\b\b\b\b\b\b\b\b\b\b\b\b\b\b\b\b\b\b\b\b\b\b\b\b\b\b\b\b\b\b\b\b\b\b\b\b\b\b\b\b\b\b\b\b\b\b\b\b\b\b\b\b\b\b\b\r",
      "9/9 [==============================] - 0s 6ms/step - loss: 0.6504 - accuracy: 0.6275 - val_loss: 0.6239 - val_accuracy: 0.6889\n"
     ]
    },
    {
     "name": "stdout",
     "output_type": "stream",
     "text": [
      "Epoch 320/400\n"
     ]
    },
    {
     "name": "stdout",
     "output_type": "stream",
     "text": [
      "\r",
      "1/9 [==>...........................] - ETA: 0s - loss: 0.6158 - accuracy: 0.7000"
     ]
    },
    {
     "name": "stdout",
     "output_type": "stream",
     "text": [
      "\b\b\b\b\b\b\b\b\b\b\b\b\b\b\b\b\b\b\b\b\b\b\b\b\b\b\b\b\b\b\b\b\b\b\b\b\b\b\b\b\b\b\b\b\b\b\b\b\b\b\b\b\b\b\b\b\b\b\b\b\b\b\b\b\b\b\b\b\b\b\b\b\b\b\b\b\b\b\b\b\r",
      "9/9 [==============================] - 0s 5ms/step - loss: 0.6504 - accuracy: 0.6275 - val_loss: 0.6235 - val_accuracy: 0.6889\n"
     ]
    },
    {
     "name": "stdout",
     "output_type": "stream",
     "text": [
      "Epoch 321/400\n"
     ]
    },
    {
     "name": "stdout",
     "output_type": "stream",
     "text": [
      "\r",
      "1/9 [==>...........................] - ETA: 0s - loss: 0.6409 - accuracy: 0.6333"
     ]
    },
    {
     "name": "stdout",
     "output_type": "stream",
     "text": [
      "\b\b\b\b\b\b\b\b\b\b\b\b\b\b\b\b\b\b\b\b\b\b\b\b\b\b\b\b\b\b\b\b\b\b\b\b\b\b\b\b\b\b\b\b\b\b\b\b\b\b\b\b\b\b\b\b\b\b\b\b\b\b\b\b\b\b\b\b\b\b\b\b\b\b\b\b\b\b\b\b\r",
      "9/9 [==============================] - 0s 5ms/step - loss: 0.6505 - accuracy: 0.6275 - val_loss: 0.6231 - val_accuracy: 0.6889\n"
     ]
    },
    {
     "name": "stdout",
     "output_type": "stream",
     "text": [
      "Epoch 322/400\n"
     ]
    },
    {
     "name": "stdout",
     "output_type": "stream",
     "text": [
      "\r",
      "1/9 [==>...........................] - ETA: 0s - loss: 0.6755 - accuracy: 0.5667"
     ]
    },
    {
     "name": "stdout",
     "output_type": "stream",
     "text": [
      "\b\b\b\b\b\b\b\b\b\b\b\b\b\b\b\b\b\b\b\b\b\b\b\b\b\b\b\b\b\b\b\b\b\b\b\b\b\b\b\b\b\b\b\b\b\b\b\b\b\b\b\b\b\b\b\b\b\b\b\b\b\b\b\b\b\b\b\b\b\b\b\b\b\b\b\b\b\b\b\b\r",
      "9/9 [==============================] - 0s 6ms/step - loss: 0.6504 - accuracy: 0.6275 - val_loss: 0.6231 - val_accuracy: 0.6889\n"
     ]
    },
    {
     "name": "stdout",
     "output_type": "stream",
     "text": [
      "Epoch 323/400\n"
     ]
    },
    {
     "name": "stdout",
     "output_type": "stream",
     "text": [
      "\r",
      "1/9 [==>...........................] - ETA: 0s - loss: 0.6703 - accuracy: 0.5667"
     ]
    },
    {
     "name": "stdout",
     "output_type": "stream",
     "text": [
      "\b\b\b\b\b\b\b\b\b\b\b\b\b\b\b\b\b\b\b\b\b\b\b\b\b\b\b\b\b\b\b\b\b\b\b\b\b\b\b\b\b\b\b\b\b\b\b\b\b\b\b\b\b\b\b\b\b\b\b\b\b\b\b\b\b\b\b\b\b\b\b\b\b\b\b\b\b\b\b\b\r",
      "9/9 [==============================] - 0s 5ms/step - loss: 0.6504 - accuracy: 0.6275 - val_loss: 0.6230 - val_accuracy: 0.6889\n"
     ]
    },
    {
     "name": "stdout",
     "output_type": "stream",
     "text": [
      "Epoch 324/400\n"
     ]
    },
    {
     "name": "stdout",
     "output_type": "stream",
     "text": [
      "\r",
      "1/9 [==>...........................] - ETA: 0s - loss: 0.6392 - accuracy: 0.6333"
     ]
    },
    {
     "name": "stdout",
     "output_type": "stream",
     "text": [
      "\b\b\b\b\b\b\b\b\b\b\b\b\b\b\b\b\b\b\b\b\b\b\b\b\b\b\b\b\b\b\b\b\b\b\b\b\b\b\b\b\b\b\b\b\b\b\b\b\b\b\b\b\b\b\b\b\b\b\b\b\b\b\b\b\b\b\b\b\b\b\b\b\b\b\b\b\b\b\b\b\r",
      "9/9 [==============================] - 0s 6ms/step - loss: 0.6504 - accuracy: 0.6275 - val_loss: 0.6226 - val_accuracy: 0.6889\n"
     ]
    },
    {
     "name": "stdout",
     "output_type": "stream",
     "text": [
      "Epoch 325/400\n"
     ]
    },
    {
     "name": "stdout",
     "output_type": "stream",
     "text": [
      "\r",
      "1/9 [==>...........................] - ETA: 0s - loss: 0.7459 - accuracy: 0.4333"
     ]
    },
    {
     "name": "stdout",
     "output_type": "stream",
     "text": [
      "\b\b\b\b\b\b\b\b\b\b\b\b\b\b\b\b\b\b\b\b\b\b\b\b\b\b\b\b\b\b\b\b\b\b\b\b\b\b\b\b\b\b\b\b\b\b\b\b\b\b\b\b\b\b\b\b\b\b\b\b\b\b\b\b\b\b\b\b\b\b\b\b\b\b\b\b\b\b\b\b\r",
      "9/9 [==============================] - 0s 5ms/step - loss: 0.6505 - accuracy: 0.6275 - val_loss: 0.6225 - val_accuracy: 0.6889\n"
     ]
    },
    {
     "name": "stdout",
     "output_type": "stream",
     "text": [
      "Epoch 326/400\n"
     ]
    },
    {
     "name": "stdout",
     "output_type": "stream",
     "text": [
      "\r",
      "1/9 [==>...........................] - ETA: 0s - loss: 0.6506 - accuracy: 0.6000"
     ]
    },
    {
     "name": "stdout",
     "output_type": "stream",
     "text": [
      "\b\b\b\b\b\b\b\b\b\b\b\b\b\b\b\b\b\b\b\b\b\b\b\b\b\b\b\b\b\b\b\b\b\b\b\b\b\b\b\b\b\b\b\b\b\b\b\b\b\b\b\b\b\b\b\b\b\b\b\b\b\b\b\b\b\b\b\b\b\b\b\b\b\b\b\b\b\b\b\b\r",
      "9/9 [==============================] - 0s 5ms/step - loss: 0.6503 - accuracy: 0.6275 - val_loss: 0.6230 - val_accuracy: 0.6889\n"
     ]
    },
    {
     "name": "stdout",
     "output_type": "stream",
     "text": [
      "Epoch 327/400\n"
     ]
    },
    {
     "name": "stdout",
     "output_type": "stream",
     "text": [
      "\r",
      "1/9 [==>...........................] - ETA: 0s - loss: 0.6625 - accuracy: 0.6000"
     ]
    },
    {
     "name": "stdout",
     "output_type": "stream",
     "text": [
      "\b\b\b\b\b\b\b\b\b\b\b\b\b\b\b\b\b\b\b\b\b\b\b\b\b\b\b\b\b\b\b\b\b\b\b\b\b\b\b\b\b\b\b\b\b\b\b\b\b\b\b\b\b\b\b\b\b\b\b\b\b\b\b\b\b\b\b\b\b\b\b\b\b\b\b\b\b\b\b\b\r",
      "9/9 [==============================] - 0s 6ms/step - loss: 0.6506 - accuracy: 0.6275 - val_loss: 0.6234 - val_accuracy: 0.6889\n"
     ]
    },
    {
     "name": "stdout",
     "output_type": "stream",
     "text": [
      "Epoch 328/400\n"
     ]
    },
    {
     "name": "stdout",
     "output_type": "stream",
     "text": [
      "\r",
      "1/9 [==>...........................] - ETA: 0s - loss: 0.6485 - accuracy: 0.6333"
     ]
    },
    {
     "name": "stdout",
     "output_type": "stream",
     "text": [
      "\b\b\b\b\b\b\b\b\b\b\b\b\b\b\b\b\b\b\b\b\b\b\b\b\b\b\b\b\b\b\b\b\b\b\b\b\b\b\b\b\b\b\b\b\b\b\b\b\b\b\b\b\b\b\b\b\b\b\b\b\b\b\b\b\b\b\b\b\b\b\b\b\b\b\b\b\b\b\b\b\r",
      "9/9 [==============================] - 0s 5ms/step - loss: 0.6503 - accuracy: 0.6275 - val_loss: 0.6234 - val_accuracy: 0.6889\n"
     ]
    },
    {
     "name": "stdout",
     "output_type": "stream",
     "text": [
      "Epoch 329/400\n"
     ]
    },
    {
     "name": "stdout",
     "output_type": "stream",
     "text": [
      "\r",
      "1/9 [==>...........................] - ETA: 0s - loss: 0.7263 - accuracy: 0.4667"
     ]
    },
    {
     "name": "stdout",
     "output_type": "stream",
     "text": [
      "\b\b\b\b\b\b\b\b\b\b\b\b\b\b\b\b\b\b\b\b\b\b\b\b\b\b\b\b\b\b\b\b\b\b\b\b\b\b\b\b\b\b\b\b\b\b\b\b\b\b\b\b\b\b\b\b\b\b\b\b\b\b\b\b\b\b\b\b\b\b\b\b\b\b\b\b\b\b\b\b\r",
      "9/9 [==============================] - 0s 4ms/step - loss: 0.6504 - accuracy: 0.6275 - val_loss: 0.6230 - val_accuracy: 0.6889\n"
     ]
    },
    {
     "name": "stdout",
     "output_type": "stream",
     "text": [
      "Epoch 330/400\n"
     ]
    },
    {
     "name": "stdout",
     "output_type": "stream",
     "text": [
      "\r",
      "1/9 [==>...........................] - ETA: 0s - loss: 0.7211 - accuracy: 0.4667"
     ]
    },
    {
     "name": "stdout",
     "output_type": "stream",
     "text": [
      "\b\b\b\b\b\b\b\b\b\b\b\b\b\b\b\b\b\b\b\b\b\b\b\b\b\b\b\b\b\b\b\b\b\b\b\b\b\b\b\b\b\b\b\b\b\b\b\b\b\b\b\b\b\b\b\b\b\b\b\b\b\b\b\b\b\b\b\b\b\b\b\b\b\b\b\b\b\b\b\b\r",
      "9/9 [==============================] - 0s 4ms/step - loss: 0.6506 - accuracy: 0.6275 - val_loss: 0.6229 - val_accuracy: 0.6889\n"
     ]
    },
    {
     "name": "stdout",
     "output_type": "stream",
     "text": [
      "Epoch 331/400\n"
     ]
    },
    {
     "name": "stdout",
     "output_type": "stream",
     "text": [
      "\r",
      "1/9 [==>...........................] - ETA: 0s - loss: 0.6479 - accuracy: 0.6333"
     ]
    },
    {
     "name": "stdout",
     "output_type": "stream",
     "text": [
      "\b\b\b\b\b\b\b\b\b\b\b\b\b\b\b\b\b\b\b\b\b\b\b\b\b\b\b\b\b\b\b\b\b\b\b\b\b\b\b\b\b\b\b\b\b\b\b\b\b\b\b\b\b\b\b\b\b\b\b\b\b\b\b\b\b\b\b\b\b\b\b\b\b\b\b\b\b\b\b\b\r",
      "9/9 [==============================] - 0s 5ms/step - loss: 0.6503 - accuracy: 0.6275 - val_loss: 0.6226 - val_accuracy: 0.6889\n"
     ]
    },
    {
     "name": "stdout",
     "output_type": "stream",
     "text": [
      "Epoch 332/400\n"
     ]
    },
    {
     "name": "stdout",
     "output_type": "stream",
     "text": [
      "\r",
      "1/9 [==>...........................] - ETA: 0s - loss: 0.6752 - accuracy: 0.5667"
     ]
    },
    {
     "name": "stdout",
     "output_type": "stream",
     "text": [
      "\b\b\b\b\b\b\b\b\b\b\b\b\b\b\b\b\b\b\b\b\b\b\b\b\b\b\b\b\b\b\b\b\b\b\b\b\b\b\b\b\b\b\b\b\b\b\b\b\b\b\b\b\b\b\b\b\b\b\b\b\b\b\b\b\b\b\b\b\b\b\b\b\b\b\b\b\b\b\b\b\r",
      "9/9 [==============================] - 0s 5ms/step - loss: 0.6504 - accuracy: 0.6275 - val_loss: 0.6225 - val_accuracy: 0.6889\n"
     ]
    },
    {
     "name": "stdout",
     "output_type": "stream",
     "text": [
      "Epoch 333/400\n"
     ]
    },
    {
     "name": "stdout",
     "output_type": "stream",
     "text": [
      "\r",
      "1/9 [==>...........................] - ETA: 0s - loss: 0.6297 - accuracy: 0.6667"
     ]
    },
    {
     "name": "stdout",
     "output_type": "stream",
     "text": [
      "\b\b\b\b\b\b\b\b\b\b\b\b\b\b\b\b\b\b\b\b\b\b\b\b\b\b\b\b\b\b\b\b\b\b\b\b\b\b\b\b\b\b\b\b\b\b\b\b\b\b\b\b\b\b\b\b\b\b\b\b\b\b\b\b\b\b\b\b\b\b\b\b\b\b\b\b\b\b\b\b\r",
      "9/9 [==============================] - 0s 5ms/step - loss: 0.6503 - accuracy: 0.6275 - val_loss: 0.6227 - val_accuracy: 0.6889\n"
     ]
    },
    {
     "name": "stdout",
     "output_type": "stream",
     "text": [
      "Epoch 334/400\n"
     ]
    },
    {
     "name": "stdout",
     "output_type": "stream",
     "text": [
      "\r",
      "1/9 [==>...........................] - ETA: 0s - loss: 0.7005 - accuracy: 0.5333"
     ]
    },
    {
     "name": "stdout",
     "output_type": "stream",
     "text": [
      "\b\b\b\b\b\b\b\b\b\b\b\b\b\b\b\b\b\b\b\b\b\b\b\b\b\b\b\b\b\b\b\b\b\b\b\b\b\b\b\b\b\b\b\b\b\b\b\b\b\b\b\b\b\b\b\b\b\b\b\b\b\b\b\b\b\b\b\b\b\b\b\b\b\b\b\b\b\b\b\b\r",
      "9/9 [==============================] - 0s 5ms/step - loss: 0.6504 - accuracy: 0.6275 - val_loss: 0.6227 - val_accuracy: 0.6889\n"
     ]
    },
    {
     "name": "stdout",
     "output_type": "stream",
     "text": [
      "Epoch 335/400\n"
     ]
    },
    {
     "name": "stdout",
     "output_type": "stream",
     "text": [
      "\r",
      "1/9 [==>...........................] - ETA: 0s - loss: 0.6445 - accuracy: 0.6667"
     ]
    },
    {
     "name": "stdout",
     "output_type": "stream",
     "text": [
      "\b\b\b\b\b\b\b\b\b\b\b\b\b\b\b\b\b\b\b\b\b\b\b\b\b\b\b\b\b\b\b\b\b\b\b\b\b\b\b\b\b\b\b\b\b\b\b\b\b\b\b\b\b\b\b\b\b\b\b\b\b\b\b\b\b\b\b\b\b\b\b\b\b\b\b\b\b\b\b\b\r",
      "9/9 [==============================] - 0s 5ms/step - loss: 0.6504 - accuracy: 0.6275 - val_loss: 0.6232 - val_accuracy: 0.6889\n"
     ]
    },
    {
     "name": "stdout",
     "output_type": "stream",
     "text": [
      "Epoch 336/400\n"
     ]
    },
    {
     "name": "stdout",
     "output_type": "stream",
     "text": [
      "\r",
      "1/9 [==>...........................] - ETA: 0s - loss: 0.6361 - accuracy: 0.6667"
     ]
    },
    {
     "name": "stdout",
     "output_type": "stream",
     "text": [
      "\b\b\b\b\b\b\b\b\b\b\b\b\b\b\b\b\b\b\b\b\b\b\b\b\b\b\b\b\b\b\b\b\b\b\b\b\b\b\b\b\b\b\b\b\b\b\b\b\b\b\b\b\b\b\b\b\b\b\b\b\b\b\b\b\b\b\b\b\b\b\b\b\b\b\b\b\b\b\b\b\r",
      "9/9 [==============================] - 0s 5ms/step - loss: 0.6503 - accuracy: 0.6275 - val_loss: 0.6234 - val_accuracy: 0.6889\n"
     ]
    },
    {
     "name": "stdout",
     "output_type": "stream",
     "text": [
      "Epoch 337/400\n"
     ]
    },
    {
     "name": "stdout",
     "output_type": "stream",
     "text": [
      "\r",
      "1/9 [==>...........................] - ETA: 0s - loss: 0.6955 - accuracy: 0.5333"
     ]
    },
    {
     "name": "stdout",
     "output_type": "stream",
     "text": [
      "\b\b\b\b\b\b\b\b\b\b\b\b\b\b\b\b\b\b\b\b\b\b\b\b\b\b\b\b\b\b\b\b\b\b\b\b\b\b\b\b\b\b\b\b\b\b\b\b\b\b\b\b\b\b\b\b\b\b\b\b\b\b\b\b\b\b\b\b\b\b\b\b\b\b\b\b\b\b\b\b\r",
      "9/9 [==============================] - 0s 5ms/step - loss: 0.6505 - accuracy: 0.6275 - val_loss: 0.6233 - val_accuracy: 0.6889\n"
     ]
    },
    {
     "name": "stdout",
     "output_type": "stream",
     "text": [
      "Epoch 338/400\n"
     ]
    },
    {
     "name": "stdout",
     "output_type": "stream",
     "text": [
      "\r",
      "1/9 [==>...........................] - ETA: 0s - loss: 0.6233 - accuracy: 0.6667"
     ]
    },
    {
     "name": "stdout",
     "output_type": "stream",
     "text": [
      "\b\b\b\b\b\b\b\b\b\b\b\b\b\b\b\b\b\b\b\b\b\b\b\b\b\b\b\b\b\b\b\b\b\b\b\b\b\b\b\b\b\b\b\b\b\b\b\b\b\b\b\b\b\b\b\b\b\b\b\b\b\b\b\b\b\b\b\b\b\b\b\b\b\b\b\b\b\b\b\b\r",
      "9/9 [==============================] - 0s 5ms/step - loss: 0.6503 - accuracy: 0.6275 - val_loss: 0.6231 - val_accuracy: 0.6889\n"
     ]
    },
    {
     "name": "stdout",
     "output_type": "stream",
     "text": [
      "Epoch 339/400\n"
     ]
    },
    {
     "name": "stdout",
     "output_type": "stream",
     "text": [
      "\r",
      "1/9 [==>...........................] - ETA: 0s - loss: 0.6629 - accuracy: 0.6000"
     ]
    },
    {
     "name": "stdout",
     "output_type": "stream",
     "text": [
      "\b\b\b\b\b\b\b\b\b\b\b\b\b\b\b\b\b\b\b\b\b\b\b\b\b\b\b\b\b\b\b\b\b\b\b\b\b\b\b\b\b\b\b\b\b\b\b\b\b\b\b\b\b\b\b\b\b\b\b\b\b\b\b\b\b\b\b\b\b\b\b\b\b\b\b\b\b\b\b\b\r",
      "9/9 [==============================] - 0s 5ms/step - loss: 0.6503 - accuracy: 0.6275 - val_loss: 0.6228 - val_accuracy: 0.6889\n"
     ]
    },
    {
     "name": "stdout",
     "output_type": "stream",
     "text": [
      "Epoch 340/400\n"
     ]
    },
    {
     "name": "stdout",
     "output_type": "stream",
     "text": [
      "\r",
      "1/9 [==>...........................] - ETA: 0s - loss: 0.5717 - accuracy: 0.8000"
     ]
    },
    {
     "name": "stdout",
     "output_type": "stream",
     "text": [
      "\b\b\b\b\b\b\b\b\b\b\b\b\b\b\b\b\b\b\b\b\b\b\b\b\b\b\b\b\b\b\b\b\b\b\b\b\b\b\b\b\b\b\b\b\b\b\b\b\b\b\b\b\b\b\b\b\b\b\b\b\b\b\b\b\b\b\b\b\b\b\b\b\b\b\b\b\b\b\b\b\r",
      "9/9 [==============================] - 0s 5ms/step - loss: 0.6504 - accuracy: 0.6275 - val_loss: 0.6232 - val_accuracy: 0.6889\n"
     ]
    },
    {
     "name": "stdout",
     "output_type": "stream",
     "text": [
      "Epoch 341/400\n"
     ]
    },
    {
     "name": "stdout",
     "output_type": "stream",
     "text": [
      "\r",
      "1/9 [==>...........................] - ETA: 0s - loss: 0.6820 - accuracy: 0.5667"
     ]
    },
    {
     "name": "stdout",
     "output_type": "stream",
     "text": [
      "\b\b\b\b\b\b\b\b\b\b\b\b\b\b\b\b\b\b\b\b\b\b\b\b\b\b\b\b\b\b\b\b\b\b\b\b\b\b\b\b\b\b\b\b\b\b\b\b\b\b\b\b\b\b\b\b\b\b\b\b\b\b\b\b\b\b\b\b\b\b\b\b\b\b\b\b\b\b\b\b\r",
      "9/9 [==============================] - 0s 5ms/step - loss: 0.6503 - accuracy: 0.6275 - val_loss: 0.6229 - val_accuracy: 0.6889\n"
     ]
    },
    {
     "name": "stdout",
     "output_type": "stream",
     "text": [
      "Epoch 342/400\n"
     ]
    },
    {
     "name": "stdout",
     "output_type": "stream",
     "text": [
      "\r",
      "1/9 [==>...........................] - ETA: 0s - loss: 0.6247 - accuracy: 0.6667"
     ]
    },
    {
     "name": "stdout",
     "output_type": "stream",
     "text": [
      "\b\b\b\b\b\b\b\b\b\b\b\b\b\b\b\b\b\b\b\b\b\b\b\b\b\b\b\b\b\b\b\b\b\b\b\b\b\b\b\b\b\b\b\b\b\b\b\b\b\b\b\b\b\b\b\b\b\b\b\b\b\b\b\b\b\b\b\b\b\b\b\b\b\b\b\b\b\b\b\b\r",
      "9/9 [==============================] - 0s 5ms/step - loss: 0.6504 - accuracy: 0.6275 - val_loss: 0.6231 - val_accuracy: 0.6889\n"
     ]
    },
    {
     "name": "stdout",
     "output_type": "stream",
     "text": [
      "Epoch 343/400\n"
     ]
    },
    {
     "name": "stdout",
     "output_type": "stream",
     "text": [
      "\r",
      "1/9 [==>...........................] - ETA: 0s - loss: 0.5905 - accuracy: 0.7333"
     ]
    },
    {
     "name": "stdout",
     "output_type": "stream",
     "text": [
      "\b\b\b\b\b\b\b\b\b\b\b\b\b\b\b\b\b\b\b\b\b\b\b\b\b\b\b\b\b\b\b\b\b\b\b\b\b\b\b\b\b\b\b\b\b\b\b\b\b\b\b\b\b\b\b\b\b\b\b\b\b\b\b\b\b\b\b\b\b\b\b\b\b\b\b\b\b\b\b\b\r",
      "9/9 [==============================] - 0s 7ms/step - loss: 0.6503 - accuracy: 0.6275 - val_loss: 0.6229 - val_accuracy: 0.6889\n"
     ]
    },
    {
     "name": "stdout",
     "output_type": "stream",
     "text": [
      "Epoch 344/400\n"
     ]
    },
    {
     "name": "stdout",
     "output_type": "stream",
     "text": [
      "\r",
      "1/9 [==>...........................] - ETA: 0s - loss: 0.6324 - accuracy: 0.6667"
     ]
    },
    {
     "name": "stdout",
     "output_type": "stream",
     "text": [
      "\b\b\b\b\b\b\b\b\b\b\b\b\b\b\b\b\b\b\b\b\b\b\b\b\b\b\b\b\b\b\b\b\b\b\b\b\b\b\b\b\b\b\b\b\b\b\b\b\b\b\b\b\b\b\b\b\b\b\b\b\b\b\b\b\b\b\b\b\b\b\b\b\b\b\b\b\b\b\b\b\r",
      "9/9 [==============================] - 0s 9ms/step - loss: 0.6503 - accuracy: 0.6275 - val_loss: 0.6228 - val_accuracy: 0.6889\n"
     ]
    },
    {
     "name": "stdout",
     "output_type": "stream",
     "text": [
      "Epoch 345/400\n"
     ]
    },
    {
     "name": "stdout",
     "output_type": "stream",
     "text": [
      "\r",
      "1/9 [==>...........................] - ETA: 0s - loss: 0.5466 - accuracy: 0.8333"
     ]
    },
    {
     "name": "stdout",
     "output_type": "stream",
     "text": [
      "\b\b\b\b\b\b\b\b\b\b\b\b\b\b\b\b\b\b\b\b\b\b\b\b\b\b\b\b\b\b\b\b\b\b\b\b\b\b\b\b\b\b\b\b\b\b\b\b\b\b\b\b\b\b\b\b\b\b\b\b\b\b\b\b\b\b\b\b\b\b\b\b\b\b\b\b\b\b\b\b\r",
      "9/9 [==============================] - 0s 8ms/step - loss: 0.6505 - accuracy: 0.6275 - val_loss: 0.6229 - val_accuracy: 0.6889\n"
     ]
    },
    {
     "name": "stdout",
     "output_type": "stream",
     "text": [
      "Epoch 346/400\n"
     ]
    },
    {
     "name": "stdout",
     "output_type": "stream",
     "text": [
      "\r",
      "1/9 [==>...........................] - ETA: 0s - loss: 0.6864 - accuracy: 0.5667"
     ]
    },
    {
     "name": "stdout",
     "output_type": "stream",
     "text": [
      "\b\b\b\b\b\b\b\b\b\b\b\b\b\b\b\b\b\b\b\b\b\b\b\b\b\b\b\b\b\b\b\b\b\b\b\b\b\b\b\b\b\b\b\b\b\b\b\b\b\b\b\b\b\b\b\b\b\b\b\b\b\b\b\b\b\b\b\b\b\b\b\b\b\b\b\b\b\b\b\b\r",
      "9/9 [==============================] - 0s 5ms/step - loss: 0.6503 - accuracy: 0.6275 - val_loss: 0.6230 - val_accuracy: 0.6889\n"
     ]
    },
    {
     "name": "stdout",
     "output_type": "stream",
     "text": [
      "Epoch 347/400\n"
     ]
    },
    {
     "name": "stdout",
     "output_type": "stream",
     "text": [
      "\r",
      "1/9 [==>...........................] - ETA: 0s - loss: 0.6580 - accuracy: 0.6000"
     ]
    },
    {
     "name": "stdout",
     "output_type": "stream",
     "text": [
      "\b\b\b\b\b\b\b\b\b\b\b\b\b\b\b\b\b\b\b\b\b\b\b\b\b\b\b\b\b\b\b\b\b\b\b\b\b\b\b\b\b\b\b\b\b\b\b\b\b\b\b\b\b\b\b\b\b\b\b\b\b\b\b\b\b\b\b\b\b\b\b\b\b\b\b\b\b\b\b\b\r",
      "9/9 [==============================] - 0s 5ms/step - loss: 0.6505 - accuracy: 0.6275 - val_loss: 0.6229 - val_accuracy: 0.6889\n"
     ]
    },
    {
     "name": "stdout",
     "output_type": "stream",
     "text": [
      "Epoch 348/400\n"
     ]
    },
    {
     "name": "stdout",
     "output_type": "stream",
     "text": [
      "\r",
      "1/9 [==>...........................] - ETA: 0s - loss: 0.6639 - accuracy: 0.6000"
     ]
    },
    {
     "name": "stdout",
     "output_type": "stream",
     "text": [
      "\b\b\b\b\b\b\b\b\b\b\b\b\b\b\b\b\b\b\b\b\b\b\b\b\b\b\b\b\b\b\b\b\b\b\b\b\b\b\b\b\b\b\b\b\b\b\b\b\b\b\b\b\b\b\b\b\b\b\b\b\b\b\b\b\b\b\b\b\b\b\b\b\b\b\b\b\b\b\b\b\r",
      "9/9 [==============================] - 0s 5ms/step - loss: 0.6504 - accuracy: 0.6275 - val_loss: 0.6227 - val_accuracy: 0.6889\n"
     ]
    },
    {
     "name": "stdout",
     "output_type": "stream",
     "text": [
      "Epoch 349/400\n"
     ]
    },
    {
     "name": "stdout",
     "output_type": "stream",
     "text": [
      "\r",
      "1/9 [==>...........................] - ETA: 0s - loss: 0.6426 - accuracy: 0.6333"
     ]
    },
    {
     "name": "stdout",
     "output_type": "stream",
     "text": [
      "\b\b\b\b\b\b\b\b\b\b\b\b\b\b\b\b\b\b\b\b\b\b\b\b\b\b\b\b\b\b\b\b\b\b\b\b\b\b\b\b\b\b\b\b\b\b\b\b\b\b\b\b\b\b\b\b\b\b\b\b\b\b\b\b\b\b\b\b\b\b\b\b\b\b\b\b\b\b\b\b\r",
      "9/9 [==============================] - 0s 5ms/step - loss: 0.6503 - accuracy: 0.6275 - val_loss: 0.6228 - val_accuracy: 0.6889\n"
     ]
    },
    {
     "name": "stdout",
     "output_type": "stream",
     "text": [
      "Epoch 350/400\n"
     ]
    },
    {
     "name": "stdout",
     "output_type": "stream",
     "text": [
      "\r",
      "1/9 [==>...........................] - ETA: 0s - loss: 0.6172 - accuracy: 0.7000"
     ]
    },
    {
     "name": "stdout",
     "output_type": "stream",
     "text": [
      "\b\b\b\b\b\b\b\b\b\b\b\b\b\b\b\b\b\b\b\b\b\b\b\b\b\b\b\b\b\b\b\b\b\b\b\b\b\b\b\b\b\b\b\b\b\b\b\b\b\b\b\b\b\b\b\b\b\b\b\b\b\b\b\b\b\b\b\b\b\b\b\b\b\b\b\b\b\b\b\b\r",
      "9/9 [==============================] - 0s 5ms/step - loss: 0.6504 - accuracy: 0.6275 - val_loss: 0.6226 - val_accuracy: 0.6889\n"
     ]
    },
    {
     "name": "stdout",
     "output_type": "stream",
     "text": [
      "Epoch 351/400\n"
     ]
    },
    {
     "name": "stdout",
     "output_type": "stream",
     "text": [
      "\r",
      "1/9 [==>...........................] - ETA: 0s - loss: 0.6842 - accuracy: 0.5667"
     ]
    },
    {
     "name": "stdout",
     "output_type": "stream",
     "text": [
      "\b\b\b\b\b\b\b\b\b\b\b\b\b\b\b\b\b\b\b\b\b\b\b\b\b\b\b\b\b\b\b\b\b\b\b\b\b\b\b\b\b\b\b\b\b\b\b\b\b\b\b\b\b\b\b\b\b\b\b\b\b\b\b\b\b\b\b\b\b\b\b\b\b\b\b\b\b\b\b\b\r",
      "9/9 [==============================] - 0s 5ms/step - loss: 0.6503 - accuracy: 0.6275 - val_loss: 0.6225 - val_accuracy: 0.6889\n"
     ]
    },
    {
     "name": "stdout",
     "output_type": "stream",
     "text": [
      "Epoch 352/400\n"
     ]
    },
    {
     "name": "stdout",
     "output_type": "stream",
     "text": [
      "\r",
      "1/9 [==>...........................] - ETA: 0s - loss: 0.6863 - accuracy: 0.5667"
     ]
    },
    {
     "name": "stdout",
     "output_type": "stream",
     "text": [
      "\b\b\b\b\b\b\b\b\b\b\b\b\b\b\b\b\b\b\b\b\b\b\b\b\b\b\b\b\b\b\b\b\b\b\b\b\b\b\b\b\b\b\b\b\b\b\b\b\b\b\b\b\b\b\b\b\b\b\b\b\b\b\b\b\b\b\b\b\b\b\b\b\b\b\b\b\b\b\b\b\r",
      "9/9 [==============================] - 0s 5ms/step - loss: 0.6503 - accuracy: 0.6275 - val_loss: 0.6227 - val_accuracy: 0.6889\n"
     ]
    },
    {
     "name": "stdout",
     "output_type": "stream",
     "text": [
      "Epoch 353/400\n"
     ]
    },
    {
     "name": "stdout",
     "output_type": "stream",
     "text": [
      "\r",
      "1/9 [==>...........................] - ETA: 0s - loss: 0.6987 - accuracy: 0.5333"
     ]
    },
    {
     "name": "stdout",
     "output_type": "stream",
     "text": [
      "\b\b\b\b\b\b\b\b\b\b\b\b\b\b\b\b\b\b\b\b\b\b\b\b\b\b\b\b\b\b\b\b\b\b\b\b\b\b\b\b\b\b\b\b\b\b\b\b\b\b\b\b\b\b\b\b\b\b\b\b\b\b\b\b\b\b\b\b\b\b\b\b\b\b\b\b\b\b\b\b\r",
      "9/9 [==============================] - 0s 5ms/step - loss: 0.6503 - accuracy: 0.6275 - val_loss: 0.6228 - val_accuracy: 0.6889\n"
     ]
    },
    {
     "name": "stdout",
     "output_type": "stream",
     "text": [
      "Epoch 354/400\n"
     ]
    },
    {
     "name": "stdout",
     "output_type": "stream",
     "text": [
      "\r",
      "1/9 [==>...........................] - ETA: 0s - loss: 0.7163 - accuracy: 0.5000"
     ]
    },
    {
     "name": "stdout",
     "output_type": "stream",
     "text": [
      "\b\b\b\b\b\b\b\b\b\b\b\b\b\b\b\b\b\b\b\b\b\b\b\b\b\b\b\b\b\b\b\b\b\b\b\b\b\b\b\b\b\b\b\b\b\b\b\b\b\b\b\b\b\b\b\b\b\b\b\b\b\b\b\b\b\b\b\b\b\b\b\b\b\b\b\b\b\b\b\b\r",
      "9/9 [==============================] - 0s 5ms/step - loss: 0.6505 - accuracy: 0.6275 - val_loss: 0.6223 - val_accuracy: 0.6889\n"
     ]
    },
    {
     "name": "stdout",
     "output_type": "stream",
     "text": [
      "Epoch 355/400\n"
     ]
    },
    {
     "name": "stdout",
     "output_type": "stream",
     "text": [
      "\r",
      "1/9 [==>...........................] - ETA: 0s - loss: 0.7302 - accuracy: 0.4667"
     ]
    },
    {
     "name": "stdout",
     "output_type": "stream",
     "text": [
      "\b\b\b\b\b\b\b\b\b\b\b\b\b\b\b\b\b\b\b\b\b\b\b\b\b\b\b\b\b\b\b\b\b\b\b\b\b\b\b\b\b\b\b\b\b\b\b\b\b\b\b\b\b\b\b\b\b\b\b\b\b\b\b\b\b\b\b\b\b\b\b\b\b\b\b\b\b\b\b\b\r",
      "9/9 [==============================] - 0s 4ms/step - loss: 0.6504 - accuracy: 0.6275 - val_loss: 0.6223 - val_accuracy: 0.6889\n"
     ]
    },
    {
     "name": "stdout",
     "output_type": "stream",
     "text": [
      "Epoch 356/400\n"
     ]
    },
    {
     "name": "stdout",
     "output_type": "stream",
     "text": [
      "\r",
      "1/9 [==>...........................] - ETA: 0s - loss: 0.6956 - accuracy: 0.5333"
     ]
    },
    {
     "name": "stdout",
     "output_type": "stream",
     "text": [
      "\b\b\b\b\b\b\b\b\b\b\b\b\b\b\b\b\b\b\b\b\b\b\b\b\b\b\b\b\b\b\b\b\b\b\b\b\b\b\b\b\b\b\b\b\b\b\b\b\b\b\b\b\b\b\b\b\b\b\b\b\b\b\b\b\b\b\b\b\b\b\b\b\b\b\b\b\b\b\b\b\r",
      "9/9 [==============================] - 0s 5ms/step - loss: 0.6505 - accuracy: 0.6275 - val_loss: 0.6225 - val_accuracy: 0.6889\n"
     ]
    },
    {
     "name": "stdout",
     "output_type": "stream",
     "text": [
      "Epoch 357/400\n"
     ]
    },
    {
     "name": "stdout",
     "output_type": "stream",
     "text": [
      "\r",
      "1/9 [==>...........................] - ETA: 0s - loss: 0.6382 - accuracy: 0.6333"
     ]
    },
    {
     "name": "stdout",
     "output_type": "stream",
     "text": [
      "\b\b\b\b\b\b\b\b\b\b\b\b\b\b\b\b\b\b\b\b\b\b\b\b\b\b\b\b\b\b\b\b\b\b\b\b\b\b\b\b\b\b\b\b\b\b\b\b\b\b\b\b\b\b\b\b\b\b\b\b\b\b\b\b\b\b\b\b\b\b\b\b\b\b\b\b\b\b\b\b\r",
      "9/9 [==============================] - 0s 5ms/step - loss: 0.6505 - accuracy: 0.6275 - val_loss: 0.6227 - val_accuracy: 0.6889\n"
     ]
    },
    {
     "name": "stdout",
     "output_type": "stream",
     "text": [
      "Epoch 358/400\n"
     ]
    },
    {
     "name": "stdout",
     "output_type": "stream",
     "text": [
      "\r",
      "1/9 [==>...........................] - ETA: 0s - loss: 0.6313 - accuracy: 0.6667"
     ]
    },
    {
     "name": "stdout",
     "output_type": "stream",
     "text": [
      "\b\b\b\b\b\b\b\b\b\b\b\b\b\b\b\b\b\b\b\b\b\b\b\b\b\b\b\b\b\b\b\b\b\b\b\b\b\b\b\b\b\b\b\b\b\b\b\b\b\b\b\b\b\b\b\b\b\b\b\b\b\b\b\b\b\b\b\b\b\b\b\b\b\b\b\b\b\b\b\b\r",
      "9/9 [==============================] - 0s 5ms/step - loss: 0.6503 - accuracy: 0.6275 - val_loss: 0.6226 - val_accuracy: 0.6889\n"
     ]
    },
    {
     "name": "stdout",
     "output_type": "stream",
     "text": [
      "Epoch 359/400\n"
     ]
    },
    {
     "name": "stdout",
     "output_type": "stream",
     "text": [
      "\r",
      "1/9 [==>...........................] - ETA: 0s - loss: 0.6091 - accuracy: 0.7000"
     ]
    },
    {
     "name": "stdout",
     "output_type": "stream",
     "text": [
      "\b\b\b\b\b\b\b\b\b\b\b\b\b\b\b\b\b\b\b\b\b\b\b\b\b\b\b\b\b\b\b\b\b\b\b\b\b\b\b\b\b\b\b\b\b\b\b\b\b\b\b\b\b\b\b\b\b\b\b\b\b\b\b\b\b\b\b\b\b\b\b\b\b\b\b\b\b\b\b\b\r",
      "9/9 [==============================] - 0s 5ms/step - loss: 0.6504 - accuracy: 0.6275 - val_loss: 0.6228 - val_accuracy: 0.6889\n"
     ]
    },
    {
     "name": "stdout",
     "output_type": "stream",
     "text": [
      "Epoch 360/400\n"
     ]
    },
    {
     "name": "stdout",
     "output_type": "stream",
     "text": [
      "\r",
      "1/9 [==>...........................] - ETA: 0s - loss: 0.6627 - accuracy: 0.6000"
     ]
    },
    {
     "name": "stdout",
     "output_type": "stream",
     "text": [
      "\b\b\b\b\b\b\b\b\b\b\b\b\b\b\b\b\b\b\b\b\b\b\b\b\b\b\b\b\b\b\b\b\b\b\b\b\b\b\b\b\b\b\b\b\b\b\b\b\b\b\b\b\b\b\b\b\b\b\b\b\b\b\b\b\b\b\b\b\b\b\b\b\b\b\b\b\b\b\b\b\r",
      "9/9 [==============================] - 0s 5ms/step - loss: 0.6504 - accuracy: 0.6275 - val_loss: 0.6229 - val_accuracy: 0.6889\n"
     ]
    },
    {
     "name": "stdout",
     "output_type": "stream",
     "text": [
      "Epoch 361/400\n"
     ]
    },
    {
     "name": "stdout",
     "output_type": "stream",
     "text": [
      "\r",
      "1/9 [==>...........................] - ETA: 0s - loss: 0.5940 - accuracy: 0.7333"
     ]
    },
    {
     "name": "stdout",
     "output_type": "stream",
     "text": [
      "\b\b\b\b\b\b\b\b\b\b\b\b\b\b\b\b\b\b\b\b\b\b\b\b\b\b\b\b\b\b\b\b\b\b\b\b\b\b\b\b\b\b\b\b\b\b\b\b\b\b\b\b\b\b\b\b\b\b\b\b\b\b\b\b\b\b\b\b\b\b\b\b\b\b\b\b\b\b\b\b\r",
      "9/9 [==============================] - 0s 5ms/step - loss: 0.6505 - accuracy: 0.6275 - val_loss: 0.6226 - val_accuracy: 0.6889\n"
     ]
    },
    {
     "name": "stdout",
     "output_type": "stream",
     "text": [
      "Epoch 362/400\n"
     ]
    },
    {
     "name": "stdout",
     "output_type": "stream",
     "text": [
      "\r",
      "1/9 [==>...........................] - ETA: 0s - loss: 0.6934 - accuracy: 0.5333"
     ]
    },
    {
     "name": "stdout",
     "output_type": "stream",
     "text": [
      "\b\b\b\b\b\b\b\b\b\b\b\b\b\b\b\b\b\b\b\b\b\b\b\b\b\b\b\b\b\b\b\b\b\b\b\b\b\b\b\b\b\b\b\b\b\b\b\b\b\b\b\b\b\b\b\b\b\b\b\b\b\b\b\b\b\b\b\b\b\b\b\b\b\b\b\b\b\b\b\b\r",
      "9/9 [==============================] - 0s 5ms/step - loss: 0.6505 - accuracy: 0.6275 - val_loss: 0.6228 - val_accuracy: 0.6889\n"
     ]
    },
    {
     "name": "stdout",
     "output_type": "stream",
     "text": [
      "Epoch 363/400\n"
     ]
    },
    {
     "name": "stdout",
     "output_type": "stream",
     "text": [
      "\r",
      "1/9 [==>...........................] - ETA: 0s - loss: 0.6826 - accuracy: 0.5667"
     ]
    },
    {
     "name": "stdout",
     "output_type": "stream",
     "text": [
      "\b\b\b\b\b\b\b\b\b\b\b\b\b\b\b\b\b\b\b\b\b\b\b\b\b\b\b\b\b\b\b\b\b\b\b\b\b\b\b\b\b\b\b\b\b\b\b\b\b\b\b\b\b\b\b\b\b\b\b\b\b\b\b\b\b\b\b\b\b\b\b\b\b\b\b\b\b\b\b\b\r",
      "9/9 [==============================] - 0s 5ms/step - loss: 0.6503 - accuracy: 0.6275 - val_loss: 0.6226 - val_accuracy: 0.6889\n"
     ]
    },
    {
     "name": "stdout",
     "output_type": "stream",
     "text": [
      "Epoch 364/400\n"
     ]
    },
    {
     "name": "stdout",
     "output_type": "stream",
     "text": [
      "\r",
      "1/9 [==>...........................] - ETA: 0s - loss: 0.6571 - accuracy: 0.6000"
     ]
    },
    {
     "name": "stdout",
     "output_type": "stream",
     "text": [
      "\b\b\b\b\b\b\b\b\b\b\b\b\b\b\b\b\b\b\b\b\b\b\b\b\b\b\b\b\b\b\b\b\b\b\b\b\b\b\b\b\b\b\b\b\b\b\b\b\b\b\b\b\b\b\b\b\b\b\b\b\b\b\b\b\b\b\b\b\b\b\b\b\b\b\b\b\b\b\b\b\r",
      "9/9 [==============================] - 0s 5ms/step - loss: 0.6503 - accuracy: 0.6275 - val_loss: 0.6227 - val_accuracy: 0.6889\n"
     ]
    },
    {
     "name": "stdout",
     "output_type": "stream",
     "text": [
      "Epoch 365/400\n"
     ]
    },
    {
     "name": "stdout",
     "output_type": "stream",
     "text": [
      "\r",
      "1/9 [==>...........................] - ETA: 0s - loss: 0.5995 - accuracy: 0.7333"
     ]
    },
    {
     "name": "stdout",
     "output_type": "stream",
     "text": [
      "\b\b\b\b\b\b\b\b\b\b\b\b\b\b\b\b\b\b\b\b\b\b\b\b\b\b\b\b\b\b\b\b\b\b\b\b\b\b\b\b\b\b\b\b\b\b\b\b\b\b\b\b\b\b\b\b\b\b\b\b\b\b\b\b\b\b\b\b\b\b\b\b\b\b\b\b\b\b\b\b\r",
      "9/9 [==============================] - 0s 5ms/step - loss: 0.6504 - accuracy: 0.6275 - val_loss: 0.6226 - val_accuracy: 0.6889\n"
     ]
    },
    {
     "name": "stdout",
     "output_type": "stream",
     "text": [
      "Epoch 366/400\n"
     ]
    },
    {
     "name": "stdout",
     "output_type": "stream",
     "text": [
      "\r",
      "1/9 [==>...........................] - ETA: 0s - loss: 0.6639 - accuracy: 0.6000"
     ]
    },
    {
     "name": "stdout",
     "output_type": "stream",
     "text": [
      "\b\b\b\b\b\b\b\b\b\b\b\b\b\b\b\b\b\b\b\b\b\b\b\b\b\b\b\b\b\b\b\b\b\b\b\b\b\b\b\b\b\b\b\b\b\b\b\b\b\b\b\b\b\b\b\b\b\b\b\b\b\b\b\b\b\b\b\b\b\b\b\b\b\b\b\b\b\b\b\b\r",
      "9/9 [==============================] - 0s 4ms/step - loss: 0.6504 - accuracy: 0.6275 - val_loss: 0.6227 - val_accuracy: 0.6889\n"
     ]
    },
    {
     "name": "stdout",
     "output_type": "stream",
     "text": [
      "Epoch 367/400\n"
     ]
    },
    {
     "name": "stdout",
     "output_type": "stream",
     "text": [
      "\r",
      "1/9 [==>...........................] - ETA: 0s - loss: 0.6527 - accuracy: 0.6000"
     ]
    },
    {
     "name": "stdout",
     "output_type": "stream",
     "text": [
      "\b\b\b\b\b\b\b\b\b\b\b\b\b\b\b\b\b\b\b\b\b\b\b\b\b\b\b\b\b\b\b\b\b\b\b\b\b\b\b\b\b\b\b\b\b\b\b\b\b\b\b\b\b\b\b\b\b\b\b\b\b\b\b\b\b\b\b\b\b\b\b\b\b\b\b\b\b\b\b\b\r",
      "9/9 [==============================] - 0s 5ms/step - loss: 0.6505 - accuracy: 0.6275 - val_loss: 0.6230 - val_accuracy: 0.6889\n"
     ]
    },
    {
     "name": "stdout",
     "output_type": "stream",
     "text": [
      "Epoch 368/400\n"
     ]
    },
    {
     "name": "stdout",
     "output_type": "stream",
     "text": [
      "\r",
      "1/9 [==>...........................] - ETA: 0s - loss: 0.5851 - accuracy: 0.7667"
     ]
    },
    {
     "name": "stdout",
     "output_type": "stream",
     "text": [
      "\b\b\b\b\b\b\b\b\b\b\b\b\b\b\b\b\b\b\b\b\b\b\b\b\b\b\b\b\b\b\b\b\b\b\b\b\b\b\b\b\b\b\b\b\b\b\b\b\b\b\b\b\b\b\b\b\b\b\b\b\b\b\b\b\b\b\b\b\b\b\b\b\b\b\b\b\b\b\b\b\r",
      "9/9 [==============================] - 0s 5ms/step - loss: 0.6506 - accuracy: 0.6275 - val_loss: 0.6229 - val_accuracy: 0.6889\n"
     ]
    },
    {
     "name": "stdout",
     "output_type": "stream",
     "text": [
      "Epoch 369/400\n"
     ]
    },
    {
     "name": "stdout",
     "output_type": "stream",
     "text": [
      "\r",
      "1/9 [==>...........................] - ETA: 0s - loss: 0.6645 - accuracy: 0.5667"
     ]
    },
    {
     "name": "stdout",
     "output_type": "stream",
     "text": [
      "\b\b\b\b\b\b\b\b\b\b\b\b\b\b\b\b\b\b\b\b\b\b\b\b\b\b\b\b\b\b\b\b\b\b\b\b\b\b\b\b\b\b\b\b\b\b\b\b\b\b\b\b\b\b\b\b\b\b\b\b\b\b\b\b\b\b\b\b\b\b\b\b\b\b\b\b\b\b\b\b\r",
      "9/9 [==============================] - 0s 5ms/step - loss: 0.6503 - accuracy: 0.6275 - val_loss: 0.6230 - val_accuracy: 0.6889\n"
     ]
    },
    {
     "name": "stdout",
     "output_type": "stream",
     "text": [
      "Epoch 370/400\n"
     ]
    },
    {
     "name": "stdout",
     "output_type": "stream",
     "text": [
      "\r",
      "1/9 [==>...........................] - ETA: 0s - loss: 0.6897 - accuracy: 0.5333"
     ]
    },
    {
     "name": "stdout",
     "output_type": "stream",
     "text": [
      "\b\b\b\b\b\b\b\b\b\b\b\b\b\b\b\b\b\b\b\b\b\b\b\b\b\b\b\b\b\b\b\b\b\b\b\b\b\b\b\b\b\b\b\b\b\b\b\b\b\b\b\b\b\b\b\b\b\b\b\b\b\b\b\b\b\b\b\b\b\b\b\b\b\b\b\b\b\b\b\b\r",
      "9/9 [==============================] - 0s 5ms/step - loss: 0.6504 - accuracy: 0.6275 - val_loss: 0.6229 - val_accuracy: 0.6889\n"
     ]
    },
    {
     "name": "stdout",
     "output_type": "stream",
     "text": [
      "Epoch 371/400\n"
     ]
    },
    {
     "name": "stdout",
     "output_type": "stream",
     "text": [
      "\r",
      "1/9 [==>...........................] - ETA: 0s - loss: 0.6718 - accuracy: 0.5667"
     ]
    },
    {
     "name": "stdout",
     "output_type": "stream",
     "text": [
      "\b\b\b\b\b\b\b\b\b\b\b\b\b\b\b\b\b\b\b\b\b\b\b\b\b\b\b\b\b\b\b\b\b\b\b\b\b\b\b\b\b\b\b\b\b\b\b\b\b\b\b\b\b\b\b\b\b\b\b\b\b\b\b\b\b\b\b\b\b\b\b\b\b\b\b\b\b\b\b\b\r",
      "9/9 [==============================] - 0s 5ms/step - loss: 0.6505 - accuracy: 0.6275 - val_loss: 0.6229 - val_accuracy: 0.6889\n"
     ]
    },
    {
     "name": "stdout",
     "output_type": "stream",
     "text": [
      "Epoch 372/400\n"
     ]
    },
    {
     "name": "stdout",
     "output_type": "stream",
     "text": [
      "\r",
      "1/9 [==>...........................] - ETA: 0s - loss: 0.6482 - accuracy: 0.6333"
     ]
    },
    {
     "name": "stdout",
     "output_type": "stream",
     "text": [
      "\b\b\b\b\b\b\b\b\b\b\b\b\b\b\b\b\b\b\b\b\b\b\b\b\b\b\b\b\b\b\b\b\b\b\b\b\b\b\b\b\b\b\b\b\b\b\b\b\b\b\b\b\b\b\b\b\b\b\b\b\b\b\b\b\b\b\b\b\b\b\b\b\b\b\b\b\b\b\b\b\r",
      "9/9 [==============================] - 0s 5ms/step - loss: 0.6503 - accuracy: 0.6275 - val_loss: 0.6231 - val_accuracy: 0.6889\n"
     ]
    },
    {
     "name": "stdout",
     "output_type": "stream",
     "text": [
      "Epoch 373/400\n"
     ]
    },
    {
     "name": "stdout",
     "output_type": "stream",
     "text": [
      "\r",
      "1/9 [==>...........................] - ETA: 0s - loss: 0.7063 - accuracy: 0.5333"
     ]
    },
    {
     "name": "stdout",
     "output_type": "stream",
     "text": [
      "\b\b\b\b\b\b\b\b\b\b\b\b\b\b\b\b\b\b\b\b\b\b\b\b\b\b\b\b\b\b\b\b\b\b\b\b\b\b\b\b\b\b\b\b\b\b\b\b\b\b\b\b\b\b\b\b\b\b\b\b\b\b\b\b\b\b\b\b\b\b\b\b\b\b\b\b\b\b\b\b\r",
      "9/9 [==============================] - 0s 5ms/step - loss: 0.6504 - accuracy: 0.6275 - val_loss: 0.6228 - val_accuracy: 0.6889\n"
     ]
    },
    {
     "name": "stdout",
     "output_type": "stream",
     "text": [
      "Epoch 374/400\n"
     ]
    },
    {
     "name": "stdout",
     "output_type": "stream",
     "text": [
      "\r",
      "1/9 [==>...........................] - ETA: 0s - loss: 0.6290 - accuracy: 0.6667"
     ]
    },
    {
     "name": "stdout",
     "output_type": "stream",
     "text": [
      "\b\b\b\b\b\b\b\b\b\b\b\b\b\b\b\b\b\b\b\b\b\b\b\b\b\b\b\b\b\b\b\b\b\b\b\b\b\b\b\b\b\b\b\b\b\b\b\b\b\b\b\b\b\b\b\b\b\b\b\b\b\b\b\b\b\b\b\b\b\b\b\b\b\b\b\b\b\b\b\b\r",
      "9/9 [==============================] - 0s 5ms/step - loss: 0.6504 - accuracy: 0.6275 - val_loss: 0.6227 - val_accuracy: 0.6889\n"
     ]
    },
    {
     "name": "stdout",
     "output_type": "stream",
     "text": [
      "Epoch 375/400\n"
     ]
    },
    {
     "name": "stdout",
     "output_type": "stream",
     "text": [
      "\r",
      "1/9 [==>...........................] - ETA: 0s - loss: 0.6597 - accuracy: 0.6000"
     ]
    },
    {
     "name": "stdout",
     "output_type": "stream",
     "text": [
      "\b\b\b\b\b\b\b\b\b\b\b\b\b\b\b\b\b\b\b\b\b\b\b\b\b\b\b\b\b\b\b\b\b\b\b\b\b\b\b\b\b\b\b\b\b\b\b\b\b\b\b\b\b\b\b\b\b\b\b\b\b\b\b\b\b\b\b\b\b\b\b\b\b\b\b\b\b\b\b\b\r",
      "9/9 [==============================] - 0s 6ms/step - loss: 0.6503 - accuracy: 0.6275 - val_loss: 0.6226 - val_accuracy: 0.6889\n"
     ]
    },
    {
     "name": "stdout",
     "output_type": "stream",
     "text": [
      "Epoch 376/400\n"
     ]
    },
    {
     "name": "stdout",
     "output_type": "stream",
     "text": [
      "\r",
      "1/9 [==>...........................] - ETA: 0s - loss: 0.6550 - accuracy: 0.6333"
     ]
    },
    {
     "name": "stdout",
     "output_type": "stream",
     "text": [
      "\b\b\b\b\b\b\b\b\b\b\b\b\b\b\b\b\b\b\b\b\b\b\b\b\b\b\b\b\b\b\b\b\b\b\b\b\b\b\b\b\b\b\b\b\b\b\b\b\b\b\b\b\b\b\b\b\b\b\b\b\b\b\b\b\b\b\b\b\b\b\b\b\b\b\b\b\b\b\b\b\r",
      "9/9 [==============================] - 0s 5ms/step - loss: 0.6503 - accuracy: 0.6275 - val_loss: 0.6228 - val_accuracy: 0.6889\n"
     ]
    },
    {
     "name": "stdout",
     "output_type": "stream",
     "text": [
      "Epoch 377/400\n"
     ]
    },
    {
     "name": "stdout",
     "output_type": "stream",
     "text": [
      "\r",
      "1/9 [==>...........................] - ETA: 0s - loss: 0.6223 - accuracy: 0.6667"
     ]
    },
    {
     "name": "stdout",
     "output_type": "stream",
     "text": [
      "\b\b\b\b\b\b\b\b\b\b\b\b\b\b\b\b\b\b\b\b\b\b\b\b\b\b\b\b\b\b\b\b\b\b\b\b\b\b\b\b\b\b\b\b\b\b\b\b\b\b\b\b\b\b\b\b\b\b\b\b\b\b\b\b\b\b\b\b\b\b\b\b\b\b\b\b\b\b\b\b\r",
      "9/9 [==============================] - 0s 5ms/step - loss: 0.6503 - accuracy: 0.6275 - val_loss: 0.6230 - val_accuracy: 0.6889\n"
     ]
    },
    {
     "name": "stdout",
     "output_type": "stream",
     "text": [
      "Epoch 378/400\n"
     ]
    },
    {
     "name": "stdout",
     "output_type": "stream",
     "text": [
      "\r",
      "1/9 [==>...........................] - ETA: 0s - loss: 0.5543 - accuracy: 0.8333"
     ]
    },
    {
     "name": "stdout",
     "output_type": "stream",
     "text": [
      "\b\b\b\b\b\b\b\b\b\b\b\b\b\b\b\b\b\b\b\b\b\b\b\b\b\b\b\b\b\b\b\b\b\b\b\b\b\b\b\b\b\b\b\b\b\b\b\b\b\b\b\b\b\b\b\b\b\b\b\b\b\b\b\b\b\b\b\b\b\b\b\b\b\b\b\b\b\b\b\b\r",
      "9/9 [==============================] - 0s 5ms/step - loss: 0.6504 - accuracy: 0.6275 - val_loss: 0.6231 - val_accuracy: 0.6889\n"
     ]
    },
    {
     "name": "stdout",
     "output_type": "stream",
     "text": [
      "Epoch 379/400\n"
     ]
    },
    {
     "name": "stdout",
     "output_type": "stream",
     "text": [
      "\r",
      "1/9 [==>...........................] - ETA: 0s - loss: 0.6256 - accuracy: 0.6667"
     ]
    },
    {
     "name": "stdout",
     "output_type": "stream",
     "text": [
      "\b\b\b\b\b\b\b\b\b\b\b\b\b\b\b\b\b\b\b\b\b\b\b\b\b\b\b\b\b\b\b\b\b\b\b\b\b\b\b\b\b\b\b\b\b\b\b\b\b\b\b\b\b\b\b\b\b\b\b\b\b\b\b\b\b\b\b\b\b\b\b\b\b\b\b\b\b\b\b\b\r",
      "9/9 [==============================] - 0s 5ms/step - loss: 0.6504 - accuracy: 0.6275 - val_loss: 0.6229 - val_accuracy: 0.6889\n"
     ]
    },
    {
     "name": "stdout",
     "output_type": "stream",
     "text": [
      "Epoch 380/400\n"
     ]
    },
    {
     "name": "stdout",
     "output_type": "stream",
     "text": [
      "\r",
      "1/9 [==>...........................] - ETA: 0s - loss: 0.6683 - accuracy: 0.5667"
     ]
    },
    {
     "name": "stdout",
     "output_type": "stream",
     "text": [
      "\b\b\b\b\b\b\b\b\b\b\b\b\b\b\b\b\b\b\b\b\b\b\b\b\b\b\b\b\b\b\b\b\b\b\b\b\b\b\b\b\b\b\b\b\b\b\b\b\b\b\b\b\b\b\b\b\b\b\b\b\b\b\b\b\b\b\b\b\b\b\b\b\b\b\b\b\b\b\b\b\r",
      "9/9 [==============================] - 0s 4ms/step - loss: 0.6504 - accuracy: 0.6275 - val_loss: 0.6229 - val_accuracy: 0.6889\n"
     ]
    },
    {
     "name": "stdout",
     "output_type": "stream",
     "text": [
      "Epoch 381/400\n"
     ]
    },
    {
     "name": "stdout",
     "output_type": "stream",
     "text": [
      "\r",
      "1/9 [==>...........................] - ETA: 0s - loss: 0.6603 - accuracy: 0.6333"
     ]
    },
    {
     "name": "stdout",
     "output_type": "stream",
     "text": [
      "\b\b\b\b\b\b\b\b\b\b\b\b\b\b\b\b\b\b\b\b\b\b\b\b\b\b\b\b\b\b\b\b\b\b\b\b\b\b\b\b\b\b\b\b\b\b\b\b\b\b\b\b\b\b\b\b\b\b\b\b\b\b\b\b\b\b\b\b\b\b\b\b\b\b\b\b\b\b\b\b\r",
      "9/9 [==============================] - 0s 5ms/step - loss: 0.6503 - accuracy: 0.6275 - val_loss: 0.6227 - val_accuracy: 0.6889\n"
     ]
    },
    {
     "name": "stdout",
     "output_type": "stream",
     "text": [
      "Epoch 382/400\n"
     ]
    },
    {
     "name": "stdout",
     "output_type": "stream",
     "text": [
      "\r",
      "1/9 [==>...........................] - ETA: 0s - loss: 0.6770 - accuracy: 0.5667"
     ]
    },
    {
     "name": "stdout",
     "output_type": "stream",
     "text": [
      "\b\b\b\b\b\b\b\b\b\b\b\b\b\b\b\b\b\b\b\b\b\b\b\b\b\b\b\b\b\b\b\b\b\b\b\b\b\b\b\b\b\b\b\b\b\b\b\b\b\b\b\b\b\b\b\b\b\b\b\b\b\b\b\b\b\b\b\b\b\b\b\b\b\b\b\b\b\b\b\b\r",
      "9/9 [==============================] - 0s 4ms/step - loss: 0.6503 - accuracy: 0.6275 - val_loss: 0.6226 - val_accuracy: 0.6889\n"
     ]
    },
    {
     "name": "stdout",
     "output_type": "stream",
     "text": [
      "Epoch 383/400\n"
     ]
    },
    {
     "name": "stdout",
     "output_type": "stream",
     "text": [
      "\r",
      "1/9 [==>...........................] - ETA: 0s - loss: 0.6255 - accuracy: 0.7000"
     ]
    },
    {
     "name": "stdout",
     "output_type": "stream",
     "text": [
      "\b\b\b\b\b\b\b\b\b\b\b\b\b\b\b\b\b\b\b\b\b\b\b\b\b\b\b\b\b\b\b\b\b\b\b\b\b\b\b\b\b\b\b\b\b\b\b\b\b\b\b\b\b\b\b\b\b\b\b\b\b\b\b\b\b\b\b\b\b\b\b\b\b\b\b\b\b\b\b\b\r",
      "9/9 [==============================] - 0s 4ms/step - loss: 0.6504 - accuracy: 0.6275 - val_loss: 0.6228 - val_accuracy: 0.6889\n"
     ]
    },
    {
     "name": "stdout",
     "output_type": "stream",
     "text": [
      "Epoch 384/400\n"
     ]
    },
    {
     "name": "stdout",
     "output_type": "stream",
     "text": [
      "\r",
      "1/9 [==>...........................] - ETA: 0s - loss: 0.6613 - accuracy: 0.6000"
     ]
    },
    {
     "name": "stdout",
     "output_type": "stream",
     "text": [
      "\b\b\b\b\b\b\b\b\b\b\b\b\b\b\b\b\b\b\b\b\b\b\b\b\b\b\b\b\b\b\b\b\b\b\b\b\b\b\b\b\b\b\b\b\b\b\b\b\b\b\b\b\b\b\b\b\b\b\b\b\b\b\b\b\b\b\b\b\b\b\b\b\b\b\b\b\b\b\b\b\r",
      "9/9 [==============================] - 0s 4ms/step - loss: 0.6504 - accuracy: 0.6275 - val_loss: 0.6228 - val_accuracy: 0.6889\n"
     ]
    },
    {
     "name": "stdout",
     "output_type": "stream",
     "text": [
      "Epoch 385/400\n"
     ]
    },
    {
     "name": "stdout",
     "output_type": "stream",
     "text": [
      "\r",
      "1/9 [==>...........................] - ETA: 0s - loss: 0.6165 - accuracy: 0.7000"
     ]
    },
    {
     "name": "stdout",
     "output_type": "stream",
     "text": [
      "\b\b\b\b\b\b\b\b\b\b\b\b\b\b\b\b\b\b\b\b\b\b\b\b\b\b\b\b\b\b\b\b\b\b\b\b\b\b\b\b\b\b\b\b\b\b\b\b\b\b\b\b\b\b\b\b\b\b\b\b\b\b\b\b\b\b\b\b\b\b\b\b\b\b\b\b\b\b\b\b\r",
      "9/9 [==============================] - 0s 5ms/step - loss: 0.6503 - accuracy: 0.6275 - val_loss: 0.6226 - val_accuracy: 0.6889\n"
     ]
    },
    {
     "name": "stdout",
     "output_type": "stream",
     "text": [
      "Epoch 386/400\n"
     ]
    },
    {
     "name": "stdout",
     "output_type": "stream",
     "text": [
      "\r",
      "1/9 [==>...........................] - ETA: 0s - loss: 0.7433 - accuracy: 0.4333"
     ]
    },
    {
     "name": "stdout",
     "output_type": "stream",
     "text": [
      "\b\b\b\b\b\b\b\b\b\b\b\b\b\b\b\b\b\b\b\b\b\b\b\b\b\b\b\b\b\b\b\b\b\b\b\b\b\b\b\b\b\b\b\b\b\b\b\b\b\b\b\b\b\b\b\b\b\b\b\b\b\b\b\b\b\b\b\b\b\b\b\b\b\b\b\b\b\b\b\b\r",
      "9/9 [==============================] - 0s 4ms/step - loss: 0.6504 - accuracy: 0.6275 - val_loss: 0.6226 - val_accuracy: 0.6889\n"
     ]
    },
    {
     "name": "stdout",
     "output_type": "stream",
     "text": [
      "Epoch 387/400\n"
     ]
    },
    {
     "name": "stdout",
     "output_type": "stream",
     "text": [
      "\r",
      "1/9 [==>...........................] - ETA: 0s - loss: 0.7239 - accuracy: 0.4667"
     ]
    },
    {
     "name": "stdout",
     "output_type": "stream",
     "text": [
      "\b\b\b\b\b\b\b\b\b\b\b\b\b\b\b\b\b\b\b\b\b\b\b\b\b\b\b\b\b\b\b\b\b\b\b\b\b\b\b\b\b\b\b\b\b\b\b\b\b\b\b\b\b\b\b\b\b\b\b\b\b\b\b\b\b\b\b\b\b\b\b\b\b\b\b\b\b\b\b\b\r",
      "9/9 [==============================] - 0s 5ms/step - loss: 0.6505 - accuracy: 0.6275 - val_loss: 0.6226 - val_accuracy: 0.6889\n"
     ]
    },
    {
     "name": "stdout",
     "output_type": "stream",
     "text": [
      "Epoch 388/400\n"
     ]
    },
    {
     "name": "stdout",
     "output_type": "stream",
     "text": [
      "\r",
      "1/9 [==>...........................] - ETA: 0s - loss: 0.6361 - accuracy: 0.6333"
     ]
    },
    {
     "name": "stdout",
     "output_type": "stream",
     "text": [
      "\b\b\b\b\b\b\b\b\b\b\b\b\b\b\b\b\b\b\b\b\b\b\b\b\b\b\b\b\b\b\b\b\b\b\b\b\b\b\b\b\b\b\b\b\b\b\b\b\b\b\b\b\b\b\b\b\b\b\b\b\b\b\b\b\b\b\b\b\b\b\b\b\b\b\b\b\b\b\b\b\r",
      "9/9 [==============================] - 0s 6ms/step - loss: 0.6504 - accuracy: 0.6275 - val_loss: 0.6227 - val_accuracy: 0.6889\n"
     ]
    },
    {
     "name": "stdout",
     "output_type": "stream",
     "text": [
      "Epoch 389/400\n"
     ]
    },
    {
     "name": "stdout",
     "output_type": "stream",
     "text": [
      "\r",
      "1/9 [==>...........................] - ETA: 0s - loss: 0.6659 - accuracy: 0.6000"
     ]
    },
    {
     "name": "stdout",
     "output_type": "stream",
     "text": [
      "\b\b\b\b\b\b\b\b\b\b\b\b\b\b\b\b\b\b\b\b\b\b\b\b\b\b\b\b\b\b\b\b\b\b\b\b\b\b\b\b\b\b\b\b\b\b\b\b\b\b\b\b\b\b\b\b\b\b\b\b\b\b\b\b\b\b\b\b\b\b\b\b\b\b\b\b\b\b\b\b\r",
      "9/9 [==============================] - 0s 5ms/step - loss: 0.6504 - accuracy: 0.6275 - val_loss: 0.6226 - val_accuracy: 0.6889\n"
     ]
    },
    {
     "name": "stdout",
     "output_type": "stream",
     "text": [
      "Epoch 390/400\n"
     ]
    },
    {
     "name": "stdout",
     "output_type": "stream",
     "text": [
      "\r",
      "1/9 [==>...........................] - ETA: 0s - loss: 0.7036 - accuracy: 0.5000"
     ]
    },
    {
     "name": "stdout",
     "output_type": "stream",
     "text": [
      "\b\b\b\b\b\b\b\b\b\b\b\b\b\b\b\b\b\b\b\b\b\b\b\b\b\b\b\b\b\b\b\b\b\b\b\b\b\b\b\b\b\b\b\b\b\b\b\b\b\b\b\b\b\b\b\b\b\b\b\b\b\b\b\b\b\b\b\b\b\b\b\b\b\b\b\b\b\b\b\b\r",
      "9/9 [==============================] - 0s 5ms/step - loss: 0.6504 - accuracy: 0.6275 - val_loss: 0.6226 - val_accuracy: 0.6889\n"
     ]
    },
    {
     "name": "stdout",
     "output_type": "stream",
     "text": [
      "Epoch 391/400\n"
     ]
    },
    {
     "name": "stdout",
     "output_type": "stream",
     "text": [
      "\r",
      "1/9 [==>...........................] - ETA: 0s - loss: 0.6879 - accuracy: 0.5667"
     ]
    },
    {
     "name": "stdout",
     "output_type": "stream",
     "text": [
      "\b\b\b\b\b\b\b\b\b\b\b\b\b\b\b\b\b\b\b\b\b\b\b\b\b\b\b\b\b\b\b\b\b\b\b\b\b\b\b\b\b\b\b\b\b\b\b\b\b\b\b\b\b\b\b\b\b\b\b\b\b\b\b\b\b\b\b\b\b\b\b\b\b\b\b\b\b\b\b\b\r",
      "9/9 [==============================] - 0s 5ms/step - loss: 0.6503 - accuracy: 0.6275 - val_loss: 0.6226 - val_accuracy: 0.6889\n"
     ]
    },
    {
     "name": "stdout",
     "output_type": "stream",
     "text": [
      "Epoch 392/400\n"
     ]
    },
    {
     "name": "stdout",
     "output_type": "stream",
     "text": [
      "\r",
      "1/9 [==>...........................] - ETA: 0s - loss: 0.6465 - accuracy: 0.6333"
     ]
    },
    {
     "name": "stdout",
     "output_type": "stream",
     "text": [
      "\b\b\b\b\b\b\b\b\b\b\b\b\b\b\b\b\b\b\b\b\b\b\b\b\b\b\b\b\b\b\b\b\b\b\b\b\b\b\b\b\b\b\b\b\b\b\b\b\b\b\b\b\b\b\b\b\b\b\b\b\b\b\b\b\b\b\b\b\b\b\b\b\b\b\b\b\b\b\b\b\r",
      "9/9 [==============================] - 0s 5ms/step - loss: 0.6504 - accuracy: 0.6275 - val_loss: 0.6227 - val_accuracy: 0.6889\n"
     ]
    },
    {
     "name": "stdout",
     "output_type": "stream",
     "text": [
      "Epoch 393/400\n"
     ]
    },
    {
     "name": "stdout",
     "output_type": "stream",
     "text": [
      "\r",
      "1/9 [==>...........................] - ETA: 0s - loss: 0.6368 - accuracy: 0.6667"
     ]
    },
    {
     "name": "stdout",
     "output_type": "stream",
     "text": [
      "\b\b\b\b\b\b\b\b\b\b\b\b\b\b\b\b\b\b\b\b\b\b\b\b\b\b\b\b\b\b\b\b\b\b\b\b\b\b\b\b\b\b\b\b\b\b\b\b\b\b\b\b\b\b\b\b\b\b\b\b\b\b\b\b\b\b\b\b\b\b\b\b\b\b\b\b\b\b\b\b\r",
      "9/9 [==============================] - 0s 5ms/step - loss: 0.6503 - accuracy: 0.6275 - val_loss: 0.6230 - val_accuracy: 0.6889\n"
     ]
    },
    {
     "name": "stdout",
     "output_type": "stream",
     "text": [
      "Epoch 394/400\n"
     ]
    },
    {
     "name": "stdout",
     "output_type": "stream",
     "text": [
      "\r",
      "1/9 [==>...........................] - ETA: 0s - loss: 0.6451 - accuracy: 0.6333"
     ]
    },
    {
     "name": "stdout",
     "output_type": "stream",
     "text": [
      "\b\b\b\b\b\b\b\b\b\b\b\b\b\b\b\b\b\b\b\b\b\b\b\b\b\b\b\b\b\b\b\b\b\b\b\b\b\b\b\b\b\b\b\b\b\b\b\b\b\b\b\b\b\b\b\b\b\b\b\b\b\b\b\b\b\b\b\b\b\b\b\b\b\b\b\b\b\b\b\b\r",
      "9/9 [==============================] - 0s 5ms/step - loss: 0.6504 - accuracy: 0.6275 - val_loss: 0.6228 - val_accuracy: 0.6889\n"
     ]
    },
    {
     "name": "stdout",
     "output_type": "stream",
     "text": [
      "Epoch 395/400\n"
     ]
    },
    {
     "name": "stdout",
     "output_type": "stream",
     "text": [
      "\r",
      "1/9 [==>...........................] - ETA: 0s - loss: 0.6259 - accuracy: 0.6667"
     ]
    },
    {
     "name": "stdout",
     "output_type": "stream",
     "text": [
      "\b\b\b\b\b\b\b\b\b\b\b\b\b\b\b\b\b\b\b\b\b\b\b\b\b\b\b\b\b\b\b\b\b\b\b\b\b\b\b\b\b\b\b\b\b\b\b\b\b\b\b\b\b\b\b\b\b\b\b\b\b\b\b\b\b\b\b\b\b\b\b\b\b\b\b\b\b\b\b\b\r",
      "9/9 [==============================] - 0s 5ms/step - loss: 0.6503 - accuracy: 0.6275 - val_loss: 0.6227 - val_accuracy: 0.6889\n"
     ]
    },
    {
     "name": "stdout",
     "output_type": "stream",
     "text": [
      "Epoch 396/400\n"
     ]
    },
    {
     "name": "stdout",
     "output_type": "stream",
     "text": [
      "\r",
      "1/9 [==>...........................] - ETA: 0s - loss: 0.6443 - accuracy: 0.6667"
     ]
    },
    {
     "name": "stdout",
     "output_type": "stream",
     "text": [
      "\b\b\b\b\b\b\b\b\b\b\b\b\b\b\b\b\b\b\b\b\b\b\b\b\b\b\b\b\b\b\b\b\b\b\b\b\b\b\b\b\b\b\b\b\b\b\b\b\b\b\b\b\b\b\b\b\b\b\b\b\b\b\b\b\b\b\b\b\b\b\b\b\b\b\b\b\b\b\b\b\r",
      "9/9 [==============================] - 0s 5ms/step - loss: 0.6504 - accuracy: 0.6275 - val_loss: 0.6227 - val_accuracy: 0.6889\n"
     ]
    },
    {
     "name": "stdout",
     "output_type": "stream",
     "text": [
      "Epoch 397/400\n"
     ]
    },
    {
     "name": "stdout",
     "output_type": "stream",
     "text": [
      "\r",
      "1/9 [==>...........................] - ETA: 0s - loss: 0.6978 - accuracy: 0.5333"
     ]
    },
    {
     "name": "stdout",
     "output_type": "stream",
     "text": [
      "\b\b\b\b\b\b\b\b\b\b\b\b\b\b\b\b\b\b\b\b\b\b\b\b\b\b\b\b\b\b\b\b\b\b\b\b\b\b\b\b\b\b\b\b\b\b\b\b\b\b\b\b\b\b\b\b\b\b\b\b\b\b\b\b\b\b\b\b\b\b\b\b\b\b\b\b\b\b\b\b\r",
      "9/9 [==============================] - 0s 5ms/step - loss: 0.6504 - accuracy: 0.6275 - val_loss: 0.6226 - val_accuracy: 0.6889\n"
     ]
    },
    {
     "name": "stdout",
     "output_type": "stream",
     "text": [
      "Epoch 398/400\n"
     ]
    },
    {
     "name": "stdout",
     "output_type": "stream",
     "text": [
      "\r",
      "1/9 [==>...........................] - ETA: 0s - loss: 0.6147 - accuracy: 0.7000"
     ]
    },
    {
     "name": "stdout",
     "output_type": "stream",
     "text": [
      "\b\b\b\b\b\b\b\b\b\b\b\b\b\b\b\b\b\b\b\b\b\b\b\b\b\b\b\b\b\b\b\b\b\b\b\b\b\b\b\b\b\b\b\b\b\b\b\b\b\b\b\b\b\b\b\b\b\b\b\b\b\b\b\b\b\b\b\b\b\b\b\b\b\b\b\b\b\b\b\b\r",
      "9/9 [==============================] - 0s 5ms/step - loss: 0.6503 - accuracy: 0.6275 - val_loss: 0.6225 - val_accuracy: 0.6889\n"
     ]
    },
    {
     "name": "stdout",
     "output_type": "stream",
     "text": [
      "Epoch 399/400\n"
     ]
    },
    {
     "name": "stdout",
     "output_type": "stream",
     "text": [
      "\r",
      "1/9 [==>...........................] - ETA: 0s - loss: 0.7198 - accuracy: 0.5000"
     ]
    },
    {
     "name": "stdout",
     "output_type": "stream",
     "text": [
      "\b\b\b\b\b\b\b\b\b\b\b\b\b\b\b\b\b\b\b\b\b\b\b\b\b\b\b\b\b\b\b\b\b\b\b\b\b\b\b\b\b\b\b\b\b\b\b\b\b\b\b\b\b\b\b\b\b\b\b\b\b\b\b\b\b\b\b\b\b\b\b\b\b\b\b\b\b\b\b\b\r",
      "9/9 [==============================] - 0s 5ms/step - loss: 0.6504 - accuracy: 0.6275 - val_loss: 0.6226 - val_accuracy: 0.6889\n"
     ]
    },
    {
     "name": "stdout",
     "output_type": "stream",
     "text": [
      "Epoch 400/400\n"
     ]
    },
    {
     "name": "stdout",
     "output_type": "stream",
     "text": [
      "\r",
      "1/9 [==>...........................] - ETA: 0s - loss: 0.6582 - accuracy: 0.6000"
     ]
    },
    {
     "name": "stdout",
     "output_type": "stream",
     "text": [
      "\b\b\b\b\b\b\b\b\b\b\b\b\b\b\b\b\b\b\b\b\b\b\b\b\b\b\b\b\b\b\b\b\b\b\b\b\b\b\b\b\b\b\b\b\b\b\b\b\b\b\b\b\b\b\b\b\b\b\b\b\b\b\b\b\b\b\b\b\b\b\b\b\b\b\b\b\b\b\b\b\r",
      "9/9 [==============================] - 0s 5ms/step - loss: 0.6503 - accuracy: 0.6275 - val_loss: 0.6228 - val_accuracy: 0.6889\n"
     ]
    }
   ],
   "source": [
    "#| output: false\n",
    "from keras import models, layers, regularizers\n",
    "\n",
    "model = models.Sequential()\n",
    "\n",
    "model.add(layers.Dense(1, activation='sigmoid', input_dim=X_train.shape[1],\n",
    "                       kernel_regularizer=regularizers.L2(0.5)))\n",
    "\n",
    "model.compile(optimizer='sgd', loss='binary_crossentropy', metrics=['accuracy'])\n",
    "hist = model.fit(X_train, y_train, epochs=400, batch_size=30,\n",
    "                 validation_data=(X_test, y_test))"
   ]
  },
  {
   "cell_type": "code",
   "execution_count": 17,
   "id": "57061103",
   "metadata": {},
   "outputs": [
    {
     "data": {
      "text/plain": [
       "<matplotlib.legend.Legend at 0x152c7cbe740>"
      ]
     },
     "execution_count": 16,
     "metadata": {},
     "output_type": "execute_result"
    },
    {
     "data": {
      "application/pdf": "[encoded data removed]",
      "text/plain": [
       "<Figure size 432x288 with 1 Axes>"
      ]
     },
     "metadata": {
      "needs_background": "light"
     },
     "output_type": "display_data"
    }
   ],
   "source": [
    "loss_train = hist.history['loss']\n",
    "loss_val = hist.history['val_loss']\n",
    "\n",
    "acc_train = hist.history['accuracy']\n",
    "acc_val = hist.history['val_accuracy']\n",
    "\n",
    "plt.plot(loss_train, label='train_loss')\n",
    "plt.plot(loss_val, label='val_loss')\n",
    "plt.legend()"
   ]
  },
  {
   "cell_type": "code",
   "execution_count": 18,
   "id": "55d9b1e1",
   "metadata": {},
   "outputs": [
    {
     "data": {
      "text/plain": [
       "<matplotlib.legend.Legend at 0x152c7d2aaa0>"
      ]
     },
     "execution_count": 17,
     "metadata": {},
     "output_type": "execute_result"
    },
    {
     "data": {
      "application/pdf": "[encoded data removed]",
      "text/plain": [
       "<Figure size 432x288 with 1 Axes>"
      ]
     },
     "metadata": {
      "needs_background": "light"
     },
     "output_type": "display_data"
    }
   ],
   "source": [
    "plt.plot(acc_train, label='train_acc')\n",
    "plt.plot(acc_val, label='val_acc')\n",
    "plt.legend()"
   ]
  },
  {
   "cell_type": "code",
   "execution_count": 19,
   "id": "0845bd19",
   "metadata": {},
   "outputs": [],
   "source": [
    "from sklearn.datasets import make_classification\n",
    "from sklearn.model_selection import train_test_split\n",
    "\n",
    "X, y = make_classification(n_samples=1000, n_features=10, n_informative=2, n_redundant=2, n_repeated=2, n_classes=3, n_clusters_per_class=1)\n",
    "X_train, X_test, y_train, y_test = train_test_split(X, y, test_size=0.15)"
   ]
  },
  {
   "cell_type": "code",
   "execution_count": 20,
   "id": "677369f1",
   "metadata": {},
   "outputs": [
    {
     "data": {
      "text/plain": [
       "<matplotlib.collections.PathCollection at 0x152c66c0820>"
      ]
     },
     "execution_count": 19,
     "metadata": {},
     "output_type": "execute_result"
    },
    {
     "data": {
      "application/pdf": "[encoded data removed]",
      "text/plain": [
       "<Figure size 432x288 with 1 Axes>"
      ]
     },
     "metadata": {
      "needs_background": "light"
     },
     "output_type": "display_data"
    }
   ],
   "source": [
    "import matplotlib.pyplot as plt\n",
    "plt.scatter(X[:, 0], X[:, 1], c=y)"
   ]
  },
  {
   "cell_type": "code",
   "execution_count": 21,
   "id": "c9a3130a",
   "metadata": {},
   "outputs": [
    {
     "data": {
      "text/plain": [
       "0.8466666666666667"
      ]
     },
     "execution_count": 20,
     "metadata": {},
     "output_type": "execute_result"
    }
   ],
   "source": [
    "from sklearn.linear_model import LogisticRegression\n",
    "\n",
    "clf = LogisticRegression()\n",
    "clf.fit(X_train, y_train)\n",
    "clf.score(X_test, y_test)"
   ]
  },
  {
   "cell_type": "code",
   "execution_count": 22,
   "id": "2a81d034",
   "metadata": {},
   "outputs": [
    {
     "data": {
      "text/plain": [
       "0.8266666666666667"
      ]
     },
     "execution_count": 21,
     "metadata": {},
     "output_type": "execute_result"
    }
   ],
   "source": [
    "from sklearn.linear_model import SGDClassifier\n",
    "\n",
    "clf = SGDClassifier()\n",
    "clf.fit(X_train, y_train)\n",
    "clf.score(X_test, y_test)"
   ]
  },
  {
   "cell_type": "code",
   "execution_count": 23,
   "id": "1c38dded",
   "metadata": {},
   "outputs": [
    {
     "name": "stdout",
     "output_type": "stream",
     "text": [
      "\r",
      "1/5 [=====>........................] - ETA: 0s - loss: 0.5524 - accuracy: 0.8125"
     ]
    },
    {
     "name": "stdout",
     "output_type": "stream",
     "text": [
      "\b\b\b\b\b\b\b\b\b\b\b\b\b\b\b\b\b\b\b\b\b\b\b\b\b\b\b\b\b\b\b\b\b\b\b\b\b\b\b\b\b\b\b\b\b\b\b\b\b\b\b\b\b\b\b\b\b\b\b\b\b\b\b\b\b\b\b\b\b\b\b\b\b\b\b\b\b\b\b\b\r",
      "5/5 [==============================] - 0s 2ms/step - loss: 0.5225 - accuracy: 0.8000\n"
     ]
    }
   ],
   "source": [
    "#| output: false\n",
    "import keras_core as keras\n",
    "from keras.utils import to_categorical\n",
    "from keras import models, layers\n",
    "\n",
    "vy_train = to_categorical(y_train, num_classes=3)\n",
    "vy_test = to_categorical(y_test, num_classes=3)\n",
    "\n",
    "model = models.Sequential()\n",
    "model.add(layers.Dense(3, activation='softmax', input_dim=10))\n",
    "model.compile(optimizer='adam', loss='categorical_crossentropy', metrics=['accuracy'])\n",
    "\n",
    "model.fit(X_train, vy_train, epochs=50, batch_size=50, verbose=0)\n",
    "_ = model.evaluate(X_test, vy_test)"
   ]
  }
 ],
 "metadata": {
  "kernelspec": {
   "display_name": "Python 3 (ipykernel)",
   "language": "python",
   "name": "python3"
  },
  "language_info": {
   "codemirror_mode": {
    "name": "ipython",
    "version": 3
   },
   "file_extension": ".py",
   "mimetype": "text/x-python",
   "name": "python",
   "nbconvert_exporter": "python",
   "pygments_lexer": "ipython3",
   "version": "3.10.11"
  }
 },
 "nbformat": 4,
 "nbformat_minor": 5
}