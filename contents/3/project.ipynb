{
 "cells": [
  {
   "cell_type": "markdown",
   "metadata": {},
   "source": [
    "# Exercises and Projects\n",
    "\n",
    "```{exercise}\n",
    "The dataset and its scattering plot is given below.\n",
    "\n",
    "1. Please calculate the Gini impurity of the whole set by hand.\n",
    "2. Please apply CART to create the decision tree by hand. \n",
    "3. Please use the tree you created to classify the following points:\n",
    "    - $(0.4, 1.0)$\n",
    "    - $(0.6, 1.0)$\n",
    "    - $(0.6, 0)$\n",
    "\n",
    "The following code is for ploting. You may also get the precise data points by reading the code. You don't need to write codes to solve the problem.\n",
    "```\n"
   ]
  },
  {
   "cell_type": "code",
   "execution_count": 9,
   "metadata": {},
   "outputs": [
    {
     "data": {
      "image/png": "[encoded data removed]",
      "text/plain": [
       "<Figure size 504x504 with 1 Axes>"
      ]
     },
     "metadata": {
      "needs_background": "light"
     },
     "output_type": "display_data"
    }
   ],
   "source": [
    "import pandas as pd\n",
    "import matplotlib.pyplot as plt\n",
    "data = {'x0': [0.22, 0.37, 0.42, 0.45, 0.18, 0.20, 0.21, 0.23, 0.35, 0.58,\n",
    "               0.60, 0.61, 0.62, 0.65, 0.70, 0.75, 0.82, 0.88, 0.90, 0.92],\n",
    "        'x1': [0.83, 0.78, 0.65, 0.37, 0.57, 0.45, 0.67, 0.22, 0.43, 0.33,\n",
    "               0.75, 0.50, 0.21, 0.31, 0.64, 0.70, 0.80, 0.82, 0.61, 0.81],\n",
    "        'y': ['r', 'r', 'b', 'r', 'r', 'r', 'r', 'r', 'r', 'r', \n",
    "              'b', 'b', 'r', 'r', 'b', 'r', 'r', 'r', 'r', 'r']}\n",
    "df = pd.DataFrame(data)\n",
    "\n",
    "plt.figure(figsize=(7, 7))\n",
    "plt.scatter(df['x0'], df['x1'], c=df['y'])\n",
    "_ = plt.xlim(0, 1)\n",
    "_ = plt.ylim(0, 1)\n"
   ]
  },
  {
   "cell_type": "markdown",
   "metadata": {},
   "source": [
    "```{exercise}\n",
    "CHOOSE ONE: Please apply the Decision Tree to one of the following datasets. \n",
    "\n",
    "- dating dataset (in Chpater 2). \n",
    "- the `titanic` dataset.\n",
    "\n",
    "Please answer the following questions.\n",
    "1. Please use grid search to find the good `max_leaf_nodes` and `max_depth`.\n",
    "2. Please record the accuracy (or cross-validation score) of your model and compare it with the models you learned before (kNN). \n",
    "3. Please find the two most important features and explane your reason.\n",
    "4. (Optional) Use the two most important features to draw the Decision Boundary if possible.\n",
    "```\n",
    "\n"
   ]
  }
 ],
 "metadata": {
  "kernelspec": {
   "display_name": "Python 3.9.12 ('ml22')",
   "language": "python",
   "name": "python3"
  },
  "language_info": {
   "codemirror_mode": {
    "name": "ipython",
    "version": 3
   },
   "file_extension": ".py",
   "mimetype": "text/x-python",
   "name": "python",
   "nbconvert_exporter": "python",
   "pygments_lexer": "ipython3",
   "version": "3.9.12"
  },
  "orig_nbformat": 4,
  "vscode": {
   "interpreter": {
    "hash": "4eae2d79809986d0872e4e364459f0c9575ffff27a18380d5ee1c7bc910cc873"
   }
  }
 },
 "nbformat": 4,
 "nbformat_minor": 2
}
