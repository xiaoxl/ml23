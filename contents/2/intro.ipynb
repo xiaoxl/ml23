{
  "cells": [
    {
      "cell_type": "markdown",
      "metadata": {},
      "source": [
        "# k-Nearest Neighbors algorithm (k-NN)\n",
        "This algorithm is different from other algorithms covered in this course, that it doesn't really extract features from the data. However, since its idea is easy to understand, we use it as our first step towards machine learning world.\n",
        "\n",
        "Similar to other algorithms, we will only cover the beginning part of the algorithm. All later upgrades of the algorithms are left for yourselves to learn.\n",
        "\n",
        "References: @Har2012.\n",
        "\n",
        "\n",
        "\n",
        "\n",
        "\n",
        "## k-Nearest Neighbors Algorithm (k-NN)\n",
        "\n",
        "### Ideas\n",
        "Assume that we have a set of labeled data $\\{(X_i, y_i)\\}$ where $y_i$ denotes the label. Given a new data $X$, how do we determine the label of it? \n",
        "\n",
        "k-NN algorithm starts from a very straightforward idea. We use the distances from the new data point $X$ to the known data points to identify the label. If $X$ is closer to $y_i$ points, then we will label $X$ as $y_i$. \n",
        "\n",
        "Let us take cities and countries as an example. <span style=\"color:red\">New York</span> and <span style=\"color:red\">Los Angeles</span> are U.S cities, and <span style=\"color:grey\">Beijing</span> and <span style=\"color:grey\">Shanghai</span> are Chinese cities. Now we would like to consider Tianjin and Russellville. Do they belong to China or U.S? We calculate the distances from Tianjin (resp. Russellville) to all four known cities. Since Tianjin is closer to <span style=\"color:grey\">Beijing</span> and <span style=\"color:grey\">Shanghai</span> comparing to <span style=\"color:red\">New York</span> and <span style=\"color:red\">Los Angeles</span>, we classify Tianjin as a Chinese city. Similarly, since Russellville is closer to <span style=\"color:red\">New York</span> and <span style=\"color:red\">Los Angeles</span> comparing to <span style=\"color:grey\">Beijing</span> and <span style=\"color:grey\">Shanghai</span>, we classify it as a U.S. city.\n",
        "\n",
        "\n",
        "\n",
        "\n",
        "```{dot}\n",
        "digraph G {\n",
        "    layout=circo\n",
        "\n",
        "    Beijing [color=black]\n",
        "    Shanghai [color=black]\n",
        "    Tianjin [color=blue, fontcolor=black, shape=box]\n",
        "\n",
        "    \"New York\" [color=red, fontcolor=red]\n",
        "    \"Los Angelis\" [color=red, fontcolor=red]\n",
        "    Russellville [color=blue, fontcolor=red, shape=box]\n",
        "\n",
        "\n",
        " \n",
        "    Tianjin -> Beijing [label=\"closer\"];\n",
        "    Tianjin -> Shanghai [label=\"closer   \"];\n",
        "    Tianjin -> \"New York\" [style=dashed, color=blue, fontcolor=blue, label=\" far away\"];\n",
        "    Tianjin -> \"Los Angelis\" [style=dashed, color=blue, fontcolor=blue, label=\" far away\"];\n",
        "    Russellville -> \"New York\" [color=red, label=\"closer  \", fontcolor=red];\n",
        "    Russellville -> \"Los Angelis\" [color=red, label=\"closer\", fontcolor=red];\n",
        "    Russellville -> Beijing [color=red, style=dashed, color=blue, label=\"far away \", fontcolor=blue];\n",
        "    Russellville -> Shanghai [color=red, style=dashed, color=blue, label=\"far away\", fontcolor=blue];\n",
        "}\n",
        "```\n",
        "\n",
        "\n",
        "This naive example explains the idea of k-NN. Here is a more detailed description of the algorithm. \n",
        "\n",
        "### The Algorithm\n",
        "\n",
        "\n",
        "\n",
        "::: {.callout-note}\n",
        "# k-NN Classifier\n",
        "\n",
        "**Inputs**: Given the training data set $\\{(X_i, y_i)\\}$ where $X_i=(x_i^1,x_i^2,\\ldots,x_i^n)$ represents $n$ features and $y_i$ represents labels. Given a new data point $\\tilde{X}=(\\tilde{x}^1,\\tilde{x}^2,\\ldots,\\tilde{x}^n)$.\n",
        "\n",
        "**Outputs**: Want to find the best label for $\\tilde{X}$.\n",
        "\n",
        "1. Compute the distance from $\\tilde{X}$ to each $X_i$.\n",
        "2. Sort all these distances from the nearest to the furthest. \n",
        "3. Find the nearest $k$ data points.\n",
        "4. Determine the labels for each of these $k$ nearest points, and compute the frenqucy of each labels.\n",
        "5. The most frequent label is considered to be the label of $\\tilde{X}$.\n",
        "\n",
        ":::\n",
        "\n",
        "### Details\n",
        "- The distance between two data points are defined by the Euclidean distance:\n",
        "  \n",
        "$$\n",
        "dist\\left((x^j_i)_{j=1}^n, (\\tilde{x}^j)_{j=1}^n\\right)=\\sqrt{\\sum_{j=1}^n(x^j_i-\\tilde{x}^j)^2}.\n",
        "$$\n",
        "  \n",
        "- Using linear algebra notations: \n",
        "  \n",
        "$$\n",
        "dist(X_i,\\tilde{X})=\\sqrt{(X_i-\\tilde{X})\\cdot(X_i-\\tilde{X})}.\n",
        "$$\n",
        "\n",
        "- All the distances are stored in a $1$-dim numpy array, and we will combine it together with another $1$-dim array that store the labels of each point.\n",
        "\n",
        "### The codes\n",
        "\n",
        "- `argsort`\n",
        "- `get`\n",
        "- `sorted`\n"
      ],
      "id": "bafed563"
    },
    {
      "cell_type": "code",
      "metadata": {},
      "source": [
        "#| eval: false\n",
        "\n",
        "def classify_kNN(inX, X, y, k):\n",
        "    # create a new 2-d numpy array by copying inX for each row.\n",
        "    Xmat = np.tile(np.array([inX]), (X.shape[0], 1))\n",
        "    # compute the distance between each row of X and Xmat\n",
        "    Dmat = np.sqrt(np.sum((Xmat - X)**2, axis=1))\n",
        "    # sort by distance\n",
        "    sortedlist = Dmat.argsort()\n",
        "    # count the freq. of the first k items\n",
        "    k = min(k, len(sortedlist))\n",
        "    classCount = dict()\n",
        "    for i in sortedlist[:k]:\n",
        "        classCount[y[i]] = classCount.get(y[i], 0) + 1\n",
        "    # find out the most freqent one\n",
        "    sortedCount = sorted(classCount.items(), key=lambda x:x[1],\n",
        "                         reverse=True)\n",
        "    return sortedCount[0][0]"
      ],
      "id": "ef90a443",
      "execution_count": null,
      "outputs": []
    },
    {
      "cell_type": "markdown",
      "metadata": {},
      "source": [
        "### `sklearn` packages\n",
        "You may also directly use the kNN function `KNeighborsClassifier` packaged in `sklearn.neighbors`. You may check the description of the function online from [here](https://scikit-learn.org/stable/modules/generated/sklearn.neighbors.KNeighborsClassifier.html).\n",
        "\n",
        "There are many ways to modify the kNN algorithm. What we just mentioned is the simplest idea. It is correspondent to the argument `weights='uniform'`, `algorithm='brute` and `metric='euclidean'`. However due to the implementation details, the results we got from `sklearn` are still a little bit different from the results produced by our naive codes.\n"
      ],
      "id": "115f0849"
    },
    {
      "cell_type": "code",
      "metadata": {},
      "source": [
        "#| eval: false\n",
        "\n",
        "from sklearn.neighbors import KNeighborsClassifier\n",
        "clf = KNeighborsClassifier(n_neighbors=10, weights='uniform',\n",
        "                           algorithm='brute', metric='euclidean')\n",
        "clf.fit(X_train, y_train)\n",
        "y_pred = clf.predict(X_test)"
      ],
      "id": "dc130dc9",
      "execution_count": null,
      "outputs": []
    },
    {
      "cell_type": "markdown",
      "metadata": {},
      "source": [
        "### Normalization\n",
        "Different features may have different scales. It might be unfair for those features that have small scales. Therefore usually it is better to rescale all the features to make them have similar scales. After examining all the data, we find the minimal value `minVal` and the range `ranges` for each column. The normalization formula is:\n",
        "\n",
        "$$\n",
        "X_{norm} = \\frac{X_{original}-minVal}{ranges}.\n",
        "$$\n",
        "\n",
        "We could also convert the normalized number back to the original value by \n",
        "\n",
        "$$\n",
        "X_{original} = X_{norm} \\times ranges + minVal.\n",
        "$$\n",
        "\n",
        "The sample codes are listed below.\n"
      ],
      "id": "2034755d"
    },
    {
      "cell_type": "code",
      "metadata": {},
      "source": [
        "#| eval: false\n",
        "\n",
        "def encodeNorm(X, parameters=None):\n",
        "    # parameters contains minVals and ranges\n",
        "    if parameters is None:\n",
        "        minVals = np.min(X, axis=0)\n",
        "        maxVals = np.max(X, axis=0)\n",
        "        ranges = np.maximum(maxVals - minVals, np.ones(minVals.size))\n",
        "        parameters = {'ranges': ranges, 'minVals': minVals}\n",
        "    else:\n",
        "        minVals = parameters['minVals']\n",
        "        ranges = parameters['ranges']\n",
        "    Nmat = np.tile(minVals, (X.shape[0], 1))\n",
        "    Xnorm = (X - Nmat)/ranges\n",
        "    return (Xnorm, parameters)\n",
        "\n",
        "\n",
        "def decodeNorm(X, parameters):\n",
        "    # parameters contains minVals and ranges\n",
        "    ranges = parameters['ranges']\n",
        "    minVals = parameters['minVals']\n",
        "    Nmat = np.tile(minVals, (X.shape[0], 1))\n",
        "    Xoriginal = X * ranges + Nmat\n",
        "    return Xoriginal"
      ],
      "id": "71d9cc14",
      "execution_count": null,
      "outputs": []
    },
    {
      "cell_type": "markdown",
      "metadata": {},
      "source": [
        "If you use `sklearn` you could use `MinMaxScaler` from `sklearn.preprocessing` to achive the same goal. The related codes will be discussed later in projects. I keep our handwritten codes here for Python practicing.\n",
        "\n",
        "## k-NN Project 1: `iris` Classification\n",
        "\n",
        "This data is from `sklearn.datasets`. This dataset consists of 3 different types of irises' petal / sepal length / width, stored in a $150\\times4$ `numpy.ndarray`. We already explored the dataset briefly in the previous chapter. This time we will try to use the feature provided to predict the type of the irises. For the purpose of plotting, we will only use the first two features: `sepal length` and `sepal width`.\n",
        "\n",
        "### Explore the dataset\n",
        "We first load the dataset. \n"
      ],
      "id": "0a31a30b"
    },
    {
      "cell_type": "code",
      "metadata": {},
      "source": [
        "from sklearn import datasets\n",
        "iris = datasets.load_iris()\n",
        "X = iris.data[:, :2]\n",
        "y = iris.target"
      ],
      "id": "1488ac3c",
      "execution_count": null,
      "outputs": []
    },
    {
      "cell_type": "markdown",
      "metadata": {},
      "source": [
        "Then we would like to split the dataset into trainning data and test data. Here we are going to use `sklearn.model_selection.train_test_split` function. Besides the dataset, we should also provide the propotion of the test set comparing to the whole dataset. We will choose `test_size=0.1` here, which means that the size of the test set is 0.1 times the size of the whole dataset. `stratify=y` means that when split the dataset we want to split respects the distribution of labels in `y`. \n",
        "\n",
        "The split will be randomly. You may set the argument `random_state` to be a certain number to control the random process. If you set a `random_state`, the result of the random process will stay the same. This is for reproducible output across multiple function calls.\n",
        "\n",
        "\n",
        "After we get the training set, we should also normalize it. All our normalization should be based on the training set. When we want to use our model on some new data points, we will use the same normalization parameters to normalize the data points in interests right before we apply the model. Here since we mainly care about the test set, we could normalize the test set at this stage.\n",
        "\n",
        "Note that in the following code, the function `encodeNorm` defined in the previous section is used. I import it from `assests.codes.knn`. You need to modify this part based on your file structure. See @sec-applyourknn for more details.\n"
      ],
      "id": "532e82ea"
    },
    {
      "cell_type": "code",
      "metadata": {},
      "source": [
        "from sklearn.model_selection import train_test_split\n",
        "from assests.codes.knn import encodeNorm\n",
        "X_train, X_test, y_train, y_test = train_test_split(X, y, test_size=0.1, random_state=1, stratify=y)\n",
        "\n",
        "X_train_norm, parameters = encodeNorm(X_train)\n",
        "X_test_norm, _ = encodeNorm(X_test, parameters=parameters)"
      ],
      "id": "ae3bbea9",
      "execution_count": null,
      "outputs": []
    },
    {
      "cell_type": "markdown",
      "metadata": {},
      "source": [
        "Before we start to play with k-NN, let us look at the data first. Since we only choose two features, it is able to plot these data points on a 2D plane, with different colors representing different classes. \n"
      ],
      "id": "e9ae13a3"
    },
    {
      "cell_type": "code",
      "metadata": {},
      "source": [
        "import matplotlib.pyplot as plt\n",
        "import numpy as np\n",
        "\n",
        "# Plot the scatter plot.\n",
        "fig = plt.figure(figsize=(10,7))\n",
        "ax = fig.add_subplot(111)\n",
        "scatter = ax.scatter(X_train[:, 0], X_train[:, 1], c=y_train)\n",
        "\n",
        "# Generate legends.\n",
        "labels = ['setosa', 'versicolor', 'virginica']\n",
        "_ = fig.legend(handles=scatter.legend_elements()[0], labels=labels,\n",
        "               loc=\"right\", title=\"Labels\")"
      ],
      "id": "c7c4b232",
      "execution_count": null,
      "outputs": []
    },
    {
      "cell_type": "markdown",
      "metadata": {},
      "source": [
        "### Apply our k-NN model {#sec-applyourknn}\n",
        "\n",
        "Now let us apply k-NN to this dataset. We first use our codes. Here I use `from assests.codes.knn` to import our functions since I put all our functions in `./assests/codes/knn.py`. Then the poential code is "
      ],
      "id": "8073b7dd"
    },
    {
      "cell_type": "code",
      "metadata": {},
      "source": [
        "#| eval: false\n",
        "y_pred = classify_kNN(X_test, X_train, y_train, k=10)"
      ],
      "id": "88da6b69",
      "execution_count": null,
      "outputs": []
    },
    {
      "cell_type": "markdown",
      "metadata": {},
      "source": [
        "Note that the above code is actually wrong. The issue ist that our function `classify_kNN` can only classify one row of data. To classify many rows, we need to use a `for` loop. \n"
      ],
      "id": "788e7f44"
    },
    {
      "cell_type": "code",
      "metadata": {},
      "source": [
        "from assests.codes.knn import classify_kNN\n",
        "\n",
        "n_neighbors = 10\n",
        "y_pred = list()\n",
        "for row in X_test_norm:\n",
        "    row_pred = classify_kNN(row, X_train_norm, y_train, k=n_neighbors)\n",
        "    y_pred.append(row_pred)\n",
        "y_pred = np.array(y_pred)"
      ],
      "id": "43446391",
      "execution_count": null,
      "outputs": []
    },
    {
      "cell_type": "markdown",
      "metadata": {},
      "source": [
        "We could use list comprehension to simply the above codes. \n"
      ],
      "id": "9db653c0"
    },
    {
      "cell_type": "code",
      "metadata": {},
      "source": [
        "from assests.codes.knn import classify_kNN\n",
        "\n",
        "n_neighbors = 10\n",
        "y_pred = np.array([classify_kNN(row, X_train_norm, y_train, k=n_neighbors)\n",
        "                   for row in X_test_norm])"
      ],
      "id": "69be0fd5",
      "execution_count": null,
      "outputs": []
    },
    {
      "cell_type": "markdown",
      "metadata": {},
      "source": [
        "This `y_pred` is the result we got for the test set. We may compare it with the real answer `y_test`, and calcuate the accuracy.\n"
      ],
      "id": "378f7f40"
    },
    {
      "cell_type": "code",
      "metadata": {},
      "source": [
        "acc = np.mean(y_pred == y_test)\n",
        "acc"
      ],
      "id": "c198dfd0",
      "execution_count": null,
      "outputs": []
    },
    {
      "cell_type": "markdown",
      "metadata": {},
      "source": [
        "### Apply k-NN model from `sklearn`\n",
        "\n",
        "Now we would like to use `sklearn` to reproduce this result. Since our data is prepared, what we need to do is directly call the functions.\n"
      ],
      "id": "5385a023"
    },
    {
      "cell_type": "code",
      "metadata": {},
      "source": [
        "from sklearn.neighbors import KNeighborsClassifier\n",
        "n_neighbors = 10\n",
        "clf = KNeighborsClassifier(n_neighbors, weights=\"uniform\", metric=\"euclidean\",\n",
        "                           algorithm='brute')\n",
        "clf.fit(X_train_norm, y_train)\n",
        "y_pred_sk = clf.predict(X_test_norm)\n",
        "\n",
        "acc = np.mean(y_pred_sk == y_test)\n",
        "acc"
      ],
      "id": "22fb8244",
      "execution_count": null,
      "outputs": []
    },
    {
      "cell_type": "markdown",
      "metadata": {},
      "source": [
        "### Using data pipeline\n",
        "We may organize the above process in a neater way. After we get a data, the usual process is to apply several transforms to the data before we really get to the model part. Using terminolgies from `sklearn`, the former are called *transforms*, and the latter is called an *estimator*. In this example, we have exactly one tranform which is the normalization. The estimator here we use is the k-NN classifier. \n",
        "\n",
        "`sklearn` provides a standard way to write these codes, which is called `pipeline`. We may chain the transforms and estimators in a sequence and let the data go through the pipeline. In this example, the pipeline contains two steps:\n",
        "1. The normalization transform `sklearn.preprocessing.MinMaxScaler`. When we directly apply it the parameters `ranges` and `minVals` and  will be recorded automatically, and we don't need to worry about it when we want to use the same parameters to normalize other data.\n",
        "2. The k-NN classifier `sklearn.neighbors.KNeighborsClassifier`. This is the same one as we use previously.\n",
        "\n",
        "The code is as follows. It is a straightforward code. Note that the `()` after the class in each step of `steps` is very important. The codes cannot run if you miss it.\n",
        "\n",
        "After we setup the pipeline, we may use it as other estimators since it is an estimator. Here we may also use the accuracy function provided by `sklearn` to perform the computation. It is essentially the same as our `acc` computation.\n"
      ],
      "id": "767602bb"
    },
    {
      "cell_type": "code",
      "metadata": {},
      "source": [
        "from sklearn.pipeline import Pipeline\n",
        "from sklearn.preprocessing import MinMaxScaler\n",
        "from sklearn.metrics import accuracy_score\n",
        "\n",
        "steps = [('scaler', MinMaxScaler()),\n",
        "         ('knn', KNeighborsClassifier(n_neighbors, weights=\"uniform\",\n",
        "                                      metric=\"euclidean\", algorithm='brute'))]\n",
        "pipe = Pipeline(steps=steps)\n",
        "pipe.fit(X_train, y_train)\n",
        "y_pipe = pipe.predict(X_test)\n",
        "accuracy_score(y_pipe, y_test)"
      ],
      "id": "4b5c77d5",
      "execution_count": null,
      "outputs": []
    },
    {
      "cell_type": "markdown",
      "metadata": {},
      "source": [
        "### Visualize the Decision boundary [Optional]\n",
        "Using the classifier we get above, we are able to classify every points on the plane. This enables us to draw the following plot, which is called the Decision boundary. It helps us to visualize the relations between features and the classes.\n",
        "\n",
        "We use `DecisionBoundaryDisplay` from `sklearn.inspection` to plot the decision boundary. The function requires us to have a fitted classifier. We may use the classifier `pipe` we got above. Note that this classifier should have some build-in structures that our `classify_kNN` function doesn't have. We may rewrite our codes to make it work, but this goes out of the scope of this section. This is supposed to be Python programming exercise. We will talk about it in the future if we have enough time.\n",
        "\n",
        "We first plot the dicision boundary using `DecisionBoundaryDisplay.from_estimator`. Then we plot the points from `X_test`. From the plot it is very clear which points are misclassified.\n"
      ],
      "id": "6915759e"
    },
    {
      "cell_type": "code",
      "metadata": {},
      "source": [
        "from sklearn.inspection import DecisionBoundaryDisplay\n",
        "\n",
        "disp = DecisionBoundaryDisplay.from_estimator(\n",
        "            pipe, \n",
        "            X_train,\n",
        "            response_method=\"predict\",\n",
        "            plot_method=\"pcolormesh\",\n",
        "            xlabel=iris.feature_names[0],\n",
        "            ylabel=iris.feature_names[1],\n",
        "            alpha=0.5)\n",
        "disp.ax_.scatter(X_test[:, 0], X_test[:, 1], c=y_test, edgecolor=\"k\")\n",
        "disp.figure_.set_size_inches((10,7))"
      ],
      "id": "cde671ae",
      "execution_count": null,
      "outputs": []
    },
    {
      "cell_type": "markdown",
      "metadata": {},
      "source": [
        "### k-Fold Cross-Validation {#sec-cross-validation}\n",
        "\n",
        "Previously we perform a random split and test our model in this case. What would happen if we fit our model on another split? We might get a different accuracy score. So in order to evaluate the performance of our model, it is natual to consider several different split and compute the accuracy socre for each case, and combine all these socres together to generate an index to indicate whehter our model is good or bad. This naive idea is called *k-Fold Cross-Validation*.\n",
        "\n",
        "The algorithm is described as follows. We first randomly split the dataset into `k` groups. We use one of them as the test set, and the rest together forming the training set, and use this setting to get an accuracy score. We did this for each group to be chosen as the test set. Then the final score is the mean.\n",
        "\n",
        "`sklearn` provides a function `sklearn.model_selection.cross_val_score` to perform the above computation. The usage is straightforward, as follows.\n"
      ],
      "id": "04e7a2f9"
    },
    {
      "cell_type": "code",
      "metadata": {},
      "source": [
        "from sklearn.model_selection import cross_val_score\n",
        "cv_scores = cross_val_score(pipe, X, y, cv=5)\n",
        "cv_scores"
      ],
      "id": "751cb573",
      "execution_count": null,
      "outputs": []
    },
    {
      "cell_type": "code",
      "metadata": {},
      "source": [
        "np.mean(cv_scores)"
      ],
      "id": "f72bd85c",
      "execution_count": null,
      "outputs": []
    },
    {
      "cell_type": "markdown",
      "metadata": {},
      "source": [
        "### Choosing a `k` value\n",
        "In the previous example we choose `k` to be `10` as an example. To choose a `k` value we usually run some test by trying different `k` and choose the one with the best performance. In this case, best performance means the highest cross-validation score.\n",
        "\n",
        "`sklearn.model_selection.GridSearchCV` provides a way to do this directly. We only need to setup the esitimator, the metric (which is the cross-validation score in this case), and the hyperparameters to be searched through, and `GridSearchCV` will run the search automatically.\n",
        "\n",
        "We let `k` go from `1` to `100`. The code is as follows.\n",
        "\n",
        "Note that `parameters` is where we set the search space. It is a dictionary. The key is the name of the estimator plus double `_` and then plus the name of the parameter. \n"
      ],
      "id": "24dc9806"
    },
    {
      "cell_type": "code",
      "metadata": {},
      "source": [
        "from sklearn.model_selection import GridSearchCV\n",
        "n_list = list(range(1, 101))\n",
        "parameters = dict(knn__n_neighbors=n_list)\n",
        "clf = GridSearchCV(pipe, parameters)\n",
        "clf.fit(X, y)\n",
        "clf.best_estimator_.get_params()[\"knn__n_neighbors\"]"
      ],
      "id": "c344c264",
      "execution_count": null,
      "outputs": []
    },
    {
      "cell_type": "markdown",
      "metadata": {},
      "source": [
        "After we fit the data, the `best_estimator_.get_params()` can be printed. It tells us that it is best to use `31` neibhours for our model. We can directly use the best estimator by calling `clf.best_estimator_`.\n"
      ],
      "id": "e3c6da46"
    },
    {
      "cell_type": "code",
      "metadata": {},
      "source": [
        "cv_scores = cross_val_score(clf.best_estimator_, X, y, cv=5)\n",
        "np.mean(cv_scores)"
      ],
      "id": "0f146900",
      "execution_count": null,
      "outputs": []
    },
    {
      "cell_type": "markdown",
      "metadata": {},
      "source": [
        "The cross-validation score using `k=31` is calculated. This serves as a benchmark score and we may come back to dataset using other methods and compare the scores.\n",
        "\n",
        "## k-NN Project 2: Dating Classification\n",
        "\n",
        "The data can be downloaded from [here](./assests/datasets/datingTestSet2.txt).\n",
        "\n",
        "\n",
        "### Background\n",
        "Helen dated several people and rated them using a three-point scale: 3 is best and 1 is worst. She also collected data from all her dates and recorded them in the file attached. These data contains 3 features:\n",
        "\n",
        "- Number of frequent flyer miles earned per year\n",
        "- Percentage of time spent playing video games\n",
        "- Liters of ice cream consumed per week\n",
        "\n",
        "We would like to predict her ratings of new dates when we are given the three features. \n",
        "\n",
        "The data contains four columns, while the first column refers to `Mileage`, the second `Gamingtime`, the third `Icecream` and the fourth `Rating`. \n",
        "\n",
        "### Look at Data\n",
        "\n",
        "We first load the data and store it into a DataFrame.\n"
      ],
      "id": "ea2ae55c"
    },
    {
      "cell_type": "code",
      "metadata": {},
      "source": [
        "import numpy as np\n",
        "import pandas as pd\n",
        "import matplotlib.pyplot as plt\n",
        "\n",
        "df = pd.read_csv('./assests/datasets/datingTestSet2.txt', sep='\\t', header=None)\n",
        "df.head()"
      ],
      "id": "82a06f2e",
      "execution_count": null,
      "outputs": []
    },
    {
      "cell_type": "markdown",
      "metadata": {},
      "source": [
        "To make it easier to read, we would like to change the name of the columns.\n"
      ],
      "id": "ef5ac28c"
    },
    {
      "cell_type": "code",
      "metadata": {},
      "source": [
        "df = df.rename(columns={0: \"Mileage\", 1: \"Gamingtime\", 2: 'Icecream', 3: 'Rating'})\n",
        "df.head()"
      ],
      "id": "14302a8f",
      "execution_count": null,
      "outputs": []
    },
    {
      "cell_type": "markdown",
      "metadata": {},
      "source": [
        "Since now we have more than 2 features, it is not suitable to directly draw scatter plots. We use `seaborn.pairplot` to look at the pairplot. From the below plots, before we apply any tricks, it seems that `Milegae` and `Gamingtime` are better than `Icecream` to classify the data points. \n"
      ],
      "id": "35732663"
    },
    {
      "cell_type": "code",
      "metadata": {},
      "source": [
        "import seaborn as sns\n",
        "sns.pairplot(data=df, hue='Rating')"
      ],
      "id": "ceac7b45",
      "execution_count": null,
      "outputs": []
    },
    {
      "cell_type": "markdown",
      "metadata": {},
      "source": [
        "### Applying kNN\n",
        "\n",
        "Similar to the previous example, we will apply both methods for comparisons. \n"
      ],
      "id": "09a04831"
    },
    {
      "cell_type": "code",
      "metadata": {},
      "source": [
        "from sklearn.model_selection import train_test_split\n",
        "from assests.codes.knn import encodeNorm\n",
        "X = np.array(df[['Mileage', 'Gamingtime', 'Icecream']])\n",
        "y = np.array(df['Rating'])\n",
        "\n",
        "X_train, X_test, y_train, y_test = train_test_split(X, y, test_size=0.1, random_state=40, stratify=y)\n",
        "\n",
        "X_train_norm, parameters = encodeNorm(X_train)\n",
        "X_test_norm, _ = encodeNorm(X_test, parameters=parameters)"
      ],
      "id": "2b672d4b",
      "execution_count": null,
      "outputs": []
    },
    {
      "cell_type": "markdown",
      "metadata": {},
      "source": [
        "- Using our codes.\n"
      ],
      "id": "9836e7e9"
    },
    {
      "cell_type": "code",
      "metadata": {},
      "source": [
        "# Using our codes.\n",
        "from assests.codes.knn import classify_kNN\n",
        "\n",
        "n_neighbors = 10\n",
        "y_pred = np.array([classify_kNN(row, X_train_norm, y_train, k=n_neighbors)\n",
        "                   for row in X_test_norm])\n",
        "\n",
        "acc = np.mean(y_pred == y_test)\n",
        "acc"
      ],
      "id": "62479daa",
      "execution_count": null,
      "outputs": []
    },
    {
      "cell_type": "markdown",
      "metadata": {},
      "source": [
        "- Using sklearn.\n"
      ],
      "id": "5eb22f79"
    },
    {
      "cell_type": "code",
      "metadata": {},
      "source": [
        "# Using sklearn.\n",
        "from sklearn.pipeline import Pipeline\n",
        "from sklearn.preprocessing import MinMaxScaler\n",
        "from sklearn.neighbors import KNeighborsClassifier\n",
        "from sklearn.metrics import accuracy_score\n",
        "\n",
        "steps = [('scaler', MinMaxScaler()),\n",
        "         ('knn', KNeighborsClassifier(n_neighbors, weights=\"uniform\",\n",
        "                                      metric=\"euclidean\", algorithm='brute'))]\n",
        "pipe = Pipeline(steps=steps)\n",
        "pipe.fit(X_train, y_train)\n",
        "y_pipe = pipe.predict(X_test)\n",
        "accuracy_score(y_pipe, y_test)"
      ],
      "id": "fd679f0f",
      "execution_count": null,
      "outputs": []
    },
    {
      "cell_type": "markdown",
      "metadata": {},
      "source": [
        "### Choosing `k` Value\n",
        "Similar to the previous section, we can run tests on `k` value to choose one to be used in our model using `GridSearchCV`.\n"
      ],
      "id": "611ca4bc"
    },
    {
      "cell_type": "code",
      "metadata": {},
      "source": [
        "from sklearn.model_selection import GridSearchCV, cross_val_score\n",
        "n_list = list(range(1, 101))\n",
        "parameters = dict(knn__n_neighbors=n_list)\n",
        "clf = GridSearchCV(pipe, parameters)\n",
        "clf.fit(X, y)\n",
        "clf.best_estimator_.get_params()[\"knn__n_neighbors\"]"
      ],
      "id": "8d11638e",
      "execution_count": null,
      "outputs": []
    },
    {
      "cell_type": "markdown",
      "metadata": {},
      "source": [
        "From this result, in this case the best `k` is `4`. The corresponding cross-validation score is computed below.\n"
      ],
      "id": "3e91602c"
    },
    {
      "cell_type": "code",
      "metadata": {},
      "source": [
        "cv_scores = cross_val_score(clf.best_estimator_, X, y, cv=5)\n",
        "np.mean(cv_scores)"
      ],
      "id": "efa5beb0",
      "execution_count": null,
      "outputs": []
    },
    {
      "cell_type": "markdown",
      "metadata": {},
      "source": [
        "## k-NN Project 3: Handwritten recognition\n",
        "\n",
        "We would like to let the machine recognize handwritten digits. The dataset comes from the [UCI dataset repository](https://archive.ics.uci.edu/dataset/80/optical+recognition+of+handwritten+digits). Now we apply kNN algrotithm to it. \n",
        "\n",
        "### Dataset description\n",
        "Every digit is stored as a $8\\times8$ picture. This is a $8\\times8$ matrix. Every entry represents a gray value of the corresponding pixel, whose value is from 0 to 16. The label of each matrix is the digit it represents. Note that the dataset provided is already splitted into a training set and a test set.\n"
      ],
      "id": "0772a7c6"
    },
    {
      "cell_type": "code",
      "metadata": {},
      "source": [
        "from sklearn import datasets\n",
        "from sklearn.model_selection import train_test_split\n",
        "\n",
        "X = datasets.load_digits().images\n",
        "y = datasets.load_digits().target\n",
        "\n",
        "X_train, X_test, y_train, y_test = train_test_split(X, y, test_size=.15)"
      ],
      "id": "70148478",
      "execution_count": null,
      "outputs": []
    },
    {
      "cell_type": "markdown",
      "metadata": {},
      "source": [
        "Let us play with these data first. \n"
      ],
      "id": "75dde0d3"
    },
    {
      "cell_type": "code",
      "metadata": {},
      "source": [
        "print(X_train.shape)\n",
        "print(y_train.shape)\n",
        "print(X_test.shape)\n",
        "print(y_test.shape)\n",
        "print(type(X_train))"
      ],
      "id": "9a2a0c79",
      "execution_count": null,
      "outputs": []
    },
    {
      "cell_type": "code",
      "metadata": {},
      "source": [
        "#| echo: false\n",
        "#| output: false\n",
        "tr0 = X_train.shape[0]\n",
        "te0 = X_test.shape[0]\n",
        "yt0 = y_train[0]"
      ],
      "id": "92675552",
      "execution_count": null,
      "outputs": []
    },
    {
      "cell_type": "markdown",
      "metadata": {},
      "source": [
        "From these information we can see that the training set contains `{python} tr0` digits and the test set contains `{python} te0` digits. Each digit is represented by a $8\\times8$ numpy array. Let us load one and display the digit by `matplotlib.pyplot.imshow`.\n"
      ],
      "id": "33f76e99"
    },
    {
      "cell_type": "code",
      "metadata": {},
      "source": [
        "digit = X_train[0]\n",
        "\n",
        "import matplotlib.pyplot as plt\n",
        "plt.imshow(digit, cmap='gray')"
      ],
      "id": "3eff085a",
      "execution_count": null,
      "outputs": []
    },
    {
      "cell_type": "markdown",
      "metadata": {},
      "source": [
        "This image represents a handwritten digit. Could you recognize it? We could check our guess by looking at the label. The following shows that it is a `{python} yt0`.\n"
      ],
      "id": "1b57788d"
    },
    {
      "cell_type": "code",
      "metadata": {},
      "source": [
        "y_train[0]"
      ],
      "id": "0c1f1b2a",
      "execution_count": null,
      "outputs": []
    },
    {
      "cell_type": "markdown",
      "metadata": {},
      "source": [
        "Now we need to reshape these digits from $8\\times8$ numpy arraies to $64$ numpy arraies. Similar to previous examples, we will also normalize the dataset.\n"
      ],
      "id": "6fb54425"
    },
    {
      "cell_type": "code",
      "metadata": {},
      "source": [
        "from assests.codes.knn import encodeNorm\n",
        "\n",
        "X_train = X_train.reshape((X_train.shape[0], X_train.shape[1]*X_train.shape[2]))\n",
        "X_test = X_test.reshape((X_test.shape[0], X_test.shape[1]*X_test.shape[2]))\n",
        "\n",
        "X_train_norm, parameters = encodeNorm(X_train)\n",
        "X_test_norm, _ = encodeNorm(X_test, parameters=parameters)"
      ],
      "id": "55518acb",
      "execution_count": null,
      "outputs": []
    },
    {
      "cell_type": "markdown",
      "metadata": {},
      "source": [
        "### Apply k-NN\n",
        "Like the previous two examples, we now try to apply the k-NN algorithm to classify these handwritten digits. \n"
      ],
      "id": "1497ac8b"
    },
    {
      "cell_type": "code",
      "metadata": {},
      "source": [
        "from assests.codes.knn import classify_kNN\n",
        "import numpy as np\n",
        "\n",
        "n_neighbors = 10\n",
        "X_test_sample = X_test_norm\n",
        "y_test_sample = y_test\n",
        "y_pred = np.array([classify_kNN(row, X_train_norm, y_train, k=n_neighbors)\n",
        "                   for row in X_test_sample])\n",
        "\n",
        "acc = np.mean(y_pred == y_test_sample)\n",
        "acc"
      ],
      "id": "98b0a2fb",
      "execution_count": null,
      "outputs": []
    },
    {
      "cell_type": "markdown",
      "metadata": {},
      "source": [
        "Now let us try to apply `sklearn` package. Note that we could run the code over the whole test set (which contains 10000 digits) and the speed is much faster comparing to our codes. To save time we won't grid search `k` here. The code is the same anyway.\n"
      ],
      "id": "109ec335"
    },
    {
      "cell_type": "code",
      "metadata": {},
      "source": [
        "from sklearn.pipeline import Pipeline\n",
        "from sklearn.preprocessing import MinMaxScaler\n",
        "from sklearn.neighbors import KNeighborsClassifier\n",
        "from sklearn.metrics import accuracy_score\n",
        "\n",
        "steps = [('scaler', MinMaxScaler()),\n",
        "         ('knn', KNeighborsClassifier(n_neighbors, weights=\"uniform\",\n",
        "                                      metric=\"euclidean\", algorithm='brute'))]\n",
        "pipe = Pipeline(steps=steps)\n",
        "pipe.fit(X_train, y_train)\n",
        "y_pipe = pipe.predict(X_test)\n",
        "accuracy_score(y_pipe, y_test)"
      ],
      "id": "ed921def",
      "execution_count": null,
      "outputs": []
    },
    {
      "cell_type": "markdown",
      "metadata": {},
      "source": [
        "## Exercises and Projects\n",
        "\n",
        "\n",
        "::: {#exr-ex2handwritten}\n",
        "\n",
        "Handwritten example\n",
        ":label: ex2handwritten\n",
        "Consider the 1-dimensional data set shown below.\n"
      ],
      "id": "c304f4f6"
    },
    {
      "cell_type": "code",
      "metadata": {},
      "source": [
        "#| echo: false\n",
        "\n",
        "import pandas as pd\n",
        "name = ['x', '1.5', '2.5', '3.5', '4.5', '5.0', '5.5', '5.75', '6.5', '7.5', '10.5']\n",
        "data = [['y', '+', '+', '-', '-', '-', '+', '+', '-', '+', '+']]\n",
        "df = pd.DataFrame(data, columns=name)\n",
        "df.style.hide(axis='index')"
      ],
      "id": "0faca476",
      "execution_count": null,
      "outputs": []
    },
    {
      "cell_type": "markdown",
      "metadata": {},
      "source": [
        "Please use the data to compute the class of $x=5.5$ according to $k=1$, $3$, $6$ and $9$. Please compute everything by hand.\n",
        "\n",
        ":::\n",
        "\n",
        "\n",
        "::: {#exr-ex2titanic}\n",
        "# Titanic \n",
        "Please download the titanic dataset from [here](./assests/datasets/titanic.csv). This is the same dataset from what you dealt with in Chapter 1 Exercises. Therefore you may use the same way to prepare the data. \n",
        "\n",
        "Please analyze the dataset and build a k-NN model to predict whether someone is survived or not. Note that you have to pick `k` at the end.\n",
        ":::\n"
      ],
      "id": "bfbddc3e"
    }
  ],
  "metadata": {
    "kernelspec": {
      "name": "base23",
      "language": "python",
      "display_name": "base23"
    }
  },
  "nbformat": 4,
  "nbformat_minor": 5
}