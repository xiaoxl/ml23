{
 "cells": [
  {
   "cell_type": "markdown",
   "metadata": {},
   "source": [
    "# `AdaBoost`\n",
    "\n",
    "This is the first algorithm that successfully implements the boosting idea. `AdaBoost` is short for *Adaptive Boosting*. \n",
    "\n",
    "## Weighted dataset\n",
    "We firstly talk about training a Decision Tree on a weighted dataset. The idea is very simple. When building a Decision Tree, we use some method to determine the split. In this course the Gini impurity is used. There are at least two other methods: cross-entropy and misclassified rate. For all three, the count of the elemnts in some classes is the essnetial part. To train the model over the weighted dataset, we just need to upgrade the count of the elements by the weighted count. \n",
    "\n",
    "\n",
    "````{prf:example}\n",
    "Consider the following data:\n",
    "\n",
    "```{list-table} Dataset\n",
    ":header-rows: 1\n",
    "\n",
    "* - $x_0$\n",
    "  - $x_1$\n",
    "  - $y$\n",
    "  - Weight\n",
    "* - 1.0\n",
    "  - 2.1\n",
    "  - $+$\n",
    "  - 0.5\n",
    "* - 2.0\n",
    "  - 1.1\n",
    "  - $+$\n",
    "  - 0.125\n",
    "* - 1.3\n",
    "  - 1.0\n",
    "  - $-$\n",
    "  - 0.125\n",
    "* - 1.0\n",
    "  - 1.0\n",
    "  - $-$\n",
    "  - 0.125\n",
    "* - 2.0\n",
    "  - 1.0\n",
    "  - $+$\n",
    "  - 0.125\n",
    "```\n",
    "The weighted Gini impurity is\n",
    "\n",
    "$$\n",
    "\\text{WeightedGini}=1-(0.5+0.125+0.125)^2-(0.125+0.125)^2=0.375.\n",
    "$$\n",
    "\n",
    "You may see that the original Gini impurity is just the weighted Gini impurity with equal weights. Therefore the first tree we get from `AdaBoost` (see below) is the same tree we get from the Decision Tree model in Chpater 3.\n",
    "````\n",
    "\n",
    "## General process\n",
    "\n",
    "Here is the rough description of `AdaBoost`.\n",
    "\n",
    "1. Assign weights to each data point. At the begining we could assign weights equally. \n",
    "2. Train a classifier based on the weighted dataset, and use it to predict on the training set. Find out all wrong answers.\n",
    "3. Adjust the weights, by inceasing the weights of data points that are done wrongly in the previous generation.\n",
    "4. Train a new classifier using the new weighted dataset. Predict on the training set and record the wrong answers. \n",
    "5. Repeat the above process to get many classifiers. The training stops either by hitting $0$ error rate, or after a specific number of rounds.\n",
    "6. The final results is based on the weighted total votes from all classifiers we trained.\n",
    "\n",
    "Now let us talk about the details. Assume there are $N$ data points. Then the inital weights are set to be $\\dfrac1N$. There are 2 sets of weights. Let $w^{(i)}$ be weights of the $i$th data points. Let $\\alpha_j$ be the weights of the $j$th classifier. After training the $j$th classifier, the error rate is denoted by $e_j$. Then we have \n",
    "\n",
    "$$\n",
    "e_j=\\frac{\\text{the total weights of data points that are misclassified by the $j$th classifier}}{\\text{the total weights of data points}}\n",
    "$$\n",
    "\n",
    "$$\n",
    "\\alpha_j=\\eta\\ln\\left(\\dfrac{1-e_j}{e_j}\\right).\n",
    "$$\n",
    "\n",
    "$$\n",
    "w^{(i)}_{\\text{new}}\\leftarrow\\text{normalization} \\leftarrow w^{(i)}\\leftarrow\\begin{cases}w^{(i)}&\\text{if the $i$th data is correctly classified,}\\\\w^{(i)}\\exp(\\alpha_j)&\\text{if the $i$th data is misclassified.}\\end{cases}\n",
    "$$\n",
    "\n",
    "\n",
    "```{note}\n",
    "The first tree is the same tree we get from the regular Decision Tree model. In the rest of the training process, more weights are put on the data that we are wrong in the previous iteration. Therefore the process is the mimic of \"learning from mistakes\".\n",
    "```\n",
    "\n",
    "```{note}\n",
    "The $\\eta$ in computing $\\alpha_j$ is called the *learning rate*. It is a hyperparameter that will be specified mannually. It does exactly what it appears to do: alter the weights of each classifier. The default is `1.0`. When the number is very small (which is recommended although it can be any positive number), more iterations will be expected. \n",
    "```\n",
    "\n",
    "\n",
    "## Example 1: the `iris` dataset\n",
    "Similar to all previous models, `sklearn` provides `AdaBoostClassifier`. The way to use it is similar to previous models. Note that although we are able to use any classifiers for `AdaBoost`, the most popular choice is Decision Tree with `max_depth=1`. This type of Decision Trees are also called *Decision Stumps*.\n",
    "\n",
    "In the following examples, we initialize an `AdaBoostClassifier` with 500 Decision Stumps and `learning_rate=0.5`. "
   ]
  },
  {
   "cell_type": "code",
   "execution_count": 3,
   "metadata": {},
   "outputs": [],
   "source": [
    "from sklearn.tree import DecisionTreeClassifier\n",
    "from sklearn.ensemble import AdaBoostClassifier\n",
    "\n",
    "ada_clf = AdaBoostClassifier(DecisionTreeClassifier(max_depth=1), n_estimators=1000,\n",
    "                             learning_rate=.5)"
   ]
  },
  {
   "cell_type": "markdown",
   "metadata": {},
   "source": [
    "We will use the `iris` dataset for illustration. The cross_val_score is calculated as follows."
   ]
  },
  {
   "cell_type": "code",
   "execution_count": 3,
   "metadata": {},
   "outputs": [
    {
     "data": {
      "text/plain": [
       "0.9533333333333334"
      ]
     },
     "execution_count": 3,
     "metadata": {},
     "output_type": "execute_result"
    }
   ],
   "source": [
    "from sklearn.model_selection import cross_val_score\n",
    "from sklearn.datasets import load_iris\n",
    "\n",
    "X, y = load_iris(return_X_y=True)\n",
    "scores = cross_val_score(ada_clf, X, y, cv=5)\n",
    "scores.mean()"
   ]
  },
  {
   "cell_type": "markdown",
   "metadata": {},
   "source": [
    "## Example 2: the Horse Colic dataset\n",
    "This dataset is from UCI Machine Learning Repository. The data is about whether horses survive if they get a disease called Colic. The dataset is preprocessed as follows. Note that there are a few missing values inside, and we replace them with `0`. "
   ]
  },
  {
   "cell_type": "code",
   "execution_count": 1,
   "metadata": {},
   "outputs": [],
   "source": [
    "import pandas as pd\n",
    "import numpy as np\n",
    "from sklearn.model_selection import train_test_split\n",
    "\n",
    "url = 'http://archive.ics.uci.edu/ml/machine-learning-databases/horse-colic/horse-colic.data'\n",
    "df = pd.read_csv(url, delim_whitespace=True, header=None)\n",
    "df = df.replace(\"?\", np.NaN)\n",
    "df = df.fillna(0)\n",
    "X = df.iloc[:, 1:].to_numpy().astype(float)\n",
    "y = df[0].to_numpy().astype(int)\n",
    "X_train, X_test, y_train, y_test = train_test_split(X, y, test_size=0.15)"
   ]
  },
  {
   "cell_type": "code",
   "execution_count": 10,
   "metadata": {},
   "outputs": [
    {
     "data": {
      "text/plain": [
       "0.8222222222222222"
      ]
     },
     "execution_count": 10,
     "metadata": {},
     "output_type": "execute_result"
    }
   ],
   "source": [
    "clf = AdaBoostClassifier(DecisionTreeClassifier(max_depth=1), n_estimators=50, learning_rate=0.2)\n",
    "clf.fit(X_train, y_train)\n",
    "clf.score(X_test, y_test)"
   ]
  },
  {
   "cell_type": "code",
   "execution_count": null,
   "metadata": {},
   "outputs": [],
   "source": []
  }
 ],
 "metadata": {
  "kernelspec": {
   "display_name": "Python 3.9.12 ('ml22')",
   "language": "python",
   "name": "python3"
  },
  "language_info": {
   "codemirror_mode": {
    "name": "ipython",
    "version": 3
   },
   "file_extension": ".py",
   "mimetype": "text/x-python",
   "name": "python",
   "nbconvert_exporter": "python",
   "pygments_lexer": "ipython3",
   "version": "3.9.12"
  },
  "orig_nbformat": 4,
  "vscode": {
   "interpreter": {
    "hash": "4eae2d79809986d0872e4e364459f0c9575ffff27a18380d5ee1c7bc910cc873"
   }
  }
 },
 "nbformat": 4,
 "nbformat_minor": 2
}
